{
  "nbformat": 4,
  "nbformat_minor": 0,
  "metadata": {
    "colab": {
      "provenance": [],
      "gpuType": "T4"
    },
    "kernelspec": {
      "name": "python3",
      "display_name": "Python 3"
    },
    "language_info": {
      "name": "python"
    },
    "accelerator": "GPU"
  },
  "cells": [
    {
      "cell_type": "code",
      "execution_count": null,
      "metadata": {
        "colab": {
          "base_uri": "https://localhost:8080/"
        },
        "id": "U7lmEnxGzAPc",
        "outputId": "ec09a77e-33f0-4b1f-dc68-1046b2c99002"
      },
      "outputs": [
        {
          "output_type": "stream",
          "name": "stdout",
          "text": [
            "Mounted at /content/drive\n"
          ]
        }
      ],
      "source": [
        "from google.colab import drive\n",
        "drive.mount('/content/drive', force_remount=True)\n",
        "\n",
        "\n"
      ]
    },
    {
      "cell_type": "code",
      "source": [
        "import os\n",
        "\n",
        "BASE_DIR = '/content/drive/MyDrive/visual_stream'\n",
        "CHECKPOINT_DIR = os.path.join(BASE_DIR, 'checkpoints')\n",
        "MODEL_DIR = os.path.join(BASE_DIR, 'model')\n",
        "\n",
        "DATA_DIR = '/content/dataset'"
      ],
      "metadata": {
        "id": "ftdi44C_3JJc"
      },
      "execution_count": null,
      "outputs": []
    },
    {
      "cell_type": "code",
      "source": [
        "!unzip -o '/content/drive/MyDrive/avec2014_preprocessed.zip' -d /content\n",
        "\n",
        "\n",
        "\n"
      ],
      "metadata": {
        "colab": {
          "base_uri": "https://localhost:8080/"
        },
        "id": "o22eq3SezlTY",
        "outputId": "68238e5a-7f3c-4866-8e6f-cd693014401c"
      },
      "execution_count": null,
      "outputs": [
        {
          "output_type": "stream",
          "name": "stdout",
          "text": [
            "\u001b[1;30;43mStreaming output truncated to the last 5000 lines.\u001b[0m\n",
            "  inflating: /content/dataset/avec14/image/train_Northwind/317_3_Northwind_video_aligned/0213.jpg  \n",
            "  inflating: /content/dataset/avec14/image/train_Northwind/317_3_Northwind_video_aligned/0216.jpg  \n",
            "  inflating: /content/dataset/avec14/image/train_Northwind/317_3_Northwind_video_aligned/0219.jpg  \n",
            "  inflating: /content/dataset/avec14/image/train_Northwind/317_3_Northwind_video_aligned/0222.jpg  \n",
            "  inflating: /content/dataset/avec14/image/train_Northwind/317_3_Northwind_video_aligned/0225.jpg  \n",
            "  inflating: /content/dataset/avec14/image/train_Northwind/317_3_Northwind_video_aligned/0228.jpg  \n",
            "  inflating: /content/dataset/avec14/image/train_Northwind/317_3_Northwind_video_aligned/0231.jpg  \n",
            "  inflating: /content/dataset/avec14/image/train_Northwind/317_3_Northwind_video_aligned/0234.jpg  \n",
            "  inflating: /content/dataset/avec14/image/train_Northwind/317_3_Northwind_video_aligned/0237.jpg  \n",
            "  inflating: /content/dataset/avec14/image/train_Northwind/317_3_Northwind_video_aligned/0240.jpg  \n",
            "  inflating: /content/dataset/avec14/image/train_Northwind/317_3_Northwind_video_aligned/0243.jpg  \n",
            "  inflating: /content/dataset/avec14/image/train_Northwind/317_3_Northwind_video_aligned/0246.jpg  \n",
            "  inflating: /content/dataset/avec14/image/train_Northwind/317_3_Northwind_video_aligned/0249.jpg  \n",
            "  inflating: /content/dataset/avec14/image/train_Northwind/317_3_Northwind_video_aligned/0252.jpg  \n",
            "  inflating: /content/dataset/avec14/image/train_Northwind/317_3_Northwind_video_aligned/0255.jpg  \n",
            "  inflating: /content/dataset/avec14/image/train_Northwind/317_3_Northwind_video_aligned/0258.jpg  \n",
            "  inflating: /content/dataset/avec14/image/train_Northwind/317_3_Northwind_video_aligned/0261.jpg  \n",
            "  inflating: /content/dataset/avec14/image/train_Northwind/317_3_Northwind_video_aligned/0264.jpg  \n",
            "  inflating: /content/dataset/avec14/image/train_Northwind/317_3_Northwind_video_aligned/0267.jpg  \n",
            "  inflating: /content/dataset/avec14/image/train_Northwind/317_3_Northwind_video_aligned/0270.jpg  \n",
            "  inflating: /content/dataset/avec14/image/train_Northwind/317_3_Northwind_video_aligned/0273.jpg  \n",
            "  inflating: /content/dataset/avec14/image/train_Northwind/317_3_Northwind_video_aligned/0276.jpg  \n",
            "  inflating: /content/dataset/avec14/image/train_Northwind/317_3_Northwind_video_aligned/0279.jpg  \n",
            "  inflating: /content/dataset/avec14/image/train_Northwind/317_3_Northwind_video_aligned/0282.jpg  \n",
            "  inflating: /content/dataset/avec14/image/train_Northwind/317_3_Northwind_video_aligned/0285.jpg  \n",
            "  inflating: /content/dataset/avec14/image/train_Northwind/317_3_Northwind_video_aligned/0288.jpg  \n",
            "  inflating: /content/dataset/avec14/image/train_Northwind/317_3_Northwind_video_aligned/0291.jpg  \n",
            "  inflating: /content/dataset/avec14/image/train_Northwind/317_3_Northwind_video_aligned/0294.jpg  \n",
            "  inflating: /content/dataset/avec14/image/train_Northwind/317_3_Northwind_video_aligned/0297.jpg  \n",
            "  inflating: /content/dataset/avec14/image/train_Northwind/317_3_Northwind_video_aligned/0300.jpg  \n",
            "  inflating: /content/dataset/avec14/image/train_Northwind/317_3_Northwind_video_aligned/0303.jpg  \n",
            "  inflating: /content/dataset/avec14/image/train_Northwind/317_3_Northwind_video_aligned/0306.jpg  \n",
            "  inflating: /content/dataset/avec14/image/train_Northwind/317_3_Northwind_video_aligned/0309.jpg  \n",
            "  inflating: /content/dataset/avec14/image/train_Northwind/317_3_Northwind_video_aligned/0312.jpg  \n",
            "  inflating: /content/dataset/avec14/image/train_Northwind/317_3_Northwind_video_aligned/0315.jpg  \n",
            "  inflating: /content/dataset/avec14/image/train_Northwind/317_3_Northwind_video_aligned/0318.jpg  \n",
            "  inflating: /content/dataset/avec14/image/train_Northwind/317_3_Northwind_video_aligned/0321.jpg  \n",
            "  inflating: /content/dataset/avec14/image/train_Northwind/317_3_Northwind_video_aligned/0324.jpg  \n",
            "  inflating: /content/dataset/avec14/image/train_Northwind/317_3_Northwind_video_aligned/0327.jpg  \n",
            "  inflating: /content/dataset/avec14/image/train_Northwind/317_3_Northwind_video_aligned/0330.jpg  \n",
            "  inflating: /content/dataset/avec14/image/train_Northwind/317_3_Northwind_video_aligned/0333.jpg  \n",
            "  inflating: /content/dataset/avec14/image/train_Northwind/317_3_Northwind_video_aligned/0336.jpg  \n",
            "  inflating: /content/dataset/avec14/image/train_Northwind/317_3_Northwind_video_aligned/0339.jpg  \n",
            "  inflating: /content/dataset/avec14/image/train_Northwind/317_3_Northwind_video_aligned/0342.jpg  \n",
            "  inflating: /content/dataset/avec14/image/train_Northwind/317_3_Northwind_video_aligned/0345.jpg  \n",
            "  inflating: /content/dataset/avec14/image/train_Northwind/317_3_Northwind_video_aligned/0348.jpg  \n",
            "  inflating: /content/dataset/avec14/image/train_Northwind/317_3_Northwind_video_aligned/0351.jpg  \n",
            "  inflating: /content/dataset/avec14/image/train_Northwind/317_3_Northwind_video_aligned/0354.jpg  \n",
            "  inflating: /content/dataset/avec14/image/train_Northwind/317_3_Northwind_video_aligned/0357.jpg  \n",
            "  inflating: /content/dataset/avec14/image/train_Northwind/317_3_Northwind_video_aligned/0360.jpg  \n",
            "  inflating: /content/dataset/avec14/image/train_Northwind/317_3_Northwind_video_aligned/0363.jpg  \n",
            "  inflating: /content/dataset/avec14/image/train_Northwind/317_3_Northwind_video_aligned/0366.jpg  \n",
            "  inflating: /content/dataset/avec14/image/train_Northwind/317_3_Northwind_video_aligned/0369.jpg  \n",
            "  inflating: /content/dataset/avec14/image/train_Northwind/317_3_Northwind_video_aligned/0372.jpg  \n",
            "  inflating: /content/dataset/avec14/image/train_Northwind/317_3_Northwind_video_aligned/0375.jpg  \n",
            "  inflating: /content/dataset/avec14/image/train_Northwind/317_3_Northwind_video_aligned/0378.jpg  \n",
            "  inflating: /content/dataset/avec14/image/train_Northwind/317_3_Northwind_video_aligned/0381.jpg  \n",
            "  inflating: /content/dataset/avec14/image/train_Northwind/317_3_Northwind_video_aligned/0384.jpg  \n",
            "  inflating: /content/dataset/avec14/image/train_Northwind/317_3_Northwind_video_aligned/0387.jpg  \n",
            "  inflating: /content/dataset/avec14/image/train_Northwind/317_3_Northwind_video_aligned/0390.jpg  \n",
            "  inflating: /content/dataset/avec14/image/train_Northwind/317_3_Northwind_video_aligned/0393.jpg  \n",
            "  inflating: /content/dataset/avec14/image/train_Northwind/317_3_Northwind_video_aligned/0396.jpg  \n",
            "  inflating: /content/dataset/avec14/image/train_Northwind/317_3_Northwind_video_aligned/0399.jpg  \n",
            "  inflating: /content/dataset/avec14/image/train_Northwind/317_3_Northwind_video_aligned/0402.jpg  \n",
            "  inflating: /content/dataset/avec14/image/train_Northwind/317_3_Northwind_video_aligned/0405.jpg  \n",
            "  inflating: /content/dataset/avec14/image/train_Northwind/317_3_Northwind_video_aligned/0408.jpg  \n",
            "  inflating: /content/dataset/avec14/image/train_Northwind/317_3_Northwind_video_aligned/0411.jpg  \n",
            "  inflating: /content/dataset/avec14/image/train_Northwind/317_3_Northwind_video_aligned/0414.jpg  \n",
            "  inflating: /content/dataset/avec14/image/train_Northwind/317_3_Northwind_video_aligned/0417.jpg  \n",
            "  inflating: /content/dataset/avec14/image/train_Northwind/317_3_Northwind_video_aligned/0420.jpg  \n",
            "  inflating: /content/dataset/avec14/image/train_Northwind/317_3_Northwind_video_aligned/0423.jpg  \n",
            "  inflating: /content/dataset/avec14/image/train_Northwind/317_3_Northwind_video_aligned/0426.jpg  \n",
            "  inflating: /content/dataset/avec14/image/train_Northwind/317_3_Northwind_video_aligned/0429.jpg  \n",
            "  inflating: /content/dataset/avec14/image/train_Northwind/317_3_Northwind_video_aligned/0432.jpg  \n",
            "  inflating: /content/dataset/avec14/image/train_Northwind/317_3_Northwind_video_aligned/0435.jpg  \n",
            "  inflating: /content/dataset/avec14/image/train_Northwind/317_3_Northwind_video_aligned/0438.jpg  \n",
            "  inflating: /content/dataset/avec14/image/train_Northwind/317_3_Northwind_video_aligned/0441.jpg  \n",
            "  inflating: /content/dataset/avec14/image/train_Northwind/317_3_Northwind_video_aligned/0444.jpg  \n",
            "  inflating: /content/dataset/avec14/image/train_Northwind/317_3_Northwind_video_aligned/0447.jpg  \n",
            "  inflating: /content/dataset/avec14/image/train_Northwind/317_3_Northwind_video_aligned/0450.jpg  \n",
            "  inflating: /content/dataset/avec14/image/train_Northwind/317_3_Northwind_video_aligned/0453.jpg  \n",
            "  inflating: /content/dataset/avec14/image/train_Northwind/317_3_Northwind_video_aligned/0456.jpg  \n",
            "  inflating: /content/dataset/avec14/image/train_Northwind/317_3_Northwind_video_aligned/0459.jpg  \n",
            "  inflating: /content/dataset/avec14/image/train_Northwind/317_3_Northwind_video_aligned/0462.jpg  \n",
            "  inflating: /content/dataset/avec14/image/train_Northwind/317_3_Northwind_video_aligned/0465.jpg  \n",
            "  inflating: /content/dataset/avec14/image/train_Northwind/317_3_Northwind_video_aligned/0468.jpg  \n",
            "  inflating: /content/dataset/avec14/image/train_Northwind/317_3_Northwind_video_aligned/0471.jpg  \n",
            "  inflating: /content/dataset/avec14/image/train_Northwind/317_3_Northwind_video_aligned/0474.jpg  \n",
            "  inflating: /content/dataset/avec14/image/train_Northwind/317_3_Northwind_video_aligned/0477.jpg  \n",
            "  inflating: /content/dataset/avec14/image/train_Northwind/317_3_Northwind_video_aligned/0480.jpg  \n",
            "  inflating: /content/dataset/avec14/image/train_Northwind/317_3_Northwind_video_aligned/0483.jpg  \n",
            "  inflating: /content/dataset/avec14/image/train_Northwind/317_3_Northwind_video_aligned/0486.jpg  \n",
            "  inflating: /content/dataset/avec14/image/train_Northwind/317_3_Northwind_video_aligned/0489.jpg  \n",
            "  inflating: /content/dataset/avec14/image/train_Northwind/317_3_Northwind_video_aligned/0492.jpg  \n",
            "  inflating: /content/dataset/avec14/image/train_Northwind/317_3_Northwind_video_aligned/0495.jpg  \n",
            "  inflating: /content/dataset/avec14/image/train_Northwind/317_3_Northwind_video_aligned/0498.jpg  \n",
            "  inflating: /content/dataset/avec14/image/train_Northwind/317_3_Northwind_video_aligned/0501.jpg  \n",
            "  inflating: /content/dataset/avec14/image/train_Northwind/317_3_Northwind_video_aligned/0504.jpg  \n",
            "  inflating: /content/dataset/avec14/image/train_Northwind/317_3_Northwind_video_aligned/0507.jpg  \n",
            "  inflating: /content/dataset/avec14/image/train_Northwind/317_3_Northwind_video_aligned/0510.jpg  \n",
            "  inflating: /content/dataset/avec14/image/train_Northwind/317_3_Northwind_video_aligned/0513.jpg  \n",
            "  inflating: /content/dataset/avec14/image/train_Northwind/317_3_Northwind_video_aligned/0516.jpg  \n",
            "  inflating: /content/dataset/avec14/image/train_Northwind/317_3_Northwind_video_aligned/0519.jpg  \n",
            "  inflating: /content/dataset/avec14/image/train_Northwind/317_3_Northwind_video_aligned/0522.jpg  \n",
            "  inflating: /content/dataset/avec14/image/train_Northwind/317_3_Northwind_video_aligned/0525.jpg  \n",
            "  inflating: /content/dataset/avec14/image/train_Northwind/317_3_Northwind_video_aligned/0528.jpg  \n",
            "  inflating: /content/dataset/avec14/image/train_Northwind/317_3_Northwind_video_aligned/0531.jpg  \n",
            "  inflating: /content/dataset/avec14/image/train_Northwind/317_3_Northwind_video_aligned/0534.jpg  \n",
            "  inflating: /content/dataset/avec14/image/train_Northwind/317_3_Northwind_video_aligned/0537.jpg  \n",
            "  inflating: /content/dataset/avec14/image/train_Northwind/317_3_Northwind_video_aligned/0540.jpg  \n",
            "  inflating: /content/dataset/avec14/image/train_Northwind/317_3_Northwind_video_aligned/0543.jpg  \n",
            "  inflating: /content/dataset/avec14/image/train_Northwind/317_3_Northwind_video_aligned/0546.jpg  \n",
            "  inflating: /content/dataset/avec14/image/train_Northwind/317_3_Northwind_video_aligned/0549.jpg  \n",
            "  inflating: /content/dataset/avec14/image/train_Northwind/317_3_Northwind_video_aligned/0552.jpg  \n",
            "  inflating: /content/dataset/avec14/image/train_Northwind/317_3_Northwind_video_aligned/0555.jpg  \n",
            "  inflating: /content/dataset/avec14/image/train_Northwind/317_3_Northwind_video_aligned/0558.jpg  \n",
            "  inflating: /content/dataset/avec14/image/train_Northwind/317_3_Northwind_video_aligned/0561.jpg  \n",
            "  inflating: /content/dataset/avec14/image/train_Northwind/317_3_Northwind_video_aligned/0564.jpg  \n",
            "  inflating: /content/dataset/avec14/image/train_Northwind/317_3_Northwind_video_aligned/0567.jpg  \n",
            "  inflating: /content/dataset/avec14/image/train_Northwind/317_3_Northwind_video_aligned/0570.jpg  \n",
            "  inflating: /content/dataset/avec14/image/train_Northwind/317_3_Northwind_video_aligned/0573.jpg  \n",
            "  inflating: /content/dataset/avec14/image/train_Northwind/317_3_Northwind_video_aligned/0576.jpg  \n",
            "  inflating: /content/dataset/avec14/image/train_Northwind/317_3_Northwind_video_aligned/0579.jpg  \n",
            "  inflating: /content/dataset/avec14/image/train_Northwind/317_3_Northwind_video_aligned/0582.jpg  \n",
            "  inflating: /content/dataset/avec14/image/train_Northwind/317_3_Northwind_video_aligned/0585.jpg  \n",
            "  inflating: /content/dataset/avec14/image/train_Northwind/317_3_Northwind_video_aligned/0588.jpg  \n",
            "  inflating: /content/dataset/avec14/image/train_Northwind/317_3_Northwind_video_aligned/0591.jpg  \n",
            "  inflating: /content/dataset/avec14/image/train_Northwind/317_3_Northwind_video_aligned/0594.jpg  \n",
            "  inflating: /content/dataset/avec14/image/train_Northwind/317_3_Northwind_video_aligned/0597.jpg  \n",
            "  inflating: /content/dataset/avec14/image/train_Northwind/317_3_Northwind_video_aligned/0600.jpg  \n",
            "  inflating: /content/dataset/avec14/image/train_Northwind/317_3_Northwind_video_aligned/0603.jpg  \n",
            "  inflating: /content/dataset/avec14/image/train_Northwind/317_3_Northwind_video_aligned/0606.jpg  \n",
            "  inflating: /content/dataset/avec14/image/train_Northwind/317_3_Northwind_video_aligned/0609.jpg  \n",
            "  inflating: /content/dataset/avec14/image/train_Northwind/317_3_Northwind_video_aligned/0612.jpg  \n",
            "  inflating: /content/dataset/avec14/image/train_Northwind/317_3_Northwind_video_aligned/0615.jpg  \n",
            "  inflating: /content/dataset/avec14/image/train_Northwind/317_3_Northwind_video_aligned/0618.jpg  \n",
            "  inflating: /content/dataset/avec14/image/train_Northwind/317_3_Northwind_video_aligned/0621.jpg  \n",
            "  inflating: /content/dataset/avec14/image/train_Northwind/317_3_Northwind_video_aligned/0624.jpg  \n",
            "  inflating: /content/dataset/avec14/image/train_Northwind/317_3_Northwind_video_aligned/0627.jpg  \n",
            "  inflating: /content/dataset/avec14/image/train_Northwind/317_3_Northwind_video_aligned/0630.jpg  \n",
            "  inflating: /content/dataset/avec14/image/train_Northwind/317_3_Northwind_video_aligned/0633.jpg  \n",
            "  inflating: /content/dataset/avec14/image/train_Northwind/317_3_Northwind_video_aligned/0636.jpg  \n",
            "  inflating: /content/dataset/avec14/image/train_Northwind/317_3_Northwind_video_aligned/0639.jpg  \n",
            "  inflating: /content/dataset/avec14/image/train_Northwind/317_3_Northwind_video_aligned/0642.jpg  \n",
            "  inflating: /content/dataset/avec14/image/train_Northwind/317_3_Northwind_video_aligned/0645.jpg  \n",
            "  inflating: /content/dataset/avec14/image/train_Northwind/317_3_Northwind_video_aligned/0648.jpg  \n",
            "  inflating: /content/dataset/avec14/image/train_Northwind/317_3_Northwind_video_aligned/0651.jpg  \n",
            "  inflating: /content/dataset/avec14/image/train_Northwind/317_3_Northwind_video_aligned/0654.jpg  \n",
            "  inflating: /content/dataset/avec14/image/train_Northwind/317_3_Northwind_video_aligned/0657.jpg  \n",
            "  inflating: /content/dataset/avec14/image/train_Northwind/317_3_Northwind_video_aligned/0660.jpg  \n",
            "  inflating: /content/dataset/avec14/image/train_Northwind/317_3_Northwind_video_aligned/0663.jpg  \n",
            "  inflating: /content/dataset/avec14/image/train_Northwind/317_3_Northwind_video_aligned/0666.jpg  \n",
            "  inflating: /content/dataset/avec14/image/train_Northwind/317_3_Northwind_video_aligned/0669.jpg  \n",
            "  inflating: /content/dataset/avec14/image/train_Northwind/317_3_Northwind_video_aligned/0672.jpg  \n",
            "  inflating: /content/dataset/avec14/image/train_Northwind/317_3_Northwind_video_aligned/0675.jpg  \n",
            "  inflating: /content/dataset/avec14/image/train_Northwind/317_3_Northwind_video_aligned/0678.jpg  \n",
            "  inflating: /content/dataset/avec14/image/train_Northwind/317_3_Northwind_video_aligned/0681.jpg  \n",
            "  inflating: /content/dataset/avec14/image/train_Northwind/317_3_Northwind_video_aligned/0684.jpg  \n",
            "  inflating: /content/dataset/avec14/image/train_Northwind/317_3_Northwind_video_aligned/0687.jpg  \n",
            "  inflating: /content/dataset/avec14/image/train_Northwind/317_3_Northwind_video_aligned/0690.jpg  \n",
            "  inflating: /content/dataset/avec14/image/train_Northwind/317_3_Northwind_video_aligned/0693.jpg  \n",
            "  inflating: /content/dataset/avec14/image/train_Northwind/317_3_Northwind_video_aligned/0696.jpg  \n",
            "  inflating: /content/dataset/avec14/image/train_Northwind/317_3_Northwind_video_aligned/0699.jpg  \n",
            "  inflating: /content/dataset/avec14/image/train_Northwind/317_3_Northwind_video_aligned/0702.jpg  \n",
            "  inflating: /content/dataset/avec14/image/train_Northwind/317_3_Northwind_video_aligned/0705.jpg  \n",
            "  inflating: /content/dataset/avec14/image/train_Northwind/317_3_Northwind_video_aligned/0708.jpg  \n",
            "  inflating: /content/dataset/avec14/image/train_Northwind/317_3_Northwind_video_aligned/0711.jpg  \n",
            "  inflating: /content/dataset/avec14/image/train_Northwind/317_3_Northwind_video_aligned/0714.jpg  \n",
            "  inflating: /content/dataset/avec14/image/train_Northwind/317_3_Northwind_video_aligned/0717.jpg  \n",
            "  inflating: /content/dataset/avec14/image/train_Northwind/317_3_Northwind_video_aligned/0720.jpg  \n",
            "  inflating: /content/dataset/avec14/image/train_Northwind/317_3_Northwind_video_aligned/0723.jpg  \n",
            "  inflating: /content/dataset/avec14/image/train_Northwind/317_3_Northwind_video_aligned/0726.jpg  \n",
            "  inflating: /content/dataset/avec14/image/train_Northwind/317_3_Northwind_video_aligned/0729.jpg  \n",
            "  inflating: /content/dataset/avec14/image/train_Northwind/317_3_Northwind_video_aligned/0732.jpg  \n",
            "  inflating: /content/dataset/avec14/image/train_Northwind/317_3_Northwind_video_aligned/0735.jpg  \n",
            "  inflating: /content/dataset/avec14/image/train_Northwind/317_3_Northwind_video_aligned/0738.jpg  \n",
            "  inflating: /content/dataset/avec14/image/train_Northwind/317_3_Northwind_video_aligned/0741.jpg  \n",
            "  inflating: /content/dataset/avec14/image/train_Northwind/317_3_Northwind_video_aligned/0744.jpg  \n",
            "  inflating: /content/dataset/avec14/image/train_Northwind/317_3_Northwind_video_aligned/0747.jpg  \n",
            "  inflating: /content/dataset/avec14/image/train_Northwind/317_3_Northwind_video_aligned/0750.jpg  \n",
            "  inflating: /content/dataset/avec14/image/train_Northwind/317_3_Northwind_video_aligned/0753.jpg  \n",
            "  inflating: /content/dataset/avec14/image/train_Northwind/317_3_Northwind_video_aligned/0756.jpg  \n",
            "  inflating: /content/dataset/avec14/image/train_Northwind/317_3_Northwind_video_aligned/0759.jpg  \n",
            "  inflating: /content/dataset/avec14/image/train_Northwind/317_3_Northwind_video_aligned/0762.jpg  \n",
            "  inflating: /content/dataset/avec14/image/train_Northwind/317_3_Northwind_video_aligned/0765.jpg  \n",
            "  inflating: /content/dataset/avec14/image/train_Northwind/317_3_Northwind_video_aligned/0768.jpg  \n",
            "  inflating: /content/dataset/avec14/image/train_Northwind/317_3_Northwind_video_aligned/0771.jpg  \n",
            "  inflating: /content/dataset/avec14/image/train_Northwind/317_3_Northwind_video_aligned/0774.jpg  \n",
            "  inflating: /content/dataset/avec14/image/train_Northwind/317_3_Northwind_video_aligned/0777.jpg  \n",
            "  inflating: /content/dataset/avec14/image/train_Northwind/317_3_Northwind_video_aligned/0780.jpg  \n",
            "  inflating: /content/dataset/avec14/image/train_Northwind/317_3_Northwind_video_aligned/0783.jpg  \n",
            "  inflating: /content/dataset/avec14/image/train_Northwind/317_3_Northwind_video_aligned/0786.jpg  \n",
            "  inflating: /content/dataset/avec14/image/train_Northwind/317_3_Northwind_video_aligned/0789.jpg  \n",
            "  inflating: /content/dataset/avec14/image/train_Northwind/317_3_Northwind_video_aligned/0792.jpg  \n",
            "  inflating: /content/dataset/avec14/image/train_Northwind/317_3_Northwind_video_aligned/0795.jpg  \n",
            "  inflating: /content/dataset/avec14/image/train_Northwind/317_3_Northwind_video_aligned/0798.jpg  \n",
            "  inflating: /content/dataset/avec14/image/train_Northwind/317_3_Northwind_video_aligned/0801.jpg  \n",
            "  inflating: /content/dataset/avec14/image/train_Northwind/317_3_Northwind_video_aligned/0804.jpg  \n",
            "  inflating: /content/dataset/avec14/image/train_Northwind/317_3_Northwind_video_aligned/0807.jpg  \n",
            "  inflating: /content/dataset/avec14/image/train_Northwind/317_3_Northwind_video_aligned/0810.jpg  \n",
            "  inflating: /content/dataset/avec14/image/train_Northwind/317_3_Northwind_video_aligned/0813.jpg  \n",
            "  inflating: /content/dataset/avec14/image/train_Northwind/317_3_Northwind_video_aligned/0816.jpg  \n",
            "  inflating: /content/dataset/avec14/image/train_Northwind/317_3_Northwind_video_aligned/0819.jpg  \n",
            "  inflating: /content/dataset/avec14/image/train_Northwind/317_3_Northwind_video_aligned/0822.jpg  \n",
            "  inflating: /content/dataset/avec14/image/train_Northwind/317_3_Northwind_video_aligned/0825.jpg  \n",
            "  inflating: /content/dataset/avec14/image/train_Northwind/317_3_Northwind_video_aligned/0828.jpg  \n",
            "  inflating: /content/dataset/avec14/image/train_Northwind/317_3_Northwind_video_aligned/0831.jpg  \n",
            "  inflating: /content/dataset/avec14/image/train_Northwind/317_3_Northwind_video_aligned/0834.jpg  \n",
            "  inflating: /content/dataset/avec14/image/train_Northwind/317_3_Northwind_video_aligned/0837.jpg  \n",
            "  inflating: /content/dataset/avec14/image/train_Northwind/317_3_Northwind_video_aligned/0840.jpg  \n",
            "  inflating: /content/dataset/avec14/image/train_Northwind/317_3_Northwind_video_aligned/0843.jpg  \n",
            "  inflating: /content/dataset/avec14/image/train_Northwind/317_3_Northwind_video_aligned/0846.jpg  \n",
            "  inflating: /content/dataset/avec14/image/train_Northwind/317_3_Northwind_video_aligned/0849.jpg  \n",
            "  inflating: /content/dataset/avec14/image/train_Northwind/317_3_Northwind_video_aligned/0852.jpg  \n",
            "  inflating: /content/dataset/avec14/image/train_Northwind/317_3_Northwind_video_aligned/0855.jpg  \n",
            "  inflating: /content/dataset/avec14/image/train_Northwind/317_3_Northwind_video_aligned/0858.jpg  \n",
            "  inflating: /content/dataset/avec14/image/train_Northwind/317_3_Northwind_video_aligned/0861.jpg  \n",
            "  inflating: /content/dataset/avec14/image/train_Northwind/317_3_Northwind_video_aligned/0864.jpg  \n",
            "  inflating: /content/dataset/avec14/image/train_Northwind/317_3_Northwind_video_aligned/0867.jpg  \n",
            "  inflating: /content/dataset/avec14/image/train_Northwind/317_3_Northwind_video_aligned/0870.jpg  \n",
            "  inflating: /content/dataset/avec14/image/train_Northwind/317_3_Northwind_video_aligned/0873.jpg  \n",
            "  inflating: /content/dataset/avec14/image/train_Northwind/317_3_Northwind_video_aligned/0876.jpg  \n",
            "  inflating: /content/dataset/avec14/image/train_Northwind/317_3_Northwind_video_aligned/0879.jpg  \n",
            "  inflating: /content/dataset/avec14/image/train_Northwind/317_3_Northwind_video_aligned/0882.jpg  \n",
            "  inflating: /content/dataset/avec14/image/train_Northwind/317_3_Northwind_video_aligned/0885.jpg  \n",
            "  inflating: /content/dataset/avec14/image/train_Northwind/317_3_Northwind_video_aligned/0888.jpg  \n",
            "  inflating: /content/dataset/avec14/image/train_Northwind/317_3_Northwind_video_aligned/0891.jpg  \n",
            "  inflating: /content/dataset/avec14/image/train_Northwind/317_3_Northwind_video_aligned/0894.jpg  \n",
            "  inflating: /content/dataset/avec14/image/train_Northwind/317_3_Northwind_video_aligned/0897.jpg  \n",
            "  inflating: /content/dataset/avec14/image/train_Northwind/317_3_Northwind_video_aligned/0900.jpg  \n",
            "  inflating: /content/dataset/avec14/image/train_Northwind/317_3_Northwind_video_aligned/0903.jpg  \n",
            "  inflating: /content/dataset/avec14/image/train_Northwind/317_3_Northwind_video_aligned/0906.jpg  \n",
            "  inflating: /content/dataset/avec14/image/train_Northwind/317_3_Northwind_video_aligned/0909.jpg  \n",
            "  inflating: /content/dataset/avec14/image/train_Northwind/317_3_Northwind_video_aligned/0912.jpg  \n",
            "  inflating: /content/dataset/avec14/image/train_Northwind/317_3_Northwind_video_aligned/0915.jpg  \n",
            "  inflating: /content/dataset/avec14/image/train_Northwind/317_3_Northwind_video_aligned/0918.jpg  \n",
            "  inflating: /content/dataset/avec14/image/train_Northwind/317_3_Northwind_video_aligned/0921.jpg  \n",
            "  inflating: /content/dataset/avec14/image/train_Northwind/317_3_Northwind_video_aligned/0924.jpg  \n",
            "  inflating: /content/dataset/avec14/image/train_Northwind/317_3_Northwind_video_aligned/0927.jpg  \n",
            "  inflating: /content/dataset/avec14/image/train_Northwind/317_3_Northwind_video_aligned/0930.jpg  \n",
            "  inflating: /content/dataset/avec14/image/train_Northwind/317_3_Northwind_video_aligned/0933.jpg  \n",
            "  inflating: /content/dataset/avec14/image/train_Northwind/317_3_Northwind_video_aligned/0936.jpg  \n",
            "  inflating: /content/dataset/avec14/image/train_Northwind/317_3_Northwind_video_aligned/0939.jpg  \n",
            "  inflating: /content/dataset/avec14/image/train_Northwind/317_3_Northwind_video_aligned/0942.jpg  \n",
            "  inflating: /content/dataset/avec14/image/train_Northwind/317_3_Northwind_video_aligned/0945.jpg  \n",
            "  inflating: /content/dataset/avec14/image/train_Northwind/317_3_Northwind_video_aligned/0948.jpg  \n",
            "  inflating: /content/dataset/avec14/image/train_Northwind/317_3_Northwind_video_aligned/0951.jpg  \n",
            "  inflating: /content/dataset/avec14/image/train_Northwind/317_3_Northwind_video_aligned/0954.jpg  \n",
            "  inflating: /content/dataset/avec14/image/train_Northwind/317_3_Northwind_video_aligned/0957.jpg  \n",
            "  inflating: /content/dataset/avec14/image/train_Northwind/317_3_Northwind_video_aligned/0960.jpg  \n",
            "  inflating: /content/dataset/avec14/image/train_Northwind/317_3_Northwind_video_aligned/0963.jpg  \n",
            "  inflating: /content/dataset/avec14/image/train_Northwind/317_3_Northwind_video_aligned/0966.jpg  \n",
            "  inflating: /content/dataset/avec14/image/train_Northwind/317_3_Northwind_video_aligned/0969.jpg  \n",
            "  inflating: /content/dataset/avec14/image/train_Northwind/317_3_Northwind_video_aligned/0972.jpg  \n",
            "  inflating: /content/dataset/avec14/image/train_Northwind/317_3_Northwind_video_aligned/0975.jpg  \n",
            "  inflating: /content/dataset/avec14/image/train_Northwind/317_3_Northwind_video_aligned/0978.jpg  \n",
            "  inflating: /content/dataset/avec14/image/train_Northwind/317_3_Northwind_video_aligned/0981.jpg  \n",
            "  inflating: /content/dataset/avec14/image/train_Northwind/317_3_Northwind_video_aligned/0984.jpg  \n",
            "  inflating: /content/dataset/avec14/image/train_Northwind/317_3_Northwind_video_aligned/0987.jpg  \n",
            "  inflating: /content/dataset/avec14/image/train_Northwind/317_3_Northwind_video_aligned/0990.jpg  \n",
            "  inflating: /content/dataset/avec14/image/train_Northwind/317_3_Northwind_video_aligned/0993.jpg  \n",
            "  inflating: /content/dataset/avec14/image/train_Northwind/317_3_Northwind_video_aligned/0996.jpg  \n",
            "  inflating: /content/dataset/avec14/image/train_Northwind/317_3_Northwind_video_aligned/0999.jpg  \n",
            "  inflating: /content/dataset/avec14/image/train_Northwind/317_3_Northwind_video_aligned/1002.jpg  \n",
            "  inflating: /content/dataset/avec14/image/train_Northwind/317_3_Northwind_video_aligned/1005.jpg  \n",
            "  inflating: /content/dataset/avec14/image/train_Northwind/317_3_Northwind_video_aligned/1008.jpg  \n",
            "  inflating: /content/dataset/avec14/image/train_Northwind/317_3_Northwind_video_aligned/1011.jpg  \n",
            "  inflating: /content/dataset/avec14/image/train_Northwind/317_3_Northwind_video_aligned/1014.jpg  \n",
            "  inflating: /content/dataset/avec14/image/train_Northwind/317_3_Northwind_video_aligned/1017.jpg  \n",
            "  inflating: /content/dataset/avec14/image/train_Northwind/317_3_Northwind_video_aligned/1020.jpg  \n",
            "  inflating: /content/dataset/avec14/image/train_Northwind/317_3_Northwind_video_aligned/1023.jpg  \n",
            "  inflating: /content/dataset/avec14/image/train_Northwind/317_3_Northwind_video_aligned/1026.jpg  \n",
            "  inflating: /content/dataset/avec14/image/train_Northwind/317_3_Northwind_video_aligned/1029.jpg  \n",
            "  inflating: /content/dataset/avec14/image/train_Northwind/317_3_Northwind_video_aligned/1032.jpg  \n",
            "  inflating: /content/dataset/avec14/image/train_Northwind/317_3_Northwind_video_aligned/1035.jpg  \n",
            "  inflating: /content/dataset/avec14/image/train_Northwind/317_3_Northwind_video_aligned/1038.jpg  \n",
            "  inflating: /content/dataset/avec14/image/train_Northwind/317_3_Northwind_video_aligned/1041.jpg  \n",
            "  inflating: /content/dataset/avec14/image/train_Northwind/317_3_Northwind_video_aligned/1044.jpg  \n",
            "  inflating: /content/dataset/avec14/image/train_Northwind/317_3_Northwind_video_aligned/1047.jpg  \n",
            "  inflating: /content/dataset/avec14/image/train_Northwind/317_3_Northwind_video_aligned/1050.jpg  \n",
            "  inflating: /content/dataset/avec14/image/train_Northwind/317_3_Northwind_video_aligned/1053.jpg  \n",
            "  inflating: /content/dataset/avec14/image/train_Northwind/317_3_Northwind_video_aligned/1056.jpg  \n",
            "  inflating: /content/dataset/avec14/image/train_Northwind/317_3_Northwind_video_aligned/1059.jpg  \n",
            "  inflating: /content/dataset/avec14/image/train_Northwind/317_3_Northwind_video_aligned/1062.jpg  \n",
            "  inflating: /content/dataset/avec14/image/train_Northwind/317_3_Northwind_video_aligned/1065.jpg  \n",
            "  inflating: /content/dataset/avec14/image/train_Northwind/317_3_Northwind_video_aligned/1068.jpg  \n",
            "  inflating: /content/dataset/avec14/image/train_Northwind/317_3_Northwind_video_aligned/1071.jpg  \n",
            "  inflating: /content/dataset/avec14/image/train_Northwind/317_3_Northwind_video_aligned/1074.jpg  \n",
            "  inflating: /content/dataset/avec14/image/train_Northwind/317_3_Northwind_video_aligned/1077.jpg  \n",
            "  inflating: /content/dataset/avec14/image/train_Northwind/317_3_Northwind_video_aligned/1080.jpg  \n",
            "  inflating: /content/dataset/avec14/image/train_Northwind/317_3_Northwind_video_aligned/1083.jpg  \n",
            "  inflating: /content/dataset/avec14/image/train_Northwind/317_3_Northwind_video_aligned/1086.jpg  \n",
            "  inflating: /content/dataset/avec14/image/train_Northwind/317_3_Northwind_video_aligned/1089.jpg  \n",
            "  inflating: /content/dataset/avec14/image/train_Northwind/317_3_Northwind_video_aligned/1092.jpg  \n",
            "  inflating: /content/dataset/avec14/image/train_Northwind/317_3_Northwind_video_aligned/1095.jpg  \n",
            "  inflating: /content/dataset/avec14/image/train_Northwind/317_3_Northwind_video_aligned/1098.jpg  \n",
            "  inflating: /content/dataset/avec14/image/train_Northwind/317_3_Northwind_video_aligned/1101.jpg  \n",
            "  inflating: /content/dataset/avec14/image/train_Northwind/317_3_Northwind_video_aligned/1104.jpg  \n",
            "  inflating: /content/dataset/avec14/image/train_Northwind/317_3_Northwind_video_aligned/1107.jpg  \n",
            "  inflating: /content/dataset/avec14/image/train_Northwind/317_3_Northwind_video_aligned/1110.jpg  \n",
            "  inflating: /content/dataset/avec14/image/train_Northwind/317_3_Northwind_video_aligned/1113.jpg  \n",
            "  inflating: /content/dataset/avec14/image/train_Northwind/317_3_Northwind_video_aligned/1116.jpg  \n",
            "  inflating: /content/dataset/avec14/image/train_Northwind/317_3_Northwind_video_aligned/1119.jpg  \n",
            "  inflating: /content/dataset/avec14/image/train_Northwind/317_3_Northwind_video_aligned/1122.jpg  \n",
            "  inflating: /content/dataset/avec14/image/train_Northwind/317_3_Northwind_video_aligned/1125.jpg  \n",
            "  inflating: /content/dataset/avec14/image/train_Northwind/317_3_Northwind_video_aligned/1128.jpg  \n",
            "  inflating: /content/dataset/avec14/image/train_Northwind/317_3_Northwind_video_aligned/1131.jpg  \n",
            "  inflating: /content/dataset/avec14/image/train_Northwind/317_3_Northwind_video_aligned/1134.jpg  \n",
            "  inflating: /content/dataset/avec14/image/train_Northwind/317_3_Northwind_video_aligned/1137.jpg  \n",
            "  inflating: /content/dataset/avec14/image/train_Northwind/317_3_Northwind_video_aligned/1140.jpg  \n",
            "  inflating: /content/dataset/avec14/image/train_Northwind/317_3_Northwind_video_aligned/1143.jpg  \n",
            "  inflating: /content/dataset/avec14/image/train_Northwind/317_3_Northwind_video_aligned/1146.jpg  \n",
            "  inflating: /content/dataset/avec14/image/train_Northwind/317_3_Northwind_video_aligned/1149.jpg  \n",
            "  inflating: /content/dataset/avec14/image/train_Northwind/317_3_Northwind_video_aligned/1152.jpg  \n",
            "  inflating: /content/dataset/avec14/image/train_Northwind/317_3_Northwind_video_aligned/1155.jpg  \n",
            "  inflating: /content/dataset/avec14/image/train_Northwind/317_3_Northwind_video_aligned/1158.jpg  \n",
            "  inflating: /content/dataset/avec14/image/train_Northwind/317_3_Northwind_video_aligned/1161.jpg  \n",
            "  inflating: /content/dataset/avec14/image/train_Northwind/317_3_Northwind_video_aligned/1164.jpg  \n",
            "  inflating: /content/dataset/avec14/image/train_Northwind/317_3_Northwind_video_aligned/1167.jpg  \n",
            "  inflating: /content/dataset/avec14/image/train_Northwind/317_3_Northwind_video_aligned/1170.jpg  \n",
            "  inflating: /content/dataset/avec14/image/train_Northwind/317_3_Northwind_video_aligned/1173.jpg  \n",
            "  inflating: /content/dataset/avec14/image/train_Northwind/317_3_Northwind_video_aligned/1176.jpg  \n",
            "  inflating: /content/dataset/avec14/image/train_Northwind/317_3_Northwind_video_aligned/1179.jpg  \n",
            "  inflating: /content/dataset/avec14/image/train_Northwind/317_3_Northwind_video_aligned/1182.jpg  \n",
            "  inflating: /content/dataset/avec14/image/train_Northwind/317_3_Northwind_video_aligned/1185.jpg  \n",
            "  inflating: /content/dataset/avec14/image/train_Northwind/317_3_Northwind_video_aligned/1188.jpg  \n",
            "  inflating: /content/dataset/avec14/image/train_Northwind/317_3_Northwind_video_aligned/1191.jpg  \n",
            "  inflating: /content/dataset/avec14/image/train_Northwind/317_3_Northwind_video_aligned/1194.jpg  \n",
            "  inflating: /content/dataset/avec14/image/train_Northwind/317_3_Northwind_video_aligned/1197.jpg  \n",
            "  inflating: /content/dataset/avec14/image/train_Northwind/317_3_Northwind_video_aligned/1200.jpg  \n",
            "  inflating: /content/dataset/avec14/image/train_Northwind/317_3_Northwind_video_aligned/1203.jpg  \n",
            "  inflating: /content/dataset/avec14/image/train_Northwind/317_3_Northwind_video_aligned/1206.jpg  \n",
            "  inflating: /content/dataset/avec14/image/train_Northwind/317_3_Northwind_video_aligned/1209.jpg  \n",
            "  inflating: /content/dataset/avec14/image/train_Northwind/317_3_Northwind_video_aligned/1212.jpg  \n",
            "  inflating: /content/dataset/avec14/image/train_Northwind/317_3_Northwind_video_aligned/1215.jpg  \n",
            "  inflating: /content/dataset/avec14/image/train_Northwind/317_3_Northwind_video_aligned/1218.jpg  \n",
            "  inflating: /content/dataset/avec14/image/train_Northwind/317_3_Northwind_video_aligned/1221.jpg  \n",
            "  inflating: /content/dataset/avec14/image/train_Northwind/317_3_Northwind_video_aligned/1224.jpg  \n",
            "  inflating: /content/dataset/avec14/image/train_Northwind/317_3_Northwind_video_aligned/1227.jpg  \n",
            "  inflating: /content/dataset/avec14/image/train_Northwind/317_3_Northwind_video_aligned/1230.jpg  \n",
            "  inflating: /content/dataset/avec14/image/train_Northwind/317_3_Northwind_video_aligned/1233.jpg  \n",
            "  inflating: /content/dataset/avec14/image/train_Northwind/317_3_Northwind_video_aligned/1236.jpg  \n",
            "  inflating: /content/dataset/avec14/image/train_Northwind/317_3_Northwind_video_aligned/1239.jpg  \n",
            "  inflating: /content/dataset/avec14/image/train_Northwind/317_3_Northwind_video_aligned/1242.jpg  \n",
            "  inflating: /content/dataset/avec14/image/train_Northwind/317_3_Northwind_video_aligned/1245.jpg  \n",
            "  inflating: /content/dataset/avec14/image/train_Northwind/317_3_Northwind_video_aligned/1248.jpg  \n",
            "  inflating: /content/dataset/avec14/image/train_Northwind/317_3_Northwind_video_aligned/1251.jpg  \n",
            "  inflating: /content/dataset/avec14/image/train_Northwind/317_3_Northwind_video_aligned/1254.jpg  \n",
            "  inflating: /content/dataset/avec14/image/train_Northwind/317_3_Northwind_video_aligned/1257.jpg  \n",
            "  inflating: /content/dataset/avec14/image/train_Northwind/317_3_Northwind_video_aligned/1260.jpg  \n",
            "  inflating: /content/dataset/avec14/image/train_Northwind/317_3_Northwind_video_aligned/1263.jpg  \n",
            "  inflating: /content/dataset/avec14/image/train_Northwind/317_3_Northwind_video_aligned/1266.jpg  \n",
            "  inflating: /content/dataset/avec14/image/train_Northwind/317_3_Northwind_video_aligned/1269.jpg  \n",
            "  inflating: /content/dataset/avec14/image/train_Northwind/317_3_Northwind_video_aligned/1272.jpg  \n",
            "  inflating: /content/dataset/avec14/image/train_Northwind/317_3_Northwind_video_aligned/1275.jpg  \n",
            "  inflating: /content/dataset/avec14/image/train_Northwind/317_3_Northwind_video_aligned/1278.jpg  \n",
            "  inflating: /content/dataset/avec14/image/train_Northwind/317_3_Northwind_video_aligned/1281.jpg  \n",
            "  inflating: /content/dataset/avec14/image/train_Northwind/317_3_Northwind_video_aligned/1284.jpg  \n",
            "  inflating: /content/dataset/avec14/image/train_Northwind/317_3_Northwind_video_aligned/1287.jpg  \n",
            "  inflating: /content/dataset/avec14/image/train_Northwind/317_3_Northwind_video_aligned/1290.jpg  \n",
            "  inflating: /content/dataset/avec14/image/train_Northwind/317_3_Northwind_video_aligned/1293.jpg  \n",
            "  inflating: /content/dataset/avec14/image/train_Northwind/317_3_Northwind_video_aligned/1296.jpg  \n",
            "  inflating: /content/dataset/avec14/image/train_Northwind/317_3_Northwind_video_aligned/1299.jpg  \n",
            "  inflating: /content/dataset/avec14/image/train_Northwind/317_3_Northwind_video_aligned/1302.jpg  \n",
            "  inflating: /content/dataset/avec14/image/train_Northwind/317_3_Northwind_video_aligned/1305.jpg  \n",
            "  inflating: /content/dataset/avec14/image/train_Northwind/317_3_Northwind_video_aligned/1308.jpg  \n",
            "  inflating: /content/dataset/avec14/image/train_Northwind/317_3_Northwind_video_aligned/1311.jpg  \n",
            "  inflating: /content/dataset/avec14/image/train_Northwind/317_3_Northwind_video_aligned/1314.jpg  \n",
            "  inflating: /content/dataset/avec14/image/train_Northwind/317_3_Northwind_video_aligned/1317.jpg  \n",
            "  inflating: /content/dataset/avec14/image/train_Northwind/317_3_Northwind_video_aligned/1320.jpg  \n",
            "  inflating: /content/dataset/avec14/image/train_Northwind/317_3_Northwind_video_aligned/1323.jpg  \n",
            "  inflating: /content/dataset/avec14/image/train_Northwind/317_3_Northwind_video_aligned/1326.jpg  \n",
            "  inflating: /content/dataset/avec14/image/train_Northwind/317_3_Northwind_video_aligned/1329.jpg  \n",
            "  inflating: /content/dataset/avec14/image/train_Northwind/317_3_Northwind_video_aligned/1332.jpg  \n",
            "  inflating: /content/dataset/avec14/image/train_Northwind/317_3_Northwind_video_aligned/1335.jpg  \n",
            "  inflating: /content/dataset/avec14/image/train_Northwind/317_3_Northwind_video_aligned/1338.jpg  \n",
            "  inflating: /content/dataset/avec14/image/train_Northwind/317_3_Northwind_video_aligned/1341.jpg  \n",
            "  inflating: /content/dataset/avec14/image/train_Northwind/317_3_Northwind_video_aligned/1344.jpg  \n",
            "  inflating: /content/dataset/avec14/image/train_Northwind/317_3_Northwind_video_aligned/1347.jpg  \n",
            "  inflating: /content/dataset/avec14/image/train_Northwind/317_3_Northwind_video_aligned/1350.jpg  \n",
            "  inflating: /content/dataset/avec14/image/train_Northwind/317_3_Northwind_video_aligned/1353.jpg  \n",
            "  inflating: /content/dataset/avec14/image/train_Northwind/317_3_Northwind_video_aligned/1356.jpg  \n",
            "  inflating: /content/dataset/avec14/image/train_Northwind/317_3_Northwind_video_aligned/1359.jpg  \n",
            "  inflating: /content/dataset/avec14/image/train_Northwind/317_3_Northwind_video_aligned/1362.jpg  \n",
            "  inflating: /content/dataset/avec14/image/train_Northwind/317_3_Northwind_video_aligned/1365.jpg  \n",
            "  inflating: /content/dataset/avec14/image/train_Northwind/317_3_Northwind_video_aligned/1368.jpg  \n",
            "  inflating: /content/dataset/avec14/image/train_Northwind/317_3_Northwind_video_aligned/1371.jpg  \n",
            "  inflating: /content/dataset/avec14/image/train_Northwind/317_3_Northwind_video_aligned/1374.jpg  \n",
            "  inflating: /content/dataset/avec14/image/train_Northwind/317_3_Northwind_video_aligned/1377.jpg  \n",
            "  inflating: /content/dataset/avec14/image/train_Northwind/317_3_Northwind_video_aligned/1380.jpg  \n",
            "  inflating: /content/dataset/avec14/image/train_Northwind/317_3_Northwind_video_aligned/1383.jpg  \n",
            "  inflating: /content/dataset/avec14/image/train_Northwind/317_3_Northwind_video_aligned/1386.jpg  \n",
            "  inflating: /content/dataset/avec14/image/train_Northwind/317_3_Northwind_video_aligned/1389.jpg  \n",
            "  inflating: /content/dataset/avec14/image/train_Northwind/317_3_Northwind_video_aligned/1392.jpg  \n",
            "  inflating: /content/dataset/avec14/image/train_Northwind/317_3_Northwind_video_aligned/1395.jpg  \n",
            "  inflating: /content/dataset/avec14/image/train_Northwind/317_3_Northwind_video_aligned/1398.jpg  \n",
            "  inflating: /content/dataset/avec14/image/train_Northwind/317_3_Northwind_video_aligned/1401.jpg  \n",
            "  inflating: /content/dataset/avec14/image/train_Northwind/317_3_Northwind_video_aligned/1404.jpg  \n",
            "  inflating: /content/dataset/avec14/image/train_Northwind/317_3_Northwind_video_aligned/1407.jpg  \n",
            "  inflating: /content/dataset/avec14/image/train_Northwind/317_3_Northwind_video_aligned/1410.jpg  \n",
            "  inflating: /content/dataset/avec14/image/train_Northwind/317_3_Northwind_video_aligned/1413.jpg  \n",
            "  inflating: /content/dataset/avec14/image/train_Northwind/317_3_Northwind_video_aligned/1416.jpg  \n",
            "  inflating: /content/dataset/avec14/image/train_Northwind/317_3_Northwind_video_aligned/1419.jpg  \n",
            "  inflating: /content/dataset/avec14/image/train_Northwind/317_3_Northwind_video_aligned/1422.jpg  \n",
            "  inflating: /content/dataset/avec14/image/train_Northwind/317_3_Northwind_video_aligned/1425.jpg  \n",
            "  inflating: /content/dataset/avec14/image/train_Northwind/317_3_Northwind_video_aligned/1428.jpg  \n",
            "  inflating: /content/dataset/avec14/image/train_Northwind/317_3_Northwind_video_aligned/1431.jpg  \n",
            "  inflating: /content/dataset/avec14/image/train_Northwind/317_3_Northwind_video_aligned/1434.jpg  \n",
            "  inflating: /content/dataset/avec14/image/train_Northwind/317_3_Northwind_video_aligned/1437.jpg  \n",
            "  inflating: /content/dataset/avec14/image/train_Northwind/317_3_Northwind_video_aligned/1440.jpg  \n",
            "  inflating: /content/dataset/avec14/image/train_Northwind/317_3_Northwind_video_aligned/1443.jpg  \n",
            "  inflating: /content/dataset/avec14/image/train_Northwind/317_3_Northwind_video_aligned/1446.jpg  \n",
            "  inflating: /content/dataset/avec14/image/train_Northwind/317_3_Northwind_video_aligned/1449.jpg  \n",
            "  inflating: /content/dataset/avec14/image/train_Northwind/317_3_Northwind_video_aligned/1452.jpg  \n",
            "  inflating: /content/dataset/avec14/image/train_Northwind/317_3_Northwind_video_aligned/1455.jpg  \n",
            "  inflating: /content/dataset/avec14/image/train_Northwind/317_3_Northwind_video_aligned/1458.jpg  \n",
            "  inflating: /content/dataset/avec14/image/train_Northwind/317_3_Northwind_video_aligned/1461.jpg  \n",
            "  inflating: /content/dataset/avec14/image/train_Northwind/317_3_Northwind_video_aligned/1464.jpg  \n",
            "  inflating: /content/dataset/avec14/image/train_Northwind/317_3_Northwind_video_aligned/1467.jpg  \n",
            "  inflating: /content/dataset/avec14/image/train_Northwind/317_3_Northwind_video_aligned/1470.jpg  \n",
            "  inflating: /content/dataset/avec14/image/train_Northwind/317_3_Northwind_video_aligned/1473.jpg  \n",
            "  inflating: /content/dataset/avec14/image/train_Northwind/317_3_Northwind_video_aligned/1476.jpg  \n",
            "  inflating: /content/dataset/avec14/image/train_Northwind/317_3_Northwind_video_aligned/1479.jpg  \n",
            "  inflating: /content/dataset/avec14/image/train_Northwind/317_3_Northwind_video_aligned/1482.jpg  \n",
            "  inflating: /content/dataset/avec14/image/train_Northwind/317_3_Northwind_video_aligned/1485.jpg  \n",
            "  inflating: /content/dataset/avec14/image/train_Northwind/317_3_Northwind_video_aligned/1488.jpg  \n",
            "  inflating: /content/dataset/avec14/image/train_Northwind/317_3_Northwind_video_aligned/1491.jpg  \n",
            "  inflating: /content/dataset/avec14/image/train_Northwind/317_3_Northwind_video_aligned/1494.jpg  \n",
            "  inflating: /content/dataset/avec14/image/train_Northwind/317_3_Northwind_video_aligned/1497.jpg  \n",
            "  inflating: /content/dataset/avec14/image/train_Northwind/317_3_Northwind_video_aligned/1500.jpg  \n",
            "  inflating: /content/dataset/avec14/image/train_Northwind/317_3_Northwind_video_aligned/1503.jpg  \n",
            "  inflating: /content/dataset/avec14/image/train_Northwind/317_3_Northwind_video_aligned/1506.jpg  \n",
            "  inflating: /content/dataset/avec14/image/train_Northwind/317_3_Northwind_video_aligned/1509.jpg  \n",
            "  inflating: /content/dataset/avec14/image/train_Northwind/317_3_Northwind_video_aligned/1512.jpg  \n",
            "  inflating: /content/dataset/avec14/image/train_Northwind/317_3_Northwind_video_aligned/1515.jpg  \n",
            "  inflating: /content/dataset/avec14/image/train_Northwind/317_3_Northwind_video_aligned/1518.jpg  \n",
            "  inflating: /content/dataset/avec14/image/train_Northwind/317_3_Northwind_video_aligned/1521.jpg  \n",
            "  inflating: /content/dataset/avec14/image/train_Northwind/317_3_Northwind_video_aligned/1524.jpg  \n",
            "  inflating: /content/dataset/avec14/image/train_Northwind/317_3_Northwind_video_aligned/1527.jpg  \n",
            "  inflating: /content/dataset/avec14/image/train_Northwind/317_3_Northwind_video_aligned/1530.jpg  \n",
            "  inflating: /content/dataset/avec14/image/train_Northwind/317_3_Northwind_video_aligned/1533.jpg  \n",
            "  inflating: /content/dataset/avec14/image/train_Northwind/317_3_Northwind_video_aligned/1536.jpg  \n",
            "  inflating: /content/dataset/avec14/image/train_Northwind/317_3_Northwind_video_aligned/1539.jpg  \n",
            "  inflating: /content/dataset/avec14/image/train_Northwind/317_3_Northwind_video_aligned/1542.jpg  \n",
            "  inflating: /content/dataset/avec14/image/train_Northwind/317_3_Northwind_video_aligned/1545.jpg  \n",
            "  inflating: /content/dataset/avec14/image/train_Northwind/317_3_Northwind_video_aligned/1548.jpg  \n",
            "  inflating: /content/dataset/avec14/image/train_Northwind/317_3_Northwind_video_aligned/1551.jpg  \n",
            "  inflating: /content/dataset/avec14/image/train_Northwind/317_3_Northwind_video_aligned/1554.jpg  \n",
            "  inflating: /content/dataset/avec14/image/train_Northwind/317_3_Northwind_video_aligned/1557.jpg  \n",
            "   creating: /content/dataset/avec14/image/train_Northwind/318_2_Northwind_video_aligned/\n",
            "  inflating: /content/dataset/avec14/image/train_Northwind/318_2_Northwind_video_aligned/0000.jpg  \n",
            "  inflating: /content/dataset/avec14/image/train_Northwind/318_2_Northwind_video_aligned/0003.jpg  \n",
            "  inflating: /content/dataset/avec14/image/train_Northwind/318_2_Northwind_video_aligned/0006.jpg  \n",
            "  inflating: /content/dataset/avec14/image/train_Northwind/318_2_Northwind_video_aligned/0009.jpg  \n",
            "  inflating: /content/dataset/avec14/image/train_Northwind/318_2_Northwind_video_aligned/0012.jpg  \n",
            "  inflating: /content/dataset/avec14/image/train_Northwind/318_2_Northwind_video_aligned/0015.jpg  \n",
            "  inflating: /content/dataset/avec14/image/train_Northwind/318_2_Northwind_video_aligned/0018.jpg  \n",
            "  inflating: /content/dataset/avec14/image/train_Northwind/318_2_Northwind_video_aligned/0021.jpg  \n",
            "  inflating: /content/dataset/avec14/image/train_Northwind/318_2_Northwind_video_aligned/0024.jpg  \n",
            "  inflating: /content/dataset/avec14/image/train_Northwind/318_2_Northwind_video_aligned/0027.jpg  \n",
            "  inflating: /content/dataset/avec14/image/train_Northwind/318_2_Northwind_video_aligned/0030.jpg  \n",
            "  inflating: /content/dataset/avec14/image/train_Northwind/318_2_Northwind_video_aligned/0033.jpg  \n",
            "  inflating: /content/dataset/avec14/image/train_Northwind/318_2_Northwind_video_aligned/0036.jpg  \n",
            "  inflating: /content/dataset/avec14/image/train_Northwind/318_2_Northwind_video_aligned/0039.jpg  \n",
            "  inflating: /content/dataset/avec14/image/train_Northwind/318_2_Northwind_video_aligned/0042.jpg  \n",
            "  inflating: /content/dataset/avec14/image/train_Northwind/318_2_Northwind_video_aligned/0045.jpg  \n",
            "  inflating: /content/dataset/avec14/image/train_Northwind/318_2_Northwind_video_aligned/0048.jpg  \n",
            "  inflating: /content/dataset/avec14/image/train_Northwind/318_2_Northwind_video_aligned/0051.jpg  \n",
            "  inflating: /content/dataset/avec14/image/train_Northwind/318_2_Northwind_video_aligned/0054.jpg  \n",
            "  inflating: /content/dataset/avec14/image/train_Northwind/318_2_Northwind_video_aligned/0057.jpg  \n",
            "  inflating: /content/dataset/avec14/image/train_Northwind/318_2_Northwind_video_aligned/0060.jpg  \n",
            "  inflating: /content/dataset/avec14/image/train_Northwind/318_2_Northwind_video_aligned/0063.jpg  \n",
            "  inflating: /content/dataset/avec14/image/train_Northwind/318_2_Northwind_video_aligned/0066.jpg  \n",
            "  inflating: /content/dataset/avec14/image/train_Northwind/318_2_Northwind_video_aligned/0069.jpg  \n",
            "  inflating: /content/dataset/avec14/image/train_Northwind/318_2_Northwind_video_aligned/0072.jpg  \n",
            "  inflating: /content/dataset/avec14/image/train_Northwind/318_2_Northwind_video_aligned/0075.jpg  \n",
            "  inflating: /content/dataset/avec14/image/train_Northwind/318_2_Northwind_video_aligned/0078.jpg  \n",
            "  inflating: /content/dataset/avec14/image/train_Northwind/318_2_Northwind_video_aligned/0081.jpg  \n",
            "  inflating: /content/dataset/avec14/image/train_Northwind/318_2_Northwind_video_aligned/0084.jpg  \n",
            "  inflating: /content/dataset/avec14/image/train_Northwind/318_2_Northwind_video_aligned/0087.jpg  \n",
            "  inflating: /content/dataset/avec14/image/train_Northwind/318_2_Northwind_video_aligned/0090.jpg  \n",
            "  inflating: /content/dataset/avec14/image/train_Northwind/318_2_Northwind_video_aligned/0093.jpg  \n",
            "  inflating: /content/dataset/avec14/image/train_Northwind/318_2_Northwind_video_aligned/0096.jpg  \n",
            "  inflating: /content/dataset/avec14/image/train_Northwind/318_2_Northwind_video_aligned/0099.jpg  \n",
            "  inflating: /content/dataset/avec14/image/train_Northwind/318_2_Northwind_video_aligned/0102.jpg  \n",
            "  inflating: /content/dataset/avec14/image/train_Northwind/318_2_Northwind_video_aligned/0105.jpg  \n",
            "  inflating: /content/dataset/avec14/image/train_Northwind/318_2_Northwind_video_aligned/0108.jpg  \n",
            "  inflating: /content/dataset/avec14/image/train_Northwind/318_2_Northwind_video_aligned/0111.jpg  \n",
            "  inflating: /content/dataset/avec14/image/train_Northwind/318_2_Northwind_video_aligned/0114.jpg  \n",
            "  inflating: /content/dataset/avec14/image/train_Northwind/318_2_Northwind_video_aligned/0117.jpg  \n",
            "  inflating: /content/dataset/avec14/image/train_Northwind/318_2_Northwind_video_aligned/0120.jpg  \n",
            "  inflating: /content/dataset/avec14/image/train_Northwind/318_2_Northwind_video_aligned/0123.jpg  \n",
            "  inflating: /content/dataset/avec14/image/train_Northwind/318_2_Northwind_video_aligned/0126.jpg  \n",
            "  inflating: /content/dataset/avec14/image/train_Northwind/318_2_Northwind_video_aligned/0129.jpg  \n",
            "  inflating: /content/dataset/avec14/image/train_Northwind/318_2_Northwind_video_aligned/0132.jpg  \n",
            "  inflating: /content/dataset/avec14/image/train_Northwind/318_2_Northwind_video_aligned/0135.jpg  \n",
            "  inflating: /content/dataset/avec14/image/train_Northwind/318_2_Northwind_video_aligned/0138.jpg  \n",
            "  inflating: /content/dataset/avec14/image/train_Northwind/318_2_Northwind_video_aligned/0141.jpg  \n",
            "  inflating: /content/dataset/avec14/image/train_Northwind/318_2_Northwind_video_aligned/0144.jpg  \n",
            "  inflating: /content/dataset/avec14/image/train_Northwind/318_2_Northwind_video_aligned/0147.jpg  \n",
            "  inflating: /content/dataset/avec14/image/train_Northwind/318_2_Northwind_video_aligned/0150.jpg  \n",
            "  inflating: /content/dataset/avec14/image/train_Northwind/318_2_Northwind_video_aligned/0153.jpg  \n",
            "  inflating: /content/dataset/avec14/image/train_Northwind/318_2_Northwind_video_aligned/0156.jpg  \n",
            "  inflating: /content/dataset/avec14/image/train_Northwind/318_2_Northwind_video_aligned/0159.jpg  \n",
            "  inflating: /content/dataset/avec14/image/train_Northwind/318_2_Northwind_video_aligned/0162.jpg  \n",
            "  inflating: /content/dataset/avec14/image/train_Northwind/318_2_Northwind_video_aligned/0165.jpg  \n",
            "  inflating: /content/dataset/avec14/image/train_Northwind/318_2_Northwind_video_aligned/0168.jpg  \n",
            "  inflating: /content/dataset/avec14/image/train_Northwind/318_2_Northwind_video_aligned/0171.jpg  \n",
            "  inflating: /content/dataset/avec14/image/train_Northwind/318_2_Northwind_video_aligned/0174.jpg  \n",
            "  inflating: /content/dataset/avec14/image/train_Northwind/318_2_Northwind_video_aligned/0177.jpg  \n",
            "  inflating: /content/dataset/avec14/image/train_Northwind/318_2_Northwind_video_aligned/0180.jpg  \n",
            "  inflating: /content/dataset/avec14/image/train_Northwind/318_2_Northwind_video_aligned/0183.jpg  \n",
            "  inflating: /content/dataset/avec14/image/train_Northwind/318_2_Northwind_video_aligned/0186.jpg  \n",
            "  inflating: /content/dataset/avec14/image/train_Northwind/318_2_Northwind_video_aligned/0189.jpg  \n",
            "  inflating: /content/dataset/avec14/image/train_Northwind/318_2_Northwind_video_aligned/0192.jpg  \n",
            "  inflating: /content/dataset/avec14/image/train_Northwind/318_2_Northwind_video_aligned/0195.jpg  \n",
            "  inflating: /content/dataset/avec14/image/train_Northwind/318_2_Northwind_video_aligned/0198.jpg  \n",
            "  inflating: /content/dataset/avec14/image/train_Northwind/318_2_Northwind_video_aligned/0201.jpg  \n",
            "  inflating: /content/dataset/avec14/image/train_Northwind/318_2_Northwind_video_aligned/0204.jpg  \n",
            "  inflating: /content/dataset/avec14/image/train_Northwind/318_2_Northwind_video_aligned/0207.jpg  \n",
            "  inflating: /content/dataset/avec14/image/train_Northwind/318_2_Northwind_video_aligned/0210.jpg  \n",
            "  inflating: /content/dataset/avec14/image/train_Northwind/318_2_Northwind_video_aligned/0213.jpg  \n",
            "  inflating: /content/dataset/avec14/image/train_Northwind/318_2_Northwind_video_aligned/0216.jpg  \n",
            "  inflating: /content/dataset/avec14/image/train_Northwind/318_2_Northwind_video_aligned/0219.jpg  \n",
            "  inflating: /content/dataset/avec14/image/train_Northwind/318_2_Northwind_video_aligned/0222.jpg  \n",
            "  inflating: /content/dataset/avec14/image/train_Northwind/318_2_Northwind_video_aligned/0225.jpg  \n",
            "  inflating: /content/dataset/avec14/image/train_Northwind/318_2_Northwind_video_aligned/0228.jpg  \n",
            "  inflating: /content/dataset/avec14/image/train_Northwind/318_2_Northwind_video_aligned/0231.jpg  \n",
            "  inflating: /content/dataset/avec14/image/train_Northwind/318_2_Northwind_video_aligned/0234.jpg  \n",
            "  inflating: /content/dataset/avec14/image/train_Northwind/318_2_Northwind_video_aligned/0237.jpg  \n",
            "  inflating: /content/dataset/avec14/image/train_Northwind/318_2_Northwind_video_aligned/0240.jpg  \n",
            "  inflating: /content/dataset/avec14/image/train_Northwind/318_2_Northwind_video_aligned/0243.jpg  \n",
            "  inflating: /content/dataset/avec14/image/train_Northwind/318_2_Northwind_video_aligned/0246.jpg  \n",
            "  inflating: /content/dataset/avec14/image/train_Northwind/318_2_Northwind_video_aligned/0249.jpg  \n",
            "  inflating: /content/dataset/avec14/image/train_Northwind/318_2_Northwind_video_aligned/0252.jpg  \n",
            "  inflating: /content/dataset/avec14/image/train_Northwind/318_2_Northwind_video_aligned/0255.jpg  \n",
            "  inflating: /content/dataset/avec14/image/train_Northwind/318_2_Northwind_video_aligned/0258.jpg  \n",
            "  inflating: /content/dataset/avec14/image/train_Northwind/318_2_Northwind_video_aligned/0261.jpg  \n",
            "  inflating: /content/dataset/avec14/image/train_Northwind/318_2_Northwind_video_aligned/0264.jpg  \n",
            "  inflating: /content/dataset/avec14/image/train_Northwind/318_2_Northwind_video_aligned/0267.jpg  \n",
            "  inflating: /content/dataset/avec14/image/train_Northwind/318_2_Northwind_video_aligned/0270.jpg  \n",
            "  inflating: /content/dataset/avec14/image/train_Northwind/318_2_Northwind_video_aligned/0273.jpg  \n",
            "  inflating: /content/dataset/avec14/image/train_Northwind/318_2_Northwind_video_aligned/0276.jpg  \n",
            "  inflating: /content/dataset/avec14/image/train_Northwind/318_2_Northwind_video_aligned/0279.jpg  \n",
            "  inflating: /content/dataset/avec14/image/train_Northwind/318_2_Northwind_video_aligned/0282.jpg  \n",
            "  inflating: /content/dataset/avec14/image/train_Northwind/318_2_Northwind_video_aligned/0285.jpg  \n",
            "  inflating: /content/dataset/avec14/image/train_Northwind/318_2_Northwind_video_aligned/0288.jpg  \n",
            "  inflating: /content/dataset/avec14/image/train_Northwind/318_2_Northwind_video_aligned/0291.jpg  \n",
            "  inflating: /content/dataset/avec14/image/train_Northwind/318_2_Northwind_video_aligned/0294.jpg  \n",
            "  inflating: /content/dataset/avec14/image/train_Northwind/318_2_Northwind_video_aligned/0297.jpg  \n",
            "  inflating: /content/dataset/avec14/image/train_Northwind/318_2_Northwind_video_aligned/0300.jpg  \n",
            "  inflating: /content/dataset/avec14/image/train_Northwind/318_2_Northwind_video_aligned/0303.jpg  \n",
            "  inflating: /content/dataset/avec14/image/train_Northwind/318_2_Northwind_video_aligned/0306.jpg  \n",
            "  inflating: /content/dataset/avec14/image/train_Northwind/318_2_Northwind_video_aligned/0309.jpg  \n",
            "  inflating: /content/dataset/avec14/image/train_Northwind/318_2_Northwind_video_aligned/0312.jpg  \n",
            "  inflating: /content/dataset/avec14/image/train_Northwind/318_2_Northwind_video_aligned/0315.jpg  \n",
            "  inflating: /content/dataset/avec14/image/train_Northwind/318_2_Northwind_video_aligned/0318.jpg  \n",
            "  inflating: /content/dataset/avec14/image/train_Northwind/318_2_Northwind_video_aligned/0321.jpg  \n",
            "  inflating: /content/dataset/avec14/image/train_Northwind/318_2_Northwind_video_aligned/0324.jpg  \n",
            "  inflating: /content/dataset/avec14/image/train_Northwind/318_2_Northwind_video_aligned/0327.jpg  \n",
            "  inflating: /content/dataset/avec14/image/train_Northwind/318_2_Northwind_video_aligned/0330.jpg  \n",
            "  inflating: /content/dataset/avec14/image/train_Northwind/318_2_Northwind_video_aligned/0333.jpg  \n",
            "  inflating: /content/dataset/avec14/image/train_Northwind/318_2_Northwind_video_aligned/0336.jpg  \n",
            "  inflating: /content/dataset/avec14/image/train_Northwind/318_2_Northwind_video_aligned/0339.jpg  \n",
            "  inflating: /content/dataset/avec14/image/train_Northwind/318_2_Northwind_video_aligned/0342.jpg  \n",
            "  inflating: /content/dataset/avec14/image/train_Northwind/318_2_Northwind_video_aligned/0345.jpg  \n",
            "  inflating: /content/dataset/avec14/image/train_Northwind/318_2_Northwind_video_aligned/0348.jpg  \n",
            "  inflating: /content/dataset/avec14/image/train_Northwind/318_2_Northwind_video_aligned/0351.jpg  \n",
            "  inflating: /content/dataset/avec14/image/train_Northwind/318_2_Northwind_video_aligned/0354.jpg  \n",
            "  inflating: /content/dataset/avec14/image/train_Northwind/318_2_Northwind_video_aligned/0357.jpg  \n",
            "  inflating: /content/dataset/avec14/image/train_Northwind/318_2_Northwind_video_aligned/0360.jpg  \n",
            "  inflating: /content/dataset/avec14/image/train_Northwind/318_2_Northwind_video_aligned/0363.jpg  \n",
            "  inflating: /content/dataset/avec14/image/train_Northwind/318_2_Northwind_video_aligned/0366.jpg  \n",
            "  inflating: /content/dataset/avec14/image/train_Northwind/318_2_Northwind_video_aligned/0369.jpg  \n",
            "  inflating: /content/dataset/avec14/image/train_Northwind/318_2_Northwind_video_aligned/0372.jpg  \n",
            "  inflating: /content/dataset/avec14/image/train_Northwind/318_2_Northwind_video_aligned/0375.jpg  \n",
            "  inflating: /content/dataset/avec14/image/train_Northwind/318_2_Northwind_video_aligned/0378.jpg  \n",
            "  inflating: /content/dataset/avec14/image/train_Northwind/318_2_Northwind_video_aligned/0381.jpg  \n",
            "  inflating: /content/dataset/avec14/image/train_Northwind/318_2_Northwind_video_aligned/0384.jpg  \n",
            "  inflating: /content/dataset/avec14/image/train_Northwind/318_2_Northwind_video_aligned/0387.jpg  \n",
            "  inflating: /content/dataset/avec14/image/train_Northwind/318_2_Northwind_video_aligned/0390.jpg  \n",
            "  inflating: /content/dataset/avec14/image/train_Northwind/318_2_Northwind_video_aligned/0393.jpg  \n",
            "  inflating: /content/dataset/avec14/image/train_Northwind/318_2_Northwind_video_aligned/0396.jpg  \n",
            "  inflating: /content/dataset/avec14/image/train_Northwind/318_2_Northwind_video_aligned/0399.jpg  \n",
            "  inflating: /content/dataset/avec14/image/train_Northwind/318_2_Northwind_video_aligned/0402.jpg  \n",
            "  inflating: /content/dataset/avec14/image/train_Northwind/318_2_Northwind_video_aligned/0405.jpg  \n",
            "  inflating: /content/dataset/avec14/image/train_Northwind/318_2_Northwind_video_aligned/0408.jpg  \n",
            "  inflating: /content/dataset/avec14/image/train_Northwind/318_2_Northwind_video_aligned/0411.jpg  \n",
            "  inflating: /content/dataset/avec14/image/train_Northwind/318_2_Northwind_video_aligned/0414.jpg  \n",
            "  inflating: /content/dataset/avec14/image/train_Northwind/318_2_Northwind_video_aligned/0417.jpg  \n",
            "  inflating: /content/dataset/avec14/image/train_Northwind/318_2_Northwind_video_aligned/0420.jpg  \n",
            "  inflating: /content/dataset/avec14/image/train_Northwind/318_2_Northwind_video_aligned/0423.jpg  \n",
            "  inflating: /content/dataset/avec14/image/train_Northwind/318_2_Northwind_video_aligned/0426.jpg  \n",
            "  inflating: /content/dataset/avec14/image/train_Northwind/318_2_Northwind_video_aligned/0429.jpg  \n",
            "  inflating: /content/dataset/avec14/image/train_Northwind/318_2_Northwind_video_aligned/0432.jpg  \n",
            "  inflating: /content/dataset/avec14/image/train_Northwind/318_2_Northwind_video_aligned/0435.jpg  \n",
            "  inflating: /content/dataset/avec14/image/train_Northwind/318_2_Northwind_video_aligned/0438.jpg  \n",
            "  inflating: /content/dataset/avec14/image/train_Northwind/318_2_Northwind_video_aligned/0441.jpg  \n",
            "  inflating: /content/dataset/avec14/image/train_Northwind/318_2_Northwind_video_aligned/0444.jpg  \n",
            "  inflating: /content/dataset/avec14/image/train_Northwind/318_2_Northwind_video_aligned/0447.jpg  \n",
            "  inflating: /content/dataset/avec14/image/train_Northwind/318_2_Northwind_video_aligned/0450.jpg  \n",
            "  inflating: /content/dataset/avec14/image/train_Northwind/318_2_Northwind_video_aligned/0453.jpg  \n",
            "  inflating: /content/dataset/avec14/image/train_Northwind/318_2_Northwind_video_aligned/0456.jpg  \n",
            "  inflating: /content/dataset/avec14/image/train_Northwind/318_2_Northwind_video_aligned/0459.jpg  \n",
            "  inflating: /content/dataset/avec14/image/train_Northwind/318_2_Northwind_video_aligned/0462.jpg  \n",
            "  inflating: /content/dataset/avec14/image/train_Northwind/318_2_Northwind_video_aligned/0465.jpg  \n",
            "  inflating: /content/dataset/avec14/image/train_Northwind/318_2_Northwind_video_aligned/0468.jpg  \n",
            "  inflating: /content/dataset/avec14/image/train_Northwind/318_2_Northwind_video_aligned/0471.jpg  \n",
            "  inflating: /content/dataset/avec14/image/train_Northwind/318_2_Northwind_video_aligned/0474.jpg  \n",
            "  inflating: /content/dataset/avec14/image/train_Northwind/318_2_Northwind_video_aligned/0477.jpg  \n",
            "  inflating: /content/dataset/avec14/image/train_Northwind/318_2_Northwind_video_aligned/0480.jpg  \n",
            "  inflating: /content/dataset/avec14/image/train_Northwind/318_2_Northwind_video_aligned/0483.jpg  \n",
            "  inflating: /content/dataset/avec14/image/train_Northwind/318_2_Northwind_video_aligned/0486.jpg  \n",
            "  inflating: /content/dataset/avec14/image/train_Northwind/318_2_Northwind_video_aligned/0489.jpg  \n",
            "  inflating: /content/dataset/avec14/image/train_Northwind/318_2_Northwind_video_aligned/0492.jpg  \n",
            "  inflating: /content/dataset/avec14/image/train_Northwind/318_2_Northwind_video_aligned/0495.jpg  \n",
            "  inflating: /content/dataset/avec14/image/train_Northwind/318_2_Northwind_video_aligned/0498.jpg  \n",
            "  inflating: /content/dataset/avec14/image/train_Northwind/318_2_Northwind_video_aligned/0501.jpg  \n",
            "  inflating: /content/dataset/avec14/image/train_Northwind/318_2_Northwind_video_aligned/0504.jpg  \n",
            "  inflating: /content/dataset/avec14/image/train_Northwind/318_2_Northwind_video_aligned/0507.jpg  \n",
            "  inflating: /content/dataset/avec14/image/train_Northwind/318_2_Northwind_video_aligned/0510.jpg  \n",
            "  inflating: /content/dataset/avec14/image/train_Northwind/318_2_Northwind_video_aligned/0513.jpg  \n",
            "  inflating: /content/dataset/avec14/image/train_Northwind/318_2_Northwind_video_aligned/0516.jpg  \n",
            "  inflating: /content/dataset/avec14/image/train_Northwind/318_2_Northwind_video_aligned/0519.jpg  \n",
            "  inflating: /content/dataset/avec14/image/train_Northwind/318_2_Northwind_video_aligned/0522.jpg  \n",
            "  inflating: /content/dataset/avec14/image/train_Northwind/318_2_Northwind_video_aligned/0525.jpg  \n",
            "  inflating: /content/dataset/avec14/image/train_Northwind/318_2_Northwind_video_aligned/0528.jpg  \n",
            "  inflating: /content/dataset/avec14/image/train_Northwind/318_2_Northwind_video_aligned/0531.jpg  \n",
            "  inflating: /content/dataset/avec14/image/train_Northwind/318_2_Northwind_video_aligned/0534.jpg  \n",
            "  inflating: /content/dataset/avec14/image/train_Northwind/318_2_Northwind_video_aligned/0537.jpg  \n",
            "  inflating: /content/dataset/avec14/image/train_Northwind/318_2_Northwind_video_aligned/0540.jpg  \n",
            "  inflating: /content/dataset/avec14/image/train_Northwind/318_2_Northwind_video_aligned/0543.jpg  \n",
            "  inflating: /content/dataset/avec14/image/train_Northwind/318_2_Northwind_video_aligned/0546.jpg  \n",
            "  inflating: /content/dataset/avec14/image/train_Northwind/318_2_Northwind_video_aligned/0549.jpg  \n",
            "  inflating: /content/dataset/avec14/image/train_Northwind/318_2_Northwind_video_aligned/0552.jpg  \n",
            "  inflating: /content/dataset/avec14/image/train_Northwind/318_2_Northwind_video_aligned/0555.jpg  \n",
            "  inflating: /content/dataset/avec14/image/train_Northwind/318_2_Northwind_video_aligned/0558.jpg  \n",
            "  inflating: /content/dataset/avec14/image/train_Northwind/318_2_Northwind_video_aligned/0561.jpg  \n",
            "  inflating: /content/dataset/avec14/image/train_Northwind/318_2_Northwind_video_aligned/0564.jpg  \n",
            "  inflating: /content/dataset/avec14/image/train_Northwind/318_2_Northwind_video_aligned/0567.jpg  \n",
            "  inflating: /content/dataset/avec14/image/train_Northwind/318_2_Northwind_video_aligned/0570.jpg  \n",
            "  inflating: /content/dataset/avec14/image/train_Northwind/318_2_Northwind_video_aligned/0573.jpg  \n",
            "  inflating: /content/dataset/avec14/image/train_Northwind/318_2_Northwind_video_aligned/0576.jpg  \n",
            "  inflating: /content/dataset/avec14/image/train_Northwind/318_2_Northwind_video_aligned/0579.jpg  \n",
            "  inflating: /content/dataset/avec14/image/train_Northwind/318_2_Northwind_video_aligned/0582.jpg  \n",
            "  inflating: /content/dataset/avec14/image/train_Northwind/318_2_Northwind_video_aligned/0585.jpg  \n",
            "  inflating: /content/dataset/avec14/image/train_Northwind/318_2_Northwind_video_aligned/0588.jpg  \n",
            "  inflating: /content/dataset/avec14/image/train_Northwind/318_2_Northwind_video_aligned/0591.jpg  \n",
            "  inflating: /content/dataset/avec14/image/train_Northwind/318_2_Northwind_video_aligned/0594.jpg  \n",
            "  inflating: /content/dataset/avec14/image/train_Northwind/318_2_Northwind_video_aligned/0597.jpg  \n",
            "  inflating: /content/dataset/avec14/image/train_Northwind/318_2_Northwind_video_aligned/0600.jpg  \n",
            "  inflating: /content/dataset/avec14/image/train_Northwind/318_2_Northwind_video_aligned/0603.jpg  \n",
            "  inflating: /content/dataset/avec14/image/train_Northwind/318_2_Northwind_video_aligned/0606.jpg  \n",
            "  inflating: /content/dataset/avec14/image/train_Northwind/318_2_Northwind_video_aligned/0609.jpg  \n",
            "  inflating: /content/dataset/avec14/image/train_Northwind/318_2_Northwind_video_aligned/0612.jpg  \n",
            "  inflating: /content/dataset/avec14/image/train_Northwind/318_2_Northwind_video_aligned/0615.jpg  \n",
            "  inflating: /content/dataset/avec14/image/train_Northwind/318_2_Northwind_video_aligned/0618.jpg  \n",
            "  inflating: /content/dataset/avec14/image/train_Northwind/318_2_Northwind_video_aligned/0621.jpg  \n",
            "  inflating: /content/dataset/avec14/image/train_Northwind/318_2_Northwind_video_aligned/0624.jpg  \n",
            "  inflating: /content/dataset/avec14/image/train_Northwind/318_2_Northwind_video_aligned/0627.jpg  \n",
            "  inflating: /content/dataset/avec14/image/train_Northwind/318_2_Northwind_video_aligned/0630.jpg  \n",
            "  inflating: /content/dataset/avec14/image/train_Northwind/318_2_Northwind_video_aligned/0633.jpg  \n",
            "  inflating: /content/dataset/avec14/image/train_Northwind/318_2_Northwind_video_aligned/0636.jpg  \n",
            "  inflating: /content/dataset/avec14/image/train_Northwind/318_2_Northwind_video_aligned/0639.jpg  \n",
            "  inflating: /content/dataset/avec14/image/train_Northwind/318_2_Northwind_video_aligned/0642.jpg  \n",
            "  inflating: /content/dataset/avec14/image/train_Northwind/318_2_Northwind_video_aligned/0645.jpg  \n",
            "  inflating: /content/dataset/avec14/image/train_Northwind/318_2_Northwind_video_aligned/0648.jpg  \n",
            "  inflating: /content/dataset/avec14/image/train_Northwind/318_2_Northwind_video_aligned/0651.jpg  \n",
            "  inflating: /content/dataset/avec14/image/train_Northwind/318_2_Northwind_video_aligned/0654.jpg  \n",
            "  inflating: /content/dataset/avec14/image/train_Northwind/318_2_Northwind_video_aligned/0657.jpg  \n",
            "  inflating: /content/dataset/avec14/image/train_Northwind/318_2_Northwind_video_aligned/0660.jpg  \n",
            "  inflating: /content/dataset/avec14/image/train_Northwind/318_2_Northwind_video_aligned/0663.jpg  \n",
            "  inflating: /content/dataset/avec14/image/train_Northwind/318_2_Northwind_video_aligned/0666.jpg  \n",
            "  inflating: /content/dataset/avec14/image/train_Northwind/318_2_Northwind_video_aligned/0669.jpg  \n",
            "  inflating: /content/dataset/avec14/image/train_Northwind/318_2_Northwind_video_aligned/0672.jpg  \n",
            "  inflating: /content/dataset/avec14/image/train_Northwind/318_2_Northwind_video_aligned/0675.jpg  \n",
            "  inflating: /content/dataset/avec14/image/train_Northwind/318_2_Northwind_video_aligned/0678.jpg  \n",
            "  inflating: /content/dataset/avec14/image/train_Northwind/318_2_Northwind_video_aligned/0681.jpg  \n",
            "  inflating: /content/dataset/avec14/image/train_Northwind/318_2_Northwind_video_aligned/0684.jpg  \n",
            "  inflating: /content/dataset/avec14/image/train_Northwind/318_2_Northwind_video_aligned/0687.jpg  \n",
            "  inflating: /content/dataset/avec14/image/train_Northwind/318_2_Northwind_video_aligned/0690.jpg  \n",
            "  inflating: /content/dataset/avec14/image/train_Northwind/318_2_Northwind_video_aligned/0693.jpg  \n",
            "  inflating: /content/dataset/avec14/image/train_Northwind/318_2_Northwind_video_aligned/0696.jpg  \n",
            "  inflating: /content/dataset/avec14/image/train_Northwind/318_2_Northwind_video_aligned/0699.jpg  \n",
            "  inflating: /content/dataset/avec14/image/train_Northwind/318_2_Northwind_video_aligned/0702.jpg  \n",
            "  inflating: /content/dataset/avec14/image/train_Northwind/318_2_Northwind_video_aligned/0705.jpg  \n",
            "  inflating: /content/dataset/avec14/image/train_Northwind/318_2_Northwind_video_aligned/0708.jpg  \n",
            "  inflating: /content/dataset/avec14/image/train_Northwind/318_2_Northwind_video_aligned/0711.jpg  \n",
            "  inflating: /content/dataset/avec14/image/train_Northwind/318_2_Northwind_video_aligned/0714.jpg  \n",
            "  inflating: /content/dataset/avec14/image/train_Northwind/318_2_Northwind_video_aligned/0717.jpg  \n",
            "  inflating: /content/dataset/avec14/image/train_Northwind/318_2_Northwind_video_aligned/0720.jpg  \n",
            "  inflating: /content/dataset/avec14/image/train_Northwind/318_2_Northwind_video_aligned/0723.jpg  \n",
            "  inflating: /content/dataset/avec14/image/train_Northwind/318_2_Northwind_video_aligned/0726.jpg  \n",
            "  inflating: /content/dataset/avec14/image/train_Northwind/318_2_Northwind_video_aligned/0729.jpg  \n",
            "  inflating: /content/dataset/avec14/image/train_Northwind/318_2_Northwind_video_aligned/0732.jpg  \n",
            "  inflating: /content/dataset/avec14/image/train_Northwind/318_2_Northwind_video_aligned/0735.jpg  \n",
            "  inflating: /content/dataset/avec14/image/train_Northwind/318_2_Northwind_video_aligned/0738.jpg  \n",
            "  inflating: /content/dataset/avec14/image/train_Northwind/318_2_Northwind_video_aligned/0741.jpg  \n",
            "  inflating: /content/dataset/avec14/image/train_Northwind/318_2_Northwind_video_aligned/0744.jpg  \n",
            "  inflating: /content/dataset/avec14/image/train_Northwind/318_2_Northwind_video_aligned/0747.jpg  \n",
            "  inflating: /content/dataset/avec14/image/train_Northwind/318_2_Northwind_video_aligned/0750.jpg  \n",
            "  inflating: /content/dataset/avec14/image/train_Northwind/318_2_Northwind_video_aligned/0753.jpg  \n",
            "  inflating: /content/dataset/avec14/image/train_Northwind/318_2_Northwind_video_aligned/0756.jpg  \n",
            "  inflating: /content/dataset/avec14/image/train_Northwind/318_2_Northwind_video_aligned/0759.jpg  \n",
            "  inflating: /content/dataset/avec14/image/train_Northwind/318_2_Northwind_video_aligned/0762.jpg  \n",
            "  inflating: /content/dataset/avec14/image/train_Northwind/318_2_Northwind_video_aligned/0765.jpg  \n",
            "  inflating: /content/dataset/avec14/image/train_Northwind/318_2_Northwind_video_aligned/0768.jpg  \n",
            "  inflating: /content/dataset/avec14/image/train_Northwind/318_2_Northwind_video_aligned/0771.jpg  \n",
            "  inflating: /content/dataset/avec14/image/train_Northwind/318_2_Northwind_video_aligned/0774.jpg  \n",
            "  inflating: /content/dataset/avec14/image/train_Northwind/318_2_Northwind_video_aligned/0777.jpg  \n",
            "  inflating: /content/dataset/avec14/image/train_Northwind/318_2_Northwind_video_aligned/0780.jpg  \n",
            "  inflating: /content/dataset/avec14/image/train_Northwind/318_2_Northwind_video_aligned/0783.jpg  \n",
            "  inflating: /content/dataset/avec14/image/train_Northwind/318_2_Northwind_video_aligned/0786.jpg  \n",
            "  inflating: /content/dataset/avec14/image/train_Northwind/318_2_Northwind_video_aligned/0789.jpg  \n",
            "  inflating: /content/dataset/avec14/image/train_Northwind/318_2_Northwind_video_aligned/0792.jpg  \n",
            "  inflating: /content/dataset/avec14/image/train_Northwind/318_2_Northwind_video_aligned/0795.jpg  \n",
            "  inflating: /content/dataset/avec14/image/train_Northwind/318_2_Northwind_video_aligned/0798.jpg  \n",
            "  inflating: /content/dataset/avec14/image/train_Northwind/318_2_Northwind_video_aligned/0801.jpg  \n",
            "  inflating: /content/dataset/avec14/image/train_Northwind/318_2_Northwind_video_aligned/0804.jpg  \n",
            "  inflating: /content/dataset/avec14/image/train_Northwind/318_2_Northwind_video_aligned/0807.jpg  \n",
            "  inflating: /content/dataset/avec14/image/train_Northwind/318_2_Northwind_video_aligned/0810.jpg  \n",
            "  inflating: /content/dataset/avec14/image/train_Northwind/318_2_Northwind_video_aligned/0813.jpg  \n",
            "  inflating: /content/dataset/avec14/image/train_Northwind/318_2_Northwind_video_aligned/0816.jpg  \n",
            "  inflating: /content/dataset/avec14/image/train_Northwind/318_2_Northwind_video_aligned/0819.jpg  \n",
            "  inflating: /content/dataset/avec14/image/train_Northwind/318_2_Northwind_video_aligned/0822.jpg  \n",
            "  inflating: /content/dataset/avec14/image/train_Northwind/318_2_Northwind_video_aligned/0825.jpg  \n",
            "  inflating: /content/dataset/avec14/image/train_Northwind/318_2_Northwind_video_aligned/0828.jpg  \n",
            "  inflating: /content/dataset/avec14/image/train_Northwind/318_2_Northwind_video_aligned/0831.jpg  \n",
            "  inflating: /content/dataset/avec14/image/train_Northwind/318_2_Northwind_video_aligned/0834.jpg  \n",
            "  inflating: /content/dataset/avec14/image/train_Northwind/318_2_Northwind_video_aligned/0837.jpg  \n",
            "  inflating: /content/dataset/avec14/image/train_Northwind/318_2_Northwind_video_aligned/0840.jpg  \n",
            "  inflating: /content/dataset/avec14/image/train_Northwind/318_2_Northwind_video_aligned/0843.jpg  \n",
            "  inflating: /content/dataset/avec14/image/train_Northwind/318_2_Northwind_video_aligned/0846.jpg  \n",
            "  inflating: /content/dataset/avec14/image/train_Northwind/318_2_Northwind_video_aligned/0849.jpg  \n",
            "  inflating: /content/dataset/avec14/image/train_Northwind/318_2_Northwind_video_aligned/0852.jpg  \n",
            "  inflating: /content/dataset/avec14/image/train_Northwind/318_2_Northwind_video_aligned/0855.jpg  \n",
            "  inflating: /content/dataset/avec14/image/train_Northwind/318_2_Northwind_video_aligned/0858.jpg  \n",
            "  inflating: /content/dataset/avec14/image/train_Northwind/318_2_Northwind_video_aligned/0861.jpg  \n",
            "  inflating: /content/dataset/avec14/image/train_Northwind/318_2_Northwind_video_aligned/0864.jpg  \n",
            "  inflating: /content/dataset/avec14/image/train_Northwind/318_2_Northwind_video_aligned/0867.jpg  \n",
            "  inflating: /content/dataset/avec14/image/train_Northwind/318_2_Northwind_video_aligned/0870.jpg  \n",
            "  inflating: /content/dataset/avec14/image/train_Northwind/318_2_Northwind_video_aligned/0873.jpg  \n",
            "  inflating: /content/dataset/avec14/image/train_Northwind/318_2_Northwind_video_aligned/0876.jpg  \n",
            "  inflating: /content/dataset/avec14/image/train_Northwind/318_2_Northwind_video_aligned/0879.jpg  \n",
            "  inflating: /content/dataset/avec14/image/train_Northwind/318_2_Northwind_video_aligned/0882.jpg  \n",
            "  inflating: /content/dataset/avec14/image/train_Northwind/318_2_Northwind_video_aligned/0885.jpg  \n",
            "  inflating: /content/dataset/avec14/image/train_Northwind/318_2_Northwind_video_aligned/0888.jpg  \n",
            "  inflating: /content/dataset/avec14/image/train_Northwind/318_2_Northwind_video_aligned/0891.jpg  \n",
            "  inflating: /content/dataset/avec14/image/train_Northwind/318_2_Northwind_video_aligned/0894.jpg  \n",
            "  inflating: /content/dataset/avec14/image/train_Northwind/318_2_Northwind_video_aligned/0897.jpg  \n",
            "  inflating: /content/dataset/avec14/image/train_Northwind/318_2_Northwind_video_aligned/0900.jpg  \n",
            "  inflating: /content/dataset/avec14/image/train_Northwind/318_2_Northwind_video_aligned/0903.jpg  \n",
            "  inflating: /content/dataset/avec14/image/train_Northwind/318_2_Northwind_video_aligned/0906.jpg  \n",
            "  inflating: /content/dataset/avec14/image/train_Northwind/318_2_Northwind_video_aligned/0909.jpg  \n",
            "  inflating: /content/dataset/avec14/image/train_Northwind/318_2_Northwind_video_aligned/0912.jpg  \n",
            "  inflating: /content/dataset/avec14/image/train_Northwind/318_2_Northwind_video_aligned/0915.jpg  \n",
            "  inflating: /content/dataset/avec14/image/train_Northwind/318_2_Northwind_video_aligned/0918.jpg  \n",
            "  inflating: /content/dataset/avec14/image/train_Northwind/318_2_Northwind_video_aligned/0921.jpg  \n",
            "  inflating: /content/dataset/avec14/image/train_Northwind/318_2_Northwind_video_aligned/0924.jpg  \n",
            "  inflating: /content/dataset/avec14/image/train_Northwind/318_2_Northwind_video_aligned/0927.jpg  \n",
            "  inflating: /content/dataset/avec14/image/train_Northwind/318_2_Northwind_video_aligned/0930.jpg  \n",
            "  inflating: /content/dataset/avec14/image/train_Northwind/318_2_Northwind_video_aligned/0933.jpg  \n",
            "  inflating: /content/dataset/avec14/image/train_Northwind/318_2_Northwind_video_aligned/0936.jpg  \n",
            "  inflating: /content/dataset/avec14/image/train_Northwind/318_2_Northwind_video_aligned/0939.jpg  \n",
            "  inflating: /content/dataset/avec14/image/train_Northwind/318_2_Northwind_video_aligned/0942.jpg  \n",
            "  inflating: /content/dataset/avec14/image/train_Northwind/318_2_Northwind_video_aligned/0945.jpg  \n",
            "  inflating: /content/dataset/avec14/image/train_Northwind/318_2_Northwind_video_aligned/0948.jpg  \n",
            "  inflating: /content/dataset/avec14/image/train_Northwind/318_2_Northwind_video_aligned/0951.jpg  \n",
            "  inflating: /content/dataset/avec14/image/train_Northwind/318_2_Northwind_video_aligned/0954.jpg  \n",
            "  inflating: /content/dataset/avec14/image/train_Northwind/318_2_Northwind_video_aligned/0957.jpg  \n",
            "  inflating: /content/dataset/avec14/image/train_Northwind/318_2_Northwind_video_aligned/0960.jpg  \n",
            "  inflating: /content/dataset/avec14/image/train_Northwind/318_2_Northwind_video_aligned/0963.jpg  \n",
            "  inflating: /content/dataset/avec14/image/train_Northwind/318_2_Northwind_video_aligned/0966.jpg  \n",
            "  inflating: /content/dataset/avec14/image/train_Northwind/318_2_Northwind_video_aligned/0969.jpg  \n",
            "  inflating: /content/dataset/avec14/image/train_Northwind/318_2_Northwind_video_aligned/0972.jpg  \n",
            "  inflating: /content/dataset/avec14/image/train_Northwind/318_2_Northwind_video_aligned/0975.jpg  \n",
            "  inflating: /content/dataset/avec14/image/train_Northwind/318_2_Northwind_video_aligned/0978.jpg  \n",
            "  inflating: /content/dataset/avec14/image/train_Northwind/318_2_Northwind_video_aligned/0981.jpg  \n",
            "  inflating: /content/dataset/avec14/image/train_Northwind/318_2_Northwind_video_aligned/0984.jpg  \n",
            "  inflating: /content/dataset/avec14/image/train_Northwind/318_2_Northwind_video_aligned/0987.jpg  \n",
            "  inflating: /content/dataset/avec14/image/train_Northwind/318_2_Northwind_video_aligned/0990.jpg  \n",
            "  inflating: /content/dataset/avec14/image/train_Northwind/318_2_Northwind_video_aligned/0993.jpg  \n",
            "  inflating: /content/dataset/avec14/image/train_Northwind/318_2_Northwind_video_aligned/0996.jpg  \n",
            "  inflating: /content/dataset/avec14/image/train_Northwind/318_2_Northwind_video_aligned/0999.jpg  \n",
            "  inflating: /content/dataset/avec14/image/train_Northwind/318_2_Northwind_video_aligned/1002.jpg  \n",
            "  inflating: /content/dataset/avec14/image/train_Northwind/318_2_Northwind_video_aligned/1005.jpg  \n",
            "  inflating: /content/dataset/avec14/image/train_Northwind/318_2_Northwind_video_aligned/1008.jpg  \n",
            "  inflating: /content/dataset/avec14/image/train_Northwind/318_2_Northwind_video_aligned/1011.jpg  \n",
            "  inflating: /content/dataset/avec14/image/train_Northwind/318_2_Northwind_video_aligned/1014.jpg  \n",
            "  inflating: /content/dataset/avec14/image/train_Northwind/318_2_Northwind_video_aligned/1017.jpg  \n",
            "  inflating: /content/dataset/avec14/image/train_Northwind/318_2_Northwind_video_aligned/1020.jpg  \n",
            "  inflating: /content/dataset/avec14/image/train_Northwind/318_2_Northwind_video_aligned/1023.jpg  \n",
            "  inflating: /content/dataset/avec14/image/train_Northwind/318_2_Northwind_video_aligned/1026.jpg  \n",
            "  inflating: /content/dataset/avec14/image/train_Northwind/318_2_Northwind_video_aligned/1029.jpg  \n",
            "  inflating: /content/dataset/avec14/image/train_Northwind/318_2_Northwind_video_aligned/1032.jpg  \n",
            "  inflating: /content/dataset/avec14/image/train_Northwind/318_2_Northwind_video_aligned/1035.jpg  \n",
            "  inflating: /content/dataset/avec14/image/train_Northwind/318_2_Northwind_video_aligned/1038.jpg  \n",
            "  inflating: /content/dataset/avec14/image/train_Northwind/318_2_Northwind_video_aligned/1041.jpg  \n",
            "  inflating: /content/dataset/avec14/image/train_Northwind/318_2_Northwind_video_aligned/1044.jpg  \n",
            "  inflating: /content/dataset/avec14/image/train_Northwind/318_2_Northwind_video_aligned/1047.jpg  \n",
            "  inflating: /content/dataset/avec14/image/train_Northwind/318_2_Northwind_video_aligned/1050.jpg  \n",
            "  inflating: /content/dataset/avec14/image/train_Northwind/318_2_Northwind_video_aligned/1053.jpg  \n",
            "  inflating: /content/dataset/avec14/image/train_Northwind/318_2_Northwind_video_aligned/1056.jpg  \n",
            "  inflating: /content/dataset/avec14/image/train_Northwind/318_2_Northwind_video_aligned/1059.jpg  \n",
            "  inflating: /content/dataset/avec14/image/train_Northwind/318_2_Northwind_video_aligned/1062.jpg  \n",
            "  inflating: /content/dataset/avec14/image/train_Northwind/318_2_Northwind_video_aligned/1065.jpg  \n",
            "  inflating: /content/dataset/avec14/image/train_Northwind/318_2_Northwind_video_aligned/1068.jpg  \n",
            "  inflating: /content/dataset/avec14/image/train_Northwind/318_2_Northwind_video_aligned/1071.jpg  \n",
            "  inflating: /content/dataset/avec14/image/train_Northwind/318_2_Northwind_video_aligned/1074.jpg  \n",
            "  inflating: /content/dataset/avec14/image/train_Northwind/318_2_Northwind_video_aligned/1077.jpg  \n",
            "  inflating: /content/dataset/avec14/image/train_Northwind/318_2_Northwind_video_aligned/1080.jpg  \n",
            "  inflating: /content/dataset/avec14/image/train_Northwind/318_2_Northwind_video_aligned/1083.jpg  \n",
            "  inflating: /content/dataset/avec14/image/train_Northwind/318_2_Northwind_video_aligned/1086.jpg  \n",
            "  inflating: /content/dataset/avec14/image/train_Northwind/318_2_Northwind_video_aligned/1089.jpg  \n",
            "  inflating: /content/dataset/avec14/image/train_Northwind/318_2_Northwind_video_aligned/1092.jpg  \n",
            "  inflating: /content/dataset/avec14/image/train_Northwind/318_2_Northwind_video_aligned/1095.jpg  \n",
            "  inflating: /content/dataset/avec14/image/train_Northwind/318_2_Northwind_video_aligned/1098.jpg  \n",
            "  inflating: /content/dataset/avec14/image/train_Northwind/318_2_Northwind_video_aligned/1101.jpg  \n",
            "  inflating: /content/dataset/avec14/image/train_Northwind/318_2_Northwind_video_aligned/1104.jpg  \n",
            "  inflating: /content/dataset/avec14/image/train_Northwind/318_2_Northwind_video_aligned/1107.jpg  \n",
            "  inflating: /content/dataset/avec14/image/train_Northwind/318_2_Northwind_video_aligned/1110.jpg  \n",
            "  inflating: /content/dataset/avec14/image/train_Northwind/318_2_Northwind_video_aligned/1113.jpg  \n",
            "  inflating: /content/dataset/avec14/image/train_Northwind/318_2_Northwind_video_aligned/1116.jpg  \n",
            "  inflating: /content/dataset/avec14/image/train_Northwind/318_2_Northwind_video_aligned/1119.jpg  \n",
            "  inflating: /content/dataset/avec14/image/train_Northwind/318_2_Northwind_video_aligned/1122.jpg  \n",
            "  inflating: /content/dataset/avec14/image/train_Northwind/318_2_Northwind_video_aligned/1125.jpg  \n",
            "  inflating: /content/dataset/avec14/image/train_Northwind/318_2_Northwind_video_aligned/1128.jpg  \n",
            "  inflating: /content/dataset/avec14/image/train_Northwind/318_2_Northwind_video_aligned/1131.jpg  \n",
            "  inflating: /content/dataset/avec14/image/train_Northwind/318_2_Northwind_video_aligned/1134.jpg  \n",
            "  inflating: /content/dataset/avec14/image/train_Northwind/318_2_Northwind_video_aligned/1137.jpg  \n",
            "  inflating: /content/dataset/avec14/image/train_Northwind/318_2_Northwind_video_aligned/1140.jpg  \n",
            "  inflating: /content/dataset/avec14/image/train_Northwind/318_2_Northwind_video_aligned/1143.jpg  \n",
            "  inflating: /content/dataset/avec14/image/train_Northwind/318_2_Northwind_video_aligned/1146.jpg  \n",
            "  inflating: /content/dataset/avec14/image/train_Northwind/318_2_Northwind_video_aligned/1149.jpg  \n",
            "  inflating: /content/dataset/avec14/image/train_Northwind/318_2_Northwind_video_aligned/1152.jpg  \n",
            "  inflating: /content/dataset/avec14/image/train_Northwind/318_2_Northwind_video_aligned/1155.jpg  \n",
            "  inflating: /content/dataset/avec14/image/train_Northwind/318_2_Northwind_video_aligned/1158.jpg  \n",
            "  inflating: /content/dataset/avec14/image/train_Northwind/318_2_Northwind_video_aligned/1161.jpg  \n",
            "  inflating: /content/dataset/avec14/image/train_Northwind/318_2_Northwind_video_aligned/1164.jpg  \n",
            "  inflating: /content/dataset/avec14/image/train_Northwind/318_2_Northwind_video_aligned/1167.jpg  \n",
            "  inflating: /content/dataset/avec14/image/train_Northwind/318_2_Northwind_video_aligned/1170.jpg  \n",
            "  inflating: /content/dataset/avec14/image/train_Northwind/318_2_Northwind_video_aligned/1173.jpg  \n",
            "  inflating: /content/dataset/avec14/image/train_Northwind/318_2_Northwind_video_aligned/1176.jpg  \n",
            "  inflating: /content/dataset/avec14/image/train_Northwind/318_2_Northwind_video_aligned/1179.jpg  \n",
            "  inflating: /content/dataset/avec14/image/train_Northwind/318_2_Northwind_video_aligned/1182.jpg  \n",
            "  inflating: /content/dataset/avec14/image/train_Northwind/318_2_Northwind_video_aligned/1185.jpg  \n",
            "  inflating: /content/dataset/avec14/image/train_Northwind/318_2_Northwind_video_aligned/1188.jpg  \n",
            "  inflating: /content/dataset/avec14/image/train_Northwind/318_2_Northwind_video_aligned/1191.jpg  \n",
            "  inflating: /content/dataset/avec14/image/train_Northwind/318_2_Northwind_video_aligned/1194.jpg  \n",
            "  inflating: /content/dataset/avec14/image/train_Northwind/318_2_Northwind_video_aligned/1197.jpg  \n",
            "  inflating: /content/dataset/avec14/image/train_Northwind/318_2_Northwind_video_aligned/1200.jpg  \n",
            "  inflating: /content/dataset/avec14/image/train_Northwind/318_2_Northwind_video_aligned/1203.jpg  \n",
            "  inflating: /content/dataset/avec14/image/train_Northwind/318_2_Northwind_video_aligned/1206.jpg  \n",
            "  inflating: /content/dataset/avec14/image/train_Northwind/318_2_Northwind_video_aligned/1209.jpg  \n",
            "  inflating: /content/dataset/avec14/image/train_Northwind/318_2_Northwind_video_aligned/1212.jpg  \n",
            "  inflating: /content/dataset/avec14/image/train_Northwind/318_2_Northwind_video_aligned/1215.jpg  \n",
            "  inflating: /content/dataset/avec14/image/train_Northwind/318_2_Northwind_video_aligned/1218.jpg  \n",
            "  inflating: /content/dataset/avec14/image/train_Northwind/318_2_Northwind_video_aligned/1221.jpg  \n",
            "  inflating: /content/dataset/avec14/image/train_Northwind/318_2_Northwind_video_aligned/1224.jpg  \n",
            "  inflating: /content/dataset/avec14/image/train_Northwind/318_2_Northwind_video_aligned/1227.jpg  \n",
            "   creating: /content/dataset/avec14/image/train_Northwind/318_3_Northwind_video_aligned/\n",
            "  inflating: /content/dataset/avec14/image/train_Northwind/318_3_Northwind_video_aligned/0000.jpg  \n",
            "  inflating: /content/dataset/avec14/image/train_Northwind/318_3_Northwind_video_aligned/0003.jpg  \n",
            "  inflating: /content/dataset/avec14/image/train_Northwind/318_3_Northwind_video_aligned/0006.jpg  \n",
            "  inflating: /content/dataset/avec14/image/train_Northwind/318_3_Northwind_video_aligned/0009.jpg  \n",
            "  inflating: /content/dataset/avec14/image/train_Northwind/318_3_Northwind_video_aligned/0012.jpg  \n",
            "  inflating: /content/dataset/avec14/image/train_Northwind/318_3_Northwind_video_aligned/0015.jpg  \n",
            "  inflating: /content/dataset/avec14/image/train_Northwind/318_3_Northwind_video_aligned/0018.jpg  \n",
            "  inflating: /content/dataset/avec14/image/train_Northwind/318_3_Northwind_video_aligned/0021.jpg  \n",
            "  inflating: /content/dataset/avec14/image/train_Northwind/318_3_Northwind_video_aligned/0024.jpg  \n",
            "  inflating: /content/dataset/avec14/image/train_Northwind/318_3_Northwind_video_aligned/0027.jpg  \n",
            "  inflating: /content/dataset/avec14/image/train_Northwind/318_3_Northwind_video_aligned/0030.jpg  \n",
            "  inflating: /content/dataset/avec14/image/train_Northwind/318_3_Northwind_video_aligned/0033.jpg  \n",
            "  inflating: /content/dataset/avec14/image/train_Northwind/318_3_Northwind_video_aligned/0036.jpg  \n",
            "  inflating: /content/dataset/avec14/image/train_Northwind/318_3_Northwind_video_aligned/0039.jpg  \n",
            "  inflating: /content/dataset/avec14/image/train_Northwind/318_3_Northwind_video_aligned/0042.jpg  \n",
            "  inflating: /content/dataset/avec14/image/train_Northwind/318_3_Northwind_video_aligned/0045.jpg  \n",
            "  inflating: /content/dataset/avec14/image/train_Northwind/318_3_Northwind_video_aligned/0048.jpg  \n",
            "  inflating: /content/dataset/avec14/image/train_Northwind/318_3_Northwind_video_aligned/0051.jpg  \n",
            "  inflating: /content/dataset/avec14/image/train_Northwind/318_3_Northwind_video_aligned/0054.jpg  \n",
            "  inflating: /content/dataset/avec14/image/train_Northwind/318_3_Northwind_video_aligned/0057.jpg  \n",
            "  inflating: /content/dataset/avec14/image/train_Northwind/318_3_Northwind_video_aligned/0060.jpg  \n",
            "  inflating: /content/dataset/avec14/image/train_Northwind/318_3_Northwind_video_aligned/0063.jpg  \n",
            "  inflating: /content/dataset/avec14/image/train_Northwind/318_3_Northwind_video_aligned/0066.jpg  \n",
            "  inflating: /content/dataset/avec14/image/train_Northwind/318_3_Northwind_video_aligned/0069.jpg  \n",
            "  inflating: /content/dataset/avec14/image/train_Northwind/318_3_Northwind_video_aligned/0072.jpg  \n",
            "  inflating: /content/dataset/avec14/image/train_Northwind/318_3_Northwind_video_aligned/0075.jpg  \n",
            "  inflating: /content/dataset/avec14/image/train_Northwind/318_3_Northwind_video_aligned/0078.jpg  \n",
            "  inflating: /content/dataset/avec14/image/train_Northwind/318_3_Northwind_video_aligned/0081.jpg  \n",
            "  inflating: /content/dataset/avec14/image/train_Northwind/318_3_Northwind_video_aligned/0084.jpg  \n",
            "  inflating: /content/dataset/avec14/image/train_Northwind/318_3_Northwind_video_aligned/0087.jpg  \n",
            "  inflating: /content/dataset/avec14/image/train_Northwind/318_3_Northwind_video_aligned/0090.jpg  \n",
            "  inflating: /content/dataset/avec14/image/train_Northwind/318_3_Northwind_video_aligned/0093.jpg  \n",
            "  inflating: /content/dataset/avec14/image/train_Northwind/318_3_Northwind_video_aligned/0096.jpg  \n",
            "  inflating: /content/dataset/avec14/image/train_Northwind/318_3_Northwind_video_aligned/0099.jpg  \n",
            "  inflating: /content/dataset/avec14/image/train_Northwind/318_3_Northwind_video_aligned/0102.jpg  \n",
            "  inflating: /content/dataset/avec14/image/train_Northwind/318_3_Northwind_video_aligned/0105.jpg  \n",
            "  inflating: /content/dataset/avec14/image/train_Northwind/318_3_Northwind_video_aligned/0108.jpg  \n",
            "  inflating: /content/dataset/avec14/image/train_Northwind/318_3_Northwind_video_aligned/0111.jpg  \n",
            "  inflating: /content/dataset/avec14/image/train_Northwind/318_3_Northwind_video_aligned/0114.jpg  \n",
            "  inflating: /content/dataset/avec14/image/train_Northwind/318_3_Northwind_video_aligned/0117.jpg  \n",
            "  inflating: /content/dataset/avec14/image/train_Northwind/318_3_Northwind_video_aligned/0120.jpg  \n",
            "  inflating: /content/dataset/avec14/image/train_Northwind/318_3_Northwind_video_aligned/0123.jpg  \n",
            "  inflating: /content/dataset/avec14/image/train_Northwind/318_3_Northwind_video_aligned/0126.jpg  \n",
            "  inflating: /content/dataset/avec14/image/train_Northwind/318_3_Northwind_video_aligned/0129.jpg  \n",
            "  inflating: /content/dataset/avec14/image/train_Northwind/318_3_Northwind_video_aligned/0132.jpg  \n",
            "  inflating: /content/dataset/avec14/image/train_Northwind/318_3_Northwind_video_aligned/0135.jpg  \n",
            "  inflating: /content/dataset/avec14/image/train_Northwind/318_3_Northwind_video_aligned/0138.jpg  \n",
            "  inflating: /content/dataset/avec14/image/train_Northwind/318_3_Northwind_video_aligned/0141.jpg  \n",
            "  inflating: /content/dataset/avec14/image/train_Northwind/318_3_Northwind_video_aligned/0144.jpg  \n",
            "  inflating: /content/dataset/avec14/image/train_Northwind/318_3_Northwind_video_aligned/0147.jpg  \n",
            "  inflating: /content/dataset/avec14/image/train_Northwind/318_3_Northwind_video_aligned/0150.jpg  \n",
            "  inflating: /content/dataset/avec14/image/train_Northwind/318_3_Northwind_video_aligned/0153.jpg  \n",
            "  inflating: /content/dataset/avec14/image/train_Northwind/318_3_Northwind_video_aligned/0156.jpg  \n",
            "  inflating: /content/dataset/avec14/image/train_Northwind/318_3_Northwind_video_aligned/0159.jpg  \n",
            "  inflating: /content/dataset/avec14/image/train_Northwind/318_3_Northwind_video_aligned/0162.jpg  \n",
            "  inflating: /content/dataset/avec14/image/train_Northwind/318_3_Northwind_video_aligned/0165.jpg  \n",
            "  inflating: /content/dataset/avec14/image/train_Northwind/318_3_Northwind_video_aligned/0168.jpg  \n",
            "  inflating: /content/dataset/avec14/image/train_Northwind/318_3_Northwind_video_aligned/0171.jpg  \n",
            "  inflating: /content/dataset/avec14/image/train_Northwind/318_3_Northwind_video_aligned/0174.jpg  \n",
            "  inflating: /content/dataset/avec14/image/train_Northwind/318_3_Northwind_video_aligned/0177.jpg  \n",
            "  inflating: /content/dataset/avec14/image/train_Northwind/318_3_Northwind_video_aligned/0180.jpg  \n",
            "  inflating: /content/dataset/avec14/image/train_Northwind/318_3_Northwind_video_aligned/0183.jpg  \n",
            "  inflating: /content/dataset/avec14/image/train_Northwind/318_3_Northwind_video_aligned/0186.jpg  \n",
            "  inflating: /content/dataset/avec14/image/train_Northwind/318_3_Northwind_video_aligned/0189.jpg  \n",
            "  inflating: /content/dataset/avec14/image/train_Northwind/318_3_Northwind_video_aligned/0192.jpg  \n",
            "  inflating: /content/dataset/avec14/image/train_Northwind/318_3_Northwind_video_aligned/0195.jpg  \n",
            "  inflating: /content/dataset/avec14/image/train_Northwind/318_3_Northwind_video_aligned/0198.jpg  \n",
            "  inflating: /content/dataset/avec14/image/train_Northwind/318_3_Northwind_video_aligned/0201.jpg  \n",
            "  inflating: /content/dataset/avec14/image/train_Northwind/318_3_Northwind_video_aligned/0204.jpg  \n",
            "  inflating: /content/dataset/avec14/image/train_Northwind/318_3_Northwind_video_aligned/0207.jpg  \n",
            "  inflating: /content/dataset/avec14/image/train_Northwind/318_3_Northwind_video_aligned/0210.jpg  \n",
            "  inflating: /content/dataset/avec14/image/train_Northwind/318_3_Northwind_video_aligned/0213.jpg  \n",
            "  inflating: /content/dataset/avec14/image/train_Northwind/318_3_Northwind_video_aligned/0216.jpg  \n",
            "  inflating: /content/dataset/avec14/image/train_Northwind/318_3_Northwind_video_aligned/0219.jpg  \n",
            "  inflating: /content/dataset/avec14/image/train_Northwind/318_3_Northwind_video_aligned/0222.jpg  \n",
            "  inflating: /content/dataset/avec14/image/train_Northwind/318_3_Northwind_video_aligned/0225.jpg  \n",
            "  inflating: /content/dataset/avec14/image/train_Northwind/318_3_Northwind_video_aligned/0228.jpg  \n",
            "  inflating: /content/dataset/avec14/image/train_Northwind/318_3_Northwind_video_aligned/0231.jpg  \n",
            "  inflating: /content/dataset/avec14/image/train_Northwind/318_3_Northwind_video_aligned/0234.jpg  \n",
            "  inflating: /content/dataset/avec14/image/train_Northwind/318_3_Northwind_video_aligned/0237.jpg  \n",
            "  inflating: /content/dataset/avec14/image/train_Northwind/318_3_Northwind_video_aligned/0240.jpg  \n",
            "  inflating: /content/dataset/avec14/image/train_Northwind/318_3_Northwind_video_aligned/0243.jpg  \n",
            "  inflating: /content/dataset/avec14/image/train_Northwind/318_3_Northwind_video_aligned/0246.jpg  \n",
            "  inflating: /content/dataset/avec14/image/train_Northwind/318_3_Northwind_video_aligned/0249.jpg  \n",
            "  inflating: /content/dataset/avec14/image/train_Northwind/318_3_Northwind_video_aligned/0252.jpg  \n",
            "  inflating: /content/dataset/avec14/image/train_Northwind/318_3_Northwind_video_aligned/0255.jpg  \n",
            "  inflating: /content/dataset/avec14/image/train_Northwind/318_3_Northwind_video_aligned/0258.jpg  \n",
            "  inflating: /content/dataset/avec14/image/train_Northwind/318_3_Northwind_video_aligned/0261.jpg  \n",
            "  inflating: /content/dataset/avec14/image/train_Northwind/318_3_Northwind_video_aligned/0264.jpg  \n",
            "  inflating: /content/dataset/avec14/image/train_Northwind/318_3_Northwind_video_aligned/0267.jpg  \n",
            "  inflating: /content/dataset/avec14/image/train_Northwind/318_3_Northwind_video_aligned/0270.jpg  \n",
            "  inflating: /content/dataset/avec14/image/train_Northwind/318_3_Northwind_video_aligned/0273.jpg  \n",
            "  inflating: /content/dataset/avec14/image/train_Northwind/318_3_Northwind_video_aligned/0276.jpg  \n",
            "  inflating: /content/dataset/avec14/image/train_Northwind/318_3_Northwind_video_aligned/0279.jpg  \n",
            "  inflating: /content/dataset/avec14/image/train_Northwind/318_3_Northwind_video_aligned/0282.jpg  \n",
            "  inflating: /content/dataset/avec14/image/train_Northwind/318_3_Northwind_video_aligned/0285.jpg  \n",
            "  inflating: /content/dataset/avec14/image/train_Northwind/318_3_Northwind_video_aligned/0288.jpg  \n",
            "  inflating: /content/dataset/avec14/image/train_Northwind/318_3_Northwind_video_aligned/0291.jpg  \n",
            "  inflating: /content/dataset/avec14/image/train_Northwind/318_3_Northwind_video_aligned/0294.jpg  \n",
            "  inflating: /content/dataset/avec14/image/train_Northwind/318_3_Northwind_video_aligned/0297.jpg  \n",
            "  inflating: /content/dataset/avec14/image/train_Northwind/318_3_Northwind_video_aligned/0300.jpg  \n",
            "  inflating: /content/dataset/avec14/image/train_Northwind/318_3_Northwind_video_aligned/0303.jpg  \n",
            "  inflating: /content/dataset/avec14/image/train_Northwind/318_3_Northwind_video_aligned/0306.jpg  \n",
            "  inflating: /content/dataset/avec14/image/train_Northwind/318_3_Northwind_video_aligned/0309.jpg  \n",
            "  inflating: /content/dataset/avec14/image/train_Northwind/318_3_Northwind_video_aligned/0312.jpg  \n",
            "  inflating: /content/dataset/avec14/image/train_Northwind/318_3_Northwind_video_aligned/0315.jpg  \n",
            "  inflating: /content/dataset/avec14/image/train_Northwind/318_3_Northwind_video_aligned/0318.jpg  \n",
            "  inflating: /content/dataset/avec14/image/train_Northwind/318_3_Northwind_video_aligned/0321.jpg  \n",
            "  inflating: /content/dataset/avec14/image/train_Northwind/318_3_Northwind_video_aligned/0324.jpg  \n",
            "  inflating: /content/dataset/avec14/image/train_Northwind/318_3_Northwind_video_aligned/0327.jpg  \n",
            "  inflating: /content/dataset/avec14/image/train_Northwind/318_3_Northwind_video_aligned/0330.jpg  \n",
            "  inflating: /content/dataset/avec14/image/train_Northwind/318_3_Northwind_video_aligned/0333.jpg  \n",
            "  inflating: /content/dataset/avec14/image/train_Northwind/318_3_Northwind_video_aligned/0336.jpg  \n",
            "  inflating: /content/dataset/avec14/image/train_Northwind/318_3_Northwind_video_aligned/0339.jpg  \n",
            "  inflating: /content/dataset/avec14/image/train_Northwind/318_3_Northwind_video_aligned/0342.jpg  \n",
            "  inflating: /content/dataset/avec14/image/train_Northwind/318_3_Northwind_video_aligned/0345.jpg  \n",
            "  inflating: /content/dataset/avec14/image/train_Northwind/318_3_Northwind_video_aligned/0348.jpg  \n",
            "  inflating: /content/dataset/avec14/image/train_Northwind/318_3_Northwind_video_aligned/0351.jpg  \n",
            "  inflating: /content/dataset/avec14/image/train_Northwind/318_3_Northwind_video_aligned/0354.jpg  \n",
            "  inflating: /content/dataset/avec14/image/train_Northwind/318_3_Northwind_video_aligned/0357.jpg  \n",
            "  inflating: /content/dataset/avec14/image/train_Northwind/318_3_Northwind_video_aligned/0360.jpg  \n",
            "  inflating: /content/dataset/avec14/image/train_Northwind/318_3_Northwind_video_aligned/0363.jpg  \n",
            "  inflating: /content/dataset/avec14/image/train_Northwind/318_3_Northwind_video_aligned/0366.jpg  \n",
            "  inflating: /content/dataset/avec14/image/train_Northwind/318_3_Northwind_video_aligned/0369.jpg  \n",
            "  inflating: /content/dataset/avec14/image/train_Northwind/318_3_Northwind_video_aligned/0372.jpg  \n",
            "  inflating: /content/dataset/avec14/image/train_Northwind/318_3_Northwind_video_aligned/0375.jpg  \n",
            "  inflating: /content/dataset/avec14/image/train_Northwind/318_3_Northwind_video_aligned/0378.jpg  \n",
            "  inflating: /content/dataset/avec14/image/train_Northwind/318_3_Northwind_video_aligned/0381.jpg  \n",
            "  inflating: /content/dataset/avec14/image/train_Northwind/318_3_Northwind_video_aligned/0384.jpg  \n",
            "  inflating: /content/dataset/avec14/image/train_Northwind/318_3_Northwind_video_aligned/0387.jpg  \n",
            "  inflating: /content/dataset/avec14/image/train_Northwind/318_3_Northwind_video_aligned/0390.jpg  \n",
            "  inflating: /content/dataset/avec14/image/train_Northwind/318_3_Northwind_video_aligned/0393.jpg  \n",
            "  inflating: /content/dataset/avec14/image/train_Northwind/318_3_Northwind_video_aligned/0396.jpg  \n",
            "  inflating: /content/dataset/avec14/image/train_Northwind/318_3_Northwind_video_aligned/0399.jpg  \n",
            "  inflating: /content/dataset/avec14/image/train_Northwind/318_3_Northwind_video_aligned/0402.jpg  \n",
            "  inflating: /content/dataset/avec14/image/train_Northwind/318_3_Northwind_video_aligned/0405.jpg  \n",
            "  inflating: /content/dataset/avec14/image/train_Northwind/318_3_Northwind_video_aligned/0408.jpg  \n",
            "  inflating: /content/dataset/avec14/image/train_Northwind/318_3_Northwind_video_aligned/0411.jpg  \n",
            "  inflating: /content/dataset/avec14/image/train_Northwind/318_3_Northwind_video_aligned/0414.jpg  \n",
            "  inflating: /content/dataset/avec14/image/train_Northwind/318_3_Northwind_video_aligned/0417.jpg  \n",
            "  inflating: /content/dataset/avec14/image/train_Northwind/318_3_Northwind_video_aligned/0420.jpg  \n",
            "  inflating: /content/dataset/avec14/image/train_Northwind/318_3_Northwind_video_aligned/0423.jpg  \n",
            "  inflating: /content/dataset/avec14/image/train_Northwind/318_3_Northwind_video_aligned/0426.jpg  \n",
            "  inflating: /content/dataset/avec14/image/train_Northwind/318_3_Northwind_video_aligned/0429.jpg  \n",
            "  inflating: /content/dataset/avec14/image/train_Northwind/318_3_Northwind_video_aligned/0432.jpg  \n",
            "  inflating: /content/dataset/avec14/image/train_Northwind/318_3_Northwind_video_aligned/0435.jpg  \n",
            "  inflating: /content/dataset/avec14/image/train_Northwind/318_3_Northwind_video_aligned/0438.jpg  \n",
            "  inflating: /content/dataset/avec14/image/train_Northwind/318_3_Northwind_video_aligned/0441.jpg  \n",
            "  inflating: /content/dataset/avec14/image/train_Northwind/318_3_Northwind_video_aligned/0444.jpg  \n",
            "  inflating: /content/dataset/avec14/image/train_Northwind/318_3_Northwind_video_aligned/0447.jpg  \n",
            "  inflating: /content/dataset/avec14/image/train_Northwind/318_3_Northwind_video_aligned/0450.jpg  \n",
            "  inflating: /content/dataset/avec14/image/train_Northwind/318_3_Northwind_video_aligned/0453.jpg  \n",
            "  inflating: /content/dataset/avec14/image/train_Northwind/318_3_Northwind_video_aligned/0456.jpg  \n",
            "  inflating: /content/dataset/avec14/image/train_Northwind/318_3_Northwind_video_aligned/0459.jpg  \n",
            "  inflating: /content/dataset/avec14/image/train_Northwind/318_3_Northwind_video_aligned/0462.jpg  \n",
            "  inflating: /content/dataset/avec14/image/train_Northwind/318_3_Northwind_video_aligned/0465.jpg  \n",
            "  inflating: /content/dataset/avec14/image/train_Northwind/318_3_Northwind_video_aligned/0468.jpg  \n",
            "  inflating: /content/dataset/avec14/image/train_Northwind/318_3_Northwind_video_aligned/0471.jpg  \n",
            "  inflating: /content/dataset/avec14/image/train_Northwind/318_3_Northwind_video_aligned/0474.jpg  \n",
            "  inflating: /content/dataset/avec14/image/train_Northwind/318_3_Northwind_video_aligned/0477.jpg  \n",
            "  inflating: /content/dataset/avec14/image/train_Northwind/318_3_Northwind_video_aligned/0480.jpg  \n",
            "  inflating: /content/dataset/avec14/image/train_Northwind/318_3_Northwind_video_aligned/0483.jpg  \n",
            "  inflating: /content/dataset/avec14/image/train_Northwind/318_3_Northwind_video_aligned/0486.jpg  \n",
            "  inflating: /content/dataset/avec14/image/train_Northwind/318_3_Northwind_video_aligned/0489.jpg  \n",
            "  inflating: /content/dataset/avec14/image/train_Northwind/318_3_Northwind_video_aligned/0492.jpg  \n",
            "  inflating: /content/dataset/avec14/image/train_Northwind/318_3_Northwind_video_aligned/0495.jpg  \n",
            "  inflating: /content/dataset/avec14/image/train_Northwind/318_3_Northwind_video_aligned/0498.jpg  \n",
            "  inflating: /content/dataset/avec14/image/train_Northwind/318_3_Northwind_video_aligned/0501.jpg  \n",
            "  inflating: /content/dataset/avec14/image/train_Northwind/318_3_Northwind_video_aligned/0504.jpg  \n",
            "  inflating: /content/dataset/avec14/image/train_Northwind/318_3_Northwind_video_aligned/0507.jpg  \n",
            "  inflating: /content/dataset/avec14/image/train_Northwind/318_3_Northwind_video_aligned/0510.jpg  \n",
            "  inflating: /content/dataset/avec14/image/train_Northwind/318_3_Northwind_video_aligned/0513.jpg  \n",
            "  inflating: /content/dataset/avec14/image/train_Northwind/318_3_Northwind_video_aligned/0516.jpg  \n",
            "  inflating: /content/dataset/avec14/image/train_Northwind/318_3_Northwind_video_aligned/0519.jpg  \n",
            "  inflating: /content/dataset/avec14/image/train_Northwind/318_3_Northwind_video_aligned/0522.jpg  \n",
            "  inflating: /content/dataset/avec14/image/train_Northwind/318_3_Northwind_video_aligned/0525.jpg  \n",
            "  inflating: /content/dataset/avec14/image/train_Northwind/318_3_Northwind_video_aligned/0528.jpg  \n",
            "  inflating: /content/dataset/avec14/image/train_Northwind/318_3_Northwind_video_aligned/0531.jpg  \n",
            "  inflating: /content/dataset/avec14/image/train_Northwind/318_3_Northwind_video_aligned/0534.jpg  \n",
            "  inflating: /content/dataset/avec14/image/train_Northwind/318_3_Northwind_video_aligned/0537.jpg  \n",
            "  inflating: /content/dataset/avec14/image/train_Northwind/318_3_Northwind_video_aligned/0540.jpg  \n",
            "  inflating: /content/dataset/avec14/image/train_Northwind/318_3_Northwind_video_aligned/0543.jpg  \n",
            "  inflating: /content/dataset/avec14/image/train_Northwind/318_3_Northwind_video_aligned/0546.jpg  \n",
            "  inflating: /content/dataset/avec14/image/train_Northwind/318_3_Northwind_video_aligned/0549.jpg  \n",
            "  inflating: /content/dataset/avec14/image/train_Northwind/318_3_Northwind_video_aligned/0552.jpg  \n",
            "  inflating: /content/dataset/avec14/image/train_Northwind/318_3_Northwind_video_aligned/0555.jpg  \n",
            "  inflating: /content/dataset/avec14/image/train_Northwind/318_3_Northwind_video_aligned/0558.jpg  \n",
            "  inflating: /content/dataset/avec14/image/train_Northwind/318_3_Northwind_video_aligned/0561.jpg  \n",
            "  inflating: /content/dataset/avec14/image/train_Northwind/318_3_Northwind_video_aligned/0564.jpg  \n",
            "  inflating: /content/dataset/avec14/image/train_Northwind/318_3_Northwind_video_aligned/0567.jpg  \n",
            "  inflating: /content/dataset/avec14/image/train_Northwind/318_3_Northwind_video_aligned/0570.jpg  \n",
            "  inflating: /content/dataset/avec14/image/train_Northwind/318_3_Northwind_video_aligned/0573.jpg  \n",
            "  inflating: /content/dataset/avec14/image/train_Northwind/318_3_Northwind_video_aligned/0576.jpg  \n",
            "  inflating: /content/dataset/avec14/image/train_Northwind/318_3_Northwind_video_aligned/0579.jpg  \n",
            "  inflating: /content/dataset/avec14/image/train_Northwind/318_3_Northwind_video_aligned/0582.jpg  \n",
            "  inflating: /content/dataset/avec14/image/train_Northwind/318_3_Northwind_video_aligned/0585.jpg  \n",
            "  inflating: /content/dataset/avec14/image/train_Northwind/318_3_Northwind_video_aligned/0588.jpg  \n",
            "  inflating: /content/dataset/avec14/image/train_Northwind/318_3_Northwind_video_aligned/0591.jpg  \n",
            "  inflating: /content/dataset/avec14/image/train_Northwind/318_3_Northwind_video_aligned/0594.jpg  \n",
            "  inflating: /content/dataset/avec14/image/train_Northwind/318_3_Northwind_video_aligned/0597.jpg  \n",
            "  inflating: /content/dataset/avec14/image/train_Northwind/318_3_Northwind_video_aligned/0600.jpg  \n",
            "  inflating: /content/dataset/avec14/image/train_Northwind/318_3_Northwind_video_aligned/0603.jpg  \n",
            "  inflating: /content/dataset/avec14/image/train_Northwind/318_3_Northwind_video_aligned/0606.jpg  \n",
            "  inflating: /content/dataset/avec14/image/train_Northwind/318_3_Northwind_video_aligned/0609.jpg  \n",
            "  inflating: /content/dataset/avec14/image/train_Northwind/318_3_Northwind_video_aligned/0612.jpg  \n",
            "  inflating: /content/dataset/avec14/image/train_Northwind/318_3_Northwind_video_aligned/0615.jpg  \n",
            "  inflating: /content/dataset/avec14/image/train_Northwind/318_3_Northwind_video_aligned/0618.jpg  \n",
            "  inflating: /content/dataset/avec14/image/train_Northwind/318_3_Northwind_video_aligned/0621.jpg  \n",
            "  inflating: /content/dataset/avec14/image/train_Northwind/318_3_Northwind_video_aligned/0624.jpg  \n",
            "  inflating: /content/dataset/avec14/image/train_Northwind/318_3_Northwind_video_aligned/0627.jpg  \n",
            "  inflating: /content/dataset/avec14/image/train_Northwind/318_3_Northwind_video_aligned/0630.jpg  \n",
            "  inflating: /content/dataset/avec14/image/train_Northwind/318_3_Northwind_video_aligned/0633.jpg  \n",
            "  inflating: /content/dataset/avec14/image/train_Northwind/318_3_Northwind_video_aligned/0636.jpg  \n",
            "  inflating: /content/dataset/avec14/image/train_Northwind/318_3_Northwind_video_aligned/0639.jpg  \n",
            "  inflating: /content/dataset/avec14/image/train_Northwind/318_3_Northwind_video_aligned/0642.jpg  \n",
            "  inflating: /content/dataset/avec14/image/train_Northwind/318_3_Northwind_video_aligned/0645.jpg  \n",
            "  inflating: /content/dataset/avec14/image/train_Northwind/318_3_Northwind_video_aligned/0648.jpg  \n",
            "  inflating: /content/dataset/avec14/image/train_Northwind/318_3_Northwind_video_aligned/0651.jpg  \n",
            "  inflating: /content/dataset/avec14/image/train_Northwind/318_3_Northwind_video_aligned/0654.jpg  \n",
            "  inflating: /content/dataset/avec14/image/train_Northwind/318_3_Northwind_video_aligned/0657.jpg  \n",
            "  inflating: /content/dataset/avec14/image/train_Northwind/318_3_Northwind_video_aligned/0660.jpg  \n",
            "  inflating: /content/dataset/avec14/image/train_Northwind/318_3_Northwind_video_aligned/0663.jpg  \n",
            "  inflating: /content/dataset/avec14/image/train_Northwind/318_3_Northwind_video_aligned/0666.jpg  \n",
            "  inflating: /content/dataset/avec14/image/train_Northwind/318_3_Northwind_video_aligned/0669.jpg  \n",
            "  inflating: /content/dataset/avec14/image/train_Northwind/318_3_Northwind_video_aligned/0672.jpg  \n",
            "  inflating: /content/dataset/avec14/image/train_Northwind/318_3_Northwind_video_aligned/0675.jpg  \n",
            "  inflating: /content/dataset/avec14/image/train_Northwind/318_3_Northwind_video_aligned/0678.jpg  \n",
            "  inflating: /content/dataset/avec14/image/train_Northwind/318_3_Northwind_video_aligned/0681.jpg  \n",
            "  inflating: /content/dataset/avec14/image/train_Northwind/318_3_Northwind_video_aligned/0684.jpg  \n",
            "  inflating: /content/dataset/avec14/image/train_Northwind/318_3_Northwind_video_aligned/0687.jpg  \n",
            "  inflating: /content/dataset/avec14/image/train_Northwind/318_3_Northwind_video_aligned/0690.jpg  \n",
            "  inflating: /content/dataset/avec14/image/train_Northwind/318_3_Northwind_video_aligned/0693.jpg  \n",
            "  inflating: /content/dataset/avec14/image/train_Northwind/318_3_Northwind_video_aligned/0696.jpg  \n",
            "  inflating: /content/dataset/avec14/image/train_Northwind/318_3_Northwind_video_aligned/0699.jpg  \n",
            "  inflating: /content/dataset/avec14/image/train_Northwind/318_3_Northwind_video_aligned/0702.jpg  \n",
            "  inflating: /content/dataset/avec14/image/train_Northwind/318_3_Northwind_video_aligned/0705.jpg  \n",
            "  inflating: /content/dataset/avec14/image/train_Northwind/318_3_Northwind_video_aligned/0708.jpg  \n",
            "  inflating: /content/dataset/avec14/image/train_Northwind/318_3_Northwind_video_aligned/0711.jpg  \n",
            "  inflating: /content/dataset/avec14/image/train_Northwind/318_3_Northwind_video_aligned/0714.jpg  \n",
            "  inflating: /content/dataset/avec14/image/train_Northwind/318_3_Northwind_video_aligned/0717.jpg  \n",
            "  inflating: /content/dataset/avec14/image/train_Northwind/318_3_Northwind_video_aligned/0720.jpg  \n",
            "  inflating: /content/dataset/avec14/image/train_Northwind/318_3_Northwind_video_aligned/0723.jpg  \n",
            "  inflating: /content/dataset/avec14/image/train_Northwind/318_3_Northwind_video_aligned/0726.jpg  \n",
            "  inflating: /content/dataset/avec14/image/train_Northwind/318_3_Northwind_video_aligned/0729.jpg  \n",
            "  inflating: /content/dataset/avec14/image/train_Northwind/318_3_Northwind_video_aligned/0732.jpg  \n",
            "  inflating: /content/dataset/avec14/image/train_Northwind/318_3_Northwind_video_aligned/0735.jpg  \n",
            "  inflating: /content/dataset/avec14/image/train_Northwind/318_3_Northwind_video_aligned/0738.jpg  \n",
            "  inflating: /content/dataset/avec14/image/train_Northwind/318_3_Northwind_video_aligned/0741.jpg  \n",
            "  inflating: /content/dataset/avec14/image/train_Northwind/318_3_Northwind_video_aligned/0744.jpg  \n",
            "  inflating: /content/dataset/avec14/image/train_Northwind/318_3_Northwind_video_aligned/0747.jpg  \n",
            "  inflating: /content/dataset/avec14/image/train_Northwind/318_3_Northwind_video_aligned/0750.jpg  \n",
            "  inflating: /content/dataset/avec14/image/train_Northwind/318_3_Northwind_video_aligned/0753.jpg  \n",
            "  inflating: /content/dataset/avec14/image/train_Northwind/318_3_Northwind_video_aligned/0756.jpg  \n",
            "  inflating: /content/dataset/avec14/image/train_Northwind/318_3_Northwind_video_aligned/0759.jpg  \n",
            "  inflating: /content/dataset/avec14/image/train_Northwind/318_3_Northwind_video_aligned/0762.jpg  \n",
            "  inflating: /content/dataset/avec14/image/train_Northwind/318_3_Northwind_video_aligned/0765.jpg  \n",
            "  inflating: /content/dataset/avec14/image/train_Northwind/318_3_Northwind_video_aligned/0768.jpg  \n",
            "  inflating: /content/dataset/avec14/image/train_Northwind/318_3_Northwind_video_aligned/0771.jpg  \n",
            "  inflating: /content/dataset/avec14/image/train_Northwind/318_3_Northwind_video_aligned/0774.jpg  \n",
            "  inflating: /content/dataset/avec14/image/train_Northwind/318_3_Northwind_video_aligned/0777.jpg  \n",
            "  inflating: /content/dataset/avec14/image/train_Northwind/318_3_Northwind_video_aligned/0780.jpg  \n",
            "  inflating: /content/dataset/avec14/image/train_Northwind/318_3_Northwind_video_aligned/0783.jpg  \n",
            "  inflating: /content/dataset/avec14/image/train_Northwind/318_3_Northwind_video_aligned/0786.jpg  \n",
            "  inflating: /content/dataset/avec14/image/train_Northwind/318_3_Northwind_video_aligned/0789.jpg  \n",
            "  inflating: /content/dataset/avec14/image/train_Northwind/318_3_Northwind_video_aligned/0792.jpg  \n",
            "  inflating: /content/dataset/avec14/image/train_Northwind/318_3_Northwind_video_aligned/0795.jpg  \n",
            "  inflating: /content/dataset/avec14/image/train_Northwind/318_3_Northwind_video_aligned/0798.jpg  \n",
            "  inflating: /content/dataset/avec14/image/train_Northwind/318_3_Northwind_video_aligned/0801.jpg  \n",
            "  inflating: /content/dataset/avec14/image/train_Northwind/318_3_Northwind_video_aligned/0804.jpg  \n",
            "  inflating: /content/dataset/avec14/image/train_Northwind/318_3_Northwind_video_aligned/0807.jpg  \n",
            "  inflating: /content/dataset/avec14/image/train_Northwind/318_3_Northwind_video_aligned/0810.jpg  \n",
            "  inflating: /content/dataset/avec14/image/train_Northwind/318_3_Northwind_video_aligned/0813.jpg  \n",
            "  inflating: /content/dataset/avec14/image/train_Northwind/318_3_Northwind_video_aligned/0816.jpg  \n",
            "  inflating: /content/dataset/avec14/image/train_Northwind/318_3_Northwind_video_aligned/0819.jpg  \n",
            "  inflating: /content/dataset/avec14/image/train_Northwind/318_3_Northwind_video_aligned/0822.jpg  \n",
            "  inflating: /content/dataset/avec14/image/train_Northwind/318_3_Northwind_video_aligned/0825.jpg  \n",
            "  inflating: /content/dataset/avec14/image/train_Northwind/318_3_Northwind_video_aligned/0828.jpg  \n",
            "  inflating: /content/dataset/avec14/image/train_Northwind/318_3_Northwind_video_aligned/0831.jpg  \n",
            "  inflating: /content/dataset/avec14/image/train_Northwind/318_3_Northwind_video_aligned/0834.jpg  \n",
            "  inflating: /content/dataset/avec14/image/train_Northwind/318_3_Northwind_video_aligned/0837.jpg  \n",
            "  inflating: /content/dataset/avec14/image/train_Northwind/318_3_Northwind_video_aligned/0840.jpg  \n",
            "  inflating: /content/dataset/avec14/image/train_Northwind/318_3_Northwind_video_aligned/0843.jpg  \n",
            "  inflating: /content/dataset/avec14/image/train_Northwind/318_3_Northwind_video_aligned/0846.jpg  \n",
            "  inflating: /content/dataset/avec14/image/train_Northwind/318_3_Northwind_video_aligned/0849.jpg  \n",
            "  inflating: /content/dataset/avec14/image/train_Northwind/318_3_Northwind_video_aligned/0852.jpg  \n",
            "  inflating: /content/dataset/avec14/image/train_Northwind/318_3_Northwind_video_aligned/0855.jpg  \n",
            "  inflating: /content/dataset/avec14/image/train_Northwind/318_3_Northwind_video_aligned/0858.jpg  \n",
            "  inflating: /content/dataset/avec14/image/train_Northwind/318_3_Northwind_video_aligned/0861.jpg  \n",
            "  inflating: /content/dataset/avec14/image/train_Northwind/318_3_Northwind_video_aligned/0864.jpg  \n",
            "  inflating: /content/dataset/avec14/image/train_Northwind/318_3_Northwind_video_aligned/0867.jpg  \n",
            "  inflating: /content/dataset/avec14/image/train_Northwind/318_3_Northwind_video_aligned/0870.jpg  \n",
            "  inflating: /content/dataset/avec14/image/train_Northwind/318_3_Northwind_video_aligned/0873.jpg  \n",
            "  inflating: /content/dataset/avec14/image/train_Northwind/318_3_Northwind_video_aligned/0876.jpg  \n",
            "  inflating: /content/dataset/avec14/image/train_Northwind/318_3_Northwind_video_aligned/0879.jpg  \n",
            "  inflating: /content/dataset/avec14/image/train_Northwind/318_3_Northwind_video_aligned/0882.jpg  \n",
            "  inflating: /content/dataset/avec14/image/train_Northwind/318_3_Northwind_video_aligned/0885.jpg  \n",
            "  inflating: /content/dataset/avec14/image/train_Northwind/318_3_Northwind_video_aligned/0888.jpg  \n",
            "  inflating: /content/dataset/avec14/image/train_Northwind/318_3_Northwind_video_aligned/0891.jpg  \n",
            "  inflating: /content/dataset/avec14/image/train_Northwind/318_3_Northwind_video_aligned/0894.jpg  \n",
            "  inflating: /content/dataset/avec14/image/train_Northwind/318_3_Northwind_video_aligned/0897.jpg  \n",
            "  inflating: /content/dataset/avec14/image/train_Northwind/318_3_Northwind_video_aligned/0900.jpg  \n",
            "  inflating: /content/dataset/avec14/image/train_Northwind/318_3_Northwind_video_aligned/0903.jpg  \n",
            "  inflating: /content/dataset/avec14/image/train_Northwind/318_3_Northwind_video_aligned/0906.jpg  \n",
            "  inflating: /content/dataset/avec14/image/train_Northwind/318_3_Northwind_video_aligned/0909.jpg  \n",
            "  inflating: /content/dataset/avec14/image/train_Northwind/318_3_Northwind_video_aligned/0912.jpg  \n",
            "  inflating: /content/dataset/avec14/image/train_Northwind/318_3_Northwind_video_aligned/0915.jpg  \n",
            "  inflating: /content/dataset/avec14/image/train_Northwind/318_3_Northwind_video_aligned/0918.jpg  \n",
            "  inflating: /content/dataset/avec14/image/train_Northwind/318_3_Northwind_video_aligned/0921.jpg  \n",
            "  inflating: /content/dataset/avec14/image/train_Northwind/318_3_Northwind_video_aligned/0924.jpg  \n",
            "  inflating: /content/dataset/avec14/image/train_Northwind/318_3_Northwind_video_aligned/0927.jpg  \n",
            "  inflating: /content/dataset/avec14/image/train_Northwind/318_3_Northwind_video_aligned/0930.jpg  \n",
            "  inflating: /content/dataset/avec14/image/train_Northwind/318_3_Northwind_video_aligned/0933.jpg  \n",
            "  inflating: /content/dataset/avec14/image/train_Northwind/318_3_Northwind_video_aligned/0936.jpg  \n",
            "  inflating: /content/dataset/avec14/image/train_Northwind/318_3_Northwind_video_aligned/0939.jpg  \n",
            "  inflating: /content/dataset/avec14/image/train_Northwind/318_3_Northwind_video_aligned/0942.jpg  \n",
            "  inflating: /content/dataset/avec14/image/train_Northwind/318_3_Northwind_video_aligned/0945.jpg  \n",
            "  inflating: /content/dataset/avec14/image/train_Northwind/318_3_Northwind_video_aligned/0948.jpg  \n",
            "  inflating: /content/dataset/avec14/image/train_Northwind/318_3_Northwind_video_aligned/0951.jpg  \n",
            "  inflating: /content/dataset/avec14/image/train_Northwind/318_3_Northwind_video_aligned/0954.jpg  \n",
            "  inflating: /content/dataset/avec14/image/train_Northwind/318_3_Northwind_video_aligned/0957.jpg  \n",
            "  inflating: /content/dataset/avec14/image/train_Northwind/318_3_Northwind_video_aligned/0960.jpg  \n",
            "  inflating: /content/dataset/avec14/image/train_Northwind/318_3_Northwind_video_aligned/0963.jpg  \n",
            "  inflating: /content/dataset/avec14/image/train_Northwind/318_3_Northwind_video_aligned/0966.jpg  \n",
            "  inflating: /content/dataset/avec14/image/train_Northwind/318_3_Northwind_video_aligned/0969.jpg  \n",
            "  inflating: /content/dataset/avec14/image/train_Northwind/318_3_Northwind_video_aligned/0972.jpg  \n",
            "  inflating: /content/dataset/avec14/image/train_Northwind/318_3_Northwind_video_aligned/0975.jpg  \n",
            "  inflating: /content/dataset/avec14/image/train_Northwind/318_3_Northwind_video_aligned/0978.jpg  \n",
            "  inflating: /content/dataset/avec14/image/train_Northwind/318_3_Northwind_video_aligned/0981.jpg  \n",
            "  inflating: /content/dataset/avec14/image/train_Northwind/318_3_Northwind_video_aligned/0984.jpg  \n",
            "  inflating: /content/dataset/avec14/image/train_Northwind/318_3_Northwind_video_aligned/0987.jpg  \n",
            "  inflating: /content/dataset/avec14/image/train_Northwind/318_3_Northwind_video_aligned/0990.jpg  \n",
            "  inflating: /content/dataset/avec14/image/train_Northwind/318_3_Northwind_video_aligned/0993.jpg  \n",
            "  inflating: /content/dataset/avec14/image/train_Northwind/318_3_Northwind_video_aligned/0996.jpg  \n",
            "  inflating: /content/dataset/avec14/image/train_Northwind/318_3_Northwind_video_aligned/0999.jpg  \n",
            "  inflating: /content/dataset/avec14/image/train_Northwind/318_3_Northwind_video_aligned/1002.jpg  \n",
            "  inflating: /content/dataset/avec14/image/train_Northwind/318_3_Northwind_video_aligned/1005.jpg  \n",
            "  inflating: /content/dataset/avec14/image/train_Northwind/318_3_Northwind_video_aligned/1008.jpg  \n",
            "  inflating: /content/dataset/avec14/image/train_Northwind/318_3_Northwind_video_aligned/1011.jpg  \n",
            "  inflating: /content/dataset/avec14/image/train_Northwind/318_3_Northwind_video_aligned/1014.jpg  \n",
            "  inflating: /content/dataset/avec14/image/train_Northwind/318_3_Northwind_video_aligned/1017.jpg  \n",
            "  inflating: /content/dataset/avec14/image/train_Northwind/318_3_Northwind_video_aligned/1020.jpg  \n",
            "  inflating: /content/dataset/avec14/image/train_Northwind/318_3_Northwind_video_aligned/1023.jpg  \n",
            "  inflating: /content/dataset/avec14/image/train_Northwind/318_3_Northwind_video_aligned/1026.jpg  \n",
            "  inflating: /content/dataset/avec14/image/train_Northwind/318_3_Northwind_video_aligned/1029.jpg  \n",
            "  inflating: /content/dataset/avec14/image/train_Northwind/318_3_Northwind_video_aligned/1032.jpg  \n",
            "  inflating: /content/dataset/avec14/image/train_Northwind/318_3_Northwind_video_aligned/1035.jpg  \n",
            "  inflating: /content/dataset/avec14/image/train_Northwind/318_3_Northwind_video_aligned/1038.jpg  \n",
            "  inflating: /content/dataset/avec14/image/train_Northwind/318_3_Northwind_video_aligned/1041.jpg  \n",
            "  inflating: /content/dataset/avec14/image/train_Northwind/318_3_Northwind_video_aligned/1044.jpg  \n",
            "  inflating: /content/dataset/avec14/image/train_Northwind/318_3_Northwind_video_aligned/1047.jpg  \n",
            "  inflating: /content/dataset/avec14/image/train_Northwind/318_3_Northwind_video_aligned/1050.jpg  \n",
            "  inflating: /content/dataset/avec14/image/train_Northwind/318_3_Northwind_video_aligned/1053.jpg  \n",
            "  inflating: /content/dataset/avec14/image/train_Northwind/318_3_Northwind_video_aligned/1056.jpg  \n",
            "  inflating: /content/dataset/avec14/image/train_Northwind/318_3_Northwind_video_aligned/1059.jpg  \n",
            "  inflating: /content/dataset/avec14/image/train_Northwind/318_3_Northwind_video_aligned/1062.jpg  \n",
            "  inflating: /content/dataset/avec14/image/train_Northwind/318_3_Northwind_video_aligned/1065.jpg  \n",
            "  inflating: /content/dataset/avec14/image/train_Northwind/318_3_Northwind_video_aligned/1068.jpg  \n",
            "  inflating: /content/dataset/avec14/image/train_Northwind/318_3_Northwind_video_aligned/1071.jpg  \n",
            "  inflating: /content/dataset/avec14/image/train_Northwind/318_3_Northwind_video_aligned/1074.jpg  \n",
            "  inflating: /content/dataset/avec14/image/train_Northwind/318_3_Northwind_video_aligned/1077.jpg  \n",
            "   creating: /content/dataset/avec14/image/train_Northwind/320_1_Northwind_video_aligned/\n",
            "  inflating: /content/dataset/avec14/image/train_Northwind/320_1_Northwind_video_aligned/0000.jpg  \n",
            "  inflating: /content/dataset/avec14/image/train_Northwind/320_1_Northwind_video_aligned/0003.jpg  \n",
            "  inflating: /content/dataset/avec14/image/train_Northwind/320_1_Northwind_video_aligned/0006.jpg  \n",
            "  inflating: /content/dataset/avec14/image/train_Northwind/320_1_Northwind_video_aligned/0009.jpg  \n",
            "  inflating: /content/dataset/avec14/image/train_Northwind/320_1_Northwind_video_aligned/0012.jpg  \n",
            "  inflating: /content/dataset/avec14/image/train_Northwind/320_1_Northwind_video_aligned/0015.jpg  \n",
            "  inflating: /content/dataset/avec14/image/train_Northwind/320_1_Northwind_video_aligned/0018.jpg  \n",
            "  inflating: /content/dataset/avec14/image/train_Northwind/320_1_Northwind_video_aligned/0021.jpg  \n",
            "  inflating: /content/dataset/avec14/image/train_Northwind/320_1_Northwind_video_aligned/0024.jpg  \n",
            "  inflating: /content/dataset/avec14/image/train_Northwind/320_1_Northwind_video_aligned/0027.jpg  \n",
            "  inflating: /content/dataset/avec14/image/train_Northwind/320_1_Northwind_video_aligned/0030.jpg  \n",
            "  inflating: /content/dataset/avec14/image/train_Northwind/320_1_Northwind_video_aligned/0033.jpg  \n",
            "  inflating: /content/dataset/avec14/image/train_Northwind/320_1_Northwind_video_aligned/0036.jpg  \n",
            "  inflating: /content/dataset/avec14/image/train_Northwind/320_1_Northwind_video_aligned/0039.jpg  \n",
            "  inflating: /content/dataset/avec14/image/train_Northwind/320_1_Northwind_video_aligned/0042.jpg  \n",
            "  inflating: /content/dataset/avec14/image/train_Northwind/320_1_Northwind_video_aligned/0045.jpg  \n",
            "  inflating: /content/dataset/avec14/image/train_Northwind/320_1_Northwind_video_aligned/0048.jpg  \n",
            "  inflating: /content/dataset/avec14/image/train_Northwind/320_1_Northwind_video_aligned/0051.jpg  \n",
            "  inflating: /content/dataset/avec14/image/train_Northwind/320_1_Northwind_video_aligned/0054.jpg  \n",
            "  inflating: /content/dataset/avec14/image/train_Northwind/320_1_Northwind_video_aligned/0057.jpg  \n",
            "  inflating: /content/dataset/avec14/image/train_Northwind/320_1_Northwind_video_aligned/0060.jpg  \n",
            "  inflating: /content/dataset/avec14/image/train_Northwind/320_1_Northwind_video_aligned/0063.jpg  \n",
            "  inflating: /content/dataset/avec14/image/train_Northwind/320_1_Northwind_video_aligned/0066.jpg  \n",
            "  inflating: /content/dataset/avec14/image/train_Northwind/320_1_Northwind_video_aligned/0069.jpg  \n",
            "  inflating: /content/dataset/avec14/image/train_Northwind/320_1_Northwind_video_aligned/0072.jpg  \n",
            "  inflating: /content/dataset/avec14/image/train_Northwind/320_1_Northwind_video_aligned/0075.jpg  \n",
            "  inflating: /content/dataset/avec14/image/train_Northwind/320_1_Northwind_video_aligned/0078.jpg  \n",
            "  inflating: /content/dataset/avec14/image/train_Northwind/320_1_Northwind_video_aligned/0081.jpg  \n",
            "  inflating: /content/dataset/avec14/image/train_Northwind/320_1_Northwind_video_aligned/0084.jpg  \n",
            "  inflating: /content/dataset/avec14/image/train_Northwind/320_1_Northwind_video_aligned/0087.jpg  \n",
            "  inflating: /content/dataset/avec14/image/train_Northwind/320_1_Northwind_video_aligned/0090.jpg  \n",
            "  inflating: /content/dataset/avec14/image/train_Northwind/320_1_Northwind_video_aligned/0093.jpg  \n",
            "  inflating: /content/dataset/avec14/image/train_Northwind/320_1_Northwind_video_aligned/0096.jpg  \n",
            "  inflating: /content/dataset/avec14/image/train_Northwind/320_1_Northwind_video_aligned/0099.jpg  \n",
            "  inflating: /content/dataset/avec14/image/train_Northwind/320_1_Northwind_video_aligned/0102.jpg  \n",
            "  inflating: /content/dataset/avec14/image/train_Northwind/320_1_Northwind_video_aligned/0105.jpg  \n",
            "  inflating: /content/dataset/avec14/image/train_Northwind/320_1_Northwind_video_aligned/0108.jpg  \n",
            "  inflating: /content/dataset/avec14/image/train_Northwind/320_1_Northwind_video_aligned/0111.jpg  \n",
            "  inflating: /content/dataset/avec14/image/train_Northwind/320_1_Northwind_video_aligned/0114.jpg  \n",
            "  inflating: /content/dataset/avec14/image/train_Northwind/320_1_Northwind_video_aligned/0117.jpg  \n",
            "  inflating: /content/dataset/avec14/image/train_Northwind/320_1_Northwind_video_aligned/0120.jpg  \n",
            "  inflating: /content/dataset/avec14/image/train_Northwind/320_1_Northwind_video_aligned/0123.jpg  \n",
            "  inflating: /content/dataset/avec14/image/train_Northwind/320_1_Northwind_video_aligned/0126.jpg  \n",
            "  inflating: /content/dataset/avec14/image/train_Northwind/320_1_Northwind_video_aligned/0129.jpg  \n",
            "  inflating: /content/dataset/avec14/image/train_Northwind/320_1_Northwind_video_aligned/0132.jpg  \n",
            "  inflating: /content/dataset/avec14/image/train_Northwind/320_1_Northwind_video_aligned/0135.jpg  \n",
            "  inflating: /content/dataset/avec14/image/train_Northwind/320_1_Northwind_video_aligned/0138.jpg  \n",
            "  inflating: /content/dataset/avec14/image/train_Northwind/320_1_Northwind_video_aligned/0141.jpg  \n",
            "  inflating: /content/dataset/avec14/image/train_Northwind/320_1_Northwind_video_aligned/0144.jpg  \n",
            "  inflating: /content/dataset/avec14/image/train_Northwind/320_1_Northwind_video_aligned/0147.jpg  \n",
            "  inflating: /content/dataset/avec14/image/train_Northwind/320_1_Northwind_video_aligned/0150.jpg  \n",
            "  inflating: /content/dataset/avec14/image/train_Northwind/320_1_Northwind_video_aligned/0153.jpg  \n",
            "  inflating: /content/dataset/avec14/image/train_Northwind/320_1_Northwind_video_aligned/0156.jpg  \n",
            "  inflating: /content/dataset/avec14/image/train_Northwind/320_1_Northwind_video_aligned/0159.jpg  \n",
            "  inflating: /content/dataset/avec14/image/train_Northwind/320_1_Northwind_video_aligned/0162.jpg  \n",
            "  inflating: /content/dataset/avec14/image/train_Northwind/320_1_Northwind_video_aligned/0165.jpg  \n",
            "  inflating: /content/dataset/avec14/image/train_Northwind/320_1_Northwind_video_aligned/0168.jpg  \n",
            "  inflating: /content/dataset/avec14/image/train_Northwind/320_1_Northwind_video_aligned/0171.jpg  \n",
            "  inflating: /content/dataset/avec14/image/train_Northwind/320_1_Northwind_video_aligned/0174.jpg  \n",
            "  inflating: /content/dataset/avec14/image/train_Northwind/320_1_Northwind_video_aligned/0177.jpg  \n",
            "  inflating: /content/dataset/avec14/image/train_Northwind/320_1_Northwind_video_aligned/0180.jpg  \n",
            "  inflating: /content/dataset/avec14/image/train_Northwind/320_1_Northwind_video_aligned/0183.jpg  \n",
            "  inflating: /content/dataset/avec14/image/train_Northwind/320_1_Northwind_video_aligned/0186.jpg  \n",
            "  inflating: /content/dataset/avec14/image/train_Northwind/320_1_Northwind_video_aligned/0189.jpg  \n",
            "  inflating: /content/dataset/avec14/image/train_Northwind/320_1_Northwind_video_aligned/0192.jpg  \n",
            "  inflating: /content/dataset/avec14/image/train_Northwind/320_1_Northwind_video_aligned/0195.jpg  \n",
            "  inflating: /content/dataset/avec14/image/train_Northwind/320_1_Northwind_video_aligned/0198.jpg  \n",
            "  inflating: /content/dataset/avec14/image/train_Northwind/320_1_Northwind_video_aligned/0201.jpg  \n",
            "  inflating: /content/dataset/avec14/image/train_Northwind/320_1_Northwind_video_aligned/0204.jpg  \n",
            "  inflating: /content/dataset/avec14/image/train_Northwind/320_1_Northwind_video_aligned/0207.jpg  \n",
            "  inflating: /content/dataset/avec14/image/train_Northwind/320_1_Northwind_video_aligned/0210.jpg  \n",
            "  inflating: /content/dataset/avec14/image/train_Northwind/320_1_Northwind_video_aligned/0213.jpg  \n",
            "  inflating: /content/dataset/avec14/image/train_Northwind/320_1_Northwind_video_aligned/0216.jpg  \n",
            "  inflating: /content/dataset/avec14/image/train_Northwind/320_1_Northwind_video_aligned/0219.jpg  \n",
            "  inflating: /content/dataset/avec14/image/train_Northwind/320_1_Northwind_video_aligned/0222.jpg  \n",
            "  inflating: /content/dataset/avec14/image/train_Northwind/320_1_Northwind_video_aligned/0225.jpg  \n",
            "  inflating: /content/dataset/avec14/image/train_Northwind/320_1_Northwind_video_aligned/0228.jpg  \n",
            "  inflating: /content/dataset/avec14/image/train_Northwind/320_1_Northwind_video_aligned/0231.jpg  \n",
            "  inflating: /content/dataset/avec14/image/train_Northwind/320_1_Northwind_video_aligned/0234.jpg  \n",
            "  inflating: /content/dataset/avec14/image/train_Northwind/320_1_Northwind_video_aligned/0237.jpg  \n",
            "  inflating: /content/dataset/avec14/image/train_Northwind/320_1_Northwind_video_aligned/0240.jpg  \n",
            "  inflating: /content/dataset/avec14/image/train_Northwind/320_1_Northwind_video_aligned/0243.jpg  \n",
            "  inflating: /content/dataset/avec14/image/train_Northwind/320_1_Northwind_video_aligned/0246.jpg  \n",
            "  inflating: /content/dataset/avec14/image/train_Northwind/320_1_Northwind_video_aligned/0249.jpg  \n",
            "  inflating: /content/dataset/avec14/image/train_Northwind/320_1_Northwind_video_aligned/0252.jpg  \n",
            "  inflating: /content/dataset/avec14/image/train_Northwind/320_1_Northwind_video_aligned/0255.jpg  \n",
            "  inflating: /content/dataset/avec14/image/train_Northwind/320_1_Northwind_video_aligned/0258.jpg  \n",
            "  inflating: /content/dataset/avec14/image/train_Northwind/320_1_Northwind_video_aligned/0261.jpg  \n",
            "  inflating: /content/dataset/avec14/image/train_Northwind/320_1_Northwind_video_aligned/0264.jpg  \n",
            "  inflating: /content/dataset/avec14/image/train_Northwind/320_1_Northwind_video_aligned/0267.jpg  \n",
            "  inflating: /content/dataset/avec14/image/train_Northwind/320_1_Northwind_video_aligned/0270.jpg  \n",
            "  inflating: /content/dataset/avec14/image/train_Northwind/320_1_Northwind_video_aligned/0273.jpg  \n",
            "  inflating: /content/dataset/avec14/image/train_Northwind/320_1_Northwind_video_aligned/0276.jpg  \n",
            "  inflating: /content/dataset/avec14/image/train_Northwind/320_1_Northwind_video_aligned/0279.jpg  \n",
            "  inflating: /content/dataset/avec14/image/train_Northwind/320_1_Northwind_video_aligned/0282.jpg  \n",
            "  inflating: /content/dataset/avec14/image/train_Northwind/320_1_Northwind_video_aligned/0285.jpg  \n",
            "  inflating: /content/dataset/avec14/image/train_Northwind/320_1_Northwind_video_aligned/0288.jpg  \n",
            "  inflating: /content/dataset/avec14/image/train_Northwind/320_1_Northwind_video_aligned/0291.jpg  \n",
            "  inflating: /content/dataset/avec14/image/train_Northwind/320_1_Northwind_video_aligned/0294.jpg  \n",
            "  inflating: /content/dataset/avec14/image/train_Northwind/320_1_Northwind_video_aligned/0297.jpg  \n",
            "  inflating: /content/dataset/avec14/image/train_Northwind/320_1_Northwind_video_aligned/0300.jpg  \n",
            "  inflating: /content/dataset/avec14/image/train_Northwind/320_1_Northwind_video_aligned/0303.jpg  \n",
            "  inflating: /content/dataset/avec14/image/train_Northwind/320_1_Northwind_video_aligned/0306.jpg  \n",
            "  inflating: /content/dataset/avec14/image/train_Northwind/320_1_Northwind_video_aligned/0309.jpg  \n",
            "  inflating: /content/dataset/avec14/image/train_Northwind/320_1_Northwind_video_aligned/0312.jpg  \n",
            "  inflating: /content/dataset/avec14/image/train_Northwind/320_1_Northwind_video_aligned/0315.jpg  \n",
            "  inflating: /content/dataset/avec14/image/train_Northwind/320_1_Northwind_video_aligned/0318.jpg  \n",
            "  inflating: /content/dataset/avec14/image/train_Northwind/320_1_Northwind_video_aligned/0321.jpg  \n",
            "  inflating: /content/dataset/avec14/image/train_Northwind/320_1_Northwind_video_aligned/0324.jpg  \n",
            "  inflating: /content/dataset/avec14/image/train_Northwind/320_1_Northwind_video_aligned/0327.jpg  \n",
            "  inflating: /content/dataset/avec14/image/train_Northwind/320_1_Northwind_video_aligned/0330.jpg  \n",
            "  inflating: /content/dataset/avec14/image/train_Northwind/320_1_Northwind_video_aligned/0333.jpg  \n",
            "  inflating: /content/dataset/avec14/image/train_Northwind/320_1_Northwind_video_aligned/0336.jpg  \n",
            "  inflating: /content/dataset/avec14/image/train_Northwind/320_1_Northwind_video_aligned/0339.jpg  \n",
            "  inflating: /content/dataset/avec14/image/train_Northwind/320_1_Northwind_video_aligned/0342.jpg  \n",
            "  inflating: /content/dataset/avec14/image/train_Northwind/320_1_Northwind_video_aligned/0345.jpg  \n",
            "  inflating: /content/dataset/avec14/image/train_Northwind/320_1_Northwind_video_aligned/0348.jpg  \n",
            "  inflating: /content/dataset/avec14/image/train_Northwind/320_1_Northwind_video_aligned/0351.jpg  \n",
            "  inflating: /content/dataset/avec14/image/train_Northwind/320_1_Northwind_video_aligned/0354.jpg  \n",
            "  inflating: /content/dataset/avec14/image/train_Northwind/320_1_Northwind_video_aligned/0357.jpg  \n",
            "  inflating: /content/dataset/avec14/image/train_Northwind/320_1_Northwind_video_aligned/0360.jpg  \n",
            "  inflating: /content/dataset/avec14/image/train_Northwind/320_1_Northwind_video_aligned/0363.jpg  \n",
            "  inflating: /content/dataset/avec14/image/train_Northwind/320_1_Northwind_video_aligned/0366.jpg  \n",
            "  inflating: /content/dataset/avec14/image/train_Northwind/320_1_Northwind_video_aligned/0369.jpg  \n",
            "  inflating: /content/dataset/avec14/image/train_Northwind/320_1_Northwind_video_aligned/0372.jpg  \n",
            "  inflating: /content/dataset/avec14/image/train_Northwind/320_1_Northwind_video_aligned/0375.jpg  \n",
            "  inflating: /content/dataset/avec14/image/train_Northwind/320_1_Northwind_video_aligned/0378.jpg  \n",
            "  inflating: /content/dataset/avec14/image/train_Northwind/320_1_Northwind_video_aligned/0381.jpg  \n",
            "  inflating: /content/dataset/avec14/image/train_Northwind/320_1_Northwind_video_aligned/0384.jpg  \n",
            "  inflating: /content/dataset/avec14/image/train_Northwind/320_1_Northwind_video_aligned/0387.jpg  \n",
            "  inflating: /content/dataset/avec14/image/train_Northwind/320_1_Northwind_video_aligned/0390.jpg  \n",
            "  inflating: /content/dataset/avec14/image/train_Northwind/320_1_Northwind_video_aligned/0393.jpg  \n",
            "  inflating: /content/dataset/avec14/image/train_Northwind/320_1_Northwind_video_aligned/0396.jpg  \n",
            "  inflating: /content/dataset/avec14/image/train_Northwind/320_1_Northwind_video_aligned/0399.jpg  \n",
            "  inflating: /content/dataset/avec14/image/train_Northwind/320_1_Northwind_video_aligned/0402.jpg  \n",
            "  inflating: /content/dataset/avec14/image/train_Northwind/320_1_Northwind_video_aligned/0405.jpg  \n",
            "  inflating: /content/dataset/avec14/image/train_Northwind/320_1_Northwind_video_aligned/0408.jpg  \n",
            "  inflating: /content/dataset/avec14/image/train_Northwind/320_1_Northwind_video_aligned/0411.jpg  \n",
            "  inflating: /content/dataset/avec14/image/train_Northwind/320_1_Northwind_video_aligned/0414.jpg  \n",
            "  inflating: /content/dataset/avec14/image/train_Northwind/320_1_Northwind_video_aligned/0417.jpg  \n",
            "  inflating: /content/dataset/avec14/image/train_Northwind/320_1_Northwind_video_aligned/0420.jpg  \n",
            "  inflating: /content/dataset/avec14/image/train_Northwind/320_1_Northwind_video_aligned/0423.jpg  \n",
            "  inflating: /content/dataset/avec14/image/train_Northwind/320_1_Northwind_video_aligned/0426.jpg  \n",
            "  inflating: /content/dataset/avec14/image/train_Northwind/320_1_Northwind_video_aligned/0429.jpg  \n",
            "  inflating: /content/dataset/avec14/image/train_Northwind/320_1_Northwind_video_aligned/0432.jpg  \n",
            "  inflating: /content/dataset/avec14/image/train_Northwind/320_1_Northwind_video_aligned/0435.jpg  \n",
            "  inflating: /content/dataset/avec14/image/train_Northwind/320_1_Northwind_video_aligned/0438.jpg  \n",
            "  inflating: /content/dataset/avec14/image/train_Northwind/320_1_Northwind_video_aligned/0441.jpg  \n",
            "  inflating: /content/dataset/avec14/image/train_Northwind/320_1_Northwind_video_aligned/0444.jpg  \n",
            "  inflating: /content/dataset/avec14/image/train_Northwind/320_1_Northwind_video_aligned/0447.jpg  \n",
            "  inflating: /content/dataset/avec14/image/train_Northwind/320_1_Northwind_video_aligned/0450.jpg  \n",
            "  inflating: /content/dataset/avec14/image/train_Northwind/320_1_Northwind_video_aligned/0453.jpg  \n",
            "  inflating: /content/dataset/avec14/image/train_Northwind/320_1_Northwind_video_aligned/0456.jpg  \n",
            "  inflating: /content/dataset/avec14/image/train_Northwind/320_1_Northwind_video_aligned/0459.jpg  \n",
            "  inflating: /content/dataset/avec14/image/train_Northwind/320_1_Northwind_video_aligned/0462.jpg  \n",
            "  inflating: /content/dataset/avec14/image/train_Northwind/320_1_Northwind_video_aligned/0465.jpg  \n",
            "  inflating: /content/dataset/avec14/image/train_Northwind/320_1_Northwind_video_aligned/0468.jpg  \n",
            "  inflating: /content/dataset/avec14/image/train_Northwind/320_1_Northwind_video_aligned/0471.jpg  \n",
            "  inflating: /content/dataset/avec14/image/train_Northwind/320_1_Northwind_video_aligned/0474.jpg  \n",
            "  inflating: /content/dataset/avec14/image/train_Northwind/320_1_Northwind_video_aligned/0477.jpg  \n",
            "  inflating: /content/dataset/avec14/image/train_Northwind/320_1_Northwind_video_aligned/0480.jpg  \n",
            "  inflating: /content/dataset/avec14/image/train_Northwind/320_1_Northwind_video_aligned/0483.jpg  \n",
            "  inflating: /content/dataset/avec14/image/train_Northwind/320_1_Northwind_video_aligned/0486.jpg  \n",
            "  inflating: /content/dataset/avec14/image/train_Northwind/320_1_Northwind_video_aligned/0489.jpg  \n",
            "  inflating: /content/dataset/avec14/image/train_Northwind/320_1_Northwind_video_aligned/0492.jpg  \n",
            "  inflating: /content/dataset/avec14/image/train_Northwind/320_1_Northwind_video_aligned/0495.jpg  \n",
            "  inflating: /content/dataset/avec14/image/train_Northwind/320_1_Northwind_video_aligned/0498.jpg  \n",
            "  inflating: /content/dataset/avec14/image/train_Northwind/320_1_Northwind_video_aligned/0501.jpg  \n",
            "  inflating: /content/dataset/avec14/image/train_Northwind/320_1_Northwind_video_aligned/0504.jpg  \n",
            "  inflating: /content/dataset/avec14/image/train_Northwind/320_1_Northwind_video_aligned/0507.jpg  \n",
            "  inflating: /content/dataset/avec14/image/train_Northwind/320_1_Northwind_video_aligned/0510.jpg  \n",
            "  inflating: /content/dataset/avec14/image/train_Northwind/320_1_Northwind_video_aligned/0513.jpg  \n",
            "  inflating: /content/dataset/avec14/image/train_Northwind/320_1_Northwind_video_aligned/0516.jpg  \n",
            "  inflating: /content/dataset/avec14/image/train_Northwind/320_1_Northwind_video_aligned/0519.jpg  \n",
            "  inflating: /content/dataset/avec14/image/train_Northwind/320_1_Northwind_video_aligned/0522.jpg  \n",
            "  inflating: /content/dataset/avec14/image/train_Northwind/320_1_Northwind_video_aligned/0525.jpg  \n",
            "  inflating: /content/dataset/avec14/image/train_Northwind/320_1_Northwind_video_aligned/0528.jpg  \n",
            "  inflating: /content/dataset/avec14/image/train_Northwind/320_1_Northwind_video_aligned/0531.jpg  \n",
            "  inflating: /content/dataset/avec14/image/train_Northwind/320_1_Northwind_video_aligned/0534.jpg  \n",
            "  inflating: /content/dataset/avec14/image/train_Northwind/320_1_Northwind_video_aligned/0537.jpg  \n",
            "  inflating: /content/dataset/avec14/image/train_Northwind/320_1_Northwind_video_aligned/0540.jpg  \n",
            "  inflating: /content/dataset/avec14/image/train_Northwind/320_1_Northwind_video_aligned/0543.jpg  \n",
            "  inflating: /content/dataset/avec14/image/train_Northwind/320_1_Northwind_video_aligned/0546.jpg  \n",
            "  inflating: /content/dataset/avec14/image/train_Northwind/320_1_Northwind_video_aligned/0549.jpg  \n",
            "  inflating: /content/dataset/avec14/image/train_Northwind/320_1_Northwind_video_aligned/0552.jpg  \n",
            "  inflating: /content/dataset/avec14/image/train_Northwind/320_1_Northwind_video_aligned/0555.jpg  \n",
            "  inflating: /content/dataset/avec14/image/train_Northwind/320_1_Northwind_video_aligned/0558.jpg  \n",
            "  inflating: /content/dataset/avec14/image/train_Northwind/320_1_Northwind_video_aligned/0561.jpg  \n",
            "  inflating: /content/dataset/avec14/image/train_Northwind/320_1_Northwind_video_aligned/0564.jpg  \n",
            "  inflating: /content/dataset/avec14/image/train_Northwind/320_1_Northwind_video_aligned/0567.jpg  \n",
            "  inflating: /content/dataset/avec14/image/train_Northwind/320_1_Northwind_video_aligned/0570.jpg  \n",
            "  inflating: /content/dataset/avec14/image/train_Northwind/320_1_Northwind_video_aligned/0573.jpg  \n",
            "  inflating: /content/dataset/avec14/image/train_Northwind/320_1_Northwind_video_aligned/0576.jpg  \n",
            "  inflating: /content/dataset/avec14/image/train_Northwind/320_1_Northwind_video_aligned/0579.jpg  \n",
            "  inflating: /content/dataset/avec14/image/train_Northwind/320_1_Northwind_video_aligned/0582.jpg  \n",
            "  inflating: /content/dataset/avec14/image/train_Northwind/320_1_Northwind_video_aligned/0585.jpg  \n",
            "  inflating: /content/dataset/avec14/image/train_Northwind/320_1_Northwind_video_aligned/0588.jpg  \n",
            "  inflating: /content/dataset/avec14/image/train_Northwind/320_1_Northwind_video_aligned/0591.jpg  \n",
            "  inflating: /content/dataset/avec14/image/train_Northwind/320_1_Northwind_video_aligned/0594.jpg  \n",
            "  inflating: /content/dataset/avec14/image/train_Northwind/320_1_Northwind_video_aligned/0597.jpg  \n",
            "  inflating: /content/dataset/avec14/image/train_Northwind/320_1_Northwind_video_aligned/0600.jpg  \n",
            "  inflating: /content/dataset/avec14/image/train_Northwind/320_1_Northwind_video_aligned/0603.jpg  \n",
            "  inflating: /content/dataset/avec14/image/train_Northwind/320_1_Northwind_video_aligned/0606.jpg  \n",
            "  inflating: /content/dataset/avec14/image/train_Northwind/320_1_Northwind_video_aligned/0609.jpg  \n",
            "  inflating: /content/dataset/avec14/image/train_Northwind/320_1_Northwind_video_aligned/0612.jpg  \n",
            "  inflating: /content/dataset/avec14/image/train_Northwind/320_1_Northwind_video_aligned/0615.jpg  \n",
            "  inflating: /content/dataset/avec14/image/train_Northwind/320_1_Northwind_video_aligned/0618.jpg  \n",
            "  inflating: /content/dataset/avec14/image/train_Northwind/320_1_Northwind_video_aligned/0621.jpg  \n",
            "  inflating: /content/dataset/avec14/image/train_Northwind/320_1_Northwind_video_aligned/0624.jpg  \n",
            "  inflating: /content/dataset/avec14/image/train_Northwind/320_1_Northwind_video_aligned/0627.jpg  \n",
            "  inflating: /content/dataset/avec14/image/train_Northwind/320_1_Northwind_video_aligned/0630.jpg  \n",
            "  inflating: /content/dataset/avec14/image/train_Northwind/320_1_Northwind_video_aligned/0633.jpg  \n",
            "  inflating: /content/dataset/avec14/image/train_Northwind/320_1_Northwind_video_aligned/0636.jpg  \n",
            "  inflating: /content/dataset/avec14/image/train_Northwind/320_1_Northwind_video_aligned/0639.jpg  \n",
            "  inflating: /content/dataset/avec14/image/train_Northwind/320_1_Northwind_video_aligned/0642.jpg  \n",
            "  inflating: /content/dataset/avec14/image/train_Northwind/320_1_Northwind_video_aligned/0645.jpg  \n",
            "  inflating: /content/dataset/avec14/image/train_Northwind/320_1_Northwind_video_aligned/0648.jpg  \n",
            "  inflating: /content/dataset/avec14/image/train_Northwind/320_1_Northwind_video_aligned/0651.jpg  \n",
            "  inflating: /content/dataset/avec14/image/train_Northwind/320_1_Northwind_video_aligned/0654.jpg  \n",
            "  inflating: /content/dataset/avec14/image/train_Northwind/320_1_Northwind_video_aligned/0657.jpg  \n",
            "  inflating: /content/dataset/avec14/image/train_Northwind/320_1_Northwind_video_aligned/0660.jpg  \n",
            "  inflating: /content/dataset/avec14/image/train_Northwind/320_1_Northwind_video_aligned/0663.jpg  \n",
            "  inflating: /content/dataset/avec14/image/train_Northwind/320_1_Northwind_video_aligned/0666.jpg  \n",
            "  inflating: /content/dataset/avec14/image/train_Northwind/320_1_Northwind_video_aligned/0669.jpg  \n",
            "  inflating: /content/dataset/avec14/image/train_Northwind/320_1_Northwind_video_aligned/0672.jpg  \n",
            "  inflating: /content/dataset/avec14/image/train_Northwind/320_1_Northwind_video_aligned/0675.jpg  \n",
            "  inflating: /content/dataset/avec14/image/train_Northwind/320_1_Northwind_video_aligned/0678.jpg  \n",
            "  inflating: /content/dataset/avec14/image/train_Northwind/320_1_Northwind_video_aligned/0681.jpg  \n",
            "  inflating: /content/dataset/avec14/image/train_Northwind/320_1_Northwind_video_aligned/0684.jpg  \n",
            "  inflating: /content/dataset/avec14/image/train_Northwind/320_1_Northwind_video_aligned/0687.jpg  \n",
            "  inflating: /content/dataset/avec14/image/train_Northwind/320_1_Northwind_video_aligned/0690.jpg  \n",
            "  inflating: /content/dataset/avec14/image/train_Northwind/320_1_Northwind_video_aligned/0693.jpg  \n",
            "  inflating: /content/dataset/avec14/image/train_Northwind/320_1_Northwind_video_aligned/0696.jpg  \n",
            "  inflating: /content/dataset/avec14/image/train_Northwind/320_1_Northwind_video_aligned/0699.jpg  \n",
            "  inflating: /content/dataset/avec14/image/train_Northwind/320_1_Northwind_video_aligned/0702.jpg  \n",
            "  inflating: /content/dataset/avec14/image/train_Northwind/320_1_Northwind_video_aligned/0705.jpg  \n",
            "  inflating: /content/dataset/avec14/image/train_Northwind/320_1_Northwind_video_aligned/0708.jpg  \n",
            "  inflating: /content/dataset/avec14/image/train_Northwind/320_1_Northwind_video_aligned/0711.jpg  \n",
            "  inflating: /content/dataset/avec14/image/train_Northwind/320_1_Northwind_video_aligned/0714.jpg  \n",
            "  inflating: /content/dataset/avec14/image/train_Northwind/320_1_Northwind_video_aligned/0717.jpg  \n",
            "  inflating: /content/dataset/avec14/image/train_Northwind/320_1_Northwind_video_aligned/0720.jpg  \n",
            "  inflating: /content/dataset/avec14/image/train_Northwind/320_1_Northwind_video_aligned/0723.jpg  \n",
            "  inflating: /content/dataset/avec14/image/train_Northwind/320_1_Northwind_video_aligned/0726.jpg  \n",
            "  inflating: /content/dataset/avec14/image/train_Northwind/320_1_Northwind_video_aligned/0729.jpg  \n",
            "  inflating: /content/dataset/avec14/image/train_Northwind/320_1_Northwind_video_aligned/0732.jpg  \n",
            "  inflating: /content/dataset/avec14/image/train_Northwind/320_1_Northwind_video_aligned/0735.jpg  \n",
            "  inflating: /content/dataset/avec14/image/train_Northwind/320_1_Northwind_video_aligned/0738.jpg  \n",
            "  inflating: /content/dataset/avec14/image/train_Northwind/320_1_Northwind_video_aligned/0741.jpg  \n",
            "  inflating: /content/dataset/avec14/image/train_Northwind/320_1_Northwind_video_aligned/0744.jpg  \n",
            "  inflating: /content/dataset/avec14/image/train_Northwind/320_1_Northwind_video_aligned/0747.jpg  \n",
            "  inflating: /content/dataset/avec14/image/train_Northwind/320_1_Northwind_video_aligned/0750.jpg  \n",
            "  inflating: /content/dataset/avec14/image/train_Northwind/320_1_Northwind_video_aligned/0753.jpg  \n",
            "  inflating: /content/dataset/avec14/image/train_Northwind/320_1_Northwind_video_aligned/0756.jpg  \n",
            "  inflating: /content/dataset/avec14/image/train_Northwind/320_1_Northwind_video_aligned/0759.jpg  \n",
            "  inflating: /content/dataset/avec14/image/train_Northwind/320_1_Northwind_video_aligned/0762.jpg  \n",
            "  inflating: /content/dataset/avec14/image/train_Northwind/320_1_Northwind_video_aligned/0765.jpg  \n",
            "  inflating: /content/dataset/avec14/image/train_Northwind/320_1_Northwind_video_aligned/0768.jpg  \n",
            "  inflating: /content/dataset/avec14/image/train_Northwind/320_1_Northwind_video_aligned/0771.jpg  \n",
            "  inflating: /content/dataset/avec14/image/train_Northwind/320_1_Northwind_video_aligned/0774.jpg  \n",
            "  inflating: /content/dataset/avec14/image/train_Northwind/320_1_Northwind_video_aligned/0777.jpg  \n",
            "  inflating: /content/dataset/avec14/image/train_Northwind/320_1_Northwind_video_aligned/0780.jpg  \n",
            "  inflating: /content/dataset/avec14/image/train_Northwind/320_1_Northwind_video_aligned/0783.jpg  \n",
            "  inflating: /content/dataset/avec14/image/train_Northwind/320_1_Northwind_video_aligned/0786.jpg  \n",
            "  inflating: /content/dataset/avec14/image/train_Northwind/320_1_Northwind_video_aligned/0789.jpg  \n",
            "  inflating: /content/dataset/avec14/image/train_Northwind/320_1_Northwind_video_aligned/0792.jpg  \n",
            "  inflating: /content/dataset/avec14/image/train_Northwind/320_1_Northwind_video_aligned/0795.jpg  \n",
            "  inflating: /content/dataset/avec14/image/train_Northwind/320_1_Northwind_video_aligned/0798.jpg  \n",
            "  inflating: /content/dataset/avec14/image/train_Northwind/320_1_Northwind_video_aligned/0801.jpg  \n",
            "  inflating: /content/dataset/avec14/image/train_Northwind/320_1_Northwind_video_aligned/0804.jpg  \n",
            "  inflating: /content/dataset/avec14/image/train_Northwind/320_1_Northwind_video_aligned/0807.jpg  \n",
            "  inflating: /content/dataset/avec14/image/train_Northwind/320_1_Northwind_video_aligned/0810.jpg  \n",
            "  inflating: /content/dataset/avec14/image/train_Northwind/320_1_Northwind_video_aligned/0813.jpg  \n",
            "  inflating: /content/dataset/avec14/image/train_Northwind/320_1_Northwind_video_aligned/0816.jpg  \n",
            "  inflating: /content/dataset/avec14/image/train_Northwind/320_1_Northwind_video_aligned/0819.jpg  \n",
            "  inflating: /content/dataset/avec14/image/train_Northwind/320_1_Northwind_video_aligned/0822.jpg  \n",
            "  inflating: /content/dataset/avec14/image/train_Northwind/320_1_Northwind_video_aligned/0825.jpg  \n",
            "  inflating: /content/dataset/avec14/image/train_Northwind/320_1_Northwind_video_aligned/0828.jpg  \n",
            "  inflating: /content/dataset/avec14/image/train_Northwind/320_1_Northwind_video_aligned/0831.jpg  \n",
            "  inflating: /content/dataset/avec14/image/train_Northwind/320_1_Northwind_video_aligned/0834.jpg  \n",
            "  inflating: /content/dataset/avec14/image/train_Northwind/320_1_Northwind_video_aligned/0837.jpg  \n",
            "  inflating: /content/dataset/avec14/image/train_Northwind/320_1_Northwind_video_aligned/0840.jpg  \n",
            "  inflating: /content/dataset/avec14/image/train_Northwind/320_1_Northwind_video_aligned/0843.jpg  \n",
            "  inflating: /content/dataset/avec14/image/train_Northwind/320_1_Northwind_video_aligned/0846.jpg  \n",
            "  inflating: /content/dataset/avec14/image/train_Northwind/320_1_Northwind_video_aligned/0849.jpg  \n",
            "  inflating: /content/dataset/avec14/image/train_Northwind/320_1_Northwind_video_aligned/0852.jpg  \n",
            "  inflating: /content/dataset/avec14/image/train_Northwind/320_1_Northwind_video_aligned/0855.jpg  \n",
            "  inflating: /content/dataset/avec14/image/train_Northwind/320_1_Northwind_video_aligned/0858.jpg  \n",
            "  inflating: /content/dataset/avec14/image/train_Northwind/320_1_Northwind_video_aligned/0861.jpg  \n",
            "  inflating: /content/dataset/avec14/image/train_Northwind/320_1_Northwind_video_aligned/0864.jpg  \n",
            "  inflating: /content/dataset/avec14/image/train_Northwind/320_1_Northwind_video_aligned/0867.jpg  \n",
            "  inflating: /content/dataset/avec14/image/train_Northwind/320_1_Northwind_video_aligned/0870.jpg  \n",
            "  inflating: /content/dataset/avec14/image/train_Northwind/320_1_Northwind_video_aligned/0873.jpg  \n",
            "  inflating: /content/dataset/avec14/image/train_Northwind/320_1_Northwind_video_aligned/0876.jpg  \n",
            "  inflating: /content/dataset/avec14/image/train_Northwind/320_1_Northwind_video_aligned/0879.jpg  \n",
            "  inflating: /content/dataset/avec14/image/train_Northwind/320_1_Northwind_video_aligned/0882.jpg  \n",
            "  inflating: /content/dataset/avec14/image/train_Northwind/320_1_Northwind_video_aligned/0885.jpg  \n",
            "  inflating: /content/dataset/avec14/image/train_Northwind/320_1_Northwind_video_aligned/0888.jpg  \n",
            "  inflating: /content/dataset/avec14/image/train_Northwind/320_1_Northwind_video_aligned/0891.jpg  \n",
            "  inflating: /content/dataset/avec14/image/train_Northwind/320_1_Northwind_video_aligned/0894.jpg  \n",
            "  inflating: /content/dataset/avec14/image/train_Northwind/320_1_Northwind_video_aligned/0897.jpg  \n",
            "  inflating: /content/dataset/avec14/image/train_Northwind/320_1_Northwind_video_aligned/0900.jpg  \n",
            "  inflating: /content/dataset/avec14/image/train_Northwind/320_1_Northwind_video_aligned/0903.jpg  \n",
            "  inflating: /content/dataset/avec14/image/train_Northwind/320_1_Northwind_video_aligned/0906.jpg  \n",
            "  inflating: /content/dataset/avec14/image/train_Northwind/320_1_Northwind_video_aligned/0909.jpg  \n",
            "  inflating: /content/dataset/avec14/image/train_Northwind/320_1_Northwind_video_aligned/0912.jpg  \n",
            "  inflating: /content/dataset/avec14/image/train_Northwind/320_1_Northwind_video_aligned/0915.jpg  \n",
            "  inflating: /content/dataset/avec14/image/train_Northwind/320_1_Northwind_video_aligned/0918.jpg  \n",
            "  inflating: /content/dataset/avec14/image/train_Northwind/320_1_Northwind_video_aligned/0921.jpg  \n",
            "  inflating: /content/dataset/avec14/image/train_Northwind/320_1_Northwind_video_aligned/0924.jpg  \n",
            "  inflating: /content/dataset/avec14/image/train_Northwind/320_1_Northwind_video_aligned/0927.jpg  \n",
            "  inflating: /content/dataset/avec14/image/train_Northwind/320_1_Northwind_video_aligned/0930.jpg  \n",
            "  inflating: /content/dataset/avec14/image/train_Northwind/320_1_Northwind_video_aligned/0933.jpg  \n",
            "  inflating: /content/dataset/avec14/image/train_Northwind/320_1_Northwind_video_aligned/0936.jpg  \n",
            "  inflating: /content/dataset/avec14/image/train_Northwind/320_1_Northwind_video_aligned/0939.jpg  \n",
            "  inflating: /content/dataset/avec14/image/train_Northwind/320_1_Northwind_video_aligned/0942.jpg  \n",
            "  inflating: /content/dataset/avec14/image/train_Northwind/320_1_Northwind_video_aligned/0945.jpg  \n",
            "  inflating: /content/dataset/avec14/image/train_Northwind/320_1_Northwind_video_aligned/0948.jpg  \n",
            "  inflating: /content/dataset/avec14/image/train_Northwind/320_1_Northwind_video_aligned/0951.jpg  \n",
            "  inflating: /content/dataset/avec14/image/train_Northwind/320_1_Northwind_video_aligned/0954.jpg  \n",
            "  inflating: /content/dataset/avec14/image/train_Northwind/320_1_Northwind_video_aligned/0957.jpg  \n",
            "  inflating: /content/dataset/avec14/image/train_Northwind/320_1_Northwind_video_aligned/0960.jpg  \n",
            "  inflating: /content/dataset/avec14/image/train_Northwind/320_1_Northwind_video_aligned/0963.jpg  \n",
            "  inflating: /content/dataset/avec14/image/train_Northwind/320_1_Northwind_video_aligned/0966.jpg  \n",
            "  inflating: /content/dataset/avec14/image/train_Northwind/320_1_Northwind_video_aligned/0969.jpg  \n",
            "  inflating: /content/dataset/avec14/image/train_Northwind/320_1_Northwind_video_aligned/0972.jpg  \n",
            "  inflating: /content/dataset/avec14/image/train_Northwind/320_1_Northwind_video_aligned/0975.jpg  \n",
            "  inflating: /content/dataset/avec14/image/train_Northwind/320_1_Northwind_video_aligned/0978.jpg  \n",
            "  inflating: /content/dataset/avec14/image/train_Northwind/320_1_Northwind_video_aligned/0981.jpg  \n",
            "  inflating: /content/dataset/avec14/image/train_Northwind/320_1_Northwind_video_aligned/0984.jpg  \n",
            "  inflating: /content/dataset/avec14/image/train_Northwind/320_1_Northwind_video_aligned/0987.jpg  \n",
            "  inflating: /content/dataset/avec14/image/train_Northwind/320_1_Northwind_video_aligned/0990.jpg  \n",
            "  inflating: /content/dataset/avec14/image/train_Northwind/320_1_Northwind_video_aligned/0993.jpg  \n",
            "  inflating: /content/dataset/avec14/image/train_Northwind/320_1_Northwind_video_aligned/0996.jpg  \n",
            "  inflating: /content/dataset/avec14/image/train_Northwind/320_1_Northwind_video_aligned/0999.jpg  \n",
            "  inflating: /content/dataset/avec14/image/train_Northwind/320_1_Northwind_video_aligned/1002.jpg  \n",
            "  inflating: /content/dataset/avec14/image/train_Northwind/320_1_Northwind_video_aligned/1005.jpg  \n",
            "  inflating: /content/dataset/avec14/image/train_Northwind/320_1_Northwind_video_aligned/1008.jpg  \n",
            "  inflating: /content/dataset/avec14/image/train_Northwind/320_1_Northwind_video_aligned/1011.jpg  \n",
            "  inflating: /content/dataset/avec14/image/train_Northwind/320_1_Northwind_video_aligned/1014.jpg  \n",
            "  inflating: /content/dataset/avec14/image/train_Northwind/320_1_Northwind_video_aligned/1017.jpg  \n",
            "  inflating: /content/dataset/avec14/image/train_Northwind/320_1_Northwind_video_aligned/1020.jpg  \n",
            "  inflating: /content/dataset/avec14/image/train_Northwind/320_1_Northwind_video_aligned/1023.jpg  \n",
            "  inflating: /content/dataset/avec14/image/train_Northwind/320_1_Northwind_video_aligned/1026.jpg  \n",
            "  inflating: /content/dataset/avec14/image/train_Northwind/320_1_Northwind_video_aligned/1029.jpg  \n",
            "  inflating: /content/dataset/avec14/image/train_Northwind/320_1_Northwind_video_aligned/1032.jpg  \n",
            "  inflating: /content/dataset/avec14/image/train_Northwind/320_1_Northwind_video_aligned/1035.jpg  \n",
            "  inflating: /content/dataset/avec14/image/train_Northwind/320_1_Northwind_video_aligned/1038.jpg  \n",
            "  inflating: /content/dataset/avec14/image/train_Northwind/320_1_Northwind_video_aligned/1041.jpg  \n",
            "  inflating: /content/dataset/avec14/image/train_Northwind/320_1_Northwind_video_aligned/1044.jpg  \n",
            "  inflating: /content/dataset/avec14/image/train_Northwind/320_1_Northwind_video_aligned/1047.jpg  \n",
            "  inflating: /content/dataset/avec14/image/train_Northwind/320_1_Northwind_video_aligned/1050.jpg  \n",
            "  inflating: /content/dataset/avec14/image/train_Northwind/320_1_Northwind_video_aligned/1053.jpg  \n",
            "  inflating: /content/dataset/avec14/image/train_Northwind/320_1_Northwind_video_aligned/1056.jpg  \n",
            "  inflating: /content/dataset/avec14/image/train_Northwind/320_1_Northwind_video_aligned/1059.jpg  \n",
            "  inflating: /content/dataset/avec14/image/train_Northwind/320_1_Northwind_video_aligned/1062.jpg  \n",
            "  inflating: /content/dataset/avec14/image/train_Northwind/320_1_Northwind_video_aligned/1065.jpg  \n",
            "  inflating: /content/dataset/avec14/image/train_Northwind/320_1_Northwind_video_aligned/1068.jpg  \n",
            "  inflating: /content/dataset/avec14/image/train_Northwind/320_1_Northwind_video_aligned/1071.jpg  \n",
            "  inflating: /content/dataset/avec14/image/train_Northwind/320_1_Northwind_video_aligned/1074.jpg  \n",
            "  inflating: /content/dataset/avec14/image/train_Northwind/320_1_Northwind_video_aligned/1077.jpg  \n",
            "  inflating: /content/dataset/avec14/image/train_Northwind/320_1_Northwind_video_aligned/1080.jpg  \n",
            "  inflating: /content/dataset/avec14/image/train_Northwind/320_1_Northwind_video_aligned/1083.jpg  \n",
            "  inflating: /content/dataset/avec14/image/train_Northwind/320_1_Northwind_video_aligned/1086.jpg  \n",
            "  inflating: /content/dataset/avec14/image/train_Northwind/320_1_Northwind_video_aligned/1089.jpg  \n",
            "  inflating: /content/dataset/avec14/image/train_Northwind/320_1_Northwind_video_aligned/1092.jpg  \n",
            "  inflating: /content/dataset/avec14/image/train_Northwind/320_1_Northwind_video_aligned/1095.jpg  \n",
            "  inflating: /content/dataset/avec14/image/train_Northwind/320_1_Northwind_video_aligned/1098.jpg  \n",
            "  inflating: /content/dataset/avec14/image/train_Northwind/320_1_Northwind_video_aligned/1101.jpg  \n",
            "  inflating: /content/dataset/avec14/image/train_Northwind/320_1_Northwind_video_aligned/1104.jpg  \n",
            "  inflating: /content/dataset/avec14/image/train_Northwind/320_1_Northwind_video_aligned/1107.jpg  \n",
            "  inflating: /content/dataset/avec14/image/train_Northwind/320_1_Northwind_video_aligned/1110.jpg  \n",
            "  inflating: /content/dataset/avec14/image/train_Northwind/320_1_Northwind_video_aligned/1113.jpg  \n",
            "  inflating: /content/dataset/avec14/image/train_Northwind/320_1_Northwind_video_aligned/1116.jpg  \n",
            "  inflating: /content/dataset/avec14/image/train_Northwind/320_1_Northwind_video_aligned/1119.jpg  \n",
            "  inflating: /content/dataset/avec14/image/train_Northwind/320_1_Northwind_video_aligned/1122.jpg  \n",
            "  inflating: /content/dataset/avec14/image/train_Northwind/320_1_Northwind_video_aligned/1125.jpg  \n",
            "  inflating: /content/dataset/avec14/image/train_Northwind/320_1_Northwind_video_aligned/1128.jpg  \n",
            "  inflating: /content/dataset/avec14/image/train_Northwind/320_1_Northwind_video_aligned/1131.jpg  \n",
            "  inflating: /content/dataset/avec14/image/train_Northwind/320_1_Northwind_video_aligned/1134.jpg  \n",
            "  inflating: /content/dataset/avec14/image/train_Northwind/320_1_Northwind_video_aligned/1137.jpg  \n",
            "  inflating: /content/dataset/avec14/image/train_Northwind/320_1_Northwind_video_aligned/1140.jpg  \n",
            "  inflating: /content/dataset/avec14/image/train_Northwind/320_1_Northwind_video_aligned/1143.jpg  \n",
            "  inflating: /content/dataset/avec14/image/train_Northwind/320_1_Northwind_video_aligned/1146.jpg  \n",
            "  inflating: /content/dataset/avec14/image/train_Northwind/320_1_Northwind_video_aligned/1149.jpg  \n",
            "  inflating: /content/dataset/avec14/image/train_Northwind/320_1_Northwind_video_aligned/1152.jpg  \n",
            "  inflating: /content/dataset/avec14/image/train_Northwind/320_1_Northwind_video_aligned/1155.jpg  \n",
            "  inflating: /content/dataset/avec14/image/train_Northwind/320_1_Northwind_video_aligned/1158.jpg  \n",
            "  inflating: /content/dataset/avec14/image/train_Northwind/320_1_Northwind_video_aligned/1161.jpg  \n",
            "  inflating: /content/dataset/avec14/image/train_Northwind/320_1_Northwind_video_aligned/1164.jpg  \n",
            "  inflating: /content/dataset/avec14/image/train_Northwind/320_1_Northwind_video_aligned/1167.jpg  \n",
            "  inflating: /content/dataset/avec14/image/train_Northwind/320_1_Northwind_video_aligned/1170.jpg  \n",
            "  inflating: /content/dataset/avec14/image/train_Northwind/320_1_Northwind_video_aligned/1173.jpg  \n",
            "  inflating: /content/dataset/avec14/image/train_Northwind/320_1_Northwind_video_aligned/1176.jpg  \n",
            "  inflating: /content/dataset/avec14/image/train_Northwind/320_1_Northwind_video_aligned/1179.jpg  \n",
            "  inflating: /content/dataset/avec14/image/train_Northwind/320_1_Northwind_video_aligned/1182.jpg  \n",
            "  inflating: /content/dataset/avec14/image/train_Northwind/320_1_Northwind_video_aligned/1185.jpg  \n",
            "  inflating: /content/dataset/avec14/image/train_Northwind/320_1_Northwind_video_aligned/1188.jpg  \n",
            "  inflating: /content/dataset/avec14/image/train_Northwind/320_1_Northwind_video_aligned/1191.jpg  \n",
            "  inflating: /content/dataset/avec14/image/train_Northwind/320_1_Northwind_video_aligned/1194.jpg  \n",
            "  inflating: /content/dataset/avec14/image/train_Northwind/320_1_Northwind_video_aligned/1197.jpg  \n",
            "  inflating: /content/dataset/avec14/image/train_Northwind/320_1_Northwind_video_aligned/1200.jpg  \n",
            "  inflating: /content/dataset/avec14/image/train_Northwind/320_1_Northwind_video_aligned/1203.jpg  \n",
            "  inflating: /content/dataset/avec14/image/train_Northwind/320_1_Northwind_video_aligned/1206.jpg  \n",
            "  inflating: /content/dataset/avec14/image/train_Northwind/320_1_Northwind_video_aligned/1209.jpg  \n",
            "  inflating: /content/dataset/avec14/image/train_Northwind/320_1_Northwind_video_aligned/1212.jpg  \n",
            "  inflating: /content/dataset/avec14/image/train_Northwind/320_1_Northwind_video_aligned/1215.jpg  \n",
            "  inflating: /content/dataset/avec14/image/train_Northwind/320_1_Northwind_video_aligned/1218.jpg  \n",
            "  inflating: /content/dataset/avec14/image/train_Northwind/320_1_Northwind_video_aligned/1221.jpg  \n",
            "  inflating: /content/dataset/avec14/image/train_Northwind/320_1_Northwind_video_aligned/1224.jpg  \n",
            "  inflating: /content/dataset/avec14/image/train_Northwind/320_1_Northwind_video_aligned/1227.jpg  \n",
            "   creating: /content/dataset/avec14/image/train_Northwind/320_2_Northwind_video_aligned/\n",
            "  inflating: /content/dataset/avec14/image/train_Northwind/320_2_Northwind_video_aligned/0000.jpg  \n",
            "  inflating: /content/dataset/avec14/image/train_Northwind/320_2_Northwind_video_aligned/0003.jpg  \n",
            "  inflating: /content/dataset/avec14/image/train_Northwind/320_2_Northwind_video_aligned/0006.jpg  \n",
            "  inflating: /content/dataset/avec14/image/train_Northwind/320_2_Northwind_video_aligned/0009.jpg  \n",
            "  inflating: /content/dataset/avec14/image/train_Northwind/320_2_Northwind_video_aligned/0012.jpg  \n",
            "  inflating: /content/dataset/avec14/image/train_Northwind/320_2_Northwind_video_aligned/0015.jpg  \n",
            "  inflating: /content/dataset/avec14/image/train_Northwind/320_2_Northwind_video_aligned/0018.jpg  \n",
            "  inflating: /content/dataset/avec14/image/train_Northwind/320_2_Northwind_video_aligned/0021.jpg  \n",
            "  inflating: /content/dataset/avec14/image/train_Northwind/320_2_Northwind_video_aligned/0024.jpg  \n",
            "  inflating: /content/dataset/avec14/image/train_Northwind/320_2_Northwind_video_aligned/0027.jpg  \n",
            "  inflating: /content/dataset/avec14/image/train_Northwind/320_2_Northwind_video_aligned/0030.jpg  \n",
            "  inflating: /content/dataset/avec14/image/train_Northwind/320_2_Northwind_video_aligned/0033.jpg  \n",
            "  inflating: /content/dataset/avec14/image/train_Northwind/320_2_Northwind_video_aligned/0036.jpg  \n",
            "  inflating: /content/dataset/avec14/image/train_Northwind/320_2_Northwind_video_aligned/0039.jpg  \n",
            "  inflating: /content/dataset/avec14/image/train_Northwind/320_2_Northwind_video_aligned/0042.jpg  \n",
            "  inflating: /content/dataset/avec14/image/train_Northwind/320_2_Northwind_video_aligned/0045.jpg  \n",
            "  inflating: /content/dataset/avec14/image/train_Northwind/320_2_Northwind_video_aligned/0048.jpg  \n",
            "  inflating: /content/dataset/avec14/image/train_Northwind/320_2_Northwind_video_aligned/0051.jpg  \n",
            "  inflating: /content/dataset/avec14/image/train_Northwind/320_2_Northwind_video_aligned/0054.jpg  \n",
            "  inflating: /content/dataset/avec14/image/train_Northwind/320_2_Northwind_video_aligned/0057.jpg  \n",
            "  inflating: /content/dataset/avec14/image/train_Northwind/320_2_Northwind_video_aligned/0060.jpg  \n",
            "  inflating: /content/dataset/avec14/image/train_Northwind/320_2_Northwind_video_aligned/0063.jpg  \n",
            "  inflating: /content/dataset/avec14/image/train_Northwind/320_2_Northwind_video_aligned/0066.jpg  \n",
            "  inflating: /content/dataset/avec14/image/train_Northwind/320_2_Northwind_video_aligned/0069.jpg  \n",
            "  inflating: /content/dataset/avec14/image/train_Northwind/320_2_Northwind_video_aligned/0072.jpg  \n",
            "  inflating: /content/dataset/avec14/image/train_Northwind/320_2_Northwind_video_aligned/0075.jpg  \n",
            "  inflating: /content/dataset/avec14/image/train_Northwind/320_2_Northwind_video_aligned/0078.jpg  \n",
            "  inflating: /content/dataset/avec14/image/train_Northwind/320_2_Northwind_video_aligned/0081.jpg  \n",
            "  inflating: /content/dataset/avec14/image/train_Northwind/320_2_Northwind_video_aligned/0084.jpg  \n",
            "  inflating: /content/dataset/avec14/image/train_Northwind/320_2_Northwind_video_aligned/0087.jpg  \n",
            "  inflating: /content/dataset/avec14/image/train_Northwind/320_2_Northwind_video_aligned/0090.jpg  \n",
            "  inflating: /content/dataset/avec14/image/train_Northwind/320_2_Northwind_video_aligned/0093.jpg  \n",
            "  inflating: /content/dataset/avec14/image/train_Northwind/320_2_Northwind_video_aligned/0096.jpg  \n",
            "  inflating: /content/dataset/avec14/image/train_Northwind/320_2_Northwind_video_aligned/0099.jpg  \n",
            "  inflating: /content/dataset/avec14/image/train_Northwind/320_2_Northwind_video_aligned/0102.jpg  \n",
            "  inflating: /content/dataset/avec14/image/train_Northwind/320_2_Northwind_video_aligned/0105.jpg  \n",
            "  inflating: /content/dataset/avec14/image/train_Northwind/320_2_Northwind_video_aligned/0108.jpg  \n",
            "  inflating: /content/dataset/avec14/image/train_Northwind/320_2_Northwind_video_aligned/0111.jpg  \n",
            "  inflating: /content/dataset/avec14/image/train_Northwind/320_2_Northwind_video_aligned/0114.jpg  \n",
            "  inflating: /content/dataset/avec14/image/train_Northwind/320_2_Northwind_video_aligned/0117.jpg  \n",
            "  inflating: /content/dataset/avec14/image/train_Northwind/320_2_Northwind_video_aligned/0120.jpg  \n",
            "  inflating: /content/dataset/avec14/image/train_Northwind/320_2_Northwind_video_aligned/0123.jpg  \n",
            "  inflating: /content/dataset/avec14/image/train_Northwind/320_2_Northwind_video_aligned/0126.jpg  \n",
            "  inflating: /content/dataset/avec14/image/train_Northwind/320_2_Northwind_video_aligned/0129.jpg  \n",
            "  inflating: /content/dataset/avec14/image/train_Northwind/320_2_Northwind_video_aligned/0132.jpg  \n",
            "  inflating: /content/dataset/avec14/image/train_Northwind/320_2_Northwind_video_aligned/0135.jpg  \n",
            "  inflating: /content/dataset/avec14/image/train_Northwind/320_2_Northwind_video_aligned/0138.jpg  \n",
            "  inflating: /content/dataset/avec14/image/train_Northwind/320_2_Northwind_video_aligned/0141.jpg  \n",
            "  inflating: /content/dataset/avec14/image/train_Northwind/320_2_Northwind_video_aligned/0144.jpg  \n",
            "  inflating: /content/dataset/avec14/image/train_Northwind/320_2_Northwind_video_aligned/0147.jpg  \n",
            "  inflating: /content/dataset/avec14/image/train_Northwind/320_2_Northwind_video_aligned/0150.jpg  \n",
            "  inflating: /content/dataset/avec14/image/train_Northwind/320_2_Northwind_video_aligned/0153.jpg  \n",
            "  inflating: /content/dataset/avec14/image/train_Northwind/320_2_Northwind_video_aligned/0156.jpg  \n",
            "  inflating: /content/dataset/avec14/image/train_Northwind/320_2_Northwind_video_aligned/0159.jpg  \n",
            "  inflating: /content/dataset/avec14/image/train_Northwind/320_2_Northwind_video_aligned/0162.jpg  \n",
            "  inflating: /content/dataset/avec14/image/train_Northwind/320_2_Northwind_video_aligned/0165.jpg  \n",
            "  inflating: /content/dataset/avec14/image/train_Northwind/320_2_Northwind_video_aligned/0168.jpg  \n",
            "  inflating: /content/dataset/avec14/image/train_Northwind/320_2_Northwind_video_aligned/0171.jpg  \n",
            "  inflating: /content/dataset/avec14/image/train_Northwind/320_2_Northwind_video_aligned/0174.jpg  \n",
            "  inflating: /content/dataset/avec14/image/train_Northwind/320_2_Northwind_video_aligned/0177.jpg  \n",
            "  inflating: /content/dataset/avec14/image/train_Northwind/320_2_Northwind_video_aligned/0180.jpg  \n",
            "  inflating: /content/dataset/avec14/image/train_Northwind/320_2_Northwind_video_aligned/0183.jpg  \n",
            "  inflating: /content/dataset/avec14/image/train_Northwind/320_2_Northwind_video_aligned/0186.jpg  \n",
            "  inflating: /content/dataset/avec14/image/train_Northwind/320_2_Northwind_video_aligned/0189.jpg  \n",
            "  inflating: /content/dataset/avec14/image/train_Northwind/320_2_Northwind_video_aligned/0192.jpg  \n",
            "  inflating: /content/dataset/avec14/image/train_Northwind/320_2_Northwind_video_aligned/0195.jpg  \n",
            "  inflating: /content/dataset/avec14/image/train_Northwind/320_2_Northwind_video_aligned/0198.jpg  \n",
            "  inflating: /content/dataset/avec14/image/train_Northwind/320_2_Northwind_video_aligned/0201.jpg  \n",
            "  inflating: /content/dataset/avec14/image/train_Northwind/320_2_Northwind_video_aligned/0204.jpg  \n",
            "  inflating: /content/dataset/avec14/image/train_Northwind/320_2_Northwind_video_aligned/0207.jpg  \n",
            "  inflating: /content/dataset/avec14/image/train_Northwind/320_2_Northwind_video_aligned/0210.jpg  \n",
            "  inflating: /content/dataset/avec14/image/train_Northwind/320_2_Northwind_video_aligned/0213.jpg  \n",
            "  inflating: /content/dataset/avec14/image/train_Northwind/320_2_Northwind_video_aligned/0216.jpg  \n",
            "  inflating: /content/dataset/avec14/image/train_Northwind/320_2_Northwind_video_aligned/0219.jpg  \n",
            "  inflating: /content/dataset/avec14/image/train_Northwind/320_2_Northwind_video_aligned/0222.jpg  \n",
            "  inflating: /content/dataset/avec14/image/train_Northwind/320_2_Northwind_video_aligned/0225.jpg  \n",
            "  inflating: /content/dataset/avec14/image/train_Northwind/320_2_Northwind_video_aligned/0228.jpg  \n",
            "  inflating: /content/dataset/avec14/image/train_Northwind/320_2_Northwind_video_aligned/0231.jpg  \n",
            "  inflating: /content/dataset/avec14/image/train_Northwind/320_2_Northwind_video_aligned/0234.jpg  \n",
            "  inflating: /content/dataset/avec14/image/train_Northwind/320_2_Northwind_video_aligned/0237.jpg  \n",
            "  inflating: /content/dataset/avec14/image/train_Northwind/320_2_Northwind_video_aligned/0240.jpg  \n",
            "  inflating: /content/dataset/avec14/image/train_Northwind/320_2_Northwind_video_aligned/0243.jpg  \n",
            "  inflating: /content/dataset/avec14/image/train_Northwind/320_2_Northwind_video_aligned/0246.jpg  \n",
            "  inflating: /content/dataset/avec14/image/train_Northwind/320_2_Northwind_video_aligned/0249.jpg  \n",
            "  inflating: /content/dataset/avec14/image/train_Northwind/320_2_Northwind_video_aligned/0252.jpg  \n",
            "  inflating: /content/dataset/avec14/image/train_Northwind/320_2_Northwind_video_aligned/0255.jpg  \n",
            "  inflating: /content/dataset/avec14/image/train_Northwind/320_2_Northwind_video_aligned/0258.jpg  \n",
            "  inflating: /content/dataset/avec14/image/train_Northwind/320_2_Northwind_video_aligned/0261.jpg  \n",
            "  inflating: /content/dataset/avec14/image/train_Northwind/320_2_Northwind_video_aligned/0264.jpg  \n",
            "  inflating: /content/dataset/avec14/image/train_Northwind/320_2_Northwind_video_aligned/0267.jpg  \n",
            "  inflating: /content/dataset/avec14/image/train_Northwind/320_2_Northwind_video_aligned/0270.jpg  \n",
            "  inflating: /content/dataset/avec14/image/train_Northwind/320_2_Northwind_video_aligned/0273.jpg  \n",
            "  inflating: /content/dataset/avec14/image/train_Northwind/320_2_Northwind_video_aligned/0276.jpg  \n",
            "  inflating: /content/dataset/avec14/image/train_Northwind/320_2_Northwind_video_aligned/0279.jpg  \n",
            "  inflating: /content/dataset/avec14/image/train_Northwind/320_2_Northwind_video_aligned/0282.jpg  \n",
            "  inflating: /content/dataset/avec14/image/train_Northwind/320_2_Northwind_video_aligned/0285.jpg  \n",
            "  inflating: /content/dataset/avec14/image/train_Northwind/320_2_Northwind_video_aligned/0288.jpg  \n",
            "  inflating: /content/dataset/avec14/image/train_Northwind/320_2_Northwind_video_aligned/0291.jpg  \n",
            "  inflating: /content/dataset/avec14/image/train_Northwind/320_2_Northwind_video_aligned/0294.jpg  \n",
            "  inflating: /content/dataset/avec14/image/train_Northwind/320_2_Northwind_video_aligned/0297.jpg  \n",
            "  inflating: /content/dataset/avec14/image/train_Northwind/320_2_Northwind_video_aligned/0300.jpg  \n",
            "  inflating: /content/dataset/avec14/image/train_Northwind/320_2_Northwind_video_aligned/0303.jpg  \n",
            "  inflating: /content/dataset/avec14/image/train_Northwind/320_2_Northwind_video_aligned/0306.jpg  \n",
            "  inflating: /content/dataset/avec14/image/train_Northwind/320_2_Northwind_video_aligned/0309.jpg  \n",
            "  inflating: /content/dataset/avec14/image/train_Northwind/320_2_Northwind_video_aligned/0312.jpg  \n",
            "  inflating: /content/dataset/avec14/image/train_Northwind/320_2_Northwind_video_aligned/0315.jpg  \n",
            "  inflating: /content/dataset/avec14/image/train_Northwind/320_2_Northwind_video_aligned/0318.jpg  \n",
            "  inflating: /content/dataset/avec14/image/train_Northwind/320_2_Northwind_video_aligned/0321.jpg  \n",
            "  inflating: /content/dataset/avec14/image/train_Northwind/320_2_Northwind_video_aligned/0324.jpg  \n",
            "  inflating: /content/dataset/avec14/image/train_Northwind/320_2_Northwind_video_aligned/0327.jpg  \n",
            "  inflating: /content/dataset/avec14/image/train_Northwind/320_2_Northwind_video_aligned/0330.jpg  \n",
            "  inflating: /content/dataset/avec14/image/train_Northwind/320_2_Northwind_video_aligned/0333.jpg  \n",
            "  inflating: /content/dataset/avec14/image/train_Northwind/320_2_Northwind_video_aligned/0336.jpg  \n",
            "  inflating: /content/dataset/avec14/image/train_Northwind/320_2_Northwind_video_aligned/0339.jpg  \n",
            "  inflating: /content/dataset/avec14/image/train_Northwind/320_2_Northwind_video_aligned/0342.jpg  \n",
            "  inflating: /content/dataset/avec14/image/train_Northwind/320_2_Northwind_video_aligned/0345.jpg  \n",
            "  inflating: /content/dataset/avec14/image/train_Northwind/320_2_Northwind_video_aligned/0348.jpg  \n",
            "  inflating: /content/dataset/avec14/image/train_Northwind/320_2_Northwind_video_aligned/0351.jpg  \n",
            "  inflating: /content/dataset/avec14/image/train_Northwind/320_2_Northwind_video_aligned/0354.jpg  \n",
            "  inflating: /content/dataset/avec14/image/train_Northwind/320_2_Northwind_video_aligned/0357.jpg  \n",
            "  inflating: /content/dataset/avec14/image/train_Northwind/320_2_Northwind_video_aligned/0360.jpg  \n",
            "  inflating: /content/dataset/avec14/image/train_Northwind/320_2_Northwind_video_aligned/0363.jpg  \n",
            "  inflating: /content/dataset/avec14/image/train_Northwind/320_2_Northwind_video_aligned/0366.jpg  \n",
            "  inflating: /content/dataset/avec14/image/train_Northwind/320_2_Northwind_video_aligned/0369.jpg  \n",
            "  inflating: /content/dataset/avec14/image/train_Northwind/320_2_Northwind_video_aligned/0372.jpg  \n",
            "  inflating: /content/dataset/avec14/image/train_Northwind/320_2_Northwind_video_aligned/0375.jpg  \n",
            "  inflating: /content/dataset/avec14/image/train_Northwind/320_2_Northwind_video_aligned/0378.jpg  \n",
            "  inflating: /content/dataset/avec14/image/train_Northwind/320_2_Northwind_video_aligned/0381.jpg  \n",
            "  inflating: /content/dataset/avec14/image/train_Northwind/320_2_Northwind_video_aligned/0384.jpg  \n",
            "  inflating: /content/dataset/avec14/image/train_Northwind/320_2_Northwind_video_aligned/0387.jpg  \n",
            "  inflating: /content/dataset/avec14/image/train_Northwind/320_2_Northwind_video_aligned/0390.jpg  \n",
            "  inflating: /content/dataset/avec14/image/train_Northwind/320_2_Northwind_video_aligned/0393.jpg  \n",
            "  inflating: /content/dataset/avec14/image/train_Northwind/320_2_Northwind_video_aligned/0396.jpg  \n",
            "  inflating: /content/dataset/avec14/image/train_Northwind/320_2_Northwind_video_aligned/0399.jpg  \n",
            "  inflating: /content/dataset/avec14/image/train_Northwind/320_2_Northwind_video_aligned/0402.jpg  \n",
            "  inflating: /content/dataset/avec14/image/train_Northwind/320_2_Northwind_video_aligned/0405.jpg  \n",
            "  inflating: /content/dataset/avec14/image/train_Northwind/320_2_Northwind_video_aligned/0408.jpg  \n",
            "  inflating: /content/dataset/avec14/image/train_Northwind/320_2_Northwind_video_aligned/0411.jpg  \n",
            "  inflating: /content/dataset/avec14/image/train_Northwind/320_2_Northwind_video_aligned/0414.jpg  \n",
            "  inflating: /content/dataset/avec14/image/train_Northwind/320_2_Northwind_video_aligned/0417.jpg  \n",
            "  inflating: /content/dataset/avec14/image/train_Northwind/320_2_Northwind_video_aligned/0420.jpg  \n",
            "  inflating: /content/dataset/avec14/image/train_Northwind/320_2_Northwind_video_aligned/0423.jpg  \n",
            "  inflating: /content/dataset/avec14/image/train_Northwind/320_2_Northwind_video_aligned/0426.jpg  \n",
            "  inflating: /content/dataset/avec14/image/train_Northwind/320_2_Northwind_video_aligned/0429.jpg  \n",
            "  inflating: /content/dataset/avec14/image/train_Northwind/320_2_Northwind_video_aligned/0432.jpg  \n",
            "  inflating: /content/dataset/avec14/image/train_Northwind/320_2_Northwind_video_aligned/0435.jpg  \n",
            "  inflating: /content/dataset/avec14/image/train_Northwind/320_2_Northwind_video_aligned/0438.jpg  \n",
            "  inflating: /content/dataset/avec14/image/train_Northwind/320_2_Northwind_video_aligned/0441.jpg  \n",
            "  inflating: /content/dataset/avec14/image/train_Northwind/320_2_Northwind_video_aligned/0444.jpg  \n",
            "  inflating: /content/dataset/avec14/image/train_Northwind/320_2_Northwind_video_aligned/0447.jpg  \n",
            "  inflating: /content/dataset/avec14/image/train_Northwind/320_2_Northwind_video_aligned/0450.jpg  \n",
            "  inflating: /content/dataset/avec14/image/train_Northwind/320_2_Northwind_video_aligned/0453.jpg  \n",
            "  inflating: /content/dataset/avec14/image/train_Northwind/320_2_Northwind_video_aligned/0456.jpg  \n",
            "  inflating: /content/dataset/avec14/image/train_Northwind/320_2_Northwind_video_aligned/0459.jpg  \n",
            "  inflating: /content/dataset/avec14/image/train_Northwind/320_2_Northwind_video_aligned/0462.jpg  \n",
            "  inflating: /content/dataset/avec14/image/train_Northwind/320_2_Northwind_video_aligned/0465.jpg  \n",
            "  inflating: /content/dataset/avec14/image/train_Northwind/320_2_Northwind_video_aligned/0468.jpg  \n",
            "  inflating: /content/dataset/avec14/image/train_Northwind/320_2_Northwind_video_aligned/0471.jpg  \n",
            "  inflating: /content/dataset/avec14/image/train_Northwind/320_2_Northwind_video_aligned/0474.jpg  \n",
            "  inflating: /content/dataset/avec14/image/train_Northwind/320_2_Northwind_video_aligned/0477.jpg  \n",
            "  inflating: /content/dataset/avec14/image/train_Northwind/320_2_Northwind_video_aligned/0480.jpg  \n",
            "  inflating: /content/dataset/avec14/image/train_Northwind/320_2_Northwind_video_aligned/0483.jpg  \n",
            "  inflating: /content/dataset/avec14/image/train_Northwind/320_2_Northwind_video_aligned/0486.jpg  \n",
            "  inflating: /content/dataset/avec14/image/train_Northwind/320_2_Northwind_video_aligned/0489.jpg  \n",
            "  inflating: /content/dataset/avec14/image/train_Northwind/320_2_Northwind_video_aligned/0492.jpg  \n",
            "  inflating: /content/dataset/avec14/image/train_Northwind/320_2_Northwind_video_aligned/0495.jpg  \n",
            "  inflating: /content/dataset/avec14/image/train_Northwind/320_2_Northwind_video_aligned/0498.jpg  \n",
            "  inflating: /content/dataset/avec14/image/train_Northwind/320_2_Northwind_video_aligned/0501.jpg  \n",
            "  inflating: /content/dataset/avec14/image/train_Northwind/320_2_Northwind_video_aligned/0504.jpg  \n",
            "  inflating: /content/dataset/avec14/image/train_Northwind/320_2_Northwind_video_aligned/0507.jpg  \n",
            "  inflating: /content/dataset/avec14/image/train_Northwind/320_2_Northwind_video_aligned/0510.jpg  \n",
            "  inflating: /content/dataset/avec14/image/train_Northwind/320_2_Northwind_video_aligned/0513.jpg  \n",
            "  inflating: /content/dataset/avec14/image/train_Northwind/320_2_Northwind_video_aligned/0516.jpg  \n",
            "  inflating: /content/dataset/avec14/image/train_Northwind/320_2_Northwind_video_aligned/0519.jpg  \n",
            "  inflating: /content/dataset/avec14/image/train_Northwind/320_2_Northwind_video_aligned/0522.jpg  \n",
            "  inflating: /content/dataset/avec14/image/train_Northwind/320_2_Northwind_video_aligned/0525.jpg  \n",
            "  inflating: /content/dataset/avec14/image/train_Northwind/320_2_Northwind_video_aligned/0528.jpg  \n",
            "  inflating: /content/dataset/avec14/image/train_Northwind/320_2_Northwind_video_aligned/0531.jpg  \n",
            "  inflating: /content/dataset/avec14/image/train_Northwind/320_2_Northwind_video_aligned/0534.jpg  \n",
            "  inflating: /content/dataset/avec14/image/train_Northwind/320_2_Northwind_video_aligned/0537.jpg  \n",
            "  inflating: /content/dataset/avec14/image/train_Northwind/320_2_Northwind_video_aligned/0540.jpg  \n",
            "  inflating: /content/dataset/avec14/image/train_Northwind/320_2_Northwind_video_aligned/0543.jpg  \n",
            "  inflating: /content/dataset/avec14/image/train_Northwind/320_2_Northwind_video_aligned/0546.jpg  \n",
            "  inflating: /content/dataset/avec14/image/train_Northwind/320_2_Northwind_video_aligned/0549.jpg  \n",
            "  inflating: /content/dataset/avec14/image/train_Northwind/320_2_Northwind_video_aligned/0552.jpg  \n",
            "  inflating: /content/dataset/avec14/image/train_Northwind/320_2_Northwind_video_aligned/0555.jpg  \n",
            "  inflating: /content/dataset/avec14/image/train_Northwind/320_2_Northwind_video_aligned/0558.jpg  \n",
            "  inflating: /content/dataset/avec14/image/train_Northwind/320_2_Northwind_video_aligned/0561.jpg  \n",
            "  inflating: /content/dataset/avec14/image/train_Northwind/320_2_Northwind_video_aligned/0564.jpg  \n",
            "  inflating: /content/dataset/avec14/image/train_Northwind/320_2_Northwind_video_aligned/0567.jpg  \n",
            "  inflating: /content/dataset/avec14/image/train_Northwind/320_2_Northwind_video_aligned/0570.jpg  \n",
            "  inflating: /content/dataset/avec14/image/train_Northwind/320_2_Northwind_video_aligned/0573.jpg  \n",
            "  inflating: /content/dataset/avec14/image/train_Northwind/320_2_Northwind_video_aligned/0576.jpg  \n",
            "  inflating: /content/dataset/avec14/image/train_Northwind/320_2_Northwind_video_aligned/0579.jpg  \n",
            "  inflating: /content/dataset/avec14/image/train_Northwind/320_2_Northwind_video_aligned/0582.jpg  \n",
            "  inflating: /content/dataset/avec14/image/train_Northwind/320_2_Northwind_video_aligned/0585.jpg  \n",
            "  inflating: /content/dataset/avec14/image/train_Northwind/320_2_Northwind_video_aligned/0588.jpg  \n",
            "  inflating: /content/dataset/avec14/image/train_Northwind/320_2_Northwind_video_aligned/0591.jpg  \n",
            "  inflating: /content/dataset/avec14/image/train_Northwind/320_2_Northwind_video_aligned/0594.jpg  \n",
            "  inflating: /content/dataset/avec14/image/train_Northwind/320_2_Northwind_video_aligned/0597.jpg  \n",
            "  inflating: /content/dataset/avec14/image/train_Northwind/320_2_Northwind_video_aligned/0600.jpg  \n",
            "  inflating: /content/dataset/avec14/image/train_Northwind/320_2_Northwind_video_aligned/0603.jpg  \n",
            "  inflating: /content/dataset/avec14/image/train_Northwind/320_2_Northwind_video_aligned/0606.jpg  \n",
            "  inflating: /content/dataset/avec14/image/train_Northwind/320_2_Northwind_video_aligned/0609.jpg  \n",
            "  inflating: /content/dataset/avec14/image/train_Northwind/320_2_Northwind_video_aligned/0612.jpg  \n",
            "  inflating: /content/dataset/avec14/image/train_Northwind/320_2_Northwind_video_aligned/0615.jpg  \n",
            "  inflating: /content/dataset/avec14/image/train_Northwind/320_2_Northwind_video_aligned/0618.jpg  \n",
            "  inflating: /content/dataset/avec14/image/train_Northwind/320_2_Northwind_video_aligned/0621.jpg  \n",
            "  inflating: /content/dataset/avec14/image/train_Northwind/320_2_Northwind_video_aligned/0624.jpg  \n",
            "  inflating: /content/dataset/avec14/image/train_Northwind/320_2_Northwind_video_aligned/0627.jpg  \n",
            "  inflating: /content/dataset/avec14/image/train_Northwind/320_2_Northwind_video_aligned/0630.jpg  \n",
            "  inflating: /content/dataset/avec14/image/train_Northwind/320_2_Northwind_video_aligned/0633.jpg  \n",
            "  inflating: /content/dataset/avec14/image/train_Northwind/320_2_Northwind_video_aligned/0636.jpg  \n",
            "  inflating: /content/dataset/avec14/image/train_Northwind/320_2_Northwind_video_aligned/0639.jpg  \n",
            "  inflating: /content/dataset/avec14/image/train_Northwind/320_2_Northwind_video_aligned/0642.jpg  \n",
            "  inflating: /content/dataset/avec14/image/train_Northwind/320_2_Northwind_video_aligned/0645.jpg  \n",
            "  inflating: /content/dataset/avec14/image/train_Northwind/320_2_Northwind_video_aligned/0648.jpg  \n",
            "  inflating: /content/dataset/avec14/image/train_Northwind/320_2_Northwind_video_aligned/0651.jpg  \n",
            "  inflating: /content/dataset/avec14/image/train_Northwind/320_2_Northwind_video_aligned/0654.jpg  \n",
            "  inflating: /content/dataset/avec14/image/train_Northwind/320_2_Northwind_video_aligned/0657.jpg  \n",
            "  inflating: /content/dataset/avec14/image/train_Northwind/320_2_Northwind_video_aligned/0660.jpg  \n",
            "  inflating: /content/dataset/avec14/image/train_Northwind/320_2_Northwind_video_aligned/0663.jpg  \n",
            "  inflating: /content/dataset/avec14/image/train_Northwind/320_2_Northwind_video_aligned/0666.jpg  \n",
            "  inflating: /content/dataset/avec14/image/train_Northwind/320_2_Northwind_video_aligned/0669.jpg  \n",
            "  inflating: /content/dataset/avec14/image/train_Northwind/320_2_Northwind_video_aligned/0672.jpg  \n",
            "  inflating: /content/dataset/avec14/image/train_Northwind/320_2_Northwind_video_aligned/0675.jpg  \n",
            "  inflating: /content/dataset/avec14/image/train_Northwind/320_2_Northwind_video_aligned/0678.jpg  \n",
            "  inflating: /content/dataset/avec14/image/train_Northwind/320_2_Northwind_video_aligned/0681.jpg  \n",
            "  inflating: /content/dataset/avec14/image/train_Northwind/320_2_Northwind_video_aligned/0684.jpg  \n",
            "  inflating: /content/dataset/avec14/image/train_Northwind/320_2_Northwind_video_aligned/0687.jpg  \n",
            "  inflating: /content/dataset/avec14/image/train_Northwind/320_2_Northwind_video_aligned/0690.jpg  \n",
            "  inflating: /content/dataset/avec14/image/train_Northwind/320_2_Northwind_video_aligned/0693.jpg  \n",
            "  inflating: /content/dataset/avec14/image/train_Northwind/320_2_Northwind_video_aligned/0696.jpg  \n",
            "  inflating: /content/dataset/avec14/image/train_Northwind/320_2_Northwind_video_aligned/0699.jpg  \n",
            "  inflating: /content/dataset/avec14/image/train_Northwind/320_2_Northwind_video_aligned/0702.jpg  \n",
            "  inflating: /content/dataset/avec14/image/train_Northwind/320_2_Northwind_video_aligned/0705.jpg  \n",
            "  inflating: /content/dataset/avec14/image/train_Northwind/320_2_Northwind_video_aligned/0708.jpg  \n",
            "  inflating: /content/dataset/avec14/image/train_Northwind/320_2_Northwind_video_aligned/0711.jpg  \n",
            "  inflating: /content/dataset/avec14/image/train_Northwind/320_2_Northwind_video_aligned/0714.jpg  \n",
            "  inflating: /content/dataset/avec14/image/train_Northwind/320_2_Northwind_video_aligned/0717.jpg  \n",
            "  inflating: /content/dataset/avec14/image/train_Northwind/320_2_Northwind_video_aligned/0720.jpg  \n",
            "  inflating: /content/dataset/avec14/image/train_Northwind/320_2_Northwind_video_aligned/0723.jpg  \n",
            "  inflating: /content/dataset/avec14/image/train_Northwind/320_2_Northwind_video_aligned/0726.jpg  \n",
            "  inflating: /content/dataset/avec14/image/train_Northwind/320_2_Northwind_video_aligned/0729.jpg  \n",
            "  inflating: /content/dataset/avec14/image/train_Northwind/320_2_Northwind_video_aligned/0732.jpg  \n",
            "  inflating: /content/dataset/avec14/image/train_Northwind/320_2_Northwind_video_aligned/0735.jpg  \n",
            "  inflating: /content/dataset/avec14/image/train_Northwind/320_2_Northwind_video_aligned/0738.jpg  \n",
            "  inflating: /content/dataset/avec14/image/train_Northwind/320_2_Northwind_video_aligned/0741.jpg  \n",
            "  inflating: /content/dataset/avec14/image/train_Northwind/320_2_Northwind_video_aligned/0744.jpg  \n",
            "  inflating: /content/dataset/avec14/image/train_Northwind/320_2_Northwind_video_aligned/0747.jpg  \n",
            "  inflating: /content/dataset/avec14/image/train_Northwind/320_2_Northwind_video_aligned/0750.jpg  \n",
            "  inflating: /content/dataset/avec14/image/train_Northwind/320_2_Northwind_video_aligned/0753.jpg  \n",
            "  inflating: /content/dataset/avec14/image/train_Northwind/320_2_Northwind_video_aligned/0756.jpg  \n",
            "  inflating: /content/dataset/avec14/image/train_Northwind/320_2_Northwind_video_aligned/0759.jpg  \n",
            "  inflating: /content/dataset/avec14/image/train_Northwind/320_2_Northwind_video_aligned/0762.jpg  \n",
            "  inflating: /content/dataset/avec14/image/train_Northwind/320_2_Northwind_video_aligned/0765.jpg  \n",
            "  inflating: /content/dataset/avec14/image/train_Northwind/320_2_Northwind_video_aligned/0768.jpg  \n",
            "  inflating: /content/dataset/avec14/image/train_Northwind/320_2_Northwind_video_aligned/0771.jpg  \n",
            "  inflating: /content/dataset/avec14/image/train_Northwind/320_2_Northwind_video_aligned/0774.jpg  \n",
            "  inflating: /content/dataset/avec14/image/train_Northwind/320_2_Northwind_video_aligned/0777.jpg  \n",
            "  inflating: /content/dataset/avec14/image/train_Northwind/320_2_Northwind_video_aligned/0780.jpg  \n",
            "  inflating: /content/dataset/avec14/image/train_Northwind/320_2_Northwind_video_aligned/0783.jpg  \n",
            "  inflating: /content/dataset/avec14/image/train_Northwind/320_2_Northwind_video_aligned/0786.jpg  \n",
            "  inflating: /content/dataset/avec14/image/train_Northwind/320_2_Northwind_video_aligned/0789.jpg  \n",
            "  inflating: /content/dataset/avec14/image/train_Northwind/320_2_Northwind_video_aligned/0792.jpg  \n",
            "  inflating: /content/dataset/avec14/image/train_Northwind/320_2_Northwind_video_aligned/0795.jpg  \n",
            "  inflating: /content/dataset/avec14/image/train_Northwind/320_2_Northwind_video_aligned/0798.jpg  \n",
            "  inflating: /content/dataset/avec14/image/train_Northwind/320_2_Northwind_video_aligned/0801.jpg  \n",
            "  inflating: /content/dataset/avec14/image/train_Northwind/320_2_Northwind_video_aligned/0804.jpg  \n",
            "  inflating: /content/dataset/avec14/image/train_Northwind/320_2_Northwind_video_aligned/0807.jpg  \n",
            "  inflating: /content/dataset/avec14/image/train_Northwind/320_2_Northwind_video_aligned/0810.jpg  \n",
            "  inflating: /content/dataset/avec14/image/train_Northwind/320_2_Northwind_video_aligned/0813.jpg  \n",
            "  inflating: /content/dataset/avec14/image/train_Northwind/320_2_Northwind_video_aligned/0816.jpg  \n",
            "  inflating: /content/dataset/avec14/image/train_Northwind/320_2_Northwind_video_aligned/0819.jpg  \n",
            "  inflating: /content/dataset/avec14/image/train_Northwind/320_2_Northwind_video_aligned/0822.jpg  \n",
            "  inflating: /content/dataset/avec14/image/train_Northwind/320_2_Northwind_video_aligned/0825.jpg  \n",
            "  inflating: /content/dataset/avec14/image/train_Northwind/320_2_Northwind_video_aligned/0828.jpg  \n",
            "  inflating: /content/dataset/avec14/image/train_Northwind/320_2_Northwind_video_aligned/0831.jpg  \n",
            "  inflating: /content/dataset/avec14/image/train_Northwind/320_2_Northwind_video_aligned/0834.jpg  \n",
            "  inflating: /content/dataset/avec14/image/train_Northwind/320_2_Northwind_video_aligned/0837.jpg  \n",
            "  inflating: /content/dataset/avec14/image/train_Northwind/320_2_Northwind_video_aligned/0840.jpg  \n",
            "  inflating: /content/dataset/avec14/image/train_Northwind/320_2_Northwind_video_aligned/0843.jpg  \n",
            "  inflating: /content/dataset/avec14/image/train_Northwind/320_2_Northwind_video_aligned/0846.jpg  \n",
            "  inflating: /content/dataset/avec14/image/train_Northwind/320_2_Northwind_video_aligned/0849.jpg  \n",
            "  inflating: /content/dataset/avec14/image/train_Northwind/320_2_Northwind_video_aligned/0852.jpg  \n",
            "  inflating: /content/dataset/avec14/image/train_Northwind/320_2_Northwind_video_aligned/0855.jpg  \n",
            "  inflating: /content/dataset/avec14/image/train_Northwind/320_2_Northwind_video_aligned/0858.jpg  \n",
            "  inflating: /content/dataset/avec14/image/train_Northwind/320_2_Northwind_video_aligned/0861.jpg  \n",
            "  inflating: /content/dataset/avec14/image/train_Northwind/320_2_Northwind_video_aligned/0864.jpg  \n",
            "  inflating: /content/dataset/avec14/image/train_Northwind/320_2_Northwind_video_aligned/0867.jpg  \n",
            "  inflating: /content/dataset/avec14/image/train_Northwind/320_2_Northwind_video_aligned/0870.jpg  \n",
            "  inflating: /content/dataset/avec14/image/train_Northwind/320_2_Northwind_video_aligned/0873.jpg  \n",
            "  inflating: /content/dataset/avec14/image/train_Northwind/320_2_Northwind_video_aligned/0876.jpg  \n",
            "  inflating: /content/dataset/avec14/image/train_Northwind/320_2_Northwind_video_aligned/0879.jpg  \n",
            "  inflating: /content/dataset/avec14/image/train_Northwind/320_2_Northwind_video_aligned/0882.jpg  \n",
            "  inflating: /content/dataset/avec14/image/train_Northwind/320_2_Northwind_video_aligned/0885.jpg  \n",
            "  inflating: /content/dataset/avec14/image/train_Northwind/320_2_Northwind_video_aligned/0888.jpg  \n",
            "  inflating: /content/dataset/avec14/image/train_Northwind/320_2_Northwind_video_aligned/0891.jpg  \n",
            "  inflating: /content/dataset/avec14/image/train_Northwind/320_2_Northwind_video_aligned/0894.jpg  \n",
            "  inflating: /content/dataset/avec14/image/train_Northwind/320_2_Northwind_video_aligned/0897.jpg  \n",
            "  inflating: /content/dataset/avec14/image/train_Northwind/320_2_Northwind_video_aligned/0900.jpg  \n",
            "  inflating: /content/dataset/avec14/image/train_Northwind/320_2_Northwind_video_aligned/0903.jpg  \n",
            "  inflating: /content/dataset/avec14/image/train_Northwind/320_2_Northwind_video_aligned/0906.jpg  \n",
            "  inflating: /content/dataset/avec14/image/train_Northwind/320_2_Northwind_video_aligned/0909.jpg  \n",
            "  inflating: /content/dataset/avec14/image/train_Northwind/320_2_Northwind_video_aligned/0912.jpg  \n",
            "  inflating: /content/dataset/avec14/image/train_Northwind/320_2_Northwind_video_aligned/0915.jpg  \n",
            "  inflating: /content/dataset/avec14/image/train_Northwind/320_2_Northwind_video_aligned/0918.jpg  \n",
            "  inflating: /content/dataset/avec14/image/train_Northwind/320_2_Northwind_video_aligned/0921.jpg  \n",
            "  inflating: /content/dataset/avec14/image/train_Northwind/320_2_Northwind_video_aligned/0924.jpg  \n",
            "  inflating: /content/dataset/avec14/image/train_Northwind/320_2_Northwind_video_aligned/0927.jpg  \n",
            "  inflating: /content/dataset/avec14/image/train_Northwind/320_2_Northwind_video_aligned/0930.jpg  \n",
            "  inflating: /content/dataset/avec14/image/train_Northwind/320_2_Northwind_video_aligned/0933.jpg  \n",
            "  inflating: /content/dataset/avec14/image/train_Northwind/320_2_Northwind_video_aligned/0936.jpg  \n",
            "  inflating: /content/dataset/avec14/image/train_Northwind/320_2_Northwind_video_aligned/0939.jpg  \n",
            "  inflating: /content/dataset/avec14/image/train_Northwind/320_2_Northwind_video_aligned/0942.jpg  \n",
            "  inflating: /content/dataset/avec14/image/train_Northwind/320_2_Northwind_video_aligned/0945.jpg  \n",
            "  inflating: /content/dataset/avec14/image/train_Northwind/320_2_Northwind_video_aligned/0948.jpg  \n",
            "  inflating: /content/dataset/avec14/image/train_Northwind/320_2_Northwind_video_aligned/0951.jpg  \n",
            "  inflating: /content/dataset/avec14/image/train_Northwind/320_2_Northwind_video_aligned/0954.jpg  \n",
            "  inflating: /content/dataset/avec14/image/train_Northwind/320_2_Northwind_video_aligned/0957.jpg  \n",
            "  inflating: /content/dataset/avec14/image/train_Northwind/320_2_Northwind_video_aligned/0960.jpg  \n",
            "  inflating: /content/dataset/avec14/image/train_Northwind/320_2_Northwind_video_aligned/0963.jpg  \n",
            "  inflating: /content/dataset/avec14/image/train_Northwind/320_2_Northwind_video_aligned/0966.jpg  \n",
            "  inflating: /content/dataset/avec14/image/train_Northwind/320_2_Northwind_video_aligned/0969.jpg  \n",
            "  inflating: /content/dataset/avec14/image/train_Northwind/320_2_Northwind_video_aligned/0972.jpg  \n",
            "  inflating: /content/dataset/avec14/image/train_Northwind/320_2_Northwind_video_aligned/0975.jpg  \n",
            "  inflating: /content/dataset/avec14/image/train_Northwind/320_2_Northwind_video_aligned/0978.jpg  \n",
            "  inflating: /content/dataset/avec14/image/train_Northwind/320_2_Northwind_video_aligned/0981.jpg  \n",
            "  inflating: /content/dataset/avec14/image/train_Northwind/320_2_Northwind_video_aligned/0984.jpg  \n",
            "  inflating: /content/dataset/avec14/image/train_Northwind/320_2_Northwind_video_aligned/0987.jpg  \n",
            "  inflating: /content/dataset/avec14/image/train_Northwind/320_2_Northwind_video_aligned/0990.jpg  \n",
            "  inflating: /content/dataset/avec14/image/train_Northwind/320_2_Northwind_video_aligned/0993.jpg  \n",
            "  inflating: /content/dataset/avec14/image/train_Northwind/320_2_Northwind_video_aligned/0996.jpg  \n",
            "  inflating: /content/dataset/avec14/image/train_Northwind/320_2_Northwind_video_aligned/0999.jpg  \n",
            "  inflating: /content/dataset/avec14/image/train_Northwind/320_2_Northwind_video_aligned/1002.jpg  \n",
            "  inflating: /content/dataset/avec14/image/train_Northwind/320_2_Northwind_video_aligned/1005.jpg  \n",
            "  inflating: /content/dataset/avec14/image/train_Northwind/320_2_Northwind_video_aligned/1008.jpg  \n",
            "  inflating: /content/dataset/avec14/image/train_Northwind/320_2_Northwind_video_aligned/1011.jpg  \n",
            "  inflating: /content/dataset/avec14/image/train_Northwind/320_2_Northwind_video_aligned/1014.jpg  \n",
            "  inflating: /content/dataset/avec14/image/train_Northwind/320_2_Northwind_video_aligned/1017.jpg  \n",
            "  inflating: /content/dataset/avec14/image/train_Northwind/320_2_Northwind_video_aligned/1020.jpg  \n",
            "  inflating: /content/dataset/avec14/image/train_Northwind/320_2_Northwind_video_aligned/1023.jpg  \n",
            "  inflating: /content/dataset/avec14/image/train_Northwind/320_2_Northwind_video_aligned/1026.jpg  \n",
            "  inflating: /content/dataset/avec14/image/train_Northwind/320_2_Northwind_video_aligned/1029.jpg  \n",
            "  inflating: /content/dataset/avec14/image/train_Northwind/320_2_Northwind_video_aligned/1032.jpg  \n",
            "  inflating: /content/dataset/avec14/image/train_Northwind/320_2_Northwind_video_aligned/1035.jpg  \n",
            "  inflating: /content/dataset/avec14/image/train_Northwind/320_2_Northwind_video_aligned/1038.jpg  \n",
            "  inflating: /content/dataset/avec14/image/train_Northwind/320_2_Northwind_video_aligned/1041.jpg  \n",
            "  inflating: /content/dataset/avec14/image/train_Northwind/320_2_Northwind_video_aligned/1044.jpg  \n",
            "  inflating: /content/dataset/avec14/image/train_Northwind/320_2_Northwind_video_aligned/1047.jpg  \n",
            "  inflating: /content/dataset/avec14/image/train_Northwind/320_2_Northwind_video_aligned/1050.jpg  \n",
            "  inflating: /content/dataset/avec14/image/train_Northwind/320_2_Northwind_video_aligned/1053.jpg  \n",
            "  inflating: /content/dataset/avec14/image/train_Northwind/320_2_Northwind_video_aligned/1056.jpg  \n",
            "  inflating: /content/dataset/avec14/image/train_Northwind/320_2_Northwind_video_aligned/1059.jpg  \n",
            "  inflating: /content/dataset/avec14/image/train_Northwind/320_2_Northwind_video_aligned/1062.jpg  \n",
            "  inflating: /content/dataset/avec14/image/train_Northwind/320_2_Northwind_video_aligned/1065.jpg  \n",
            "  inflating: /content/dataset/avec14/image/train_Northwind/320_2_Northwind_video_aligned/1068.jpg  \n",
            "  inflating: /content/dataset/avec14/image/train_Northwind/320_2_Northwind_video_aligned/1071.jpg  \n",
            "  inflating: /content/dataset/avec14/image/train_Northwind/320_2_Northwind_video_aligned/1074.jpg  \n",
            "  inflating: /content/dataset/avec14/image/train_Northwind/320_2_Northwind_video_aligned/1077.jpg  \n",
            "  inflating: /content/dataset/avec14/image/train_Northwind/320_2_Northwind_video_aligned/1080.jpg  \n",
            "  inflating: /content/dataset/avec14/image/train_Northwind/320_2_Northwind_video_aligned/1083.jpg  \n",
            "  inflating: /content/dataset/avec14/image/train_Northwind/320_2_Northwind_video_aligned/1086.jpg  \n",
            "  inflating: /content/dataset/avec14/image/train_Northwind/320_2_Northwind_video_aligned/1089.jpg  \n",
            "  inflating: /content/dataset/avec14/image/train_Northwind/320_2_Northwind_video_aligned/1092.jpg  \n",
            "  inflating: /content/dataset/avec14/image/train_Northwind/320_2_Northwind_video_aligned/1095.jpg  \n",
            "  inflating: /content/dataset/avec14/image/train_Northwind/320_2_Northwind_video_aligned/1098.jpg  \n",
            "  inflating: /content/dataset/avec14/image/train_Northwind/320_2_Northwind_video_aligned/1101.jpg  \n",
            "  inflating: /content/dataset/avec14/image/train_Northwind/320_2_Northwind_video_aligned/1104.jpg  \n",
            "  inflating: /content/dataset/avec14/image/train_Northwind/320_2_Northwind_video_aligned/1107.jpg  \n",
            "  inflating: /content/dataset/avec14/image/train_Northwind/320_2_Northwind_video_aligned/1110.jpg  \n",
            "  inflating: /content/dataset/avec14/image/train_Northwind/320_2_Northwind_video_aligned/1113.jpg  \n",
            "  inflating: /content/dataset/avec14/image/train_Northwind/320_2_Northwind_video_aligned/1116.jpg  \n",
            "  inflating: /content/dataset/avec14/image/train_Northwind/320_2_Northwind_video_aligned/1119.jpg  \n",
            "  inflating: /content/dataset/avec14/image/train_Northwind/320_2_Northwind_video_aligned/1122.jpg  \n",
            "  inflating: /content/dataset/avec14/image/train_Northwind/320_2_Northwind_video_aligned/1125.jpg  \n",
            "  inflating: /content/dataset/avec14/image/train_Northwind/320_2_Northwind_video_aligned/1128.jpg  \n",
            "  inflating: /content/dataset/avec14/image/train_Northwind/320_2_Northwind_video_aligned/1131.jpg  \n",
            "  inflating: /content/dataset/avec14/image/train_Northwind/320_2_Northwind_video_aligned/1134.jpg  \n",
            "  inflating: /content/dataset/avec14/image/train_Northwind/320_2_Northwind_video_aligned/1137.jpg  \n",
            "  inflating: /content/dataset/avec14/image/train_Northwind/320_2_Northwind_video_aligned/1140.jpg  \n",
            "  inflating: /content/dataset/avec14/image/train_Northwind/320_2_Northwind_video_aligned/1143.jpg  \n",
            "  inflating: /content/dataset/avec14/image/train_Northwind/320_2_Northwind_video_aligned/1146.jpg  \n",
            "  inflating: /content/dataset/avec14/image/train_Northwind/320_2_Northwind_video_aligned/1149.jpg  \n",
            "  inflating: /content/dataset/avec14/image/train_Northwind/320_2_Northwind_video_aligned/1152.jpg  \n",
            "  inflating: /content/dataset/avec14/image/train_Northwind/320_2_Northwind_video_aligned/1155.jpg  \n",
            "  inflating: /content/dataset/avec14/image/train_Northwind/320_2_Northwind_video_aligned/1158.jpg  \n",
            "  inflating: /content/dataset/avec14/image/train_Northwind/320_2_Northwind_video_aligned/1161.jpg  \n",
            "  inflating: /content/dataset/avec14/image/train_Northwind/320_2_Northwind_video_aligned/1164.jpg  \n",
            "  inflating: /content/dataset/avec14/image/train_Northwind/320_2_Northwind_video_aligned/1167.jpg  \n",
            "  inflating: /content/dataset/avec14/image/train_Northwind/320_2_Northwind_video_aligned/1170.jpg  \n",
            "  inflating: /content/dataset/avec14/image/train_Northwind/320_2_Northwind_video_aligned/1173.jpg  \n",
            "  inflating: /content/dataset/avec14/image/train_Northwind/320_2_Northwind_video_aligned/1176.jpg  \n",
            "  inflating: /content/dataset/avec14/image/train_Northwind/320_2_Northwind_video_aligned/1179.jpg  \n",
            "  inflating: /content/dataset/avec14/image/train_Northwind/320_2_Northwind_video_aligned/1182.jpg  \n",
            "  inflating: /content/dataset/avec14/image/train_Northwind/320_2_Northwind_video_aligned/1185.jpg  \n",
            "  inflating: /content/dataset/avec14/image/train_Northwind/320_2_Northwind_video_aligned/1188.jpg  \n",
            "  inflating: /content/dataset/avec14/image/train_Northwind/320_2_Northwind_video_aligned/1191.jpg  \n",
            "  inflating: /content/dataset/avec14/image/train_Northwind/320_2_Northwind_video_aligned/1194.jpg  \n",
            "  inflating: /content/dataset/avec14/image/train_Northwind/320_2_Northwind_video_aligned/1197.jpg  \n",
            "   creating: /content/dataset/avec14/image/train_Northwind/321_2_Northwind_video_aligned/\n",
            "  inflating: /content/dataset/avec14/image/train_Northwind/321_2_Northwind_video_aligned/0000.jpg  \n",
            "  inflating: /content/dataset/avec14/image/train_Northwind/321_2_Northwind_video_aligned/0003.jpg  \n",
            "  inflating: /content/dataset/avec14/image/train_Northwind/321_2_Northwind_video_aligned/0006.jpg  \n",
            "  inflating: /content/dataset/avec14/image/train_Northwind/321_2_Northwind_video_aligned/0009.jpg  \n",
            "  inflating: /content/dataset/avec14/image/train_Northwind/321_2_Northwind_video_aligned/0012.jpg  \n",
            "  inflating: /content/dataset/avec14/image/train_Northwind/321_2_Northwind_video_aligned/0015.jpg  \n",
            "  inflating: /content/dataset/avec14/image/train_Northwind/321_2_Northwind_video_aligned/0018.jpg  \n",
            "  inflating: /content/dataset/avec14/image/train_Northwind/321_2_Northwind_video_aligned/0021.jpg  \n",
            "  inflating: /content/dataset/avec14/image/train_Northwind/321_2_Northwind_video_aligned/0024.jpg  \n",
            "  inflating: /content/dataset/avec14/image/train_Northwind/321_2_Northwind_video_aligned/0027.jpg  \n",
            "  inflating: /content/dataset/avec14/image/train_Northwind/321_2_Northwind_video_aligned/0030.jpg  \n",
            "  inflating: /content/dataset/avec14/image/train_Northwind/321_2_Northwind_video_aligned/0033.jpg  \n",
            "  inflating: /content/dataset/avec14/image/train_Northwind/321_2_Northwind_video_aligned/0036.jpg  \n",
            "  inflating: /content/dataset/avec14/image/train_Northwind/321_2_Northwind_video_aligned/0039.jpg  \n",
            "  inflating: /content/dataset/avec14/image/train_Northwind/321_2_Northwind_video_aligned/0042.jpg  \n",
            "  inflating: /content/dataset/avec14/image/train_Northwind/321_2_Northwind_video_aligned/0045.jpg  \n",
            "  inflating: /content/dataset/avec14/image/train_Northwind/321_2_Northwind_video_aligned/0048.jpg  \n",
            "  inflating: /content/dataset/avec14/image/train_Northwind/321_2_Northwind_video_aligned/0051.jpg  \n",
            "  inflating: /content/dataset/avec14/image/train_Northwind/321_2_Northwind_video_aligned/0054.jpg  \n",
            "  inflating: /content/dataset/avec14/image/train_Northwind/321_2_Northwind_video_aligned/0057.jpg  \n",
            "  inflating: /content/dataset/avec14/image/train_Northwind/321_2_Northwind_video_aligned/0060.jpg  \n",
            "  inflating: /content/dataset/avec14/image/train_Northwind/321_2_Northwind_video_aligned/0063.jpg  \n",
            "  inflating: /content/dataset/avec14/image/train_Northwind/321_2_Northwind_video_aligned/0066.jpg  \n",
            "  inflating: /content/dataset/avec14/image/train_Northwind/321_2_Northwind_video_aligned/0069.jpg  \n",
            "  inflating: /content/dataset/avec14/image/train_Northwind/321_2_Northwind_video_aligned/0072.jpg  \n",
            "  inflating: /content/dataset/avec14/image/train_Northwind/321_2_Northwind_video_aligned/0075.jpg  \n",
            "  inflating: /content/dataset/avec14/image/train_Northwind/321_2_Northwind_video_aligned/0078.jpg  \n",
            "  inflating: /content/dataset/avec14/image/train_Northwind/321_2_Northwind_video_aligned/0081.jpg  \n",
            "  inflating: /content/dataset/avec14/image/train_Northwind/321_2_Northwind_video_aligned/0084.jpg  \n",
            "  inflating: /content/dataset/avec14/image/train_Northwind/321_2_Northwind_video_aligned/0087.jpg  \n",
            "  inflating: /content/dataset/avec14/image/train_Northwind/321_2_Northwind_video_aligned/0090.jpg  \n",
            "  inflating: /content/dataset/avec14/image/train_Northwind/321_2_Northwind_video_aligned/0093.jpg  \n",
            "  inflating: /content/dataset/avec14/image/train_Northwind/321_2_Northwind_video_aligned/0096.jpg  \n",
            "  inflating: /content/dataset/avec14/image/train_Northwind/321_2_Northwind_video_aligned/0099.jpg  \n",
            "  inflating: /content/dataset/avec14/image/train_Northwind/321_2_Northwind_video_aligned/0102.jpg  \n",
            "  inflating: /content/dataset/avec14/image/train_Northwind/321_2_Northwind_video_aligned/0105.jpg  \n",
            "  inflating: /content/dataset/avec14/image/train_Northwind/321_2_Northwind_video_aligned/0108.jpg  \n",
            "  inflating: /content/dataset/avec14/image/train_Northwind/321_2_Northwind_video_aligned/0111.jpg  \n",
            "  inflating: /content/dataset/avec14/image/train_Northwind/321_2_Northwind_video_aligned/0114.jpg  \n",
            "  inflating: /content/dataset/avec14/image/train_Northwind/321_2_Northwind_video_aligned/0117.jpg  \n",
            "  inflating: /content/dataset/avec14/image/train_Northwind/321_2_Northwind_video_aligned/0120.jpg  \n",
            "  inflating: /content/dataset/avec14/image/train_Northwind/321_2_Northwind_video_aligned/0123.jpg  \n",
            "  inflating: /content/dataset/avec14/image/train_Northwind/321_2_Northwind_video_aligned/0126.jpg  \n",
            "  inflating: /content/dataset/avec14/image/train_Northwind/321_2_Northwind_video_aligned/0129.jpg  \n",
            "  inflating: /content/dataset/avec14/image/train_Northwind/321_2_Northwind_video_aligned/0132.jpg  \n",
            "  inflating: /content/dataset/avec14/image/train_Northwind/321_2_Northwind_video_aligned/0135.jpg  \n",
            "  inflating: /content/dataset/avec14/image/train_Northwind/321_2_Northwind_video_aligned/0138.jpg  \n",
            "  inflating: /content/dataset/avec14/image/train_Northwind/321_2_Northwind_video_aligned/0141.jpg  \n",
            "  inflating: /content/dataset/avec14/image/train_Northwind/321_2_Northwind_video_aligned/0144.jpg  \n",
            "  inflating: /content/dataset/avec14/image/train_Northwind/321_2_Northwind_video_aligned/0147.jpg  \n",
            "  inflating: /content/dataset/avec14/image/train_Northwind/321_2_Northwind_video_aligned/0150.jpg  \n",
            "  inflating: /content/dataset/avec14/image/train_Northwind/321_2_Northwind_video_aligned/0153.jpg  \n",
            "  inflating: /content/dataset/avec14/image/train_Northwind/321_2_Northwind_video_aligned/0156.jpg  \n",
            "  inflating: /content/dataset/avec14/image/train_Northwind/321_2_Northwind_video_aligned/0159.jpg  \n",
            "  inflating: /content/dataset/avec14/image/train_Northwind/321_2_Northwind_video_aligned/0162.jpg  \n",
            "  inflating: /content/dataset/avec14/image/train_Northwind/321_2_Northwind_video_aligned/0165.jpg  \n",
            "  inflating: /content/dataset/avec14/image/train_Northwind/321_2_Northwind_video_aligned/0168.jpg  \n",
            "  inflating: /content/dataset/avec14/image/train_Northwind/321_2_Northwind_video_aligned/0171.jpg  \n",
            "  inflating: /content/dataset/avec14/image/train_Northwind/321_2_Northwind_video_aligned/0174.jpg  \n",
            "  inflating: /content/dataset/avec14/image/train_Northwind/321_2_Northwind_video_aligned/0177.jpg  \n",
            "  inflating: /content/dataset/avec14/image/train_Northwind/321_2_Northwind_video_aligned/0180.jpg  \n",
            "  inflating: /content/dataset/avec14/image/train_Northwind/321_2_Northwind_video_aligned/0183.jpg  \n",
            "  inflating: /content/dataset/avec14/image/train_Northwind/321_2_Northwind_video_aligned/0186.jpg  \n",
            "  inflating: /content/dataset/avec14/image/train_Northwind/321_2_Northwind_video_aligned/0189.jpg  \n",
            "  inflating: /content/dataset/avec14/image/train_Northwind/321_2_Northwind_video_aligned/0192.jpg  \n",
            "  inflating: /content/dataset/avec14/image/train_Northwind/321_2_Northwind_video_aligned/0195.jpg  \n",
            "  inflating: /content/dataset/avec14/image/train_Northwind/321_2_Northwind_video_aligned/0198.jpg  \n",
            "  inflating: /content/dataset/avec14/image/train_Northwind/321_2_Northwind_video_aligned/0201.jpg  \n",
            "  inflating: /content/dataset/avec14/image/train_Northwind/321_2_Northwind_video_aligned/0204.jpg  \n",
            "  inflating: /content/dataset/avec14/image/train_Northwind/321_2_Northwind_video_aligned/0207.jpg  \n",
            "  inflating: /content/dataset/avec14/image/train_Northwind/321_2_Northwind_video_aligned/0210.jpg  \n",
            "  inflating: /content/dataset/avec14/image/train_Northwind/321_2_Northwind_video_aligned/0213.jpg  \n",
            "  inflating: /content/dataset/avec14/image/train_Northwind/321_2_Northwind_video_aligned/0216.jpg  \n",
            "  inflating: /content/dataset/avec14/image/train_Northwind/321_2_Northwind_video_aligned/0219.jpg  \n",
            "  inflating: /content/dataset/avec14/image/train_Northwind/321_2_Northwind_video_aligned/0222.jpg  \n",
            "  inflating: /content/dataset/avec14/image/train_Northwind/321_2_Northwind_video_aligned/0225.jpg  \n",
            "  inflating: /content/dataset/avec14/image/train_Northwind/321_2_Northwind_video_aligned/0228.jpg  \n",
            "  inflating: /content/dataset/avec14/image/train_Northwind/321_2_Northwind_video_aligned/0231.jpg  \n",
            "  inflating: /content/dataset/avec14/image/train_Northwind/321_2_Northwind_video_aligned/0234.jpg  \n",
            "  inflating: /content/dataset/avec14/image/train_Northwind/321_2_Northwind_video_aligned/0237.jpg  \n",
            "  inflating: /content/dataset/avec14/image/train_Northwind/321_2_Northwind_video_aligned/0240.jpg  \n",
            "  inflating: /content/dataset/avec14/image/train_Northwind/321_2_Northwind_video_aligned/0243.jpg  \n",
            "  inflating: /content/dataset/avec14/image/train_Northwind/321_2_Northwind_video_aligned/0246.jpg  \n",
            "  inflating: /content/dataset/avec14/image/train_Northwind/321_2_Northwind_video_aligned/0249.jpg  \n",
            "  inflating: /content/dataset/avec14/image/train_Northwind/321_2_Northwind_video_aligned/0252.jpg  \n",
            "  inflating: /content/dataset/avec14/image/train_Northwind/321_2_Northwind_video_aligned/0255.jpg  \n",
            "  inflating: /content/dataset/avec14/image/train_Northwind/321_2_Northwind_video_aligned/0258.jpg  \n",
            "  inflating: /content/dataset/avec14/image/train_Northwind/321_2_Northwind_video_aligned/0261.jpg  \n",
            "  inflating: /content/dataset/avec14/image/train_Northwind/321_2_Northwind_video_aligned/0264.jpg  \n",
            "  inflating: /content/dataset/avec14/image/train_Northwind/321_2_Northwind_video_aligned/0267.jpg  \n",
            "  inflating: /content/dataset/avec14/image/train_Northwind/321_2_Northwind_video_aligned/0270.jpg  \n",
            "  inflating: /content/dataset/avec14/image/train_Northwind/321_2_Northwind_video_aligned/0273.jpg  \n",
            "  inflating: /content/dataset/avec14/image/train_Northwind/321_2_Northwind_video_aligned/0276.jpg  \n",
            "  inflating: /content/dataset/avec14/image/train_Northwind/321_2_Northwind_video_aligned/0279.jpg  \n",
            "  inflating: /content/dataset/avec14/image/train_Northwind/321_2_Northwind_video_aligned/0282.jpg  \n",
            "  inflating: /content/dataset/avec14/image/train_Northwind/321_2_Northwind_video_aligned/0285.jpg  \n",
            "  inflating: /content/dataset/avec14/image/train_Northwind/321_2_Northwind_video_aligned/0288.jpg  \n",
            "  inflating: /content/dataset/avec14/image/train_Northwind/321_2_Northwind_video_aligned/0291.jpg  \n",
            "  inflating: /content/dataset/avec14/image/train_Northwind/321_2_Northwind_video_aligned/0294.jpg  \n",
            "  inflating: /content/dataset/avec14/image/train_Northwind/321_2_Northwind_video_aligned/0297.jpg  \n",
            "  inflating: /content/dataset/avec14/image/train_Northwind/321_2_Northwind_video_aligned/0300.jpg  \n",
            "  inflating: /content/dataset/avec14/image/train_Northwind/321_2_Northwind_video_aligned/0303.jpg  \n",
            "  inflating: /content/dataset/avec14/image/train_Northwind/321_2_Northwind_video_aligned/0306.jpg  \n",
            "  inflating: /content/dataset/avec14/image/train_Northwind/321_2_Northwind_video_aligned/0309.jpg  \n",
            "  inflating: /content/dataset/avec14/image/train_Northwind/321_2_Northwind_video_aligned/0312.jpg  \n",
            "  inflating: /content/dataset/avec14/image/train_Northwind/321_2_Northwind_video_aligned/0315.jpg  \n",
            "  inflating: /content/dataset/avec14/image/train_Northwind/321_2_Northwind_video_aligned/0318.jpg  \n",
            "  inflating: /content/dataset/avec14/image/train_Northwind/321_2_Northwind_video_aligned/0321.jpg  \n",
            "  inflating: /content/dataset/avec14/image/train_Northwind/321_2_Northwind_video_aligned/0324.jpg  \n",
            "  inflating: /content/dataset/avec14/image/train_Northwind/321_2_Northwind_video_aligned/0327.jpg  \n",
            "  inflating: /content/dataset/avec14/image/train_Northwind/321_2_Northwind_video_aligned/0330.jpg  \n",
            "  inflating: /content/dataset/avec14/image/train_Northwind/321_2_Northwind_video_aligned/0333.jpg  \n",
            "  inflating: /content/dataset/avec14/image/train_Northwind/321_2_Northwind_video_aligned/0336.jpg  \n",
            "  inflating: /content/dataset/avec14/image/train_Northwind/321_2_Northwind_video_aligned/0339.jpg  \n",
            "  inflating: /content/dataset/avec14/image/train_Northwind/321_2_Northwind_video_aligned/0342.jpg  \n",
            "  inflating: /content/dataset/avec14/image/train_Northwind/321_2_Northwind_video_aligned/0345.jpg  \n",
            "  inflating: /content/dataset/avec14/image/train_Northwind/321_2_Northwind_video_aligned/0348.jpg  \n",
            "  inflating: /content/dataset/avec14/image/train_Northwind/321_2_Northwind_video_aligned/0351.jpg  \n",
            "  inflating: /content/dataset/avec14/image/train_Northwind/321_2_Northwind_video_aligned/0354.jpg  \n",
            "  inflating: /content/dataset/avec14/image/train_Northwind/321_2_Northwind_video_aligned/0357.jpg  \n",
            "  inflating: /content/dataset/avec14/image/train_Northwind/321_2_Northwind_video_aligned/0360.jpg  \n",
            "  inflating: /content/dataset/avec14/image/train_Northwind/321_2_Northwind_video_aligned/0363.jpg  \n",
            "  inflating: /content/dataset/avec14/image/train_Northwind/321_2_Northwind_video_aligned/0366.jpg  \n",
            "  inflating: /content/dataset/avec14/image/train_Northwind/321_2_Northwind_video_aligned/0369.jpg  \n",
            "  inflating: /content/dataset/avec14/image/train_Northwind/321_2_Northwind_video_aligned/0372.jpg  \n",
            "  inflating: /content/dataset/avec14/image/train_Northwind/321_2_Northwind_video_aligned/0375.jpg  \n",
            "  inflating: /content/dataset/avec14/image/train_Northwind/321_2_Northwind_video_aligned/0378.jpg  \n",
            "  inflating: /content/dataset/avec14/image/train_Northwind/321_2_Northwind_video_aligned/0381.jpg  \n",
            "  inflating: /content/dataset/avec14/image/train_Northwind/321_2_Northwind_video_aligned/0384.jpg  \n",
            "  inflating: /content/dataset/avec14/image/train_Northwind/321_2_Northwind_video_aligned/0387.jpg  \n",
            "  inflating: /content/dataset/avec14/image/train_Northwind/321_2_Northwind_video_aligned/0390.jpg  \n",
            "  inflating: /content/dataset/avec14/image/train_Northwind/321_2_Northwind_video_aligned/0393.jpg  \n",
            "  inflating: /content/dataset/avec14/image/train_Northwind/321_2_Northwind_video_aligned/0396.jpg  \n",
            "  inflating: /content/dataset/avec14/image/train_Northwind/321_2_Northwind_video_aligned/0399.jpg  \n",
            "  inflating: /content/dataset/avec14/image/train_Northwind/321_2_Northwind_video_aligned/0402.jpg  \n",
            "  inflating: /content/dataset/avec14/image/train_Northwind/321_2_Northwind_video_aligned/0405.jpg  \n",
            "  inflating: /content/dataset/avec14/image/train_Northwind/321_2_Northwind_video_aligned/0408.jpg  \n",
            "  inflating: /content/dataset/avec14/image/train_Northwind/321_2_Northwind_video_aligned/0411.jpg  \n",
            "  inflating: /content/dataset/avec14/image/train_Northwind/321_2_Northwind_video_aligned/0414.jpg  \n",
            "  inflating: /content/dataset/avec14/image/train_Northwind/321_2_Northwind_video_aligned/0417.jpg  \n",
            "  inflating: /content/dataset/avec14/image/train_Northwind/321_2_Northwind_video_aligned/0420.jpg  \n",
            "  inflating: /content/dataset/avec14/image/train_Northwind/321_2_Northwind_video_aligned/0423.jpg  \n",
            "  inflating: /content/dataset/avec14/image/train_Northwind/321_2_Northwind_video_aligned/0426.jpg  \n",
            "  inflating: /content/dataset/avec14/image/train_Northwind/321_2_Northwind_video_aligned/0429.jpg  \n",
            "  inflating: /content/dataset/avec14/image/train_Northwind/321_2_Northwind_video_aligned/0432.jpg  \n",
            "  inflating: /content/dataset/avec14/image/train_Northwind/321_2_Northwind_video_aligned/0435.jpg  \n",
            "  inflating: /content/dataset/avec14/image/train_Northwind/321_2_Northwind_video_aligned/0438.jpg  \n",
            "  inflating: /content/dataset/avec14/image/train_Northwind/321_2_Northwind_video_aligned/0441.jpg  \n",
            "  inflating: /content/dataset/avec14/image/train_Northwind/321_2_Northwind_video_aligned/0444.jpg  \n",
            "  inflating: /content/dataset/avec14/image/train_Northwind/321_2_Northwind_video_aligned/0447.jpg  \n",
            "  inflating: /content/dataset/avec14/image/train_Northwind/321_2_Northwind_video_aligned/0450.jpg  \n",
            "  inflating: /content/dataset/avec14/image/train_Northwind/321_2_Northwind_video_aligned/0453.jpg  \n",
            "  inflating: /content/dataset/avec14/image/train_Northwind/321_2_Northwind_video_aligned/0456.jpg  \n",
            "  inflating: /content/dataset/avec14/image/train_Northwind/321_2_Northwind_video_aligned/0459.jpg  \n",
            "  inflating: /content/dataset/avec14/image/train_Northwind/321_2_Northwind_video_aligned/0462.jpg  \n",
            "  inflating: /content/dataset/avec14/image/train_Northwind/321_2_Northwind_video_aligned/0465.jpg  \n",
            "  inflating: /content/dataset/avec14/image/train_Northwind/321_2_Northwind_video_aligned/0468.jpg  \n",
            "  inflating: /content/dataset/avec14/image/train_Northwind/321_2_Northwind_video_aligned/0471.jpg  \n",
            "  inflating: /content/dataset/avec14/image/train_Northwind/321_2_Northwind_video_aligned/0474.jpg  \n",
            "  inflating: /content/dataset/avec14/image/train_Northwind/321_2_Northwind_video_aligned/0477.jpg  \n",
            "  inflating: /content/dataset/avec14/image/train_Northwind/321_2_Northwind_video_aligned/0480.jpg  \n",
            "  inflating: /content/dataset/avec14/image/train_Northwind/321_2_Northwind_video_aligned/0483.jpg  \n",
            "  inflating: /content/dataset/avec14/image/train_Northwind/321_2_Northwind_video_aligned/0486.jpg  \n",
            "  inflating: /content/dataset/avec14/image/train_Northwind/321_2_Northwind_video_aligned/0489.jpg  \n",
            "  inflating: /content/dataset/avec14/image/train_Northwind/321_2_Northwind_video_aligned/0492.jpg  \n",
            "  inflating: /content/dataset/avec14/image/train_Northwind/321_2_Northwind_video_aligned/0495.jpg  \n",
            "  inflating: /content/dataset/avec14/image/train_Northwind/321_2_Northwind_video_aligned/0498.jpg  \n",
            "  inflating: /content/dataset/avec14/image/train_Northwind/321_2_Northwind_video_aligned/0501.jpg  \n",
            "  inflating: /content/dataset/avec14/image/train_Northwind/321_2_Northwind_video_aligned/0504.jpg  \n",
            "  inflating: /content/dataset/avec14/image/train_Northwind/321_2_Northwind_video_aligned/0507.jpg  \n",
            "  inflating: /content/dataset/avec14/image/train_Northwind/321_2_Northwind_video_aligned/0510.jpg  \n",
            "  inflating: /content/dataset/avec14/image/train_Northwind/321_2_Northwind_video_aligned/0513.jpg  \n",
            "  inflating: /content/dataset/avec14/image/train_Northwind/321_2_Northwind_video_aligned/0516.jpg  \n",
            "  inflating: /content/dataset/avec14/image/train_Northwind/321_2_Northwind_video_aligned/0519.jpg  \n",
            "  inflating: /content/dataset/avec14/image/train_Northwind/321_2_Northwind_video_aligned/0522.jpg  \n",
            "  inflating: /content/dataset/avec14/image/train_Northwind/321_2_Northwind_video_aligned/0525.jpg  \n",
            "  inflating: /content/dataset/avec14/image/train_Northwind/321_2_Northwind_video_aligned/0528.jpg  \n",
            "  inflating: /content/dataset/avec14/image/train_Northwind/321_2_Northwind_video_aligned/0531.jpg  \n",
            "  inflating: /content/dataset/avec14/image/train_Northwind/321_2_Northwind_video_aligned/0534.jpg  \n",
            "  inflating: /content/dataset/avec14/image/train_Northwind/321_2_Northwind_video_aligned/0537.jpg  \n",
            "  inflating: /content/dataset/avec14/image/train_Northwind/321_2_Northwind_video_aligned/0540.jpg  \n",
            "  inflating: /content/dataset/avec14/image/train_Northwind/321_2_Northwind_video_aligned/0543.jpg  \n",
            "  inflating: /content/dataset/avec14/image/train_Northwind/321_2_Northwind_video_aligned/0546.jpg  \n",
            "  inflating: /content/dataset/avec14/image/train_Northwind/321_2_Northwind_video_aligned/0549.jpg  \n",
            "  inflating: /content/dataset/avec14/image/train_Northwind/321_2_Northwind_video_aligned/0552.jpg  \n",
            "  inflating: /content/dataset/avec14/image/train_Northwind/321_2_Northwind_video_aligned/0555.jpg  \n",
            "  inflating: /content/dataset/avec14/image/train_Northwind/321_2_Northwind_video_aligned/0558.jpg  \n",
            "  inflating: /content/dataset/avec14/image/train_Northwind/321_2_Northwind_video_aligned/0561.jpg  \n",
            "  inflating: /content/dataset/avec14/image/train_Northwind/321_2_Northwind_video_aligned/0564.jpg  \n",
            "  inflating: /content/dataset/avec14/image/train_Northwind/321_2_Northwind_video_aligned/0567.jpg  \n",
            "  inflating: /content/dataset/avec14/image/train_Northwind/321_2_Northwind_video_aligned/0570.jpg  \n",
            "  inflating: /content/dataset/avec14/image/train_Northwind/321_2_Northwind_video_aligned/0573.jpg  \n",
            "  inflating: /content/dataset/avec14/image/train_Northwind/321_2_Northwind_video_aligned/0576.jpg  \n",
            "  inflating: /content/dataset/avec14/image/train_Northwind/321_2_Northwind_video_aligned/0579.jpg  \n",
            "  inflating: /content/dataset/avec14/image/train_Northwind/321_2_Northwind_video_aligned/0582.jpg  \n",
            "  inflating: /content/dataset/avec14/image/train_Northwind/321_2_Northwind_video_aligned/0585.jpg  \n",
            "  inflating: /content/dataset/avec14/image/train_Northwind/321_2_Northwind_video_aligned/0588.jpg  \n",
            "  inflating: /content/dataset/avec14/image/train_Northwind/321_2_Northwind_video_aligned/0591.jpg  \n",
            "  inflating: /content/dataset/avec14/image/train_Northwind/321_2_Northwind_video_aligned/0594.jpg  \n",
            "  inflating: /content/dataset/avec14/image/train_Northwind/321_2_Northwind_video_aligned/0597.jpg  \n",
            "  inflating: /content/dataset/avec14/image/train_Northwind/321_2_Northwind_video_aligned/0600.jpg  \n",
            "  inflating: /content/dataset/avec14/image/train_Northwind/321_2_Northwind_video_aligned/0603.jpg  \n",
            "  inflating: /content/dataset/avec14/image/train_Northwind/321_2_Northwind_video_aligned/0606.jpg  \n",
            "  inflating: /content/dataset/avec14/image/train_Northwind/321_2_Northwind_video_aligned/0609.jpg  \n",
            "  inflating: /content/dataset/avec14/image/train_Northwind/321_2_Northwind_video_aligned/0612.jpg  \n",
            "  inflating: /content/dataset/avec14/image/train_Northwind/321_2_Northwind_video_aligned/0615.jpg  \n",
            "  inflating: /content/dataset/avec14/image/train_Northwind/321_2_Northwind_video_aligned/0618.jpg  \n",
            "  inflating: /content/dataset/avec14/image/train_Northwind/321_2_Northwind_video_aligned/0621.jpg  \n",
            "  inflating: /content/dataset/avec14/image/train_Northwind/321_2_Northwind_video_aligned/0624.jpg  \n",
            "  inflating: /content/dataset/avec14/image/train_Northwind/321_2_Northwind_video_aligned/0627.jpg  \n",
            "  inflating: /content/dataset/avec14/image/train_Northwind/321_2_Northwind_video_aligned/0630.jpg  \n",
            "  inflating: /content/dataset/avec14/image/train_Northwind/321_2_Northwind_video_aligned/0633.jpg  \n",
            "  inflating: /content/dataset/avec14/image/train_Northwind/321_2_Northwind_video_aligned/0636.jpg  \n",
            "  inflating: /content/dataset/avec14/image/train_Northwind/321_2_Northwind_video_aligned/0639.jpg  \n",
            "  inflating: /content/dataset/avec14/image/train_Northwind/321_2_Northwind_video_aligned/0642.jpg  \n",
            "  inflating: /content/dataset/avec14/image/train_Northwind/321_2_Northwind_video_aligned/0645.jpg  \n",
            "  inflating: /content/dataset/avec14/image/train_Northwind/321_2_Northwind_video_aligned/0648.jpg  \n",
            "  inflating: /content/dataset/avec14/image/train_Northwind/321_2_Northwind_video_aligned/0651.jpg  \n",
            "  inflating: /content/dataset/avec14/image/train_Northwind/321_2_Northwind_video_aligned/0654.jpg  \n",
            "  inflating: /content/dataset/avec14/image/train_Northwind/321_2_Northwind_video_aligned/0657.jpg  \n",
            "  inflating: /content/dataset/avec14/image/train_Northwind/321_2_Northwind_video_aligned/0660.jpg  \n",
            "  inflating: /content/dataset/avec14/image/train_Northwind/321_2_Northwind_video_aligned/0663.jpg  \n",
            "  inflating: /content/dataset/avec14/image/train_Northwind/321_2_Northwind_video_aligned/0666.jpg  \n",
            "  inflating: /content/dataset/avec14/image/train_Northwind/321_2_Northwind_video_aligned/0669.jpg  \n",
            "  inflating: /content/dataset/avec14/image/train_Northwind/321_2_Northwind_video_aligned/0672.jpg  \n",
            "  inflating: /content/dataset/avec14/image/train_Northwind/321_2_Northwind_video_aligned/0675.jpg  \n",
            "  inflating: /content/dataset/avec14/image/train_Northwind/321_2_Northwind_video_aligned/0678.jpg  \n",
            "  inflating: /content/dataset/avec14/image/train_Northwind/321_2_Northwind_video_aligned/0681.jpg  \n",
            "  inflating: /content/dataset/avec14/image/train_Northwind/321_2_Northwind_video_aligned/0684.jpg  \n",
            "  inflating: /content/dataset/avec14/image/train_Northwind/321_2_Northwind_video_aligned/0687.jpg  \n",
            "  inflating: /content/dataset/avec14/image/train_Northwind/321_2_Northwind_video_aligned/0690.jpg  \n",
            "  inflating: /content/dataset/avec14/image/train_Northwind/321_2_Northwind_video_aligned/0693.jpg  \n",
            "  inflating: /content/dataset/avec14/image/train_Northwind/321_2_Northwind_video_aligned/0696.jpg  \n",
            "  inflating: /content/dataset/avec14/image/train_Northwind/321_2_Northwind_video_aligned/0699.jpg  \n",
            "  inflating: /content/dataset/avec14/image/train_Northwind/321_2_Northwind_video_aligned/0702.jpg  \n",
            "  inflating: /content/dataset/avec14/image/train_Northwind/321_2_Northwind_video_aligned/0705.jpg  \n",
            "  inflating: /content/dataset/avec14/image/train_Northwind/321_2_Northwind_video_aligned/0708.jpg  \n",
            "  inflating: /content/dataset/avec14/image/train_Northwind/321_2_Northwind_video_aligned/0711.jpg  \n",
            "  inflating: /content/dataset/avec14/image/train_Northwind/321_2_Northwind_video_aligned/0714.jpg  \n",
            "  inflating: /content/dataset/avec14/image/train_Northwind/321_2_Northwind_video_aligned/0717.jpg  \n",
            "  inflating: /content/dataset/avec14/image/train_Northwind/321_2_Northwind_video_aligned/0720.jpg  \n",
            "  inflating: /content/dataset/avec14/image/train_Northwind/321_2_Northwind_video_aligned/0723.jpg  \n",
            "  inflating: /content/dataset/avec14/image/train_Northwind/321_2_Northwind_video_aligned/0726.jpg  \n",
            "  inflating: /content/dataset/avec14/image/train_Northwind/321_2_Northwind_video_aligned/0729.jpg  \n",
            "  inflating: /content/dataset/avec14/image/train_Northwind/321_2_Northwind_video_aligned/0732.jpg  \n",
            "  inflating: /content/dataset/avec14/image/train_Northwind/321_2_Northwind_video_aligned/0735.jpg  \n",
            "  inflating: /content/dataset/avec14/image/train_Northwind/321_2_Northwind_video_aligned/0738.jpg  \n",
            "  inflating: /content/dataset/avec14/image/train_Northwind/321_2_Northwind_video_aligned/0741.jpg  \n",
            "  inflating: /content/dataset/avec14/image/train_Northwind/321_2_Northwind_video_aligned/0744.jpg  \n",
            "  inflating: /content/dataset/avec14/image/train_Northwind/321_2_Northwind_video_aligned/0747.jpg  \n",
            "  inflating: /content/dataset/avec14/image/train_Northwind/321_2_Northwind_video_aligned/0750.jpg  \n",
            "  inflating: /content/dataset/avec14/image/train_Northwind/321_2_Northwind_video_aligned/0753.jpg  \n",
            "  inflating: /content/dataset/avec14/image/train_Northwind/321_2_Northwind_video_aligned/0756.jpg  \n",
            "  inflating: /content/dataset/avec14/image/train_Northwind/321_2_Northwind_video_aligned/0759.jpg  \n",
            "  inflating: /content/dataset/avec14/image/train_Northwind/321_2_Northwind_video_aligned/0762.jpg  \n",
            "  inflating: /content/dataset/avec14/image/train_Northwind/321_2_Northwind_video_aligned/0765.jpg  \n",
            "  inflating: /content/dataset/avec14/image/train_Northwind/321_2_Northwind_video_aligned/0768.jpg  \n",
            "  inflating: /content/dataset/avec14/image/train_Northwind/321_2_Northwind_video_aligned/0771.jpg  \n",
            "  inflating: /content/dataset/avec14/image/train_Northwind/321_2_Northwind_video_aligned/0774.jpg  \n",
            "  inflating: /content/dataset/avec14/image/train_Northwind/321_2_Northwind_video_aligned/0777.jpg  \n",
            "  inflating: /content/dataset/avec14/image/train_Northwind/321_2_Northwind_video_aligned/0780.jpg  \n",
            "  inflating: /content/dataset/avec14/image/train_Northwind/321_2_Northwind_video_aligned/0783.jpg  \n",
            "  inflating: /content/dataset/avec14/image/train_Northwind/321_2_Northwind_video_aligned/0786.jpg  \n",
            "  inflating: /content/dataset/avec14/image/train_Northwind/321_2_Northwind_video_aligned/0789.jpg  \n",
            "  inflating: /content/dataset/avec14/image/train_Northwind/321_2_Northwind_video_aligned/0792.jpg  \n",
            "  inflating: /content/dataset/avec14/image/train_Northwind/321_2_Northwind_video_aligned/0795.jpg  \n",
            "  inflating: /content/dataset/avec14/image/train_Northwind/321_2_Northwind_video_aligned/0798.jpg  \n",
            "  inflating: /content/dataset/avec14/image/train_Northwind/321_2_Northwind_video_aligned/0801.jpg  \n",
            "  inflating: /content/dataset/avec14/image/train_Northwind/321_2_Northwind_video_aligned/0804.jpg  \n",
            "  inflating: /content/dataset/avec14/image/train_Northwind/321_2_Northwind_video_aligned/0807.jpg  \n",
            "  inflating: /content/dataset/avec14/image/train_Northwind/321_2_Northwind_video_aligned/0810.jpg  \n",
            "  inflating: /content/dataset/avec14/image/train_Northwind/321_2_Northwind_video_aligned/0813.jpg  \n",
            "  inflating: /content/dataset/avec14/image/train_Northwind/321_2_Northwind_video_aligned/0816.jpg  \n",
            "  inflating: /content/dataset/avec14/image/train_Northwind/321_2_Northwind_video_aligned/0819.jpg  \n",
            "  inflating: /content/dataset/avec14/image/train_Northwind/321_2_Northwind_video_aligned/0822.jpg  \n",
            "  inflating: /content/dataset/avec14/image/train_Northwind/321_2_Northwind_video_aligned/0825.jpg  \n",
            "  inflating: /content/dataset/avec14/image/train_Northwind/321_2_Northwind_video_aligned/0828.jpg  \n",
            "  inflating: /content/dataset/avec14/image/train_Northwind/321_2_Northwind_video_aligned/0831.jpg  \n",
            "  inflating: /content/dataset/avec14/image/train_Northwind/321_2_Northwind_video_aligned/0834.jpg  \n",
            "  inflating: /content/dataset/avec14/image/train_Northwind/321_2_Northwind_video_aligned/0837.jpg  \n",
            "  inflating: /content/dataset/avec14/image/train_Northwind/321_2_Northwind_video_aligned/0840.jpg  \n",
            "  inflating: /content/dataset/avec14/image/train_Northwind/321_2_Northwind_video_aligned/0843.jpg  \n",
            "  inflating: /content/dataset/avec14/image/train_Northwind/321_2_Northwind_video_aligned/0846.jpg  \n",
            "  inflating: /content/dataset/avec14/image/train_Northwind/321_2_Northwind_video_aligned/0849.jpg  \n",
            "  inflating: /content/dataset/avec14/image/train_Northwind/321_2_Northwind_video_aligned/0852.jpg  \n",
            "  inflating: /content/dataset/avec14/image/train_Northwind/321_2_Northwind_video_aligned/0855.jpg  \n",
            "  inflating: /content/dataset/avec14/image/train_Northwind/321_2_Northwind_video_aligned/0858.jpg  \n",
            "  inflating: /content/dataset/avec14/image/train_Northwind/321_2_Northwind_video_aligned/0861.jpg  \n",
            "  inflating: /content/dataset/avec14/image/train_Northwind/321_2_Northwind_video_aligned/0864.jpg  \n",
            "  inflating: /content/dataset/avec14/image/train_Northwind/321_2_Northwind_video_aligned/0867.jpg  \n",
            "  inflating: /content/dataset/avec14/image/train_Northwind/321_2_Northwind_video_aligned/0870.jpg  \n",
            "  inflating: /content/dataset/avec14/image/train_Northwind/321_2_Northwind_video_aligned/0873.jpg  \n",
            "  inflating: /content/dataset/avec14/image/train_Northwind/321_2_Northwind_video_aligned/0876.jpg  \n",
            "  inflating: /content/dataset/avec14/image/train_Northwind/321_2_Northwind_video_aligned/0879.jpg  \n",
            "  inflating: /content/dataset/avec14/image/train_Northwind/321_2_Northwind_video_aligned/0882.jpg  \n",
            "  inflating: /content/dataset/avec14/image/train_Northwind/321_2_Northwind_video_aligned/0885.jpg  \n",
            "  inflating: /content/dataset/avec14/image/train_Northwind/321_2_Northwind_video_aligned/0888.jpg  \n",
            "  inflating: /content/dataset/avec14/image/train_Northwind/321_2_Northwind_video_aligned/0891.jpg  \n",
            "  inflating: /content/dataset/avec14/image/train_Northwind/321_2_Northwind_video_aligned/0894.jpg  \n",
            "  inflating: /content/dataset/avec14/image/train_Northwind/321_2_Northwind_video_aligned/0897.jpg  \n",
            "  inflating: /content/dataset/avec14/image/train_Northwind/321_2_Northwind_video_aligned/0900.jpg  \n",
            "  inflating: /content/dataset/avec14/image/train_Northwind/321_2_Northwind_video_aligned/0903.jpg  \n",
            "  inflating: /content/dataset/avec14/image/train_Northwind/321_2_Northwind_video_aligned/0906.jpg  \n",
            "  inflating: /content/dataset/avec14/image/train_Northwind/321_2_Northwind_video_aligned/0909.jpg  \n",
            "  inflating: /content/dataset/avec14/image/train_Northwind/321_2_Northwind_video_aligned/0912.jpg  \n",
            "  inflating: /content/dataset/avec14/image/train_Northwind/321_2_Northwind_video_aligned/0915.jpg  \n",
            "  inflating: /content/dataset/avec14/image/train_Northwind/321_2_Northwind_video_aligned/0918.jpg  \n",
            "  inflating: /content/dataset/avec14/image/train_Northwind/321_2_Northwind_video_aligned/0921.jpg  \n",
            "  inflating: /content/dataset/avec14/image/train_Northwind/321_2_Northwind_video_aligned/0924.jpg  \n",
            "  inflating: /content/dataset/avec14/image/train_Northwind/321_2_Northwind_video_aligned/0927.jpg  \n",
            "  inflating: /content/dataset/avec14/image/train_Northwind/321_2_Northwind_video_aligned/0930.jpg  \n",
            "  inflating: /content/dataset/avec14/image/train_Northwind/321_2_Northwind_video_aligned/0933.jpg  \n",
            "  inflating: /content/dataset/avec14/image/train_Northwind/321_2_Northwind_video_aligned/0936.jpg  \n",
            "  inflating: /content/dataset/avec14/image/train_Northwind/321_2_Northwind_video_aligned/0939.jpg  \n",
            "  inflating: /content/dataset/avec14/image/train_Northwind/321_2_Northwind_video_aligned/0942.jpg  \n",
            "  inflating: /content/dataset/avec14/image/train_Northwind/321_2_Northwind_video_aligned/0945.jpg  \n",
            "  inflating: /content/dataset/avec14/image/train_Northwind/321_2_Northwind_video_aligned/0948.jpg  \n",
            "  inflating: /content/dataset/avec14/image/train_Northwind/321_2_Northwind_video_aligned/0951.jpg  \n",
            "  inflating: /content/dataset/avec14/image/train_Northwind/321_2_Northwind_video_aligned/0954.jpg  \n",
            "  inflating: /content/dataset/avec14/image/train_Northwind/321_2_Northwind_video_aligned/0957.jpg  \n",
            "  inflating: /content/dataset/avec14/image/train_Northwind/321_2_Northwind_video_aligned/0960.jpg  \n",
            "  inflating: /content/dataset/avec14/image/train_Northwind/321_2_Northwind_video_aligned/0963.jpg  \n",
            "  inflating: /content/dataset/avec14/image/train_Northwind/321_2_Northwind_video_aligned/0966.jpg  \n",
            "  inflating: /content/dataset/avec14/image/train_Northwind/321_2_Northwind_video_aligned/0969.jpg  \n",
            "  inflating: /content/dataset/avec14/image/train_Northwind/321_2_Northwind_video_aligned/0972.jpg  \n",
            "  inflating: /content/dataset/avec14/image/train_Northwind/321_2_Northwind_video_aligned/0975.jpg  \n",
            "  inflating: /content/dataset/avec14/image/train_Northwind/321_2_Northwind_video_aligned/0978.jpg  \n",
            "  inflating: /content/dataset/avec14/image/train_Northwind/321_2_Northwind_video_aligned/0981.jpg  \n",
            "  inflating: /content/dataset/avec14/image/train_Northwind/321_2_Northwind_video_aligned/0984.jpg  \n",
            "  inflating: /content/dataset/avec14/image/train_Northwind/321_2_Northwind_video_aligned/0987.jpg  \n",
            "  inflating: /content/dataset/avec14/image/train_Northwind/321_2_Northwind_video_aligned/0990.jpg  \n",
            "  inflating: /content/dataset/avec14/image/train_Northwind/321_2_Northwind_video_aligned/0993.jpg  \n",
            "  inflating: /content/dataset/avec14/image/train_Northwind/321_2_Northwind_video_aligned/0996.jpg  \n",
            "  inflating: /content/dataset/avec14/image/train_Northwind/321_2_Northwind_video_aligned/0999.jpg  \n",
            "  inflating: /content/dataset/avec14/image/train_Northwind/321_2_Northwind_video_aligned/1002.jpg  \n",
            "  inflating: /content/dataset/avec14/image/train_Northwind/321_2_Northwind_video_aligned/1005.jpg  \n",
            "  inflating: /content/dataset/avec14/image/train_Northwind/321_2_Northwind_video_aligned/1008.jpg  \n",
            "  inflating: /content/dataset/avec14/image/train_Northwind/321_2_Northwind_video_aligned/1011.jpg  \n",
            "  inflating: /content/dataset/avec14/image/train_Northwind/321_2_Northwind_video_aligned/1014.jpg  \n",
            "  inflating: /content/dataset/avec14/image/train_Northwind/321_2_Northwind_video_aligned/1017.jpg  \n",
            "  inflating: /content/dataset/avec14/image/train_Northwind/321_2_Northwind_video_aligned/1020.jpg  \n",
            "  inflating: /content/dataset/avec14/image/train_Northwind/321_2_Northwind_video_aligned/1023.jpg  \n",
            "  inflating: /content/dataset/avec14/image/train_Northwind/321_2_Northwind_video_aligned/1026.jpg  \n",
            "  inflating: /content/dataset/avec14/image/train_Northwind/321_2_Northwind_video_aligned/1029.jpg  \n",
            "  inflating: /content/dataset/avec14/image/train_Northwind/321_2_Northwind_video_aligned/1032.jpg  \n",
            "  inflating: /content/dataset/avec14/image/train_Northwind/321_2_Northwind_video_aligned/1035.jpg  \n",
            "  inflating: /content/dataset/avec14/image/train_Northwind/321_2_Northwind_video_aligned/1038.jpg  \n",
            "  inflating: /content/dataset/avec14/image/train_Northwind/321_2_Northwind_video_aligned/1041.jpg  \n",
            "  inflating: /content/dataset/avec14/image/train_Northwind/321_2_Northwind_video_aligned/1044.jpg  \n",
            "  inflating: /content/dataset/avec14/image/train_Northwind/321_2_Northwind_video_aligned/1047.jpg  \n",
            "  inflating: /content/dataset/avec14/image/train_Northwind/321_2_Northwind_video_aligned/1050.jpg  \n",
            "  inflating: /content/dataset/avec14/image/train_Northwind/321_2_Northwind_video_aligned/1053.jpg  \n",
            "  inflating: /content/dataset/avec14/image/train_Northwind/321_2_Northwind_video_aligned/1056.jpg  \n",
            "  inflating: /content/dataset/avec14/image/train_Northwind/321_2_Northwind_video_aligned/1059.jpg  \n",
            "  inflating: /content/dataset/avec14/image/train_Northwind/321_2_Northwind_video_aligned/1062.jpg  \n",
            "  inflating: /content/dataset/avec14/image/train_Northwind/321_2_Northwind_video_aligned/1065.jpg  \n",
            "  inflating: /content/dataset/avec14/image/train_Northwind/321_2_Northwind_video_aligned/1068.jpg  \n",
            "  inflating: /content/dataset/avec14/image/train_Northwind/321_2_Northwind_video_aligned/1071.jpg  \n",
            "  inflating: /content/dataset/avec14/image/train_Northwind/321_2_Northwind_video_aligned/1074.jpg  \n",
            "  inflating: /content/dataset/avec14/image/train_Northwind/321_2_Northwind_video_aligned/1077.jpg  \n",
            "  inflating: /content/dataset/avec14/image/train_Northwind/321_2_Northwind_video_aligned/1080.jpg  \n",
            "  inflating: /content/dataset/avec14/image/train_Northwind/321_2_Northwind_video_aligned/1083.jpg  \n",
            "  inflating: /content/dataset/avec14/image/train_Northwind/321_2_Northwind_video_aligned/1086.jpg  \n",
            "  inflating: /content/dataset/avec14/image/train_Northwind/321_2_Northwind_video_aligned/1089.jpg  \n",
            "  inflating: /content/dataset/avec14/image/train_Northwind/321_2_Northwind_video_aligned/1092.jpg  \n",
            "  inflating: /content/dataset/avec14/image/train_Northwind/321_2_Northwind_video_aligned/1095.jpg  \n",
            "  inflating: /content/dataset/avec14/image/train_Northwind/321_2_Northwind_video_aligned/1098.jpg  \n",
            "  inflating: /content/dataset/avec14/image/train_Northwind/321_2_Northwind_video_aligned/1101.jpg  \n",
            "  inflating: /content/dataset/avec14/image/train_Northwind/321_2_Northwind_video_aligned/1104.jpg  \n",
            "  inflating: /content/dataset/avec14/image/train_Northwind/321_2_Northwind_video_aligned/1107.jpg  \n",
            "  inflating: /content/dataset/avec14/image/train_Northwind/321_2_Northwind_video_aligned/1110.jpg  \n",
            "  inflating: /content/dataset/avec14/image/train_Northwind/321_2_Northwind_video_aligned/1113.jpg  \n",
            "  inflating: /content/dataset/avec14/image/train_Northwind/321_2_Northwind_video_aligned/1116.jpg  \n",
            "  inflating: /content/dataset/avec14/image/train_Northwind/321_2_Northwind_video_aligned/1119.jpg  \n",
            "  inflating: /content/dataset/avec14/image/train_Northwind/321_2_Northwind_video_aligned/1122.jpg  \n",
            "  inflating: /content/dataset/avec14/image/train_Northwind/321_2_Northwind_video_aligned/1125.jpg  \n",
            "  inflating: /content/dataset/avec14/image/train_Northwind/321_2_Northwind_video_aligned/1128.jpg  \n",
            "  inflating: /content/dataset/avec14/image/train_Northwind/321_2_Northwind_video_aligned/1131.jpg  \n",
            "  inflating: /content/dataset/avec14/image/train_Northwind/321_2_Northwind_video_aligned/1134.jpg  \n",
            "  inflating: /content/dataset/avec14/image/train_Northwind/321_2_Northwind_video_aligned/1137.jpg  \n",
            "   creating: /content/dataset/avec14/image/train_Northwind/322_1_Northwind_video_aligned/\n",
            "  inflating: /content/dataset/avec14/image/train_Northwind/322_1_Northwind_video_aligned/0000.jpg  \n",
            "  inflating: /content/dataset/avec14/image/train_Northwind/322_1_Northwind_video_aligned/0003.jpg  \n",
            "  inflating: /content/dataset/avec14/image/train_Northwind/322_1_Northwind_video_aligned/0006.jpg  \n",
            "  inflating: /content/dataset/avec14/image/train_Northwind/322_1_Northwind_video_aligned/0009.jpg  \n",
            "  inflating: /content/dataset/avec14/image/train_Northwind/322_1_Northwind_video_aligned/0012.jpg  \n",
            "  inflating: /content/dataset/avec14/image/train_Northwind/322_1_Northwind_video_aligned/0015.jpg  \n",
            "  inflating: /content/dataset/avec14/image/train_Northwind/322_1_Northwind_video_aligned/0018.jpg  \n",
            "  inflating: /content/dataset/avec14/image/train_Northwind/322_1_Northwind_video_aligned/0021.jpg  \n",
            "  inflating: /content/dataset/avec14/image/train_Northwind/322_1_Northwind_video_aligned/0024.jpg  \n",
            "  inflating: /content/dataset/avec14/image/train_Northwind/322_1_Northwind_video_aligned/0027.jpg  \n",
            "  inflating: /content/dataset/avec14/image/train_Northwind/322_1_Northwind_video_aligned/0030.jpg  \n",
            "  inflating: /content/dataset/avec14/image/train_Northwind/322_1_Northwind_video_aligned/0033.jpg  \n",
            "  inflating: /content/dataset/avec14/image/train_Northwind/322_1_Northwind_video_aligned/0036.jpg  \n",
            "  inflating: /content/dataset/avec14/image/train_Northwind/322_1_Northwind_video_aligned/0039.jpg  \n",
            "  inflating: /content/dataset/avec14/image/train_Northwind/322_1_Northwind_video_aligned/0042.jpg  \n",
            "  inflating: /content/dataset/avec14/image/train_Northwind/322_1_Northwind_video_aligned/0045.jpg  \n",
            "  inflating: /content/dataset/avec14/image/train_Northwind/322_1_Northwind_video_aligned/0048.jpg  \n",
            "  inflating: /content/dataset/avec14/image/train_Northwind/322_1_Northwind_video_aligned/0051.jpg  \n",
            "  inflating: /content/dataset/avec14/image/train_Northwind/322_1_Northwind_video_aligned/0054.jpg  \n",
            "  inflating: /content/dataset/avec14/image/train_Northwind/322_1_Northwind_video_aligned/0057.jpg  \n",
            "  inflating: /content/dataset/avec14/image/train_Northwind/322_1_Northwind_video_aligned/0060.jpg  \n",
            "  inflating: /content/dataset/avec14/image/train_Northwind/322_1_Northwind_video_aligned/0063.jpg  \n",
            "  inflating: /content/dataset/avec14/image/train_Northwind/322_1_Northwind_video_aligned/0066.jpg  \n",
            "  inflating: /content/dataset/avec14/image/train_Northwind/322_1_Northwind_video_aligned/0069.jpg  \n",
            "  inflating: /content/dataset/avec14/image/train_Northwind/322_1_Northwind_video_aligned/0072.jpg  \n",
            "  inflating: /content/dataset/avec14/image/train_Northwind/322_1_Northwind_video_aligned/0075.jpg  \n",
            "  inflating: /content/dataset/avec14/image/train_Northwind/322_1_Northwind_video_aligned/0078.jpg  \n",
            "  inflating: /content/dataset/avec14/image/train_Northwind/322_1_Northwind_video_aligned/0081.jpg  \n",
            "  inflating: /content/dataset/avec14/image/train_Northwind/322_1_Northwind_video_aligned/0084.jpg  \n",
            "  inflating: /content/dataset/avec14/image/train_Northwind/322_1_Northwind_video_aligned/0087.jpg  \n",
            "  inflating: /content/dataset/avec14/image/train_Northwind/322_1_Northwind_video_aligned/0090.jpg  \n",
            "  inflating: /content/dataset/avec14/image/train_Northwind/322_1_Northwind_video_aligned/0093.jpg  \n",
            "  inflating: /content/dataset/avec14/image/train_Northwind/322_1_Northwind_video_aligned/0096.jpg  \n",
            "  inflating: /content/dataset/avec14/image/train_Northwind/322_1_Northwind_video_aligned/0099.jpg  \n",
            "  inflating: /content/dataset/avec14/image/train_Northwind/322_1_Northwind_video_aligned/0102.jpg  \n",
            "  inflating: /content/dataset/avec14/image/train_Northwind/322_1_Northwind_video_aligned/0105.jpg  \n",
            "  inflating: /content/dataset/avec14/image/train_Northwind/322_1_Northwind_video_aligned/0108.jpg  \n",
            "  inflating: /content/dataset/avec14/image/train_Northwind/322_1_Northwind_video_aligned/0111.jpg  \n",
            "  inflating: /content/dataset/avec14/image/train_Northwind/322_1_Northwind_video_aligned/0114.jpg  \n",
            "  inflating: /content/dataset/avec14/image/train_Northwind/322_1_Northwind_video_aligned/0117.jpg  \n",
            "  inflating: /content/dataset/avec14/image/train_Northwind/322_1_Northwind_video_aligned/0120.jpg  \n",
            "  inflating: /content/dataset/avec14/image/train_Northwind/322_1_Northwind_video_aligned/0123.jpg  \n",
            "  inflating: /content/dataset/avec14/image/train_Northwind/322_1_Northwind_video_aligned/0126.jpg  \n",
            "  inflating: /content/dataset/avec14/image/train_Northwind/322_1_Northwind_video_aligned/0129.jpg  \n",
            "  inflating: /content/dataset/avec14/image/train_Northwind/322_1_Northwind_video_aligned/0132.jpg  \n",
            "  inflating: /content/dataset/avec14/image/train_Northwind/322_1_Northwind_video_aligned/0135.jpg  \n",
            "  inflating: /content/dataset/avec14/image/train_Northwind/322_1_Northwind_video_aligned/0138.jpg  \n",
            "  inflating: /content/dataset/avec14/image/train_Northwind/322_1_Northwind_video_aligned/0141.jpg  \n",
            "  inflating: /content/dataset/avec14/image/train_Northwind/322_1_Northwind_video_aligned/0144.jpg  \n",
            "  inflating: /content/dataset/avec14/image/train_Northwind/322_1_Northwind_video_aligned/0147.jpg  \n",
            "  inflating: /content/dataset/avec14/image/train_Northwind/322_1_Northwind_video_aligned/0150.jpg  \n",
            "  inflating: /content/dataset/avec14/image/train_Northwind/322_1_Northwind_video_aligned/0153.jpg  \n",
            "  inflating: /content/dataset/avec14/image/train_Northwind/322_1_Northwind_video_aligned/0156.jpg  \n",
            "  inflating: /content/dataset/avec14/image/train_Northwind/322_1_Northwind_video_aligned/0159.jpg  \n",
            "  inflating: /content/dataset/avec14/image/train_Northwind/322_1_Northwind_video_aligned/0162.jpg  \n",
            "  inflating: /content/dataset/avec14/image/train_Northwind/322_1_Northwind_video_aligned/0165.jpg  \n",
            "  inflating: /content/dataset/avec14/image/train_Northwind/322_1_Northwind_video_aligned/0168.jpg  \n",
            "  inflating: /content/dataset/avec14/image/train_Northwind/322_1_Northwind_video_aligned/0171.jpg  \n",
            "  inflating: /content/dataset/avec14/image/train_Northwind/322_1_Northwind_video_aligned/0174.jpg  \n",
            "  inflating: /content/dataset/avec14/image/train_Northwind/322_1_Northwind_video_aligned/0177.jpg  \n",
            "  inflating: /content/dataset/avec14/image/train_Northwind/322_1_Northwind_video_aligned/0180.jpg  \n",
            "  inflating: /content/dataset/avec14/image/train_Northwind/322_1_Northwind_video_aligned/0183.jpg  \n",
            "  inflating: /content/dataset/avec14/image/train_Northwind/322_1_Northwind_video_aligned/0186.jpg  \n",
            "  inflating: /content/dataset/avec14/image/train_Northwind/322_1_Northwind_video_aligned/0189.jpg  \n",
            "  inflating: /content/dataset/avec14/image/train_Northwind/322_1_Northwind_video_aligned/0192.jpg  \n",
            "  inflating: /content/dataset/avec14/image/train_Northwind/322_1_Northwind_video_aligned/0195.jpg  \n",
            "  inflating: /content/dataset/avec14/image/train_Northwind/322_1_Northwind_video_aligned/0198.jpg  \n",
            "  inflating: /content/dataset/avec14/image/train_Northwind/322_1_Northwind_video_aligned/0201.jpg  \n",
            "  inflating: /content/dataset/avec14/image/train_Northwind/322_1_Northwind_video_aligned/0204.jpg  \n",
            "  inflating: /content/dataset/avec14/image/train_Northwind/322_1_Northwind_video_aligned/0207.jpg  \n",
            "  inflating: /content/dataset/avec14/image/train_Northwind/322_1_Northwind_video_aligned/0210.jpg  \n",
            "  inflating: /content/dataset/avec14/image/train_Northwind/322_1_Northwind_video_aligned/0213.jpg  \n",
            "  inflating: /content/dataset/avec14/image/train_Northwind/322_1_Northwind_video_aligned/0216.jpg  \n",
            "  inflating: /content/dataset/avec14/image/train_Northwind/322_1_Northwind_video_aligned/0219.jpg  \n",
            "  inflating: /content/dataset/avec14/image/train_Northwind/322_1_Northwind_video_aligned/0222.jpg  \n",
            "  inflating: /content/dataset/avec14/image/train_Northwind/322_1_Northwind_video_aligned/0225.jpg  \n",
            "  inflating: /content/dataset/avec14/image/train_Northwind/322_1_Northwind_video_aligned/0228.jpg  \n",
            "  inflating: /content/dataset/avec14/image/train_Northwind/322_1_Northwind_video_aligned/0231.jpg  \n",
            "  inflating: /content/dataset/avec14/image/train_Northwind/322_1_Northwind_video_aligned/0234.jpg  \n",
            "  inflating: /content/dataset/avec14/image/train_Northwind/322_1_Northwind_video_aligned/0237.jpg  \n",
            "  inflating: /content/dataset/avec14/image/train_Northwind/322_1_Northwind_video_aligned/0240.jpg  \n",
            "  inflating: /content/dataset/avec14/image/train_Northwind/322_1_Northwind_video_aligned/0243.jpg  \n",
            "  inflating: /content/dataset/avec14/image/train_Northwind/322_1_Northwind_video_aligned/0246.jpg  \n",
            "  inflating: /content/dataset/avec14/image/train_Northwind/322_1_Northwind_video_aligned/0249.jpg  \n",
            "  inflating: /content/dataset/avec14/image/train_Northwind/322_1_Northwind_video_aligned/0252.jpg  \n",
            "  inflating: /content/dataset/avec14/image/train_Northwind/322_1_Northwind_video_aligned/0255.jpg  \n",
            "  inflating: /content/dataset/avec14/image/train_Northwind/322_1_Northwind_video_aligned/0258.jpg  \n",
            "  inflating: /content/dataset/avec14/image/train_Northwind/322_1_Northwind_video_aligned/0261.jpg  \n",
            "  inflating: /content/dataset/avec14/image/train_Northwind/322_1_Northwind_video_aligned/0264.jpg  \n",
            "  inflating: /content/dataset/avec14/image/train_Northwind/322_1_Northwind_video_aligned/0267.jpg  \n",
            "  inflating: /content/dataset/avec14/image/train_Northwind/322_1_Northwind_video_aligned/0270.jpg  \n",
            "  inflating: /content/dataset/avec14/image/train_Northwind/322_1_Northwind_video_aligned/0273.jpg  \n",
            "  inflating: /content/dataset/avec14/image/train_Northwind/322_1_Northwind_video_aligned/0276.jpg  \n",
            "  inflating: /content/dataset/avec14/image/train_Northwind/322_1_Northwind_video_aligned/0279.jpg  \n",
            "  inflating: /content/dataset/avec14/image/train_Northwind/322_1_Northwind_video_aligned/0282.jpg  \n",
            "  inflating: /content/dataset/avec14/image/train_Northwind/322_1_Northwind_video_aligned/0285.jpg  \n",
            "  inflating: /content/dataset/avec14/image/train_Northwind/322_1_Northwind_video_aligned/0288.jpg  \n",
            "  inflating: /content/dataset/avec14/image/train_Northwind/322_1_Northwind_video_aligned/0291.jpg  \n",
            "  inflating: /content/dataset/avec14/image/train_Northwind/322_1_Northwind_video_aligned/0294.jpg  \n",
            "  inflating: /content/dataset/avec14/image/train_Northwind/322_1_Northwind_video_aligned/0297.jpg  \n",
            "  inflating: /content/dataset/avec14/image/train_Northwind/322_1_Northwind_video_aligned/0300.jpg  \n",
            "  inflating: /content/dataset/avec14/image/train_Northwind/322_1_Northwind_video_aligned/0303.jpg  \n",
            "  inflating: /content/dataset/avec14/image/train_Northwind/322_1_Northwind_video_aligned/0306.jpg  \n",
            "  inflating: /content/dataset/avec14/image/train_Northwind/322_1_Northwind_video_aligned/0309.jpg  \n",
            "  inflating: /content/dataset/avec14/image/train_Northwind/322_1_Northwind_video_aligned/0312.jpg  \n",
            "  inflating: /content/dataset/avec14/image/train_Northwind/322_1_Northwind_video_aligned/0315.jpg  \n",
            "  inflating: /content/dataset/avec14/image/train_Northwind/322_1_Northwind_video_aligned/0318.jpg  \n",
            "  inflating: /content/dataset/avec14/image/train_Northwind/322_1_Northwind_video_aligned/0321.jpg  \n",
            "  inflating: /content/dataset/avec14/image/train_Northwind/322_1_Northwind_video_aligned/0324.jpg  \n",
            "  inflating: /content/dataset/avec14/image/train_Northwind/322_1_Northwind_video_aligned/0327.jpg  \n",
            "  inflating: /content/dataset/avec14/image/train_Northwind/322_1_Northwind_video_aligned/0330.jpg  \n",
            "  inflating: /content/dataset/avec14/image/train_Northwind/322_1_Northwind_video_aligned/0333.jpg  \n",
            "  inflating: /content/dataset/avec14/image/train_Northwind/322_1_Northwind_video_aligned/0336.jpg  \n",
            "  inflating: /content/dataset/avec14/image/train_Northwind/322_1_Northwind_video_aligned/0339.jpg  \n",
            "  inflating: /content/dataset/avec14/image/train_Northwind/322_1_Northwind_video_aligned/0342.jpg  \n",
            "  inflating: /content/dataset/avec14/image/train_Northwind/322_1_Northwind_video_aligned/0345.jpg  \n",
            "  inflating: /content/dataset/avec14/image/train_Northwind/322_1_Northwind_video_aligned/0348.jpg  \n",
            "  inflating: /content/dataset/avec14/image/train_Northwind/322_1_Northwind_video_aligned/0351.jpg  \n",
            "  inflating: /content/dataset/avec14/image/train_Northwind/322_1_Northwind_video_aligned/0354.jpg  \n",
            "  inflating: /content/dataset/avec14/image/train_Northwind/322_1_Northwind_video_aligned/0357.jpg  \n",
            "  inflating: /content/dataset/avec14/image/train_Northwind/322_1_Northwind_video_aligned/0360.jpg  \n",
            "  inflating: /content/dataset/avec14/image/train_Northwind/322_1_Northwind_video_aligned/0363.jpg  \n",
            "  inflating: /content/dataset/avec14/image/train_Northwind/322_1_Northwind_video_aligned/0366.jpg  \n",
            "  inflating: /content/dataset/avec14/image/train_Northwind/322_1_Northwind_video_aligned/0369.jpg  \n",
            "  inflating: /content/dataset/avec14/image/train_Northwind/322_1_Northwind_video_aligned/0372.jpg  \n",
            "  inflating: /content/dataset/avec14/image/train_Northwind/322_1_Northwind_video_aligned/0375.jpg  \n",
            "  inflating: /content/dataset/avec14/image/train_Northwind/322_1_Northwind_video_aligned/0378.jpg  \n",
            "  inflating: /content/dataset/avec14/image/train_Northwind/322_1_Northwind_video_aligned/0381.jpg  \n",
            "  inflating: /content/dataset/avec14/image/train_Northwind/322_1_Northwind_video_aligned/0384.jpg  \n",
            "  inflating: /content/dataset/avec14/image/train_Northwind/322_1_Northwind_video_aligned/0387.jpg  \n",
            "  inflating: /content/dataset/avec14/image/train_Northwind/322_1_Northwind_video_aligned/0390.jpg  \n",
            "  inflating: /content/dataset/avec14/image/train_Northwind/322_1_Northwind_video_aligned/0393.jpg  \n",
            "  inflating: /content/dataset/avec14/image/train_Northwind/322_1_Northwind_video_aligned/0396.jpg  \n",
            "  inflating: /content/dataset/avec14/image/train_Northwind/322_1_Northwind_video_aligned/0399.jpg  \n",
            "  inflating: /content/dataset/avec14/image/train_Northwind/322_1_Northwind_video_aligned/0402.jpg  \n",
            "  inflating: /content/dataset/avec14/image/train_Northwind/322_1_Northwind_video_aligned/0405.jpg  \n",
            "  inflating: /content/dataset/avec14/image/train_Northwind/322_1_Northwind_video_aligned/0408.jpg  \n",
            "  inflating: /content/dataset/avec14/image/train_Northwind/322_1_Northwind_video_aligned/0411.jpg  \n",
            "  inflating: /content/dataset/avec14/image/train_Northwind/322_1_Northwind_video_aligned/0414.jpg  \n",
            "  inflating: /content/dataset/avec14/image/train_Northwind/322_1_Northwind_video_aligned/0417.jpg  \n",
            "  inflating: /content/dataset/avec14/image/train_Northwind/322_1_Northwind_video_aligned/0420.jpg  \n",
            "  inflating: /content/dataset/avec14/image/train_Northwind/322_1_Northwind_video_aligned/0423.jpg  \n",
            "  inflating: /content/dataset/avec14/image/train_Northwind/322_1_Northwind_video_aligned/0426.jpg  \n",
            "  inflating: /content/dataset/avec14/image/train_Northwind/322_1_Northwind_video_aligned/0429.jpg  \n",
            "  inflating: /content/dataset/avec14/image/train_Northwind/322_1_Northwind_video_aligned/0432.jpg  \n",
            "  inflating: /content/dataset/avec14/image/train_Northwind/322_1_Northwind_video_aligned/0435.jpg  \n",
            "  inflating: /content/dataset/avec14/image/train_Northwind/322_1_Northwind_video_aligned/0438.jpg  \n",
            "  inflating: /content/dataset/avec14/image/train_Northwind/322_1_Northwind_video_aligned/0441.jpg  \n",
            "  inflating: /content/dataset/avec14/image/train_Northwind/322_1_Northwind_video_aligned/0444.jpg  \n",
            "  inflating: /content/dataset/avec14/image/train_Northwind/322_1_Northwind_video_aligned/0447.jpg  \n",
            "  inflating: /content/dataset/avec14/image/train_Northwind/322_1_Northwind_video_aligned/0450.jpg  \n",
            "  inflating: /content/dataset/avec14/image/train_Northwind/322_1_Northwind_video_aligned/0453.jpg  \n",
            "  inflating: /content/dataset/avec14/image/train_Northwind/322_1_Northwind_video_aligned/0456.jpg  \n",
            "  inflating: /content/dataset/avec14/image/train_Northwind/322_1_Northwind_video_aligned/0459.jpg  \n",
            "  inflating: /content/dataset/avec14/image/train_Northwind/322_1_Northwind_video_aligned/0462.jpg  \n",
            "  inflating: /content/dataset/avec14/image/train_Northwind/322_1_Northwind_video_aligned/0465.jpg  \n",
            "  inflating: /content/dataset/avec14/image/train_Northwind/322_1_Northwind_video_aligned/0468.jpg  \n",
            "  inflating: /content/dataset/avec14/image/train_Northwind/322_1_Northwind_video_aligned/0471.jpg  \n",
            "  inflating: /content/dataset/avec14/image/train_Northwind/322_1_Northwind_video_aligned/0474.jpg  \n",
            "  inflating: /content/dataset/avec14/image/train_Northwind/322_1_Northwind_video_aligned/0477.jpg  \n",
            "  inflating: /content/dataset/avec14/image/train_Northwind/322_1_Northwind_video_aligned/0480.jpg  \n",
            "  inflating: /content/dataset/avec14/image/train_Northwind/322_1_Northwind_video_aligned/0483.jpg  \n",
            "  inflating: /content/dataset/avec14/image/train_Northwind/322_1_Northwind_video_aligned/0486.jpg  \n",
            "  inflating: /content/dataset/avec14/image/train_Northwind/322_1_Northwind_video_aligned/0489.jpg  \n",
            "  inflating: /content/dataset/avec14/image/train_Northwind/322_1_Northwind_video_aligned/0492.jpg  \n",
            "  inflating: /content/dataset/avec14/image/train_Northwind/322_1_Northwind_video_aligned/0495.jpg  \n",
            "  inflating: /content/dataset/avec14/image/train_Northwind/322_1_Northwind_video_aligned/0498.jpg  \n",
            "  inflating: /content/dataset/avec14/image/train_Northwind/322_1_Northwind_video_aligned/0501.jpg  \n",
            "  inflating: /content/dataset/avec14/image/train_Northwind/322_1_Northwind_video_aligned/0504.jpg  \n",
            "  inflating: /content/dataset/avec14/image/train_Northwind/322_1_Northwind_video_aligned/0507.jpg  \n",
            "  inflating: /content/dataset/avec14/image/train_Northwind/322_1_Northwind_video_aligned/0510.jpg  \n",
            "  inflating: /content/dataset/avec14/image/train_Northwind/322_1_Northwind_video_aligned/0513.jpg  \n",
            "  inflating: /content/dataset/avec14/image/train_Northwind/322_1_Northwind_video_aligned/0516.jpg  \n",
            "  inflating: /content/dataset/avec14/image/train_Northwind/322_1_Northwind_video_aligned/0519.jpg  \n",
            "  inflating: /content/dataset/avec14/image/train_Northwind/322_1_Northwind_video_aligned/0522.jpg  \n",
            "  inflating: /content/dataset/avec14/image/train_Northwind/322_1_Northwind_video_aligned/0525.jpg  \n",
            "  inflating: /content/dataset/avec14/image/train_Northwind/322_1_Northwind_video_aligned/0528.jpg  \n",
            "  inflating: /content/dataset/avec14/image/train_Northwind/322_1_Northwind_video_aligned/0531.jpg  \n",
            "  inflating: /content/dataset/avec14/image/train_Northwind/322_1_Northwind_video_aligned/0534.jpg  \n",
            "  inflating: /content/dataset/avec14/image/train_Northwind/322_1_Northwind_video_aligned/0537.jpg  \n",
            "  inflating: /content/dataset/avec14/image/train_Northwind/322_1_Northwind_video_aligned/0540.jpg  \n",
            "  inflating: /content/dataset/avec14/image/train_Northwind/322_1_Northwind_video_aligned/0543.jpg  \n",
            "  inflating: /content/dataset/avec14/image/train_Northwind/322_1_Northwind_video_aligned/0546.jpg  \n",
            "  inflating: /content/dataset/avec14/image/train_Northwind/322_1_Northwind_video_aligned/0549.jpg  \n",
            "  inflating: /content/dataset/avec14/image/train_Northwind/322_1_Northwind_video_aligned/0552.jpg  \n",
            "  inflating: /content/dataset/avec14/image/train_Northwind/322_1_Northwind_video_aligned/0555.jpg  \n",
            "  inflating: /content/dataset/avec14/image/train_Northwind/322_1_Northwind_video_aligned/0558.jpg  \n",
            "  inflating: /content/dataset/avec14/image/train_Northwind/322_1_Northwind_video_aligned/0561.jpg  \n",
            "  inflating: /content/dataset/avec14/image/train_Northwind/322_1_Northwind_video_aligned/0564.jpg  \n",
            "  inflating: /content/dataset/avec14/image/train_Northwind/322_1_Northwind_video_aligned/0567.jpg  \n",
            "  inflating: /content/dataset/avec14/image/train_Northwind/322_1_Northwind_video_aligned/0570.jpg  \n",
            "  inflating: /content/dataset/avec14/image/train_Northwind/322_1_Northwind_video_aligned/0573.jpg  \n",
            "  inflating: /content/dataset/avec14/image/train_Northwind/322_1_Northwind_video_aligned/0576.jpg  \n",
            "  inflating: /content/dataset/avec14/image/train_Northwind/322_1_Northwind_video_aligned/0579.jpg  \n",
            "  inflating: /content/dataset/avec14/image/train_Northwind/322_1_Northwind_video_aligned/0582.jpg  \n",
            "  inflating: /content/dataset/avec14/image/train_Northwind/322_1_Northwind_video_aligned/0585.jpg  \n",
            "  inflating: /content/dataset/avec14/image/train_Northwind/322_1_Northwind_video_aligned/0588.jpg  \n",
            "  inflating: /content/dataset/avec14/image/train_Northwind/322_1_Northwind_video_aligned/0591.jpg  \n",
            "  inflating: /content/dataset/avec14/image/train_Northwind/322_1_Northwind_video_aligned/0594.jpg  \n",
            "  inflating: /content/dataset/avec14/image/train_Northwind/322_1_Northwind_video_aligned/0597.jpg  \n",
            "  inflating: /content/dataset/avec14/image/train_Northwind/322_1_Northwind_video_aligned/0600.jpg  \n",
            "  inflating: /content/dataset/avec14/image/train_Northwind/322_1_Northwind_video_aligned/0603.jpg  \n",
            "  inflating: /content/dataset/avec14/image/train_Northwind/322_1_Northwind_video_aligned/0606.jpg  \n",
            "  inflating: /content/dataset/avec14/image/train_Northwind/322_1_Northwind_video_aligned/0609.jpg  \n",
            "  inflating: /content/dataset/avec14/image/train_Northwind/322_1_Northwind_video_aligned/0612.jpg  \n",
            "  inflating: /content/dataset/avec14/image/train_Northwind/322_1_Northwind_video_aligned/0615.jpg  \n",
            "  inflating: /content/dataset/avec14/image/train_Northwind/322_1_Northwind_video_aligned/0618.jpg  \n",
            "  inflating: /content/dataset/avec14/image/train_Northwind/322_1_Northwind_video_aligned/0621.jpg  \n",
            "  inflating: /content/dataset/avec14/image/train_Northwind/322_1_Northwind_video_aligned/0624.jpg  \n",
            "  inflating: /content/dataset/avec14/image/train_Northwind/322_1_Northwind_video_aligned/0627.jpg  \n",
            "  inflating: /content/dataset/avec14/image/train_Northwind/322_1_Northwind_video_aligned/0630.jpg  \n",
            "  inflating: /content/dataset/avec14/image/train_Northwind/322_1_Northwind_video_aligned/0633.jpg  \n",
            "  inflating: /content/dataset/avec14/image/train_Northwind/322_1_Northwind_video_aligned/0636.jpg  \n",
            "  inflating: /content/dataset/avec14/image/train_Northwind/322_1_Northwind_video_aligned/0639.jpg  \n",
            "  inflating: /content/dataset/avec14/image/train_Northwind/322_1_Northwind_video_aligned/0642.jpg  \n",
            "  inflating: /content/dataset/avec14/image/train_Northwind/322_1_Northwind_video_aligned/0645.jpg  \n",
            "  inflating: /content/dataset/avec14/image/train_Northwind/322_1_Northwind_video_aligned/0648.jpg  \n",
            "  inflating: /content/dataset/avec14/image/train_Northwind/322_1_Northwind_video_aligned/0651.jpg  \n",
            "  inflating: /content/dataset/avec14/image/train_Northwind/322_1_Northwind_video_aligned/0654.jpg  \n",
            "  inflating: /content/dataset/avec14/image/train_Northwind/322_1_Northwind_video_aligned/0657.jpg  \n",
            "  inflating: /content/dataset/avec14/image/train_Northwind/322_1_Northwind_video_aligned/0660.jpg  \n",
            "  inflating: /content/dataset/avec14/image/train_Northwind/322_1_Northwind_video_aligned/0663.jpg  \n",
            "  inflating: /content/dataset/avec14/image/train_Northwind/322_1_Northwind_video_aligned/0666.jpg  \n",
            "  inflating: /content/dataset/avec14/image/train_Northwind/322_1_Northwind_video_aligned/0669.jpg  \n",
            "  inflating: /content/dataset/avec14/image/train_Northwind/322_1_Northwind_video_aligned/0672.jpg  \n",
            "  inflating: /content/dataset/avec14/image/train_Northwind/322_1_Northwind_video_aligned/0675.jpg  \n",
            "  inflating: /content/dataset/avec14/image/train_Northwind/322_1_Northwind_video_aligned/0678.jpg  \n",
            "  inflating: /content/dataset/avec14/image/train_Northwind/322_1_Northwind_video_aligned/0681.jpg  \n",
            "  inflating: /content/dataset/avec14/image/train_Northwind/322_1_Northwind_video_aligned/0684.jpg  \n",
            "  inflating: /content/dataset/avec14/image/train_Northwind/322_1_Northwind_video_aligned/0687.jpg  \n",
            "  inflating: /content/dataset/avec14/image/train_Northwind/322_1_Northwind_video_aligned/0690.jpg  \n",
            "  inflating: /content/dataset/avec14/image/train_Northwind/322_1_Northwind_video_aligned/0693.jpg  \n",
            "  inflating: /content/dataset/avec14/image/train_Northwind/322_1_Northwind_video_aligned/0696.jpg  \n",
            "  inflating: /content/dataset/avec14/image/train_Northwind/322_1_Northwind_video_aligned/0699.jpg  \n",
            "  inflating: /content/dataset/avec14/image/train_Northwind/322_1_Northwind_video_aligned/0702.jpg  \n",
            "  inflating: /content/dataset/avec14/image/train_Northwind/322_1_Northwind_video_aligned/0705.jpg  \n",
            "  inflating: /content/dataset/avec14/image/train_Northwind/322_1_Northwind_video_aligned/0708.jpg  \n",
            "  inflating: /content/dataset/avec14/image/train_Northwind/322_1_Northwind_video_aligned/0711.jpg  \n",
            "  inflating: /content/dataset/avec14/image/train_Northwind/322_1_Northwind_video_aligned/0714.jpg  \n",
            "  inflating: /content/dataset/avec14/image/train_Northwind/322_1_Northwind_video_aligned/0717.jpg  \n",
            "  inflating: /content/dataset/avec14/image/train_Northwind/322_1_Northwind_video_aligned/0720.jpg  \n",
            "  inflating: /content/dataset/avec14/image/train_Northwind/322_1_Northwind_video_aligned/0723.jpg  \n",
            "  inflating: /content/dataset/avec14/image/train_Northwind/322_1_Northwind_video_aligned/0726.jpg  \n",
            "  inflating: /content/dataset/avec14/image/train_Northwind/322_1_Northwind_video_aligned/0729.jpg  \n",
            "  inflating: /content/dataset/avec14/image/train_Northwind/322_1_Northwind_video_aligned/0732.jpg  \n",
            "  inflating: /content/dataset/avec14/image/train_Northwind/322_1_Northwind_video_aligned/0735.jpg  \n",
            "  inflating: /content/dataset/avec14/image/train_Northwind/322_1_Northwind_video_aligned/0738.jpg  \n",
            "  inflating: /content/dataset/avec14/image/train_Northwind/322_1_Northwind_video_aligned/0741.jpg  \n",
            "  inflating: /content/dataset/avec14/image/train_Northwind/322_1_Northwind_video_aligned/0744.jpg  \n",
            "  inflating: /content/dataset/avec14/image/train_Northwind/322_1_Northwind_video_aligned/0747.jpg  \n",
            "  inflating: /content/dataset/avec14/image/train_Northwind/322_1_Northwind_video_aligned/0750.jpg  \n",
            "  inflating: /content/dataset/avec14/image/train_Northwind/322_1_Northwind_video_aligned/0753.jpg  \n",
            "  inflating: /content/dataset/avec14/image/train_Northwind/322_1_Northwind_video_aligned/0756.jpg  \n",
            "  inflating: /content/dataset/avec14/image/train_Northwind/322_1_Northwind_video_aligned/0759.jpg  \n",
            "  inflating: /content/dataset/avec14/image/train_Northwind/322_1_Northwind_video_aligned/0762.jpg  \n",
            "  inflating: /content/dataset/avec14/image/train_Northwind/322_1_Northwind_video_aligned/0765.jpg  \n",
            "  inflating: /content/dataset/avec14/image/train_Northwind/322_1_Northwind_video_aligned/0768.jpg  \n",
            "  inflating: /content/dataset/avec14/image/train_Northwind/322_1_Northwind_video_aligned/0771.jpg  \n",
            "  inflating: /content/dataset/avec14/image/train_Northwind/322_1_Northwind_video_aligned/0774.jpg  \n",
            "  inflating: /content/dataset/avec14/image/train_Northwind/322_1_Northwind_video_aligned/0777.jpg  \n",
            "  inflating: /content/dataset/avec14/image/train_Northwind/322_1_Northwind_video_aligned/0780.jpg  \n",
            "  inflating: /content/dataset/avec14/image/train_Northwind/322_1_Northwind_video_aligned/0783.jpg  \n",
            "  inflating: /content/dataset/avec14/image/train_Northwind/322_1_Northwind_video_aligned/0786.jpg  \n",
            "  inflating: /content/dataset/avec14/image/train_Northwind/322_1_Northwind_video_aligned/0789.jpg  \n",
            "  inflating: /content/dataset/avec14/image/train_Northwind/322_1_Northwind_video_aligned/0792.jpg  \n",
            "  inflating: /content/dataset/avec14/image/train_Northwind/322_1_Northwind_video_aligned/0795.jpg  \n",
            "  inflating: /content/dataset/avec14/image/train_Northwind/322_1_Northwind_video_aligned/0798.jpg  \n",
            "  inflating: /content/dataset/avec14/image/train_Northwind/322_1_Northwind_video_aligned/0801.jpg  \n",
            "  inflating: /content/dataset/avec14/image/train_Northwind/322_1_Northwind_video_aligned/0804.jpg  \n",
            "  inflating: /content/dataset/avec14/image/train_Northwind/322_1_Northwind_video_aligned/0807.jpg  \n",
            "  inflating: /content/dataset/avec14/image/train_Northwind/322_1_Northwind_video_aligned/0810.jpg  \n",
            "  inflating: /content/dataset/avec14/image/train_Northwind/322_1_Northwind_video_aligned/0813.jpg  \n",
            "  inflating: /content/dataset/avec14/image/train_Northwind/322_1_Northwind_video_aligned/0816.jpg  \n",
            "  inflating: /content/dataset/avec14/image/train_Northwind/322_1_Northwind_video_aligned/0819.jpg  \n",
            "  inflating: /content/dataset/avec14/image/train_Northwind/322_1_Northwind_video_aligned/0822.jpg  \n",
            "  inflating: /content/dataset/avec14/image/train_Northwind/322_1_Northwind_video_aligned/0825.jpg  \n",
            "  inflating: /content/dataset/avec14/image/train_Northwind/322_1_Northwind_video_aligned/0828.jpg  \n",
            "  inflating: /content/dataset/avec14/image/train_Northwind/322_1_Northwind_video_aligned/0831.jpg  \n",
            "  inflating: /content/dataset/avec14/image/train_Northwind/322_1_Northwind_video_aligned/0834.jpg  \n",
            "  inflating: /content/dataset/avec14/image/train_Northwind/322_1_Northwind_video_aligned/0837.jpg  \n",
            "  inflating: /content/dataset/avec14/image/train_Northwind/322_1_Northwind_video_aligned/0840.jpg  \n",
            "  inflating: /content/dataset/avec14/image/train_Northwind/322_1_Northwind_video_aligned/0843.jpg  \n",
            "  inflating: /content/dataset/avec14/image/train_Northwind/322_1_Northwind_video_aligned/0846.jpg  \n",
            "  inflating: /content/dataset/avec14/image/train_Northwind/322_1_Northwind_video_aligned/0849.jpg  \n",
            "  inflating: /content/dataset/avec14/image/train_Northwind/322_1_Northwind_video_aligned/0852.jpg  \n",
            "  inflating: /content/dataset/avec14/image/train_Northwind/322_1_Northwind_video_aligned/0855.jpg  \n",
            "  inflating: /content/dataset/avec14/image/train_Northwind/322_1_Northwind_video_aligned/0858.jpg  \n",
            "  inflating: /content/dataset/avec14/image/train_Northwind/322_1_Northwind_video_aligned/0861.jpg  \n",
            "  inflating: /content/dataset/avec14/image/train_Northwind/322_1_Northwind_video_aligned/0864.jpg  \n",
            "  inflating: /content/dataset/avec14/image/train_Northwind/322_1_Northwind_video_aligned/0867.jpg  \n",
            "  inflating: /content/dataset/avec14/image/train_Northwind/322_1_Northwind_video_aligned/0870.jpg  \n",
            "  inflating: /content/dataset/avec14/image/train_Northwind/322_1_Northwind_video_aligned/0873.jpg  \n",
            "  inflating: /content/dataset/avec14/image/train_Northwind/322_1_Northwind_video_aligned/0876.jpg  \n",
            "  inflating: /content/dataset/avec14/image/train_Northwind/322_1_Northwind_video_aligned/0879.jpg  \n",
            "  inflating: /content/dataset/avec14/image/train_Northwind/322_1_Northwind_video_aligned/0882.jpg  \n",
            "  inflating: /content/dataset/avec14/image/train_Northwind/322_1_Northwind_video_aligned/0885.jpg  \n",
            "  inflating: /content/dataset/avec14/image/train_Northwind/322_1_Northwind_video_aligned/0888.jpg  \n",
            "  inflating: /content/dataset/avec14/image/train_Northwind/322_1_Northwind_video_aligned/0891.jpg  \n",
            "  inflating: /content/dataset/avec14/image/train_Northwind/322_1_Northwind_video_aligned/0894.jpg  \n",
            "  inflating: /content/dataset/avec14/image/train_Northwind/322_1_Northwind_video_aligned/0897.jpg  \n",
            "  inflating: /content/dataset/avec14/image/train_Northwind/322_1_Northwind_video_aligned/0900.jpg  \n",
            "  inflating: /content/dataset/avec14/image/train_Northwind/322_1_Northwind_video_aligned/0903.jpg  \n",
            "  inflating: /content/dataset/avec14/image/train_Northwind/322_1_Northwind_video_aligned/0906.jpg  \n",
            "  inflating: /content/dataset/avec14/image/train_Northwind/322_1_Northwind_video_aligned/0909.jpg  \n",
            "  inflating: /content/dataset/avec14/image/train_Northwind/322_1_Northwind_video_aligned/0912.jpg  \n",
            "  inflating: /content/dataset/avec14/image/train_Northwind/322_1_Northwind_video_aligned/0915.jpg  \n",
            "  inflating: /content/dataset/avec14/image/train_Northwind/322_1_Northwind_video_aligned/0918.jpg  \n",
            "  inflating: /content/dataset/avec14/image/train_Northwind/322_1_Northwind_video_aligned/0921.jpg  \n",
            "  inflating: /content/dataset/avec14/image/train_Northwind/322_1_Northwind_video_aligned/0924.jpg  \n",
            "  inflating: /content/dataset/avec14/image/train_Northwind/322_1_Northwind_video_aligned/0927.jpg  \n",
            "  inflating: /content/dataset/avec14/image/train_Northwind/322_1_Northwind_video_aligned/0930.jpg  \n",
            "  inflating: /content/dataset/avec14/image/train_Northwind/322_1_Northwind_video_aligned/0933.jpg  \n",
            "  inflating: /content/dataset/avec14/image/train_Northwind/322_1_Northwind_video_aligned/0936.jpg  \n",
            "  inflating: /content/dataset/avec14/image/train_Northwind/322_1_Northwind_video_aligned/0939.jpg  \n",
            "  inflating: /content/dataset/avec14/image/train_Northwind/322_1_Northwind_video_aligned/0942.jpg  \n",
            "  inflating: /content/dataset/avec14/image/train_Northwind/322_1_Northwind_video_aligned/0945.jpg  \n",
            "  inflating: /content/dataset/avec14/image/train_Northwind/322_1_Northwind_video_aligned/0948.jpg  \n",
            "  inflating: /content/dataset/avec14/image/train_Northwind/322_1_Northwind_video_aligned/0951.jpg  \n",
            "  inflating: /content/dataset/avec14/image/train_Northwind/322_1_Northwind_video_aligned/0954.jpg  \n",
            "  inflating: /content/dataset/avec14/image/train_Northwind/322_1_Northwind_video_aligned/0957.jpg  \n",
            "  inflating: /content/dataset/avec14/image/train_Northwind/322_1_Northwind_video_aligned/0960.jpg  \n",
            "  inflating: /content/dataset/avec14/image/train_Northwind/322_1_Northwind_video_aligned/0963.jpg  \n",
            "  inflating: /content/dataset/avec14/image/train_Northwind/322_1_Northwind_video_aligned/0966.jpg  \n",
            "  inflating: /content/dataset/avec14/image/train_Northwind/322_1_Northwind_video_aligned/0969.jpg  \n",
            "  inflating: /content/dataset/avec14/image/train_Northwind/322_1_Northwind_video_aligned/0972.jpg  \n",
            "  inflating: /content/dataset/avec14/image/train_Northwind/322_1_Northwind_video_aligned/0975.jpg  \n",
            "  inflating: /content/dataset/avec14/image/train_Northwind/322_1_Northwind_video_aligned/0978.jpg  \n",
            "  inflating: /content/dataset/avec14/image/train_Northwind/322_1_Northwind_video_aligned/0981.jpg  \n",
            "  inflating: /content/dataset/avec14/image/train_Northwind/322_1_Northwind_video_aligned/0984.jpg  \n",
            "  inflating: /content/dataset/avec14/image/train_Northwind/322_1_Northwind_video_aligned/0987.jpg  \n",
            "  inflating: /content/dataset/avec14/image/train_Northwind/322_1_Northwind_video_aligned/0990.jpg  \n",
            "  inflating: /content/dataset/avec14/image/train_Northwind/322_1_Northwind_video_aligned/0993.jpg  \n",
            "  inflating: /content/dataset/avec14/image/train_Northwind/322_1_Northwind_video_aligned/0996.jpg  \n",
            "  inflating: /content/dataset/avec14/image/train_Northwind/322_1_Northwind_video_aligned/0999.jpg  \n",
            "  inflating: /content/dataset/avec14/image/train_Northwind/322_1_Northwind_video_aligned/1002.jpg  \n",
            "  inflating: /content/dataset/avec14/image/train_Northwind/322_1_Northwind_video_aligned/1005.jpg  \n",
            "  inflating: /content/dataset/avec14/image/train_Northwind/322_1_Northwind_video_aligned/1008.jpg  \n",
            "  inflating: /content/dataset/avec14/image/train_Northwind/322_1_Northwind_video_aligned/1011.jpg  \n",
            "  inflating: /content/dataset/avec14/image/train_Northwind/322_1_Northwind_video_aligned/1014.jpg  \n",
            "  inflating: /content/dataset/avec14/image/train_Northwind/322_1_Northwind_video_aligned/1017.jpg  \n",
            "  inflating: /content/dataset/avec14/image/train_Northwind/322_1_Northwind_video_aligned/1020.jpg  \n",
            "  inflating: /content/dataset/avec14/image/train_Northwind/322_1_Northwind_video_aligned/1023.jpg  \n",
            "  inflating: /content/dataset/avec14/image/train_Northwind/322_1_Northwind_video_aligned/1026.jpg  \n",
            "  inflating: /content/dataset/avec14/image/train_Northwind/322_1_Northwind_video_aligned/1029.jpg  \n",
            "  inflating: /content/dataset/avec14/image/train_Northwind/322_1_Northwind_video_aligned/1032.jpg  \n",
            "  inflating: /content/dataset/avec14/image/train_Northwind/322_1_Northwind_video_aligned/1035.jpg  \n",
            "  inflating: /content/dataset/avec14/image/train_Northwind/322_1_Northwind_video_aligned/1038.jpg  \n",
            "  inflating: /content/dataset/avec14/image/train_Northwind/322_1_Northwind_video_aligned/1041.jpg  \n",
            "  inflating: /content/dataset/avec14/image/train_Northwind/322_1_Northwind_video_aligned/1044.jpg  \n",
            "  inflating: /content/dataset/avec14/image/train_Northwind/322_1_Northwind_video_aligned/1047.jpg  \n",
            "  inflating: /content/dataset/avec14/image/train_Northwind/322_1_Northwind_video_aligned/1050.jpg  \n",
            "  inflating: /content/dataset/avec14/image/train_Northwind/322_1_Northwind_video_aligned/1053.jpg  \n",
            "  inflating: /content/dataset/avec14/image/train_Northwind/322_1_Northwind_video_aligned/1056.jpg  \n",
            "  inflating: /content/dataset/avec14/image/train_Northwind/322_1_Northwind_video_aligned/1059.jpg  \n",
            "  inflating: /content/dataset/avec14/image/train_Northwind/322_1_Northwind_video_aligned/1062.jpg  \n",
            "  inflating: /content/dataset/avec14/image/train_Northwind/322_1_Northwind_video_aligned/1065.jpg  \n",
            "  inflating: /content/dataset/avec14/image/train_Northwind/322_1_Northwind_video_aligned/1068.jpg  \n",
            "  inflating: /content/dataset/avec14/image/train_Northwind/322_1_Northwind_video_aligned/1071.jpg  \n",
            "  inflating: /content/dataset/avec14/image/train_Northwind/322_1_Northwind_video_aligned/1074.jpg  \n",
            "  inflating: /content/dataset/avec14/image/train_Northwind/322_1_Northwind_video_aligned/1077.jpg  \n",
            "  inflating: /content/dataset/avec14/image/train_Northwind/322_1_Northwind_video_aligned/1080.jpg  \n",
            "  inflating: /content/dataset/avec14/image/train_Northwind/322_1_Northwind_video_aligned/1083.jpg  \n",
            "  inflating: /content/dataset/avec14/image/train_Northwind/322_1_Northwind_video_aligned/1086.jpg  \n",
            "  inflating: /content/dataset/avec14/image/train_Northwind/322_1_Northwind_video_aligned/1089.jpg  \n",
            "  inflating: /content/dataset/avec14/image/train_Northwind/322_1_Northwind_video_aligned/1092.jpg  \n",
            "  inflating: /content/dataset/avec14/image/train_Northwind/322_1_Northwind_video_aligned/1095.jpg  \n",
            "  inflating: /content/dataset/avec14/image/train_Northwind/322_1_Northwind_video_aligned/1098.jpg  \n",
            "  inflating: /content/dataset/avec14/image/train_Northwind/322_1_Northwind_video_aligned/1101.jpg  \n",
            "  inflating: /content/dataset/avec14/image/train_Northwind/322_1_Northwind_video_aligned/1104.jpg  \n",
            "  inflating: /content/dataset/avec14/image/train_Northwind/322_1_Northwind_video_aligned/1107.jpg  \n",
            "  inflating: /content/dataset/avec14/image/train_Northwind/322_1_Northwind_video_aligned/1110.jpg  \n",
            "  inflating: /content/dataset/avec14/image/train_Northwind/322_1_Northwind_video_aligned/1113.jpg  \n",
            "  inflating: /content/dataset/avec14/image/train_Northwind/322_1_Northwind_video_aligned/1116.jpg  \n",
            "  inflating: /content/dataset/avec14/image/train_Northwind/322_1_Northwind_video_aligned/1119.jpg  \n",
            "  inflating: /content/dataset/avec14/image/train_Northwind/322_1_Northwind_video_aligned/1122.jpg  \n",
            "  inflating: /content/dataset/avec14/image/train_Northwind/322_1_Northwind_video_aligned/1125.jpg  \n",
            "  inflating: /content/dataset/avec14/image/train_Northwind/322_1_Northwind_video_aligned/1128.jpg  \n",
            "  inflating: /content/dataset/avec14/image/train_Northwind/322_1_Northwind_video_aligned/1131.jpg  \n",
            "  inflating: /content/dataset/avec14/image/train_Northwind/322_1_Northwind_video_aligned/1134.jpg  \n",
            "  inflating: /content/dataset/avec14/image/train_Northwind/322_1_Northwind_video_aligned/1137.jpg  \n",
            "  inflating: /content/dataset/avec14/image/train_Northwind/322_1_Northwind_video_aligned/1140.jpg  \n",
            "  inflating: /content/dataset/avec14/image/train_Northwind/322_1_Northwind_video_aligned/1143.jpg  \n",
            "  inflating: /content/dataset/avec14/image/train_Northwind/322_1_Northwind_video_aligned/1146.jpg  \n",
            "  inflating: /content/dataset/avec14/image/train_Northwind/322_1_Northwind_video_aligned/1149.jpg  \n",
            "  inflating: /content/dataset/avec14/image/train_Northwind/322_1_Northwind_video_aligned/1152.jpg  \n",
            "  inflating: /content/dataset/avec14/image/train_Northwind/322_1_Northwind_video_aligned/1155.jpg  \n",
            "  inflating: /content/dataset/avec14/image/train_Northwind/322_1_Northwind_video_aligned/1158.jpg  \n",
            "  inflating: /content/dataset/avec14/image/train_Northwind/322_1_Northwind_video_aligned/1161.jpg  \n",
            "  inflating: /content/dataset/avec14/image/train_Northwind/322_1_Northwind_video_aligned/1164.jpg  \n",
            "  inflating: /content/dataset/avec14/image/train_Northwind/322_1_Northwind_video_aligned/1167.jpg  \n",
            "  inflating: /content/dataset/avec14/image/train_Northwind/322_1_Northwind_video_aligned/1170.jpg  \n",
            "  inflating: /content/dataset/avec14/image/train_Northwind/322_1_Northwind_video_aligned/1173.jpg  \n",
            "  inflating: /content/dataset/avec14/image/train_Northwind/322_1_Northwind_video_aligned/1176.jpg  \n",
            "  inflating: /content/dataset/avec14/image/train_Northwind/322_1_Northwind_video_aligned/1179.jpg  \n",
            "  inflating: /content/dataset/avec14/image/train_Northwind/322_1_Northwind_video_aligned/1182.jpg  \n",
            "  inflating: /content/dataset/avec14/image/train_Northwind/322_1_Northwind_video_aligned/1185.jpg  \n",
            "  inflating: /content/dataset/avec14/image/train_Northwind/322_1_Northwind_video_aligned/1188.jpg  \n",
            "  inflating: /content/dataset/avec14/image/train_Northwind/322_1_Northwind_video_aligned/1191.jpg  \n",
            "  inflating: /content/dataset/avec14/image/train_Northwind/322_1_Northwind_video_aligned/1194.jpg  \n",
            "  inflating: /content/dataset/avec14/image/train_Northwind/322_1_Northwind_video_aligned/1197.jpg  \n",
            "  inflating: /content/dataset/avec14/image/train_Northwind/322_1_Northwind_video_aligned/1200.jpg  \n",
            "  inflating: /content/dataset/avec14/image/train_Northwind/322_1_Northwind_video_aligned/1203.jpg  \n",
            "  inflating: /content/dataset/avec14/image/train_Northwind/322_1_Northwind_video_aligned/1206.jpg  \n",
            "  inflating: /content/dataset/avec14/image/train_Northwind/322_1_Northwind_video_aligned/1209.jpg  \n",
            "  inflating: /content/dataset/avec14/image/train_Northwind/322_1_Northwind_video_aligned/1212.jpg  \n",
            "  inflating: /content/dataset/avec14/image/train_Northwind/322_1_Northwind_video_aligned/1215.jpg  \n",
            "  inflating: /content/dataset/avec14/image/train_Northwind/322_1_Northwind_video_aligned/1218.jpg  \n",
            "  inflating: /content/dataset/avec14/image/train_Northwind/322_1_Northwind_video_aligned/1221.jpg  \n",
            "  inflating: /content/dataset/avec14/image/train_Northwind/322_1_Northwind_video_aligned/1224.jpg  \n",
            "  inflating: /content/dataset/avec14/image/train_Northwind/322_1_Northwind_video_aligned/1227.jpg  \n",
            "  inflating: /content/dataset/avec14/image/train_Northwind/322_1_Northwind_video_aligned/1230.jpg  \n",
            "  inflating: /content/dataset/avec14/image/train_Northwind/322_1_Northwind_video_aligned/1233.jpg  \n",
            "  inflating: /content/dataset/avec14/image/train_Northwind/322_1_Northwind_video_aligned/1236.jpg  \n",
            "  inflating: /content/dataset/avec14/image/train_Northwind/322_1_Northwind_video_aligned/1239.jpg  \n",
            "  inflating: /content/dataset/avec14/image/train_Northwind/322_1_Northwind_video_aligned/1242.jpg  \n",
            "  inflating: /content/dataset/avec14/image/train_Northwind/322_1_Northwind_video_aligned/1245.jpg  \n",
            "  inflating: /content/dataset/avec14/image/train_Northwind/322_1_Northwind_video_aligned/1248.jpg  \n",
            "  inflating: /content/dataset/avec14/image/train_Northwind/322_1_Northwind_video_aligned/1251.jpg  \n",
            "  inflating: /content/dataset/avec14/image/train_Northwind/322_1_Northwind_video_aligned/1254.jpg  \n",
            "  inflating: /content/dataset/avec14/image/train_Northwind/322_1_Northwind_video_aligned/1257.jpg  \n",
            "  inflating: /content/dataset/avec14/image/train_Northwind/322_1_Northwind_video_aligned/1260.jpg  \n",
            "  inflating: /content/dataset/avec14/image/train_Northwind/322_1_Northwind_video_aligned/1263.jpg  \n",
            "  inflating: /content/dataset/avec14/image/train_Northwind/322_1_Northwind_video_aligned/1266.jpg  \n",
            "  inflating: /content/dataset/avec14/image/train_Northwind/322_1_Northwind_video_aligned/1269.jpg  \n",
            "  inflating: /content/dataset/avec14/image/train_Northwind/322_1_Northwind_video_aligned/1272.jpg  \n",
            "  inflating: /content/dataset/avec14/image/train_Northwind/322_1_Northwind_video_aligned/1275.jpg  \n",
            "  inflating: /content/dataset/avec14/image/train_Northwind/322_1_Northwind_video_aligned/1278.jpg  \n",
            "  inflating: /content/dataset/avec14/image/train_Northwind/322_1_Northwind_video_aligned/1281.jpg  \n",
            "  inflating: /content/dataset/avec14/image/train_Northwind/322_1_Northwind_video_aligned/1284.jpg  \n",
            "  inflating: /content/dataset/avec14/image/train_Northwind/322_1_Northwind_video_aligned/1287.jpg  \n",
            "  inflating: /content/dataset/avec14/image/train_Northwind/322_1_Northwind_video_aligned/1290.jpg  \n",
            "  inflating: /content/dataset/avec14/image/train_Northwind/322_1_Northwind_video_aligned/1293.jpg  \n",
            "  inflating: /content/dataset/avec14/image/train_Northwind/322_1_Northwind_video_aligned/1296.jpg  \n",
            "  inflating: /content/dataset/avec14/image/train_Northwind/322_1_Northwind_video_aligned/1299.jpg  \n",
            "  inflating: /content/dataset/avec14/image/train_Northwind/322_1_Northwind_video_aligned/1302.jpg  \n",
            "  inflating: /content/dataset/avec14/image/train_Northwind/322_1_Northwind_video_aligned/1305.jpg  \n",
            "  inflating: /content/dataset/avec14/image/train_Northwind/322_1_Northwind_video_aligned/1308.jpg  \n",
            "  inflating: /content/dataset/avec14/image/train_Northwind/322_1_Northwind_video_aligned/1311.jpg  \n",
            "  inflating: /content/dataset/avec14/image/train_Northwind/322_1_Northwind_video_aligned/1314.jpg  \n",
            "  inflating: /content/dataset/avec14/image/train_Northwind/322_1_Northwind_video_aligned/1317.jpg  \n",
            "  inflating: /content/dataset/avec14/image/train_Northwind/322_1_Northwind_video_aligned/1320.jpg  \n",
            "  inflating: /content/dataset/avec14/image/train_Northwind/322_1_Northwind_video_aligned/1323.jpg  \n",
            "  inflating: /content/dataset/avec14/image/train_Northwind/322_1_Northwind_video_aligned/1326.jpg  \n",
            "  inflating: /content/dataset/avec14/image/train_Northwind/322_1_Northwind_video_aligned/1329.jpg  \n",
            "  inflating: /content/dataset/avec14/image/train_Northwind/322_1_Northwind_video_aligned/1332.jpg  \n",
            "  inflating: /content/dataset/avec14/image/train_Northwind/322_1_Northwind_video_aligned/1335.jpg  \n",
            "  inflating: /content/dataset/avec14/image/train_Northwind/322_1_Northwind_video_aligned/1338.jpg  \n",
            "  inflating: /content/dataset/avec14/image/train_Northwind/322_1_Northwind_video_aligned/1341.jpg  \n",
            "  inflating: /content/dataset/avec14/image/train_Northwind/322_1_Northwind_video_aligned/1344.jpg  \n",
            "  inflating: /content/dataset/avec14/image/train_Northwind/322_1_Northwind_video_aligned/1347.jpg  \n",
            "  inflating: /content/dataset/avec14/image/train_Northwind/322_1_Northwind_video_aligned/1350.jpg  \n",
            "  inflating: /content/dataset/avec14/image/train_Northwind/322_1_Northwind_video_aligned/1353.jpg  \n",
            "  inflating: /content/dataset/avec14/image/train_Northwind/322_1_Northwind_video_aligned/1356.jpg  \n",
            "  inflating: /content/dataset/avec14/image/train_Northwind/322_1_Northwind_video_aligned/1359.jpg  \n",
            "  inflating: /content/dataset/avec14/image/train_Northwind/322_1_Northwind_video_aligned/1362.jpg  \n",
            "  inflating: /content/dataset/avec14/image/train_Northwind/322_1_Northwind_video_aligned/1365.jpg  \n",
            "  inflating: /content/dataset/avec14/image/train_Northwind/322_1_Northwind_video_aligned/1368.jpg  \n",
            "  inflating: /content/dataset/avec14/image/train_Northwind/322_1_Northwind_video_aligned/1371.jpg  \n",
            "  inflating: /content/dataset/avec14/image/train_Northwind/322_1_Northwind_video_aligned/1374.jpg  \n",
            "  inflating: /content/dataset/avec14/image/train_Northwind/322_1_Northwind_video_aligned/1377.jpg  \n",
            "  inflating: /content/dataset/avec14/image/train_Northwind/322_1_Northwind_video_aligned/1380.jpg  \n",
            "  inflating: /content/dataset/avec14/image/train_Northwind/322_1_Northwind_video_aligned/1383.jpg  \n",
            "  inflating: /content/dataset/avec14/image/train_Northwind/322_1_Northwind_video_aligned/1386.jpg  \n",
            "  inflating: /content/dataset/avec14/image/train_Northwind/322_1_Northwind_video_aligned/1389.jpg  \n",
            "  inflating: /content/dataset/avec14/image/train_Northwind/322_1_Northwind_video_aligned/1392.jpg  \n",
            "  inflating: /content/dataset/avec14/image/train_Northwind/322_1_Northwind_video_aligned/1395.jpg  \n",
            "  inflating: /content/dataset/avec14/image/train_Northwind/322_1_Northwind_video_aligned/1398.jpg  \n",
            "  inflating: /content/dataset/avec14/image/train_Northwind/322_1_Northwind_video_aligned/1401.jpg  \n",
            "  inflating: /content/dataset/avec14/image/train_Northwind/322_1_Northwind_video_aligned/1404.jpg  \n",
            "  inflating: /content/dataset/avec14/image/train_Northwind/322_1_Northwind_video_aligned/1407.jpg  \n",
            "  inflating: /content/dataset/avec14/image/train_Northwind/322_1_Northwind_video_aligned/1410.jpg  \n",
            "  inflating: /content/dataset/avec14/image/train_Northwind/322_1_Northwind_video_aligned/1413.jpg  \n",
            "  inflating: /content/dataset/avec14/image/train_Northwind/322_1_Northwind_video_aligned/1416.jpg  \n",
            "  inflating: /content/dataset/avec14/image/train_Northwind/322_1_Northwind_video_aligned/1419.jpg  \n",
            "  inflating: /content/dataset/avec14/image/train_Northwind/322_1_Northwind_video_aligned/1422.jpg  \n",
            "  inflating: /content/dataset/avec14/image/train_Northwind/322_1_Northwind_video_aligned/1425.jpg  \n",
            "  inflating: /content/dataset/avec14/image/train_Northwind/322_1_Northwind_video_aligned/1428.jpg  \n",
            "  inflating: /content/dataset/avec14/image/train_Northwind/322_1_Northwind_video_aligned/1431.jpg  \n",
            "  inflating: /content/dataset/avec14/image/train_Northwind/322_1_Northwind_video_aligned/1434.jpg  \n",
            "  inflating: /content/dataset/avec14/image/train_Northwind/322_1_Northwind_video_aligned/1437.jpg  \n",
            "  inflating: /content/dataset/avec14/image/train_Northwind/322_1_Northwind_video_aligned/1440.jpg  \n",
            "  inflating: /content/dataset/avec14/image/train_Northwind/322_1_Northwind_video_aligned/1443.jpg  \n",
            "  inflating: /content/dataset/avec14/image/train_Northwind/322_1_Northwind_video_aligned/1446.jpg  \n",
            "  inflating: /content/dataset/avec14/image/train_Northwind/322_1_Northwind_video_aligned/1449.jpg  \n",
            "  inflating: /content/dataset/avec14/image/train_Northwind/322_1_Northwind_video_aligned/1452.jpg  \n",
            "  inflating: /content/dataset/avec14/image/train_Northwind/322_1_Northwind_video_aligned/1455.jpg  \n",
            "  inflating: /content/dataset/avec14/image/train_Northwind/322_1_Northwind_video_aligned/1458.jpg  \n",
            "  inflating: /content/dataset/avec14/image/train_Northwind/322_1_Northwind_video_aligned/1461.jpg  \n",
            "  inflating: /content/dataset/avec14/image/train_Northwind/322_1_Northwind_video_aligned/1464.jpg  \n",
            "  inflating: /content/dataset/avec14/image/train_Northwind/322_1_Northwind_video_aligned/1467.jpg  \n",
            "   creating: /content/dataset/avec14/image/train_Northwind/324_1_Northwind_video_aligned/\n",
            "  inflating: /content/dataset/avec14/image/train_Northwind/324_1_Northwind_video_aligned/0000.jpg  \n",
            "  inflating: /content/dataset/avec14/image/train_Northwind/324_1_Northwind_video_aligned/0003.jpg  \n",
            "  inflating: /content/dataset/avec14/image/train_Northwind/324_1_Northwind_video_aligned/0006.jpg  \n",
            "  inflating: /content/dataset/avec14/image/train_Northwind/324_1_Northwind_video_aligned/0009.jpg  \n",
            "  inflating: /content/dataset/avec14/image/train_Northwind/324_1_Northwind_video_aligned/0012.jpg  \n",
            "  inflating: /content/dataset/avec14/image/train_Northwind/324_1_Northwind_video_aligned/0015.jpg  \n",
            "  inflating: /content/dataset/avec14/image/train_Northwind/324_1_Northwind_video_aligned/0018.jpg  \n",
            "  inflating: /content/dataset/avec14/image/train_Northwind/324_1_Northwind_video_aligned/0021.jpg  \n",
            "  inflating: /content/dataset/avec14/image/train_Northwind/324_1_Northwind_video_aligned/0024.jpg  \n",
            "  inflating: /content/dataset/avec14/image/train_Northwind/324_1_Northwind_video_aligned/0027.jpg  \n",
            "  inflating: /content/dataset/avec14/image/train_Northwind/324_1_Northwind_video_aligned/0030.jpg  \n",
            "  inflating: /content/dataset/avec14/image/train_Northwind/324_1_Northwind_video_aligned/0033.jpg  \n",
            "  inflating: /content/dataset/avec14/image/train_Northwind/324_1_Northwind_video_aligned/0036.jpg  \n",
            "  inflating: /content/dataset/avec14/image/train_Northwind/324_1_Northwind_video_aligned/0039.jpg  \n",
            "  inflating: /content/dataset/avec14/image/train_Northwind/324_1_Northwind_video_aligned/0042.jpg  \n",
            "  inflating: /content/dataset/avec14/image/train_Northwind/324_1_Northwind_video_aligned/0045.jpg  \n",
            "  inflating: /content/dataset/avec14/image/train_Northwind/324_1_Northwind_video_aligned/0048.jpg  \n",
            "  inflating: /content/dataset/avec14/image/train_Northwind/324_1_Northwind_video_aligned/0051.jpg  \n",
            "  inflating: /content/dataset/avec14/image/train_Northwind/324_1_Northwind_video_aligned/0054.jpg  \n",
            "  inflating: /content/dataset/avec14/image/train_Northwind/324_1_Northwind_video_aligned/0057.jpg  \n",
            "  inflating: /content/dataset/avec14/image/train_Northwind/324_1_Northwind_video_aligned/0060.jpg  \n",
            "  inflating: /content/dataset/avec14/image/train_Northwind/324_1_Northwind_video_aligned/0063.jpg  \n",
            "  inflating: /content/dataset/avec14/image/train_Northwind/324_1_Northwind_video_aligned/0066.jpg  \n",
            "  inflating: /content/dataset/avec14/image/train_Northwind/324_1_Northwind_video_aligned/0069.jpg  \n",
            "  inflating: /content/dataset/avec14/image/train_Northwind/324_1_Northwind_video_aligned/0072.jpg  \n",
            "  inflating: /content/dataset/avec14/image/train_Northwind/324_1_Northwind_video_aligned/0075.jpg  \n",
            "  inflating: /content/dataset/avec14/image/train_Northwind/324_1_Northwind_video_aligned/0078.jpg  \n",
            "  inflating: /content/dataset/avec14/image/train_Northwind/324_1_Northwind_video_aligned/0081.jpg  \n",
            "  inflating: /content/dataset/avec14/image/train_Northwind/324_1_Northwind_video_aligned/0084.jpg  \n",
            "  inflating: /content/dataset/avec14/image/train_Northwind/324_1_Northwind_video_aligned/0087.jpg  \n",
            "  inflating: /content/dataset/avec14/image/train_Northwind/324_1_Northwind_video_aligned/0090.jpg  \n",
            "  inflating: /content/dataset/avec14/image/train_Northwind/324_1_Northwind_video_aligned/0093.jpg  \n",
            "  inflating: /content/dataset/avec14/image/train_Northwind/324_1_Northwind_video_aligned/0096.jpg  \n",
            "  inflating: /content/dataset/avec14/image/train_Northwind/324_1_Northwind_video_aligned/0099.jpg  \n",
            "  inflating: /content/dataset/avec14/image/train_Northwind/324_1_Northwind_video_aligned/0102.jpg  \n",
            "  inflating: /content/dataset/avec14/image/train_Northwind/324_1_Northwind_video_aligned/0105.jpg  \n",
            "  inflating: /content/dataset/avec14/image/train_Northwind/324_1_Northwind_video_aligned/0108.jpg  \n",
            "  inflating: /content/dataset/avec14/image/train_Northwind/324_1_Northwind_video_aligned/0111.jpg  \n",
            "  inflating: /content/dataset/avec14/image/train_Northwind/324_1_Northwind_video_aligned/0114.jpg  \n",
            "  inflating: /content/dataset/avec14/image/train_Northwind/324_1_Northwind_video_aligned/0117.jpg  \n",
            "  inflating: /content/dataset/avec14/image/train_Northwind/324_1_Northwind_video_aligned/0120.jpg  \n",
            "  inflating: /content/dataset/avec14/image/train_Northwind/324_1_Northwind_video_aligned/0123.jpg  \n",
            "  inflating: /content/dataset/avec14/image/train_Northwind/324_1_Northwind_video_aligned/0126.jpg  \n",
            "  inflating: /content/dataset/avec14/image/train_Northwind/324_1_Northwind_video_aligned/0129.jpg  \n",
            "  inflating: /content/dataset/avec14/image/train_Northwind/324_1_Northwind_video_aligned/0132.jpg  \n",
            "  inflating: /content/dataset/avec14/image/train_Northwind/324_1_Northwind_video_aligned/0135.jpg  \n",
            "  inflating: /content/dataset/avec14/image/train_Northwind/324_1_Northwind_video_aligned/0138.jpg  \n",
            "  inflating: /content/dataset/avec14/image/train_Northwind/324_1_Northwind_video_aligned/0141.jpg  \n",
            "  inflating: /content/dataset/avec14/image/train_Northwind/324_1_Northwind_video_aligned/0144.jpg  \n",
            "  inflating: /content/dataset/avec14/image/train_Northwind/324_1_Northwind_video_aligned/0147.jpg  \n",
            "  inflating: /content/dataset/avec14/image/train_Northwind/324_1_Northwind_video_aligned/0150.jpg  \n",
            "  inflating: /content/dataset/avec14/image/train_Northwind/324_1_Northwind_video_aligned/0153.jpg  \n",
            "  inflating: /content/dataset/avec14/image/train_Northwind/324_1_Northwind_video_aligned/0156.jpg  \n",
            "  inflating: /content/dataset/avec14/image/train_Northwind/324_1_Northwind_video_aligned/0159.jpg  \n",
            "  inflating: /content/dataset/avec14/image/train_Northwind/324_1_Northwind_video_aligned/0162.jpg  \n",
            "  inflating: /content/dataset/avec14/image/train_Northwind/324_1_Northwind_video_aligned/0165.jpg  \n",
            "  inflating: /content/dataset/avec14/image/train_Northwind/324_1_Northwind_video_aligned/0168.jpg  \n",
            "  inflating: /content/dataset/avec14/image/train_Northwind/324_1_Northwind_video_aligned/0171.jpg  \n",
            "  inflating: /content/dataset/avec14/image/train_Northwind/324_1_Northwind_video_aligned/0174.jpg  \n",
            "  inflating: /content/dataset/avec14/image/train_Northwind/324_1_Northwind_video_aligned/0177.jpg  \n",
            "  inflating: /content/dataset/avec14/image/train_Northwind/324_1_Northwind_video_aligned/0180.jpg  \n",
            "  inflating: /content/dataset/avec14/image/train_Northwind/324_1_Northwind_video_aligned/0183.jpg  \n",
            "  inflating: /content/dataset/avec14/image/train_Northwind/324_1_Northwind_video_aligned/0186.jpg  \n",
            "  inflating: /content/dataset/avec14/image/train_Northwind/324_1_Northwind_video_aligned/0189.jpg  \n",
            "  inflating: /content/dataset/avec14/image/train_Northwind/324_1_Northwind_video_aligned/0192.jpg  \n",
            "  inflating: /content/dataset/avec14/image/train_Northwind/324_1_Northwind_video_aligned/0195.jpg  \n",
            "  inflating: /content/dataset/avec14/image/train_Northwind/324_1_Northwind_video_aligned/0198.jpg  \n",
            "  inflating: /content/dataset/avec14/image/train_Northwind/324_1_Northwind_video_aligned/0201.jpg  \n",
            "  inflating: /content/dataset/avec14/image/train_Northwind/324_1_Northwind_video_aligned/0204.jpg  \n",
            "  inflating: /content/dataset/avec14/image/train_Northwind/324_1_Northwind_video_aligned/0207.jpg  \n",
            "  inflating: /content/dataset/avec14/image/train_Northwind/324_1_Northwind_video_aligned/0210.jpg  \n",
            "  inflating: /content/dataset/avec14/image/train_Northwind/324_1_Northwind_video_aligned/0213.jpg  \n",
            "  inflating: /content/dataset/avec14/image/train_Northwind/324_1_Northwind_video_aligned/0216.jpg  \n",
            "  inflating: /content/dataset/avec14/image/train_Northwind/324_1_Northwind_video_aligned/0219.jpg  \n",
            "  inflating: /content/dataset/avec14/image/train_Northwind/324_1_Northwind_video_aligned/0222.jpg  \n",
            "  inflating: /content/dataset/avec14/image/train_Northwind/324_1_Northwind_video_aligned/0225.jpg  \n",
            "  inflating: /content/dataset/avec14/image/train_Northwind/324_1_Northwind_video_aligned/0228.jpg  \n",
            "  inflating: /content/dataset/avec14/image/train_Northwind/324_1_Northwind_video_aligned/0231.jpg  \n",
            "  inflating: /content/dataset/avec14/image/train_Northwind/324_1_Northwind_video_aligned/0234.jpg  \n",
            "  inflating: /content/dataset/avec14/image/train_Northwind/324_1_Northwind_video_aligned/0237.jpg  \n",
            "  inflating: /content/dataset/avec14/image/train_Northwind/324_1_Northwind_video_aligned/0240.jpg  \n",
            "  inflating: /content/dataset/avec14/image/train_Northwind/324_1_Northwind_video_aligned/0243.jpg  \n",
            "  inflating: /content/dataset/avec14/image/train_Northwind/324_1_Northwind_video_aligned/0246.jpg  \n",
            "  inflating: /content/dataset/avec14/image/train_Northwind/324_1_Northwind_video_aligned/0249.jpg  \n",
            "  inflating: /content/dataset/avec14/image/train_Northwind/324_1_Northwind_video_aligned/0252.jpg  \n",
            "  inflating: /content/dataset/avec14/image/train_Northwind/324_1_Northwind_video_aligned/0255.jpg  \n",
            "  inflating: /content/dataset/avec14/image/train_Northwind/324_1_Northwind_video_aligned/0258.jpg  \n",
            "  inflating: /content/dataset/avec14/image/train_Northwind/324_1_Northwind_video_aligned/0261.jpg  \n",
            "  inflating: /content/dataset/avec14/image/train_Northwind/324_1_Northwind_video_aligned/0264.jpg  \n",
            "  inflating: /content/dataset/avec14/image/train_Northwind/324_1_Northwind_video_aligned/0267.jpg  \n",
            "  inflating: /content/dataset/avec14/image/train_Northwind/324_1_Northwind_video_aligned/0270.jpg  \n",
            "  inflating: /content/dataset/avec14/image/train_Northwind/324_1_Northwind_video_aligned/0273.jpg  \n",
            "  inflating: /content/dataset/avec14/image/train_Northwind/324_1_Northwind_video_aligned/0276.jpg  \n",
            "  inflating: /content/dataset/avec14/image/train_Northwind/324_1_Northwind_video_aligned/0279.jpg  \n",
            "  inflating: /content/dataset/avec14/image/train_Northwind/324_1_Northwind_video_aligned/0282.jpg  \n",
            "  inflating: /content/dataset/avec14/image/train_Northwind/324_1_Northwind_video_aligned/0285.jpg  \n",
            "  inflating: /content/dataset/avec14/image/train_Northwind/324_1_Northwind_video_aligned/0288.jpg  \n",
            "  inflating: /content/dataset/avec14/image/train_Northwind/324_1_Northwind_video_aligned/0291.jpg  \n",
            "  inflating: /content/dataset/avec14/image/train_Northwind/324_1_Northwind_video_aligned/0294.jpg  \n",
            "  inflating: /content/dataset/avec14/image/train_Northwind/324_1_Northwind_video_aligned/0297.jpg  \n",
            "  inflating: /content/dataset/avec14/image/train_Northwind/324_1_Northwind_video_aligned/0300.jpg  \n",
            "  inflating: /content/dataset/avec14/image/train_Northwind/324_1_Northwind_video_aligned/0303.jpg  \n",
            "  inflating: /content/dataset/avec14/image/train_Northwind/324_1_Northwind_video_aligned/0306.jpg  \n",
            "  inflating: /content/dataset/avec14/image/train_Northwind/324_1_Northwind_video_aligned/0309.jpg  \n",
            "  inflating: /content/dataset/avec14/image/train_Northwind/324_1_Northwind_video_aligned/0312.jpg  \n",
            "  inflating: /content/dataset/avec14/image/train_Northwind/324_1_Northwind_video_aligned/0315.jpg  \n",
            "  inflating: /content/dataset/avec14/image/train_Northwind/324_1_Northwind_video_aligned/0318.jpg  \n",
            "  inflating: /content/dataset/avec14/image/train_Northwind/324_1_Northwind_video_aligned/0321.jpg  \n",
            "  inflating: /content/dataset/avec14/image/train_Northwind/324_1_Northwind_video_aligned/0324.jpg  \n",
            "  inflating: /content/dataset/avec14/image/train_Northwind/324_1_Northwind_video_aligned/0327.jpg  \n",
            "  inflating: /content/dataset/avec14/image/train_Northwind/324_1_Northwind_video_aligned/0330.jpg  \n",
            "  inflating: /content/dataset/avec14/image/train_Northwind/324_1_Northwind_video_aligned/0333.jpg  \n",
            "  inflating: /content/dataset/avec14/image/train_Northwind/324_1_Northwind_video_aligned/0336.jpg  \n",
            "  inflating: /content/dataset/avec14/image/train_Northwind/324_1_Northwind_video_aligned/0339.jpg  \n",
            "  inflating: /content/dataset/avec14/image/train_Northwind/324_1_Northwind_video_aligned/0342.jpg  \n",
            "  inflating: /content/dataset/avec14/image/train_Northwind/324_1_Northwind_video_aligned/0345.jpg  \n",
            "  inflating: /content/dataset/avec14/image/train_Northwind/324_1_Northwind_video_aligned/0348.jpg  \n",
            "  inflating: /content/dataset/avec14/image/train_Northwind/324_1_Northwind_video_aligned/0351.jpg  \n",
            "  inflating: /content/dataset/avec14/image/train_Northwind/324_1_Northwind_video_aligned/0354.jpg  \n",
            "  inflating: /content/dataset/avec14/image/train_Northwind/324_1_Northwind_video_aligned/0357.jpg  \n",
            "  inflating: /content/dataset/avec14/image/train_Northwind/324_1_Northwind_video_aligned/0360.jpg  \n",
            "  inflating: /content/dataset/avec14/image/train_Northwind/324_1_Northwind_video_aligned/0363.jpg  \n",
            "  inflating: /content/dataset/avec14/image/train_Northwind/324_1_Northwind_video_aligned/0366.jpg  \n",
            "  inflating: /content/dataset/avec14/image/train_Northwind/324_1_Northwind_video_aligned/0369.jpg  \n",
            "  inflating: /content/dataset/avec14/image/train_Northwind/324_1_Northwind_video_aligned/0372.jpg  \n",
            "  inflating: /content/dataset/avec14/image/train_Northwind/324_1_Northwind_video_aligned/0375.jpg  \n",
            "  inflating: /content/dataset/avec14/image/train_Northwind/324_1_Northwind_video_aligned/0378.jpg  \n",
            "  inflating: /content/dataset/avec14/image/train_Northwind/324_1_Northwind_video_aligned/0381.jpg  \n",
            "  inflating: /content/dataset/avec14/image/train_Northwind/324_1_Northwind_video_aligned/0384.jpg  \n",
            "  inflating: /content/dataset/avec14/image/train_Northwind/324_1_Northwind_video_aligned/0387.jpg  \n",
            "  inflating: /content/dataset/avec14/image/train_Northwind/324_1_Northwind_video_aligned/0390.jpg  \n",
            "  inflating: /content/dataset/avec14/image/train_Northwind/324_1_Northwind_video_aligned/0393.jpg  \n",
            "  inflating: /content/dataset/avec14/image/train_Northwind/324_1_Northwind_video_aligned/0396.jpg  \n",
            "  inflating: /content/dataset/avec14/image/train_Northwind/324_1_Northwind_video_aligned/0399.jpg  \n",
            "  inflating: /content/dataset/avec14/image/train_Northwind/324_1_Northwind_video_aligned/0402.jpg  \n",
            "  inflating: /content/dataset/avec14/image/train_Northwind/324_1_Northwind_video_aligned/0405.jpg  \n",
            "  inflating: /content/dataset/avec14/image/train_Northwind/324_1_Northwind_video_aligned/0408.jpg  \n",
            "  inflating: /content/dataset/avec14/image/train_Northwind/324_1_Northwind_video_aligned/0411.jpg  \n",
            "  inflating: /content/dataset/avec14/image/train_Northwind/324_1_Northwind_video_aligned/0414.jpg  \n",
            "  inflating: /content/dataset/avec14/image/train_Northwind/324_1_Northwind_video_aligned/0417.jpg  \n",
            "  inflating: /content/dataset/avec14/image/train_Northwind/324_1_Northwind_video_aligned/0420.jpg  \n",
            "  inflating: /content/dataset/avec14/image/train_Northwind/324_1_Northwind_video_aligned/0423.jpg  \n",
            "  inflating: /content/dataset/avec14/image/train_Northwind/324_1_Northwind_video_aligned/0426.jpg  \n",
            "  inflating: /content/dataset/avec14/image/train_Northwind/324_1_Northwind_video_aligned/0429.jpg  \n",
            "  inflating: /content/dataset/avec14/image/train_Northwind/324_1_Northwind_video_aligned/0432.jpg  \n",
            "  inflating: /content/dataset/avec14/image/train_Northwind/324_1_Northwind_video_aligned/0435.jpg  \n",
            "  inflating: /content/dataset/avec14/image/train_Northwind/324_1_Northwind_video_aligned/0438.jpg  \n",
            "  inflating: /content/dataset/avec14/image/train_Northwind/324_1_Northwind_video_aligned/0441.jpg  \n",
            "  inflating: /content/dataset/avec14/image/train_Northwind/324_1_Northwind_video_aligned/0444.jpg  \n",
            "  inflating: /content/dataset/avec14/image/train_Northwind/324_1_Northwind_video_aligned/0447.jpg  \n",
            "  inflating: /content/dataset/avec14/image/train_Northwind/324_1_Northwind_video_aligned/0450.jpg  \n",
            "  inflating: /content/dataset/avec14/image/train_Northwind/324_1_Northwind_video_aligned/0453.jpg  \n",
            "  inflating: /content/dataset/avec14/image/train_Northwind/324_1_Northwind_video_aligned/0456.jpg  \n",
            "  inflating: /content/dataset/avec14/image/train_Northwind/324_1_Northwind_video_aligned/0459.jpg  \n",
            "  inflating: /content/dataset/avec14/image/train_Northwind/324_1_Northwind_video_aligned/0462.jpg  \n",
            "  inflating: /content/dataset/avec14/image/train_Northwind/324_1_Northwind_video_aligned/0465.jpg  \n",
            "  inflating: /content/dataset/avec14/image/train_Northwind/324_1_Northwind_video_aligned/0468.jpg  \n",
            "  inflating: /content/dataset/avec14/image/train_Northwind/324_1_Northwind_video_aligned/0471.jpg  \n",
            "  inflating: /content/dataset/avec14/image/train_Northwind/324_1_Northwind_video_aligned/0474.jpg  \n",
            "  inflating: /content/dataset/avec14/image/train_Northwind/324_1_Northwind_video_aligned/0477.jpg  \n",
            "  inflating: /content/dataset/avec14/image/train_Northwind/324_1_Northwind_video_aligned/0480.jpg  \n",
            "  inflating: /content/dataset/avec14/image/train_Northwind/324_1_Northwind_video_aligned/0483.jpg  \n",
            "  inflating: /content/dataset/avec14/image/train_Northwind/324_1_Northwind_video_aligned/0486.jpg  \n",
            "  inflating: /content/dataset/avec14/image/train_Northwind/324_1_Northwind_video_aligned/0489.jpg  \n",
            "  inflating: /content/dataset/avec14/image/train_Northwind/324_1_Northwind_video_aligned/0492.jpg  \n",
            "  inflating: /content/dataset/avec14/image/train_Northwind/324_1_Northwind_video_aligned/0495.jpg  \n",
            "  inflating: /content/dataset/avec14/image/train_Northwind/324_1_Northwind_video_aligned/0498.jpg  \n",
            "  inflating: /content/dataset/avec14/image/train_Northwind/324_1_Northwind_video_aligned/0501.jpg  \n",
            "  inflating: /content/dataset/avec14/image/train_Northwind/324_1_Northwind_video_aligned/0504.jpg  \n",
            "  inflating: /content/dataset/avec14/image/train_Northwind/324_1_Northwind_video_aligned/0507.jpg  \n",
            "  inflating: /content/dataset/avec14/image/train_Northwind/324_1_Northwind_video_aligned/0510.jpg  \n",
            "  inflating: /content/dataset/avec14/image/train_Northwind/324_1_Northwind_video_aligned/0513.jpg  \n",
            "  inflating: /content/dataset/avec14/image/train_Northwind/324_1_Northwind_video_aligned/0516.jpg  \n",
            "  inflating: /content/dataset/avec14/image/train_Northwind/324_1_Northwind_video_aligned/0519.jpg  \n",
            "  inflating: /content/dataset/avec14/image/train_Northwind/324_1_Northwind_video_aligned/0522.jpg  \n",
            "  inflating: /content/dataset/avec14/image/train_Northwind/324_1_Northwind_video_aligned/0525.jpg  \n",
            "  inflating: /content/dataset/avec14/image/train_Northwind/324_1_Northwind_video_aligned/0528.jpg  \n",
            "  inflating: /content/dataset/avec14/image/train_Northwind/324_1_Northwind_video_aligned/0531.jpg  \n",
            "  inflating: /content/dataset/avec14/image/train_Northwind/324_1_Northwind_video_aligned/0534.jpg  \n",
            "  inflating: /content/dataset/avec14/image/train_Northwind/324_1_Northwind_video_aligned/0537.jpg  \n",
            "  inflating: /content/dataset/avec14/image/train_Northwind/324_1_Northwind_video_aligned/0540.jpg  \n",
            "  inflating: /content/dataset/avec14/image/train_Northwind/324_1_Northwind_video_aligned/0543.jpg  \n",
            "  inflating: /content/dataset/avec14/image/train_Northwind/324_1_Northwind_video_aligned/0546.jpg  \n",
            "  inflating: /content/dataset/avec14/image/train_Northwind/324_1_Northwind_video_aligned/0549.jpg  \n",
            "  inflating: /content/dataset/avec14/image/train_Northwind/324_1_Northwind_video_aligned/0552.jpg  \n",
            "  inflating: /content/dataset/avec14/image/train_Northwind/324_1_Northwind_video_aligned/0555.jpg  \n",
            "  inflating: /content/dataset/avec14/image/train_Northwind/324_1_Northwind_video_aligned/0558.jpg  \n",
            "  inflating: /content/dataset/avec14/image/train_Northwind/324_1_Northwind_video_aligned/0561.jpg  \n",
            "  inflating: /content/dataset/avec14/image/train_Northwind/324_1_Northwind_video_aligned/0564.jpg  \n",
            "  inflating: /content/dataset/avec14/image/train_Northwind/324_1_Northwind_video_aligned/0567.jpg  \n",
            "  inflating: /content/dataset/avec14/image/train_Northwind/324_1_Northwind_video_aligned/0570.jpg  \n",
            "  inflating: /content/dataset/avec14/image/train_Northwind/324_1_Northwind_video_aligned/0573.jpg  \n",
            "  inflating: /content/dataset/avec14/image/train_Northwind/324_1_Northwind_video_aligned/0576.jpg  \n",
            "  inflating: /content/dataset/avec14/image/train_Northwind/324_1_Northwind_video_aligned/0579.jpg  \n",
            "  inflating: /content/dataset/avec14/image/train_Northwind/324_1_Northwind_video_aligned/0582.jpg  \n",
            "  inflating: /content/dataset/avec14/image/train_Northwind/324_1_Northwind_video_aligned/0585.jpg  \n",
            "  inflating: /content/dataset/avec14/image/train_Northwind/324_1_Northwind_video_aligned/0588.jpg  \n",
            "  inflating: /content/dataset/avec14/image/train_Northwind/324_1_Northwind_video_aligned/0591.jpg  \n",
            "  inflating: /content/dataset/avec14/image/train_Northwind/324_1_Northwind_video_aligned/0594.jpg  \n",
            "  inflating: /content/dataset/avec14/image/train_Northwind/324_1_Northwind_video_aligned/0597.jpg  \n",
            "  inflating: /content/dataset/avec14/image/train_Northwind/324_1_Northwind_video_aligned/0600.jpg  \n",
            "  inflating: /content/dataset/avec14/image/train_Northwind/324_1_Northwind_video_aligned/0603.jpg  \n",
            "  inflating: /content/dataset/avec14/image/train_Northwind/324_1_Northwind_video_aligned/0606.jpg  \n",
            "  inflating: /content/dataset/avec14/image/train_Northwind/324_1_Northwind_video_aligned/0609.jpg  \n",
            "  inflating: /content/dataset/avec14/image/train_Northwind/324_1_Northwind_video_aligned/0612.jpg  \n",
            "  inflating: /content/dataset/avec14/image/train_Northwind/324_1_Northwind_video_aligned/0615.jpg  \n",
            "  inflating: /content/dataset/avec14/image/train_Northwind/324_1_Northwind_video_aligned/0618.jpg  \n",
            "  inflating: /content/dataset/avec14/image/train_Northwind/324_1_Northwind_video_aligned/0621.jpg  \n",
            "  inflating: /content/dataset/avec14/image/train_Northwind/324_1_Northwind_video_aligned/0624.jpg  \n",
            "  inflating: /content/dataset/avec14/image/train_Northwind/324_1_Northwind_video_aligned/0627.jpg  \n",
            "  inflating: /content/dataset/avec14/image/train_Northwind/324_1_Northwind_video_aligned/0630.jpg  \n",
            "  inflating: /content/dataset/avec14/image/train_Northwind/324_1_Northwind_video_aligned/0633.jpg  \n",
            "  inflating: /content/dataset/avec14/image/train_Northwind/324_1_Northwind_video_aligned/0636.jpg  \n",
            "  inflating: /content/dataset/avec14/image/train_Northwind/324_1_Northwind_video_aligned/0639.jpg  \n",
            "  inflating: /content/dataset/avec14/image/train_Northwind/324_1_Northwind_video_aligned/0642.jpg  \n",
            "  inflating: /content/dataset/avec14/image/train_Northwind/324_1_Northwind_video_aligned/0645.jpg  \n",
            "  inflating: /content/dataset/avec14/image/train_Northwind/324_1_Northwind_video_aligned/0648.jpg  \n",
            "  inflating: /content/dataset/avec14/image/train_Northwind/324_1_Northwind_video_aligned/0651.jpg  \n",
            "  inflating: /content/dataset/avec14/image/train_Northwind/324_1_Northwind_video_aligned/0654.jpg  \n",
            "  inflating: /content/dataset/avec14/image/train_Northwind/324_1_Northwind_video_aligned/0657.jpg  \n",
            "  inflating: /content/dataset/avec14/image/train_Northwind/324_1_Northwind_video_aligned/0660.jpg  \n",
            "  inflating: /content/dataset/avec14/image/train_Northwind/324_1_Northwind_video_aligned/0663.jpg  \n",
            "  inflating: /content/dataset/avec14/image/train_Northwind/324_1_Northwind_video_aligned/0666.jpg  \n",
            "  inflating: /content/dataset/avec14/image/train_Northwind/324_1_Northwind_video_aligned/0669.jpg  \n",
            "  inflating: /content/dataset/avec14/image/train_Northwind/324_1_Northwind_video_aligned/0672.jpg  \n",
            "  inflating: /content/dataset/avec14/image/train_Northwind/324_1_Northwind_video_aligned/0675.jpg  \n",
            "  inflating: /content/dataset/avec14/image/train_Northwind/324_1_Northwind_video_aligned/0678.jpg  \n",
            "  inflating: /content/dataset/avec14/image/train_Northwind/324_1_Northwind_video_aligned/0681.jpg  \n",
            "  inflating: /content/dataset/avec14/image/train_Northwind/324_1_Northwind_video_aligned/0684.jpg  \n",
            "  inflating: /content/dataset/avec14/image/train_Northwind/324_1_Northwind_video_aligned/0687.jpg  \n",
            "  inflating: /content/dataset/avec14/image/train_Northwind/324_1_Northwind_video_aligned/0690.jpg  \n",
            "  inflating: /content/dataset/avec14/image/train_Northwind/324_1_Northwind_video_aligned/0693.jpg  \n",
            "  inflating: /content/dataset/avec14/image/train_Northwind/324_1_Northwind_video_aligned/0696.jpg  \n",
            "  inflating: /content/dataset/avec14/image/train_Northwind/324_1_Northwind_video_aligned/0699.jpg  \n",
            "  inflating: /content/dataset/avec14/image/train_Northwind/324_1_Northwind_video_aligned/0702.jpg  \n",
            "  inflating: /content/dataset/avec14/image/train_Northwind/324_1_Northwind_video_aligned/0705.jpg  \n",
            "  inflating: /content/dataset/avec14/image/train_Northwind/324_1_Northwind_video_aligned/0708.jpg  \n",
            "  inflating: /content/dataset/avec14/image/train_Northwind/324_1_Northwind_video_aligned/0711.jpg  \n",
            "  inflating: /content/dataset/avec14/image/train_Northwind/324_1_Northwind_video_aligned/0714.jpg  \n",
            "  inflating: /content/dataset/avec14/image/train_Northwind/324_1_Northwind_video_aligned/0717.jpg  \n",
            "  inflating: /content/dataset/avec14/image/train_Northwind/324_1_Northwind_video_aligned/0720.jpg  \n",
            "  inflating: /content/dataset/avec14/image/train_Northwind/324_1_Northwind_video_aligned/0723.jpg  \n",
            "  inflating: /content/dataset/avec14/image/train_Northwind/324_1_Northwind_video_aligned/0726.jpg  \n",
            "  inflating: /content/dataset/avec14/image/train_Northwind/324_1_Northwind_video_aligned/0729.jpg  \n",
            "  inflating: /content/dataset/avec14/image/train_Northwind/324_1_Northwind_video_aligned/0732.jpg  \n",
            "  inflating: /content/dataset/avec14/image/train_Northwind/324_1_Northwind_video_aligned/0735.jpg  \n",
            "  inflating: /content/dataset/avec14/image/train_Northwind/324_1_Northwind_video_aligned/0738.jpg  \n",
            "  inflating: /content/dataset/avec14/image/train_Northwind/324_1_Northwind_video_aligned/0741.jpg  \n",
            "  inflating: /content/dataset/avec14/image/train_Northwind/324_1_Northwind_video_aligned/0744.jpg  \n",
            "  inflating: /content/dataset/avec14/image/train_Northwind/324_1_Northwind_video_aligned/0747.jpg  \n",
            "  inflating: /content/dataset/avec14/image/train_Northwind/324_1_Northwind_video_aligned/0750.jpg  \n",
            "  inflating: /content/dataset/avec14/image/train_Northwind/324_1_Northwind_video_aligned/0753.jpg  \n",
            "  inflating: /content/dataset/avec14/image/train_Northwind/324_1_Northwind_video_aligned/0756.jpg  \n",
            "  inflating: /content/dataset/avec14/image/train_Northwind/324_1_Northwind_video_aligned/0759.jpg  \n",
            "  inflating: /content/dataset/avec14/image/train_Northwind/324_1_Northwind_video_aligned/0762.jpg  \n",
            "  inflating: /content/dataset/avec14/image/train_Northwind/324_1_Northwind_video_aligned/0765.jpg  \n",
            "  inflating: /content/dataset/avec14/image/train_Northwind/324_1_Northwind_video_aligned/0768.jpg  \n",
            "  inflating: /content/dataset/avec14/image/train_Northwind/324_1_Northwind_video_aligned/0771.jpg  \n",
            "  inflating: /content/dataset/avec14/image/train_Northwind/324_1_Northwind_video_aligned/0774.jpg  \n",
            "  inflating: /content/dataset/avec14/image/train_Northwind/324_1_Northwind_video_aligned/0777.jpg  \n",
            "  inflating: /content/dataset/avec14/image/train_Northwind/324_1_Northwind_video_aligned/0780.jpg  \n",
            "  inflating: /content/dataset/avec14/image/train_Northwind/324_1_Northwind_video_aligned/0783.jpg  \n",
            "  inflating: /content/dataset/avec14/image/train_Northwind/324_1_Northwind_video_aligned/0786.jpg  \n",
            "  inflating: /content/dataset/avec14/image/train_Northwind/324_1_Northwind_video_aligned/0789.jpg  \n",
            "  inflating: /content/dataset/avec14/image/train_Northwind/324_1_Northwind_video_aligned/0792.jpg  \n",
            "  inflating: /content/dataset/avec14/image/train_Northwind/324_1_Northwind_video_aligned/0795.jpg  \n",
            "  inflating: /content/dataset/avec14/image/train_Northwind/324_1_Northwind_video_aligned/0798.jpg  \n",
            "  inflating: /content/dataset/avec14/image/train_Northwind/324_1_Northwind_video_aligned/0801.jpg  \n",
            "  inflating: /content/dataset/avec14/image/train_Northwind/324_1_Northwind_video_aligned/0804.jpg  \n",
            "  inflating: /content/dataset/avec14/image/train_Northwind/324_1_Northwind_video_aligned/0807.jpg  \n",
            "  inflating: /content/dataset/avec14/image/train_Northwind/324_1_Northwind_video_aligned/0810.jpg  \n",
            "  inflating: /content/dataset/avec14/image/train_Northwind/324_1_Northwind_video_aligned/0813.jpg  \n",
            "  inflating: /content/dataset/avec14/image/train_Northwind/324_1_Northwind_video_aligned/0816.jpg  \n",
            "  inflating: /content/dataset/avec14/image/train_Northwind/324_1_Northwind_video_aligned/0819.jpg  \n",
            "  inflating: /content/dataset/avec14/image/train_Northwind/324_1_Northwind_video_aligned/0822.jpg  \n",
            "  inflating: /content/dataset/avec14/image/train_Northwind/324_1_Northwind_video_aligned/0825.jpg  \n",
            "  inflating: /content/dataset/avec14/image/train_Northwind/324_1_Northwind_video_aligned/0828.jpg  \n",
            "  inflating: /content/dataset/avec14/image/train_Northwind/324_1_Northwind_video_aligned/0831.jpg  \n",
            "  inflating: /content/dataset/avec14/image/train_Northwind/324_1_Northwind_video_aligned/0834.jpg  \n",
            "  inflating: /content/dataset/avec14/image/train_Northwind/324_1_Northwind_video_aligned/0837.jpg  \n",
            "  inflating: /content/dataset/avec14/image/train_Northwind/324_1_Northwind_video_aligned/0840.jpg  \n",
            "  inflating: /content/dataset/avec14/image/train_Northwind/324_1_Northwind_video_aligned/0843.jpg  \n",
            "  inflating: /content/dataset/avec14/image/train_Northwind/324_1_Northwind_video_aligned/0846.jpg  \n",
            "  inflating: /content/dataset/avec14/image/train_Northwind/324_1_Northwind_video_aligned/0849.jpg  \n",
            "  inflating: /content/dataset/avec14/image/train_Northwind/324_1_Northwind_video_aligned/0852.jpg  \n",
            "  inflating: /content/dataset/avec14/image/train_Northwind/324_1_Northwind_video_aligned/0855.jpg  \n",
            "  inflating: /content/dataset/avec14/image/train_Northwind/324_1_Northwind_video_aligned/0858.jpg  \n",
            "  inflating: /content/dataset/avec14/image/train_Northwind/324_1_Northwind_video_aligned/0861.jpg  \n",
            "  inflating: /content/dataset/avec14/image/train_Northwind/324_1_Northwind_video_aligned/0864.jpg  \n",
            "  inflating: /content/dataset/avec14/image/train_Northwind/324_1_Northwind_video_aligned/0867.jpg  \n",
            "  inflating: /content/dataset/avec14/image/train_Northwind/324_1_Northwind_video_aligned/0870.jpg  \n",
            "  inflating: /content/dataset/avec14/image/train_Northwind/324_1_Northwind_video_aligned/0873.jpg  \n",
            "  inflating: /content/dataset/avec14/image/train_Northwind/324_1_Northwind_video_aligned/0876.jpg  \n",
            "  inflating: /content/dataset/avec14/image/train_Northwind/324_1_Northwind_video_aligned/0879.jpg  \n",
            "  inflating: /content/dataset/avec14/image/train_Northwind/324_1_Northwind_video_aligned/0882.jpg  \n",
            "  inflating: /content/dataset/avec14/image/train_Northwind/324_1_Northwind_video_aligned/0885.jpg  \n",
            "  inflating: /content/dataset/avec14/image/train_Northwind/324_1_Northwind_video_aligned/0888.jpg  \n",
            "  inflating: /content/dataset/avec14/image/train_Northwind/324_1_Northwind_video_aligned/0891.jpg  \n",
            "  inflating: /content/dataset/avec14/image/train_Northwind/324_1_Northwind_video_aligned/0894.jpg  \n",
            "  inflating: /content/dataset/avec14/image/train_Northwind/324_1_Northwind_video_aligned/0897.jpg  \n",
            "  inflating: /content/dataset/avec14/image/train_Northwind/324_1_Northwind_video_aligned/0900.jpg  \n",
            "  inflating: /content/dataset/avec14/image/train_Northwind/324_1_Northwind_video_aligned/0903.jpg  \n",
            "  inflating: /content/dataset/avec14/image/train_Northwind/324_1_Northwind_video_aligned/0906.jpg  \n",
            "  inflating: /content/dataset/avec14/image/train_Northwind/324_1_Northwind_video_aligned/0909.jpg  \n",
            "  inflating: /content/dataset/avec14/image/train_Northwind/324_1_Northwind_video_aligned/0912.jpg  \n",
            "  inflating: /content/dataset/avec14/image/train_Northwind/324_1_Northwind_video_aligned/0915.jpg  \n",
            "  inflating: /content/dataset/avec14/image/train_Northwind/324_1_Northwind_video_aligned/0918.jpg  \n",
            "  inflating: /content/dataset/avec14/image/train_Northwind/324_1_Northwind_video_aligned/0921.jpg  \n",
            "  inflating: /content/dataset/avec14/image/train_Northwind/324_1_Northwind_video_aligned/0924.jpg  \n",
            "  inflating: /content/dataset/avec14/image/train_Northwind/324_1_Northwind_video_aligned/0927.jpg  \n",
            "  inflating: /content/dataset/avec14/image/train_Northwind/324_1_Northwind_video_aligned/0930.jpg  \n",
            "  inflating: /content/dataset/avec14/image/train_Northwind/324_1_Northwind_video_aligned/0933.jpg  \n",
            "  inflating: /content/dataset/avec14/image/train_Northwind/324_1_Northwind_video_aligned/0936.jpg  \n",
            "  inflating: /content/dataset/avec14/image/train_Northwind/324_1_Northwind_video_aligned/0939.jpg  \n",
            "  inflating: /content/dataset/avec14/image/train_Northwind/324_1_Northwind_video_aligned/0942.jpg  \n",
            "  inflating: /content/dataset/avec14/image/train_Northwind/324_1_Northwind_video_aligned/0945.jpg  \n",
            "  inflating: /content/dataset/avec14/image/train_Northwind/324_1_Northwind_video_aligned/0948.jpg  \n",
            "  inflating: /content/dataset/avec14/image/train_Northwind/324_1_Northwind_video_aligned/0951.jpg  \n",
            "  inflating: /content/dataset/avec14/image/train_Northwind/324_1_Northwind_video_aligned/0954.jpg  \n",
            "  inflating: /content/dataset/avec14/image/train_Northwind/324_1_Northwind_video_aligned/0957.jpg  \n",
            "  inflating: /content/dataset/avec14/image/train_Northwind/324_1_Northwind_video_aligned/0960.jpg  \n",
            "  inflating: /content/dataset/avec14/image/train_Northwind/324_1_Northwind_video_aligned/0963.jpg  \n",
            "  inflating: /content/dataset/avec14/image/train_Northwind/324_1_Northwind_video_aligned/0966.jpg  \n",
            "  inflating: /content/dataset/avec14/image/train_Northwind/324_1_Northwind_video_aligned/0969.jpg  \n",
            "  inflating: /content/dataset/avec14/image/train_Northwind/324_1_Northwind_video_aligned/0972.jpg  \n",
            "  inflating: /content/dataset/avec14/image/train_Northwind/324_1_Northwind_video_aligned/0975.jpg  \n",
            "  inflating: /content/dataset/avec14/image/train_Northwind/324_1_Northwind_video_aligned/0978.jpg  \n",
            "  inflating: /content/dataset/avec14/image/train_Northwind/324_1_Northwind_video_aligned/0981.jpg  \n",
            "  inflating: /content/dataset/avec14/image/train_Northwind/324_1_Northwind_video_aligned/0984.jpg  \n",
            "  inflating: /content/dataset/avec14/image/train_Northwind/324_1_Northwind_video_aligned/0987.jpg  \n",
            "  inflating: /content/dataset/avec14/image/train_Northwind/324_1_Northwind_video_aligned/0990.jpg  \n",
            "  inflating: /content/dataset/avec14/image/train_Northwind/324_1_Northwind_video_aligned/0993.jpg  \n",
            "  inflating: /content/dataset/avec14/image/train_Northwind/324_1_Northwind_video_aligned/0996.jpg  \n",
            "  inflating: /content/dataset/avec14/image/train_Northwind/324_1_Northwind_video_aligned/0999.jpg  \n",
            "  inflating: /content/dataset/avec14/image/train_Northwind/324_1_Northwind_video_aligned/1002.jpg  \n",
            "  inflating: /content/dataset/avec14/image/train_Northwind/324_1_Northwind_video_aligned/1005.jpg  \n",
            "  inflating: /content/dataset/avec14/image/train_Northwind/324_1_Northwind_video_aligned/1008.jpg  \n",
            "  inflating: /content/dataset/avec14/image/train_Northwind/324_1_Northwind_video_aligned/1011.jpg  \n",
            "  inflating: /content/dataset/avec14/image/train_Northwind/324_1_Northwind_video_aligned/1014.jpg  \n",
            "  inflating: /content/dataset/avec14/image/train_Northwind/324_1_Northwind_video_aligned/1017.jpg  \n",
            "  inflating: /content/dataset/avec14/image/train_Northwind/324_1_Northwind_video_aligned/1020.jpg  \n",
            "  inflating: /content/dataset/avec14/image/train_Northwind/324_1_Northwind_video_aligned/1023.jpg  \n",
            "  inflating: /content/dataset/avec14/image/train_Northwind/324_1_Northwind_video_aligned/1026.jpg  \n",
            "  inflating: /content/dataset/avec14/image/train_Northwind/324_1_Northwind_video_aligned/1029.jpg  \n",
            "  inflating: /content/dataset/avec14/image/train_Northwind/324_1_Northwind_video_aligned/1032.jpg  \n",
            "  inflating: /content/dataset/avec14/image/train_Northwind/324_1_Northwind_video_aligned/1035.jpg  \n",
            "  inflating: /content/dataset/avec14/image/train_Northwind/324_1_Northwind_video_aligned/1038.jpg  \n",
            "  inflating: /content/dataset/avec14/image/train_Northwind/324_1_Northwind_video_aligned/1041.jpg  \n",
            "  inflating: /content/dataset/avec14/image/train_Northwind/324_1_Northwind_video_aligned/1044.jpg  \n",
            "  inflating: /content/dataset/avec14/image/train_Northwind/324_1_Northwind_video_aligned/1047.jpg  \n",
            "  inflating: /content/dataset/avec14/image/train_Northwind/324_1_Northwind_video_aligned/1050.jpg  \n",
            "  inflating: /content/dataset/avec14/image/train_Northwind/324_1_Northwind_video_aligned/1053.jpg  \n",
            "  inflating: /content/dataset/avec14/image/train_Northwind/324_1_Northwind_video_aligned/1056.jpg  \n",
            "  inflating: /content/dataset/avec14/image/train_Northwind/324_1_Northwind_video_aligned/1059.jpg  \n",
            "  inflating: /content/dataset/avec14/image/train_Northwind/324_1_Northwind_video_aligned/1062.jpg  \n",
            "  inflating: /content/dataset/avec14/image/train_Northwind/324_1_Northwind_video_aligned/1065.jpg  \n",
            "  inflating: /content/dataset/avec14/image/train_Northwind/324_1_Northwind_video_aligned/1068.jpg  \n",
            "  inflating: /content/dataset/avec14/image/train_Northwind/324_1_Northwind_video_aligned/1071.jpg  \n",
            "  inflating: /content/dataset/avec14/image/train_Northwind/324_1_Northwind_video_aligned/1074.jpg  \n",
            "  inflating: /content/dataset/avec14/image/train_Northwind/324_1_Northwind_video_aligned/1077.jpg  \n",
            "  inflating: /content/dataset/avec14/image/train_Northwind/324_1_Northwind_video_aligned/1080.jpg  \n",
            "  inflating: /content/dataset/avec14/image/train_Northwind/324_1_Northwind_video_aligned/1083.jpg  \n",
            "  inflating: /content/dataset/avec14/image/train_Northwind/324_1_Northwind_video_aligned/1086.jpg  \n",
            "  inflating: /content/dataset/avec14/image/train_Northwind/324_1_Northwind_video_aligned/1089.jpg  \n",
            "  inflating: /content/dataset/avec14/image/train_Northwind/324_1_Northwind_video_aligned/1092.jpg  \n",
            "  inflating: /content/dataset/avec14/image/train_Northwind/324_1_Northwind_video_aligned/1095.jpg  \n",
            "  inflating: /content/dataset/avec14/image/train_Northwind/324_1_Northwind_video_aligned/1098.jpg  \n",
            "  inflating: /content/dataset/avec14/image/train_Northwind/324_1_Northwind_video_aligned/1101.jpg  \n",
            "  inflating: /content/dataset/avec14/image/train_Northwind/324_1_Northwind_video_aligned/1104.jpg  \n",
            "  inflating: /content/dataset/avec14/image/train_Northwind/324_1_Northwind_video_aligned/1107.jpg  \n",
            "  inflating: /content/dataset/avec14/image/train_Northwind/324_1_Northwind_video_aligned/1110.jpg  \n",
            "  inflating: /content/dataset/avec14/image/train_Northwind/324_1_Northwind_video_aligned/1113.jpg  \n",
            "  inflating: /content/dataset/avec14/image/train_Northwind/324_1_Northwind_video_aligned/1116.jpg  \n",
            "  inflating: /content/dataset/avec14/image/train_Northwind/324_1_Northwind_video_aligned/1119.jpg  \n",
            "  inflating: /content/dataset/avec14/image/train_Northwind/324_1_Northwind_video_aligned/1122.jpg  \n",
            "  inflating: /content/dataset/avec14/image/train_Northwind/324_1_Northwind_video_aligned/1125.jpg  \n",
            "  inflating: /content/dataset/avec14/image/train_Northwind/324_1_Northwind_video_aligned/1128.jpg  \n",
            "  inflating: /content/dataset/avec14/image/train_Northwind/324_1_Northwind_video_aligned/1131.jpg  \n",
            "  inflating: /content/dataset/avec14/image/train_Northwind/324_1_Northwind_video_aligned/1134.jpg  \n",
            "  inflating: /content/dataset/avec14/image/train_Northwind/324_1_Northwind_video_aligned/1137.jpg  \n",
            "  inflating: /content/dataset/avec14/image/train_Northwind/324_1_Northwind_video_aligned/1140.jpg  \n",
            "  inflating: /content/dataset/avec14/image/train_Northwind/324_1_Northwind_video_aligned/1143.jpg  \n",
            "  inflating: /content/dataset/avec14/image/train_Northwind/324_1_Northwind_video_aligned/1146.jpg  \n",
            "  inflating: /content/dataset/avec14/image/train_Northwind/324_1_Northwind_video_aligned/1149.jpg  \n",
            "  inflating: /content/dataset/avec14/image/train_Northwind/324_1_Northwind_video_aligned/1152.jpg  \n",
            "  inflating: /content/dataset/avec14/image/train_Northwind/324_1_Northwind_video_aligned/1155.jpg  \n",
            "  inflating: /content/dataset/avec14/image/train_Northwind/324_1_Northwind_video_aligned/1158.jpg  \n",
            "  inflating: /content/dataset/avec14/image/train_Northwind/324_1_Northwind_video_aligned/1161.jpg  \n",
            "  inflating: /content/dataset/avec14/image/train_Northwind/324_1_Northwind_video_aligned/1164.jpg  \n",
            "  inflating: /content/dataset/avec14/image/train_Northwind/324_1_Northwind_video_aligned/1167.jpg  \n",
            "  inflating: /content/dataset/avec14/image/train_Northwind/324_1_Northwind_video_aligned/1170.jpg  \n",
            "  inflating: /content/dataset/avec14/image/train_Northwind/324_1_Northwind_video_aligned/1173.jpg  \n",
            "  inflating: /content/dataset/avec14/image/train_Northwind/324_1_Northwind_video_aligned/1176.jpg  \n",
            "  inflating: /content/dataset/avec14/image/train_Northwind/324_1_Northwind_video_aligned/1179.jpg  \n",
            "  inflating: /content/dataset/avec14/image/train_Northwind/324_1_Northwind_video_aligned/1182.jpg  \n",
            "  inflating: /content/dataset/avec14/image/train_Northwind/324_1_Northwind_video_aligned/1185.jpg  \n",
            "  inflating: /content/dataset/avec14/image/train_Northwind/324_1_Northwind_video_aligned/1188.jpg  \n",
            "  inflating: /content/dataset/avec14/image/train_Northwind/324_1_Northwind_video_aligned/1191.jpg  \n",
            "  inflating: /content/dataset/avec14/image/train_Northwind/324_1_Northwind_video_aligned/1194.jpg  \n",
            "  inflating: /content/dataset/avec14/image/train_Northwind/324_1_Northwind_video_aligned/1197.jpg  \n",
            "  inflating: /content/dataset/avec14/image/train_Northwind/324_1_Northwind_video_aligned/1200.jpg  \n",
            "  inflating: /content/dataset/avec14/image/train_Northwind/324_1_Northwind_video_aligned/1203.jpg  \n",
            "  inflating: /content/dataset/avec14/image/train_Northwind/324_1_Northwind_video_aligned/1206.jpg  \n",
            "  inflating: /content/dataset/avec14/image/train_Northwind/324_1_Northwind_video_aligned/1209.jpg  \n",
            "  inflating: /content/dataset/avec14/image/train_Northwind/324_1_Northwind_video_aligned/1212.jpg  \n",
            "  inflating: /content/dataset/avec14/image/train_Northwind/324_1_Northwind_video_aligned/1215.jpg  \n",
            "  inflating: /content/dataset/avec14/image/train_Northwind/324_1_Northwind_video_aligned/1218.jpg  \n",
            "  inflating: /content/dataset/avec14/image/train_Northwind/324_1_Northwind_video_aligned/1221.jpg  \n",
            "  inflating: /content/dataset/avec14/image/train_Northwind/324_1_Northwind_video_aligned/1224.jpg  \n",
            "  inflating: /content/dataset/avec14/image/train_Northwind/324_1_Northwind_video_aligned/1227.jpg  \n",
            "  inflating: /content/dataset/avec14/image/train_Northwind/324_1_Northwind_video_aligned/1230.jpg  \n",
            "  inflating: /content/dataset/avec14/image/train_Northwind/324_1_Northwind_video_aligned/1233.jpg  \n",
            "  inflating: /content/dataset/avec14/image/train_Northwind/324_1_Northwind_video_aligned/1236.jpg  \n",
            "  inflating: /content/dataset/avec14/image/train_Northwind/324_1_Northwind_video_aligned/1239.jpg  \n",
            "  inflating: /content/dataset/avec14/image/train_Northwind/324_1_Northwind_video_aligned/1242.jpg  \n",
            "  inflating: /content/dataset/avec14/image/train_Northwind/324_1_Northwind_video_aligned/1245.jpg  \n",
            "  inflating: /content/dataset/avec14/image/train_Northwind/324_1_Northwind_video_aligned/1248.jpg  \n",
            "  inflating: /content/dataset/avec14/image/train_Northwind/324_1_Northwind_video_aligned/1251.jpg  \n",
            "  inflating: /content/dataset/avec14/image/train_Northwind/324_1_Northwind_video_aligned/1254.jpg  \n",
            "  inflating: /content/dataset/avec14/image/train_Northwind/324_1_Northwind_video_aligned/1257.jpg  \n",
            "  inflating: /content/dataset/avec14/image/train_Northwind/324_1_Northwind_video_aligned/1260.jpg  \n",
            "  inflating: /content/dataset/avec14/image/train_Northwind/324_1_Northwind_video_aligned/1263.jpg  \n",
            "  inflating: /content/dataset/avec14/image/train_Northwind/324_1_Northwind_video_aligned/1266.jpg  \n",
            "  inflating: /content/dataset/avec14/image/train_Northwind/324_1_Northwind_video_aligned/1269.jpg  \n",
            "  inflating: /content/dataset/avec14/image/train_Northwind/324_1_Northwind_video_aligned/1272.jpg  \n",
            "  inflating: /content/dataset/avec14/image/train_Northwind/324_1_Northwind_video_aligned/1275.jpg  \n",
            "  inflating: /content/dataset/avec14/image/train_Northwind/324_1_Northwind_video_aligned/1278.jpg  \n",
            "  inflating: /content/dataset/avec14/image/train_Northwind/324_1_Northwind_video_aligned/1281.jpg  \n",
            "  inflating: /content/dataset/avec14/image/train_Northwind/324_1_Northwind_video_aligned/1284.jpg  \n",
            "  inflating: /content/dataset/avec14/image/train_Northwind/324_1_Northwind_video_aligned/1287.jpg  \n",
            "  inflating: /content/dataset/avec14/image/train_Northwind/324_1_Northwind_video_aligned/1290.jpg  \n",
            "  inflating: /content/dataset/avec14/image/train_Northwind/324_1_Northwind_video_aligned/1293.jpg  \n",
            "  inflating: /content/dataset/avec14/image/train_Northwind/324_1_Northwind_video_aligned/1296.jpg  \n",
            "  inflating: /content/dataset/avec14/image/train_Northwind/324_1_Northwind_video_aligned/1299.jpg  \n",
            "  inflating: /content/dataset/avec14/image/train_Northwind/324_1_Northwind_video_aligned/1302.jpg  \n",
            "  inflating: /content/dataset/avec14/image/train_Northwind/324_1_Northwind_video_aligned/1305.jpg  \n",
            "  inflating: /content/dataset/avec14/image/train_Northwind/324_1_Northwind_video_aligned/1308.jpg  \n",
            "  inflating: /content/dataset/avec14/image/train_Northwind/324_1_Northwind_video_aligned/1311.jpg  \n",
            "  inflating: /content/dataset/avec14/image/train_Northwind/324_1_Northwind_video_aligned/1314.jpg  \n",
            "  inflating: /content/dataset/avec14/image/train_Northwind/324_1_Northwind_video_aligned/1317.jpg  \n",
            "  inflating: /content/dataset/avec14/image/train_Northwind/324_1_Northwind_video_aligned/1320.jpg  \n",
            "  inflating: /content/dataset/avec14/image/train_Northwind/324_1_Northwind_video_aligned/1323.jpg  \n",
            "  inflating: /content/dataset/avec14/image/train_Northwind/324_1_Northwind_video_aligned/1326.jpg  \n",
            "  inflating: /content/dataset/avec14/image/train_Northwind/324_1_Northwind_video_aligned/1329.jpg  \n",
            "  inflating: /content/dataset/avec14/image/train_Northwind/324_1_Northwind_video_aligned/1332.jpg  \n",
            "  inflating: /content/dataset/avec14/image/train_Northwind/324_1_Northwind_video_aligned/1335.jpg  \n",
            "  inflating: /content/dataset/avec14/image/train_Northwind/324_1_Northwind_video_aligned/1338.jpg  \n",
            "  inflating: /content/dataset/avec14/image/train_Northwind/324_1_Northwind_video_aligned/1341.jpg  \n",
            "  inflating: /content/dataset/avec14/image/train_Northwind/324_1_Northwind_video_aligned/1344.jpg  \n",
            "  inflating: /content/dataset/avec14/image/train_Northwind/324_1_Northwind_video_aligned/1347.jpg  \n",
            "  inflating: /content/dataset/avec14/image/train_Northwind/324_1_Northwind_video_aligned/1350.jpg  \n",
            "  inflating: /content/dataset/avec14/image/train_Northwind/324_1_Northwind_video_aligned/1353.jpg  \n",
            "  inflating: /content/dataset/avec14/image/train_Northwind/324_1_Northwind_video_aligned/1356.jpg  \n",
            "  inflating: /content/dataset/avec14/image/train_Northwind/324_1_Northwind_video_aligned/1359.jpg  \n",
            "  inflating: /content/dataset/avec14/image/train_Northwind/324_1_Northwind_video_aligned/1362.jpg  \n",
            "  inflating: /content/dataset/avec14/image/train_Northwind/324_1_Northwind_video_aligned/1365.jpg  \n",
            "  inflating: /content/dataset/avec14/image/train_Northwind/324_1_Northwind_video_aligned/1368.jpg  \n",
            "  inflating: /content/dataset/avec14/image/train_Northwind/324_1_Northwind_video_aligned/1371.jpg  \n",
            "  inflating: /content/dataset/avec14/image/train_Northwind/324_1_Northwind_video_aligned/1374.jpg  \n",
            "  inflating: /content/dataset/avec14/image/train_Northwind/324_1_Northwind_video_aligned/1377.jpg  \n",
            "  inflating: /content/dataset/avec14/image/train_Northwind/324_1_Northwind_video_aligned/1380.jpg  \n",
            "  inflating: /content/dataset/avec14/image/train_Northwind/324_1_Northwind_video_aligned/1383.jpg  \n",
            "  inflating: /content/dataset/avec14/image/train_Northwind/324_1_Northwind_video_aligned/1386.jpg  \n",
            "  inflating: /content/dataset/avec14/image/train_Northwind/324_1_Northwind_video_aligned/1389.jpg  \n",
            "  inflating: /content/dataset/avec14/image/train_Northwind/324_1_Northwind_video_aligned/1392.jpg  \n",
            "  inflating: /content/dataset/avec14/image/train_Northwind/324_1_Northwind_video_aligned/1395.jpg  \n",
            "  inflating: /content/dataset/avec14/image/train_Northwind/324_1_Northwind_video_aligned/1398.jpg  \n",
            "  inflating: /content/dataset/avec14/image/train_Northwind/324_1_Northwind_video_aligned/1401.jpg  \n",
            "  inflating: /content/dataset/avec14/image/train_Northwind/324_1_Northwind_video_aligned/1404.jpg  \n",
            "  inflating: /content/dataset/avec14/image/train_Northwind/324_1_Northwind_video_aligned/1407.jpg  \n",
            "  inflating: /content/dataset/avec14/image/train_Northwind/324_1_Northwind_video_aligned/1410.jpg  \n",
            "  inflating: /content/dataset/avec14/image/train_Northwind/324_1_Northwind_video_aligned/1413.jpg  \n",
            "  inflating: /content/dataset/avec14/image/train_Northwind/324_1_Northwind_video_aligned/1416.jpg  \n",
            "  inflating: /content/dataset/avec14/image/train_Northwind/324_1_Northwind_video_aligned/1419.jpg  \n",
            "  inflating: /content/dataset/avec14/image/train_Northwind/324_1_Northwind_video_aligned/1422.jpg  \n",
            "  inflating: /content/dataset/avec14/image/train_Northwind/324_1_Northwind_video_aligned/1425.jpg  \n",
            "  inflating: /content/dataset/avec14/image/train_Northwind/324_1_Northwind_video_aligned/1428.jpg  \n",
            "  inflating: /content/dataset/avec14/image/train_Northwind/324_1_Northwind_video_aligned/1431.jpg  \n",
            "  inflating: /content/dataset/avec14/image/train_Northwind/324_1_Northwind_video_aligned/1434.jpg  \n",
            "  inflating: /content/dataset/avec14/image/train_Northwind/324_1_Northwind_video_aligned/1437.jpg  \n",
            "  inflating: /content/dataset/avec14/image/train_Northwind/324_1_Northwind_video_aligned/1440.jpg  \n",
            "  inflating: /content/dataset/avec14/image/train_Northwind/324_1_Northwind_video_aligned/1443.jpg  \n",
            "  inflating: /content/dataset/avec14/image/train_Northwind/324_1_Northwind_video_aligned/1446.jpg  \n",
            "  inflating: /content/dataset/avec14/image/train_Northwind/324_1_Northwind_video_aligned/1449.jpg  \n",
            "  inflating: /content/dataset/avec14/image/train_Northwind/324_1_Northwind_video_aligned/1452.jpg  \n",
            "  inflating: /content/dataset/avec14/image/train_Northwind/324_1_Northwind_video_aligned/1455.jpg  \n",
            "  inflating: /content/dataset/avec14/image/train_Northwind/324_1_Northwind_video_aligned/1458.jpg  \n",
            "  inflating: /content/dataset/avec14/image/train_Northwind/324_1_Northwind_video_aligned/1461.jpg  \n",
            "  inflating: /content/dataset/avec14/image/train_Northwind/324_1_Northwind_video_aligned/1464.jpg  \n",
            "  inflating: /content/dataset/avec14/image/train_Northwind/324_1_Northwind_video_aligned/1467.jpg  \n",
            "  inflating: /content/dataset/avec14/image/train_Northwind/324_1_Northwind_video_aligned/1470.jpg  \n",
            "  inflating: /content/dataset/avec14/image/train_Northwind/324_1_Northwind_video_aligned/1473.jpg  \n",
            "  inflating: /content/dataset/avec14/image/train_Northwind/324_1_Northwind_video_aligned/1476.jpg  \n",
            "  inflating: /content/dataset/avec14/image/train_Northwind/324_1_Northwind_video_aligned/1479.jpg  \n",
            "  inflating: /content/dataset/avec14/image/train_Northwind/324_1_Northwind_video_aligned/1482.jpg  \n",
            "  inflating: /content/dataset/avec14/image/train_Northwind/324_1_Northwind_video_aligned/1485.jpg  \n",
            "  inflating: /content/dataset/avec14/image/train_Northwind/324_1_Northwind_video_aligned/1488.jpg  \n",
            "  inflating: /content/dataset/avec14/image/train_Northwind/324_1_Northwind_video_aligned/1491.jpg  \n",
            "  inflating: /content/dataset/avec14/image/train_Northwind/324_1_Northwind_video_aligned/1494.jpg  \n",
            "  inflating: /content/dataset/avec14/image/train_Northwind/324_1_Northwind_video_aligned/1497.jpg  \n",
            "  inflating: /content/dataset/avec14/image/train_Northwind/324_1_Northwind_video_aligned/1500.jpg  \n",
            "  inflating: /content/dataset/avec14/image/train_Northwind/324_1_Northwind_video_aligned/1503.jpg  \n",
            "  inflating: /content/dataset/avec14/image/train_Northwind/324_1_Northwind_video_aligned/1506.jpg  \n",
            "  inflating: /content/dataset/avec14/image/train_Northwind/324_1_Northwind_video_aligned/1509.jpg  \n",
            "  inflating: /content/dataset/avec14/image/train_Northwind/324_1_Northwind_video_aligned/1512.jpg  \n",
            "  inflating: /content/dataset/avec14/image/train_Northwind/324_1_Northwind_video_aligned/1515.jpg  \n",
            "  inflating: /content/dataset/avec14/image/train_Northwind/324_1_Northwind_video_aligned/1518.jpg  \n",
            "  inflating: /content/dataset/avec14/image/train_Northwind/324_1_Northwind_video_aligned/1521.jpg  \n",
            "  inflating: /content/dataset/avec14/image/train_Northwind/324_1_Northwind_video_aligned/1524.jpg  \n",
            "  inflating: /content/dataset/avec14/image/train_Northwind/324_1_Northwind_video_aligned/1527.jpg  \n",
            "  inflating: /content/dataset/avec14/image/train_Northwind/324_1_Northwind_video_aligned/1530.jpg  \n",
            "  inflating: /content/dataset/avec14/image/train_Northwind/324_1_Northwind_video_aligned/1533.jpg  \n",
            "  inflating: /content/dataset/avec14/image/train_Northwind/324_1_Northwind_video_aligned/1536.jpg  \n",
            "  inflating: /content/dataset/avec14/image/train_Northwind/324_1_Northwind_video_aligned/1539.jpg  \n",
            "  inflating: /content/dataset/avec14/image/train_Northwind/324_1_Northwind_video_aligned/1542.jpg  \n",
            "  inflating: /content/dataset/avec14/image/train_Northwind/324_1_Northwind_video_aligned/1545.jpg  \n",
            "  inflating: /content/dataset/avec14/image/train_Northwind/324_1_Northwind_video_aligned/1548.jpg  \n",
            "  inflating: /content/dataset/avec14/image/train_Northwind/324_1_Northwind_video_aligned/1551.jpg  \n",
            "  inflating: /content/dataset/avec14/image/train_Northwind/324_1_Northwind_video_aligned/1554.jpg  \n",
            "  inflating: /content/dataset/avec14/image/train_Northwind/324_1_Northwind_video_aligned/1557.jpg  \n",
            "  inflating: /content/dataset/avec14/image/train_Northwind/324_1_Northwind_video_aligned/1560.jpg  \n",
            "  inflating: /content/dataset/avec14/image/train_Northwind/324_1_Northwind_video_aligned/1563.jpg  \n",
            "  inflating: /content/dataset/avec14/image/train_Northwind/324_1_Northwind_video_aligned/1566.jpg  \n",
            "  inflating: /content/dataset/avec14/image/train_Northwind/324_1_Northwind_video_aligned/1569.jpg  \n",
            "  inflating: /content/dataset/avec14/image/train_Northwind/324_1_Northwind_video_aligned/1572.jpg  \n",
            "  inflating: /content/dataset/avec14/image/train_Northwind/324_1_Northwind_video_aligned/1575.jpg  \n",
            "  inflating: /content/dataset/avec14/image/train_Northwind/324_1_Northwind_video_aligned/1578.jpg  \n",
            "  inflating: /content/dataset/avec14/image/train_Northwind/324_1_Northwind_video_aligned/1581.jpg  \n",
            "  inflating: /content/dataset/avec14/image/train_Northwind/324_1_Northwind_video_aligned/1584.jpg  \n",
            "  inflating: /content/dataset/avec14/image/train_Northwind/324_1_Northwind_video_aligned/1587.jpg  \n",
            "  inflating: /content/dataset/avec14/image/train_Northwind/324_1_Northwind_video_aligned/1590.jpg  \n",
            "  inflating: /content/dataset/avec14/image/train_Northwind/324_1_Northwind_video_aligned/1593.jpg  \n",
            "  inflating: /content/dataset/avec14/image/train_Northwind/324_1_Northwind_video_aligned/1596.jpg  \n",
            "  inflating: /content/dataset/avec14/image/train_Northwind/324_1_Northwind_video_aligned/1599.jpg  \n",
            "  inflating: /content/dataset/avec14/image/train_Northwind/324_1_Northwind_video_aligned/1602.jpg  \n",
            "  inflating: /content/dataset/avec14/image/train_Northwind/324_1_Northwind_video_aligned/1605.jpg  \n",
            "  inflating: /content/dataset/avec14/image/train_Northwind/324_1_Northwind_video_aligned/1608.jpg  \n",
            "  inflating: /content/dataset/avec14/image/train_Northwind/324_1_Northwind_video_aligned/1611.jpg  \n",
            "  inflating: /content/dataset/avec14/image/train_Northwind/324_1_Northwind_video_aligned/1614.jpg  \n",
            "  inflating: /content/dataset/avec14/image/train_Northwind/324_1_Northwind_video_aligned/1617.jpg  \n",
            "  inflating: /content/dataset/avec14/image/train_Northwind/324_1_Northwind_video_aligned/1620.jpg  \n",
            "  inflating: /content/dataset/avec14/image/train_Northwind/324_1_Northwind_video_aligned/1623.jpg  \n",
            "  inflating: /content/dataset/avec14/image/train_Northwind/324_1_Northwind_video_aligned/1626.jpg  \n",
            "  inflating: /content/dataset/avec14/image/train_Northwind/324_1_Northwind_video_aligned/1629.jpg  \n",
            "  inflating: /content/dataset/avec14/image/train_Northwind/324_1_Northwind_video_aligned/1632.jpg  \n",
            "  inflating: /content/dataset/avec14/image/train_Northwind/324_1_Northwind_video_aligned/1635.jpg  \n",
            "  inflating: /content/dataset/avec14/image/train_Northwind/324_1_Northwind_video_aligned/1638.jpg  \n",
            "  inflating: /content/dataset/avec14/image/train_Northwind/324_1_Northwind_video_aligned/1641.jpg  \n",
            "  inflating: /content/dataset/avec14/image/train_Northwind/324_1_Northwind_video_aligned/1644.jpg  \n",
            "  inflating: /content/dataset/avec14/image/train_Northwind/324_1_Northwind_video_aligned/1647.jpg  \n",
            "  inflating: /content/dataset/avec14/image/train_Northwind/324_1_Northwind_video_aligned/1650.jpg  \n",
            "  inflating: /content/dataset/avec14/image/train_Northwind/324_1_Northwind_video_aligned/1653.jpg  \n",
            "  inflating: /content/dataset/avec14/image/train_Northwind/324_1_Northwind_video_aligned/1656.jpg  \n",
            "  inflating: /content/dataset/avec14/image/train_Northwind/324_1_Northwind_video_aligned/1659.jpg  \n",
            "  inflating: /content/dataset/avec14/image/train_Northwind/324_1_Northwind_video_aligned/1662.jpg  \n",
            "  inflating: /content/dataset/avec14/image/train_Northwind/324_1_Northwind_video_aligned/1665.jpg  \n",
            "  inflating: /content/dataset/avec14/image/train_Northwind/324_1_Northwind_video_aligned/1668.jpg  \n",
            "  inflating: /content/dataset/avec14/image/train_Northwind/324_1_Northwind_video_aligned/1671.jpg  \n",
            "  inflating: /content/dataset/avec14/image/train_Northwind/324_1_Northwind_video_aligned/1674.jpg  \n",
            "  inflating: /content/dataset/avec14/image/train_Northwind/324_1_Northwind_video_aligned/1677.jpg  \n",
            "  inflating: /content/dataset/avec14/image/train_Northwind/324_1_Northwind_video_aligned/1680.jpg  \n",
            "  inflating: /content/dataset/avec14/image/train_Northwind/324_1_Northwind_video_aligned/1683.jpg  \n",
            "  inflating: /content/dataset/avec14/image/train_Northwind/324_1_Northwind_video_aligned/1686.jpg  \n",
            "  inflating: /content/dataset/avec14/image/train_Northwind/324_1_Northwind_video_aligned/1689.jpg  \n",
            "  inflating: /content/dataset/avec14/image/train_Northwind/324_1_Northwind_video_aligned/1692.jpg  \n",
            "  inflating: /content/dataset/avec14/image/train_Northwind/324_1_Northwind_video_aligned/1695.jpg  \n",
            "  inflating: /content/dataset/avec14/image/train_Northwind/324_1_Northwind_video_aligned/1698.jpg  \n",
            "  inflating: /content/dataset/avec14/image/train_Northwind/324_1_Northwind_video_aligned/1701.jpg  \n",
            "  inflating: /content/dataset/avec14/image/train_Northwind/324_1_Northwind_video_aligned/1704.jpg  \n",
            "  inflating: /content/dataset/avec14/image/train_Northwind/324_1_Northwind_video_aligned/1707.jpg  \n",
            "  inflating: /content/dataset/avec14/image/train_Northwind/324_1_Northwind_video_aligned/1710.jpg  \n",
            "  inflating: /content/dataset/avec14/image/train_Northwind/324_1_Northwind_video_aligned/1713.jpg  \n",
            "  inflating: /content/dataset/avec14/image/train_Northwind/324_1_Northwind_video_aligned/1716.jpg  \n",
            "  inflating: /content/dataset/avec14/image/train_Northwind/324_1_Northwind_video_aligned/1719.jpg  \n",
            "  inflating: /content/dataset/avec14/image/train_Northwind/324_1_Northwind_video_aligned/1722.jpg  \n",
            "  inflating: /content/dataset/avec14/image/train_Northwind/324_1_Northwind_video_aligned/1725.jpg  \n",
            "  inflating: /content/dataset/avec14/image/train_Northwind/324_1_Northwind_video_aligned/1728.jpg  \n",
            "  inflating: /content/dataset/avec14/image/train_Northwind/324_1_Northwind_video_aligned/1731.jpg  \n",
            "  inflating: /content/dataset/avec14/image/train_Northwind/324_1_Northwind_video_aligned/1734.jpg  \n",
            "  inflating: /content/dataset/avec14/image/train_Northwind/324_1_Northwind_video_aligned/1737.jpg  \n",
            "  inflating: /content/dataset/avec14/image/train_Northwind/324_1_Northwind_video_aligned/1740.jpg  \n",
            "  inflating: /content/dataset/avec14/image/train_Northwind/324_1_Northwind_video_aligned/1743.jpg  \n",
            "  inflating: /content/dataset/avec14/image/train_Northwind/324_1_Northwind_video_aligned/1746.jpg  \n",
            "  inflating: /content/dataset/avec14/image/train_Northwind/324_1_Northwind_video_aligned/1749.jpg  \n",
            "  inflating: /content/dataset/avec14/image/train_Northwind/324_1_Northwind_video_aligned/1752.jpg  \n",
            "  inflating: /content/dataset/avec14/image/train_Northwind/324_1_Northwind_video_aligned/1755.jpg  \n",
            "  inflating: /content/dataset/avec14/image/train_Northwind/324_1_Northwind_video_aligned/1758.jpg  \n",
            "  inflating: /content/dataset/avec14/image/train_Northwind/324_1_Northwind_video_aligned/1761.jpg  \n",
            "  inflating: /content/dataset/avec14/image/train_Northwind/324_1_Northwind_video_aligned/1764.jpg  \n",
            "  inflating: /content/dataset/avec14/image/train_Northwind/324_1_Northwind_video_aligned/1767.jpg  \n",
            "   creating: /content/dataset/avec14/image/train_Northwind/329_1_Northwind_video_aligned/\n",
            "  inflating: /content/dataset/avec14/image/train_Northwind/329_1_Northwind_video_aligned/0000.jpg  \n",
            "  inflating: /content/dataset/avec14/image/train_Northwind/329_1_Northwind_video_aligned/0003.jpg  \n",
            "  inflating: /content/dataset/avec14/image/train_Northwind/329_1_Northwind_video_aligned/0006.jpg  \n",
            "  inflating: /content/dataset/avec14/image/train_Northwind/329_1_Northwind_video_aligned/0009.jpg  \n",
            "  inflating: /content/dataset/avec14/image/train_Northwind/329_1_Northwind_video_aligned/0012.jpg  \n",
            "  inflating: /content/dataset/avec14/image/train_Northwind/329_1_Northwind_video_aligned/0015.jpg  \n",
            "  inflating: /content/dataset/avec14/image/train_Northwind/329_1_Northwind_video_aligned/0018.jpg  \n",
            "  inflating: /content/dataset/avec14/image/train_Northwind/329_1_Northwind_video_aligned/0021.jpg  \n",
            "  inflating: /content/dataset/avec14/image/train_Northwind/329_1_Northwind_video_aligned/0024.jpg  \n",
            "  inflating: /content/dataset/avec14/image/train_Northwind/329_1_Northwind_video_aligned/0027.jpg  \n",
            "  inflating: /content/dataset/avec14/image/train_Northwind/329_1_Northwind_video_aligned/0030.jpg  \n",
            "  inflating: /content/dataset/avec14/image/train_Northwind/329_1_Northwind_video_aligned/0033.jpg  \n",
            "  inflating: /content/dataset/avec14/image/train_Northwind/329_1_Northwind_video_aligned/0036.jpg  \n",
            "  inflating: /content/dataset/avec14/image/train_Northwind/329_1_Northwind_video_aligned/0039.jpg  \n",
            "  inflating: /content/dataset/avec14/image/train_Northwind/329_1_Northwind_video_aligned/0042.jpg  \n",
            "  inflating: /content/dataset/avec14/image/train_Northwind/329_1_Northwind_video_aligned/0045.jpg  \n",
            "  inflating: /content/dataset/avec14/image/train_Northwind/329_1_Northwind_video_aligned/0048.jpg  \n",
            "  inflating: /content/dataset/avec14/image/train_Northwind/329_1_Northwind_video_aligned/0051.jpg  \n",
            "  inflating: /content/dataset/avec14/image/train_Northwind/329_1_Northwind_video_aligned/0054.jpg  \n",
            "  inflating: /content/dataset/avec14/image/train_Northwind/329_1_Northwind_video_aligned/0057.jpg  \n",
            "  inflating: /content/dataset/avec14/image/train_Northwind/329_1_Northwind_video_aligned/0060.jpg  \n",
            "  inflating: /content/dataset/avec14/image/train_Northwind/329_1_Northwind_video_aligned/0063.jpg  \n",
            "  inflating: /content/dataset/avec14/image/train_Northwind/329_1_Northwind_video_aligned/0066.jpg  \n",
            "  inflating: /content/dataset/avec14/image/train_Northwind/329_1_Northwind_video_aligned/0069.jpg  \n",
            "  inflating: /content/dataset/avec14/image/train_Northwind/329_1_Northwind_video_aligned/0072.jpg  \n",
            "  inflating: /content/dataset/avec14/image/train_Northwind/329_1_Northwind_video_aligned/0075.jpg  \n",
            "  inflating: /content/dataset/avec14/image/train_Northwind/329_1_Northwind_video_aligned/0078.jpg  \n",
            "  inflating: /content/dataset/avec14/image/train_Northwind/329_1_Northwind_video_aligned/0081.jpg  \n",
            "  inflating: /content/dataset/avec14/image/train_Northwind/329_1_Northwind_video_aligned/0084.jpg  \n",
            "  inflating: /content/dataset/avec14/image/train_Northwind/329_1_Northwind_video_aligned/0087.jpg  \n",
            "  inflating: /content/dataset/avec14/image/train_Northwind/329_1_Northwind_video_aligned/0090.jpg  \n",
            "  inflating: /content/dataset/avec14/image/train_Northwind/329_1_Northwind_video_aligned/0093.jpg  \n",
            "  inflating: /content/dataset/avec14/image/train_Northwind/329_1_Northwind_video_aligned/0096.jpg  \n",
            "  inflating: /content/dataset/avec14/image/train_Northwind/329_1_Northwind_video_aligned/0099.jpg  \n",
            "  inflating: /content/dataset/avec14/image/train_Northwind/329_1_Northwind_video_aligned/0102.jpg  \n",
            "  inflating: /content/dataset/avec14/image/train_Northwind/329_1_Northwind_video_aligned/0105.jpg  \n",
            "  inflating: /content/dataset/avec14/image/train_Northwind/329_1_Northwind_video_aligned/0108.jpg  \n",
            "  inflating: /content/dataset/avec14/image/train_Northwind/329_1_Northwind_video_aligned/0111.jpg  \n",
            "  inflating: /content/dataset/avec14/image/train_Northwind/329_1_Northwind_video_aligned/0114.jpg  \n",
            "  inflating: /content/dataset/avec14/image/train_Northwind/329_1_Northwind_video_aligned/0117.jpg  \n",
            "  inflating: /content/dataset/avec14/image/train_Northwind/329_1_Northwind_video_aligned/0120.jpg  \n",
            "  inflating: /content/dataset/avec14/image/train_Northwind/329_1_Northwind_video_aligned/0123.jpg  \n",
            "  inflating: /content/dataset/avec14/image/train_Northwind/329_1_Northwind_video_aligned/0126.jpg  \n",
            "  inflating: /content/dataset/avec14/image/train_Northwind/329_1_Northwind_video_aligned/0129.jpg  \n",
            "  inflating: /content/dataset/avec14/image/train_Northwind/329_1_Northwind_video_aligned/0132.jpg  \n",
            "  inflating: /content/dataset/avec14/image/train_Northwind/329_1_Northwind_video_aligned/0135.jpg  \n",
            "  inflating: /content/dataset/avec14/image/train_Northwind/329_1_Northwind_video_aligned/0138.jpg  \n",
            "  inflating: /content/dataset/avec14/image/train_Northwind/329_1_Northwind_video_aligned/0141.jpg  \n",
            "  inflating: /content/dataset/avec14/image/train_Northwind/329_1_Northwind_video_aligned/0144.jpg  \n",
            "  inflating: /content/dataset/avec14/image/train_Northwind/329_1_Northwind_video_aligned/0147.jpg  \n",
            "  inflating: /content/dataset/avec14/image/train_Northwind/329_1_Northwind_video_aligned/0150.jpg  \n",
            "  inflating: /content/dataset/avec14/image/train_Northwind/329_1_Northwind_video_aligned/0153.jpg  \n",
            "  inflating: /content/dataset/avec14/image/train_Northwind/329_1_Northwind_video_aligned/0156.jpg  \n",
            "  inflating: /content/dataset/avec14/image/train_Northwind/329_1_Northwind_video_aligned/0159.jpg  \n",
            "  inflating: /content/dataset/avec14/image/train_Northwind/329_1_Northwind_video_aligned/0162.jpg  \n",
            "  inflating: /content/dataset/avec14/image/train_Northwind/329_1_Northwind_video_aligned/0165.jpg  \n",
            "  inflating: /content/dataset/avec14/image/train_Northwind/329_1_Northwind_video_aligned/0168.jpg  \n",
            "  inflating: /content/dataset/avec14/image/train_Northwind/329_1_Northwind_video_aligned/0171.jpg  \n",
            "  inflating: /content/dataset/avec14/image/train_Northwind/329_1_Northwind_video_aligned/0174.jpg  \n",
            "  inflating: /content/dataset/avec14/image/train_Northwind/329_1_Northwind_video_aligned/0177.jpg  \n",
            "  inflating: /content/dataset/avec14/image/train_Northwind/329_1_Northwind_video_aligned/0180.jpg  \n",
            "  inflating: /content/dataset/avec14/image/train_Northwind/329_1_Northwind_video_aligned/0183.jpg  \n",
            "  inflating: /content/dataset/avec14/image/train_Northwind/329_1_Northwind_video_aligned/0186.jpg  \n",
            "  inflating: /content/dataset/avec14/image/train_Northwind/329_1_Northwind_video_aligned/0189.jpg  \n",
            "  inflating: /content/dataset/avec14/image/train_Northwind/329_1_Northwind_video_aligned/0192.jpg  \n",
            "  inflating: /content/dataset/avec14/image/train_Northwind/329_1_Northwind_video_aligned/0195.jpg  \n",
            "  inflating: /content/dataset/avec14/image/train_Northwind/329_1_Northwind_video_aligned/0198.jpg  \n",
            "  inflating: /content/dataset/avec14/image/train_Northwind/329_1_Northwind_video_aligned/0201.jpg  \n",
            "  inflating: /content/dataset/avec14/image/train_Northwind/329_1_Northwind_video_aligned/0204.jpg  \n",
            "  inflating: /content/dataset/avec14/image/train_Northwind/329_1_Northwind_video_aligned/0207.jpg  \n",
            "  inflating: /content/dataset/avec14/image/train_Northwind/329_1_Northwind_video_aligned/0210.jpg  \n",
            "  inflating: /content/dataset/avec14/image/train_Northwind/329_1_Northwind_video_aligned/0213.jpg  \n",
            "  inflating: /content/dataset/avec14/image/train_Northwind/329_1_Northwind_video_aligned/0216.jpg  \n",
            "  inflating: /content/dataset/avec14/image/train_Northwind/329_1_Northwind_video_aligned/0219.jpg  \n",
            "  inflating: /content/dataset/avec14/image/train_Northwind/329_1_Northwind_video_aligned/0222.jpg  \n",
            "  inflating: /content/dataset/avec14/image/train_Northwind/329_1_Northwind_video_aligned/0225.jpg  \n",
            "  inflating: /content/dataset/avec14/image/train_Northwind/329_1_Northwind_video_aligned/0228.jpg  \n",
            "  inflating: /content/dataset/avec14/image/train_Northwind/329_1_Northwind_video_aligned/0231.jpg  \n",
            "  inflating: /content/dataset/avec14/image/train_Northwind/329_1_Northwind_video_aligned/0234.jpg  \n",
            "  inflating: /content/dataset/avec14/image/train_Northwind/329_1_Northwind_video_aligned/0237.jpg  \n",
            "  inflating: /content/dataset/avec14/image/train_Northwind/329_1_Northwind_video_aligned/0240.jpg  \n",
            "  inflating: /content/dataset/avec14/image/train_Northwind/329_1_Northwind_video_aligned/0243.jpg  \n",
            "  inflating: /content/dataset/avec14/image/train_Northwind/329_1_Northwind_video_aligned/0246.jpg  \n",
            "  inflating: /content/dataset/avec14/image/train_Northwind/329_1_Northwind_video_aligned/0249.jpg  \n",
            "  inflating: /content/dataset/avec14/image/train_Northwind/329_1_Northwind_video_aligned/0252.jpg  \n",
            "  inflating: /content/dataset/avec14/image/train_Northwind/329_1_Northwind_video_aligned/0255.jpg  \n",
            "  inflating: /content/dataset/avec14/image/train_Northwind/329_1_Northwind_video_aligned/0258.jpg  \n",
            "  inflating: /content/dataset/avec14/image/train_Northwind/329_1_Northwind_video_aligned/0261.jpg  \n",
            "  inflating: /content/dataset/avec14/image/train_Northwind/329_1_Northwind_video_aligned/0264.jpg  \n",
            "  inflating: /content/dataset/avec14/image/train_Northwind/329_1_Northwind_video_aligned/0267.jpg  \n",
            "  inflating: /content/dataset/avec14/image/train_Northwind/329_1_Northwind_video_aligned/0270.jpg  \n",
            "  inflating: /content/dataset/avec14/image/train_Northwind/329_1_Northwind_video_aligned/0273.jpg  \n",
            "  inflating: /content/dataset/avec14/image/train_Northwind/329_1_Northwind_video_aligned/0276.jpg  \n",
            "  inflating: /content/dataset/avec14/image/train_Northwind/329_1_Northwind_video_aligned/0279.jpg  \n",
            "  inflating: /content/dataset/avec14/image/train_Northwind/329_1_Northwind_video_aligned/0282.jpg  \n",
            "  inflating: /content/dataset/avec14/image/train_Northwind/329_1_Northwind_video_aligned/0285.jpg  \n",
            "  inflating: /content/dataset/avec14/image/train_Northwind/329_1_Northwind_video_aligned/0288.jpg  \n",
            "  inflating: /content/dataset/avec14/image/train_Northwind/329_1_Northwind_video_aligned/0291.jpg  \n",
            "  inflating: /content/dataset/avec14/image/train_Northwind/329_1_Northwind_video_aligned/0294.jpg  \n",
            "  inflating: /content/dataset/avec14/image/train_Northwind/329_1_Northwind_video_aligned/0297.jpg  \n",
            "  inflating: /content/dataset/avec14/image/train_Northwind/329_1_Northwind_video_aligned/0300.jpg  \n",
            "  inflating: /content/dataset/avec14/image/train_Northwind/329_1_Northwind_video_aligned/0303.jpg  \n",
            "  inflating: /content/dataset/avec14/image/train_Northwind/329_1_Northwind_video_aligned/0306.jpg  \n",
            "  inflating: /content/dataset/avec14/image/train_Northwind/329_1_Northwind_video_aligned/0309.jpg  \n",
            "  inflating: /content/dataset/avec14/image/train_Northwind/329_1_Northwind_video_aligned/0312.jpg  \n",
            "  inflating: /content/dataset/avec14/image/train_Northwind/329_1_Northwind_video_aligned/0315.jpg  \n",
            "  inflating: /content/dataset/avec14/image/train_Northwind/329_1_Northwind_video_aligned/0318.jpg  \n",
            "  inflating: /content/dataset/avec14/image/train_Northwind/329_1_Northwind_video_aligned/0321.jpg  \n",
            "  inflating: /content/dataset/avec14/image/train_Northwind/329_1_Northwind_video_aligned/0324.jpg  \n",
            "  inflating: /content/dataset/avec14/image/train_Northwind/329_1_Northwind_video_aligned/0327.jpg  \n",
            "  inflating: /content/dataset/avec14/image/train_Northwind/329_1_Northwind_video_aligned/0330.jpg  \n",
            "  inflating: /content/dataset/avec14/image/train_Northwind/329_1_Northwind_video_aligned/0333.jpg  \n",
            "  inflating: /content/dataset/avec14/image/train_Northwind/329_1_Northwind_video_aligned/0336.jpg  \n",
            "  inflating: /content/dataset/avec14/image/train_Northwind/329_1_Northwind_video_aligned/0339.jpg  \n",
            "  inflating: /content/dataset/avec14/image/train_Northwind/329_1_Northwind_video_aligned/0342.jpg  \n",
            "  inflating: /content/dataset/avec14/image/train_Northwind/329_1_Northwind_video_aligned/0345.jpg  \n",
            "  inflating: /content/dataset/avec14/image/train_Northwind/329_1_Northwind_video_aligned/0348.jpg  \n",
            "  inflating: /content/dataset/avec14/image/train_Northwind/329_1_Northwind_video_aligned/0351.jpg  \n",
            "  inflating: /content/dataset/avec14/image/train_Northwind/329_1_Northwind_video_aligned/0354.jpg  \n",
            "  inflating: /content/dataset/avec14/image/train_Northwind/329_1_Northwind_video_aligned/0357.jpg  \n",
            "  inflating: /content/dataset/avec14/image/train_Northwind/329_1_Northwind_video_aligned/0360.jpg  \n",
            "  inflating: /content/dataset/avec14/image/train_Northwind/329_1_Northwind_video_aligned/0363.jpg  \n",
            "  inflating: /content/dataset/avec14/image/train_Northwind/329_1_Northwind_video_aligned/0366.jpg  \n",
            "  inflating: /content/dataset/avec14/image/train_Northwind/329_1_Northwind_video_aligned/0369.jpg  \n",
            "  inflating: /content/dataset/avec14/image/train_Northwind/329_1_Northwind_video_aligned/0372.jpg  \n",
            "  inflating: /content/dataset/avec14/image/train_Northwind/329_1_Northwind_video_aligned/0375.jpg  \n",
            "  inflating: /content/dataset/avec14/image/train_Northwind/329_1_Northwind_video_aligned/0378.jpg  \n",
            "  inflating: /content/dataset/avec14/image/train_Northwind/329_1_Northwind_video_aligned/0381.jpg  \n",
            "  inflating: /content/dataset/avec14/image/train_Northwind/329_1_Northwind_video_aligned/0384.jpg  \n",
            "  inflating: /content/dataset/avec14/image/train_Northwind/329_1_Northwind_video_aligned/0387.jpg  \n",
            "  inflating: /content/dataset/avec14/image/train_Northwind/329_1_Northwind_video_aligned/0390.jpg  \n",
            "  inflating: /content/dataset/avec14/image/train_Northwind/329_1_Northwind_video_aligned/0393.jpg  \n",
            "  inflating: /content/dataset/avec14/image/train_Northwind/329_1_Northwind_video_aligned/0396.jpg  \n",
            "  inflating: /content/dataset/avec14/image/train_Northwind/329_1_Northwind_video_aligned/0399.jpg  \n",
            "  inflating: /content/dataset/avec14/image/train_Northwind/329_1_Northwind_video_aligned/0402.jpg  \n",
            "  inflating: /content/dataset/avec14/image/train_Northwind/329_1_Northwind_video_aligned/0405.jpg  \n",
            "  inflating: /content/dataset/avec14/image/train_Northwind/329_1_Northwind_video_aligned/0408.jpg  \n",
            "  inflating: /content/dataset/avec14/image/train_Northwind/329_1_Northwind_video_aligned/0411.jpg  \n",
            "  inflating: /content/dataset/avec14/image/train_Northwind/329_1_Northwind_video_aligned/0414.jpg  \n",
            "  inflating: /content/dataset/avec14/image/train_Northwind/329_1_Northwind_video_aligned/0417.jpg  \n",
            "  inflating: /content/dataset/avec14/image/train_Northwind/329_1_Northwind_video_aligned/0420.jpg  \n",
            "  inflating: /content/dataset/avec14/image/train_Northwind/329_1_Northwind_video_aligned/0423.jpg  \n",
            "  inflating: /content/dataset/avec14/image/train_Northwind/329_1_Northwind_video_aligned/0426.jpg  \n",
            "  inflating: /content/dataset/avec14/image/train_Northwind/329_1_Northwind_video_aligned/0429.jpg  \n",
            "  inflating: /content/dataset/avec14/image/train_Northwind/329_1_Northwind_video_aligned/0432.jpg  \n",
            "  inflating: /content/dataset/avec14/image/train_Northwind/329_1_Northwind_video_aligned/0435.jpg  \n",
            "  inflating: /content/dataset/avec14/image/train_Northwind/329_1_Northwind_video_aligned/0438.jpg  \n",
            "  inflating: /content/dataset/avec14/image/train_Northwind/329_1_Northwind_video_aligned/0441.jpg  \n",
            "  inflating: /content/dataset/avec14/image/train_Northwind/329_1_Northwind_video_aligned/0444.jpg  \n",
            "  inflating: /content/dataset/avec14/image/train_Northwind/329_1_Northwind_video_aligned/0447.jpg  \n",
            "  inflating: /content/dataset/avec14/image/train_Northwind/329_1_Northwind_video_aligned/0450.jpg  \n",
            "  inflating: /content/dataset/avec14/image/train_Northwind/329_1_Northwind_video_aligned/0453.jpg  \n",
            "  inflating: /content/dataset/avec14/image/train_Northwind/329_1_Northwind_video_aligned/0456.jpg  \n",
            "  inflating: /content/dataset/avec14/image/train_Northwind/329_1_Northwind_video_aligned/0459.jpg  \n",
            "  inflating: /content/dataset/avec14/image/train_Northwind/329_1_Northwind_video_aligned/0462.jpg  \n",
            "  inflating: /content/dataset/avec14/image/train_Northwind/329_1_Northwind_video_aligned/0465.jpg  \n",
            "  inflating: /content/dataset/avec14/image/train_Northwind/329_1_Northwind_video_aligned/0468.jpg  \n",
            "  inflating: /content/dataset/avec14/image/train_Northwind/329_1_Northwind_video_aligned/0471.jpg  \n",
            "  inflating: /content/dataset/avec14/image/train_Northwind/329_1_Northwind_video_aligned/0474.jpg  \n",
            "  inflating: /content/dataset/avec14/image/train_Northwind/329_1_Northwind_video_aligned/0477.jpg  \n",
            "  inflating: /content/dataset/avec14/image/train_Northwind/329_1_Northwind_video_aligned/0480.jpg  \n",
            "  inflating: /content/dataset/avec14/image/train_Northwind/329_1_Northwind_video_aligned/0483.jpg  \n",
            "  inflating: /content/dataset/avec14/image/train_Northwind/329_1_Northwind_video_aligned/0486.jpg  \n",
            "  inflating: /content/dataset/avec14/image/train_Northwind/329_1_Northwind_video_aligned/0489.jpg  \n",
            "  inflating: /content/dataset/avec14/image/train_Northwind/329_1_Northwind_video_aligned/0492.jpg  \n",
            "  inflating: /content/dataset/avec14/image/train_Northwind/329_1_Northwind_video_aligned/0495.jpg  \n",
            "  inflating: /content/dataset/avec14/image/train_Northwind/329_1_Northwind_video_aligned/0498.jpg  \n",
            "  inflating: /content/dataset/avec14/image/train_Northwind/329_1_Northwind_video_aligned/0501.jpg  \n",
            "  inflating: /content/dataset/avec14/image/train_Northwind/329_1_Northwind_video_aligned/0504.jpg  \n",
            "  inflating: /content/dataset/avec14/image/train_Northwind/329_1_Northwind_video_aligned/0507.jpg  \n",
            "  inflating: /content/dataset/avec14/image/train_Northwind/329_1_Northwind_video_aligned/0510.jpg  \n",
            "  inflating: /content/dataset/avec14/image/train_Northwind/329_1_Northwind_video_aligned/0513.jpg  \n",
            "  inflating: /content/dataset/avec14/image/train_Northwind/329_1_Northwind_video_aligned/0516.jpg  \n",
            "  inflating: /content/dataset/avec14/image/train_Northwind/329_1_Northwind_video_aligned/0519.jpg  \n",
            "  inflating: /content/dataset/avec14/image/train_Northwind/329_1_Northwind_video_aligned/0522.jpg  \n",
            "  inflating: /content/dataset/avec14/image/train_Northwind/329_1_Northwind_video_aligned/0525.jpg  \n",
            "  inflating: /content/dataset/avec14/image/train_Northwind/329_1_Northwind_video_aligned/0528.jpg  \n",
            "  inflating: /content/dataset/avec14/image/train_Northwind/329_1_Northwind_video_aligned/0531.jpg  \n",
            "  inflating: /content/dataset/avec14/image/train_Northwind/329_1_Northwind_video_aligned/0534.jpg  \n",
            "  inflating: /content/dataset/avec14/image/train_Northwind/329_1_Northwind_video_aligned/0537.jpg  \n",
            "  inflating: /content/dataset/avec14/image/train_Northwind/329_1_Northwind_video_aligned/0540.jpg  \n",
            "  inflating: /content/dataset/avec14/image/train_Northwind/329_1_Northwind_video_aligned/0543.jpg  \n",
            "  inflating: /content/dataset/avec14/image/train_Northwind/329_1_Northwind_video_aligned/0546.jpg  \n",
            "  inflating: /content/dataset/avec14/image/train_Northwind/329_1_Northwind_video_aligned/0549.jpg  \n",
            "  inflating: /content/dataset/avec14/image/train_Northwind/329_1_Northwind_video_aligned/0552.jpg  \n",
            "  inflating: /content/dataset/avec14/image/train_Northwind/329_1_Northwind_video_aligned/0555.jpg  \n",
            "  inflating: /content/dataset/avec14/image/train_Northwind/329_1_Northwind_video_aligned/0558.jpg  \n",
            "  inflating: /content/dataset/avec14/image/train_Northwind/329_1_Northwind_video_aligned/0561.jpg  \n",
            "  inflating: /content/dataset/avec14/image/train_Northwind/329_1_Northwind_video_aligned/0564.jpg  \n",
            "  inflating: /content/dataset/avec14/image/train_Northwind/329_1_Northwind_video_aligned/0567.jpg  \n",
            "  inflating: /content/dataset/avec14/image/train_Northwind/329_1_Northwind_video_aligned/0570.jpg  \n",
            "  inflating: /content/dataset/avec14/image/train_Northwind/329_1_Northwind_video_aligned/0573.jpg  \n",
            "  inflating: /content/dataset/avec14/image/train_Northwind/329_1_Northwind_video_aligned/0576.jpg  \n",
            "  inflating: /content/dataset/avec14/image/train_Northwind/329_1_Northwind_video_aligned/0579.jpg  \n",
            "  inflating: /content/dataset/avec14/image/train_Northwind/329_1_Northwind_video_aligned/0582.jpg  \n",
            "  inflating: /content/dataset/avec14/image/train_Northwind/329_1_Northwind_video_aligned/0585.jpg  \n",
            "  inflating: /content/dataset/avec14/image/train_Northwind/329_1_Northwind_video_aligned/0588.jpg  \n",
            "  inflating: /content/dataset/avec14/image/train_Northwind/329_1_Northwind_video_aligned/0591.jpg  \n",
            "  inflating: /content/dataset/avec14/image/train_Northwind/329_1_Northwind_video_aligned/0594.jpg  \n",
            "  inflating: /content/dataset/avec14/image/train_Northwind/329_1_Northwind_video_aligned/0597.jpg  \n",
            "  inflating: /content/dataset/avec14/image/train_Northwind/329_1_Northwind_video_aligned/0600.jpg  \n",
            "  inflating: /content/dataset/avec14/image/train_Northwind/329_1_Northwind_video_aligned/0603.jpg  \n",
            "  inflating: /content/dataset/avec14/image/train_Northwind/329_1_Northwind_video_aligned/0606.jpg  \n",
            "  inflating: /content/dataset/avec14/image/train_Northwind/329_1_Northwind_video_aligned/0609.jpg  \n",
            "  inflating: /content/dataset/avec14/image/train_Northwind/329_1_Northwind_video_aligned/0612.jpg  \n",
            "  inflating: /content/dataset/avec14/image/train_Northwind/329_1_Northwind_video_aligned/0615.jpg  \n",
            "  inflating: /content/dataset/avec14/image/train_Northwind/329_1_Northwind_video_aligned/0618.jpg  \n",
            "  inflating: /content/dataset/avec14/image/train_Northwind/329_1_Northwind_video_aligned/0621.jpg  \n",
            "  inflating: /content/dataset/avec14/image/train_Northwind/329_1_Northwind_video_aligned/0624.jpg  \n",
            "  inflating: /content/dataset/avec14/image/train_Northwind/329_1_Northwind_video_aligned/0627.jpg  \n",
            "  inflating: /content/dataset/avec14/image/train_Northwind/329_1_Northwind_video_aligned/0630.jpg  \n",
            "  inflating: /content/dataset/avec14/image/train_Northwind/329_1_Northwind_video_aligned/0633.jpg  \n",
            "  inflating: /content/dataset/avec14/image/train_Northwind/329_1_Northwind_video_aligned/0636.jpg  \n",
            "  inflating: /content/dataset/avec14/image/train_Northwind/329_1_Northwind_video_aligned/0639.jpg  \n",
            "  inflating: /content/dataset/avec14/image/train_Northwind/329_1_Northwind_video_aligned/0642.jpg  \n",
            "  inflating: /content/dataset/avec14/image/train_Northwind/329_1_Northwind_video_aligned/0645.jpg  \n",
            "  inflating: /content/dataset/avec14/image/train_Northwind/329_1_Northwind_video_aligned/0648.jpg  \n",
            "  inflating: /content/dataset/avec14/image/train_Northwind/329_1_Northwind_video_aligned/0651.jpg  \n",
            "  inflating: /content/dataset/avec14/image/train_Northwind/329_1_Northwind_video_aligned/0654.jpg  \n",
            "  inflating: /content/dataset/avec14/image/train_Northwind/329_1_Northwind_video_aligned/0657.jpg  \n",
            "  inflating: /content/dataset/avec14/image/train_Northwind/329_1_Northwind_video_aligned/0660.jpg  \n",
            "  inflating: /content/dataset/avec14/image/train_Northwind/329_1_Northwind_video_aligned/0663.jpg  \n",
            "  inflating: /content/dataset/avec14/image/train_Northwind/329_1_Northwind_video_aligned/0666.jpg  \n",
            "  inflating: /content/dataset/avec14/image/train_Northwind/329_1_Northwind_video_aligned/0669.jpg  \n",
            "  inflating: /content/dataset/avec14/image/train_Northwind/329_1_Northwind_video_aligned/0672.jpg  \n",
            "  inflating: /content/dataset/avec14/image/train_Northwind/329_1_Northwind_video_aligned/0675.jpg  \n",
            "  inflating: /content/dataset/avec14/image/train_Northwind/329_1_Northwind_video_aligned/0678.jpg  \n",
            "  inflating: /content/dataset/avec14/image/train_Northwind/329_1_Northwind_video_aligned/0681.jpg  \n",
            "  inflating: /content/dataset/avec14/image/train_Northwind/329_1_Northwind_video_aligned/0684.jpg  \n",
            "  inflating: /content/dataset/avec14/image/train_Northwind/329_1_Northwind_video_aligned/0687.jpg  \n",
            "  inflating: /content/dataset/avec14/image/train_Northwind/329_1_Northwind_video_aligned/0690.jpg  \n",
            "  inflating: /content/dataset/avec14/image/train_Northwind/329_1_Northwind_video_aligned/0693.jpg  \n",
            "  inflating: /content/dataset/avec14/image/train_Northwind/329_1_Northwind_video_aligned/0696.jpg  \n",
            "  inflating: /content/dataset/avec14/image/train_Northwind/329_1_Northwind_video_aligned/0699.jpg  \n",
            "  inflating: /content/dataset/avec14/image/train_Northwind/329_1_Northwind_video_aligned/0702.jpg  \n",
            "  inflating: /content/dataset/avec14/image/train_Northwind/329_1_Northwind_video_aligned/0705.jpg  \n",
            "  inflating: /content/dataset/avec14/image/train_Northwind/329_1_Northwind_video_aligned/0708.jpg  \n",
            "  inflating: /content/dataset/avec14/image/train_Northwind/329_1_Northwind_video_aligned/0711.jpg  \n",
            "  inflating: /content/dataset/avec14/image/train_Northwind/329_1_Northwind_video_aligned/0714.jpg  \n",
            "  inflating: /content/dataset/avec14/image/train_Northwind/329_1_Northwind_video_aligned/0717.jpg  \n",
            "  inflating: /content/dataset/avec14/image/train_Northwind/329_1_Northwind_video_aligned/0720.jpg  \n",
            "  inflating: /content/dataset/avec14/image/train_Northwind/329_1_Northwind_video_aligned/0723.jpg  \n",
            "  inflating: /content/dataset/avec14/image/train_Northwind/329_1_Northwind_video_aligned/0726.jpg  \n",
            "  inflating: /content/dataset/avec14/image/train_Northwind/329_1_Northwind_video_aligned/0729.jpg  \n",
            "  inflating: /content/dataset/avec14/image/train_Northwind/329_1_Northwind_video_aligned/0732.jpg  \n",
            "  inflating: /content/dataset/avec14/image/train_Northwind/329_1_Northwind_video_aligned/0735.jpg  \n",
            "  inflating: /content/dataset/avec14/image/train_Northwind/329_1_Northwind_video_aligned/0738.jpg  \n",
            "  inflating: /content/dataset/avec14/image/train_Northwind/329_1_Northwind_video_aligned/0741.jpg  \n",
            "  inflating: /content/dataset/avec14/image/train_Northwind/329_1_Northwind_video_aligned/0744.jpg  \n",
            "  inflating: /content/dataset/avec14/image/train_Northwind/329_1_Northwind_video_aligned/0747.jpg  \n",
            "  inflating: /content/dataset/avec14/image/train_Northwind/329_1_Northwind_video_aligned/0750.jpg  \n",
            "  inflating: /content/dataset/avec14/image/train_Northwind/329_1_Northwind_video_aligned/0753.jpg  \n",
            "  inflating: /content/dataset/avec14/image/train_Northwind/329_1_Northwind_video_aligned/0756.jpg  \n",
            "  inflating: /content/dataset/avec14/image/train_Northwind/329_1_Northwind_video_aligned/0759.jpg  \n",
            "  inflating: /content/dataset/avec14/image/train_Northwind/329_1_Northwind_video_aligned/0762.jpg  \n",
            "  inflating: /content/dataset/avec14/image/train_Northwind/329_1_Northwind_video_aligned/0765.jpg  \n",
            "  inflating: /content/dataset/avec14/image/train_Northwind/329_1_Northwind_video_aligned/0768.jpg  \n",
            "  inflating: /content/dataset/avec14/image/train_Northwind/329_1_Northwind_video_aligned/0771.jpg  \n",
            "  inflating: /content/dataset/avec14/image/train_Northwind/329_1_Northwind_video_aligned/0774.jpg  \n",
            "  inflating: /content/dataset/avec14/image/train_Northwind/329_1_Northwind_video_aligned/0777.jpg  \n",
            "  inflating: /content/dataset/avec14/image/train_Northwind/329_1_Northwind_video_aligned/0780.jpg  \n",
            "  inflating: /content/dataset/avec14/image/train_Northwind/329_1_Northwind_video_aligned/0783.jpg  \n",
            "  inflating: /content/dataset/avec14/image/train_Northwind/329_1_Northwind_video_aligned/0786.jpg  \n",
            "  inflating: /content/dataset/avec14/image/train_Northwind/329_1_Northwind_video_aligned/0789.jpg  \n",
            "  inflating: /content/dataset/avec14/image/train_Northwind/329_1_Northwind_video_aligned/0792.jpg  \n",
            "  inflating: /content/dataset/avec14/image/train_Northwind/329_1_Northwind_video_aligned/0795.jpg  \n",
            "  inflating: /content/dataset/avec14/image/train_Northwind/329_1_Northwind_video_aligned/0798.jpg  \n",
            "  inflating: /content/dataset/avec14/image/train_Northwind/329_1_Northwind_video_aligned/0801.jpg  \n",
            "  inflating: /content/dataset/avec14/image/train_Northwind/329_1_Northwind_video_aligned/0804.jpg  \n",
            "  inflating: /content/dataset/avec14/image/train_Northwind/329_1_Northwind_video_aligned/0807.jpg  \n",
            "  inflating: /content/dataset/avec14/image/train_Northwind/329_1_Northwind_video_aligned/0810.jpg  \n",
            "  inflating: /content/dataset/avec14/image/train_Northwind/329_1_Northwind_video_aligned/0813.jpg  \n",
            "  inflating: /content/dataset/avec14/image/train_Northwind/329_1_Northwind_video_aligned/0816.jpg  \n",
            "  inflating: /content/dataset/avec14/image/train_Northwind/329_1_Northwind_video_aligned/0819.jpg  \n",
            "  inflating: /content/dataset/avec14/image/train_Northwind/329_1_Northwind_video_aligned/0822.jpg  \n",
            "  inflating: /content/dataset/avec14/image/train_Northwind/329_1_Northwind_video_aligned/0825.jpg  \n",
            "  inflating: /content/dataset/avec14/image/train_Northwind/329_1_Northwind_video_aligned/0828.jpg  \n",
            "  inflating: /content/dataset/avec14/image/train_Northwind/329_1_Northwind_video_aligned/0831.jpg  \n",
            "  inflating: /content/dataset/avec14/image/train_Northwind/329_1_Northwind_video_aligned/0834.jpg  \n",
            "  inflating: /content/dataset/avec14/image/train_Northwind/329_1_Northwind_video_aligned/0837.jpg  \n",
            "  inflating: /content/dataset/avec14/image/train_Northwind/329_1_Northwind_video_aligned/0840.jpg  \n",
            "  inflating: /content/dataset/avec14/image/train_Northwind/329_1_Northwind_video_aligned/0843.jpg  \n",
            "  inflating: /content/dataset/avec14/image/train_Northwind/329_1_Northwind_video_aligned/0846.jpg  \n",
            "  inflating: /content/dataset/avec14/image/train_Northwind/329_1_Northwind_video_aligned/0849.jpg  \n",
            "  inflating: /content/dataset/avec14/image/train_Northwind/329_1_Northwind_video_aligned/0852.jpg  \n",
            "  inflating: /content/dataset/avec14/image/train_Northwind/329_1_Northwind_video_aligned/0855.jpg  \n",
            "  inflating: /content/dataset/avec14/image/train_Northwind/329_1_Northwind_video_aligned/0858.jpg  \n",
            "  inflating: /content/dataset/avec14/image/train_Northwind/329_1_Northwind_video_aligned/0861.jpg  \n",
            "  inflating: /content/dataset/avec14/image/train_Northwind/329_1_Northwind_video_aligned/0864.jpg  \n",
            "  inflating: /content/dataset/avec14/image/train_Northwind/329_1_Northwind_video_aligned/0867.jpg  \n",
            "  inflating: /content/dataset/avec14/image/train_Northwind/329_1_Northwind_video_aligned/0870.jpg  \n",
            "  inflating: /content/dataset/avec14/image/train_Northwind/329_1_Northwind_video_aligned/0873.jpg  \n",
            "  inflating: /content/dataset/avec14/image/train_Northwind/329_1_Northwind_video_aligned/0876.jpg  \n",
            "  inflating: /content/dataset/avec14/image/train_Northwind/329_1_Northwind_video_aligned/0879.jpg  \n",
            "  inflating: /content/dataset/avec14/image/train_Northwind/329_1_Northwind_video_aligned/0882.jpg  \n",
            "  inflating: /content/dataset/avec14/image/train_Northwind/329_1_Northwind_video_aligned/0885.jpg  \n",
            "  inflating: /content/dataset/avec14/image/train_Northwind/329_1_Northwind_video_aligned/0888.jpg  \n",
            "  inflating: /content/dataset/avec14/image/train_Northwind/329_1_Northwind_video_aligned/0891.jpg  \n",
            "  inflating: /content/dataset/avec14/image/train_Northwind/329_1_Northwind_video_aligned/0894.jpg  \n",
            "  inflating: /content/dataset/avec14/image/train_Northwind/329_1_Northwind_video_aligned/0897.jpg  \n",
            "  inflating: /content/dataset/avec14/image/train_Northwind/329_1_Northwind_video_aligned/0900.jpg  \n",
            "  inflating: /content/dataset/avec14/image/train_Northwind/329_1_Northwind_video_aligned/0903.jpg  \n",
            "  inflating: /content/dataset/avec14/image/train_Northwind/329_1_Northwind_video_aligned/0906.jpg  \n",
            "  inflating: /content/dataset/avec14/image/train_Northwind/329_1_Northwind_video_aligned/0909.jpg  \n",
            "  inflating: /content/dataset/avec14/image/train_Northwind/329_1_Northwind_video_aligned/0912.jpg  \n",
            "  inflating: /content/dataset/avec14/image/train_Northwind/329_1_Northwind_video_aligned/0915.jpg  \n",
            "  inflating: /content/dataset/avec14/image/train_Northwind/329_1_Northwind_video_aligned/0918.jpg  \n",
            "  inflating: /content/dataset/avec14/image/train_Northwind/329_1_Northwind_video_aligned/0921.jpg  \n",
            "  inflating: /content/dataset/avec14/image/train_Northwind/329_1_Northwind_video_aligned/0924.jpg  \n",
            "  inflating: /content/dataset/avec14/image/train_Northwind/329_1_Northwind_video_aligned/0927.jpg  \n",
            "  inflating: /content/dataset/avec14/image/train_Northwind/329_1_Northwind_video_aligned/0930.jpg  \n",
            "  inflating: /content/dataset/avec14/image/train_Northwind/329_1_Northwind_video_aligned/0933.jpg  \n",
            "  inflating: /content/dataset/avec14/image/train_Northwind/329_1_Northwind_video_aligned/0936.jpg  \n",
            "  inflating: /content/dataset/avec14/image/train_Northwind/329_1_Northwind_video_aligned/0939.jpg  \n",
            "  inflating: /content/dataset/avec14/image/train_Northwind/329_1_Northwind_video_aligned/0942.jpg  \n",
            "  inflating: /content/dataset/avec14/image/train_Northwind/329_1_Northwind_video_aligned/0945.jpg  \n",
            "  inflating: /content/dataset/avec14/image/train_Northwind/329_1_Northwind_video_aligned/0948.jpg  \n",
            "  inflating: /content/dataset/avec14/image/train_Northwind/329_1_Northwind_video_aligned/0951.jpg  \n",
            "  inflating: /content/dataset/avec14/image/train_Northwind/329_1_Northwind_video_aligned/0954.jpg  \n",
            "  inflating: /content/dataset/avec14/image/train_Northwind/329_1_Northwind_video_aligned/0957.jpg  \n",
            "  inflating: /content/dataset/avec14/image/train_Northwind/329_1_Northwind_video_aligned/0960.jpg  \n",
            "  inflating: /content/dataset/avec14/image/train_Northwind/329_1_Northwind_video_aligned/0963.jpg  \n",
            "  inflating: /content/dataset/avec14/image/train_Northwind/329_1_Northwind_video_aligned/0966.jpg  \n",
            "  inflating: /content/dataset/avec14/image/train_Northwind/329_1_Northwind_video_aligned/0969.jpg  \n",
            "  inflating: /content/dataset/avec14/image/train_Northwind/329_1_Northwind_video_aligned/0972.jpg  \n",
            "  inflating: /content/dataset/avec14/image/train_Northwind/329_1_Northwind_video_aligned/0975.jpg  \n",
            "  inflating: /content/dataset/avec14/image/train_Northwind/329_1_Northwind_video_aligned/0978.jpg  \n",
            "  inflating: /content/dataset/avec14/image/train_Northwind/329_1_Northwind_video_aligned/0981.jpg  \n",
            "  inflating: /content/dataset/avec14/image/train_Northwind/329_1_Northwind_video_aligned/0984.jpg  \n",
            "  inflating: /content/dataset/avec14/image/train_Northwind/329_1_Northwind_video_aligned/0987.jpg  \n",
            "  inflating: /content/dataset/avec14/image/train_Northwind/329_1_Northwind_video_aligned/0990.jpg  \n",
            "  inflating: /content/dataset/avec14/image/train_Northwind/329_1_Northwind_video_aligned/0993.jpg  \n",
            "  inflating: /content/dataset/avec14/image/train_Northwind/329_1_Northwind_video_aligned/0996.jpg  \n",
            "  inflating: /content/dataset/avec14/image/train_Northwind/329_1_Northwind_video_aligned/0999.jpg  \n",
            "  inflating: /content/dataset/avec14/image/train_Northwind/329_1_Northwind_video_aligned/1002.jpg  \n",
            "  inflating: /content/dataset/avec14/image/train_Northwind/329_1_Northwind_video_aligned/1005.jpg  \n",
            "  inflating: /content/dataset/avec14/image/train_Northwind/329_1_Northwind_video_aligned/1008.jpg  \n",
            "  inflating: /content/dataset/avec14/image/train_Northwind/329_1_Northwind_video_aligned/1011.jpg  \n",
            "  inflating: /content/dataset/avec14/image/train_Northwind/329_1_Northwind_video_aligned/1014.jpg  \n",
            "  inflating: /content/dataset/avec14/image/train_Northwind/329_1_Northwind_video_aligned/1017.jpg  \n",
            "  inflating: /content/dataset/avec14/image/train_Northwind/329_1_Northwind_video_aligned/1020.jpg  \n",
            "  inflating: /content/dataset/avec14/image/train_Northwind/329_1_Northwind_video_aligned/1023.jpg  \n",
            "  inflating: /content/dataset/avec14/image/train_Northwind/329_1_Northwind_video_aligned/1026.jpg  \n",
            "  inflating: /content/dataset/avec14/image/train_Northwind/329_1_Northwind_video_aligned/1029.jpg  \n",
            "  inflating: /content/dataset/avec14/image/train_Northwind/329_1_Northwind_video_aligned/1032.jpg  \n",
            "  inflating: /content/dataset/avec14/image/train_Northwind/329_1_Northwind_video_aligned/1035.jpg  \n",
            "  inflating: /content/dataset/avec14/image/train_Northwind/329_1_Northwind_video_aligned/1038.jpg  \n",
            "  inflating: /content/dataset/avec14/image/train_Northwind/329_1_Northwind_video_aligned/1041.jpg  \n",
            "  inflating: /content/dataset/avec14/image/train_Northwind/329_1_Northwind_video_aligned/1044.jpg  \n",
            "  inflating: /content/dataset/avec14/image/train_Northwind/329_1_Northwind_video_aligned/1047.jpg  \n",
            "  inflating: /content/dataset/avec14/image/train_Northwind/329_1_Northwind_video_aligned/1050.jpg  \n",
            "  inflating: /content/dataset/avec14/image/train_Northwind/329_1_Northwind_video_aligned/1053.jpg  \n",
            "  inflating: /content/dataset/avec14/image/train_Northwind/329_1_Northwind_video_aligned/1056.jpg  \n",
            "  inflating: /content/dataset/avec14/image/train_Northwind/329_1_Northwind_video_aligned/1059.jpg  \n",
            "  inflating: /content/dataset/avec14/image/train_Northwind/329_1_Northwind_video_aligned/1062.jpg  \n",
            "  inflating: /content/dataset/avec14/image/train_Northwind/329_1_Northwind_video_aligned/1065.jpg  \n",
            "  inflating: /content/dataset/avec14/image/train_Northwind/329_1_Northwind_video_aligned/1068.jpg  \n",
            "  inflating: /content/dataset/avec14/image/train_Northwind/329_1_Northwind_video_aligned/1071.jpg  \n",
            "  inflating: /content/dataset/avec14/image/train_Northwind/329_1_Northwind_video_aligned/1074.jpg  \n",
            "  inflating: /content/dataset/avec14/image/train_Northwind/329_1_Northwind_video_aligned/1077.jpg  \n",
            "  inflating: /content/dataset/avec14/image/train_Northwind/329_1_Northwind_video_aligned/1080.jpg  \n",
            "  inflating: /content/dataset/avec14/image/train_Northwind/329_1_Northwind_video_aligned/1083.jpg  \n",
            "  inflating: /content/dataset/avec14/image/train_Northwind/329_1_Northwind_video_aligned/1086.jpg  \n",
            "  inflating: /content/dataset/avec14/image/train_Northwind/329_1_Northwind_video_aligned/1089.jpg  \n",
            "  inflating: /content/dataset/avec14/image/train_Northwind/329_1_Northwind_video_aligned/1092.jpg  \n",
            "  inflating: /content/dataset/avec14/image/train_Northwind/329_1_Northwind_video_aligned/1095.jpg  \n",
            "  inflating: /content/dataset/avec14/image/train_Northwind/329_1_Northwind_video_aligned/1098.jpg  \n",
            "  inflating: /content/dataset/avec14/image/train_Northwind/329_1_Northwind_video_aligned/1101.jpg  \n",
            "  inflating: /content/dataset/avec14/image/train_Northwind/329_1_Northwind_video_aligned/1104.jpg  \n",
            "  inflating: /content/dataset/avec14/image/train_Northwind/329_1_Northwind_video_aligned/1107.jpg  \n",
            "  inflating: /content/dataset/avec14/image/train_Northwind/329_1_Northwind_video_aligned/1110.jpg  \n",
            "  inflating: /content/dataset/avec14/image/train_Northwind/329_1_Northwind_video_aligned/1113.jpg  \n",
            "  inflating: /content/dataset/avec14/image/train_Northwind/329_1_Northwind_video_aligned/1116.jpg  \n",
            "  inflating: /content/dataset/avec14/image/train_Northwind/329_1_Northwind_video_aligned/1119.jpg  \n",
            "  inflating: /content/dataset/avec14/image/train_Northwind/329_1_Northwind_video_aligned/1122.jpg  \n",
            "  inflating: /content/dataset/avec14/image/train_Northwind/329_1_Northwind_video_aligned/1125.jpg  \n",
            "  inflating: /content/dataset/avec14/image/train_Northwind/329_1_Northwind_video_aligned/1128.jpg  \n",
            "  inflating: /content/dataset/avec14/image/train_Northwind/329_1_Northwind_video_aligned/1131.jpg  \n",
            "  inflating: /content/dataset/avec14/image/train_Northwind/329_1_Northwind_video_aligned/1134.jpg  \n",
            "  inflating: /content/dataset/avec14/image/train_Northwind/329_1_Northwind_video_aligned/1137.jpg  \n",
            "  inflating: /content/dataset/avec14/image/train_Northwind/329_1_Northwind_video_aligned/1140.jpg  \n",
            "  inflating: /content/dataset/avec14/image/train_Northwind/329_1_Northwind_video_aligned/1143.jpg  \n",
            "  inflating: /content/dataset/avec14/image/train_Northwind/329_1_Northwind_video_aligned/1146.jpg  \n",
            "  inflating: /content/dataset/avec14/image/train_Northwind/329_1_Northwind_video_aligned/1149.jpg  \n",
            "  inflating: /content/dataset/avec14/image/train_Northwind/329_1_Northwind_video_aligned/1152.jpg  \n",
            "  inflating: /content/dataset/avec14/image/train_Northwind/329_1_Northwind_video_aligned/1155.jpg  \n",
            "  inflating: /content/dataset/avec14/image/train_Northwind/329_1_Northwind_video_aligned/1158.jpg  \n",
            "  inflating: /content/dataset/avec14/image/train_Northwind/329_1_Northwind_video_aligned/1161.jpg  \n",
            "  inflating: /content/dataset/avec14/image/train_Northwind/329_1_Northwind_video_aligned/1164.jpg  \n",
            "  inflating: /content/dataset/avec14/image/train_Northwind/329_1_Northwind_video_aligned/1167.jpg  \n",
            "  inflating: /content/dataset/avec14/image/train_Northwind/329_1_Northwind_video_aligned/1170.jpg  \n",
            "  inflating: /content/dataset/avec14/image/train_Northwind/329_1_Northwind_video_aligned/1173.jpg  \n",
            "  inflating: /content/dataset/avec14/image/train_Northwind/329_1_Northwind_video_aligned/1176.jpg  \n",
            "  inflating: /content/dataset/avec14/image/train_Northwind/329_1_Northwind_video_aligned/1179.jpg  \n",
            "  inflating: /content/dataset/avec14/image/train_Northwind/329_1_Northwind_video_aligned/1182.jpg  \n",
            "  inflating: /content/dataset/avec14/image/train_Northwind/329_1_Northwind_video_aligned/1185.jpg  \n",
            "  inflating: /content/dataset/avec14/image/train_Northwind/329_1_Northwind_video_aligned/1188.jpg  \n",
            "  inflating: /content/dataset/avec14/image/train_Northwind/329_1_Northwind_video_aligned/1191.jpg  \n",
            "  inflating: /content/dataset/avec14/image/train_Northwind/329_1_Northwind_video_aligned/1194.jpg  \n",
            "  inflating: /content/dataset/avec14/image/train_Northwind/329_1_Northwind_video_aligned/1197.jpg  \n",
            "  inflating: /content/dataset/avec14/image/train_Northwind/329_1_Northwind_video_aligned/1200.jpg  \n",
            "  inflating: /content/dataset/avec14/image/train_Northwind/329_1_Northwind_video_aligned/1203.jpg  \n",
            "  inflating: /content/dataset/avec14/image/train_Northwind/329_1_Northwind_video_aligned/1206.jpg  \n",
            "  inflating: /content/dataset/avec14/image/train_Northwind/329_1_Northwind_video_aligned/1209.jpg  \n",
            "  inflating: /content/dataset/avec14/image/train_Northwind/329_1_Northwind_video_aligned/1212.jpg  \n",
            "  inflating: /content/dataset/avec14/image/train_Northwind/329_1_Northwind_video_aligned/1215.jpg  \n",
            "  inflating: /content/dataset/avec14/image/train_Northwind/329_1_Northwind_video_aligned/1218.jpg  \n",
            "  inflating: /content/dataset/avec14/image/train_Northwind/329_1_Northwind_video_aligned/1221.jpg  \n",
            "  inflating: /content/dataset/avec14/image/train_Northwind/329_1_Northwind_video_aligned/1224.jpg  \n",
            "  inflating: /content/dataset/avec14/image/train_Northwind/329_1_Northwind_video_aligned/1227.jpg  \n",
            "  inflating: /content/dataset/avec14/image/train_Northwind/329_1_Northwind_video_aligned/1230.jpg  \n",
            "  inflating: /content/dataset/avec14/image/train_Northwind/329_1_Northwind_video_aligned/1233.jpg  \n",
            "  inflating: /content/dataset/avec14/image/train_Northwind/329_1_Northwind_video_aligned/1236.jpg  \n",
            "  inflating: /content/dataset/avec14/image/train_Northwind/329_1_Northwind_video_aligned/1239.jpg  \n",
            "  inflating: /content/dataset/avec14/image/train_Northwind/329_1_Northwind_video_aligned/1242.jpg  \n",
            "  inflating: /content/dataset/avec14/image/train_Northwind/329_1_Northwind_video_aligned/1245.jpg  \n",
            "  inflating: /content/dataset/avec14/image/train_Northwind/329_1_Northwind_video_aligned/1248.jpg  \n",
            "  inflating: /content/dataset/avec14/image/train_Northwind/329_1_Northwind_video_aligned/1251.jpg  \n",
            "  inflating: /content/dataset/avec14/image/train_Northwind/329_1_Northwind_video_aligned/1254.jpg  \n",
            "  inflating: /content/dataset/avec14/image/train_Northwind/329_1_Northwind_video_aligned/1257.jpg  \n",
            "  inflating: /content/dataset/avec14/image/train_Northwind/329_1_Northwind_video_aligned/1260.jpg  \n",
            "  inflating: /content/dataset/avec14/image/train_Northwind/329_1_Northwind_video_aligned/1263.jpg  \n",
            "  inflating: /content/dataset/avec14/image/train_Northwind/329_1_Northwind_video_aligned/1266.jpg  \n",
            "  inflating: /content/dataset/avec14/image/train_Northwind/329_1_Northwind_video_aligned/1269.jpg  \n",
            "  inflating: /content/dataset/avec14/image/train_Northwind/329_1_Northwind_video_aligned/1272.jpg  \n",
            "  inflating: /content/dataset/avec14/image/train_Northwind/329_1_Northwind_video_aligned/1275.jpg  \n",
            "  inflating: /content/dataset/avec14/image/train_Northwind/329_1_Northwind_video_aligned/1278.jpg  \n",
            "  inflating: /content/dataset/avec14/image/train_Northwind/329_1_Northwind_video_aligned/1281.jpg  \n",
            "  inflating: /content/dataset/avec14/image/train_Northwind/329_1_Northwind_video_aligned/1284.jpg  \n",
            "  inflating: /content/dataset/avec14/image/train_Northwind/329_1_Northwind_video_aligned/1287.jpg  \n",
            "   creating: /content/dataset/avec14/image/train_Northwind/331_1_Northwind_video_aligned/\n",
            "  inflating: /content/dataset/avec14/image/train_Northwind/331_1_Northwind_video_aligned/0000.jpg  \n",
            "  inflating: /content/dataset/avec14/image/train_Northwind/331_1_Northwind_video_aligned/0003.jpg  \n",
            "  inflating: /content/dataset/avec14/image/train_Northwind/331_1_Northwind_video_aligned/0006.jpg  \n",
            "  inflating: /content/dataset/avec14/image/train_Northwind/331_1_Northwind_video_aligned/0009.jpg  \n",
            "  inflating: /content/dataset/avec14/image/train_Northwind/331_1_Northwind_video_aligned/0012.jpg  \n",
            "  inflating: /content/dataset/avec14/image/train_Northwind/331_1_Northwind_video_aligned/0015.jpg  \n",
            "  inflating: /content/dataset/avec14/image/train_Northwind/331_1_Northwind_video_aligned/0018.jpg  \n",
            "  inflating: /content/dataset/avec14/image/train_Northwind/331_1_Northwind_video_aligned/0021.jpg  \n",
            "  inflating: /content/dataset/avec14/image/train_Northwind/331_1_Northwind_video_aligned/0024.jpg  \n",
            "  inflating: /content/dataset/avec14/image/train_Northwind/331_1_Northwind_video_aligned/0027.jpg  \n",
            "  inflating: /content/dataset/avec14/image/train_Northwind/331_1_Northwind_video_aligned/0030.jpg  \n",
            "  inflating: /content/dataset/avec14/image/train_Northwind/331_1_Northwind_video_aligned/0033.jpg  \n",
            "  inflating: /content/dataset/avec14/image/train_Northwind/331_1_Northwind_video_aligned/0036.jpg  \n",
            "  inflating: /content/dataset/avec14/image/train_Northwind/331_1_Northwind_video_aligned/0039.jpg  \n",
            "  inflating: /content/dataset/avec14/image/train_Northwind/331_1_Northwind_video_aligned/0042.jpg  \n",
            "  inflating: /content/dataset/avec14/image/train_Northwind/331_1_Northwind_video_aligned/0045.jpg  \n",
            "  inflating: /content/dataset/avec14/image/train_Northwind/331_1_Northwind_video_aligned/0048.jpg  \n",
            "  inflating: /content/dataset/avec14/image/train_Northwind/331_1_Northwind_video_aligned/0051.jpg  \n",
            "  inflating: /content/dataset/avec14/image/train_Northwind/331_1_Northwind_video_aligned/0054.jpg  \n",
            "  inflating: /content/dataset/avec14/image/train_Northwind/331_1_Northwind_video_aligned/0057.jpg  \n",
            "  inflating: /content/dataset/avec14/image/train_Northwind/331_1_Northwind_video_aligned/0060.jpg  \n",
            "  inflating: /content/dataset/avec14/image/train_Northwind/331_1_Northwind_video_aligned/0063.jpg  \n",
            "  inflating: /content/dataset/avec14/image/train_Northwind/331_1_Northwind_video_aligned/0066.jpg  \n",
            "  inflating: /content/dataset/avec14/image/train_Northwind/331_1_Northwind_video_aligned/0069.jpg  \n",
            "  inflating: /content/dataset/avec14/image/train_Northwind/331_1_Northwind_video_aligned/0072.jpg  \n",
            "  inflating: /content/dataset/avec14/image/train_Northwind/331_1_Northwind_video_aligned/0075.jpg  \n",
            "  inflating: /content/dataset/avec14/image/train_Northwind/331_1_Northwind_video_aligned/0078.jpg  \n",
            "  inflating: /content/dataset/avec14/image/train_Northwind/331_1_Northwind_video_aligned/0081.jpg  \n",
            "  inflating: /content/dataset/avec14/image/train_Northwind/331_1_Northwind_video_aligned/0084.jpg  \n",
            "  inflating: /content/dataset/avec14/image/train_Northwind/331_1_Northwind_video_aligned/0087.jpg  \n",
            "  inflating: /content/dataset/avec14/image/train_Northwind/331_1_Northwind_video_aligned/0090.jpg  \n",
            "  inflating: /content/dataset/avec14/image/train_Northwind/331_1_Northwind_video_aligned/0093.jpg  \n",
            "  inflating: /content/dataset/avec14/image/train_Northwind/331_1_Northwind_video_aligned/0096.jpg  \n",
            "  inflating: /content/dataset/avec14/image/train_Northwind/331_1_Northwind_video_aligned/0099.jpg  \n",
            "  inflating: /content/dataset/avec14/image/train_Northwind/331_1_Northwind_video_aligned/0102.jpg  \n",
            "  inflating: /content/dataset/avec14/image/train_Northwind/331_1_Northwind_video_aligned/0105.jpg  \n",
            "  inflating: /content/dataset/avec14/image/train_Northwind/331_1_Northwind_video_aligned/0108.jpg  \n",
            "  inflating: /content/dataset/avec14/image/train_Northwind/331_1_Northwind_video_aligned/0111.jpg  \n",
            "  inflating: /content/dataset/avec14/image/train_Northwind/331_1_Northwind_video_aligned/0114.jpg  \n",
            "  inflating: /content/dataset/avec14/image/train_Northwind/331_1_Northwind_video_aligned/0117.jpg  \n",
            "  inflating: /content/dataset/avec14/image/train_Northwind/331_1_Northwind_video_aligned/0120.jpg  \n",
            "  inflating: /content/dataset/avec14/image/train_Northwind/331_1_Northwind_video_aligned/0123.jpg  \n",
            "  inflating: /content/dataset/avec14/image/train_Northwind/331_1_Northwind_video_aligned/0126.jpg  \n",
            "  inflating: /content/dataset/avec14/image/train_Northwind/331_1_Northwind_video_aligned/0129.jpg  \n",
            "  inflating: /content/dataset/avec14/image/train_Northwind/331_1_Northwind_video_aligned/0132.jpg  \n",
            "  inflating: /content/dataset/avec14/image/train_Northwind/331_1_Northwind_video_aligned/0135.jpg  \n",
            "  inflating: /content/dataset/avec14/image/train_Northwind/331_1_Northwind_video_aligned/0138.jpg  \n",
            "  inflating: /content/dataset/avec14/image/train_Northwind/331_1_Northwind_video_aligned/0141.jpg  \n",
            "  inflating: /content/dataset/avec14/image/train_Northwind/331_1_Northwind_video_aligned/0144.jpg  \n",
            "  inflating: /content/dataset/avec14/image/train_Northwind/331_1_Northwind_video_aligned/0147.jpg  \n",
            "  inflating: /content/dataset/avec14/image/train_Northwind/331_1_Northwind_video_aligned/0150.jpg  \n",
            "  inflating: /content/dataset/avec14/image/train_Northwind/331_1_Northwind_video_aligned/0153.jpg  \n",
            "  inflating: /content/dataset/avec14/image/train_Northwind/331_1_Northwind_video_aligned/0156.jpg  \n",
            "  inflating: /content/dataset/avec14/image/train_Northwind/331_1_Northwind_video_aligned/0159.jpg  \n",
            "  inflating: /content/dataset/avec14/image/train_Northwind/331_1_Northwind_video_aligned/0162.jpg  \n",
            "  inflating: /content/dataset/avec14/image/train_Northwind/331_1_Northwind_video_aligned/0165.jpg  \n",
            "  inflating: /content/dataset/avec14/image/train_Northwind/331_1_Northwind_video_aligned/0168.jpg  \n",
            "  inflating: /content/dataset/avec14/image/train_Northwind/331_1_Northwind_video_aligned/0171.jpg  \n",
            "  inflating: /content/dataset/avec14/image/train_Northwind/331_1_Northwind_video_aligned/0174.jpg  \n",
            "  inflating: /content/dataset/avec14/image/train_Northwind/331_1_Northwind_video_aligned/0177.jpg  \n",
            "  inflating: /content/dataset/avec14/image/train_Northwind/331_1_Northwind_video_aligned/0180.jpg  \n",
            "  inflating: /content/dataset/avec14/image/train_Northwind/331_1_Northwind_video_aligned/0183.jpg  \n",
            "  inflating: /content/dataset/avec14/image/train_Northwind/331_1_Northwind_video_aligned/0186.jpg  \n",
            "  inflating: /content/dataset/avec14/image/train_Northwind/331_1_Northwind_video_aligned/0189.jpg  \n",
            "  inflating: /content/dataset/avec14/image/train_Northwind/331_1_Northwind_video_aligned/0192.jpg  \n",
            "  inflating: /content/dataset/avec14/image/train_Northwind/331_1_Northwind_video_aligned/0195.jpg  \n",
            "  inflating: /content/dataset/avec14/image/train_Northwind/331_1_Northwind_video_aligned/0198.jpg  \n",
            "  inflating: /content/dataset/avec14/image/train_Northwind/331_1_Northwind_video_aligned/0201.jpg  \n",
            "  inflating: /content/dataset/avec14/image/train_Northwind/331_1_Northwind_video_aligned/0204.jpg  \n",
            "  inflating: /content/dataset/avec14/image/train_Northwind/331_1_Northwind_video_aligned/0207.jpg  \n",
            "  inflating: /content/dataset/avec14/image/train_Northwind/331_1_Northwind_video_aligned/0210.jpg  \n",
            "  inflating: /content/dataset/avec14/image/train_Northwind/331_1_Northwind_video_aligned/0213.jpg  \n",
            "  inflating: /content/dataset/avec14/image/train_Northwind/331_1_Northwind_video_aligned/0216.jpg  \n",
            "  inflating: /content/dataset/avec14/image/train_Northwind/331_1_Northwind_video_aligned/0219.jpg  \n",
            "  inflating: /content/dataset/avec14/image/train_Northwind/331_1_Northwind_video_aligned/0222.jpg  \n",
            "  inflating: /content/dataset/avec14/image/train_Northwind/331_1_Northwind_video_aligned/0225.jpg  \n",
            "  inflating: /content/dataset/avec14/image/train_Northwind/331_1_Northwind_video_aligned/0228.jpg  \n",
            "  inflating: /content/dataset/avec14/image/train_Northwind/331_1_Northwind_video_aligned/0231.jpg  \n",
            "  inflating: /content/dataset/avec14/image/train_Northwind/331_1_Northwind_video_aligned/0234.jpg  \n",
            "  inflating: /content/dataset/avec14/image/train_Northwind/331_1_Northwind_video_aligned/0237.jpg  \n",
            "  inflating: /content/dataset/avec14/image/train_Northwind/331_1_Northwind_video_aligned/0240.jpg  \n",
            "  inflating: /content/dataset/avec14/image/train_Northwind/331_1_Northwind_video_aligned/0243.jpg  \n",
            "  inflating: /content/dataset/avec14/image/train_Northwind/331_1_Northwind_video_aligned/0246.jpg  \n",
            "  inflating: /content/dataset/avec14/image/train_Northwind/331_1_Northwind_video_aligned/0249.jpg  \n",
            "  inflating: /content/dataset/avec14/image/train_Northwind/331_1_Northwind_video_aligned/0252.jpg  \n",
            "  inflating: /content/dataset/avec14/image/train_Northwind/331_1_Northwind_video_aligned/0255.jpg  \n",
            "  inflating: /content/dataset/avec14/image/train_Northwind/331_1_Northwind_video_aligned/0258.jpg  \n",
            "  inflating: /content/dataset/avec14/image/train_Northwind/331_1_Northwind_video_aligned/0261.jpg  \n",
            "  inflating: /content/dataset/avec14/image/train_Northwind/331_1_Northwind_video_aligned/0264.jpg  \n",
            "  inflating: /content/dataset/avec14/image/train_Northwind/331_1_Northwind_video_aligned/0267.jpg  \n",
            "  inflating: /content/dataset/avec14/image/train_Northwind/331_1_Northwind_video_aligned/0270.jpg  \n",
            "  inflating: /content/dataset/avec14/image/train_Northwind/331_1_Northwind_video_aligned/0273.jpg  \n",
            "  inflating: /content/dataset/avec14/image/train_Northwind/331_1_Northwind_video_aligned/0276.jpg  \n",
            "  inflating: /content/dataset/avec14/image/train_Northwind/331_1_Northwind_video_aligned/0279.jpg  \n",
            "  inflating: /content/dataset/avec14/image/train_Northwind/331_1_Northwind_video_aligned/0282.jpg  \n",
            "  inflating: /content/dataset/avec14/image/train_Northwind/331_1_Northwind_video_aligned/0285.jpg  \n",
            "  inflating: /content/dataset/avec14/image/train_Northwind/331_1_Northwind_video_aligned/0288.jpg  \n",
            "  inflating: /content/dataset/avec14/image/train_Northwind/331_1_Northwind_video_aligned/0291.jpg  \n",
            "  inflating: /content/dataset/avec14/image/train_Northwind/331_1_Northwind_video_aligned/0294.jpg  \n",
            "  inflating: /content/dataset/avec14/image/train_Northwind/331_1_Northwind_video_aligned/0297.jpg  \n",
            "  inflating: /content/dataset/avec14/image/train_Northwind/331_1_Northwind_video_aligned/0300.jpg  \n",
            "  inflating: /content/dataset/avec14/image/train_Northwind/331_1_Northwind_video_aligned/0303.jpg  \n",
            "  inflating: /content/dataset/avec14/image/train_Northwind/331_1_Northwind_video_aligned/0306.jpg  \n",
            "  inflating: /content/dataset/avec14/image/train_Northwind/331_1_Northwind_video_aligned/0309.jpg  \n",
            "  inflating: /content/dataset/avec14/image/train_Northwind/331_1_Northwind_video_aligned/0312.jpg  \n",
            "  inflating: /content/dataset/avec14/image/train_Northwind/331_1_Northwind_video_aligned/0315.jpg  \n",
            "  inflating: /content/dataset/avec14/image/train_Northwind/331_1_Northwind_video_aligned/0318.jpg  \n",
            "  inflating: /content/dataset/avec14/image/train_Northwind/331_1_Northwind_video_aligned/0321.jpg  \n",
            "  inflating: /content/dataset/avec14/image/train_Northwind/331_1_Northwind_video_aligned/0324.jpg  \n",
            "  inflating: /content/dataset/avec14/image/train_Northwind/331_1_Northwind_video_aligned/0327.jpg  \n",
            "  inflating: /content/dataset/avec14/image/train_Northwind/331_1_Northwind_video_aligned/0330.jpg  \n",
            "  inflating: /content/dataset/avec14/image/train_Northwind/331_1_Northwind_video_aligned/0333.jpg  \n",
            "  inflating: /content/dataset/avec14/image/train_Northwind/331_1_Northwind_video_aligned/0336.jpg  \n",
            "  inflating: /content/dataset/avec14/image/train_Northwind/331_1_Northwind_video_aligned/0339.jpg  \n",
            "  inflating: /content/dataset/avec14/image/train_Northwind/331_1_Northwind_video_aligned/0342.jpg  \n",
            "  inflating: /content/dataset/avec14/image/train_Northwind/331_1_Northwind_video_aligned/0345.jpg  \n",
            "  inflating: /content/dataset/avec14/image/train_Northwind/331_1_Northwind_video_aligned/0348.jpg  \n",
            "  inflating: /content/dataset/avec14/image/train_Northwind/331_1_Northwind_video_aligned/0351.jpg  \n",
            "  inflating: /content/dataset/avec14/image/train_Northwind/331_1_Northwind_video_aligned/0354.jpg  \n",
            "  inflating: /content/dataset/avec14/image/train_Northwind/331_1_Northwind_video_aligned/0357.jpg  \n",
            "  inflating: /content/dataset/avec14/image/train_Northwind/331_1_Northwind_video_aligned/0360.jpg  \n",
            "  inflating: /content/dataset/avec14/image/train_Northwind/331_1_Northwind_video_aligned/0363.jpg  \n",
            "  inflating: /content/dataset/avec14/image/train_Northwind/331_1_Northwind_video_aligned/0366.jpg  \n",
            "  inflating: /content/dataset/avec14/image/train_Northwind/331_1_Northwind_video_aligned/0369.jpg  \n",
            "  inflating: /content/dataset/avec14/image/train_Northwind/331_1_Northwind_video_aligned/0372.jpg  \n",
            "  inflating: /content/dataset/avec14/image/train_Northwind/331_1_Northwind_video_aligned/0375.jpg  \n",
            "  inflating: /content/dataset/avec14/image/train_Northwind/331_1_Northwind_video_aligned/0378.jpg  \n",
            "  inflating: /content/dataset/avec14/image/train_Northwind/331_1_Northwind_video_aligned/0381.jpg  \n",
            "  inflating: /content/dataset/avec14/image/train_Northwind/331_1_Northwind_video_aligned/0384.jpg  \n",
            "  inflating: /content/dataset/avec14/image/train_Northwind/331_1_Northwind_video_aligned/0387.jpg  \n",
            "  inflating: /content/dataset/avec14/image/train_Northwind/331_1_Northwind_video_aligned/0390.jpg  \n",
            "  inflating: /content/dataset/avec14/image/train_Northwind/331_1_Northwind_video_aligned/0393.jpg  \n",
            "  inflating: /content/dataset/avec14/image/train_Northwind/331_1_Northwind_video_aligned/0396.jpg  \n",
            "  inflating: /content/dataset/avec14/image/train_Northwind/331_1_Northwind_video_aligned/0399.jpg  \n",
            "  inflating: /content/dataset/avec14/image/train_Northwind/331_1_Northwind_video_aligned/0402.jpg  \n",
            "  inflating: /content/dataset/avec14/image/train_Northwind/331_1_Northwind_video_aligned/0405.jpg  \n",
            "  inflating: /content/dataset/avec14/image/train_Northwind/331_1_Northwind_video_aligned/0408.jpg  \n",
            "  inflating: /content/dataset/avec14/image/train_Northwind/331_1_Northwind_video_aligned/0411.jpg  \n",
            "  inflating: /content/dataset/avec14/image/train_Northwind/331_1_Northwind_video_aligned/0414.jpg  \n",
            "  inflating: /content/dataset/avec14/image/train_Northwind/331_1_Northwind_video_aligned/0417.jpg  \n",
            "  inflating: /content/dataset/avec14/image/train_Northwind/331_1_Northwind_video_aligned/0420.jpg  \n",
            "  inflating: /content/dataset/avec14/image/train_Northwind/331_1_Northwind_video_aligned/0423.jpg  \n",
            "  inflating: /content/dataset/avec14/image/train_Northwind/331_1_Northwind_video_aligned/0426.jpg  \n",
            "  inflating: /content/dataset/avec14/image/train_Northwind/331_1_Northwind_video_aligned/0429.jpg  \n",
            "  inflating: /content/dataset/avec14/image/train_Northwind/331_1_Northwind_video_aligned/0432.jpg  \n",
            "  inflating: /content/dataset/avec14/image/train_Northwind/331_1_Northwind_video_aligned/0435.jpg  \n",
            "  inflating: /content/dataset/avec14/image/train_Northwind/331_1_Northwind_video_aligned/0438.jpg  \n",
            "  inflating: /content/dataset/avec14/image/train_Northwind/331_1_Northwind_video_aligned/0441.jpg  \n",
            "  inflating: /content/dataset/avec14/image/train_Northwind/331_1_Northwind_video_aligned/0444.jpg  \n",
            "  inflating: /content/dataset/avec14/image/train_Northwind/331_1_Northwind_video_aligned/0447.jpg  \n",
            "  inflating: /content/dataset/avec14/image/train_Northwind/331_1_Northwind_video_aligned/0450.jpg  \n",
            "  inflating: /content/dataset/avec14/image/train_Northwind/331_1_Northwind_video_aligned/0453.jpg  \n",
            "  inflating: /content/dataset/avec14/image/train_Northwind/331_1_Northwind_video_aligned/0456.jpg  \n",
            "  inflating: /content/dataset/avec14/image/train_Northwind/331_1_Northwind_video_aligned/0459.jpg  \n",
            "  inflating: /content/dataset/avec14/image/train_Northwind/331_1_Northwind_video_aligned/0462.jpg  \n",
            "  inflating: /content/dataset/avec14/image/train_Northwind/331_1_Northwind_video_aligned/0465.jpg  \n",
            "  inflating: /content/dataset/avec14/image/train_Northwind/331_1_Northwind_video_aligned/0468.jpg  \n",
            "  inflating: /content/dataset/avec14/image/train_Northwind/331_1_Northwind_video_aligned/0471.jpg  \n",
            "  inflating: /content/dataset/avec14/image/train_Northwind/331_1_Northwind_video_aligned/0474.jpg  \n",
            "  inflating: /content/dataset/avec14/image/train_Northwind/331_1_Northwind_video_aligned/0477.jpg  \n",
            "  inflating: /content/dataset/avec14/image/train_Northwind/331_1_Northwind_video_aligned/0480.jpg  \n",
            "  inflating: /content/dataset/avec14/image/train_Northwind/331_1_Northwind_video_aligned/0483.jpg  \n",
            "  inflating: /content/dataset/avec14/image/train_Northwind/331_1_Northwind_video_aligned/0486.jpg  \n",
            "  inflating: /content/dataset/avec14/image/train_Northwind/331_1_Northwind_video_aligned/0489.jpg  \n",
            "  inflating: /content/dataset/avec14/image/train_Northwind/331_1_Northwind_video_aligned/0492.jpg  \n",
            "  inflating: /content/dataset/avec14/image/train_Northwind/331_1_Northwind_video_aligned/0495.jpg  \n",
            "  inflating: /content/dataset/avec14/image/train_Northwind/331_1_Northwind_video_aligned/0498.jpg  \n",
            "  inflating: /content/dataset/avec14/image/train_Northwind/331_1_Northwind_video_aligned/0501.jpg  \n",
            "  inflating: /content/dataset/avec14/image/train_Northwind/331_1_Northwind_video_aligned/0504.jpg  \n",
            "  inflating: /content/dataset/avec14/image/train_Northwind/331_1_Northwind_video_aligned/0507.jpg  \n",
            "  inflating: /content/dataset/avec14/image/train_Northwind/331_1_Northwind_video_aligned/0510.jpg  \n",
            "  inflating: /content/dataset/avec14/image/train_Northwind/331_1_Northwind_video_aligned/0513.jpg  \n",
            "  inflating: /content/dataset/avec14/image/train_Northwind/331_1_Northwind_video_aligned/0516.jpg  \n",
            "  inflating: /content/dataset/avec14/image/train_Northwind/331_1_Northwind_video_aligned/0519.jpg  \n",
            "  inflating: /content/dataset/avec14/image/train_Northwind/331_1_Northwind_video_aligned/0522.jpg  \n",
            "  inflating: /content/dataset/avec14/image/train_Northwind/331_1_Northwind_video_aligned/0525.jpg  \n",
            "  inflating: /content/dataset/avec14/image/train_Northwind/331_1_Northwind_video_aligned/0528.jpg  \n",
            "  inflating: /content/dataset/avec14/image/train_Northwind/331_1_Northwind_video_aligned/0531.jpg  \n",
            "  inflating: /content/dataset/avec14/image/train_Northwind/331_1_Northwind_video_aligned/0534.jpg  \n",
            "  inflating: /content/dataset/avec14/image/train_Northwind/331_1_Northwind_video_aligned/0537.jpg  \n",
            "  inflating: /content/dataset/avec14/image/train_Northwind/331_1_Northwind_video_aligned/0540.jpg  \n",
            "  inflating: /content/dataset/avec14/image/train_Northwind/331_1_Northwind_video_aligned/0543.jpg  \n",
            "  inflating: /content/dataset/avec14/image/train_Northwind/331_1_Northwind_video_aligned/0546.jpg  \n",
            "  inflating: /content/dataset/avec14/image/train_Northwind/331_1_Northwind_video_aligned/0549.jpg  \n",
            "  inflating: /content/dataset/avec14/image/train_Northwind/331_1_Northwind_video_aligned/0552.jpg  \n",
            "  inflating: /content/dataset/avec14/image/train_Northwind/331_1_Northwind_video_aligned/0555.jpg  \n",
            "  inflating: /content/dataset/avec14/image/train_Northwind/331_1_Northwind_video_aligned/0558.jpg  \n",
            "  inflating: /content/dataset/avec14/image/train_Northwind/331_1_Northwind_video_aligned/0561.jpg  \n",
            "  inflating: /content/dataset/avec14/image/train_Northwind/331_1_Northwind_video_aligned/0564.jpg  \n",
            "  inflating: /content/dataset/avec14/image/train_Northwind/331_1_Northwind_video_aligned/0567.jpg  \n",
            "  inflating: /content/dataset/avec14/image/train_Northwind/331_1_Northwind_video_aligned/0570.jpg  \n",
            "  inflating: /content/dataset/avec14/image/train_Northwind/331_1_Northwind_video_aligned/0573.jpg  \n",
            "  inflating: /content/dataset/avec14/image/train_Northwind/331_1_Northwind_video_aligned/0576.jpg  \n",
            "  inflating: /content/dataset/avec14/image/train_Northwind/331_1_Northwind_video_aligned/0579.jpg  \n",
            "  inflating: /content/dataset/avec14/image/train_Northwind/331_1_Northwind_video_aligned/0582.jpg  \n",
            "  inflating: /content/dataset/avec14/image/train_Northwind/331_1_Northwind_video_aligned/0585.jpg  \n",
            "  inflating: /content/dataset/avec14/image/train_Northwind/331_1_Northwind_video_aligned/0588.jpg  \n",
            "  inflating: /content/dataset/avec14/image/train_Northwind/331_1_Northwind_video_aligned/0591.jpg  \n",
            "  inflating: /content/dataset/avec14/image/train_Northwind/331_1_Northwind_video_aligned/0594.jpg  \n",
            "  inflating: /content/dataset/avec14/image/train_Northwind/331_1_Northwind_video_aligned/0597.jpg  \n",
            "  inflating: /content/dataset/avec14/image/train_Northwind/331_1_Northwind_video_aligned/0600.jpg  \n",
            "  inflating: /content/dataset/avec14/image/train_Northwind/331_1_Northwind_video_aligned/0603.jpg  \n",
            "  inflating: /content/dataset/avec14/image/train_Northwind/331_1_Northwind_video_aligned/0606.jpg  \n",
            "  inflating: /content/dataset/avec14/image/train_Northwind/331_1_Northwind_video_aligned/0609.jpg  \n",
            "  inflating: /content/dataset/avec14/image/train_Northwind/331_1_Northwind_video_aligned/0612.jpg  \n",
            "  inflating: /content/dataset/avec14/image/train_Northwind/331_1_Northwind_video_aligned/0615.jpg  \n",
            "  inflating: /content/dataset/avec14/image/train_Northwind/331_1_Northwind_video_aligned/0618.jpg  \n",
            "  inflating: /content/dataset/avec14/image/train_Northwind/331_1_Northwind_video_aligned/0621.jpg  \n",
            "  inflating: /content/dataset/avec14/image/train_Northwind/331_1_Northwind_video_aligned/0624.jpg  \n",
            "  inflating: /content/dataset/avec14/image/train_Northwind/331_1_Northwind_video_aligned/0627.jpg  \n",
            "  inflating: /content/dataset/avec14/image/train_Northwind/331_1_Northwind_video_aligned/0630.jpg  \n",
            "  inflating: /content/dataset/avec14/image/train_Northwind/331_1_Northwind_video_aligned/0633.jpg  \n",
            "  inflating: /content/dataset/avec14/image/train_Northwind/331_1_Northwind_video_aligned/0636.jpg  \n",
            "  inflating: /content/dataset/avec14/image/train_Northwind/331_1_Northwind_video_aligned/0639.jpg  \n",
            "  inflating: /content/dataset/avec14/image/train_Northwind/331_1_Northwind_video_aligned/0642.jpg  \n",
            "  inflating: /content/dataset/avec14/image/train_Northwind/331_1_Northwind_video_aligned/0645.jpg  \n",
            "  inflating: /content/dataset/avec14/image/train_Northwind/331_1_Northwind_video_aligned/0648.jpg  \n",
            "  inflating: /content/dataset/avec14/image/train_Northwind/331_1_Northwind_video_aligned/0651.jpg  \n",
            "  inflating: /content/dataset/avec14/image/train_Northwind/331_1_Northwind_video_aligned/0654.jpg  \n",
            "  inflating: /content/dataset/avec14/image/train_Northwind/331_1_Northwind_video_aligned/0657.jpg  \n",
            "  inflating: /content/dataset/avec14/image/train_Northwind/331_1_Northwind_video_aligned/0660.jpg  \n",
            "  inflating: /content/dataset/avec14/image/train_Northwind/331_1_Northwind_video_aligned/0663.jpg  \n",
            "  inflating: /content/dataset/avec14/image/train_Northwind/331_1_Northwind_video_aligned/0666.jpg  \n",
            "  inflating: /content/dataset/avec14/image/train_Northwind/331_1_Northwind_video_aligned/0669.jpg  \n",
            "  inflating: /content/dataset/avec14/image/train_Northwind/331_1_Northwind_video_aligned/0672.jpg  \n",
            "  inflating: /content/dataset/avec14/image/train_Northwind/331_1_Northwind_video_aligned/0675.jpg  \n",
            "  inflating: /content/dataset/avec14/image/train_Northwind/331_1_Northwind_video_aligned/0678.jpg  \n",
            "  inflating: /content/dataset/avec14/image/train_Northwind/331_1_Northwind_video_aligned/0681.jpg  \n",
            "  inflating: /content/dataset/avec14/image/train_Northwind/331_1_Northwind_video_aligned/0684.jpg  \n",
            "  inflating: /content/dataset/avec14/image/train_Northwind/331_1_Northwind_video_aligned/0687.jpg  \n",
            "  inflating: /content/dataset/avec14/image/train_Northwind/331_1_Northwind_video_aligned/0690.jpg  \n",
            "  inflating: /content/dataset/avec14/image/train_Northwind/331_1_Northwind_video_aligned/0693.jpg  \n",
            "  inflating: /content/dataset/avec14/image/train_Northwind/331_1_Northwind_video_aligned/0696.jpg  \n",
            "  inflating: /content/dataset/avec14/image/train_Northwind/331_1_Northwind_video_aligned/0699.jpg  \n",
            "  inflating: /content/dataset/avec14/image/train_Northwind/331_1_Northwind_video_aligned/0702.jpg  \n",
            "  inflating: /content/dataset/avec14/image/train_Northwind/331_1_Northwind_video_aligned/0705.jpg  \n",
            "  inflating: /content/dataset/avec14/image/train_Northwind/331_1_Northwind_video_aligned/0708.jpg  \n",
            "  inflating: /content/dataset/avec14/image/train_Northwind/331_1_Northwind_video_aligned/0711.jpg  \n",
            "  inflating: /content/dataset/avec14/image/train_Northwind/331_1_Northwind_video_aligned/0714.jpg  \n",
            "  inflating: /content/dataset/avec14/image/train_Northwind/331_1_Northwind_video_aligned/0717.jpg  \n",
            "  inflating: /content/dataset/avec14/image/train_Northwind/331_1_Northwind_video_aligned/0720.jpg  \n",
            "  inflating: /content/dataset/avec14/image/train_Northwind/331_1_Northwind_video_aligned/0723.jpg  \n",
            "  inflating: /content/dataset/avec14/image/train_Northwind/331_1_Northwind_video_aligned/0726.jpg  \n",
            "  inflating: /content/dataset/avec14/image/train_Northwind/331_1_Northwind_video_aligned/0729.jpg  \n",
            "  inflating: /content/dataset/avec14/image/train_Northwind/331_1_Northwind_video_aligned/0732.jpg  \n",
            "  inflating: /content/dataset/avec14/image/train_Northwind/331_1_Northwind_video_aligned/0735.jpg  \n",
            "  inflating: /content/dataset/avec14/image/train_Northwind/331_1_Northwind_video_aligned/0738.jpg  \n",
            "  inflating: /content/dataset/avec14/image/train_Northwind/331_1_Northwind_video_aligned/0741.jpg  \n",
            "  inflating: /content/dataset/avec14/image/train_Northwind/331_1_Northwind_video_aligned/0744.jpg  \n",
            "  inflating: /content/dataset/avec14/image/train_Northwind/331_1_Northwind_video_aligned/0747.jpg  \n",
            "  inflating: /content/dataset/avec14/image/train_Northwind/331_1_Northwind_video_aligned/0750.jpg  \n",
            "  inflating: /content/dataset/avec14/image/train_Northwind/331_1_Northwind_video_aligned/0753.jpg  \n",
            "  inflating: /content/dataset/avec14/image/train_Northwind/331_1_Northwind_video_aligned/0756.jpg  \n",
            "  inflating: /content/dataset/avec14/image/train_Northwind/331_1_Northwind_video_aligned/0759.jpg  \n",
            "  inflating: /content/dataset/avec14/image/train_Northwind/331_1_Northwind_video_aligned/0762.jpg  \n",
            "  inflating: /content/dataset/avec14/image/train_Northwind/331_1_Northwind_video_aligned/0765.jpg  \n",
            "  inflating: /content/dataset/avec14/image/train_Northwind/331_1_Northwind_video_aligned/0768.jpg  \n",
            "  inflating: /content/dataset/avec14/image/train_Northwind/331_1_Northwind_video_aligned/0771.jpg  \n",
            "  inflating: /content/dataset/avec14/image/train_Northwind/331_1_Northwind_video_aligned/0774.jpg  \n",
            "  inflating: /content/dataset/avec14/image/train_Northwind/331_1_Northwind_video_aligned/0777.jpg  \n",
            "  inflating: /content/dataset/avec14/image/train_Northwind/331_1_Northwind_video_aligned/0780.jpg  \n",
            "  inflating: /content/dataset/avec14/image/train_Northwind/331_1_Northwind_video_aligned/0783.jpg  \n",
            "  inflating: /content/dataset/avec14/image/train_Northwind/331_1_Northwind_video_aligned/0786.jpg  \n",
            "  inflating: /content/dataset/avec14/image/train_Northwind/331_1_Northwind_video_aligned/0789.jpg  \n",
            "  inflating: /content/dataset/avec14/image/train_Northwind/331_1_Northwind_video_aligned/0792.jpg  \n",
            "  inflating: /content/dataset/avec14/image/train_Northwind/331_1_Northwind_video_aligned/0795.jpg  \n",
            "  inflating: /content/dataset/avec14/image/train_Northwind/331_1_Northwind_video_aligned/0798.jpg  \n",
            "  inflating: /content/dataset/avec14/image/train_Northwind/331_1_Northwind_video_aligned/0801.jpg  \n",
            "  inflating: /content/dataset/avec14/image/train_Northwind/331_1_Northwind_video_aligned/0804.jpg  \n",
            "  inflating: /content/dataset/avec14/image/train_Northwind/331_1_Northwind_video_aligned/0807.jpg  \n",
            "  inflating: /content/dataset/avec14/image/train_Northwind/331_1_Northwind_video_aligned/0810.jpg  \n",
            "  inflating: /content/dataset/avec14/image/train_Northwind/331_1_Northwind_video_aligned/0813.jpg  \n",
            "  inflating: /content/dataset/avec14/image/train_Northwind/331_1_Northwind_video_aligned/0816.jpg  \n",
            "  inflating: /content/dataset/avec14/image/train_Northwind/331_1_Northwind_video_aligned/0819.jpg  \n",
            "  inflating: /content/dataset/avec14/image/train_Northwind/331_1_Northwind_video_aligned/0822.jpg  \n",
            "  inflating: /content/dataset/avec14/image/train_Northwind/331_1_Northwind_video_aligned/0825.jpg  \n",
            "  inflating: /content/dataset/avec14/image/train_Northwind/331_1_Northwind_video_aligned/0828.jpg  \n",
            "  inflating: /content/dataset/avec14/image/train_Northwind/331_1_Northwind_video_aligned/0831.jpg  \n",
            "  inflating: /content/dataset/avec14/image/train_Northwind/331_1_Northwind_video_aligned/0834.jpg  \n",
            "  inflating: /content/dataset/avec14/image/train_Northwind/331_1_Northwind_video_aligned/0837.jpg  \n",
            "  inflating: /content/dataset/avec14/image/train_Northwind/331_1_Northwind_video_aligned/0840.jpg  \n",
            "  inflating: /content/dataset/avec14/image/train_Northwind/331_1_Northwind_video_aligned/0843.jpg  \n",
            "  inflating: /content/dataset/avec14/image/train_Northwind/331_1_Northwind_video_aligned/0846.jpg  \n",
            "  inflating: /content/dataset/avec14/image/train_Northwind/331_1_Northwind_video_aligned/0849.jpg  \n",
            "  inflating: /content/dataset/avec14/image/train_Northwind/331_1_Northwind_video_aligned/0852.jpg  \n",
            "  inflating: /content/dataset/avec14/image/train_Northwind/331_1_Northwind_video_aligned/0855.jpg  \n",
            "  inflating: /content/dataset/avec14/image/train_Northwind/331_1_Northwind_video_aligned/0858.jpg  \n",
            "  inflating: /content/dataset/avec14/image/train_Northwind/331_1_Northwind_video_aligned/0861.jpg  \n",
            "  inflating: /content/dataset/avec14/image/train_Northwind/331_1_Northwind_video_aligned/0864.jpg  \n",
            "  inflating: /content/dataset/avec14/image/train_Northwind/331_1_Northwind_video_aligned/0867.jpg  \n",
            "  inflating: /content/dataset/avec14/image/train_Northwind/331_1_Northwind_video_aligned/0870.jpg  \n",
            "  inflating: /content/dataset/avec14/image/train_Northwind/331_1_Northwind_video_aligned/0873.jpg  \n",
            "  inflating: /content/dataset/avec14/image/train_Northwind/331_1_Northwind_video_aligned/0876.jpg  \n",
            "  inflating: /content/dataset/avec14/image/train_Northwind/331_1_Northwind_video_aligned/0879.jpg  \n",
            "  inflating: /content/dataset/avec14/image/train_Northwind/331_1_Northwind_video_aligned/0882.jpg  \n",
            "  inflating: /content/dataset/avec14/image/train_Northwind/331_1_Northwind_video_aligned/0885.jpg  \n",
            "  inflating: /content/dataset/avec14/image/train_Northwind/331_1_Northwind_video_aligned/0888.jpg  \n",
            "  inflating: /content/dataset/avec14/image/train_Northwind/331_1_Northwind_video_aligned/0891.jpg  \n",
            "  inflating: /content/dataset/avec14/image/train_Northwind/331_1_Northwind_video_aligned/0894.jpg  \n",
            "  inflating: /content/dataset/avec14/image/train_Northwind/331_1_Northwind_video_aligned/0897.jpg  \n",
            "  inflating: /content/dataset/avec14/image/train_Northwind/331_1_Northwind_video_aligned/0900.jpg  \n",
            "  inflating: /content/dataset/avec14/image/train_Northwind/331_1_Northwind_video_aligned/0903.jpg  \n",
            "  inflating: /content/dataset/avec14/image/train_Northwind/331_1_Northwind_video_aligned/0906.jpg  \n",
            "  inflating: /content/dataset/avec14/image/train_Northwind/331_1_Northwind_video_aligned/0909.jpg  \n",
            "  inflating: /content/dataset/avec14/image/train_Northwind/331_1_Northwind_video_aligned/0912.jpg  \n",
            "  inflating: /content/dataset/avec14/image/train_Northwind/331_1_Northwind_video_aligned/0915.jpg  \n",
            "  inflating: /content/dataset/avec14/image/train_Northwind/331_1_Northwind_video_aligned/0918.jpg  \n",
            "  inflating: /content/dataset/avec14/image/train_Northwind/331_1_Northwind_video_aligned/0921.jpg  \n",
            "  inflating: /content/dataset/avec14/image/train_Northwind/331_1_Northwind_video_aligned/0924.jpg  \n",
            "  inflating: /content/dataset/avec14/image/train_Northwind/331_1_Northwind_video_aligned/0927.jpg  \n",
            "  inflating: /content/dataset/avec14/image/train_Northwind/331_1_Northwind_video_aligned/0930.jpg  \n",
            "  inflating: /content/dataset/avec14/image/train_Northwind/331_1_Northwind_video_aligned/0933.jpg  \n",
            "  inflating: /content/dataset/avec14/image/train_Northwind/331_1_Northwind_video_aligned/0936.jpg  \n",
            "  inflating: /content/dataset/avec14/image/train_Northwind/331_1_Northwind_video_aligned/0939.jpg  \n",
            "  inflating: /content/dataset/avec14/image/train_Northwind/331_1_Northwind_video_aligned/0942.jpg  \n",
            "  inflating: /content/dataset/avec14/image/train_Northwind/331_1_Northwind_video_aligned/0945.jpg  \n",
            "  inflating: /content/dataset/avec14/image/train_Northwind/331_1_Northwind_video_aligned/0948.jpg  \n",
            "  inflating: /content/dataset/avec14/image/train_Northwind/331_1_Northwind_video_aligned/0951.jpg  \n",
            "  inflating: /content/dataset/avec14/image/train_Northwind/331_1_Northwind_video_aligned/0954.jpg  \n",
            "  inflating: /content/dataset/avec14/image/train_Northwind/331_1_Northwind_video_aligned/0957.jpg  \n",
            "  inflating: /content/dataset/avec14/image/train_Northwind/331_1_Northwind_video_aligned/0960.jpg  \n",
            "  inflating: /content/dataset/avec14/image/train_Northwind/331_1_Northwind_video_aligned/0963.jpg  \n",
            "  inflating: /content/dataset/avec14/image/train_Northwind/331_1_Northwind_video_aligned/0966.jpg  \n",
            "  inflating: /content/dataset/avec14/image/train_Northwind/331_1_Northwind_video_aligned/0969.jpg  \n",
            "  inflating: /content/dataset/avec14/image/train_Northwind/331_1_Northwind_video_aligned/0972.jpg  \n",
            "  inflating: /content/dataset/avec14/image/train_Northwind/331_1_Northwind_video_aligned/0975.jpg  \n",
            "  inflating: /content/dataset/avec14/image/train_Northwind/331_1_Northwind_video_aligned/0978.jpg  \n",
            "  inflating: /content/dataset/avec14/image/train_Northwind/331_1_Northwind_video_aligned/0981.jpg  \n",
            "  inflating: /content/dataset/avec14/image/train_Northwind/331_1_Northwind_video_aligned/0984.jpg  \n",
            "  inflating: /content/dataset/avec14/image/train_Northwind/331_1_Northwind_video_aligned/0987.jpg  \n",
            "  inflating: /content/dataset/avec14/image/train_Northwind/331_1_Northwind_video_aligned/0990.jpg  \n",
            "  inflating: /content/dataset/avec14/image/train_Northwind/331_1_Northwind_video_aligned/0993.jpg  \n",
            "  inflating: /content/dataset/avec14/image/train_Northwind/331_1_Northwind_video_aligned/0996.jpg  \n",
            "  inflating: /content/dataset/avec14/image/train_Northwind/331_1_Northwind_video_aligned/0999.jpg  \n",
            "  inflating: /content/dataset/avec14/image/train_Northwind/331_1_Northwind_video_aligned/1002.jpg  \n",
            "  inflating: /content/dataset/avec14/image/train_Northwind/331_1_Northwind_video_aligned/1005.jpg  \n",
            "  inflating: /content/dataset/avec14/image/train_Northwind/331_1_Northwind_video_aligned/1008.jpg  \n",
            "  inflating: /content/dataset/avec14/image/train_Northwind/331_1_Northwind_video_aligned/1011.jpg  \n",
            "  inflating: /content/dataset/avec14/image/train_Northwind/331_1_Northwind_video_aligned/1014.jpg  \n",
            "  inflating: /content/dataset/avec14/image/train_Northwind/331_1_Northwind_video_aligned/1017.jpg  \n",
            "  inflating: /content/dataset/avec14/image/train_Northwind/331_1_Northwind_video_aligned/1020.jpg  \n",
            "  inflating: /content/dataset/avec14/image/train_Northwind/331_1_Northwind_video_aligned/1023.jpg  \n",
            "  inflating: /content/dataset/avec14/image/train_Northwind/331_1_Northwind_video_aligned/1026.jpg  \n",
            "  inflating: /content/dataset/avec14/image/train_Northwind/331_1_Northwind_video_aligned/1029.jpg  \n",
            "  inflating: /content/dataset/avec14/image/train_Northwind/331_1_Northwind_video_aligned/1032.jpg  \n",
            "  inflating: /content/dataset/avec14/image/train_Northwind/331_1_Northwind_video_aligned/1035.jpg  \n",
            "  inflating: /content/dataset/avec14/image/train_Northwind/331_1_Northwind_video_aligned/1038.jpg  \n",
            "  inflating: /content/dataset/avec14/image/train_Northwind/331_1_Northwind_video_aligned/1041.jpg  \n",
            "  inflating: /content/dataset/avec14/image/train_Northwind/331_1_Northwind_video_aligned/1044.jpg  \n",
            "  inflating: /content/dataset/avec14/image/train_Northwind/331_1_Northwind_video_aligned/1047.jpg  \n",
            "  inflating: /content/dataset/avec14/image/train_Northwind/331_1_Northwind_video_aligned/1050.jpg  \n",
            "  inflating: /content/dataset/avec14/image/train_Northwind/331_1_Northwind_video_aligned/1053.jpg  \n",
            "  inflating: /content/dataset/avec14/image/train_Northwind/331_1_Northwind_video_aligned/1056.jpg  \n",
            "  inflating: /content/dataset/avec14/image/train_Northwind/331_1_Northwind_video_aligned/1059.jpg  \n",
            "  inflating: /content/dataset/avec14/image/train_Northwind/331_1_Northwind_video_aligned/1062.jpg  \n",
            "  inflating: /content/dataset/avec14/image/train_Northwind/331_1_Northwind_video_aligned/1065.jpg  \n",
            "  inflating: /content/dataset/avec14/image/train_Northwind/331_1_Northwind_video_aligned/1068.jpg  \n",
            "  inflating: /content/dataset/avec14/image/train_Northwind/331_1_Northwind_video_aligned/1071.jpg  \n",
            "  inflating: /content/dataset/avec14/image/train_Northwind/331_1_Northwind_video_aligned/1074.jpg  \n",
            "  inflating: /content/dataset/avec14/image/train_Northwind/331_1_Northwind_video_aligned/1077.jpg  \n",
            "  inflating: /content/dataset/avec14/image/train_Northwind/331_1_Northwind_video_aligned/1080.jpg  \n",
            "  inflating: /content/dataset/avec14/image/train_Northwind/331_1_Northwind_video_aligned/1083.jpg  \n",
            "  inflating: /content/dataset/avec14/image/train_Northwind/331_1_Northwind_video_aligned/1086.jpg  \n",
            "  inflating: /content/dataset/avec14/image/train_Northwind/331_1_Northwind_video_aligned/1089.jpg  \n",
            "  inflating: /content/dataset/avec14/image/train_Northwind/331_1_Northwind_video_aligned/1092.jpg  \n",
            "  inflating: /content/dataset/avec14/image/train_Northwind/331_1_Northwind_video_aligned/1095.jpg  \n",
            "  inflating: /content/dataset/avec14/image/train_Northwind/331_1_Northwind_video_aligned/1098.jpg  \n",
            "  inflating: /content/dataset/avec14/image/train_Northwind/331_1_Northwind_video_aligned/1101.jpg  \n",
            "  inflating: /content/dataset/avec14/image/train_Northwind/331_1_Northwind_video_aligned/1104.jpg  \n",
            "  inflating: /content/dataset/avec14/image/train_Northwind/331_1_Northwind_video_aligned/1107.jpg  \n",
            "  inflating: /content/dataset/avec14/image/train_Northwind/331_1_Northwind_video_aligned/1110.jpg  \n",
            "  inflating: /content/dataset/avec14/image/train_Northwind/331_1_Northwind_video_aligned/1113.jpg  \n",
            "  inflating: /content/dataset/avec14/image/train_Northwind/331_1_Northwind_video_aligned/1116.jpg  \n",
            "  inflating: /content/dataset/avec14/image/train_Northwind/331_1_Northwind_video_aligned/1119.jpg  \n",
            "  inflating: /content/dataset/avec14/image/train_Northwind/331_1_Northwind_video_aligned/1122.jpg  \n",
            "  inflating: /content/dataset/avec14/image/train_Northwind/331_1_Northwind_video_aligned/1125.jpg  \n",
            "  inflating: /content/dataset/avec14/image/train_Northwind/331_1_Northwind_video_aligned/1128.jpg  \n",
            "  inflating: /content/dataset/avec14/image/train_Northwind/331_1_Northwind_video_aligned/1131.jpg  \n",
            "  inflating: /content/dataset/avec14/image/train_Northwind/331_1_Northwind_video_aligned/1134.jpg  \n",
            "  inflating: /content/dataset/avec14/image/train_Northwind/331_1_Northwind_video_aligned/1137.jpg  \n",
            "  inflating: /content/dataset/avec14/image/train_Northwind/331_1_Northwind_video_aligned/1140.jpg  \n",
            "  inflating: /content/dataset/avec14/image/train_Northwind/331_1_Northwind_video_aligned/1143.jpg  \n",
            "  inflating: /content/dataset/avec14/image/train_Northwind/331_1_Northwind_video_aligned/1146.jpg  \n",
            "  inflating: /content/dataset/avec14/image/train_Northwind/331_1_Northwind_video_aligned/1149.jpg  \n",
            "  inflating: /content/dataset/avec14/image/train_Northwind/331_1_Northwind_video_aligned/1152.jpg  \n",
            "  inflating: /content/dataset/avec14/image/train_Northwind/331_1_Northwind_video_aligned/1155.jpg  \n",
            "  inflating: /content/dataset/avec14/image/train_Northwind/331_1_Northwind_video_aligned/1158.jpg  \n",
            "  inflating: /content/dataset/avec14/image/train_Northwind/331_1_Northwind_video_aligned/1161.jpg  \n",
            "  inflating: /content/dataset/avec14/image/train_Northwind/331_1_Northwind_video_aligned/1164.jpg  \n",
            "  inflating: /content/dataset/avec14/image/train_Northwind/331_1_Northwind_video_aligned/1167.jpg  \n",
            "   creating: /content/dataset/avec14/image/train_Northwind/332_2_Northwind_video_aligned/\n",
            "  inflating: /content/dataset/avec14/image/train_Northwind/332_2_Northwind_video_aligned/0000.jpg  \n",
            "  inflating: /content/dataset/avec14/image/train_Northwind/332_2_Northwind_video_aligned/0003.jpg  \n",
            "  inflating: /content/dataset/avec14/image/train_Northwind/332_2_Northwind_video_aligned/0006.jpg  \n",
            "  inflating: /content/dataset/avec14/image/train_Northwind/332_2_Northwind_video_aligned/0009.jpg  \n",
            "  inflating: /content/dataset/avec14/image/train_Northwind/332_2_Northwind_video_aligned/0012.jpg  \n",
            "  inflating: /content/dataset/avec14/image/train_Northwind/332_2_Northwind_video_aligned/0015.jpg  \n",
            "  inflating: /content/dataset/avec14/image/train_Northwind/332_2_Northwind_video_aligned/0018.jpg  \n",
            "  inflating: /content/dataset/avec14/image/train_Northwind/332_2_Northwind_video_aligned/0021.jpg  \n",
            "  inflating: /content/dataset/avec14/image/train_Northwind/332_2_Northwind_video_aligned/0024.jpg  \n",
            "  inflating: /content/dataset/avec14/image/train_Northwind/332_2_Northwind_video_aligned/0027.jpg  \n",
            "  inflating: /content/dataset/avec14/image/train_Northwind/332_2_Northwind_video_aligned/0030.jpg  \n",
            "  inflating: /content/dataset/avec14/image/train_Northwind/332_2_Northwind_video_aligned/0033.jpg  \n",
            "  inflating: /content/dataset/avec14/image/train_Northwind/332_2_Northwind_video_aligned/0036.jpg  \n",
            "  inflating: /content/dataset/avec14/image/train_Northwind/332_2_Northwind_video_aligned/0039.jpg  \n",
            "  inflating: /content/dataset/avec14/image/train_Northwind/332_2_Northwind_video_aligned/0042.jpg  \n",
            "  inflating: /content/dataset/avec14/image/train_Northwind/332_2_Northwind_video_aligned/0045.jpg  \n",
            "  inflating: /content/dataset/avec14/image/train_Northwind/332_2_Northwind_video_aligned/0048.jpg  \n",
            "  inflating: /content/dataset/avec14/image/train_Northwind/332_2_Northwind_video_aligned/0051.jpg  \n",
            "  inflating: /content/dataset/avec14/image/train_Northwind/332_2_Northwind_video_aligned/0054.jpg  \n",
            "  inflating: /content/dataset/avec14/image/train_Northwind/332_2_Northwind_video_aligned/0057.jpg  \n",
            "  inflating: /content/dataset/avec14/image/train_Northwind/332_2_Northwind_video_aligned/0060.jpg  \n",
            "  inflating: /content/dataset/avec14/image/train_Northwind/332_2_Northwind_video_aligned/0063.jpg  \n",
            "  inflating: /content/dataset/avec14/image/train_Northwind/332_2_Northwind_video_aligned/0066.jpg  \n",
            "  inflating: /content/dataset/avec14/image/train_Northwind/332_2_Northwind_video_aligned/0069.jpg  \n",
            "  inflating: /content/dataset/avec14/image/train_Northwind/332_2_Northwind_video_aligned/0072.jpg  \n",
            "  inflating: /content/dataset/avec14/image/train_Northwind/332_2_Northwind_video_aligned/0075.jpg  \n",
            "  inflating: /content/dataset/avec14/image/train_Northwind/332_2_Northwind_video_aligned/0078.jpg  \n",
            "  inflating: /content/dataset/avec14/image/train_Northwind/332_2_Northwind_video_aligned/0081.jpg  \n",
            "  inflating: /content/dataset/avec14/image/train_Northwind/332_2_Northwind_video_aligned/0084.jpg  \n",
            "  inflating: /content/dataset/avec14/image/train_Northwind/332_2_Northwind_video_aligned/0087.jpg  \n",
            "  inflating: /content/dataset/avec14/image/train_Northwind/332_2_Northwind_video_aligned/0090.jpg  \n",
            "  inflating: /content/dataset/avec14/image/train_Northwind/332_2_Northwind_video_aligned/0093.jpg  \n",
            "  inflating: /content/dataset/avec14/image/train_Northwind/332_2_Northwind_video_aligned/0096.jpg  \n",
            "  inflating: /content/dataset/avec14/image/train_Northwind/332_2_Northwind_video_aligned/0099.jpg  \n",
            "  inflating: /content/dataset/avec14/image/train_Northwind/332_2_Northwind_video_aligned/0102.jpg  \n",
            "  inflating: /content/dataset/avec14/image/train_Northwind/332_2_Northwind_video_aligned/0105.jpg  \n",
            "  inflating: /content/dataset/avec14/image/train_Northwind/332_2_Northwind_video_aligned/0108.jpg  \n",
            "  inflating: /content/dataset/avec14/image/train_Northwind/332_2_Northwind_video_aligned/0111.jpg  \n",
            "  inflating: /content/dataset/avec14/image/train_Northwind/332_2_Northwind_video_aligned/0114.jpg  \n",
            "  inflating: /content/dataset/avec14/image/train_Northwind/332_2_Northwind_video_aligned/0117.jpg  \n",
            "  inflating: /content/dataset/avec14/image/train_Northwind/332_2_Northwind_video_aligned/0120.jpg  \n",
            "  inflating: /content/dataset/avec14/image/train_Northwind/332_2_Northwind_video_aligned/0123.jpg  \n",
            "  inflating: /content/dataset/avec14/image/train_Northwind/332_2_Northwind_video_aligned/0126.jpg  \n",
            "  inflating: /content/dataset/avec14/image/train_Northwind/332_2_Northwind_video_aligned/0129.jpg  \n",
            "  inflating: /content/dataset/avec14/image/train_Northwind/332_2_Northwind_video_aligned/0132.jpg  \n",
            "  inflating: /content/dataset/avec14/image/train_Northwind/332_2_Northwind_video_aligned/0135.jpg  \n",
            "  inflating: /content/dataset/avec14/image/train_Northwind/332_2_Northwind_video_aligned/0138.jpg  \n",
            "  inflating: /content/dataset/avec14/image/train_Northwind/332_2_Northwind_video_aligned/0141.jpg  \n",
            "  inflating: /content/dataset/avec14/image/train_Northwind/332_2_Northwind_video_aligned/0144.jpg  \n",
            "  inflating: /content/dataset/avec14/image/train_Northwind/332_2_Northwind_video_aligned/0147.jpg  \n",
            "  inflating: /content/dataset/avec14/image/train_Northwind/332_2_Northwind_video_aligned/0150.jpg  \n",
            "  inflating: /content/dataset/avec14/image/train_Northwind/332_2_Northwind_video_aligned/0153.jpg  \n",
            "  inflating: /content/dataset/avec14/image/train_Northwind/332_2_Northwind_video_aligned/0156.jpg  \n",
            "  inflating: /content/dataset/avec14/image/train_Northwind/332_2_Northwind_video_aligned/0159.jpg  \n",
            "  inflating: /content/dataset/avec14/image/train_Northwind/332_2_Northwind_video_aligned/0162.jpg  \n",
            "  inflating: /content/dataset/avec14/image/train_Northwind/332_2_Northwind_video_aligned/0165.jpg  \n",
            "  inflating: /content/dataset/avec14/image/train_Northwind/332_2_Northwind_video_aligned/0168.jpg  \n",
            "  inflating: /content/dataset/avec14/image/train_Northwind/332_2_Northwind_video_aligned/0171.jpg  \n",
            "  inflating: /content/dataset/avec14/image/train_Northwind/332_2_Northwind_video_aligned/0174.jpg  \n",
            "  inflating: /content/dataset/avec14/image/train_Northwind/332_2_Northwind_video_aligned/0177.jpg  \n",
            "  inflating: /content/dataset/avec14/image/train_Northwind/332_2_Northwind_video_aligned/0180.jpg  \n",
            "  inflating: /content/dataset/avec14/image/train_Northwind/332_2_Northwind_video_aligned/0183.jpg  \n",
            "  inflating: /content/dataset/avec14/image/train_Northwind/332_2_Northwind_video_aligned/0186.jpg  \n",
            "  inflating: /content/dataset/avec14/image/train_Northwind/332_2_Northwind_video_aligned/0189.jpg  \n",
            "  inflating: /content/dataset/avec14/image/train_Northwind/332_2_Northwind_video_aligned/0192.jpg  \n",
            "  inflating: /content/dataset/avec14/image/train_Northwind/332_2_Northwind_video_aligned/0195.jpg  \n",
            "  inflating: /content/dataset/avec14/image/train_Northwind/332_2_Northwind_video_aligned/0198.jpg  \n",
            "  inflating: /content/dataset/avec14/image/train_Northwind/332_2_Northwind_video_aligned/0201.jpg  \n",
            "  inflating: /content/dataset/avec14/image/train_Northwind/332_2_Northwind_video_aligned/0204.jpg  \n",
            "  inflating: /content/dataset/avec14/image/train_Northwind/332_2_Northwind_video_aligned/0207.jpg  \n",
            "  inflating: /content/dataset/avec14/image/train_Northwind/332_2_Northwind_video_aligned/0210.jpg  \n",
            "  inflating: /content/dataset/avec14/image/train_Northwind/332_2_Northwind_video_aligned/0213.jpg  \n",
            "  inflating: /content/dataset/avec14/image/train_Northwind/332_2_Northwind_video_aligned/0216.jpg  \n",
            "  inflating: /content/dataset/avec14/image/train_Northwind/332_2_Northwind_video_aligned/0219.jpg  \n",
            "  inflating: /content/dataset/avec14/image/train_Northwind/332_2_Northwind_video_aligned/0222.jpg  \n",
            "  inflating: /content/dataset/avec14/image/train_Northwind/332_2_Northwind_video_aligned/0225.jpg  \n",
            "  inflating: /content/dataset/avec14/image/train_Northwind/332_2_Northwind_video_aligned/0228.jpg  \n",
            "  inflating: /content/dataset/avec14/image/train_Northwind/332_2_Northwind_video_aligned/0231.jpg  \n",
            "  inflating: /content/dataset/avec14/image/train_Northwind/332_2_Northwind_video_aligned/0234.jpg  \n",
            "  inflating: /content/dataset/avec14/image/train_Northwind/332_2_Northwind_video_aligned/0237.jpg  \n",
            "  inflating: /content/dataset/avec14/image/train_Northwind/332_2_Northwind_video_aligned/0240.jpg  \n",
            "  inflating: /content/dataset/avec14/image/train_Northwind/332_2_Northwind_video_aligned/0243.jpg  \n",
            "  inflating: /content/dataset/avec14/image/train_Northwind/332_2_Northwind_video_aligned/0246.jpg  \n",
            "  inflating: /content/dataset/avec14/image/train_Northwind/332_2_Northwind_video_aligned/0249.jpg  \n",
            "  inflating: /content/dataset/avec14/image/train_Northwind/332_2_Northwind_video_aligned/0252.jpg  \n",
            "  inflating: /content/dataset/avec14/image/train_Northwind/332_2_Northwind_video_aligned/0255.jpg  \n",
            "  inflating: /content/dataset/avec14/image/train_Northwind/332_2_Northwind_video_aligned/0258.jpg  \n",
            "  inflating: /content/dataset/avec14/image/train_Northwind/332_2_Northwind_video_aligned/0261.jpg  \n",
            "  inflating: /content/dataset/avec14/image/train_Northwind/332_2_Northwind_video_aligned/0264.jpg  \n",
            "  inflating: /content/dataset/avec14/image/train_Northwind/332_2_Northwind_video_aligned/0267.jpg  \n",
            "  inflating: /content/dataset/avec14/image/train_Northwind/332_2_Northwind_video_aligned/0270.jpg  \n",
            "  inflating: /content/dataset/avec14/image/train_Northwind/332_2_Northwind_video_aligned/0273.jpg  \n",
            "  inflating: /content/dataset/avec14/image/train_Northwind/332_2_Northwind_video_aligned/0276.jpg  \n",
            "  inflating: /content/dataset/avec14/image/train_Northwind/332_2_Northwind_video_aligned/0279.jpg  \n",
            "  inflating: /content/dataset/avec14/image/train_Northwind/332_2_Northwind_video_aligned/0282.jpg  \n",
            "  inflating: /content/dataset/avec14/image/train_Northwind/332_2_Northwind_video_aligned/0285.jpg  \n",
            "  inflating: /content/dataset/avec14/image/train_Northwind/332_2_Northwind_video_aligned/0288.jpg  \n",
            "  inflating: /content/dataset/avec14/image/train_Northwind/332_2_Northwind_video_aligned/0291.jpg  \n",
            "  inflating: /content/dataset/avec14/image/train_Northwind/332_2_Northwind_video_aligned/0294.jpg  \n",
            "  inflating: /content/dataset/avec14/image/train_Northwind/332_2_Northwind_video_aligned/0297.jpg  \n",
            "  inflating: /content/dataset/avec14/image/train_Northwind/332_2_Northwind_video_aligned/0300.jpg  \n",
            "  inflating: /content/dataset/avec14/image/train_Northwind/332_2_Northwind_video_aligned/0303.jpg  \n",
            "  inflating: /content/dataset/avec14/image/train_Northwind/332_2_Northwind_video_aligned/0306.jpg  \n",
            "  inflating: /content/dataset/avec14/image/train_Northwind/332_2_Northwind_video_aligned/0309.jpg  \n",
            "  inflating: /content/dataset/avec14/image/train_Northwind/332_2_Northwind_video_aligned/0312.jpg  \n",
            "  inflating: /content/dataset/avec14/image/train_Northwind/332_2_Northwind_video_aligned/0315.jpg  \n",
            "  inflating: /content/dataset/avec14/image/train_Northwind/332_2_Northwind_video_aligned/0318.jpg  \n",
            "  inflating: /content/dataset/avec14/image/train_Northwind/332_2_Northwind_video_aligned/0321.jpg  \n",
            "  inflating: /content/dataset/avec14/image/train_Northwind/332_2_Northwind_video_aligned/0324.jpg  \n",
            "  inflating: /content/dataset/avec14/image/train_Northwind/332_2_Northwind_video_aligned/0327.jpg  \n",
            "  inflating: /content/dataset/avec14/image/train_Northwind/332_2_Northwind_video_aligned/0330.jpg  \n",
            "  inflating: /content/dataset/avec14/image/train_Northwind/332_2_Northwind_video_aligned/0333.jpg  \n",
            "  inflating: /content/dataset/avec14/image/train_Northwind/332_2_Northwind_video_aligned/0336.jpg  \n",
            "  inflating: /content/dataset/avec14/image/train_Northwind/332_2_Northwind_video_aligned/0339.jpg  \n",
            "  inflating: /content/dataset/avec14/image/train_Northwind/332_2_Northwind_video_aligned/0342.jpg  \n",
            "  inflating: /content/dataset/avec14/image/train_Northwind/332_2_Northwind_video_aligned/0345.jpg  \n",
            "  inflating: /content/dataset/avec14/image/train_Northwind/332_2_Northwind_video_aligned/0348.jpg  \n",
            "  inflating: /content/dataset/avec14/image/train_Northwind/332_2_Northwind_video_aligned/0351.jpg  \n",
            "  inflating: /content/dataset/avec14/image/train_Northwind/332_2_Northwind_video_aligned/0354.jpg  \n",
            "  inflating: /content/dataset/avec14/image/train_Northwind/332_2_Northwind_video_aligned/0357.jpg  \n",
            "  inflating: /content/dataset/avec14/image/train_Northwind/332_2_Northwind_video_aligned/0360.jpg  \n",
            "  inflating: /content/dataset/avec14/image/train_Northwind/332_2_Northwind_video_aligned/0363.jpg  \n",
            "  inflating: /content/dataset/avec14/image/train_Northwind/332_2_Northwind_video_aligned/0366.jpg  \n",
            "  inflating: /content/dataset/avec14/image/train_Northwind/332_2_Northwind_video_aligned/0369.jpg  \n",
            "  inflating: /content/dataset/avec14/image/train_Northwind/332_2_Northwind_video_aligned/0372.jpg  \n",
            "  inflating: /content/dataset/avec14/image/train_Northwind/332_2_Northwind_video_aligned/0375.jpg  \n",
            "  inflating: /content/dataset/avec14/image/train_Northwind/332_2_Northwind_video_aligned/0378.jpg  \n",
            "  inflating: /content/dataset/avec14/image/train_Northwind/332_2_Northwind_video_aligned/0381.jpg  \n",
            "  inflating: /content/dataset/avec14/image/train_Northwind/332_2_Northwind_video_aligned/0384.jpg  \n",
            "  inflating: /content/dataset/avec14/image/train_Northwind/332_2_Northwind_video_aligned/0387.jpg  \n",
            "  inflating: /content/dataset/avec14/image/train_Northwind/332_2_Northwind_video_aligned/0390.jpg  \n",
            "  inflating: /content/dataset/avec14/image/train_Northwind/332_2_Northwind_video_aligned/0393.jpg  \n",
            "  inflating: /content/dataset/avec14/image/train_Northwind/332_2_Northwind_video_aligned/0396.jpg  \n",
            "  inflating: /content/dataset/avec14/image/train_Northwind/332_2_Northwind_video_aligned/0399.jpg  \n",
            "  inflating: /content/dataset/avec14/image/train_Northwind/332_2_Northwind_video_aligned/0402.jpg  \n",
            "  inflating: /content/dataset/avec14/image/train_Northwind/332_2_Northwind_video_aligned/0405.jpg  \n",
            "  inflating: /content/dataset/avec14/image/train_Northwind/332_2_Northwind_video_aligned/0408.jpg  \n",
            "  inflating: /content/dataset/avec14/image/train_Northwind/332_2_Northwind_video_aligned/0411.jpg  \n",
            "  inflating: /content/dataset/avec14/image/train_Northwind/332_2_Northwind_video_aligned/0414.jpg  \n",
            "  inflating: /content/dataset/avec14/image/train_Northwind/332_2_Northwind_video_aligned/0417.jpg  \n",
            "  inflating: /content/dataset/avec14/image/train_Northwind/332_2_Northwind_video_aligned/0420.jpg  \n",
            "  inflating: /content/dataset/avec14/image/train_Northwind/332_2_Northwind_video_aligned/0423.jpg  \n",
            "  inflating: /content/dataset/avec14/image/train_Northwind/332_2_Northwind_video_aligned/0426.jpg  \n",
            "  inflating: /content/dataset/avec14/image/train_Northwind/332_2_Northwind_video_aligned/0429.jpg  \n",
            "  inflating: /content/dataset/avec14/image/train_Northwind/332_2_Northwind_video_aligned/0432.jpg  \n",
            "  inflating: /content/dataset/avec14/image/train_Northwind/332_2_Northwind_video_aligned/0435.jpg  \n",
            "  inflating: /content/dataset/avec14/image/train_Northwind/332_2_Northwind_video_aligned/0438.jpg  \n",
            "  inflating: /content/dataset/avec14/image/train_Northwind/332_2_Northwind_video_aligned/0441.jpg  \n",
            "  inflating: /content/dataset/avec14/image/train_Northwind/332_2_Northwind_video_aligned/0444.jpg  \n",
            "  inflating: /content/dataset/avec14/image/train_Northwind/332_2_Northwind_video_aligned/0447.jpg  \n",
            "  inflating: /content/dataset/avec14/image/train_Northwind/332_2_Northwind_video_aligned/0450.jpg  \n",
            "  inflating: /content/dataset/avec14/image/train_Northwind/332_2_Northwind_video_aligned/0453.jpg  \n",
            "  inflating: /content/dataset/avec14/image/train_Northwind/332_2_Northwind_video_aligned/0456.jpg  \n",
            "  inflating: /content/dataset/avec14/image/train_Northwind/332_2_Northwind_video_aligned/0459.jpg  \n",
            "  inflating: /content/dataset/avec14/image/train_Northwind/332_2_Northwind_video_aligned/0462.jpg  \n",
            "  inflating: /content/dataset/avec14/image/train_Northwind/332_2_Northwind_video_aligned/0465.jpg  \n",
            "  inflating: /content/dataset/avec14/image/train_Northwind/332_2_Northwind_video_aligned/0468.jpg  \n",
            "  inflating: /content/dataset/avec14/image/train_Northwind/332_2_Northwind_video_aligned/0471.jpg  \n",
            "  inflating: /content/dataset/avec14/image/train_Northwind/332_2_Northwind_video_aligned/0474.jpg  \n",
            "  inflating: /content/dataset/avec14/image/train_Northwind/332_2_Northwind_video_aligned/0477.jpg  \n",
            "  inflating: /content/dataset/avec14/image/train_Northwind/332_2_Northwind_video_aligned/0480.jpg  \n",
            "  inflating: /content/dataset/avec14/image/train_Northwind/332_2_Northwind_video_aligned/0483.jpg  \n",
            "  inflating: /content/dataset/avec14/image/train_Northwind/332_2_Northwind_video_aligned/0486.jpg  \n",
            "  inflating: /content/dataset/avec14/image/train_Northwind/332_2_Northwind_video_aligned/0489.jpg  \n",
            "  inflating: /content/dataset/avec14/image/train_Northwind/332_2_Northwind_video_aligned/0492.jpg  \n",
            "  inflating: /content/dataset/avec14/image/train_Northwind/332_2_Northwind_video_aligned/0495.jpg  \n",
            "  inflating: /content/dataset/avec14/image/train_Northwind/332_2_Northwind_video_aligned/0498.jpg  \n",
            "  inflating: /content/dataset/avec14/image/train_Northwind/332_2_Northwind_video_aligned/0501.jpg  \n",
            "  inflating: /content/dataset/avec14/image/train_Northwind/332_2_Northwind_video_aligned/0504.jpg  \n",
            "  inflating: /content/dataset/avec14/image/train_Northwind/332_2_Northwind_video_aligned/0507.jpg  \n",
            "  inflating: /content/dataset/avec14/image/train_Northwind/332_2_Northwind_video_aligned/0510.jpg  \n",
            "  inflating: /content/dataset/avec14/image/train_Northwind/332_2_Northwind_video_aligned/0513.jpg  \n",
            "  inflating: /content/dataset/avec14/image/train_Northwind/332_2_Northwind_video_aligned/0516.jpg  \n",
            "  inflating: /content/dataset/avec14/image/train_Northwind/332_2_Northwind_video_aligned/0519.jpg  \n",
            "  inflating: /content/dataset/avec14/image/train_Northwind/332_2_Northwind_video_aligned/0522.jpg  \n",
            "  inflating: /content/dataset/avec14/image/train_Northwind/332_2_Northwind_video_aligned/0525.jpg  \n",
            "  inflating: /content/dataset/avec14/image/train_Northwind/332_2_Northwind_video_aligned/0528.jpg  \n",
            "  inflating: /content/dataset/avec14/image/train_Northwind/332_2_Northwind_video_aligned/0531.jpg  \n",
            "  inflating: /content/dataset/avec14/image/train_Northwind/332_2_Northwind_video_aligned/0534.jpg  \n",
            "  inflating: /content/dataset/avec14/image/train_Northwind/332_2_Northwind_video_aligned/0537.jpg  \n",
            "  inflating: /content/dataset/avec14/image/train_Northwind/332_2_Northwind_video_aligned/0540.jpg  \n",
            "  inflating: /content/dataset/avec14/image/train_Northwind/332_2_Northwind_video_aligned/0543.jpg  \n",
            "  inflating: /content/dataset/avec14/image/train_Northwind/332_2_Northwind_video_aligned/0546.jpg  \n",
            "  inflating: /content/dataset/avec14/image/train_Northwind/332_2_Northwind_video_aligned/0549.jpg  \n",
            "  inflating: /content/dataset/avec14/image/train_Northwind/332_2_Northwind_video_aligned/0552.jpg  \n",
            "  inflating: /content/dataset/avec14/image/train_Northwind/332_2_Northwind_video_aligned/0555.jpg  \n",
            "  inflating: /content/dataset/avec14/image/train_Northwind/332_2_Northwind_video_aligned/0558.jpg  \n",
            "  inflating: /content/dataset/avec14/image/train_Northwind/332_2_Northwind_video_aligned/0561.jpg  \n",
            "  inflating: /content/dataset/avec14/image/train_Northwind/332_2_Northwind_video_aligned/0564.jpg  \n",
            "  inflating: /content/dataset/avec14/image/train_Northwind/332_2_Northwind_video_aligned/0567.jpg  \n",
            "  inflating: /content/dataset/avec14/image/train_Northwind/332_2_Northwind_video_aligned/0570.jpg  \n",
            "  inflating: /content/dataset/avec14/image/train_Northwind/332_2_Northwind_video_aligned/0573.jpg  \n",
            "  inflating: /content/dataset/avec14/image/train_Northwind/332_2_Northwind_video_aligned/0576.jpg  \n",
            "  inflating: /content/dataset/avec14/image/train_Northwind/332_2_Northwind_video_aligned/0579.jpg  \n",
            "  inflating: /content/dataset/avec14/image/train_Northwind/332_2_Northwind_video_aligned/0582.jpg  \n",
            "  inflating: /content/dataset/avec14/image/train_Northwind/332_2_Northwind_video_aligned/0585.jpg  \n",
            "  inflating: /content/dataset/avec14/image/train_Northwind/332_2_Northwind_video_aligned/0588.jpg  \n",
            "  inflating: /content/dataset/avec14/image/train_Northwind/332_2_Northwind_video_aligned/0591.jpg  \n",
            "  inflating: /content/dataset/avec14/image/train_Northwind/332_2_Northwind_video_aligned/0594.jpg  \n",
            "  inflating: /content/dataset/avec14/image/train_Northwind/332_2_Northwind_video_aligned/0597.jpg  \n",
            "  inflating: /content/dataset/avec14/image/train_Northwind/332_2_Northwind_video_aligned/0600.jpg  \n",
            "  inflating: /content/dataset/avec14/image/train_Northwind/332_2_Northwind_video_aligned/0603.jpg  \n",
            "  inflating: /content/dataset/avec14/image/train_Northwind/332_2_Northwind_video_aligned/0606.jpg  \n",
            "  inflating: /content/dataset/avec14/image/train_Northwind/332_2_Northwind_video_aligned/0609.jpg  \n",
            "  inflating: /content/dataset/avec14/image/train_Northwind/332_2_Northwind_video_aligned/0612.jpg  \n",
            "  inflating: /content/dataset/avec14/image/train_Northwind/332_2_Northwind_video_aligned/0615.jpg  \n",
            "  inflating: /content/dataset/avec14/image/train_Northwind/332_2_Northwind_video_aligned/0618.jpg  \n",
            "  inflating: /content/dataset/avec14/image/train_Northwind/332_2_Northwind_video_aligned/0621.jpg  \n",
            "  inflating: /content/dataset/avec14/image/train_Northwind/332_2_Northwind_video_aligned/0624.jpg  \n",
            "  inflating: /content/dataset/avec14/image/train_Northwind/332_2_Northwind_video_aligned/0627.jpg  \n",
            "  inflating: /content/dataset/avec14/image/train_Northwind/332_2_Northwind_video_aligned/0630.jpg  \n",
            "  inflating: /content/dataset/avec14/image/train_Northwind/332_2_Northwind_video_aligned/0633.jpg  \n",
            "  inflating: /content/dataset/avec14/image/train_Northwind/332_2_Northwind_video_aligned/0636.jpg  \n",
            "  inflating: /content/dataset/avec14/image/train_Northwind/332_2_Northwind_video_aligned/0639.jpg  \n",
            "  inflating: /content/dataset/avec14/image/train_Northwind/332_2_Northwind_video_aligned/0642.jpg  \n",
            "  inflating: /content/dataset/avec14/image/train_Northwind/332_2_Northwind_video_aligned/0645.jpg  \n",
            "  inflating: /content/dataset/avec14/image/train_Northwind/332_2_Northwind_video_aligned/0648.jpg  \n",
            "  inflating: /content/dataset/avec14/image/train_Northwind/332_2_Northwind_video_aligned/0651.jpg  \n",
            "  inflating: /content/dataset/avec14/image/train_Northwind/332_2_Northwind_video_aligned/0654.jpg  \n",
            "  inflating: /content/dataset/avec14/image/train_Northwind/332_2_Northwind_video_aligned/0657.jpg  \n",
            "  inflating: /content/dataset/avec14/image/train_Northwind/332_2_Northwind_video_aligned/0660.jpg  \n",
            "  inflating: /content/dataset/avec14/image/train_Northwind/332_2_Northwind_video_aligned/0663.jpg  \n",
            "  inflating: /content/dataset/avec14/image/train_Northwind/332_2_Northwind_video_aligned/0666.jpg  \n",
            "  inflating: /content/dataset/avec14/image/train_Northwind/332_2_Northwind_video_aligned/0669.jpg  \n",
            "  inflating: /content/dataset/avec14/image/train_Northwind/332_2_Northwind_video_aligned/0672.jpg  \n",
            "  inflating: /content/dataset/avec14/image/train_Northwind/332_2_Northwind_video_aligned/0675.jpg  \n",
            "  inflating: /content/dataset/avec14/image/train_Northwind/332_2_Northwind_video_aligned/0678.jpg  \n",
            "  inflating: /content/dataset/avec14/image/train_Northwind/332_2_Northwind_video_aligned/0681.jpg  \n",
            "  inflating: /content/dataset/avec14/image/train_Northwind/332_2_Northwind_video_aligned/0684.jpg  \n",
            "  inflating: /content/dataset/avec14/image/train_Northwind/332_2_Northwind_video_aligned/0687.jpg  \n",
            "  inflating: /content/dataset/avec14/image/train_Northwind/332_2_Northwind_video_aligned/0690.jpg  \n",
            "  inflating: /content/dataset/avec14/image/train_Northwind/332_2_Northwind_video_aligned/0693.jpg  \n",
            "  inflating: /content/dataset/avec14/image/train_Northwind/332_2_Northwind_video_aligned/0696.jpg  \n",
            "  inflating: /content/dataset/avec14/image/train_Northwind/332_2_Northwind_video_aligned/0699.jpg  \n",
            "  inflating: /content/dataset/avec14/image/train_Northwind/332_2_Northwind_video_aligned/0702.jpg  \n",
            "  inflating: /content/dataset/avec14/image/train_Northwind/332_2_Northwind_video_aligned/0705.jpg  \n",
            "  inflating: /content/dataset/avec14/image/train_Northwind/332_2_Northwind_video_aligned/0708.jpg  \n",
            "  inflating: /content/dataset/avec14/image/train_Northwind/332_2_Northwind_video_aligned/0711.jpg  \n",
            "  inflating: /content/dataset/avec14/image/train_Northwind/332_2_Northwind_video_aligned/0714.jpg  \n",
            "  inflating: /content/dataset/avec14/image/train_Northwind/332_2_Northwind_video_aligned/0717.jpg  \n",
            "  inflating: /content/dataset/avec14/image/train_Northwind/332_2_Northwind_video_aligned/0720.jpg  \n",
            "  inflating: /content/dataset/avec14/image/train_Northwind/332_2_Northwind_video_aligned/0723.jpg  \n",
            "  inflating: /content/dataset/avec14/image/train_Northwind/332_2_Northwind_video_aligned/0726.jpg  \n",
            "  inflating: /content/dataset/avec14/image/train_Northwind/332_2_Northwind_video_aligned/0729.jpg  \n",
            "  inflating: /content/dataset/avec14/image/train_Northwind/332_2_Northwind_video_aligned/0732.jpg  \n",
            "  inflating: /content/dataset/avec14/image/train_Northwind/332_2_Northwind_video_aligned/0735.jpg  \n",
            "  inflating: /content/dataset/avec14/image/train_Northwind/332_2_Northwind_video_aligned/0738.jpg  \n",
            "  inflating: /content/dataset/avec14/image/train_Northwind/332_2_Northwind_video_aligned/0741.jpg  \n",
            "  inflating: /content/dataset/avec14/image/train_Northwind/332_2_Northwind_video_aligned/0744.jpg  \n",
            "  inflating: /content/dataset/avec14/image/train_Northwind/332_2_Northwind_video_aligned/0747.jpg  \n",
            "  inflating: /content/dataset/avec14/image/train_Northwind/332_2_Northwind_video_aligned/0750.jpg  \n",
            "  inflating: /content/dataset/avec14/image/train_Northwind/332_2_Northwind_video_aligned/0753.jpg  \n",
            "  inflating: /content/dataset/avec14/image/train_Northwind/332_2_Northwind_video_aligned/0756.jpg  \n",
            "  inflating: /content/dataset/avec14/image/train_Northwind/332_2_Northwind_video_aligned/0759.jpg  \n",
            "  inflating: /content/dataset/avec14/image/train_Northwind/332_2_Northwind_video_aligned/0762.jpg  \n",
            "  inflating: /content/dataset/avec14/image/train_Northwind/332_2_Northwind_video_aligned/0765.jpg  \n",
            "  inflating: /content/dataset/avec14/image/train_Northwind/332_2_Northwind_video_aligned/0768.jpg  \n",
            "  inflating: /content/dataset/avec14/image/train_Northwind/332_2_Northwind_video_aligned/0771.jpg  \n",
            "  inflating: /content/dataset/avec14/image/train_Northwind/332_2_Northwind_video_aligned/0774.jpg  \n",
            "  inflating: /content/dataset/avec14/image/train_Northwind/332_2_Northwind_video_aligned/0777.jpg  \n",
            "  inflating: /content/dataset/avec14/image/train_Northwind/332_2_Northwind_video_aligned/0780.jpg  \n",
            "  inflating: /content/dataset/avec14/image/train_Northwind/332_2_Northwind_video_aligned/0783.jpg  \n",
            "  inflating: /content/dataset/avec14/image/train_Northwind/332_2_Northwind_video_aligned/0786.jpg  \n",
            "  inflating: /content/dataset/avec14/image/train_Northwind/332_2_Northwind_video_aligned/0789.jpg  \n",
            "  inflating: /content/dataset/avec14/image/train_Northwind/332_2_Northwind_video_aligned/0792.jpg  \n",
            "  inflating: /content/dataset/avec14/image/train_Northwind/332_2_Northwind_video_aligned/0795.jpg  \n",
            "  inflating: /content/dataset/avec14/image/train_Northwind/332_2_Northwind_video_aligned/0798.jpg  \n",
            "  inflating: /content/dataset/avec14/image/train_Northwind/332_2_Northwind_video_aligned/0801.jpg  \n",
            "  inflating: /content/dataset/avec14/image/train_Northwind/332_2_Northwind_video_aligned/0804.jpg  \n",
            "  inflating: /content/dataset/avec14/image/train_Northwind/332_2_Northwind_video_aligned/0807.jpg  \n",
            "  inflating: /content/dataset/avec14/image/train_Northwind/332_2_Northwind_video_aligned/0810.jpg  \n",
            "  inflating: /content/dataset/avec14/image/train_Northwind/332_2_Northwind_video_aligned/0813.jpg  \n",
            "  inflating: /content/dataset/avec14/image/train_Northwind/332_2_Northwind_video_aligned/0816.jpg  \n",
            "  inflating: /content/dataset/avec14/image/train_Northwind/332_2_Northwind_video_aligned/0819.jpg  \n",
            "  inflating: /content/dataset/avec14/image/train_Northwind/332_2_Northwind_video_aligned/0822.jpg  \n",
            "  inflating: /content/dataset/avec14/image/train_Northwind/332_2_Northwind_video_aligned/0825.jpg  \n",
            "  inflating: /content/dataset/avec14/image/train_Northwind/332_2_Northwind_video_aligned/0828.jpg  \n",
            "  inflating: /content/dataset/avec14/image/train_Northwind/332_2_Northwind_video_aligned/0831.jpg  \n",
            "  inflating: /content/dataset/avec14/image/train_Northwind/332_2_Northwind_video_aligned/0834.jpg  \n",
            "  inflating: /content/dataset/avec14/image/train_Northwind/332_2_Northwind_video_aligned/0837.jpg  \n",
            "  inflating: /content/dataset/avec14/image/train_Northwind/332_2_Northwind_video_aligned/0840.jpg  \n",
            "  inflating: /content/dataset/avec14/image/train_Northwind/332_2_Northwind_video_aligned/0843.jpg  \n",
            "  inflating: /content/dataset/avec14/image/train_Northwind/332_2_Northwind_video_aligned/0846.jpg  \n",
            "  inflating: /content/dataset/avec14/image/train_Northwind/332_2_Northwind_video_aligned/0849.jpg  \n",
            "  inflating: /content/dataset/avec14/image/train_Northwind/332_2_Northwind_video_aligned/0852.jpg  \n",
            "  inflating: /content/dataset/avec14/image/train_Northwind/332_2_Northwind_video_aligned/0855.jpg  \n",
            "  inflating: /content/dataset/avec14/image/train_Northwind/332_2_Northwind_video_aligned/0858.jpg  \n",
            "  inflating: /content/dataset/avec14/image/train_Northwind/332_2_Northwind_video_aligned/0861.jpg  \n",
            "  inflating: /content/dataset/avec14/image/train_Northwind/332_2_Northwind_video_aligned/0864.jpg  \n",
            "  inflating: /content/dataset/avec14/image/train_Northwind/332_2_Northwind_video_aligned/0867.jpg  \n",
            "  inflating: /content/dataset/avec14/image/train_Northwind/332_2_Northwind_video_aligned/0870.jpg  \n",
            "  inflating: /content/dataset/avec14/image/train_Northwind/332_2_Northwind_video_aligned/0873.jpg  \n",
            "  inflating: /content/dataset/avec14/image/train_Northwind/332_2_Northwind_video_aligned/0876.jpg  \n",
            "  inflating: /content/dataset/avec14/image/train_Northwind/332_2_Northwind_video_aligned/0879.jpg  \n",
            "  inflating: /content/dataset/avec14/image/train_Northwind/332_2_Northwind_video_aligned/0882.jpg  \n",
            "  inflating: /content/dataset/avec14/image/train_Northwind/332_2_Northwind_video_aligned/0885.jpg  \n",
            "  inflating: /content/dataset/avec14/image/train_Northwind/332_2_Northwind_video_aligned/0888.jpg  \n",
            "  inflating: /content/dataset/avec14/image/train_Northwind/332_2_Northwind_video_aligned/0891.jpg  \n",
            "  inflating: /content/dataset/avec14/image/train_Northwind/332_2_Northwind_video_aligned/0894.jpg  \n",
            "  inflating: /content/dataset/avec14/image/train_Northwind/332_2_Northwind_video_aligned/0897.jpg  \n",
            "  inflating: /content/dataset/avec14/image/train_Northwind/332_2_Northwind_video_aligned/0900.jpg  \n",
            "  inflating: /content/dataset/avec14/image/train_Northwind/332_2_Northwind_video_aligned/0903.jpg  \n",
            "  inflating: /content/dataset/avec14/image/train_Northwind/332_2_Northwind_video_aligned/0906.jpg  \n",
            "  inflating: /content/dataset/avec14/image/train_Northwind/332_2_Northwind_video_aligned/0909.jpg  \n",
            "  inflating: /content/dataset/avec14/image/train_Northwind/332_2_Northwind_video_aligned/0912.jpg  \n",
            "  inflating: /content/dataset/avec14/image/train_Northwind/332_2_Northwind_video_aligned/0915.jpg  \n",
            "  inflating: /content/dataset/avec14/image/train_Northwind/332_2_Northwind_video_aligned/0918.jpg  \n",
            "  inflating: /content/dataset/avec14/image/train_Northwind/332_2_Northwind_video_aligned/0921.jpg  \n",
            "  inflating: /content/dataset/avec14/image/train_Northwind/332_2_Northwind_video_aligned/0924.jpg  \n",
            "  inflating: /content/dataset/avec14/image/train_Northwind/332_2_Northwind_video_aligned/0927.jpg  \n",
            "  inflating: /content/dataset/avec14/image/train_Northwind/332_2_Northwind_video_aligned/0930.jpg  \n",
            "  inflating: /content/dataset/avec14/image/train_Northwind/332_2_Northwind_video_aligned/0933.jpg  \n",
            "  inflating: /content/dataset/avec14/image/train_Northwind/332_2_Northwind_video_aligned/0936.jpg  \n",
            "  inflating: /content/dataset/avec14/image/train_Northwind/332_2_Northwind_video_aligned/0939.jpg  \n",
            "  inflating: /content/dataset/avec14/image/train_Northwind/332_2_Northwind_video_aligned/0942.jpg  \n",
            "  inflating: /content/dataset/avec14/image/train_Northwind/332_2_Northwind_video_aligned/0945.jpg  \n",
            "  inflating: /content/dataset/avec14/image/train_Northwind/332_2_Northwind_video_aligned/0948.jpg  \n",
            "  inflating: /content/dataset/avec14/image/train_Northwind/332_2_Northwind_video_aligned/0951.jpg  \n",
            "  inflating: /content/dataset/avec14/image/train_Northwind/332_2_Northwind_video_aligned/0954.jpg  \n",
            "  inflating: /content/dataset/avec14/image/train_Northwind/332_2_Northwind_video_aligned/0957.jpg  \n",
            "  inflating: /content/dataset/avec14/image/train_Northwind/332_2_Northwind_video_aligned/0960.jpg  \n",
            "  inflating: /content/dataset/avec14/image/train_Northwind/332_2_Northwind_video_aligned/0963.jpg  \n",
            "  inflating: /content/dataset/avec14/image/train_Northwind/332_2_Northwind_video_aligned/0966.jpg  \n",
            "  inflating: /content/dataset/avec14/image/train_Northwind/332_2_Northwind_video_aligned/0969.jpg  \n",
            "  inflating: /content/dataset/avec14/image/train_Northwind/332_2_Northwind_video_aligned/0972.jpg  \n",
            "  inflating: /content/dataset/avec14/image/train_Northwind/332_2_Northwind_video_aligned/0975.jpg  \n",
            "  inflating: /content/dataset/avec14/image/train_Northwind/332_2_Northwind_video_aligned/0978.jpg  \n",
            "  inflating: /content/dataset/avec14/image/train_Northwind/332_2_Northwind_video_aligned/0981.jpg  \n",
            "  inflating: /content/dataset/avec14/image/train_Northwind/332_2_Northwind_video_aligned/0984.jpg  \n",
            "  inflating: /content/dataset/avec14/image/train_Northwind/332_2_Northwind_video_aligned/0987.jpg  \n",
            "  inflating: /content/dataset/avec14/image/train_Northwind/332_2_Northwind_video_aligned/0990.jpg  \n",
            "  inflating: /content/dataset/avec14/image/train_Northwind/332_2_Northwind_video_aligned/0993.jpg  \n",
            "  inflating: /content/dataset/avec14/image/train_Northwind/332_2_Northwind_video_aligned/0996.jpg  \n",
            "  inflating: /content/dataset/avec14/image/train_Northwind/332_2_Northwind_video_aligned/0999.jpg  \n",
            "  inflating: /content/dataset/avec14/image/train_Northwind/332_2_Northwind_video_aligned/1002.jpg  \n",
            "  inflating: /content/dataset/avec14/image/train_Northwind/332_2_Northwind_video_aligned/1005.jpg  \n",
            "  inflating: /content/dataset/avec14/image/train_Northwind/332_2_Northwind_video_aligned/1008.jpg  \n",
            "  inflating: /content/dataset/avec14/image/train_Northwind/332_2_Northwind_video_aligned/1011.jpg  \n",
            "  inflating: /content/dataset/avec14/image/train_Northwind/332_2_Northwind_video_aligned/1014.jpg  \n",
            "  inflating: /content/dataset/avec14/image/train_Northwind/332_2_Northwind_video_aligned/1017.jpg  \n",
            "  inflating: /content/dataset/avec14/image/train_Northwind/332_2_Northwind_video_aligned/1020.jpg  \n",
            "  inflating: /content/dataset/avec14/image/train_Northwind/332_2_Northwind_video_aligned/1023.jpg  \n",
            "  inflating: /content/dataset/avec14/image/train_Northwind/332_2_Northwind_video_aligned/1026.jpg  \n",
            "  inflating: /content/dataset/avec14/image/train_Northwind/332_2_Northwind_video_aligned/1029.jpg  \n",
            "  inflating: /content/dataset/avec14/image/train_Northwind/332_2_Northwind_video_aligned/1032.jpg  \n",
            "  inflating: /content/dataset/avec14/image/train_Northwind/332_2_Northwind_video_aligned/1035.jpg  \n",
            "  inflating: /content/dataset/avec14/image/train_Northwind/332_2_Northwind_video_aligned/1038.jpg  \n",
            "  inflating: /content/dataset/avec14/image/train_Northwind/332_2_Northwind_video_aligned/1041.jpg  \n",
            "  inflating: /content/dataset/avec14/image/train_Northwind/332_2_Northwind_video_aligned/1044.jpg  \n",
            "  inflating: /content/dataset/avec14/image/train_Northwind/332_2_Northwind_video_aligned/1047.jpg  \n",
            "   creating: /content/dataset/avec14/image/train_Northwind/332_4_Northwind_video_aligned/\n",
            "  inflating: /content/dataset/avec14/image/train_Northwind/332_4_Northwind_video_aligned/0000.jpg  \n",
            "  inflating: /content/dataset/avec14/image/train_Northwind/332_4_Northwind_video_aligned/0003.jpg  \n",
            "  inflating: /content/dataset/avec14/image/train_Northwind/332_4_Northwind_video_aligned/0006.jpg  \n",
            "  inflating: /content/dataset/avec14/image/train_Northwind/332_4_Northwind_video_aligned/0009.jpg  \n",
            "  inflating: /content/dataset/avec14/image/train_Northwind/332_4_Northwind_video_aligned/0012.jpg  \n",
            "  inflating: /content/dataset/avec14/image/train_Northwind/332_4_Northwind_video_aligned/0015.jpg  \n",
            "  inflating: /content/dataset/avec14/image/train_Northwind/332_4_Northwind_video_aligned/0018.jpg  \n",
            "  inflating: /content/dataset/avec14/image/train_Northwind/332_4_Northwind_video_aligned/0021.jpg  \n",
            "  inflating: /content/dataset/avec14/image/train_Northwind/332_4_Northwind_video_aligned/0024.jpg  \n",
            "  inflating: /content/dataset/avec14/image/train_Northwind/332_4_Northwind_video_aligned/0027.jpg  \n",
            "  inflating: /content/dataset/avec14/image/train_Northwind/332_4_Northwind_video_aligned/0030.jpg  \n",
            "  inflating: /content/dataset/avec14/image/train_Northwind/332_4_Northwind_video_aligned/0033.jpg  \n",
            "  inflating: /content/dataset/avec14/image/train_Northwind/332_4_Northwind_video_aligned/0036.jpg  \n",
            "  inflating: /content/dataset/avec14/image/train_Northwind/332_4_Northwind_video_aligned/0039.jpg  \n",
            "  inflating: /content/dataset/avec14/image/train_Northwind/332_4_Northwind_video_aligned/0042.jpg  \n",
            "  inflating: /content/dataset/avec14/image/train_Northwind/332_4_Northwind_video_aligned/0045.jpg  \n",
            "  inflating: /content/dataset/avec14/image/train_Northwind/332_4_Northwind_video_aligned/0048.jpg  \n",
            "  inflating: /content/dataset/avec14/image/train_Northwind/332_4_Northwind_video_aligned/0051.jpg  \n",
            "  inflating: /content/dataset/avec14/image/train_Northwind/332_4_Northwind_video_aligned/0054.jpg  \n",
            "  inflating: /content/dataset/avec14/image/train_Northwind/332_4_Northwind_video_aligned/0057.jpg  \n",
            "  inflating: /content/dataset/avec14/image/train_Northwind/332_4_Northwind_video_aligned/0060.jpg  \n",
            "  inflating: /content/dataset/avec14/image/train_Northwind/332_4_Northwind_video_aligned/0063.jpg  \n",
            "  inflating: /content/dataset/avec14/image/train_Northwind/332_4_Northwind_video_aligned/0066.jpg  \n",
            "  inflating: /content/dataset/avec14/image/train_Northwind/332_4_Northwind_video_aligned/0069.jpg  \n",
            "  inflating: /content/dataset/avec14/image/train_Northwind/332_4_Northwind_video_aligned/0072.jpg  \n",
            "  inflating: /content/dataset/avec14/image/train_Northwind/332_4_Northwind_video_aligned/0075.jpg  \n",
            "  inflating: /content/dataset/avec14/image/train_Northwind/332_4_Northwind_video_aligned/0078.jpg  \n",
            "  inflating: /content/dataset/avec14/image/train_Northwind/332_4_Northwind_video_aligned/0081.jpg  \n",
            "  inflating: /content/dataset/avec14/image/train_Northwind/332_4_Northwind_video_aligned/0084.jpg  \n",
            "  inflating: /content/dataset/avec14/image/train_Northwind/332_4_Northwind_video_aligned/0087.jpg  \n",
            "  inflating: /content/dataset/avec14/image/train_Northwind/332_4_Northwind_video_aligned/0090.jpg  \n",
            "  inflating: /content/dataset/avec14/image/train_Northwind/332_4_Northwind_video_aligned/0093.jpg  \n",
            "  inflating: /content/dataset/avec14/image/train_Northwind/332_4_Northwind_video_aligned/0096.jpg  \n",
            "  inflating: /content/dataset/avec14/image/train_Northwind/332_4_Northwind_video_aligned/0099.jpg  \n",
            "  inflating: /content/dataset/avec14/image/train_Northwind/332_4_Northwind_video_aligned/0102.jpg  \n",
            "  inflating: /content/dataset/avec14/image/train_Northwind/332_4_Northwind_video_aligned/0105.jpg  \n",
            "  inflating: /content/dataset/avec14/image/train_Northwind/332_4_Northwind_video_aligned/0108.jpg  \n",
            "  inflating: /content/dataset/avec14/image/train_Northwind/332_4_Northwind_video_aligned/0111.jpg  \n",
            "  inflating: /content/dataset/avec14/image/train_Northwind/332_4_Northwind_video_aligned/0114.jpg  \n",
            "  inflating: /content/dataset/avec14/image/train_Northwind/332_4_Northwind_video_aligned/0117.jpg  \n",
            "  inflating: /content/dataset/avec14/image/train_Northwind/332_4_Northwind_video_aligned/0120.jpg  \n",
            "  inflating: /content/dataset/avec14/image/train_Northwind/332_4_Northwind_video_aligned/0123.jpg  \n",
            "  inflating: /content/dataset/avec14/image/train_Northwind/332_4_Northwind_video_aligned/0126.jpg  \n",
            "  inflating: /content/dataset/avec14/image/train_Northwind/332_4_Northwind_video_aligned/0129.jpg  \n",
            "  inflating: /content/dataset/avec14/image/train_Northwind/332_4_Northwind_video_aligned/0132.jpg  \n",
            "  inflating: /content/dataset/avec14/image/train_Northwind/332_4_Northwind_video_aligned/0135.jpg  \n",
            "  inflating: /content/dataset/avec14/image/train_Northwind/332_4_Northwind_video_aligned/0138.jpg  \n",
            "  inflating: /content/dataset/avec14/image/train_Northwind/332_4_Northwind_video_aligned/0141.jpg  \n",
            "  inflating: /content/dataset/avec14/image/train_Northwind/332_4_Northwind_video_aligned/0144.jpg  \n",
            "  inflating: /content/dataset/avec14/image/train_Northwind/332_4_Northwind_video_aligned/0147.jpg  \n",
            "  inflating: /content/dataset/avec14/image/train_Northwind/332_4_Northwind_video_aligned/0150.jpg  \n",
            "  inflating: /content/dataset/avec14/image/train_Northwind/332_4_Northwind_video_aligned/0153.jpg  \n",
            "  inflating: /content/dataset/avec14/image/train_Northwind/332_4_Northwind_video_aligned/0156.jpg  \n",
            "  inflating: /content/dataset/avec14/image/train_Northwind/332_4_Northwind_video_aligned/0159.jpg  \n",
            "  inflating: /content/dataset/avec14/image/train_Northwind/332_4_Northwind_video_aligned/0162.jpg  \n",
            "  inflating: /content/dataset/avec14/image/train_Northwind/332_4_Northwind_video_aligned/0165.jpg  \n",
            "  inflating: /content/dataset/avec14/image/train_Northwind/332_4_Northwind_video_aligned/0168.jpg  \n",
            "  inflating: /content/dataset/avec14/image/train_Northwind/332_4_Northwind_video_aligned/0171.jpg  \n",
            "  inflating: /content/dataset/avec14/image/train_Northwind/332_4_Northwind_video_aligned/0174.jpg  \n",
            "  inflating: /content/dataset/avec14/image/train_Northwind/332_4_Northwind_video_aligned/0177.jpg  \n",
            "  inflating: /content/dataset/avec14/image/train_Northwind/332_4_Northwind_video_aligned/0180.jpg  \n",
            "  inflating: /content/dataset/avec14/image/train_Northwind/332_4_Northwind_video_aligned/0183.jpg  \n",
            "  inflating: /content/dataset/avec14/image/train_Northwind/332_4_Northwind_video_aligned/0186.jpg  \n",
            "  inflating: /content/dataset/avec14/image/train_Northwind/332_4_Northwind_video_aligned/0189.jpg  \n",
            "  inflating: /content/dataset/avec14/image/train_Northwind/332_4_Northwind_video_aligned/0192.jpg  \n",
            "  inflating: /content/dataset/avec14/image/train_Northwind/332_4_Northwind_video_aligned/0195.jpg  \n",
            "  inflating: /content/dataset/avec14/image/train_Northwind/332_4_Northwind_video_aligned/0198.jpg  \n",
            "  inflating: /content/dataset/avec14/image/train_Northwind/332_4_Northwind_video_aligned/0201.jpg  \n",
            "  inflating: /content/dataset/avec14/image/train_Northwind/332_4_Northwind_video_aligned/0204.jpg  \n",
            "  inflating: /content/dataset/avec14/image/train_Northwind/332_4_Northwind_video_aligned/0207.jpg  \n",
            "  inflating: /content/dataset/avec14/image/train_Northwind/332_4_Northwind_video_aligned/0210.jpg  \n",
            "  inflating: /content/dataset/avec14/image/train_Northwind/332_4_Northwind_video_aligned/0213.jpg  \n",
            "  inflating: /content/dataset/avec14/image/train_Northwind/332_4_Northwind_video_aligned/0216.jpg  \n",
            "  inflating: /content/dataset/avec14/image/train_Northwind/332_4_Northwind_video_aligned/0219.jpg  \n",
            "  inflating: /content/dataset/avec14/image/train_Northwind/332_4_Northwind_video_aligned/0222.jpg  \n",
            "  inflating: /content/dataset/avec14/image/train_Northwind/332_4_Northwind_video_aligned/0225.jpg  \n",
            "  inflating: /content/dataset/avec14/image/train_Northwind/332_4_Northwind_video_aligned/0228.jpg  \n",
            "  inflating: /content/dataset/avec14/image/train_Northwind/332_4_Northwind_video_aligned/0231.jpg  \n",
            "  inflating: /content/dataset/avec14/image/train_Northwind/332_4_Northwind_video_aligned/0234.jpg  \n",
            "  inflating: /content/dataset/avec14/image/train_Northwind/332_4_Northwind_video_aligned/0237.jpg  \n",
            "  inflating: /content/dataset/avec14/image/train_Northwind/332_4_Northwind_video_aligned/0240.jpg  \n",
            "  inflating: /content/dataset/avec14/image/train_Northwind/332_4_Northwind_video_aligned/0243.jpg  \n",
            "  inflating: /content/dataset/avec14/image/train_Northwind/332_4_Northwind_video_aligned/0246.jpg  \n",
            "  inflating: /content/dataset/avec14/image/train_Northwind/332_4_Northwind_video_aligned/0249.jpg  \n",
            "  inflating: /content/dataset/avec14/image/train_Northwind/332_4_Northwind_video_aligned/0252.jpg  \n",
            "  inflating: /content/dataset/avec14/image/train_Northwind/332_4_Northwind_video_aligned/0255.jpg  \n",
            "  inflating: /content/dataset/avec14/image/train_Northwind/332_4_Northwind_video_aligned/0258.jpg  \n",
            "  inflating: /content/dataset/avec14/image/train_Northwind/332_4_Northwind_video_aligned/0261.jpg  \n",
            "  inflating: /content/dataset/avec14/image/train_Northwind/332_4_Northwind_video_aligned/0264.jpg  \n",
            "  inflating: /content/dataset/avec14/image/train_Northwind/332_4_Northwind_video_aligned/0267.jpg  \n",
            "  inflating: /content/dataset/avec14/image/train_Northwind/332_4_Northwind_video_aligned/0270.jpg  \n",
            "  inflating: /content/dataset/avec14/image/train_Northwind/332_4_Northwind_video_aligned/0273.jpg  \n",
            "  inflating: /content/dataset/avec14/image/train_Northwind/332_4_Northwind_video_aligned/0276.jpg  \n",
            "  inflating: /content/dataset/avec14/image/train_Northwind/332_4_Northwind_video_aligned/0279.jpg  \n",
            "  inflating: /content/dataset/avec14/image/train_Northwind/332_4_Northwind_video_aligned/0282.jpg  \n",
            "  inflating: /content/dataset/avec14/image/train_Northwind/332_4_Northwind_video_aligned/0285.jpg  \n",
            "  inflating: /content/dataset/avec14/image/train_Northwind/332_4_Northwind_video_aligned/0288.jpg  \n",
            "  inflating: /content/dataset/avec14/image/train_Northwind/332_4_Northwind_video_aligned/0291.jpg  \n",
            "  inflating: /content/dataset/avec14/image/train_Northwind/332_4_Northwind_video_aligned/0294.jpg  \n",
            "  inflating: /content/dataset/avec14/image/train_Northwind/332_4_Northwind_video_aligned/0297.jpg  \n",
            "  inflating: /content/dataset/avec14/image/train_Northwind/332_4_Northwind_video_aligned/0300.jpg  \n",
            "  inflating: /content/dataset/avec14/image/train_Northwind/332_4_Northwind_video_aligned/0303.jpg  \n",
            "  inflating: /content/dataset/avec14/image/train_Northwind/332_4_Northwind_video_aligned/0306.jpg  \n",
            "  inflating: /content/dataset/avec14/image/train_Northwind/332_4_Northwind_video_aligned/0309.jpg  \n",
            "  inflating: /content/dataset/avec14/image/train_Northwind/332_4_Northwind_video_aligned/0312.jpg  \n",
            "  inflating: /content/dataset/avec14/image/train_Northwind/332_4_Northwind_video_aligned/0315.jpg  \n",
            "  inflating: /content/dataset/avec14/image/train_Northwind/332_4_Northwind_video_aligned/0318.jpg  \n",
            "  inflating: /content/dataset/avec14/image/train_Northwind/332_4_Northwind_video_aligned/0321.jpg  \n",
            "  inflating: /content/dataset/avec14/image/train_Northwind/332_4_Northwind_video_aligned/0324.jpg  \n",
            "  inflating: /content/dataset/avec14/image/train_Northwind/332_4_Northwind_video_aligned/0327.jpg  \n",
            "  inflating: /content/dataset/avec14/image/train_Northwind/332_4_Northwind_video_aligned/0330.jpg  \n",
            "  inflating: /content/dataset/avec14/image/train_Northwind/332_4_Northwind_video_aligned/0333.jpg  \n",
            "  inflating: /content/dataset/avec14/image/train_Northwind/332_4_Northwind_video_aligned/0336.jpg  \n",
            "  inflating: /content/dataset/avec14/image/train_Northwind/332_4_Northwind_video_aligned/0339.jpg  \n",
            "  inflating: /content/dataset/avec14/image/train_Northwind/332_4_Northwind_video_aligned/0342.jpg  \n",
            "  inflating: /content/dataset/avec14/image/train_Northwind/332_4_Northwind_video_aligned/0345.jpg  \n",
            "  inflating: /content/dataset/avec14/image/train_Northwind/332_4_Northwind_video_aligned/0348.jpg  \n",
            "  inflating: /content/dataset/avec14/image/train_Northwind/332_4_Northwind_video_aligned/0351.jpg  \n",
            "  inflating: /content/dataset/avec14/image/train_Northwind/332_4_Northwind_video_aligned/0354.jpg  \n",
            "  inflating: /content/dataset/avec14/image/train_Northwind/332_4_Northwind_video_aligned/0357.jpg  \n",
            "  inflating: /content/dataset/avec14/image/train_Northwind/332_4_Northwind_video_aligned/0360.jpg  \n",
            "  inflating: /content/dataset/avec14/image/train_Northwind/332_4_Northwind_video_aligned/0363.jpg  \n",
            "  inflating: /content/dataset/avec14/image/train_Northwind/332_4_Northwind_video_aligned/0366.jpg  \n",
            "  inflating: /content/dataset/avec14/image/train_Northwind/332_4_Northwind_video_aligned/0369.jpg  \n",
            "  inflating: /content/dataset/avec14/image/train_Northwind/332_4_Northwind_video_aligned/0372.jpg  \n",
            "  inflating: /content/dataset/avec14/image/train_Northwind/332_4_Northwind_video_aligned/0375.jpg  \n",
            "  inflating: /content/dataset/avec14/image/train_Northwind/332_4_Northwind_video_aligned/0378.jpg  \n",
            "  inflating: /content/dataset/avec14/image/train_Northwind/332_4_Northwind_video_aligned/0381.jpg  \n",
            "  inflating: /content/dataset/avec14/image/train_Northwind/332_4_Northwind_video_aligned/0384.jpg  \n",
            "  inflating: /content/dataset/avec14/image/train_Northwind/332_4_Northwind_video_aligned/0387.jpg  \n",
            "  inflating: /content/dataset/avec14/image/train_Northwind/332_4_Northwind_video_aligned/0390.jpg  \n",
            "  inflating: /content/dataset/avec14/image/train_Northwind/332_4_Northwind_video_aligned/0393.jpg  \n",
            "  inflating: /content/dataset/avec14/image/train_Northwind/332_4_Northwind_video_aligned/0396.jpg  \n",
            "  inflating: /content/dataset/avec14/image/train_Northwind/332_4_Northwind_video_aligned/0399.jpg  \n",
            "  inflating: /content/dataset/avec14/image/train_Northwind/332_4_Northwind_video_aligned/0402.jpg  \n",
            "  inflating: /content/dataset/avec14/image/train_Northwind/332_4_Northwind_video_aligned/0405.jpg  \n",
            "  inflating: /content/dataset/avec14/image/train_Northwind/332_4_Northwind_video_aligned/0408.jpg  \n",
            "  inflating: /content/dataset/avec14/image/train_Northwind/332_4_Northwind_video_aligned/0411.jpg  \n",
            "  inflating: /content/dataset/avec14/image/train_Northwind/332_4_Northwind_video_aligned/0414.jpg  \n",
            "  inflating: /content/dataset/avec14/image/train_Northwind/332_4_Northwind_video_aligned/0417.jpg  \n",
            "  inflating: /content/dataset/avec14/image/train_Northwind/332_4_Northwind_video_aligned/0420.jpg  \n",
            "  inflating: /content/dataset/avec14/image/train_Northwind/332_4_Northwind_video_aligned/0423.jpg  \n",
            "  inflating: /content/dataset/avec14/image/train_Northwind/332_4_Northwind_video_aligned/0426.jpg  \n",
            "  inflating: /content/dataset/avec14/image/train_Northwind/332_4_Northwind_video_aligned/0429.jpg  \n",
            "  inflating: /content/dataset/avec14/image/train_Northwind/332_4_Northwind_video_aligned/0432.jpg  \n",
            "  inflating: /content/dataset/avec14/image/train_Northwind/332_4_Northwind_video_aligned/0435.jpg  \n",
            "  inflating: /content/dataset/avec14/image/train_Northwind/332_4_Northwind_video_aligned/0438.jpg  \n",
            "  inflating: /content/dataset/avec14/image/train_Northwind/332_4_Northwind_video_aligned/0441.jpg  \n",
            "  inflating: /content/dataset/avec14/image/train_Northwind/332_4_Northwind_video_aligned/0444.jpg  \n",
            "  inflating: /content/dataset/avec14/image/train_Northwind/332_4_Northwind_video_aligned/0447.jpg  \n",
            "  inflating: /content/dataset/avec14/image/train_Northwind/332_4_Northwind_video_aligned/0450.jpg  \n",
            "  inflating: /content/dataset/avec14/image/train_Northwind/332_4_Northwind_video_aligned/0453.jpg  \n",
            "  inflating: /content/dataset/avec14/image/train_Northwind/332_4_Northwind_video_aligned/0456.jpg  \n",
            "  inflating: /content/dataset/avec14/image/train_Northwind/332_4_Northwind_video_aligned/0459.jpg  \n",
            "  inflating: /content/dataset/avec14/image/train_Northwind/332_4_Northwind_video_aligned/0462.jpg  \n",
            "  inflating: /content/dataset/avec14/image/train_Northwind/332_4_Northwind_video_aligned/0465.jpg  \n",
            "  inflating: /content/dataset/avec14/image/train_Northwind/332_4_Northwind_video_aligned/0468.jpg  \n",
            "  inflating: /content/dataset/avec14/image/train_Northwind/332_4_Northwind_video_aligned/0471.jpg  \n",
            "  inflating: /content/dataset/avec14/image/train_Northwind/332_4_Northwind_video_aligned/0474.jpg  \n",
            "  inflating: /content/dataset/avec14/image/train_Northwind/332_4_Northwind_video_aligned/0477.jpg  \n",
            "  inflating: /content/dataset/avec14/image/train_Northwind/332_4_Northwind_video_aligned/0480.jpg  \n",
            "  inflating: /content/dataset/avec14/image/train_Northwind/332_4_Northwind_video_aligned/0483.jpg  \n",
            "  inflating: /content/dataset/avec14/image/train_Northwind/332_4_Northwind_video_aligned/0486.jpg  \n",
            "  inflating: /content/dataset/avec14/image/train_Northwind/332_4_Northwind_video_aligned/0489.jpg  \n",
            "  inflating: /content/dataset/avec14/image/train_Northwind/332_4_Northwind_video_aligned/0492.jpg  \n",
            "  inflating: /content/dataset/avec14/image/train_Northwind/332_4_Northwind_video_aligned/0495.jpg  \n",
            "  inflating: /content/dataset/avec14/image/train_Northwind/332_4_Northwind_video_aligned/0498.jpg  \n",
            "  inflating: /content/dataset/avec14/image/train_Northwind/332_4_Northwind_video_aligned/0501.jpg  \n",
            "  inflating: /content/dataset/avec14/image/train_Northwind/332_4_Northwind_video_aligned/0504.jpg  \n",
            "  inflating: /content/dataset/avec14/image/train_Northwind/332_4_Northwind_video_aligned/0507.jpg  \n",
            "  inflating: /content/dataset/avec14/image/train_Northwind/332_4_Northwind_video_aligned/0510.jpg  \n",
            "  inflating: /content/dataset/avec14/image/train_Northwind/332_4_Northwind_video_aligned/0513.jpg  \n",
            "  inflating: /content/dataset/avec14/image/train_Northwind/332_4_Northwind_video_aligned/0516.jpg  \n",
            "  inflating: /content/dataset/avec14/image/train_Northwind/332_4_Northwind_video_aligned/0519.jpg  \n",
            "  inflating: /content/dataset/avec14/image/train_Northwind/332_4_Northwind_video_aligned/0522.jpg  \n",
            "  inflating: /content/dataset/avec14/image/train_Northwind/332_4_Northwind_video_aligned/0525.jpg  \n",
            "  inflating: /content/dataset/avec14/image/train_Northwind/332_4_Northwind_video_aligned/0528.jpg  \n",
            "  inflating: /content/dataset/avec14/image/train_Northwind/332_4_Northwind_video_aligned/0531.jpg  \n",
            "  inflating: /content/dataset/avec14/image/train_Northwind/332_4_Northwind_video_aligned/0534.jpg  \n",
            "  inflating: /content/dataset/avec14/image/train_Northwind/332_4_Northwind_video_aligned/0537.jpg  \n",
            "  inflating: /content/dataset/avec14/image/train_Northwind/332_4_Northwind_video_aligned/0540.jpg  \n",
            "  inflating: /content/dataset/avec14/image/train_Northwind/332_4_Northwind_video_aligned/0543.jpg  \n",
            "  inflating: /content/dataset/avec14/image/train_Northwind/332_4_Northwind_video_aligned/0546.jpg  \n",
            "  inflating: /content/dataset/avec14/image/train_Northwind/332_4_Northwind_video_aligned/0549.jpg  \n",
            "  inflating: /content/dataset/avec14/image/train_Northwind/332_4_Northwind_video_aligned/0552.jpg  \n",
            "  inflating: /content/dataset/avec14/image/train_Northwind/332_4_Northwind_video_aligned/0555.jpg  \n",
            "  inflating: /content/dataset/avec14/image/train_Northwind/332_4_Northwind_video_aligned/0558.jpg  \n",
            "  inflating: /content/dataset/avec14/image/train_Northwind/332_4_Northwind_video_aligned/0561.jpg  \n",
            "  inflating: /content/dataset/avec14/image/train_Northwind/332_4_Northwind_video_aligned/0564.jpg  \n",
            "  inflating: /content/dataset/avec14/image/train_Northwind/332_4_Northwind_video_aligned/0567.jpg  \n",
            "  inflating: /content/dataset/avec14/image/train_Northwind/332_4_Northwind_video_aligned/0570.jpg  \n",
            "  inflating: /content/dataset/avec14/image/train_Northwind/332_4_Northwind_video_aligned/0573.jpg  \n",
            "  inflating: /content/dataset/avec14/image/train_Northwind/332_4_Northwind_video_aligned/0576.jpg  \n",
            "  inflating: /content/dataset/avec14/image/train_Northwind/332_4_Northwind_video_aligned/0579.jpg  \n",
            "  inflating: /content/dataset/avec14/image/train_Northwind/332_4_Northwind_video_aligned/0582.jpg  \n",
            "  inflating: /content/dataset/avec14/image/train_Northwind/332_4_Northwind_video_aligned/0585.jpg  \n",
            "  inflating: /content/dataset/avec14/image/train_Northwind/332_4_Northwind_video_aligned/0588.jpg  \n",
            "  inflating: /content/dataset/avec14/image/train_Northwind/332_4_Northwind_video_aligned/0591.jpg  \n",
            "  inflating: /content/dataset/avec14/image/train_Northwind/332_4_Northwind_video_aligned/0594.jpg  \n",
            "  inflating: /content/dataset/avec14/image/train_Northwind/332_4_Northwind_video_aligned/0597.jpg  \n",
            "  inflating: /content/dataset/avec14/image/train_Northwind/332_4_Northwind_video_aligned/0600.jpg  \n",
            "  inflating: /content/dataset/avec14/image/train_Northwind/332_4_Northwind_video_aligned/0603.jpg  \n",
            "  inflating: /content/dataset/avec14/image/train_Northwind/332_4_Northwind_video_aligned/0606.jpg  \n",
            "  inflating: /content/dataset/avec14/image/train_Northwind/332_4_Northwind_video_aligned/0609.jpg  \n",
            "  inflating: /content/dataset/avec14/image/train_Northwind/332_4_Northwind_video_aligned/0612.jpg  \n",
            "  inflating: /content/dataset/avec14/image/train_Northwind/332_4_Northwind_video_aligned/0615.jpg  \n",
            "  inflating: /content/dataset/avec14/image/train_Northwind/332_4_Northwind_video_aligned/0618.jpg  \n",
            "  inflating: /content/dataset/avec14/image/train_Northwind/332_4_Northwind_video_aligned/0621.jpg  \n",
            "  inflating: /content/dataset/avec14/image/train_Northwind/332_4_Northwind_video_aligned/0624.jpg  \n",
            "  inflating: /content/dataset/avec14/image/train_Northwind/332_4_Northwind_video_aligned/0627.jpg  \n",
            "  inflating: /content/dataset/avec14/image/train_Northwind/332_4_Northwind_video_aligned/0630.jpg  \n",
            "  inflating: /content/dataset/avec14/image/train_Northwind/332_4_Northwind_video_aligned/0633.jpg  \n",
            "  inflating: /content/dataset/avec14/image/train_Northwind/332_4_Northwind_video_aligned/0636.jpg  \n",
            "  inflating: /content/dataset/avec14/image/train_Northwind/332_4_Northwind_video_aligned/0639.jpg  \n",
            "  inflating: /content/dataset/avec14/image/train_Northwind/332_4_Northwind_video_aligned/0642.jpg  \n",
            "  inflating: /content/dataset/avec14/image/train_Northwind/332_4_Northwind_video_aligned/0645.jpg  \n",
            "  inflating: /content/dataset/avec14/image/train_Northwind/332_4_Northwind_video_aligned/0648.jpg  \n",
            "  inflating: /content/dataset/avec14/image/train_Northwind/332_4_Northwind_video_aligned/0651.jpg  \n",
            "  inflating: /content/dataset/avec14/image/train_Northwind/332_4_Northwind_video_aligned/0654.jpg  \n",
            "  inflating: /content/dataset/avec14/image/train_Northwind/332_4_Northwind_video_aligned/0657.jpg  \n",
            "  inflating: /content/dataset/avec14/image/train_Northwind/332_4_Northwind_video_aligned/0660.jpg  \n",
            "  inflating: /content/dataset/avec14/image/train_Northwind/332_4_Northwind_video_aligned/0663.jpg  \n",
            "  inflating: /content/dataset/avec14/image/train_Northwind/332_4_Northwind_video_aligned/0666.jpg  \n",
            "  inflating: /content/dataset/avec14/image/train_Northwind/332_4_Northwind_video_aligned/0669.jpg  \n",
            "  inflating: /content/dataset/avec14/image/train_Northwind/332_4_Northwind_video_aligned/0672.jpg  \n",
            "  inflating: /content/dataset/avec14/image/train_Northwind/332_4_Northwind_video_aligned/0675.jpg  \n",
            "  inflating: /content/dataset/avec14/image/train_Northwind/332_4_Northwind_video_aligned/0678.jpg  \n",
            "  inflating: /content/dataset/avec14/image/train_Northwind/332_4_Northwind_video_aligned/0681.jpg  \n",
            "  inflating: /content/dataset/avec14/image/train_Northwind/332_4_Northwind_video_aligned/0684.jpg  \n",
            "  inflating: /content/dataset/avec14/image/train_Northwind/332_4_Northwind_video_aligned/0687.jpg  \n",
            "  inflating: /content/dataset/avec14/image/train_Northwind/332_4_Northwind_video_aligned/0690.jpg  \n",
            "  inflating: /content/dataset/avec14/image/train_Northwind/332_4_Northwind_video_aligned/0693.jpg  \n",
            "  inflating: /content/dataset/avec14/image/train_Northwind/332_4_Northwind_video_aligned/0696.jpg  \n",
            "  inflating: /content/dataset/avec14/image/train_Northwind/332_4_Northwind_video_aligned/0699.jpg  \n",
            "  inflating: /content/dataset/avec14/image/train_Northwind/332_4_Northwind_video_aligned/0702.jpg  \n",
            "  inflating: /content/dataset/avec14/image/train_Northwind/332_4_Northwind_video_aligned/0705.jpg  \n",
            "  inflating: /content/dataset/avec14/image/train_Northwind/332_4_Northwind_video_aligned/0708.jpg  \n",
            "  inflating: /content/dataset/avec14/image/train_Northwind/332_4_Northwind_video_aligned/0711.jpg  \n",
            "  inflating: /content/dataset/avec14/image/train_Northwind/332_4_Northwind_video_aligned/0714.jpg  \n",
            "  inflating: /content/dataset/avec14/image/train_Northwind/332_4_Northwind_video_aligned/0717.jpg  \n",
            "  inflating: /content/dataset/avec14/image/train_Northwind/332_4_Northwind_video_aligned/0720.jpg  \n",
            "  inflating: /content/dataset/avec14/image/train_Northwind/332_4_Northwind_video_aligned/0723.jpg  \n",
            "  inflating: /content/dataset/avec14/image/train_Northwind/332_4_Northwind_video_aligned/0726.jpg  \n",
            "  inflating: /content/dataset/avec14/image/train_Northwind/332_4_Northwind_video_aligned/0729.jpg  \n",
            "  inflating: /content/dataset/avec14/image/train_Northwind/332_4_Northwind_video_aligned/0732.jpg  \n",
            "  inflating: /content/dataset/avec14/image/train_Northwind/332_4_Northwind_video_aligned/0735.jpg  \n",
            "  inflating: /content/dataset/avec14/image/train_Northwind/332_4_Northwind_video_aligned/0738.jpg  \n",
            "  inflating: /content/dataset/avec14/image/train_Northwind/332_4_Northwind_video_aligned/0741.jpg  \n",
            "  inflating: /content/dataset/avec14/image/train_Northwind/332_4_Northwind_video_aligned/0744.jpg  \n",
            "  inflating: /content/dataset/avec14/image/train_Northwind/332_4_Northwind_video_aligned/0747.jpg  \n",
            "  inflating: /content/dataset/avec14/image/train_Northwind/332_4_Northwind_video_aligned/0750.jpg  \n",
            "  inflating: /content/dataset/avec14/image/train_Northwind/332_4_Northwind_video_aligned/0753.jpg  \n",
            "  inflating: /content/dataset/avec14/image/train_Northwind/332_4_Northwind_video_aligned/0756.jpg  \n",
            "  inflating: /content/dataset/avec14/image/train_Northwind/332_4_Northwind_video_aligned/0759.jpg  \n",
            "  inflating: /content/dataset/avec14/image/train_Northwind/332_4_Northwind_video_aligned/0762.jpg  \n",
            "  inflating: /content/dataset/avec14/image/train_Northwind/332_4_Northwind_video_aligned/0765.jpg  \n",
            "  inflating: /content/dataset/avec14/image/train_Northwind/332_4_Northwind_video_aligned/0768.jpg  \n",
            "  inflating: /content/dataset/avec14/image/train_Northwind/332_4_Northwind_video_aligned/0771.jpg  \n",
            "  inflating: /content/dataset/avec14/image/train_Northwind/332_4_Northwind_video_aligned/0774.jpg  \n",
            "  inflating: /content/dataset/avec14/image/train_Northwind/332_4_Northwind_video_aligned/0777.jpg  \n",
            "  inflating: /content/dataset/avec14/image/train_Northwind/332_4_Northwind_video_aligned/0780.jpg  \n",
            "  inflating: /content/dataset/avec14/image/train_Northwind/332_4_Northwind_video_aligned/0783.jpg  \n",
            "  inflating: /content/dataset/avec14/image/train_Northwind/332_4_Northwind_video_aligned/0786.jpg  \n",
            "  inflating: /content/dataset/avec14/image/train_Northwind/332_4_Northwind_video_aligned/0789.jpg  \n",
            "  inflating: /content/dataset/avec14/image/train_Northwind/332_4_Northwind_video_aligned/0792.jpg  \n",
            "  inflating: /content/dataset/avec14/image/train_Northwind/332_4_Northwind_video_aligned/0795.jpg  \n",
            "  inflating: /content/dataset/avec14/image/train_Northwind/332_4_Northwind_video_aligned/0798.jpg  \n",
            "  inflating: /content/dataset/avec14/image/train_Northwind/332_4_Northwind_video_aligned/0801.jpg  \n",
            "  inflating: /content/dataset/avec14/image/train_Northwind/332_4_Northwind_video_aligned/0804.jpg  \n",
            "  inflating: /content/dataset/avec14/image/train_Northwind/332_4_Northwind_video_aligned/0807.jpg  \n",
            "  inflating: /content/dataset/avec14/image/train_Northwind/332_4_Northwind_video_aligned/0810.jpg  \n",
            "  inflating: /content/dataset/avec14/image/train_Northwind/332_4_Northwind_video_aligned/0813.jpg  \n",
            "  inflating: /content/dataset/avec14/image/train_Northwind/332_4_Northwind_video_aligned/0816.jpg  \n",
            "  inflating: /content/dataset/avec14/image/train_Northwind/332_4_Northwind_video_aligned/0819.jpg  \n",
            "  inflating: /content/dataset/avec14/image/train_Northwind/332_4_Northwind_video_aligned/0822.jpg  \n",
            "  inflating: /content/dataset/avec14/image/train_Northwind/332_4_Northwind_video_aligned/0825.jpg  \n",
            "  inflating: /content/dataset/avec14/image/train_Northwind/332_4_Northwind_video_aligned/0828.jpg  \n",
            "  inflating: /content/dataset/avec14/image/train_Northwind/332_4_Northwind_video_aligned/0831.jpg  \n",
            "  inflating: /content/dataset/avec14/image/train_Northwind/332_4_Northwind_video_aligned/0834.jpg  \n",
            "  inflating: /content/dataset/avec14/image/train_Northwind/332_4_Northwind_video_aligned/0837.jpg  \n",
            "  inflating: /content/dataset/avec14/image/train_Northwind/332_4_Northwind_video_aligned/0840.jpg  \n",
            "  inflating: /content/dataset/avec14/image/train_Northwind/332_4_Northwind_video_aligned/0843.jpg  \n",
            "  inflating: /content/dataset/avec14/image/train_Northwind/332_4_Northwind_video_aligned/0846.jpg  \n",
            "  inflating: /content/dataset/avec14/image/train_Northwind/332_4_Northwind_video_aligned/0849.jpg  \n",
            "  inflating: /content/dataset/avec14/image/train_Northwind/332_4_Northwind_video_aligned/0852.jpg  \n",
            "  inflating: /content/dataset/avec14/image/train_Northwind/332_4_Northwind_video_aligned/0855.jpg  \n",
            "  inflating: /content/dataset/avec14/image/train_Northwind/332_4_Northwind_video_aligned/0858.jpg  \n",
            "  inflating: /content/dataset/avec14/image/train_Northwind/332_4_Northwind_video_aligned/0861.jpg  \n",
            "  inflating: /content/dataset/avec14/image/train_Northwind/332_4_Northwind_video_aligned/0864.jpg  \n",
            "  inflating: /content/dataset/avec14/image/train_Northwind/332_4_Northwind_video_aligned/0867.jpg  \n",
            "  inflating: /content/dataset/avec14/image/train_Northwind/332_4_Northwind_video_aligned/0870.jpg  \n",
            "  inflating: /content/dataset/avec14/image/train_Northwind/332_4_Northwind_video_aligned/0873.jpg  \n",
            "  inflating: /content/dataset/avec14/image/train_Northwind/332_4_Northwind_video_aligned/0876.jpg  \n",
            "  inflating: /content/dataset/avec14/image/train_Northwind/332_4_Northwind_video_aligned/0879.jpg  \n",
            "  inflating: /content/dataset/avec14/image/train_Northwind/332_4_Northwind_video_aligned/0882.jpg  \n",
            "  inflating: /content/dataset/avec14/image/train_Northwind/332_4_Northwind_video_aligned/0885.jpg  \n",
            "  inflating: /content/dataset/avec14/image/train_Northwind/332_4_Northwind_video_aligned/0888.jpg  \n",
            "  inflating: /content/dataset/avec14/image/train_Northwind/332_4_Northwind_video_aligned/0891.jpg  \n",
            "  inflating: /content/dataset/avec14/image/train_Northwind/332_4_Northwind_video_aligned/0894.jpg  \n",
            "  inflating: /content/dataset/avec14/image/train_Northwind/332_4_Northwind_video_aligned/0897.jpg  \n",
            "  inflating: /content/dataset/avec14/image/train_Northwind/332_4_Northwind_video_aligned/0900.jpg  \n",
            "  inflating: /content/dataset/avec14/image/train_Northwind/332_4_Northwind_video_aligned/0903.jpg  \n",
            "  inflating: /content/dataset/avec14/image/train_Northwind/332_4_Northwind_video_aligned/0906.jpg  \n",
            "  inflating: /content/dataset/avec14/image/train_Northwind/332_4_Northwind_video_aligned/0909.jpg  \n",
            "  inflating: /content/dataset/avec14/image/train_Northwind/332_4_Northwind_video_aligned/0912.jpg  \n",
            "  inflating: /content/dataset/avec14/image/train_Northwind/332_4_Northwind_video_aligned/0915.jpg  \n",
            "  inflating: /content/dataset/avec14/image/train_Northwind/332_4_Northwind_video_aligned/0918.jpg  \n",
            "  inflating: /content/dataset/avec14/image/train_Northwind/332_4_Northwind_video_aligned/0921.jpg  \n",
            "  inflating: /content/dataset/avec14/image/train_Northwind/332_4_Northwind_video_aligned/0924.jpg  \n",
            "  inflating: /content/dataset/avec14/image/train_Northwind/332_4_Northwind_video_aligned/0927.jpg  \n",
            "  inflating: /content/dataset/avec14/image/train_Northwind/332_4_Northwind_video_aligned/0930.jpg  \n",
            "  inflating: /content/dataset/avec14/image/train_Northwind/332_4_Northwind_video_aligned/0933.jpg  \n",
            "  inflating: /content/dataset/avec14/image/train_Northwind/332_4_Northwind_video_aligned/0936.jpg  \n",
            "  inflating: /content/dataset/avec14/image/train_Northwind/332_4_Northwind_video_aligned/0939.jpg  \n",
            "  inflating: /content/dataset/avec14/image/train_Northwind/332_4_Northwind_video_aligned/0942.jpg  \n",
            "  inflating: /content/dataset/avec14/image/train_Northwind/332_4_Northwind_video_aligned/0945.jpg  \n",
            "  inflating: /content/dataset/avec14/image/train_Northwind/332_4_Northwind_video_aligned/0948.jpg  \n",
            "  inflating: /content/dataset/avec14/image/train_Northwind/332_4_Northwind_video_aligned/0951.jpg  \n",
            "  inflating: /content/dataset/avec14/image/train_Northwind/332_4_Northwind_video_aligned/0954.jpg  \n",
            "  inflating: /content/dataset/avec14/image/train_Northwind/332_4_Northwind_video_aligned/0957.jpg  \n",
            "  inflating: /content/dataset/avec14/image/train_Northwind/332_4_Northwind_video_aligned/0960.jpg  \n",
            "  inflating: /content/dataset/avec14/image/train_Northwind/332_4_Northwind_video_aligned/0963.jpg  \n",
            "  inflating: /content/dataset/avec14/image/train_Northwind/332_4_Northwind_video_aligned/0966.jpg  \n",
            "  inflating: /content/dataset/avec14/image/train_Northwind/332_4_Northwind_video_aligned/0969.jpg  \n",
            "  inflating: /content/dataset/avec14/image/train_Northwind/332_4_Northwind_video_aligned/0972.jpg  \n",
            "  inflating: /content/dataset/avec14/image/train_Northwind/332_4_Northwind_video_aligned/0975.jpg  \n",
            "  inflating: /content/dataset/avec14/image/train_Northwind/332_4_Northwind_video_aligned/0978.jpg  \n",
            "  inflating: /content/dataset/avec14/image/train_Northwind/332_4_Northwind_video_aligned/0981.jpg  \n",
            "  inflating: /content/dataset/avec14/image/train_Northwind/332_4_Northwind_video_aligned/0984.jpg  \n",
            "  inflating: /content/dataset/avec14/image/train_Northwind/332_4_Northwind_video_aligned/0987.jpg  \n"
          ]
        }
      ]
    },
    {
      "cell_type": "code",
      "source": [
        "!ls /content/dataset/avec14\n"
      ],
      "metadata": {
        "colab": {
          "base_uri": "https://localhost:8080/"
        },
        "id": "HgAGHu-lzzgN",
        "outputId": "4160d47e-3390-4ea7-86c1-bf62d7fb9daa"
      },
      "execution_count": null,
      "outputs": [
        {
          "output_type": "stream",
          "name": "stdout",
          "text": [
            "image\n"
          ]
        }
      ]
    },
    {
      "cell_type": "code",
      "source": [
        "!mv /content/labels_updated.csv /content/dataset/avec14/labels.csv\n"
      ],
      "metadata": {
        "id": "3FHDAKVw3cCQ"
      },
      "execution_count": null,
      "outputs": []
    },
    {
      "cell_type": "code",
      "source": [
        "!head /content/dataset/avec14/labels.csv"
      ],
      "metadata": {
        "colab": {
          "base_uri": "https://localhost:8080/"
        },
        "id": "69_HxJ4d3gFT",
        "outputId": "caa31a0e-8238-410e-8043-7996fd153289"
      },
      "execution_count": null,
      "outputs": [
        {
          "output_type": "stream",
          "name": "stdout",
          "text": [
            "filename,BDI-II\r\n",
            "Northwind_Training/203_1_Northwind_video_aligned,3\r\n",
            "Freeform_Training/203_1_Freeform_video_aligned,3\r\n",
            "Northwind_Training/205_2_Northwind_video_aligned,3\r\n",
            "Freeform_Training/205_2_Freeform_video_aligned,3\r\n",
            "Northwind_Training/207_2_Northwind_video_aligned,10\r\n",
            "Freeform_Training/207_2_Freeform_video_aligned,10\r\n",
            "Northwind_Training/208_2_Northwind_video_aligned,4\r\n",
            "Freeform_Training/208_2_Freeform_video_aligned,4\r\n",
            "Northwind_Training/209_1_Northwind_video_aligned,6\r\n"
          ]
        }
      ]
    },
    {
      "cell_type": "code",
      "source": [
        "!mv /content/dataset/avec14/image/train_Northwind /content/dataset/avec14/image/Northwind_Training\n",
        "!mv /content/dataset/avec14/image/train_Freeform /content/dataset/avec14/image/Freeform_Training\n",
        "!mv /content/dataset/avec14/image/test_Northwind /content/dataset/avec14/image/Northwind_Testing\n",
        "!mv /content/dataset/avec14/image/test_Freeform /content/dataset/avec14/image/Freeform_Testing\n",
        "!mv /content/dataset/avec14/image/dev_Northwind /content/dataset/avec14/image/Northwind_Development\n",
        "!mv /content/dataset/avec14/image/dev_Freeform /content/dataset/avec14/image/Freeform_Development"
      ],
      "metadata": {
        "id": "fZmQm5XX3iHd"
      },
      "execution_count": null,
      "outputs": []
    },
    {
      "cell_type": "code",
      "source": [
        "%cd /content\n"
      ],
      "metadata": {
        "colab": {
          "base_uri": "https://localhost:8080/"
        },
        "id": "7Ng0RveR3krW",
        "outputId": "756331d4-4c19-4f47-b312-b673dd1a6474"
      },
      "execution_count": null,
      "outputs": [
        {
          "output_type": "stream",
          "name": "stdout",
          "text": [
            "/content\n"
          ]
        }
      ]
    },
    {
      "cell_type": "code",
      "source": [
        "!pip install torch torchvision torchaudio\n",
        "!pip install numpy pandas scikit-learn tqdm Pillow\n",
        "!pip install matplotlib seaborn\n",
        "!pip install patool\n",
        "\n",
        "import torch\n",
        "print(f\"PyTorch version: {torch.__version__}\")\n",
        "print(f\"CUDA available: {torch.cuda.is_available()}\")"
      ],
      "metadata": {
        "colab": {
          "base_uri": "https://localhost:8080/"
        },
        "id": "hiI9nP5J7aE6",
        "outputId": "3fb346fb-b46f-436d-ef98-cf57714ea601"
      },
      "execution_count": null,
      "outputs": [
        {
          "output_type": "stream",
          "name": "stdout",
          "text": [
            "Requirement already satisfied: torch in /usr/local/lib/python3.11/dist-packages (2.6.0+cu124)\n",
            "Requirement already satisfied: torchvision in /usr/local/lib/python3.11/dist-packages (0.21.0+cu124)\n",
            "Requirement already satisfied: torchaudio in /usr/local/lib/python3.11/dist-packages (2.6.0+cu124)\n",
            "Requirement already satisfied: filelock in /usr/local/lib/python3.11/dist-packages (from torch) (3.18.0)\n",
            "Requirement already satisfied: typing-extensions>=4.10.0 in /usr/local/lib/python3.11/dist-packages (from torch) (4.14.1)\n",
            "Requirement already satisfied: networkx in /usr/local/lib/python3.11/dist-packages (from torch) (3.5)\n",
            "Requirement already satisfied: jinja2 in /usr/local/lib/python3.11/dist-packages (from torch) (3.1.6)\n",
            "Requirement already satisfied: fsspec in /usr/local/lib/python3.11/dist-packages (from torch) (2025.3.0)\n",
            "Collecting nvidia-cuda-nvrtc-cu12==12.4.127 (from torch)\n",
            "  Downloading nvidia_cuda_nvrtc_cu12-12.4.127-py3-none-manylinux2014_x86_64.whl.metadata (1.5 kB)\n",
            "Collecting nvidia-cuda-runtime-cu12==12.4.127 (from torch)\n",
            "  Downloading nvidia_cuda_runtime_cu12-12.4.127-py3-none-manylinux2014_x86_64.whl.metadata (1.5 kB)\n",
            "Collecting nvidia-cuda-cupti-cu12==12.4.127 (from torch)\n",
            "  Downloading nvidia_cuda_cupti_cu12-12.4.127-py3-none-manylinux2014_x86_64.whl.metadata (1.6 kB)\n",
            "Collecting nvidia-cudnn-cu12==9.1.0.70 (from torch)\n",
            "  Downloading nvidia_cudnn_cu12-9.1.0.70-py3-none-manylinux2014_x86_64.whl.metadata (1.6 kB)\n",
            "Collecting nvidia-cublas-cu12==12.4.5.8 (from torch)\n",
            "  Downloading nvidia_cublas_cu12-12.4.5.8-py3-none-manylinux2014_x86_64.whl.metadata (1.5 kB)\n",
            "Collecting nvidia-cufft-cu12==11.2.1.3 (from torch)\n",
            "  Downloading nvidia_cufft_cu12-11.2.1.3-py3-none-manylinux2014_x86_64.whl.metadata (1.5 kB)\n",
            "Collecting nvidia-curand-cu12==10.3.5.147 (from torch)\n",
            "  Downloading nvidia_curand_cu12-10.3.5.147-py3-none-manylinux2014_x86_64.whl.metadata (1.5 kB)\n",
            "Collecting nvidia-cusolver-cu12==11.6.1.9 (from torch)\n",
            "  Downloading nvidia_cusolver_cu12-11.6.1.9-py3-none-manylinux2014_x86_64.whl.metadata (1.6 kB)\n",
            "Collecting nvidia-cusparse-cu12==12.3.1.170 (from torch)\n",
            "  Downloading nvidia_cusparse_cu12-12.3.1.170-py3-none-manylinux2014_x86_64.whl.metadata (1.6 kB)\n",
            "Requirement already satisfied: nvidia-cusparselt-cu12==0.6.2 in /usr/local/lib/python3.11/dist-packages (from torch) (0.6.2)\n",
            "Requirement already satisfied: nvidia-nccl-cu12==2.21.5 in /usr/local/lib/python3.11/dist-packages (from torch) (2.21.5)\n",
            "Requirement already satisfied: nvidia-nvtx-cu12==12.4.127 in /usr/local/lib/python3.11/dist-packages (from torch) (12.4.127)\n",
            "Collecting nvidia-nvjitlink-cu12==12.4.127 (from torch)\n",
            "  Downloading nvidia_nvjitlink_cu12-12.4.127-py3-none-manylinux2014_x86_64.whl.metadata (1.5 kB)\n",
            "Requirement already satisfied: triton==3.2.0 in /usr/local/lib/python3.11/dist-packages (from torch) (3.2.0)\n",
            "Requirement already satisfied: sympy==1.13.1 in /usr/local/lib/python3.11/dist-packages (from torch) (1.13.1)\n",
            "Requirement already satisfied: mpmath<1.4,>=1.1.0 in /usr/local/lib/python3.11/dist-packages (from sympy==1.13.1->torch) (1.3.0)\n",
            "Requirement already satisfied: numpy in /usr/local/lib/python3.11/dist-packages (from torchvision) (2.0.2)\n",
            "Requirement already satisfied: pillow!=8.3.*,>=5.3.0 in /usr/local/lib/python3.11/dist-packages (from torchvision) (11.3.0)\n",
            "Requirement already satisfied: MarkupSafe>=2.0 in /usr/local/lib/python3.11/dist-packages (from jinja2->torch) (3.0.2)\n",
            "Downloading nvidia_cublas_cu12-12.4.5.8-py3-none-manylinux2014_x86_64.whl (363.4 MB)\n",
            "\u001b[2K   \u001b[90m━━━━━━━━━━━━━━━━━━━━━━━━━━━━━━━━━━━━━━━━\u001b[0m \u001b[32m363.4/363.4 MB\u001b[0m \u001b[31m3.9 MB/s\u001b[0m eta \u001b[36m0:00:00\u001b[0m\n",
            "\u001b[?25hDownloading nvidia_cuda_cupti_cu12-12.4.127-py3-none-manylinux2014_x86_64.whl (13.8 MB)\n",
            "\u001b[2K   \u001b[90m━━━━━━━━━━━━━━━━━━━━━━━━━━━━━━━━━━━━━━━━\u001b[0m \u001b[32m13.8/13.8 MB\u001b[0m \u001b[31m125.6 MB/s\u001b[0m eta \u001b[36m0:00:00\u001b[0m\n",
            "\u001b[?25hDownloading nvidia_cuda_nvrtc_cu12-12.4.127-py3-none-manylinux2014_x86_64.whl (24.6 MB)\n",
            "\u001b[2K   \u001b[90m━━━━━━━━━━━━━━━━━━━━━━━━━━━━━━━━━━━━━━━━\u001b[0m \u001b[32m24.6/24.6 MB\u001b[0m \u001b[31m94.4 MB/s\u001b[0m eta \u001b[36m0:00:00\u001b[0m\n",
            "\u001b[?25hDownloading nvidia_cuda_runtime_cu12-12.4.127-py3-none-manylinux2014_x86_64.whl (883 kB)\n",
            "\u001b[2K   \u001b[90m━━━━━━━━━━━━━━━━━━━━━━━━━━━━━━━━━━━━━━━━\u001b[0m \u001b[32m883.7/883.7 kB\u001b[0m \u001b[31m59.9 MB/s\u001b[0m eta \u001b[36m0:00:00\u001b[0m\n",
            "\u001b[?25hDownloading nvidia_cudnn_cu12-9.1.0.70-py3-none-manylinux2014_x86_64.whl (664.8 MB)\n",
            "\u001b[2K   \u001b[90m━━━━━━━━━━━━━━━━━━━━━━━━━━━━━━━━━━━━━━━━\u001b[0m \u001b[32m664.8/664.8 MB\u001b[0m \u001b[31m1.7 MB/s\u001b[0m eta \u001b[36m0:00:00\u001b[0m\n",
            "\u001b[?25hDownloading nvidia_cufft_cu12-11.2.1.3-py3-none-manylinux2014_x86_64.whl (211.5 MB)\n",
            "\u001b[2K   \u001b[90m━━━━━━━━━━━━━━━━━━━━━━━━━━━━━━━━━━━━━━━━\u001b[0m \u001b[32m211.5/211.5 MB\u001b[0m \u001b[31m4.9 MB/s\u001b[0m eta \u001b[36m0:00:00\u001b[0m\n",
            "\u001b[?25hDownloading nvidia_curand_cu12-10.3.5.147-py3-none-manylinux2014_x86_64.whl (56.3 MB)\n",
            "\u001b[2K   \u001b[90m━━━━━━━━━━━━━━━━━━━━━━━━━━━━━━━━━━━━━━━━\u001b[0m \u001b[32m56.3/56.3 MB\u001b[0m \u001b[31m13.4 MB/s\u001b[0m eta \u001b[36m0:00:00\u001b[0m\n",
            "\u001b[?25hDownloading nvidia_cusolver_cu12-11.6.1.9-py3-none-manylinux2014_x86_64.whl (127.9 MB)\n",
            "\u001b[2K   \u001b[90m━━━━━━━━━━━━━━━━━━━━━━━━━━━━━━━━━━━━━━━━\u001b[0m \u001b[32m127.9/127.9 MB\u001b[0m \u001b[31m8.6 MB/s\u001b[0m eta \u001b[36m0:00:00\u001b[0m\n",
            "\u001b[?25hDownloading nvidia_cusparse_cu12-12.3.1.170-py3-none-manylinux2014_x86_64.whl (207.5 MB)\n",
            "\u001b[2K   \u001b[90m━━━━━━━━━━━━━━━━━━━━━━━━━━━━━━━━━━━━━━━━\u001b[0m \u001b[32m207.5/207.5 MB\u001b[0m \u001b[31m5.6 MB/s\u001b[0m eta \u001b[36m0:00:00\u001b[0m\n",
            "\u001b[?25hDownloading nvidia_nvjitlink_cu12-12.4.127-py3-none-manylinux2014_x86_64.whl (21.1 MB)\n",
            "\u001b[2K   \u001b[90m━━━━━━━━━━━━━━━━━━━━━━━━━━━━━━━━━━━━━━━━\u001b[0m \u001b[32m21.1/21.1 MB\u001b[0m \u001b[31m110.0 MB/s\u001b[0m eta \u001b[36m0:00:00\u001b[0m\n",
            "\u001b[?25hInstalling collected packages: nvidia-nvjitlink-cu12, nvidia-curand-cu12, nvidia-cufft-cu12, nvidia-cuda-runtime-cu12, nvidia-cuda-nvrtc-cu12, nvidia-cuda-cupti-cu12, nvidia-cublas-cu12, nvidia-cusparse-cu12, nvidia-cudnn-cu12, nvidia-cusolver-cu12\n",
            "  Attempting uninstall: nvidia-nvjitlink-cu12\n",
            "    Found existing installation: nvidia-nvjitlink-cu12 12.5.82\n",
            "    Uninstalling nvidia-nvjitlink-cu12-12.5.82:\n",
            "      Successfully uninstalled nvidia-nvjitlink-cu12-12.5.82\n",
            "  Attempting uninstall: nvidia-curand-cu12\n",
            "    Found existing installation: nvidia-curand-cu12 10.3.6.82\n",
            "    Uninstalling nvidia-curand-cu12-10.3.6.82:\n",
            "      Successfully uninstalled nvidia-curand-cu12-10.3.6.82\n",
            "  Attempting uninstall: nvidia-cufft-cu12\n",
            "    Found existing installation: nvidia-cufft-cu12 11.2.3.61\n",
            "    Uninstalling nvidia-cufft-cu12-11.2.3.61:\n",
            "      Successfully uninstalled nvidia-cufft-cu12-11.2.3.61\n",
            "  Attempting uninstall: nvidia-cuda-runtime-cu12\n",
            "    Found existing installation: nvidia-cuda-runtime-cu12 12.5.82\n",
            "    Uninstalling nvidia-cuda-runtime-cu12-12.5.82:\n",
            "      Successfully uninstalled nvidia-cuda-runtime-cu12-12.5.82\n",
            "  Attempting uninstall: nvidia-cuda-nvrtc-cu12\n",
            "    Found existing installation: nvidia-cuda-nvrtc-cu12 12.5.82\n",
            "    Uninstalling nvidia-cuda-nvrtc-cu12-12.5.82:\n",
            "      Successfully uninstalled nvidia-cuda-nvrtc-cu12-12.5.82\n",
            "  Attempting uninstall: nvidia-cuda-cupti-cu12\n",
            "    Found existing installation: nvidia-cuda-cupti-cu12 12.5.82\n",
            "    Uninstalling nvidia-cuda-cupti-cu12-12.5.82:\n",
            "      Successfully uninstalled nvidia-cuda-cupti-cu12-12.5.82\n",
            "  Attempting uninstall: nvidia-cublas-cu12\n",
            "    Found existing installation: nvidia-cublas-cu12 12.5.3.2\n",
            "    Uninstalling nvidia-cublas-cu12-12.5.3.2:\n",
            "      Successfully uninstalled nvidia-cublas-cu12-12.5.3.2\n",
            "  Attempting uninstall: nvidia-cusparse-cu12\n",
            "    Found existing installation: nvidia-cusparse-cu12 12.5.1.3\n",
            "    Uninstalling nvidia-cusparse-cu12-12.5.1.3:\n",
            "      Successfully uninstalled nvidia-cusparse-cu12-12.5.1.3\n",
            "  Attempting uninstall: nvidia-cudnn-cu12\n",
            "    Found existing installation: nvidia-cudnn-cu12 9.3.0.75\n",
            "    Uninstalling nvidia-cudnn-cu12-9.3.0.75:\n",
            "      Successfully uninstalled nvidia-cudnn-cu12-9.3.0.75\n",
            "  Attempting uninstall: nvidia-cusolver-cu12\n",
            "    Found existing installation: nvidia-cusolver-cu12 11.6.3.83\n",
            "    Uninstalling nvidia-cusolver-cu12-11.6.3.83:\n",
            "      Successfully uninstalled nvidia-cusolver-cu12-11.6.3.83\n",
            "Successfully installed nvidia-cublas-cu12-12.4.5.8 nvidia-cuda-cupti-cu12-12.4.127 nvidia-cuda-nvrtc-cu12-12.4.127 nvidia-cuda-runtime-cu12-12.4.127 nvidia-cudnn-cu12-9.1.0.70 nvidia-cufft-cu12-11.2.1.3 nvidia-curand-cu12-10.3.5.147 nvidia-cusolver-cu12-11.6.1.9 nvidia-cusparse-cu12-12.3.1.170 nvidia-nvjitlink-cu12-12.4.127\n",
            "Requirement already satisfied: numpy in /usr/local/lib/python3.11/dist-packages (2.0.2)\n",
            "Requirement already satisfied: pandas in /usr/local/lib/python3.11/dist-packages (2.2.2)\n",
            "Requirement already satisfied: scikit-learn in /usr/local/lib/python3.11/dist-packages (1.6.1)\n",
            "Requirement already satisfied: tqdm in /usr/local/lib/python3.11/dist-packages (4.67.1)\n",
            "Requirement already satisfied: Pillow in /usr/local/lib/python3.11/dist-packages (11.3.0)\n",
            "Requirement already satisfied: python-dateutil>=2.8.2 in /usr/local/lib/python3.11/dist-packages (from pandas) (2.9.0.post0)\n",
            "Requirement already satisfied: pytz>=2020.1 in /usr/local/lib/python3.11/dist-packages (from pandas) (2025.2)\n",
            "Requirement already satisfied: tzdata>=2022.7 in /usr/local/lib/python3.11/dist-packages (from pandas) (2025.2)\n",
            "Requirement already satisfied: scipy>=1.6.0 in /usr/local/lib/python3.11/dist-packages (from scikit-learn) (1.16.0)\n",
            "Requirement already satisfied: joblib>=1.2.0 in /usr/local/lib/python3.11/dist-packages (from scikit-learn) (1.5.1)\n",
            "Requirement already satisfied: threadpoolctl>=3.1.0 in /usr/local/lib/python3.11/dist-packages (from scikit-learn) (3.6.0)\n",
            "Requirement already satisfied: six>=1.5 in /usr/local/lib/python3.11/dist-packages (from python-dateutil>=2.8.2->pandas) (1.17.0)\n",
            "Requirement already satisfied: matplotlib in /usr/local/lib/python3.11/dist-packages (3.10.0)\n",
            "Requirement already satisfied: seaborn in /usr/local/lib/python3.11/dist-packages (0.13.2)\n",
            "Requirement already satisfied: contourpy>=1.0.1 in /usr/local/lib/python3.11/dist-packages (from matplotlib) (1.3.2)\n",
            "Requirement already satisfied: cycler>=0.10 in /usr/local/lib/python3.11/dist-packages (from matplotlib) (0.12.1)\n",
            "Requirement already satisfied: fonttools>=4.22.0 in /usr/local/lib/python3.11/dist-packages (from matplotlib) (4.59.0)\n",
            "Requirement already satisfied: kiwisolver>=1.3.1 in /usr/local/lib/python3.11/dist-packages (from matplotlib) (1.4.8)\n",
            "Requirement already satisfied: numpy>=1.23 in /usr/local/lib/python3.11/dist-packages (from matplotlib) (2.0.2)\n",
            "Requirement already satisfied: packaging>=20.0 in /usr/local/lib/python3.11/dist-packages (from matplotlib) (25.0)\n",
            "Requirement already satisfied: pillow>=8 in /usr/local/lib/python3.11/dist-packages (from matplotlib) (11.3.0)\n",
            "Requirement already satisfied: pyparsing>=2.3.1 in /usr/local/lib/python3.11/dist-packages (from matplotlib) (3.2.3)\n",
            "Requirement already satisfied: python-dateutil>=2.7 in /usr/local/lib/python3.11/dist-packages (from matplotlib) (2.9.0.post0)\n",
            "Requirement already satisfied: pandas>=1.2 in /usr/local/lib/python3.11/dist-packages (from seaborn) (2.2.2)\n",
            "Requirement already satisfied: pytz>=2020.1 in /usr/local/lib/python3.11/dist-packages (from pandas>=1.2->seaborn) (2025.2)\n",
            "Requirement already satisfied: tzdata>=2022.7 in /usr/local/lib/python3.11/dist-packages (from pandas>=1.2->seaborn) (2025.2)\n",
            "Requirement already satisfied: six>=1.5 in /usr/local/lib/python3.11/dist-packages (from python-dateutil>=2.7->matplotlib) (1.17.0)\n",
            "Collecting patool\n",
            "  Downloading patool-4.0.1-py2.py3-none-any.whl.metadata (4.5 kB)\n",
            "Downloading patool-4.0.1-py2.py3-none-any.whl (86 kB)\n",
            "\u001b[2K   \u001b[90m━━━━━━━━━━━━━━━━━━━━━━━━━━━━━━━━━━━━━━━━\u001b[0m \u001b[32m86.5/86.5 kB\u001b[0m \u001b[31m3.6 MB/s\u001b[0m eta \u001b[36m0:00:00\u001b[0m\n",
            "\u001b[?25hInstalling collected packages: patool\n",
            "Successfully installed patool-4.0.1\n",
            "PyTorch version: 2.6.0+cu124\n",
            "CUDA available: True\n"
          ]
        }
      ]
    },
    {
      "cell_type": "markdown",
      "source": [
        "### ResNet18 version"
      ],
      "metadata": {
        "id": "IVc-mVafkimh"
      }
    },
    {
      "cell_type": "code",
      "source": [
        "import torch\n",
        "import torch.nn as nn\n",
        "import torch.optim as optim\n",
        "from torch.utils.data import Dataset, DataLoader\n",
        "from torchvision import models, transforms\n",
        "import numpy as np\n",
        "import pandas as pd\n",
        "from sklearn.model_selection import train_test_split\n",
        "from PIL import Image\n",
        "import os\n",
        "import time\n",
        "import copy\n",
        "import random\n",
        "from tqdm import tqdm\n",
        "\n",
        "device = torch.device(\"cuda:0\" if torch.cuda.is_available() else \"cpu\")\n",
        "print(f\"Using device: {device}\")\n",
        "\n",
        "os.makedirs(CHECKPOINT_DIR, exist_ok=True)\n",
        "os.makedirs(MODEL_DIR, exist_ok=True)\n",
        "\n",
        "class AVECDataset(Dataset):\n",
        "    def __init__(self, video_dirs, labels, root_dir, transform=None, sequence_length=64):\n",
        "        self.video_dirs = video_dirs\n",
        "        self.labels = labels\n",
        "        self.root_dir = root_dir\n",
        "        self.transform = transform\n",
        "        self.sequence_length = sequence_length\n",
        "\n",
        "        self.video_frame_paths = {}\n",
        "        for video_dir in self.video_dirs:\n",
        "            full_path = os.path.join(self.root_dir, video_dir)\n",
        "            frame_files = sorted([\n",
        "                os.path.join(full_path, f)\n",
        "                for f in os.listdir(full_path)\n",
        "                if f.endswith('.jpg') and f.split('.')[0].isdigit()\n",
        "            ])\n",
        "            self.video_frame_paths[video_dir] = frame_files\n",
        "\n",
        "    def __len__(self):\n",
        "        return len(self.video_dirs)\n",
        "\n",
        "    def __getitem__(self, idx):\n",
        "        video_dir = self.video_dirs[idx]\n",
        "        frame_paths = self.video_frame_paths[video_dir]\n",
        "        label = self.labels[idx]\n",
        "\n",
        "        if len(frame_paths) > self.sequence_length:\n",
        "            start_idx = random.randint(0, len(frame_paths) - self.sequence_length)\n",
        "            selected_paths = frame_paths[start_idx:start_idx + self.sequence_length]\n",
        "        else:\n",
        "            selected_paths = frame_paths\n",
        "            if len(frame_paths) < self.sequence_length:\n",
        "                padding = [frame_paths[-1]] * (self.sequence_length - len(frame_paths))\n",
        "                selected_paths = frame_paths + padding\n",
        "\n",
        "        images = []\n",
        "        for frame_path in selected_paths:\n",
        "            image = Image.open(frame_path)\n",
        "            if self.transform:\n",
        "                image = self.transform(image)\n",
        "            images.append(image)\n",
        "\n",
        "        images = torch.stack(images)\n",
        "        label = torch.tensor(label, dtype=torch.float32)\n",
        "\n",
        "        return images, label\n",
        "\n",
        "data_transforms = {\n",
        "    'train': transforms.Compose([\n",
        "        transforms.Resize(256),\n",
        "        transforms.RandomCrop(224),\n",
        "        transforms.RandomHorizontalFlip(),\n",
        "        transforms.ToTensor(),\n",
        "        transforms.Normalize([0.485, 0.456, 0.406], [0.229, 0.224, 0.225])\n",
        "    ]),\n",
        "    'val': transforms.Compose([\n",
        "        transforms.Resize(256),\n",
        "        transforms.CenterCrop(224),\n",
        "        transforms.ToTensor(),\n",
        "        transforms.Normalize([0.485, 0.456, 0.406], [0.229, 0.224, 0.225])\n",
        "    ]),\n",
        "}\n",
        "\n",
        "csv_file = '/content/dataset/avec14/labels.csv'\n",
        "root_dir = '/content/dataset/avec14/image/'\n",
        "\n",
        "full_df = pd.read_csv(csv_file)\n",
        "train_val_df = full_df.iloc[:200]\n",
        "test_df = full_df.iloc[-100:]\n",
        "\n",
        "train_df, val_df = train_test_split(train_val_df, test_size=0.2, random_state=42)\n",
        "\n",
        "train_dataset = AVECDataset(\n",
        "    video_dirs=train_df['filename'].tolist(),\n",
        "    labels=train_df['BDI-II'].tolist(),\n",
        "    root_dir=root_dir,\n",
        "    transform=data_transforms['train']\n",
        ")\n",
        "\n",
        "val_dataset = AVECDataset(\n",
        "    video_dirs=val_df['filename'].tolist(),\n",
        "    labels=val_df['BDI-II'].tolist(),\n",
        "    root_dir=root_dir,\n",
        "    transform=data_transforms['val']\n",
        ")\n",
        "\n",
        "test_dataset = AVECDataset(\n",
        "    video_dirs=test_df['filename'].tolist(),\n",
        "    labels=test_df['BDI-II'].tolist(),\n",
        "    root_dir=root_dir,\n",
        "    transform=data_transforms['val']\n",
        ")\n",
        "\n",
        "batch_size = 4\n",
        "train_loader = DataLoader(train_dataset, batch_size=batch_size, shuffle=True, num_workers=1)\n",
        "val_loader = DataLoader(val_dataset, batch_size=batch_size, shuffle=False, num_workers=1)\n",
        "test_loader = DataLoader(test_dataset, batch_size=batch_size, shuffle=False, num_workers=1)\n",
        "\n",
        "class VisualStreamModel(nn.Module):\n",
        "    def __init__(self):\n",
        "        super(VisualStreamModel, self).__init__()\n",
        "        resnet = models.resnet18(pretrained=True)\n",
        "        self.resnet_features = nn.Sequential(*list(resnet.children())[:-2])\n",
        "        self.lstm = nn.LSTM(\n",
        "            input_size=512,\n",
        "            hidden_size=256,\n",
        "            num_layers=2,\n",
        "            bidirectional=True,\n",
        "            batch_first=True\n",
        "        )\n",
        "        self.mlp = nn.Sequential(\n",
        "            nn.Linear(512, 128),\n",
        "            nn.ReLU(),\n",
        "            nn.Dropout(0.5),\n",
        "            nn.Linear(128, 1)\n",
        "        )\n",
        "\n",
        "    def forward(self, x):\n",
        "        batch_size, seq_len, c, h, w = x.size()\n",
        "        x = x.view(batch_size * seq_len, c, h, w)\n",
        "        x = self.resnet_features(x)\n",
        "        x = nn.functional.adaptive_avg_pool2d(x, (1, 1))\n",
        "        x = x.view(batch_size, seq_len, -1)\n",
        "        lstm_out, _ = self.lstm(x)\n",
        "        last_out = lstm_out[:, -1, :]\n",
        "        output = self.mlp(last_out)\n",
        "        return output.squeeze()\n",
        "\n",
        "model = VisualStreamModel().to(device)\n",
        "criterion = nn.MSELoss()\n",
        "optimizer = optim.Adam(model.parameters(), lr=0.001)\n",
        "scheduler = optim.lr_scheduler.ReduceLROnPlateau(optimizer, 'min', patience=3, factor=0.1)\n",
        "\n",
        "def train_model(model, criterion, optimizer, scheduler, num_epochs=25):\n",
        "    since = time.time()\n",
        "    best_model_wts = copy.deepcopy(model.state_dict())\n",
        "    best_mae = float('inf')\n",
        "    best_rmse = float('inf')\n",
        "\n",
        "    for epoch in range(num_epochs):\n",
        "        print(f'Epoch {epoch}/{num_epochs - 1}')\n",
        "        print('-' * 10)\n",
        "\n",
        "        for phase in ['train', 'val']:\n",
        "            if phase == 'train':\n",
        "                model.train()\n",
        "                dataloader = train_loader\n",
        "            else:\n",
        "                model.eval()\n",
        "                dataloader = val_loader\n",
        "\n",
        "            running_loss = 0.0\n",
        "            running_mae = 0.0\n",
        "            running_rmse = 0.0\n",
        "\n",
        "            for inputs, labels in tqdm(dataloader, desc=phase):\n",
        "                inputs = inputs.to(device)\n",
        "                labels = labels.to(device)\n",
        "\n",
        "                optimizer.zero_grad()\n",
        "\n",
        "                with torch.set_grad_enabled(phase == 'train'):\n",
        "                    outputs = model(inputs)\n",
        "                    loss = criterion(outputs, labels)\n",
        "\n",
        "                    if phase == 'train':\n",
        "                        loss.backward()\n",
        "                        optimizer.step()\n",
        "\n",
        "                running_loss += loss.item() * inputs.size(0)\n",
        "                mae = torch.mean(torch.abs(outputs - labels))\n",
        "                rmse = torch.sqrt(torch.mean((outputs - labels)**2))\n",
        "                running_mae += mae.item() * inputs.size(0)\n",
        "                running_rmse += rmse.item() * inputs.size(0)\n",
        "\n",
        "            epoch_loss = running_loss / len(dataloader.dataset)\n",
        "            epoch_mae = running_mae / len(dataloader.dataset)\n",
        "            epoch_rmse = running_rmse / len(dataloader.dataset)\n",
        "\n",
        "            print(f'{phase} Loss: {epoch_loss:.4f} MAE: {epoch_mae:.4f} RMSE: {epoch_rmse:.4f}')\n",
        "\n",
        "            if phase == 'val' and (epoch + 1) % 5 == 0:\n",
        "                checkpoint_path = os.path.join(CHECKPOINT_DIR, f'checkpoint_epoch_{epoch}.pth')\n",
        "                torch.save({\n",
        "                    'epoch': epoch,\n",
        "                    'model_state_dict': model.state_dict(),\n",
        "                    'optimizer_state_dict': optimizer.state_dict(),\n",
        "                    'loss': epoch_loss,\n",
        "                    'mae': epoch_mae,\n",
        "                    'rmse': epoch_rmse,\n",
        "                }, checkpoint_path)\n",
        "                print(f\"Checkpoint saved at epoch {epoch}\")\n",
        "\n",
        "            if phase == 'val' and epoch_mae < best_mae:\n",
        "                best_mae = epoch_mae\n",
        "                best_rmse = epoch_rmse\n",
        "                best_model_wts = copy.deepcopy(model.state_dict())\n",
        "                best_model_path = os.path.join(MODEL_DIR, 'best_model_mae.pth')\n",
        "                torch.save(model.state_dict(), best_model_path)\n",
        "                print(f\"New best model saved with MAE: {best_mae:.4f}, RMSE: {best_rmse:.4f}\")\n",
        "\n",
        "        print()\n",
        "\n",
        "    time_elapsed = time.time() - since\n",
        "    print(f'Training complete in {time_elapsed // 60:.0f}m {time_elapsed % 60:.0f}s')\n",
        "    print(f'Best val MAE: {best_mae:.4f}, Best val RMSE: {best_rmse:.4f}')\n",
        "\n",
        "    model.load_state_dict(best_model_wts)\n",
        "    return model\n",
        "\n",
        "model = train_model(model, criterion, optimizer, scheduler, num_epochs=100)\n",
        "\n",
        "final_model_path = os.path.join(MODEL_DIR, 'final_model.pth')\n",
        "torch.save(model.state_dict(), final_model_path)\n",
        "\n",
        "print(\"\\nModel Workflow Explanation:\")\n",
        "print(\"1. Input: Batch of video sequences (shape: [batch_size, 64, 3, 224, 224])\")\n",
        "print(\"2. ResNet18: Processes each frame individually (output: [batch_size*64, 512, 7, 7])\")\n",
        "print(\"3. Global Average Pooling: Reduces each frame to [512] features\")\n",
        "print(\"4. Reshape: [batch_size, 64, 512] for temporal processing\")\n",
        "print(\"5. BiLSTM: Processes temporal sequence (output: [batch_size, 64, 512])\")\n",
        "print(\"6. Last Frame Selection: Takes final LSTM output [batch_size, 512]\")\n",
        "print(\"7. MLP: Reduces to final prediction [batch_size, 1]\")\n",
        "print(\"8. Output: Predicted BDI-II score (0-63 range)\")\n",
        "\n",
        "print(\"\\nKey Parameters:\")\n",
        "print(f\"- Sequence length: 64 frames\")\n",
        "print(f\"- ResNet18 output features: 512\")\n",
        "print(f\"- LSTM hidden size: 256 (512 with bidirectional)\")\n",
        "print(f\"- Batch size: {batch_size}\")\n",
        "print(f\"- Learning rate: 0.001\")\n",
        "print(f\"- Dropout: 0.5 in MLP\")"
      ],
      "metadata": {
        "colab": {
          "base_uri": "https://localhost:8080/"
        },
        "id": "JhgxeZvV7KBp",
        "outputId": "e8ee50ce-9b0c-43f4-cd82-b94e8ceebaa3"
      },
      "execution_count": null,
      "outputs": [
        {
          "output_type": "stream",
          "name": "stdout",
          "text": [
            "Using device: cuda:0\n"
          ]
        },
        {
          "output_type": "stream",
          "name": "stderr",
          "text": [
            "/usr/local/lib/python3.11/dist-packages/torchvision/models/_utils.py:208: UserWarning: The parameter 'pretrained' is deprecated since 0.13 and may be removed in the future, please use 'weights' instead.\n",
            "  warnings.warn(\n",
            "/usr/local/lib/python3.11/dist-packages/torchvision/models/_utils.py:223: UserWarning: Arguments other than a weight enum or `None` for 'weights' are deprecated since 0.13 and may be removed in the future. The current behavior is equivalent to passing `weights=ResNet18_Weights.IMAGENET1K_V1`. You can also use `weights=ResNet18_Weights.DEFAULT` to get the most up-to-date weights.\n",
            "  warnings.warn(msg)\n"
          ]
        },
        {
          "output_type": "stream",
          "name": "stdout",
          "text": [
            "Epoch 0/99\n",
            "----------\n"
          ]
        },
        {
          "output_type": "stream",
          "name": "stderr",
          "text": [
            "train: 100%|██████████| 40/40 [00:40<00:00,  1.02s/it]\n"
          ]
        },
        {
          "output_type": "stream",
          "name": "stdout",
          "text": [
            "train Loss: 197.2302 MAE: 10.7958 RMSE: 13.1739\n"
          ]
        },
        {
          "output_type": "stream",
          "name": "stderr",
          "text": [
            "val: 100%|██████████| 10/10 [00:08<00:00,  1.13it/s]\n"
          ]
        },
        {
          "output_type": "stream",
          "name": "stdout",
          "text": [
            "val Loss: 127.8717 MAE: 9.4766 RMSE: 10.5529\n",
            "New best model saved with MAE: 9.4766, RMSE: 10.5529\n",
            "\n",
            "Epoch 1/99\n",
            "----------\n"
          ]
        },
        {
          "output_type": "stream",
          "name": "stderr",
          "text": [
            "train: 100%|██████████| 40/40 [00:40<00:00,  1.02s/it]\n"
          ]
        },
        {
          "output_type": "stream",
          "name": "stdout",
          "text": [
            "train Loss: 160.0951 MAE: 10.6818 RMSE: 12.0271\n"
          ]
        },
        {
          "output_type": "stream",
          "name": "stderr",
          "text": [
            "val: 100%|██████████| 10/10 [00:07<00:00,  1.30it/s]\n"
          ]
        },
        {
          "output_type": "stream",
          "name": "stdout",
          "text": [
            "val Loss: 128.5744 MAE: 9.4500 RMSE: 10.4911\n",
            "New best model saved with MAE: 9.4500, RMSE: 10.4911\n",
            "\n",
            "Epoch 2/99\n",
            "----------\n"
          ]
        },
        {
          "output_type": "stream",
          "name": "stderr",
          "text": [
            "train: 100%|██████████| 40/40 [00:40<00:00,  1.01s/it]\n"
          ]
        },
        {
          "output_type": "stream",
          "name": "stdout",
          "text": [
            "train Loss: 161.2931 MAE: 10.8681 RMSE: 12.3309\n"
          ]
        },
        {
          "output_type": "stream",
          "name": "stderr",
          "text": [
            "val: 100%|██████████| 10/10 [00:08<00:00,  1.12it/s]\n"
          ]
        },
        {
          "output_type": "stream",
          "name": "stdout",
          "text": [
            "val Loss: 143.3502 MAE: 9.6375 RMSE: 10.8556\n",
            "\n",
            "Epoch 3/99\n",
            "----------\n"
          ]
        },
        {
          "output_type": "stream",
          "name": "stderr",
          "text": [
            "train: 100%|██████████| 40/40 [00:40<00:00,  1.02s/it]\n"
          ]
        },
        {
          "output_type": "stream",
          "name": "stdout",
          "text": [
            "train Loss: 160.0848 MAE: 10.4793 RMSE: 11.8679\n"
          ]
        },
        {
          "output_type": "stream",
          "name": "stderr",
          "text": [
            "val: 100%|██████████| 10/10 [00:08<00:00,  1.14it/s]\n"
          ]
        },
        {
          "output_type": "stream",
          "name": "stdout",
          "text": [
            "val Loss: 130.0766 MAE: 9.4427 RMSE: 10.4835\n",
            "New best model saved with MAE: 9.4427, RMSE: 10.4835\n",
            "\n",
            "Epoch 4/99\n",
            "----------\n"
          ]
        },
        {
          "output_type": "stream",
          "name": "stderr",
          "text": [
            "train: 100%|██████████| 40/40 [00:39<00:00,  1.02it/s]\n"
          ]
        },
        {
          "output_type": "stream",
          "name": "stdout",
          "text": [
            "train Loss: 160.5533 MAE: 10.6721 RMSE: 12.2369\n"
          ]
        },
        {
          "output_type": "stream",
          "name": "stderr",
          "text": [
            "val: 100%|██████████| 10/10 [00:08<00:00,  1.20it/s]\n"
          ]
        },
        {
          "output_type": "stream",
          "name": "stdout",
          "text": [
            "val Loss: 137.2045 MAE: 9.5365 RMSE: 10.6570\n",
            "Checkpoint saved at epoch 4\n",
            "\n",
            "Epoch 5/99\n",
            "----------\n"
          ]
        },
        {
          "output_type": "stream",
          "name": "stderr",
          "text": [
            "train: 100%|██████████| 40/40 [00:40<00:00,  1.02s/it]\n"
          ]
        },
        {
          "output_type": "stream",
          "name": "stdout",
          "text": [
            "train Loss: 172.7876 MAE: 11.1176 RMSE: 12.5781\n"
          ]
        },
        {
          "output_type": "stream",
          "name": "stderr",
          "text": [
            "val: 100%|██████████| 10/10 [00:08<00:00,  1.15it/s]\n"
          ]
        },
        {
          "output_type": "stream",
          "name": "stdout",
          "text": [
            "val Loss: 133.5625 MAE: 9.4860 RMSE: 10.5677\n",
            "\n",
            "Epoch 6/99\n",
            "----------\n"
          ]
        },
        {
          "output_type": "stream",
          "name": "stderr",
          "text": [
            "train: 100%|██████████| 40/40 [00:39<00:00,  1.00it/s]\n"
          ]
        },
        {
          "output_type": "stream",
          "name": "stdout",
          "text": [
            "train Loss: 158.5386 MAE: 10.5769 RMSE: 12.0366\n"
          ]
        },
        {
          "output_type": "stream",
          "name": "stderr",
          "text": [
            "val: 100%|██████████| 10/10 [00:10<00:00,  1.02s/it]\n"
          ]
        },
        {
          "output_type": "stream",
          "name": "stdout",
          "text": [
            "val Loss: 139.1251 MAE: 9.5937 RMSE: 10.7351\n",
            "\n",
            "Epoch 7/99\n",
            "----------\n"
          ]
        },
        {
          "output_type": "stream",
          "name": "stderr",
          "text": [
            "train: 100%|██████████| 40/40 [00:41<00:00,  1.03s/it]\n"
          ]
        },
        {
          "output_type": "stream",
          "name": "stdout",
          "text": [
            "train Loss: 152.9799 MAE: 10.3849 RMSE: 11.9035\n"
          ]
        },
        {
          "output_type": "stream",
          "name": "stderr",
          "text": [
            "val: 100%|██████████| 10/10 [00:08<00:00,  1.20it/s]\n"
          ]
        },
        {
          "output_type": "stream",
          "name": "stdout",
          "text": [
            "val Loss: 128.0663 MAE: 9.4594 RMSE: 10.4610\n",
            "\n",
            "Epoch 8/99\n",
            "----------\n"
          ]
        },
        {
          "output_type": "stream",
          "name": "stderr",
          "text": [
            "train: 100%|██████████| 40/40 [00:40<00:00,  1.02s/it]\n"
          ]
        },
        {
          "output_type": "stream",
          "name": "stdout",
          "text": [
            "train Loss: 151.3351 MAE: 10.2039 RMSE: 11.7922\n"
          ]
        },
        {
          "output_type": "stream",
          "name": "stderr",
          "text": [
            "val: 100%|██████████| 10/10 [00:08<00:00,  1.13it/s]\n"
          ]
        },
        {
          "output_type": "stream",
          "name": "stdout",
          "text": [
            "val Loss: 122.8850 MAE: 9.2071 RMSE: 10.3108\n",
            "New best model saved with MAE: 9.2071, RMSE: 10.3108\n",
            "\n",
            "Epoch 9/99\n",
            "----------\n"
          ]
        },
        {
          "output_type": "stream",
          "name": "stderr",
          "text": [
            "train: 100%|██████████| 40/40 [00:41<00:00,  1.04s/it]\n"
          ]
        },
        {
          "output_type": "stream",
          "name": "stdout",
          "text": [
            "train Loss: 157.2668 MAE: 10.2105 RMSE: 11.9906\n"
          ]
        },
        {
          "output_type": "stream",
          "name": "stderr",
          "text": [
            "val: 100%|██████████| 10/10 [00:08<00:00,  1.24it/s]\n"
          ]
        },
        {
          "output_type": "stream",
          "name": "stdout",
          "text": [
            "val Loss: 129.0161 MAE: 9.5619 RMSE: 10.6696\n",
            "Checkpoint saved at epoch 9\n",
            "\n",
            "Epoch 10/99\n",
            "----------\n"
          ]
        },
        {
          "output_type": "stream",
          "name": "stderr",
          "text": [
            "train: 100%|██████████| 40/40 [00:43<00:00,  1.10s/it]\n"
          ]
        },
        {
          "output_type": "stream",
          "name": "stdout",
          "text": [
            "train Loss: 146.8460 MAE: 10.1506 RMSE: 11.4965\n"
          ]
        },
        {
          "output_type": "stream",
          "name": "stderr",
          "text": [
            "val: 100%|██████████| 10/10 [00:07<00:00,  1.28it/s]\n"
          ]
        },
        {
          "output_type": "stream",
          "name": "stdout",
          "text": [
            "val Loss: 127.3658 MAE: 8.7561 RMSE: 10.2759\n",
            "New best model saved with MAE: 8.7561, RMSE: 10.2759\n",
            "\n",
            "Epoch 11/99\n",
            "----------\n"
          ]
        },
        {
          "output_type": "stream",
          "name": "stderr",
          "text": [
            "train: 100%|██████████| 40/40 [00:41<00:00,  1.04s/it]\n"
          ]
        },
        {
          "output_type": "stream",
          "name": "stdout",
          "text": [
            "train Loss: 160.8870 MAE: 10.4501 RMSE: 12.0373\n"
          ]
        },
        {
          "output_type": "stream",
          "name": "stderr",
          "text": [
            "val: 100%|██████████| 10/10 [00:08<00:00,  1.12it/s]\n"
          ]
        },
        {
          "output_type": "stream",
          "name": "stdout",
          "text": [
            "val Loss: 111.0433 MAE: 8.4898 RMSE: 9.5086\n",
            "New best model saved with MAE: 8.4898, RMSE: 9.5086\n",
            "\n",
            "Epoch 12/99\n",
            "----------\n"
          ]
        },
        {
          "output_type": "stream",
          "name": "stderr",
          "text": [
            "train: 100%|██████████| 40/40 [00:40<00:00,  1.02s/it]\n"
          ]
        },
        {
          "output_type": "stream",
          "name": "stdout",
          "text": [
            "train Loss: 151.3768 MAE: 10.2679 RMSE: 11.7222\n"
          ]
        },
        {
          "output_type": "stream",
          "name": "stderr",
          "text": [
            "val: 100%|██████████| 10/10 [00:08<00:00,  1.11it/s]\n"
          ]
        },
        {
          "output_type": "stream",
          "name": "stdout",
          "text": [
            "val Loss: 119.5073 MAE: 8.7541 RMSE: 9.8135\n",
            "\n",
            "Epoch 13/99\n",
            "----------\n"
          ]
        },
        {
          "output_type": "stream",
          "name": "stderr",
          "text": [
            "train: 100%|██████████| 40/40 [00:40<00:00,  1.00s/it]\n"
          ]
        },
        {
          "output_type": "stream",
          "name": "stdout",
          "text": [
            "train Loss: 151.5254 MAE: 10.2120 RMSE: 11.7909\n"
          ]
        },
        {
          "output_type": "stream",
          "name": "stderr",
          "text": [
            "val: 100%|██████████| 10/10 [00:07<00:00,  1.26it/s]\n"
          ]
        },
        {
          "output_type": "stream",
          "name": "stdout",
          "text": [
            "val Loss: 129.3956 MAE: 9.4022 RMSE: 10.5154\n",
            "\n",
            "Epoch 14/99\n",
            "----------\n"
          ]
        },
        {
          "output_type": "stream",
          "name": "stderr",
          "text": [
            "train: 100%|██████████| 40/40 [00:40<00:00,  1.01s/it]\n"
          ]
        },
        {
          "output_type": "stream",
          "name": "stdout",
          "text": [
            "train Loss: 160.7527 MAE: 10.6804 RMSE: 12.2055\n"
          ]
        },
        {
          "output_type": "stream",
          "name": "stderr",
          "text": [
            "val: 100%|██████████| 10/10 [00:08<00:00,  1.12it/s]\n"
          ]
        },
        {
          "output_type": "stream",
          "name": "stdout",
          "text": [
            "val Loss: 135.6099 MAE: 9.5253 RMSE: 10.6546\n",
            "Checkpoint saved at epoch 14\n",
            "\n",
            "Epoch 15/99\n",
            "----------\n"
          ]
        },
        {
          "output_type": "stream",
          "name": "stderr",
          "text": [
            "train: 100%|██████████| 40/40 [00:43<00:00,  1.09s/it]\n"
          ]
        },
        {
          "output_type": "stream",
          "name": "stdout",
          "text": [
            "train Loss: 157.4571 MAE: 10.2987 RMSE: 12.0102\n"
          ]
        },
        {
          "output_type": "stream",
          "name": "stderr",
          "text": [
            "val: 100%|██████████| 10/10 [00:09<00:00,  1.11it/s]\n"
          ]
        },
        {
          "output_type": "stream",
          "name": "stdout",
          "text": [
            "val Loss: 132.4296 MAE: 9.3954 RMSE: 10.5156\n",
            "\n",
            "Epoch 16/99\n",
            "----------\n"
          ]
        },
        {
          "output_type": "stream",
          "name": "stderr",
          "text": [
            "train: 100%|██████████| 40/40 [00:40<00:00,  1.01s/it]\n"
          ]
        },
        {
          "output_type": "stream",
          "name": "stdout",
          "text": [
            "train Loss: 161.3682 MAE: 10.5910 RMSE: 12.1846\n"
          ]
        },
        {
          "output_type": "stream",
          "name": "stderr",
          "text": [
            "val: 100%|██████████| 10/10 [00:07<00:00,  1.25it/s]\n"
          ]
        },
        {
          "output_type": "stream",
          "name": "stdout",
          "text": [
            "val Loss: 140.2904 MAE: 9.5570 RMSE: 10.8088\n",
            "\n",
            "Epoch 17/99\n",
            "----------\n"
          ]
        },
        {
          "output_type": "stream",
          "name": "stderr",
          "text": [
            "train: 100%|██████████| 40/40 [00:40<00:00,  1.02s/it]\n"
          ]
        },
        {
          "output_type": "stream",
          "name": "stdout",
          "text": [
            "train Loss: 157.4329 MAE: 10.4595 RMSE: 12.1098\n"
          ]
        },
        {
          "output_type": "stream",
          "name": "stderr",
          "text": [
            "val: 100%|██████████| 10/10 [00:09<00:00,  1.11it/s]\n"
          ]
        },
        {
          "output_type": "stream",
          "name": "stdout",
          "text": [
            "val Loss: 117.3271 MAE: 8.8473 RMSE: 9.9269\n",
            "\n",
            "Epoch 18/99\n",
            "----------\n"
          ]
        },
        {
          "output_type": "stream",
          "name": "stderr",
          "text": [
            "train: 100%|██████████| 40/40 [00:40<00:00,  1.02s/it]\n"
          ]
        },
        {
          "output_type": "stream",
          "name": "stdout",
          "text": [
            "train Loss: 155.5482 MAE: 10.2569 RMSE: 11.7731\n"
          ]
        },
        {
          "output_type": "stream",
          "name": "stderr",
          "text": [
            "val: 100%|██████████| 10/10 [00:08<00:00,  1.22it/s]\n"
          ]
        },
        {
          "output_type": "stream",
          "name": "stdout",
          "text": [
            "val Loss: 113.0507 MAE: 8.9157 RMSE: 9.8927\n",
            "\n",
            "Epoch 19/99\n",
            "----------\n"
          ]
        },
        {
          "output_type": "stream",
          "name": "stderr",
          "text": [
            "train: 100%|██████████| 40/40 [00:40<00:00,  1.01s/it]\n"
          ]
        },
        {
          "output_type": "stream",
          "name": "stdout",
          "text": [
            "train Loss: 159.7803 MAE: 10.6723 RMSE: 12.1605\n"
          ]
        },
        {
          "output_type": "stream",
          "name": "stderr",
          "text": [
            "val: 100%|██████████| 10/10 [00:08<00:00,  1.15it/s]\n"
          ]
        },
        {
          "output_type": "stream",
          "name": "stdout",
          "text": [
            "val Loss: 122.9135 MAE: 9.0482 RMSE: 10.2084\n",
            "Checkpoint saved at epoch 19\n",
            "\n",
            "Epoch 20/99\n",
            "----------\n"
          ]
        },
        {
          "output_type": "stream",
          "name": "stderr",
          "text": [
            "train: 100%|██████████| 40/40 [00:41<00:00,  1.03s/it]\n"
          ]
        },
        {
          "output_type": "stream",
          "name": "stdout",
          "text": [
            "train Loss: 148.9646 MAE: 10.3409 RMSE: 11.6938\n"
          ]
        },
        {
          "output_type": "stream",
          "name": "stderr",
          "text": [
            "val: 100%|██████████| 10/10 [00:08<00:00,  1.11it/s]\n"
          ]
        },
        {
          "output_type": "stream",
          "name": "stdout",
          "text": [
            "val Loss: 113.2303 MAE: 8.8062 RMSE: 9.9689\n",
            "\n",
            "Epoch 21/99\n",
            "----------\n"
          ]
        },
        {
          "output_type": "stream",
          "name": "stderr",
          "text": [
            "train: 100%|██████████| 40/40 [00:40<00:00,  1.02s/it]\n"
          ]
        },
        {
          "output_type": "stream",
          "name": "stdout",
          "text": [
            "train Loss: 156.0271 MAE: 10.2736 RMSE: 11.7826\n"
          ]
        },
        {
          "output_type": "stream",
          "name": "stderr",
          "text": [
            "val: 100%|██████████| 10/10 [00:07<00:00,  1.25it/s]\n"
          ]
        },
        {
          "output_type": "stream",
          "name": "stdout",
          "text": [
            "val Loss: 139.1856 MAE: 9.5144 RMSE: 10.7667\n",
            "\n",
            "Epoch 22/99\n",
            "----------\n"
          ]
        },
        {
          "output_type": "stream",
          "name": "stderr",
          "text": [
            "train: 100%|██████████| 40/40 [00:40<00:00,  1.02s/it]\n"
          ]
        },
        {
          "output_type": "stream",
          "name": "stdout",
          "text": [
            "train Loss: 157.0315 MAE: 10.5272 RMSE: 12.0451\n"
          ]
        },
        {
          "output_type": "stream",
          "name": "stderr",
          "text": [
            "val: 100%|██████████| 10/10 [00:08<00:00,  1.12it/s]\n"
          ]
        },
        {
          "output_type": "stream",
          "name": "stdout",
          "text": [
            "val Loss: 135.7963 MAE: 9.4881 RMSE: 10.6768\n",
            "\n",
            "Epoch 23/99\n",
            "----------\n"
          ]
        },
        {
          "output_type": "stream",
          "name": "stderr",
          "text": [
            "train: 100%|██████████| 40/40 [00:40<00:00,  1.01s/it]\n"
          ]
        },
        {
          "output_type": "stream",
          "name": "stdout",
          "text": [
            "train Loss: 156.4437 MAE: 10.4340 RMSE: 11.9719\n"
          ]
        },
        {
          "output_type": "stream",
          "name": "stderr",
          "text": [
            "val: 100%|██████████| 10/10 [00:08<00:00,  1.12it/s]\n"
          ]
        },
        {
          "output_type": "stream",
          "name": "stdout",
          "text": [
            "val Loss: 132.0932 MAE: 9.3509 RMSE: 10.4628\n",
            "\n",
            "Epoch 24/99\n",
            "----------\n"
          ]
        },
        {
          "output_type": "stream",
          "name": "stderr",
          "text": [
            "train: 100%|██████████| 40/40 [00:40<00:00,  1.00s/it]\n"
          ]
        },
        {
          "output_type": "stream",
          "name": "stdout",
          "text": [
            "train Loss: 166.7000 MAE: 11.0058 RMSE: 12.3198\n"
          ]
        },
        {
          "output_type": "stream",
          "name": "stderr",
          "text": [
            "val: 100%|██████████| 10/10 [00:08<00:00,  1.24it/s]\n"
          ]
        },
        {
          "output_type": "stream",
          "name": "stdout",
          "text": [
            "val Loss: 134.3008 MAE: 9.5112 RMSE: 10.5944\n",
            "Checkpoint saved at epoch 24\n",
            "\n",
            "Epoch 25/99\n",
            "----------\n"
          ]
        },
        {
          "output_type": "stream",
          "name": "stderr",
          "text": [
            "train: 100%|██████████| 40/40 [00:40<00:00,  1.02s/it]\n"
          ]
        },
        {
          "output_type": "stream",
          "name": "stdout",
          "text": [
            "train Loss: 155.6317 MAE: 10.5939 RMSE: 11.9295\n"
          ]
        },
        {
          "output_type": "stream",
          "name": "stderr",
          "text": [
            "val: 100%|██████████| 10/10 [00:09<00:00,  1.09it/s]\n"
          ]
        },
        {
          "output_type": "stream",
          "name": "stdout",
          "text": [
            "val Loss: 134.2672 MAE: 9.5104 RMSE: 10.5935\n",
            "\n",
            "Epoch 26/99\n",
            "----------\n"
          ]
        },
        {
          "output_type": "stream",
          "name": "stderr",
          "text": [
            "train: 100%|██████████| 40/40 [00:40<00:00,  1.02s/it]\n"
          ]
        },
        {
          "output_type": "stream",
          "name": "stdout",
          "text": [
            "train Loss: 163.7885 MAE: 10.5494 RMSE: 12.2851\n"
          ]
        },
        {
          "output_type": "stream",
          "name": "stderr",
          "text": [
            "val: 100%|██████████| 10/10 [00:08<00:00,  1.18it/s]\n"
          ]
        },
        {
          "output_type": "stream",
          "name": "stdout",
          "text": [
            "val Loss: 129.3250 MAE: 9.4500 RMSE: 10.4894\n",
            "\n",
            "Epoch 27/99\n",
            "----------\n"
          ]
        },
        {
          "output_type": "stream",
          "name": "stderr",
          "text": [
            "train: 100%|██████████| 40/40 [00:40<00:00,  1.02s/it]\n"
          ]
        },
        {
          "output_type": "stream",
          "name": "stdout",
          "text": [
            "train Loss: 166.2381 MAE: 10.8472 RMSE: 12.3975\n"
          ]
        },
        {
          "output_type": "stream",
          "name": "stderr",
          "text": [
            "val: 100%|██████████| 10/10 [00:08<00:00,  1.20it/s]\n"
          ]
        },
        {
          "output_type": "stream",
          "name": "stdout",
          "text": [
            "val Loss: 144.9118 MAE: 9.6713 RMSE: 10.9146\n",
            "\n",
            "Epoch 28/99\n",
            "----------\n"
          ]
        },
        {
          "output_type": "stream",
          "name": "stderr",
          "text": [
            "train: 100%|██████████| 40/40 [00:41<00:00,  1.03s/it]\n"
          ]
        },
        {
          "output_type": "stream",
          "name": "stdout",
          "text": [
            "train Loss: 162.7478 MAE: 10.6719 RMSE: 12.2263\n"
          ]
        },
        {
          "output_type": "stream",
          "name": "stderr",
          "text": [
            "val: 100%|██████████| 10/10 [00:09<00:00,  1.10it/s]\n"
          ]
        },
        {
          "output_type": "stream",
          "name": "stdout",
          "text": [
            "val Loss: 133.7661 MAE: 9.5001 RMSE: 10.5800\n",
            "\n",
            "Epoch 29/99\n",
            "----------\n"
          ]
        },
        {
          "output_type": "stream",
          "name": "stderr",
          "text": [
            "train: 100%|██████████| 40/40 [00:40<00:00,  1.02s/it]\n"
          ]
        },
        {
          "output_type": "stream",
          "name": "stdout",
          "text": [
            "train Loss: 165.3589 MAE: 10.9039 RMSE: 12.3495\n"
          ]
        },
        {
          "output_type": "stream",
          "name": "stderr",
          "text": [
            "val: 100%|██████████| 10/10 [00:07<00:00,  1.26it/s]\n"
          ]
        },
        {
          "output_type": "stream",
          "name": "stdout",
          "text": [
            "val Loss: 134.8854 MAE: 9.5227 RMSE: 10.6108\n",
            "Checkpoint saved at epoch 29\n",
            "\n",
            "Epoch 30/99\n",
            "----------\n"
          ]
        },
        {
          "output_type": "stream",
          "name": "stderr",
          "text": [
            "train: 100%|██████████| 40/40 [00:40<00:00,  1.02s/it]\n"
          ]
        },
        {
          "output_type": "stream",
          "name": "stdout",
          "text": [
            "train Loss: 164.7641 MAE: 10.8974 RMSE: 12.2407\n"
          ]
        },
        {
          "output_type": "stream",
          "name": "stderr",
          "text": [
            "val: 100%|██████████| 10/10 [00:08<00:00,  1.15it/s]\n"
          ]
        },
        {
          "output_type": "stream",
          "name": "stdout",
          "text": [
            "val Loss: 129.9342 MAE: 9.4495 RMSE: 10.4954\n",
            "\n",
            "Epoch 31/99\n",
            "----------\n"
          ]
        },
        {
          "output_type": "stream",
          "name": "stderr",
          "text": [
            "train: 100%|██████████| 40/40 [00:40<00:00,  1.02s/it]\n"
          ]
        },
        {
          "output_type": "stream",
          "name": "stdout",
          "text": [
            "train Loss: 154.6939 MAE: 10.4992 RMSE: 11.8030\n"
          ]
        },
        {
          "output_type": "stream",
          "name": "stderr",
          "text": [
            "val: 100%|██████████| 10/10 [00:08<00:00,  1.12it/s]\n"
          ]
        },
        {
          "output_type": "stream",
          "name": "stdout",
          "text": [
            "val Loss: 133.8733 MAE: 9.5028 RMSE: 10.5836\n",
            "\n",
            "Epoch 32/99\n",
            "----------\n"
          ]
        },
        {
          "output_type": "stream",
          "name": "stderr",
          "text": [
            "train: 100%|██████████| 40/40 [00:40<00:00,  1.02s/it]\n"
          ]
        },
        {
          "output_type": "stream",
          "name": "stdout",
          "text": [
            "train Loss: 164.9184 MAE: 10.7012 RMSE: 12.0335\n"
          ]
        },
        {
          "output_type": "stream",
          "name": "stderr",
          "text": [
            "val: 100%|██████████| 10/10 [00:07<00:00,  1.27it/s]\n"
          ]
        },
        {
          "output_type": "stream",
          "name": "stdout",
          "text": [
            "val Loss: 132.0096 MAE: 9.4893 RMSE: 10.5467\n",
            "\n",
            "Epoch 33/99\n",
            "----------\n"
          ]
        },
        {
          "output_type": "stream",
          "name": "stderr",
          "text": [
            "train: 100%|██████████| 40/40 [00:40<00:00,  1.02s/it]\n"
          ]
        },
        {
          "output_type": "stream",
          "name": "stdout",
          "text": [
            "train Loss: 166.3317 MAE: 10.8252 RMSE: 12.3177\n"
          ]
        },
        {
          "output_type": "stream",
          "name": "stderr",
          "text": [
            "val: 100%|██████████| 10/10 [00:09<00:00,  1.11it/s]\n"
          ]
        },
        {
          "output_type": "stream",
          "name": "stdout",
          "text": [
            "val Loss: 145.4373 MAE: 9.6691 RMSE: 10.9357\n",
            "\n",
            "Epoch 34/99\n",
            "----------\n"
          ]
        },
        {
          "output_type": "stream",
          "name": "stderr",
          "text": [
            "train: 100%|██████████| 40/40 [00:40<00:00,  1.02s/it]\n"
          ]
        },
        {
          "output_type": "stream",
          "name": "stdout",
          "text": [
            "train Loss: 153.2253 MAE: 10.2507 RMSE: 11.7272\n"
          ]
        },
        {
          "output_type": "stream",
          "name": "stderr",
          "text": [
            "val: 100%|██████████| 10/10 [00:08<00:00,  1.23it/s]\n"
          ]
        },
        {
          "output_type": "stream",
          "name": "stdout",
          "text": [
            "val Loss: 129.4893 MAE: 9.4398 RMSE: 10.4857\n",
            "Checkpoint saved at epoch 34\n",
            "\n",
            "Epoch 35/99\n",
            "----------\n"
          ]
        },
        {
          "output_type": "stream",
          "name": "stderr",
          "text": [
            "train: 100%|██████████| 40/40 [00:41<00:00,  1.03s/it]\n"
          ]
        },
        {
          "output_type": "stream",
          "name": "stdout",
          "text": [
            "train Loss: 155.1321 MAE: 10.4321 RMSE: 11.8572\n"
          ]
        },
        {
          "output_type": "stream",
          "name": "stderr",
          "text": [
            "val: 100%|██████████| 10/10 [00:08<00:00,  1.19it/s]\n"
          ]
        },
        {
          "output_type": "stream",
          "name": "stdout",
          "text": [
            "val Loss: 135.4708 MAE: 9.5511 RMSE: 10.6775\n",
            "\n",
            "Epoch 36/99\n",
            "----------\n"
          ]
        },
        {
          "output_type": "stream",
          "name": "stderr",
          "text": [
            "train: 100%|██████████| 40/40 [00:41<00:00,  1.03s/it]\n"
          ]
        },
        {
          "output_type": "stream",
          "name": "stdout",
          "text": [
            "train Loss: 157.8622 MAE: 10.4831 RMSE: 11.8079\n"
          ]
        },
        {
          "output_type": "stream",
          "name": "stderr",
          "text": [
            "val: 100%|██████████| 10/10 [00:09<00:00,  1.10it/s]\n"
          ]
        },
        {
          "output_type": "stream",
          "name": "stdout",
          "text": [
            "val Loss: 128.4147 MAE: 9.4358 RMSE: 10.4666\n",
            "\n",
            "Epoch 37/99\n",
            "----------\n"
          ]
        },
        {
          "output_type": "stream",
          "name": "stderr",
          "text": [
            "train: 100%|██████████| 40/40 [00:41<00:00,  1.03s/it]\n"
          ]
        },
        {
          "output_type": "stream",
          "name": "stdout",
          "text": [
            "train Loss: 155.7262 MAE: 10.4594 RMSE: 12.0442\n"
          ]
        },
        {
          "output_type": "stream",
          "name": "stderr",
          "text": [
            "val: 100%|██████████| 10/10 [00:08<00:00,  1.17it/s]\n"
          ]
        },
        {
          "output_type": "stream",
          "name": "stdout",
          "text": [
            "val Loss: 128.5428 MAE: 9.3671 RMSE: 10.3943\n",
            "\n",
            "Epoch 38/99\n",
            "----------\n"
          ]
        },
        {
          "output_type": "stream",
          "name": "stderr",
          "text": [
            "train: 100%|██████████| 40/40 [00:40<00:00,  1.02s/it]\n"
          ]
        },
        {
          "output_type": "stream",
          "name": "stdout",
          "text": [
            "train Loss: 163.9814 MAE: 10.7464 RMSE: 12.1177\n"
          ]
        },
        {
          "output_type": "stream",
          "name": "stderr",
          "text": [
            "val: 100%|██████████| 10/10 [00:08<00:00,  1.17it/s]\n"
          ]
        },
        {
          "output_type": "stream",
          "name": "stdout",
          "text": [
            "val Loss: 129.0805 MAE: 9.5115 RMSE: 10.5467\n",
            "\n",
            "Epoch 39/99\n",
            "----------\n"
          ]
        },
        {
          "output_type": "stream",
          "name": "stderr",
          "text": [
            "train: 100%|██████████| 40/40 [00:41<00:00,  1.03s/it]\n"
          ]
        },
        {
          "output_type": "stream",
          "name": "stdout",
          "text": [
            "train Loss: 149.8594 MAE: 10.5325 RMSE: 11.7911\n"
          ]
        },
        {
          "output_type": "stream",
          "name": "stderr",
          "text": [
            "val: 100%|██████████| 10/10 [00:09<00:00,  1.09it/s]\n"
          ]
        },
        {
          "output_type": "stream",
          "name": "stdout",
          "text": [
            "val Loss: 118.9403 MAE: 8.8608 RMSE: 9.9322\n",
            "Checkpoint saved at epoch 39\n",
            "\n",
            "Epoch 40/99\n",
            "----------\n"
          ]
        },
        {
          "output_type": "stream",
          "name": "stderr",
          "text": [
            "train: 100%|██████████| 40/40 [00:41<00:00,  1.05s/it]\n"
          ]
        },
        {
          "output_type": "stream",
          "name": "stdout",
          "text": [
            "train Loss: 159.5499 MAE: 10.5329 RMSE: 12.0725\n"
          ]
        },
        {
          "output_type": "stream",
          "name": "stderr",
          "text": [
            "val: 100%|██████████| 10/10 [00:08<00:00,  1.16it/s]\n"
          ]
        },
        {
          "output_type": "stream",
          "name": "stdout",
          "text": [
            "val Loss: 120.3631 MAE: 8.9001 RMSE: 9.9671\n",
            "\n",
            "Epoch 41/99\n",
            "----------\n"
          ]
        },
        {
          "output_type": "stream",
          "name": "stderr",
          "text": [
            "train: 100%|██████████| 40/40 [00:41<00:00,  1.03s/it]\n"
          ]
        },
        {
          "output_type": "stream",
          "name": "stdout",
          "text": [
            "train Loss: 154.8062 MAE: 10.1264 RMSE: 11.6410\n"
          ]
        },
        {
          "output_type": "stream",
          "name": "stderr",
          "text": [
            "val: 100%|██████████| 10/10 [00:08<00:00,  1.21it/s]\n"
          ]
        },
        {
          "output_type": "stream",
          "name": "stdout",
          "text": [
            "val Loss: 116.9612 MAE: 8.8900 RMSE: 9.9770\n",
            "\n",
            "Epoch 42/99\n",
            "----------\n"
          ]
        },
        {
          "output_type": "stream",
          "name": "stderr",
          "text": [
            "train: 100%|██████████| 40/40 [00:40<00:00,  1.02s/it]\n"
          ]
        },
        {
          "output_type": "stream",
          "name": "stdout",
          "text": [
            "train Loss: 162.1493 MAE: 10.7668 RMSE: 12.2757\n"
          ]
        },
        {
          "output_type": "stream",
          "name": "stderr",
          "text": [
            "val: 100%|██████████| 10/10 [00:09<00:00,  1.10it/s]\n"
          ]
        },
        {
          "output_type": "stream",
          "name": "stdout",
          "text": [
            "val Loss: 127.6090 MAE: 8.9213 RMSE: 10.1208\n",
            "\n",
            "Epoch 43/99\n",
            "----------\n"
          ]
        },
        {
          "output_type": "stream",
          "name": "stderr",
          "text": [
            "train: 100%|██████████| 40/40 [00:40<00:00,  1.02s/it]\n"
          ]
        },
        {
          "output_type": "stream",
          "name": "stdout",
          "text": [
            "train Loss: 159.8429 MAE: 10.5393 RMSE: 12.0653\n"
          ]
        },
        {
          "output_type": "stream",
          "name": "stderr",
          "text": [
            "val: 100%|██████████| 10/10 [00:08<00:00,  1.24it/s]\n"
          ]
        },
        {
          "output_type": "stream",
          "name": "stdout",
          "text": [
            "val Loss: 109.0194 MAE: 8.4353 RMSE: 9.4548\n",
            "New best model saved with MAE: 8.4353, RMSE: 9.4548\n",
            "\n",
            "Epoch 44/99\n",
            "----------\n"
          ]
        },
        {
          "output_type": "stream",
          "name": "stderr",
          "text": [
            "train: 100%|██████████| 40/40 [00:41<00:00,  1.03s/it]\n"
          ]
        },
        {
          "output_type": "stream",
          "name": "stdout",
          "text": [
            "train Loss: 164.2395 MAE: 10.7821 RMSE: 12.2706\n"
          ]
        },
        {
          "output_type": "stream",
          "name": "stderr",
          "text": [
            "val: 100%|██████████| 10/10 [00:08<00:00,  1.17it/s]\n"
          ]
        },
        {
          "output_type": "stream",
          "name": "stdout",
          "text": [
            "val Loss: 126.1735 MAE: 8.8627 RMSE: 10.0943\n",
            "Checkpoint saved at epoch 44\n",
            "\n",
            "Epoch 45/99\n",
            "----------\n"
          ]
        },
        {
          "output_type": "stream",
          "name": "stderr",
          "text": [
            "train: 100%|██████████| 40/40 [00:41<00:00,  1.04s/it]\n"
          ]
        },
        {
          "output_type": "stream",
          "name": "stdout",
          "text": [
            "train Loss: 155.8141 MAE: 10.4305 RMSE: 11.8654\n"
          ]
        },
        {
          "output_type": "stream",
          "name": "stderr",
          "text": [
            "val: 100%|██████████| 10/10 [00:09<00:00,  1.11it/s]\n"
          ]
        },
        {
          "output_type": "stream",
          "name": "stdout",
          "text": [
            "val Loss: 126.0385 MAE: 9.0701 RMSE: 10.2373\n",
            "\n",
            "Epoch 46/99\n",
            "----------\n"
          ]
        },
        {
          "output_type": "stream",
          "name": "stderr",
          "text": [
            "train: 100%|██████████| 40/40 [00:40<00:00,  1.02s/it]\n"
          ]
        },
        {
          "output_type": "stream",
          "name": "stdout",
          "text": [
            "train Loss: 149.4963 MAE: 10.1914 RMSE: 11.7944\n"
          ]
        },
        {
          "output_type": "stream",
          "name": "stderr",
          "text": [
            "val: 100%|██████████| 10/10 [00:08<00:00,  1.22it/s]\n"
          ]
        },
        {
          "output_type": "stream",
          "name": "stdout",
          "text": [
            "val Loss: 115.2012 MAE: 8.7221 RMSE: 9.8457\n",
            "\n",
            "Epoch 47/99\n",
            "----------\n"
          ]
        },
        {
          "output_type": "stream",
          "name": "stderr",
          "text": [
            "train: 100%|██████████| 40/40 [00:40<00:00,  1.01s/it]\n"
          ]
        },
        {
          "output_type": "stream",
          "name": "stdout",
          "text": [
            "train Loss: 147.4495 MAE: 9.9045 RMSE: 11.5136\n"
          ]
        },
        {
          "output_type": "stream",
          "name": "stderr",
          "text": [
            "val: 100%|██████████| 10/10 [00:08<00:00,  1.14it/s]\n"
          ]
        },
        {
          "output_type": "stream",
          "name": "stdout",
          "text": [
            "val Loss: 138.8788 MAE: 9.3021 RMSE: 10.7310\n",
            "\n",
            "Epoch 48/99\n",
            "----------\n"
          ]
        },
        {
          "output_type": "stream",
          "name": "stderr",
          "text": [
            "train: 100%|██████████| 40/40 [00:40<00:00,  1.02s/it]\n"
          ]
        },
        {
          "output_type": "stream",
          "name": "stdout",
          "text": [
            "train Loss: 175.1542 MAE: 11.0521 RMSE: 12.5158\n"
          ]
        },
        {
          "output_type": "stream",
          "name": "stderr",
          "text": [
            "val: 100%|██████████| 10/10 [00:09<00:00,  1.11it/s]\n"
          ]
        },
        {
          "output_type": "stream",
          "name": "stdout",
          "text": [
            "val Loss: 129.1808 MAE: 9.2457 RMSE: 10.4014\n",
            "\n",
            "Epoch 49/99\n",
            "----------\n"
          ]
        },
        {
          "output_type": "stream",
          "name": "stderr",
          "text": [
            "train: 100%|██████████| 40/40 [00:41<00:00,  1.03s/it]\n"
          ]
        },
        {
          "output_type": "stream",
          "name": "stdout",
          "text": [
            "train Loss: 157.9125 MAE: 10.5260 RMSE: 12.0792\n"
          ]
        },
        {
          "output_type": "stream",
          "name": "stderr",
          "text": [
            "val: 100%|██████████| 10/10 [00:08<00:00,  1.22it/s]\n"
          ]
        },
        {
          "output_type": "stream",
          "name": "stdout",
          "text": [
            "val Loss: 129.7747 MAE: 9.2330 RMSE: 10.3671\n",
            "Checkpoint saved at epoch 49\n",
            "\n",
            "Epoch 50/99\n",
            "----------\n"
          ]
        },
        {
          "output_type": "stream",
          "name": "stderr",
          "text": [
            "train: 100%|██████████| 40/40 [00:40<00:00,  1.02s/it]\n"
          ]
        },
        {
          "output_type": "stream",
          "name": "stdout",
          "text": [
            "train Loss: 154.8869 MAE: 10.2599 RMSE: 11.8772\n"
          ]
        },
        {
          "output_type": "stream",
          "name": "stderr",
          "text": [
            "val: 100%|██████████| 10/10 [00:08<00:00,  1.13it/s]\n"
          ]
        },
        {
          "output_type": "stream",
          "name": "stdout",
          "text": [
            "val Loss: 120.7229 MAE: 8.9943 RMSE: 10.1508\n",
            "\n",
            "Epoch 51/99\n",
            "----------\n"
          ]
        },
        {
          "output_type": "stream",
          "name": "stderr",
          "text": [
            "train: 100%|██████████| 40/40 [00:40<00:00,  1.01s/it]\n"
          ]
        },
        {
          "output_type": "stream",
          "name": "stdout",
          "text": [
            "train Loss: 149.7373 MAE: 9.9946 RMSE: 11.4991\n"
          ]
        },
        {
          "output_type": "stream",
          "name": "stderr",
          "text": [
            "val: 100%|██████████| 10/10 [00:08<00:00,  1.12it/s]\n"
          ]
        },
        {
          "output_type": "stream",
          "name": "stdout",
          "text": [
            "val Loss: 116.7599 MAE: 8.7942 RMSE: 9.9400\n",
            "\n",
            "Epoch 52/99\n",
            "----------\n"
          ]
        },
        {
          "output_type": "stream",
          "name": "stderr",
          "text": [
            "train: 100%|██████████| 40/40 [00:40<00:00,  1.01s/it]\n"
          ]
        },
        {
          "output_type": "stream",
          "name": "stdout",
          "text": [
            "train Loss: 164.4599 MAE: 10.6634 RMSE: 12.1121\n"
          ]
        },
        {
          "output_type": "stream",
          "name": "stderr",
          "text": [
            "val: 100%|██████████| 10/10 [00:07<00:00,  1.27it/s]\n"
          ]
        },
        {
          "output_type": "stream",
          "name": "stdout",
          "text": [
            "val Loss: 124.5821 MAE: 9.0677 RMSE: 10.1538\n",
            "\n",
            "Epoch 53/99\n",
            "----------\n"
          ]
        },
        {
          "output_type": "stream",
          "name": "stderr",
          "text": [
            "train: 100%|██████████| 40/40 [00:40<00:00,  1.02s/it]\n"
          ]
        },
        {
          "output_type": "stream",
          "name": "stdout",
          "text": [
            "train Loss: 155.3997 MAE: 10.6229 RMSE: 12.0069\n"
          ]
        },
        {
          "output_type": "stream",
          "name": "stderr",
          "text": [
            "val: 100%|██████████| 10/10 [00:09<00:00,  1.10it/s]\n"
          ]
        },
        {
          "output_type": "stream",
          "name": "stdout",
          "text": [
            "val Loss: 149.0915 MAE: 9.7026 RMSE: 11.0256\n",
            "\n",
            "Epoch 54/99\n",
            "----------\n"
          ]
        },
        {
          "output_type": "stream",
          "name": "stderr",
          "text": [
            "train: 100%|██████████| 40/40 [00:40<00:00,  1.02s/it]\n"
          ]
        },
        {
          "output_type": "stream",
          "name": "stdout",
          "text": [
            "train Loss: 149.0018 MAE: 10.3150 RMSE: 11.6879\n"
          ]
        },
        {
          "output_type": "stream",
          "name": "stderr",
          "text": [
            "val: 100%|██████████| 10/10 [00:08<00:00,  1.23it/s]\n"
          ]
        },
        {
          "output_type": "stream",
          "name": "stdout",
          "text": [
            "val Loss: 119.8202 MAE: 9.0343 RMSE: 10.0352\n",
            "Checkpoint saved at epoch 54\n",
            "\n",
            "Epoch 55/99\n",
            "----------\n"
          ]
        },
        {
          "output_type": "stream",
          "name": "stderr",
          "text": [
            "train: 100%|██████████| 40/40 [00:41<00:00,  1.03s/it]\n"
          ]
        },
        {
          "output_type": "stream",
          "name": "stdout",
          "text": [
            "train Loss: 132.0880 MAE: 9.4903 RMSE: 10.8611\n"
          ]
        },
        {
          "output_type": "stream",
          "name": "stderr",
          "text": [
            "val: 100%|██████████| 10/10 [00:08<00:00,  1.18it/s]\n"
          ]
        },
        {
          "output_type": "stream",
          "name": "stdout",
          "text": [
            "val Loss: 97.6139 MAE: 8.0490 RMSE: 9.0441\n",
            "New best model saved with MAE: 8.0490, RMSE: 9.0441\n",
            "\n",
            "Epoch 56/99\n",
            "----------\n"
          ]
        },
        {
          "output_type": "stream",
          "name": "stderr",
          "text": [
            "train: 100%|██████████| 40/40 [00:41<00:00,  1.04s/it]\n"
          ]
        },
        {
          "output_type": "stream",
          "name": "stdout",
          "text": [
            "train Loss: 143.1987 MAE: 9.7027 RMSE: 11.3457\n"
          ]
        },
        {
          "output_type": "stream",
          "name": "stderr",
          "text": [
            "val: 100%|██████████| 10/10 [00:09<00:00,  1.11it/s]\n"
          ]
        },
        {
          "output_type": "stream",
          "name": "stdout",
          "text": [
            "val Loss: 94.6695 MAE: 7.8687 RMSE: 9.0987\n",
            "New best model saved with MAE: 7.8687, RMSE: 9.0987\n",
            "\n",
            "Epoch 57/99\n",
            "----------\n"
          ]
        },
        {
          "output_type": "stream",
          "name": "stderr",
          "text": [
            "train: 100%|██████████| 40/40 [00:41<00:00,  1.04s/it]\n"
          ]
        },
        {
          "output_type": "stream",
          "name": "stdout",
          "text": [
            "train Loss: 164.2168 MAE: 10.6100 RMSE: 12.1834\n"
          ]
        },
        {
          "output_type": "stream",
          "name": "stderr",
          "text": [
            "val: 100%|██████████| 10/10 [00:08<00:00,  1.18it/s]\n"
          ]
        },
        {
          "output_type": "stream",
          "name": "stdout",
          "text": [
            "val Loss: 108.5198 MAE: 8.3428 RMSE: 9.4274\n",
            "\n",
            "Epoch 58/99\n",
            "----------\n"
          ]
        },
        {
          "output_type": "stream",
          "name": "stderr",
          "text": [
            "train: 100%|██████████| 40/40 [00:40<00:00,  1.01s/it]\n"
          ]
        },
        {
          "output_type": "stream",
          "name": "stdout",
          "text": [
            "train Loss: 145.9589 MAE: 10.0200 RMSE: 11.4125\n"
          ]
        },
        {
          "output_type": "stream",
          "name": "stderr",
          "text": [
            "val: 100%|██████████| 10/10 [00:08<00:00,  1.20it/s]\n"
          ]
        },
        {
          "output_type": "stream",
          "name": "stdout",
          "text": [
            "val Loss: 114.5892 MAE: 8.7375 RMSE: 9.9462\n",
            "\n",
            "Epoch 59/99\n",
            "----------\n"
          ]
        },
        {
          "output_type": "stream",
          "name": "stderr",
          "text": [
            "train: 100%|██████████| 40/40 [00:40<00:00,  1.02s/it]\n"
          ]
        },
        {
          "output_type": "stream",
          "name": "stdout",
          "text": [
            "train Loss: 134.1449 MAE: 9.7984 RMSE: 11.0765\n"
          ]
        },
        {
          "output_type": "stream",
          "name": "stderr",
          "text": [
            "val: 100%|██████████| 10/10 [00:09<00:00,  1.10it/s]\n"
          ]
        },
        {
          "output_type": "stream",
          "name": "stdout",
          "text": [
            "val Loss: 101.3945 MAE: 8.3740 RMSE: 9.4556\n",
            "Checkpoint saved at epoch 59\n",
            "\n",
            "Epoch 60/99\n",
            "----------\n"
          ]
        },
        {
          "output_type": "stream",
          "name": "stderr",
          "text": [
            "train: 100%|██████████| 40/40 [00:41<00:00,  1.05s/it]\n"
          ]
        },
        {
          "output_type": "stream",
          "name": "stdout",
          "text": [
            "train Loss: 143.2931 MAE: 9.6613 RMSE: 11.2441\n"
          ]
        },
        {
          "output_type": "stream",
          "name": "stderr",
          "text": [
            "val: 100%|██████████| 10/10 [00:08<00:00,  1.16it/s]\n"
          ]
        },
        {
          "output_type": "stream",
          "name": "stdout",
          "text": [
            "val Loss: 114.4611 MAE: 8.6131 RMSE: 9.9917\n",
            "\n",
            "Epoch 61/99\n",
            "----------\n"
          ]
        },
        {
          "output_type": "stream",
          "name": "stderr",
          "text": [
            "train: 100%|██████████| 40/40 [00:40<00:00,  1.01s/it]\n"
          ]
        },
        {
          "output_type": "stream",
          "name": "stdout",
          "text": [
            "train Loss: 130.3025 MAE: 9.1356 RMSE: 10.6244\n"
          ]
        },
        {
          "output_type": "stream",
          "name": "stderr",
          "text": [
            "val: 100%|██████████| 10/10 [00:08<00:00,  1.17it/s]\n"
          ]
        },
        {
          "output_type": "stream",
          "name": "stdout",
          "text": [
            "val Loss: 102.0706 MAE: 8.4011 RMSE: 9.5241\n",
            "\n",
            "Epoch 62/99\n",
            "----------\n"
          ]
        },
        {
          "output_type": "stream",
          "name": "stderr",
          "text": [
            "train: 100%|██████████| 40/40 [00:41<00:00,  1.03s/it]\n"
          ]
        },
        {
          "output_type": "stream",
          "name": "stdout",
          "text": [
            "train Loss: 138.2882 MAE: 9.7133 RMSE: 11.2529\n"
          ]
        },
        {
          "output_type": "stream",
          "name": "stderr",
          "text": [
            "val: 100%|██████████| 10/10 [00:09<00:00,  1.09it/s]\n"
          ]
        },
        {
          "output_type": "stream",
          "name": "stdout",
          "text": [
            "val Loss: 95.9910 MAE: 8.1181 RMSE: 9.2635\n",
            "\n",
            "Epoch 63/99\n",
            "----------\n"
          ]
        },
        {
          "output_type": "stream",
          "name": "stderr",
          "text": [
            "train: 100%|██████████| 40/40 [00:41<00:00,  1.03s/it]\n"
          ]
        },
        {
          "output_type": "stream",
          "name": "stdout",
          "text": [
            "train Loss: 140.6007 MAE: 9.7339 RMSE: 11.4486\n"
          ]
        },
        {
          "output_type": "stream",
          "name": "stderr",
          "text": [
            "val: 100%|██████████| 10/10 [00:08<00:00,  1.20it/s]\n"
          ]
        },
        {
          "output_type": "stream",
          "name": "stdout",
          "text": [
            "val Loss: 103.8199 MAE: 8.4373 RMSE: 9.4489\n",
            "\n",
            "Epoch 64/99\n",
            "----------\n"
          ]
        },
        {
          "output_type": "stream",
          "name": "stderr",
          "text": [
            "train: 100%|██████████| 40/40 [00:40<00:00,  1.02s/it]\n"
          ]
        },
        {
          "output_type": "stream",
          "name": "stdout",
          "text": [
            "train Loss: 151.8583 MAE: 10.2363 RMSE: 11.6661\n"
          ]
        },
        {
          "output_type": "stream",
          "name": "stderr",
          "text": [
            "val: 100%|██████████| 10/10 [00:08<00:00,  1.15it/s]\n"
          ]
        },
        {
          "output_type": "stream",
          "name": "stdout",
          "text": [
            "val Loss: 106.0365 MAE: 8.6636 RMSE: 9.6665\n",
            "Checkpoint saved at epoch 64\n",
            "\n",
            "Epoch 65/99\n",
            "----------\n"
          ]
        },
        {
          "output_type": "stream",
          "name": "stderr",
          "text": [
            "train: 100%|██████████| 40/40 [00:41<00:00,  1.03s/it]\n"
          ]
        },
        {
          "output_type": "stream",
          "name": "stdout",
          "text": [
            "train Loss: 151.5725 MAE: 10.2102 RMSE: 11.7796\n"
          ]
        },
        {
          "output_type": "stream",
          "name": "stderr",
          "text": [
            "val: 100%|██████████| 10/10 [00:09<00:00,  1.09it/s]\n"
          ]
        },
        {
          "output_type": "stream",
          "name": "stdout",
          "text": [
            "val Loss: 125.2120 MAE: 9.1789 RMSE: 10.3840\n",
            "\n",
            "Epoch 66/99\n",
            "----------\n"
          ]
        },
        {
          "output_type": "stream",
          "name": "stderr",
          "text": [
            "train: 100%|██████████| 40/40 [00:41<00:00,  1.03s/it]\n"
          ]
        },
        {
          "output_type": "stream",
          "name": "stdout",
          "text": [
            "train Loss: 141.3505 MAE: 9.9460 RMSE: 11.2360\n"
          ]
        },
        {
          "output_type": "stream",
          "name": "stderr",
          "text": [
            "val: 100%|██████████| 10/10 [00:08<00:00,  1.17it/s]\n"
          ]
        },
        {
          "output_type": "stream",
          "name": "stdout",
          "text": [
            "val Loss: 118.1586 MAE: 8.9688 RMSE: 10.0143\n",
            "\n",
            "Epoch 67/99\n",
            "----------\n"
          ]
        },
        {
          "output_type": "stream",
          "name": "stderr",
          "text": [
            "train: 100%|██████████| 40/40 [00:40<00:00,  1.01s/it]\n"
          ]
        },
        {
          "output_type": "stream",
          "name": "stdout",
          "text": [
            "train Loss: 146.7003 MAE: 10.0608 RMSE: 11.6838\n"
          ]
        },
        {
          "output_type": "stream",
          "name": "stderr",
          "text": [
            "val: 100%|██████████| 10/10 [00:08<00:00,  1.18it/s]\n"
          ]
        },
        {
          "output_type": "stream",
          "name": "stdout",
          "text": [
            "val Loss: 118.9334 MAE: 8.9524 RMSE: 10.0391\n",
            "\n",
            "Epoch 68/99\n",
            "----------\n"
          ]
        },
        {
          "output_type": "stream",
          "name": "stderr",
          "text": [
            "train: 100%|██████████| 40/40 [00:40<00:00,  1.02s/it]\n"
          ]
        },
        {
          "output_type": "stream",
          "name": "stdout",
          "text": [
            "train Loss: 140.1409 MAE: 9.5824 RMSE: 11.3166\n"
          ]
        },
        {
          "output_type": "stream",
          "name": "stderr",
          "text": [
            "val: 100%|██████████| 10/10 [00:09<00:00,  1.10it/s]\n"
          ]
        },
        {
          "output_type": "stream",
          "name": "stdout",
          "text": [
            "val Loss: 112.8752 MAE: 8.7614 RMSE: 9.9614\n",
            "\n",
            "Epoch 69/99\n",
            "----------\n"
          ]
        },
        {
          "output_type": "stream",
          "name": "stderr",
          "text": [
            "train: 100%|██████████| 40/40 [00:41<00:00,  1.03s/it]\n"
          ]
        },
        {
          "output_type": "stream",
          "name": "stdout",
          "text": [
            "train Loss: 133.0226 MAE: 9.6267 RMSE: 11.1365\n"
          ]
        },
        {
          "output_type": "stream",
          "name": "stderr",
          "text": [
            "val: 100%|██████████| 10/10 [00:08<00:00,  1.23it/s]\n"
          ]
        },
        {
          "output_type": "stream",
          "name": "stdout",
          "text": [
            "val Loss: 97.9442 MAE: 8.3177 RMSE: 9.3998\n",
            "Checkpoint saved at epoch 69\n",
            "\n",
            "Epoch 70/99\n",
            "----------\n"
          ]
        },
        {
          "output_type": "stream",
          "name": "stderr",
          "text": [
            "train: 100%|██████████| 40/40 [00:41<00:00,  1.03s/it]\n"
          ]
        },
        {
          "output_type": "stream",
          "name": "stdout",
          "text": [
            "train Loss: 135.8375 MAE: 9.7105 RMSE: 11.1490\n"
          ]
        },
        {
          "output_type": "stream",
          "name": "stderr",
          "text": [
            "val: 100%|██████████| 10/10 [00:08<00:00,  1.18it/s]\n"
          ]
        },
        {
          "output_type": "stream",
          "name": "stdout",
          "text": [
            "val Loss: 106.5919 MAE: 8.2563 RMSE: 9.6418\n",
            "\n",
            "Epoch 71/99\n",
            "----------\n"
          ]
        },
        {
          "output_type": "stream",
          "name": "stderr",
          "text": [
            "train: 100%|██████████| 40/40 [00:40<00:00,  1.02s/it]\n"
          ]
        },
        {
          "output_type": "stream",
          "name": "stdout",
          "text": [
            "train Loss: 151.0120 MAE: 10.3762 RMSE: 11.8327\n"
          ]
        },
        {
          "output_type": "stream",
          "name": "stderr",
          "text": [
            "val: 100%|██████████| 10/10 [00:08<00:00,  1.12it/s]\n"
          ]
        },
        {
          "output_type": "stream",
          "name": "stdout",
          "text": [
            "val Loss: 123.0019 MAE: 9.0706 RMSE: 10.3123\n",
            "\n",
            "Epoch 72/99\n",
            "----------\n"
          ]
        },
        {
          "output_type": "stream",
          "name": "stderr",
          "text": [
            "train: 100%|██████████| 40/40 [00:41<00:00,  1.03s/it]\n"
          ]
        },
        {
          "output_type": "stream",
          "name": "stdout",
          "text": [
            "train Loss: 133.4646 MAE: 9.5310 RMSE: 11.0001\n"
          ]
        },
        {
          "output_type": "stream",
          "name": "stderr",
          "text": [
            "val: 100%|██████████| 10/10 [00:07<00:00,  1.26it/s]\n"
          ]
        },
        {
          "output_type": "stream",
          "name": "stdout",
          "text": [
            "val Loss: 111.5932 MAE: 8.6814 RMSE: 9.7483\n",
            "\n",
            "Epoch 73/99\n",
            "----------\n"
          ]
        },
        {
          "output_type": "stream",
          "name": "stderr",
          "text": [
            "train: 100%|██████████| 40/40 [00:40<00:00,  1.01s/it]\n"
          ]
        },
        {
          "output_type": "stream",
          "name": "stdout",
          "text": [
            "train Loss: 146.6189 MAE: 9.7761 RMSE: 11.4090\n"
          ]
        },
        {
          "output_type": "stream",
          "name": "stderr",
          "text": [
            "val: 100%|██████████| 10/10 [00:08<00:00,  1.11it/s]\n"
          ]
        },
        {
          "output_type": "stream",
          "name": "stdout",
          "text": [
            "val Loss: 104.7637 MAE: 8.4440 RMSE: 9.7003\n",
            "\n",
            "Epoch 74/99\n",
            "----------\n"
          ]
        },
        {
          "output_type": "stream",
          "name": "stderr",
          "text": [
            "train: 100%|██████████| 40/40 [00:40<00:00,  1.02s/it]\n"
          ]
        },
        {
          "output_type": "stream",
          "name": "stdout",
          "text": [
            "train Loss: 134.6777 MAE: 9.6865 RMSE: 11.0846\n"
          ]
        },
        {
          "output_type": "stream",
          "name": "stderr",
          "text": [
            "val: 100%|██████████| 10/10 [00:08<00:00,  1.17it/s]\n"
          ]
        },
        {
          "output_type": "stream",
          "name": "stdout",
          "text": [
            "val Loss: 114.8079 MAE: 8.8118 RMSE: 9.9318\n",
            "Checkpoint saved at epoch 74\n",
            "\n",
            "Epoch 75/99\n",
            "----------\n"
          ]
        },
        {
          "output_type": "stream",
          "name": "stderr",
          "text": [
            "train: 100%|██████████| 40/40 [00:41<00:00,  1.03s/it]\n"
          ]
        },
        {
          "output_type": "stream",
          "name": "stdout",
          "text": [
            "train Loss: 142.4553 MAE: 9.9528 RMSE: 11.2268\n"
          ]
        },
        {
          "output_type": "stream",
          "name": "stderr",
          "text": [
            "val: 100%|██████████| 10/10 [00:08<00:00,  1.22it/s]\n"
          ]
        },
        {
          "output_type": "stream",
          "name": "stdout",
          "text": [
            "val Loss: 133.9530 MAE: 9.2074 RMSE: 10.5210\n",
            "\n",
            "Epoch 76/99\n",
            "----------\n"
          ]
        },
        {
          "output_type": "stream",
          "name": "stderr",
          "text": [
            "train: 100%|██████████| 40/40 [00:41<00:00,  1.03s/it]\n"
          ]
        },
        {
          "output_type": "stream",
          "name": "stdout",
          "text": [
            "train Loss: 129.8011 MAE: 9.3774 RMSE: 10.7696\n"
          ]
        },
        {
          "output_type": "stream",
          "name": "stderr",
          "text": [
            "val: 100%|██████████| 10/10 [00:09<00:00,  1.11it/s]\n"
          ]
        },
        {
          "output_type": "stream",
          "name": "stdout",
          "text": [
            "val Loss: 105.4345 MAE: 8.6118 RMSE: 9.6169\n",
            "\n",
            "Epoch 77/99\n",
            "----------\n"
          ]
        },
        {
          "output_type": "stream",
          "name": "stderr",
          "text": [
            "train: 100%|██████████| 40/40 [00:40<00:00,  1.02s/it]\n"
          ]
        },
        {
          "output_type": "stream",
          "name": "stdout",
          "text": [
            "train Loss: 153.0828 MAE: 10.4511 RMSE: 11.8509\n"
          ]
        },
        {
          "output_type": "stream",
          "name": "stderr",
          "text": [
            "val: 100%|██████████| 10/10 [00:08<00:00,  1.17it/s]\n"
          ]
        },
        {
          "output_type": "stream",
          "name": "stdout",
          "text": [
            "val Loss: 112.5490 MAE: 8.4917 RMSE: 9.6265\n",
            "\n",
            "Epoch 78/99\n",
            "----------\n"
          ]
        },
        {
          "output_type": "stream",
          "name": "stderr",
          "text": [
            "train: 100%|██████████| 40/40 [00:41<00:00,  1.03s/it]\n"
          ]
        },
        {
          "output_type": "stream",
          "name": "stdout",
          "text": [
            "train Loss: 124.5177 MAE: 9.0316 RMSE: 10.5132\n"
          ]
        },
        {
          "output_type": "stream",
          "name": "stderr",
          "text": [
            "val: 100%|██████████| 10/10 [00:08<00:00,  1.22it/s]\n"
          ]
        },
        {
          "output_type": "stream",
          "name": "stdout",
          "text": [
            "val Loss: 115.0595 MAE: 9.0537 RMSE: 10.4234\n",
            "\n",
            "Epoch 79/99\n",
            "----------\n"
          ]
        },
        {
          "output_type": "stream",
          "name": "stderr",
          "text": [
            "train: 100%|██████████| 40/40 [00:41<00:00,  1.03s/it]\n"
          ]
        },
        {
          "output_type": "stream",
          "name": "stdout",
          "text": [
            "train Loss: 130.9864 MAE: 9.4199 RMSE: 10.9219\n"
          ]
        },
        {
          "output_type": "stream",
          "name": "stderr",
          "text": [
            "val: 100%|██████████| 10/10 [00:09<00:00,  1.10it/s]\n"
          ]
        },
        {
          "output_type": "stream",
          "name": "stdout",
          "text": [
            "val Loss: 108.6617 MAE: 8.3410 RMSE: 9.7874\n",
            "Checkpoint saved at epoch 79\n",
            "\n",
            "Epoch 80/99\n",
            "----------\n"
          ]
        },
        {
          "output_type": "stream",
          "name": "stderr",
          "text": [
            "train: 100%|██████████| 40/40 [00:41<00:00,  1.03s/it]\n"
          ]
        },
        {
          "output_type": "stream",
          "name": "stdout",
          "text": [
            "train Loss: 125.5641 MAE: 9.3008 RMSE: 10.5673\n"
          ]
        },
        {
          "output_type": "stream",
          "name": "stderr",
          "text": [
            "val: 100%|██████████| 10/10 [00:09<00:00,  1.11it/s]\n"
          ]
        },
        {
          "output_type": "stream",
          "name": "stdout",
          "text": [
            "val Loss: 91.0787 MAE: 7.4727 RMSE: 8.9896\n",
            "New best model saved with MAE: 7.4727, RMSE: 8.9896\n",
            "\n",
            "Epoch 81/99\n",
            "----------\n"
          ]
        },
        {
          "output_type": "stream",
          "name": "stderr",
          "text": [
            "train: 100%|██████████| 40/40 [00:41<00:00,  1.05s/it]\n"
          ]
        },
        {
          "output_type": "stream",
          "name": "stdout",
          "text": [
            "train Loss: 110.3525 MAE: 8.3243 RMSE: 9.9631\n"
          ]
        },
        {
          "output_type": "stream",
          "name": "stderr",
          "text": [
            "val: 100%|██████████| 10/10 [00:07<00:00,  1.26it/s]\n"
          ]
        },
        {
          "output_type": "stream",
          "name": "stdout",
          "text": [
            "val Loss: 92.3143 MAE: 7.9963 RMSE: 9.2030\n",
            "\n",
            "Epoch 82/99\n",
            "----------\n"
          ]
        },
        {
          "output_type": "stream",
          "name": "stderr",
          "text": [
            "train: 100%|██████████| 40/40 [00:40<00:00,  1.02s/it]\n"
          ]
        },
        {
          "output_type": "stream",
          "name": "stdout",
          "text": [
            "train Loss: 121.9374 MAE: 9.0060 RMSE: 10.5381\n"
          ]
        },
        {
          "output_type": "stream",
          "name": "stderr",
          "text": [
            "val: 100%|██████████| 10/10 [00:09<00:00,  1.10it/s]\n"
          ]
        },
        {
          "output_type": "stream",
          "name": "stdout",
          "text": [
            "val Loss: 105.7068 MAE: 8.7138 RMSE: 9.8519\n",
            "\n",
            "Epoch 83/99\n",
            "----------\n"
          ]
        },
        {
          "output_type": "stream",
          "name": "stderr",
          "text": [
            "train: 100%|██████████| 40/40 [00:41<00:00,  1.03s/it]\n"
          ]
        },
        {
          "output_type": "stream",
          "name": "stdout",
          "text": [
            "train Loss: 138.8406 MAE: 9.3215 RMSE: 11.0744\n"
          ]
        },
        {
          "output_type": "stream",
          "name": "stderr",
          "text": [
            "val: 100%|██████████| 10/10 [00:08<00:00,  1.11it/s]\n"
          ]
        },
        {
          "output_type": "stream",
          "name": "stdout",
          "text": [
            "val Loss: 92.6449 MAE: 8.2759 RMSE: 9.2229\n",
            "\n",
            "Epoch 84/99\n",
            "----------\n"
          ]
        },
        {
          "output_type": "stream",
          "name": "stderr",
          "text": [
            "train: 100%|██████████| 40/40 [00:40<00:00,  1.01s/it]\n"
          ]
        },
        {
          "output_type": "stream",
          "name": "stdout",
          "text": [
            "train Loss: 122.3687 MAE: 9.0837 RMSE: 10.5567\n"
          ]
        },
        {
          "output_type": "stream",
          "name": "stderr",
          "text": [
            "val: 100%|██████████| 10/10 [00:08<00:00,  1.22it/s]\n"
          ]
        },
        {
          "output_type": "stream",
          "name": "stdout",
          "text": [
            "val Loss: 83.0461 MAE: 7.6995 RMSE: 8.7660\n",
            "Checkpoint saved at epoch 84\n",
            "\n",
            "Epoch 85/99\n",
            "----------\n"
          ]
        },
        {
          "output_type": "stream",
          "name": "stderr",
          "text": [
            "train: 100%|██████████| 40/40 [00:41<00:00,  1.03s/it]\n"
          ]
        },
        {
          "output_type": "stream",
          "name": "stdout",
          "text": [
            "train Loss: 143.2117 MAE: 9.8466 RMSE: 11.3794\n"
          ]
        },
        {
          "output_type": "stream",
          "name": "stderr",
          "text": [
            "val: 100%|██████████| 10/10 [00:09<00:00,  1.10it/s]\n"
          ]
        },
        {
          "output_type": "stream",
          "name": "stdout",
          "text": [
            "val Loss: 93.8849 MAE: 8.1026 RMSE: 9.2991\n",
            "\n",
            "Epoch 86/99\n",
            "----------\n"
          ]
        },
        {
          "output_type": "stream",
          "name": "stderr",
          "text": [
            "train: 100%|██████████| 40/40 [00:40<00:00,  1.02s/it]\n"
          ]
        },
        {
          "output_type": "stream",
          "name": "stdout",
          "text": [
            "train Loss: 132.2155 MAE: 9.3014 RMSE: 10.8999\n"
          ]
        },
        {
          "output_type": "stream",
          "name": "stderr",
          "text": [
            "val: 100%|██████████| 10/10 [00:08<00:00,  1.19it/s]\n"
          ]
        },
        {
          "output_type": "stream",
          "name": "stdout",
          "text": [
            "val Loss: 109.2441 MAE: 8.3624 RMSE: 9.9505\n",
            "\n",
            "Epoch 87/99\n",
            "----------\n"
          ]
        },
        {
          "output_type": "stream",
          "name": "stderr",
          "text": [
            "train: 100%|██████████| 40/40 [00:41<00:00,  1.05s/it]\n"
          ]
        },
        {
          "output_type": "stream",
          "name": "stdout",
          "text": [
            "train Loss: 126.4450 MAE: 8.8404 RMSE: 10.5080\n"
          ]
        },
        {
          "output_type": "stream",
          "name": "stderr",
          "text": [
            "val: 100%|██████████| 10/10 [00:08<00:00,  1.18it/s]\n"
          ]
        },
        {
          "output_type": "stream",
          "name": "stdout",
          "text": [
            "val Loss: 91.8342 MAE: 7.7624 RMSE: 9.0317\n",
            "\n",
            "Epoch 88/99\n",
            "----------\n"
          ]
        },
        {
          "output_type": "stream",
          "name": "stderr",
          "text": [
            "train: 100%|██████████| 40/40 [00:41<00:00,  1.03s/it]\n"
          ]
        },
        {
          "output_type": "stream",
          "name": "stdout",
          "text": [
            "train Loss: 122.2322 MAE: 8.9684 RMSE: 10.6003\n"
          ]
        },
        {
          "output_type": "stream",
          "name": "stderr",
          "text": [
            "val: 100%|██████████| 10/10 [00:09<00:00,  1.09it/s]\n"
          ]
        },
        {
          "output_type": "stream",
          "name": "stdout",
          "text": [
            "val Loss: 111.8276 MAE: 8.4406 RMSE: 9.9160\n",
            "\n",
            "Epoch 89/99\n",
            "----------\n"
          ]
        },
        {
          "output_type": "stream",
          "name": "stderr",
          "text": [
            "train: 100%|██████████| 40/40 [00:40<00:00,  1.02s/it]\n"
          ]
        },
        {
          "output_type": "stream",
          "name": "stdout",
          "text": [
            "train Loss: 130.3558 MAE: 9.4995 RMSE: 10.8207\n"
          ]
        },
        {
          "output_type": "stream",
          "name": "stderr",
          "text": [
            "val: 100%|██████████| 10/10 [00:08<00:00,  1.23it/s]\n"
          ]
        },
        {
          "output_type": "stream",
          "name": "stdout",
          "text": [
            "val Loss: 112.1020 MAE: 8.4874 RMSE: 9.9504\n",
            "Checkpoint saved at epoch 89\n",
            "\n",
            "Epoch 90/99\n",
            "----------\n"
          ]
        },
        {
          "output_type": "stream",
          "name": "stderr",
          "text": [
            "train: 100%|██████████| 40/40 [00:40<00:00,  1.02s/it]\n"
          ]
        },
        {
          "output_type": "stream",
          "name": "stdout",
          "text": [
            "train Loss: 122.4049 MAE: 8.9811 RMSE: 10.4285\n"
          ]
        },
        {
          "output_type": "stream",
          "name": "stderr",
          "text": [
            "val: 100%|██████████| 10/10 [00:08<00:00,  1.16it/s]\n"
          ]
        },
        {
          "output_type": "stream",
          "name": "stdout",
          "text": [
            "val Loss: 102.4511 MAE: 7.9896 RMSE: 9.8201\n",
            "\n",
            "Epoch 91/99\n",
            "----------\n"
          ]
        },
        {
          "output_type": "stream",
          "name": "stderr",
          "text": [
            "train: 100%|██████████| 40/40 [00:40<00:00,  1.02s/it]\n"
          ]
        },
        {
          "output_type": "stream",
          "name": "stdout",
          "text": [
            "train Loss: 119.9978 MAE: 9.1513 RMSE: 10.4537\n"
          ]
        },
        {
          "output_type": "stream",
          "name": "stderr",
          "text": [
            "val: 100%|██████████| 10/10 [00:09<00:00,  1.10it/s]\n"
          ]
        },
        {
          "output_type": "stream",
          "name": "stdout",
          "text": [
            "val Loss: 120.1291 MAE: 8.7189 RMSE: 9.9597\n",
            "\n",
            "Epoch 92/99\n",
            "----------\n"
          ]
        },
        {
          "output_type": "stream",
          "name": "stderr",
          "text": [
            "train: 100%|██████████| 40/40 [00:40<00:00,  1.01s/it]\n"
          ]
        },
        {
          "output_type": "stream",
          "name": "stdout",
          "text": [
            "train Loss: 133.2911 MAE: 9.1241 RMSE: 10.8873\n"
          ]
        },
        {
          "output_type": "stream",
          "name": "stderr",
          "text": [
            "val: 100%|██████████| 10/10 [00:07<00:00,  1.26it/s]\n"
          ]
        },
        {
          "output_type": "stream",
          "name": "stdout",
          "text": [
            "val Loss: 111.8342 MAE: 8.4892 RMSE: 9.8051\n",
            "\n",
            "Epoch 93/99\n",
            "----------\n"
          ]
        },
        {
          "output_type": "stream",
          "name": "stderr",
          "text": [
            "train: 100%|██████████| 40/40 [00:41<00:00,  1.03s/it]\n"
          ]
        },
        {
          "output_type": "stream",
          "name": "stdout",
          "text": [
            "train Loss: 124.7116 MAE: 9.2942 RMSE: 10.7878\n"
          ]
        },
        {
          "output_type": "stream",
          "name": "stderr",
          "text": [
            "val: 100%|██████████| 10/10 [00:09<00:00,  1.10it/s]\n"
          ]
        },
        {
          "output_type": "stream",
          "name": "stdout",
          "text": [
            "val Loss: 114.6240 MAE: 8.3854 RMSE: 9.8600\n",
            "\n",
            "Epoch 94/99\n",
            "----------\n"
          ]
        },
        {
          "output_type": "stream",
          "name": "stderr",
          "text": [
            "train: 100%|██████████| 40/40 [00:41<00:00,  1.03s/it]\n"
          ]
        },
        {
          "output_type": "stream",
          "name": "stdout",
          "text": [
            "train Loss: 122.4214 MAE: 8.9083 RMSE: 10.4289\n"
          ]
        },
        {
          "output_type": "stream",
          "name": "stderr",
          "text": [
            "val: 100%|██████████| 10/10 [00:08<00:00,  1.13it/s]\n"
          ]
        },
        {
          "output_type": "stream",
          "name": "stdout",
          "text": [
            "val Loss: 105.1745 MAE: 8.4187 RMSE: 9.7919\n",
            "Checkpoint saved at epoch 94\n",
            "\n",
            "Epoch 95/99\n",
            "----------\n"
          ]
        },
        {
          "output_type": "stream",
          "name": "stderr",
          "text": [
            "train: 100%|██████████| 40/40 [00:41<00:00,  1.03s/it]\n"
          ]
        },
        {
          "output_type": "stream",
          "name": "stdout",
          "text": [
            "train Loss: 133.6479 MAE: 9.1208 RMSE: 10.8971\n"
          ]
        },
        {
          "output_type": "stream",
          "name": "stderr",
          "text": [
            "val: 100%|██████████| 10/10 [00:07<00:00,  1.25it/s]\n"
          ]
        },
        {
          "output_type": "stream",
          "name": "stdout",
          "text": [
            "val Loss: 89.8181 MAE: 7.8928 RMSE: 9.2158\n",
            "\n",
            "Epoch 96/99\n",
            "----------\n"
          ]
        },
        {
          "output_type": "stream",
          "name": "stderr",
          "text": [
            "train: 100%|██████████| 40/40 [00:40<00:00,  1.02s/it]\n"
          ]
        },
        {
          "output_type": "stream",
          "name": "stdout",
          "text": [
            "train Loss: 120.8396 MAE: 8.9928 RMSE: 10.4118\n"
          ]
        },
        {
          "output_type": "stream",
          "name": "stderr",
          "text": [
            "val: 100%|██████████| 10/10 [00:09<00:00,  1.10it/s]\n"
          ]
        },
        {
          "output_type": "stream",
          "name": "stdout",
          "text": [
            "val Loss: 92.2684 MAE: 8.0007 RMSE: 9.2340\n",
            "\n",
            "Epoch 97/99\n",
            "----------\n"
          ]
        },
        {
          "output_type": "stream",
          "name": "stderr",
          "text": [
            "train: 100%|██████████| 40/40 [00:41<00:00,  1.03s/it]\n"
          ]
        },
        {
          "output_type": "stream",
          "name": "stdout",
          "text": [
            "train Loss: 123.7541 MAE: 8.9494 RMSE: 10.6365\n"
          ]
        },
        {
          "output_type": "stream",
          "name": "stderr",
          "text": [
            "val: 100%|██████████| 10/10 [00:08<00:00,  1.14it/s]\n"
          ]
        },
        {
          "output_type": "stream",
          "name": "stdout",
          "text": [
            "val Loss: 106.3296 MAE: 8.8078 RMSE: 9.9445\n",
            "\n",
            "Epoch 98/99\n",
            "----------\n"
          ]
        },
        {
          "output_type": "stream",
          "name": "stderr",
          "text": [
            "train: 100%|██████████| 40/40 [00:41<00:00,  1.03s/it]\n"
          ]
        },
        {
          "output_type": "stream",
          "name": "stdout",
          "text": [
            "train Loss: 127.9982 MAE: 9.3334 RMSE: 10.7749\n"
          ]
        },
        {
          "output_type": "stream",
          "name": "stderr",
          "text": [
            "val: 100%|██████████| 10/10 [00:08<00:00,  1.22it/s]\n"
          ]
        },
        {
          "output_type": "stream",
          "name": "stdout",
          "text": [
            "val Loss: 111.1025 MAE: 8.5121 RMSE: 9.9037\n",
            "\n",
            "Epoch 99/99\n",
            "----------\n"
          ]
        },
        {
          "output_type": "stream",
          "name": "stderr",
          "text": [
            "train: 100%|██████████| 40/40 [00:40<00:00,  1.02s/it]\n"
          ]
        },
        {
          "output_type": "stream",
          "name": "stdout",
          "text": [
            "train Loss: 118.4784 MAE: 8.8670 RMSE: 10.2715\n"
          ]
        },
        {
          "output_type": "stream",
          "name": "stderr",
          "text": [
            "val: 100%|██████████| 10/10 [00:09<00:00,  1.11it/s]\n"
          ]
        },
        {
          "output_type": "stream",
          "name": "stdout",
          "text": [
            "val Loss: 105.6468 MAE: 8.3175 RMSE: 9.7378\n",
            "Checkpoint saved at epoch 99\n",
            "\n",
            "Training complete in 82m 57s\n",
            "Best val MAE: 7.4727, Best val RMSE: 8.9896\n",
            "\n",
            "Model Workflow Explanation:\n",
            "1. Input: Batch of video sequences (shape: [batch_size, 64, 3, 224, 224])\n",
            "2. ResNet18: Processes each frame individually (output: [batch_size*64, 512, 7, 7])\n",
            "3. Global Average Pooling: Reduces each frame to [512] features\n",
            "4. Reshape: [batch_size, 64, 512] for temporal processing\n",
            "5. BiLSTM: Processes temporal sequence (output: [batch_size, 64, 512])\n",
            "6. Last Frame Selection: Takes final LSTM output [batch_size, 512]\n",
            "7. MLP: Reduces to final prediction [batch_size, 1]\n",
            "8. Output: Predicted BDI-II score (0-63 range)\n",
            "\n",
            "Key Parameters:\n",
            "- Sequence length: 64 frames\n",
            "- ResNet18 output features: 512\n",
            "- LSTM hidden size: 256 (512 with bidirectional)\n",
            "- Batch size: 4\n",
            "- Learning rate: 0.001\n",
            "- Dropout: 0.5 in MLP\n"
          ]
        }
      ]
    },
    {
      "cell_type": "code",
      "source": [
        "import torch\n",
        "import numpy as np\n",
        "import pandas as pd\n",
        "import matplotlib.pyplot as plt\n",
        "from torch.utils.data import DataLoader\n",
        "from sklearn.metrics import mean_absolute_error, mean_squared_error\n",
        "\n",
        "model_path = os.path.join(MODEL_DIR, 'best_model_mae.pth')\n",
        "model = VisualStreamModel().to(device)\n",
        "model.load_state_dict(torch.load(model_path))\n",
        "model.eval()\n",
        "print(\"Loaded best model based on validation MAE\")\n",
        "\n",
        "print(f\"Testing on {len(test_dataset)} samples\")\n",
        "\n",
        "def evaluate_model(model, test_loader):\n",
        "    all_preds = []\n",
        "    all_labels = []\n",
        "\n",
        "    with torch.no_grad():\n",
        "        for inputs, labels in tqdm(test_loader, desc=\"Testing\"):\n",
        "            inputs = inputs.to(device)\n",
        "            outputs = model(inputs)\n",
        "\n",
        "            all_preds.extend(outputs.cpu().numpy())\n",
        "            all_labels.extend(labels.cpu().numpy())\n",
        "\n",
        "    return np.array(all_preds), np.array(all_labels)\n",
        "\n",
        "predictions, true_labels = evaluate_model(model, test_loader)\n",
        "\n",
        "mae = mean_absolute_error(true_labels, predictions)\n",
        "rmse = np.sqrt(mean_squared_error(true_labels, predictions))\n",
        "r2 = 1 - (np.sum((true_labels - predictions)**2) /\n",
        "          np.sum((true_labels - np.mean(true_labels))**2))\n",
        "\n",
        "print(\"\\nTest Results:\")\n",
        "print(f\"MAE: {mae:.4f}\")\n",
        "print(f\"RMSE: {rmse:.4f}\")\n",
        "print(f\"R² Score: {r2:.4f}\")\n",
        "\n",
        "results_df = pd.DataFrame({\n",
        "    'Filename': test_df['filename'],\n",
        "    'True_BDI': true_labels,\n",
        "    'Predicted_BDI': predictions,\n",
        "    'Absolute_Error': np.abs(true_labels - predictions)\n",
        "})\n",
        "results_csv_path = os.path.join(BASE_DIR, 'test_results.csv')\n",
        "results_df.to_csv(results_csv_path, index=False)\n",
        "print(f\"\\nSaved detailed results to: {results_csv_path}\")\n",
        "\n",
        "plt.figure(figsize=(12, 6))\n",
        "\n",
        "plt.subplot(1, 2, 1)\n",
        "plt.scatter(true_labels, predictions, alpha=0.6)\n",
        "plt.plot([0, 63], [0, 63], 'r--')\n",
        "plt.xlabel('True BDI-II Score')\n",
        "plt.ylabel('Predicted BDI-II Score')\n",
        "plt.title('Predicted vs True Values')\n",
        "plt.grid(True)\n",
        "\n",
        "plt.subplot(1, 2, 2)\n",
        "plt.hist(results_df['Absolute_Error'], bins=20, alpha=0.7)\n",
        "plt.xlabel('Absolute Error')\n",
        "plt.ylabel('Frequency')\n",
        "plt.title('Error Distribution')\n",
        "plt.grid(True)\n",
        "\n",
        "plt.tight_layout()\n",
        "plot_path = os.path.join(BASE_DIR, 'test_results.png')\n",
        "plt.savefig(plot_path)\n",
        "print(f\"Saved visualization to: {plot_path}\")\n",
        "plt.show()\n",
        "\n",
        "print(\"\\nSample Predictions:\")\n",
        "sample_results = results_df.sample(5, random_state=42)\n",
        "for _, row in sample_results.iterrows():\n",
        "    print(f\"File: {row['Filename']}\")\n",
        "    print(f\"  True: {row['True_BDI']:.1f}, Predicted: {row['Predicted_BDI']:.1f}, Error: {row['Absolute_Error']:.1f}\")"
      ],
      "metadata": {
        "colab": {
          "base_uri": "https://localhost:8080/",
          "height": 990
        },
        "id": "qwZocEG7hmd6",
        "outputId": "64bdbaef-cbb7-4f8a-f613-24780b8f862a"
      },
      "execution_count": null,
      "outputs": [
        {
          "output_type": "stream",
          "name": "stdout",
          "text": [
            "Loaded best model based on validation MAE\n",
            "Testing on 100 samples\n"
          ]
        },
        {
          "output_type": "stream",
          "name": "stderr",
          "text": [
            "Testing: 100%|██████████| 25/25 [00:21<00:00,  1.17it/s]\n"
          ]
        },
        {
          "output_type": "stream",
          "name": "stdout",
          "text": [
            "\n",
            "Test Results:\n",
            "MAE: 8.4306\n",
            "RMSE: 10.8404\n",
            "R² Score: 0.1084\n",
            "\n",
            "Saved detailed results to: /content/drive/MyDrive/visual_stream/test_results.csv\n",
            "Saved visualization to: /content/drive/MyDrive/visual_stream/test_results.png\n"
          ]
        },
        {
          "output_type": "display_data",
          "data": {
            "text/plain": [
              "<Figure size 1200x600 with 2 Axes>"
            ],
            "image/png": "[encoded data removed]"
          },
          "metadata": {}
        },
        {
          "output_type": "stream",
          "name": "stdout",
          "text": [
            "\n",
            "Sample Predictions:\n",
            "File: Freeform_Testing/345_3_Freeform_video_aligned\n",
            "  True: 0.0, Predicted: 7.2, Error: 7.2\n",
            "File: Freeform_Testing/310_2_Freeform_video_aligned\n",
            "  True: 19.0, Predicted: 7.2, Error: 11.8\n",
            "File: Northwind_Testing/338_1_Northwind_video_aligned\n",
            "  True: 12.0, Predicted: 7.2, Error: 4.8\n",
            "File: Freeform_Testing/247_1_Freeform_video_aligned\n",
            "  True: 14.0, Predicted: 7.3, Error: 6.7\n",
            "File: Northwind_Testing/247_1_Northwind_video_aligned\n",
            "  True: 14.0, Predicted: 7.2, Error: 6.8\n"
          ]
        }
      ]
    },
    {
      "cell_type": "markdown",
      "source": [
        "### ResNet34 version"
      ],
      "metadata": {
        "id": "DuekwthulpjL"
      }
    },
    {
      "cell_type": "code",
      "source": [
        "import os\n",
        "os.environ['PYTORCH_CUDA_ALLOC_CONF'] = 'expandable_segments:True'\n",
        "import torch\n",
        "import torch.nn as nn\n",
        "import torch.optim as optim\n",
        "from torch.utils.data import Dataset, DataLoader\n",
        "from torchvision import models, transforms\n",
        "import numpy as np\n",
        "import pandas as pd\n",
        "from sklearn.model_selection import train_test_split\n",
        "from PIL import Image\n",
        "import os\n",
        "import time\n",
        "import copy\n",
        "import random\n",
        "from tqdm import tqdm\n",
        "import torch.nn.functional as F\n",
        "import torch.cuda\n",
        "import torch.cuda.amp\n",
        "\n",
        "\n",
        "torch.backends.cudnn.benchmark = True\n",
        "torch.cuda.empty_cache()\n",
        "scaler = torch.cuda.amp.GradScaler()\n",
        "\n",
        "\n",
        "device = torch.device(\"cuda:0\" if torch.cuda.is_available() else \"cpu\")\n",
        "print(f\"Using device: {device}\")\n",
        "\n",
        "os.makedirs(CHECKPOINT_DIR, exist_ok=True)\n",
        "os.makedirs(MODEL_DIR, exist_ok=True)\n",
        "\n",
        "class AVECDataset(Dataset):\n",
        "    def __init__(self, video_dirs, labels, root_dir, transform=None, sequence_length=64):\n",
        "        self.video_dirs = video_dirs\n",
        "        self.labels = labels\n",
        "        self.root_dir = root_dir\n",
        "        self.transform = transform\n",
        "        self.sequence_length = sequence_length\n",
        "\n",
        "        self.video_frame_paths = {}\n",
        "        for video_dir in self.video_dirs:\n",
        "            full_path = os.path.join(self.root_dir, video_dir)\n",
        "            frame_files = sorted([\n",
        "                os.path.join(full_path, f)\n",
        "                for f in os.listdir(full_path)\n",
        "                if f.endswith('.jpg') and f.split('.')[0].isdigit()\n",
        "            ])\n",
        "            self.video_frame_paths[video_dir] = frame_files\n",
        "\n",
        "    def __len__(self):\n",
        "        return len(self.video_dirs)\n",
        "\n",
        "    def __getitem__(self, idx):\n",
        "        video_dir = self.video_dirs[idx]\n",
        "        frame_paths = self.video_frame_paths[video_dir]\n",
        "        label = self.labels[idx]\n",
        "\n",
        "        if len(frame_paths) > self.sequence_length:\n",
        "            start_idx = random.randint(0, len(frame_paths) - self.sequence_length)\n",
        "            selected_paths = frame_paths[start_idx:start_idx + self.sequence_length]\n",
        "        else:\n",
        "            selected_paths = frame_paths\n",
        "            if len(frame_paths) < self.sequence_length:\n",
        "                padding = [frame_paths[-1]] * (self.sequence_length - len(frame_paths))\n",
        "                selected_paths = frame_paths + padding\n",
        "\n",
        "        images = []\n",
        "        for frame_path in selected_paths:\n",
        "            image = Image.open(frame_path)\n",
        "            if self.transform:\n",
        "                image = self.transform(image)\n",
        "            images.append(image)\n",
        "\n",
        "        images = torch.stack(images)\n",
        "        label = torch.tensor(label, dtype=torch.float32)\n",
        "\n",
        "        return images, label\n",
        "\n",
        "data_transforms = {\n",
        "    'train': transforms.Compose([\n",
        "        transforms.Resize(256),\n",
        "        transforms.RandomCrop(224),\n",
        "        transforms.RandomHorizontalFlip(),\n",
        "        transforms.ToTensor(),\n",
        "        transforms.Normalize([0.485, 0.456, 0.406], [0.229, 0.224, 0.225])\n",
        "    ]),\n",
        "    'val': transforms.Compose([\n",
        "        transforms.Resize(256),\n",
        "        transforms.CenterCrop(224),\n",
        "        transforms.ToTensor(),\n",
        "        transforms.Normalize([0.485, 0.456, 0.406], [0.229, 0.224, 0.225])\n",
        "    ]),\n",
        "}\n",
        "\n",
        "csv_file = '/content/dataset/avec14/labels.csv'\n",
        "root_dir = '/content/dataset/avec14/image/'\n",
        "\n",
        "full_df = pd.read_csv(csv_file)\n",
        "train_val_df = full_df.iloc[:200]\n",
        "test_df = full_df.iloc[-100:]\n",
        "\n",
        "train_df, val_df = train_test_split(train_val_df, test_size=0.2, random_state=42)\n",
        "\n",
        "train_dataset = AVECDataset(\n",
        "    video_dirs=train_df['filename'].tolist(),\n",
        "    labels=train_df['BDI-II'].tolist(),\n",
        "    root_dir=root_dir,\n",
        "    transform=data_transforms['train']\n",
        ")\n",
        "\n",
        "val_dataset = AVECDataset(\n",
        "    video_dirs=val_df['filename'].tolist(),\n",
        "    labels=val_df['BDI-II'].tolist(),\n",
        "    root_dir=root_dir,\n",
        "    transform=data_transforms['val']\n",
        ")\n",
        "\n",
        "test_dataset = AVECDataset(\n",
        "    video_dirs=test_df['filename'].tolist(),\n",
        "    labels=test_df['BDI-II'].tolist(),\n",
        "    root_dir=root_dir,\n",
        "    transform=data_transforms['val']\n",
        ")\n",
        "\n",
        "batch_size = 4\n",
        "train_loader = DataLoader(train_dataset, batch_size=batch_size, shuffle=True, num_workers=1)\n",
        "val_loader = DataLoader(val_dataset, batch_size=batch_size, shuffle=False, num_workers=1)\n",
        "test_loader = DataLoader(test_dataset, batch_size=batch_size, shuffle=False, num_workers=1)\n",
        "\n",
        "class EnhancedVisualStream(nn.Module):\n",
        "    def __init__(self):\n",
        "        super().__init__()\n",
        "\n",
        "        resnet = models.resnet34(pretrained=True)\n",
        "        self.feature_extractor = nn.Sequential(*list(resnet.children())[:-2])\n",
        "\n",
        "        self.lstm = nn.LSTM(\n",
        "            input_size=512,\n",
        "            hidden_size=256,\n",
        "            num_layers=2,\n",
        "            bidirectional=True,\n",
        "            batch_first=True,\n",
        "            dropout=0.2\n",
        "        )\n",
        "\n",
        "        self.attention = nn.Sequential(\n",
        "            nn.Linear(512, 128),\n",
        "            nn.Tanh(),\n",
        "            nn.Linear(128, 1),\n",
        "            nn.Softmax(dim=1)\n",
        "        )\n",
        "\n",
        "        self.mlp = nn.Sequential(\n",
        "            nn.Linear(1024, 512),\n",
        "            nn.BatchNorm1d(512),\n",
        "            nn.ReLU(),\n",
        "            nn.Dropout(0.3),\n",
        "            nn.Linear(512, 256),\n",
        "            nn.ReLU(),\n",
        "            nn.Linear(256, 1)\n",
        "        )\n",
        "\n",
        "    def forward(self, x):\n",
        "        batch_size, seq_len = x.shape[:2]\n",
        "\n",
        "        x = x.view(-1, *x.shape[2:])\n",
        "        features = self.feature_extractor(x)\n",
        "        features = F.adaptive_avg_pool2d(features, (1, 1))\n",
        "        features = features.view(batch_size, seq_len, -1)\n",
        "\n",
        "        lstm_out, _ = self.lstm(features)\n",
        "\n",
        "        attn_weights = self.attention(lstm_out)\n",
        "        attn_applied = torch.sum(attn_weights * lstm_out, dim=1)\n",
        "\n",
        "        mean_pool = torch.mean(lstm_out, dim=1)\n",
        "\n",
        "        combined = torch.cat([attn_applied, mean_pool], dim=1)\n",
        "\n",
        "        output = self.mlp(combined)\n",
        "        return output.squeeze()\n",
        "\n",
        "model = EnhancedVisualStream().to(device)\n",
        "\n",
        "criterion = nn.HuberLoss()\n",
        "optimizer = optim.AdamW(model.parameters(), lr=0.0003, weight_decay=0.01)\n",
        "\n",
        "scheduler = optim.lr_scheduler.ReduceLROnPlateau(\n",
        "    optimizer,\n",
        "    mode='min',\n",
        "    factor=0.5,\n",
        "    patience=5,\n",
        "    verbose=True\n",
        ")\n",
        "\n",
        "def train_model(model, criterion, optimizer, scheduler, num_epochs=80, start_epoch=0):\n",
        "    since = time.time()\n",
        "    best_model_wts = copy.deepcopy(model.state_dict())\n",
        "    best_mae = float('inf')\n",
        "    best_rmse = float('inf')\n",
        "\n",
        "    for epoch in range(start_epoch, num_epochs):\n",
        "        print(f'Epoch {epoch+1}/{num_epochs}')\n",
        "        print('-' * 10)\n",
        "\n",
        "        for phase in ['train', 'val']:\n",
        "            if phase == 'train':\n",
        "                model.train()\n",
        "                dataloader = train_loader\n",
        "            else:\n",
        "                model.eval()\n",
        "                dataloader = val_loader\n",
        "\n",
        "            running_loss = 0.0\n",
        "            running_mae = 0.0\n",
        "            running_rmse = 0.0\n",
        "\n",
        "            for inputs, labels in tqdm(dataloader, desc=phase):\n",
        "                inputs = inputs.to(device)\n",
        "                labels = labels.to(device)\n",
        "\n",
        "                optimizer.zero_grad()\n",
        "\n",
        "                with torch.set_grad_enabled(phase == 'train'):\n",
        "                    outputs = model(inputs)\n",
        "                    loss = criterion(outputs, labels)\n",
        "\n",
        "                    if phase == 'train':\n",
        "                        loss.backward()\n",
        "                        torch.nn.utils.clip_grad_norm_(model.parameters(), 1.0)\n",
        "                        optimizer.step()\n",
        "\n",
        "                running_loss += loss.item() * inputs.size(0)\n",
        "                mae = torch.mean(torch.abs(outputs - labels))\n",
        "                rmse = torch.sqrt(torch.mean((outputs - labels)**2))\n",
        "                running_mae += mae.item() * inputs.size(0)\n",
        "                running_rmse += rmse.item() * inputs.size(0)\n",
        "\n",
        "            epoch_loss = running_loss / len(dataloader.dataset)\n",
        "            epoch_mae = running_mae / len(dataloader.dataset)\n",
        "            epoch_rmse = running_rmse / len(dataloader.dataset)\n",
        "\n",
        "            print(f'{phase} Loss: {epoch_loss:.4f} MAE: {epoch_mae:.4f} RMSE: {epoch_rmse:.4f}')\n",
        "\n",
        "            if phase == 'val':\n",
        "                scheduler.step(epoch_mae)\n",
        "\n",
        "                if (epoch + 1) % 10 == 0:\n",
        "                    checkpoint_path = os.path.join(CHECKPOINT_DIR, f'checkpoint_epoch_{epoch}.pth')\n",
        "                    torch.save({\n",
        "                        'epoch': epoch,\n",
        "                        'model_state_dict': model.state_dict(),\n",
        "                        'optimizer_state_dict': optimizer.state_dict(),\n",
        "                        'loss': epoch_loss,\n",
        "                        'mae': epoch_mae,\n",
        "                        'rmse': epoch_rmse,\n",
        "                    }, checkpoint_path)\n",
        "                    print(f\"Checkpoint saved at epoch {epoch+1}\")\n",
        "\n",
        "                if epoch_mae < best_mae:\n",
        "                    best_mae = epoch_mae\n",
        "                    best_rmse = epoch_rmse\n",
        "                    best_model_wts = copy.deepcopy(model.state_dict())\n",
        "                    best_model_path = os.path.join(MODEL_DIR, 'best_model_mae.pth')\n",
        "                    torch.save(model.state_dict(), best_model_path)\n",
        "                    print(f\"New best model! MAE: {best_mae:.4f}, RMSE: {best_rmse:.4f}\")\n",
        "\n",
        "        print()\n",
        "\n",
        "    time_elapsed = time.time() - since\n",
        "    print(f'Training complete in {time_elapsed // 60:.0f}m {time_elapsed % 60:.0f}s')\n",
        "    print(f'Best val MAE: {best_mae:.4f}, Best val RMSE: {best_rmse:.4f}')\n",
        "\n",
        "    model.load_state_dict(best_model_wts)\n",
        "    return model\n",
        "\n",
        "torch.cuda.empty_cache()\n",
        "\n",
        "checkpoint_path = os.path.join(CHECKPOINT_DIR, 'checkpoint_epoch_159.pth')\n",
        "\n",
        "if os.path.exists(checkpoint_path):\n",
        "    print(f\"Loading checkpoint from {checkpoint_path}\")\n",
        "    checkpoint = torch.load(checkpoint_path, map_location=device)\n",
        "    model.load_state_dict(checkpoint['model_state_dict'])\n",
        "    optimizer.load_state_dict(checkpoint['optimizer_state_dict'])\n",
        "    start_epoch = checkpoint['epoch'] + 1\n",
        "    print(f\"Resuming training from epoch {start_epoch}\")\n",
        "else:\n",
        "    print(f\"No checkpoint found at {checkpoint_path}. Starting from scratch.\")\n",
        "    start_epoch = 0\n",
        "model = train_model(model, criterion, optimizer, scheduler, num_epochs=200, start_epoch=start_epoch)\n",
        "\n",
        "final_model_path = os.path.join(MODEL_DIR, 'final_model.pth')\n",
        "torch.save(model.state_dict(), final_model_path)\n",
        "\n",
        "print(\"\\nEnhanced Model Workflow:\")\n",
        "print(\"1. Input: Batch of sequences [B, 64, 3, 224, 224]\")\n",
        "print(\"2. ResNet34: Extract frame features [B×64, 512, 1, 1]\")\n",
        "print(\"3. BiLSTM: Process temporal sequence [B, 64, 512]\")\n",
        "print(\"4. Attention: Weight important frames [B, 64, 1] → [B, 512]\")\n",
        "print(\"5. Mean Pooling: Global temporal context [B, 512]\")\n",
        "print(\"6. Concatenate: Attention + Mean features [B, 1024]\")\n",
        "print(\"7. MLP: Final prediction [B, 1]\")\n",
        "\n",
        "print(\"\\nEnhanced Parameters:\")\n",
        "print(f\"- Backbone: ResNet34 (vs original ResNet18)\")\n",
        "print(f\"- LSTM: 2 layers, 256 hidden (512 bidirectional)\")\n",
        "print(f\"- Attention: 128-unit hidden layer\")\n",
        "print(f\"- MLP: 1024→512→256→1 with BatchNorm\")\n",
        "print(f\"- Loss: Huber (δ=1.0) + AdamW optimizer\")\n",
        "print(f\"- Batch size: {batch_size} (adjust if memory limited)\")\n",
        "print(f\"- Initial LR: 0.0003 with ReduceLROnPlateau\")"
      ],
      "metadata": {
        "colab": {
          "base_uri": "https://localhost:8080/"
        },
        "id": "aFSIgPK_kwlZ",
        "outputId": "218953f1-8f4d-49b6-c29a-475e507a0a22"
      },
      "execution_count": null,
      "outputs": [
        {
          "output_type": "stream",
          "name": "stderr",
          "text": [
            "/tmp/ipython-input-12-864226685.py:24: FutureWarning: `torch.cuda.amp.GradScaler(args...)` is deprecated. Please use `torch.amp.GradScaler('cuda', args...)` instead.\n",
            "  scaler = torch.cuda.amp.GradScaler()\n"
          ]
        },
        {
          "output_type": "stream",
          "name": "stdout",
          "text": [
            "Using device: cuda:0\n"
          ]
        },
        {
          "output_type": "stream",
          "name": "stderr",
          "text": [
            "/usr/local/lib/python3.11/dist-packages/torchvision/models/_utils.py:208: UserWarning: The parameter 'pretrained' is deprecated since 0.13 and may be removed in the future, please use 'weights' instead.\n",
            "  warnings.warn(\n",
            "/usr/local/lib/python3.11/dist-packages/torchvision/models/_utils.py:223: UserWarning: Arguments other than a weight enum or `None` for 'weights' are deprecated since 0.13 and may be removed in the future. The current behavior is equivalent to passing `weights=ResNet34_Weights.IMAGENET1K_V1`. You can also use `weights=ResNet34_Weights.DEFAULT` to get the most up-to-date weights.\n",
            "  warnings.warn(msg)\n",
            "Downloading: \"https://download.pytorch.org/models/resnet34-b627a593.pth\" to /root/.cache/torch/hub/checkpoints/resnet34-b627a593.pth\n",
            "100%|██████████| 83.3M/83.3M [00:00<00:00, 122MB/s]\n",
            "/usr/local/lib/python3.11/dist-packages/torch/optim/lr_scheduler.py:62: UserWarning: The verbose parameter is deprecated. Please use get_last_lr() to access the learning rate.\n",
            "  warnings.warn(\n"
          ]
        },
        {
          "output_type": "stream",
          "name": "stdout",
          "text": [
            "Loading checkpoint from /content/drive/MyDrive/visual_stream/checkpoints/checkpoint_epoch_89.pth\n",
            "Resuming training from epoch 90\n",
            "Epoch 91/200\n",
            "----------\n"
          ]
        },
        {
          "output_type": "stream",
          "name": "stderr",
          "text": [
            "train: 100%|██████████| 40/40 [01:02<00:00,  1.57s/it]\n"
          ]
        },
        {
          "output_type": "stream",
          "name": "stdout",
          "text": [
            "train Loss: 6.5052 MAE: 6.9878 RMSE: 8.5842\n"
          ]
        },
        {
          "output_type": "stream",
          "name": "stderr",
          "text": [
            "val: 100%|██████████| 10/10 [00:10<00:00,  1.09s/it]\n"
          ]
        },
        {
          "output_type": "stream",
          "name": "stdout",
          "text": [
            "val Loss: 7.3271 MAE: 7.7838 RMSE: 9.8917\n",
            "New best model! MAE: 7.7838, RMSE: 9.8917\n",
            "\n",
            "Epoch 92/200\n",
            "----------\n"
          ]
        },
        {
          "output_type": "stream",
          "name": "stderr",
          "text": [
            "train: 100%|██████████| 40/40 [00:53<00:00,  1.35s/it]\n"
          ]
        },
        {
          "output_type": "stream",
          "name": "stdout",
          "text": [
            "train Loss: 7.1792 MAE: 7.6603 RMSE: 9.6638\n"
          ]
        },
        {
          "output_type": "stream",
          "name": "stderr",
          "text": [
            "val: 100%|██████████| 10/10 [00:09<00:00,  1.01it/s]\n"
          ]
        },
        {
          "output_type": "stream",
          "name": "stdout",
          "text": [
            "val Loss: 7.9182 MAE: 8.4155 RMSE: 10.2904\n",
            "\n",
            "Epoch 93/200\n",
            "----------\n"
          ]
        },
        {
          "output_type": "stream",
          "name": "stderr",
          "text": [
            "train: 100%|██████████| 40/40 [00:52<00:00,  1.31s/it]\n"
          ]
        },
        {
          "output_type": "stream",
          "name": "stdout",
          "text": [
            "train Loss: 6.6630 MAE: 7.1454 RMSE: 8.7387\n"
          ]
        },
        {
          "output_type": "stream",
          "name": "stderr",
          "text": [
            "val: 100%|██████████| 10/10 [00:09<00:00,  1.03it/s]\n"
          ]
        },
        {
          "output_type": "stream",
          "name": "stdout",
          "text": [
            "val Loss: 8.5455 MAE: 9.0325 RMSE: 11.3609\n",
            "\n",
            "Epoch 94/200\n",
            "----------\n"
          ]
        },
        {
          "output_type": "stream",
          "name": "stderr",
          "text": [
            "train: 100%|██████████| 40/40 [00:54<00:00,  1.35s/it]\n"
          ]
        },
        {
          "output_type": "stream",
          "name": "stdout",
          "text": [
            "train Loss: 7.5208 MAE: 8.0121 RMSE: 9.8474\n"
          ]
        },
        {
          "output_type": "stream",
          "name": "stderr",
          "text": [
            "val: 100%|██████████| 10/10 [00:10<00:00,  1.07s/it]\n"
          ]
        },
        {
          "output_type": "stream",
          "name": "stdout",
          "text": [
            "val Loss: 7.9603 MAE: 8.4283 RMSE: 10.3474\n",
            "\n",
            "Epoch 95/200\n",
            "----------\n"
          ]
        },
        {
          "output_type": "stream",
          "name": "stderr",
          "text": [
            "train: 100%|██████████| 40/40 [00:53<00:00,  1.33s/it]\n"
          ]
        },
        {
          "output_type": "stream",
          "name": "stdout",
          "text": [
            "train Loss: 6.9862 MAE: 7.4747 RMSE: 9.0657\n"
          ]
        },
        {
          "output_type": "stream",
          "name": "stderr",
          "text": [
            "val: 100%|██████████| 10/10 [00:10<00:00,  1.00s/it]\n"
          ]
        },
        {
          "output_type": "stream",
          "name": "stdout",
          "text": [
            "val Loss: 8.4580 MAE: 8.9260 RMSE: 10.9623\n",
            "\n",
            "Epoch 96/200\n",
            "----------\n"
          ]
        },
        {
          "output_type": "stream",
          "name": "stderr",
          "text": [
            "train: 100%|██████████| 40/40 [00:53<00:00,  1.34s/it]\n"
          ]
        },
        {
          "output_type": "stream",
          "name": "stdout",
          "text": [
            "train Loss: 6.3915 MAE: 6.8689 RMSE: 8.4954\n"
          ]
        },
        {
          "output_type": "stream",
          "name": "stderr",
          "text": [
            "val: 100%|██████████| 10/10 [00:10<00:00,  1.04s/it]\n"
          ]
        },
        {
          "output_type": "stream",
          "name": "stdout",
          "text": [
            "val Loss: 8.5481 MAE: 9.0341 RMSE: 11.2388\n",
            "\n",
            "Epoch 97/200\n",
            "----------\n"
          ]
        },
        {
          "output_type": "stream",
          "name": "stderr",
          "text": [
            "train: 100%|██████████| 40/40 [00:53<00:00,  1.34s/it]\n"
          ]
        },
        {
          "output_type": "stream",
          "name": "stdout",
          "text": [
            "train Loss: 6.5307 MAE: 7.0166 RMSE: 8.4336\n"
          ]
        },
        {
          "output_type": "stream",
          "name": "stderr",
          "text": [
            "val: 100%|██████████| 10/10 [00:10<00:00,  1.06s/it]\n"
          ]
        },
        {
          "output_type": "stream",
          "name": "stdout",
          "text": [
            "val Loss: 7.8621 MAE: 8.3448 RMSE: 10.1479\n",
            "\n",
            "Epoch 98/200\n",
            "----------\n"
          ]
        },
        {
          "output_type": "stream",
          "name": "stderr",
          "text": [
            "train: 100%|██████████| 40/40 [00:53<00:00,  1.34s/it]\n"
          ]
        },
        {
          "output_type": "stream",
          "name": "stdout",
          "text": [
            "train Loss: 6.8998 MAE: 7.3774 RMSE: 9.1758\n"
          ]
        },
        {
          "output_type": "stream",
          "name": "stderr",
          "text": [
            "val: 100%|██████████| 10/10 [00:09<00:00,  1.06it/s]\n"
          ]
        },
        {
          "output_type": "stream",
          "name": "stdout",
          "text": [
            "val Loss: 8.4303 MAE: 8.9197 RMSE: 11.0155\n",
            "\n",
            "Epoch 99/200\n",
            "----------\n"
          ]
        },
        {
          "output_type": "stream",
          "name": "stderr",
          "text": [
            "train: 100%|██████████| 40/40 [00:54<00:00,  1.35s/it]\n"
          ]
        },
        {
          "output_type": "stream",
          "name": "stdout",
          "text": [
            "train Loss: 6.8313 MAE: 7.3174 RMSE: 8.8945\n"
          ]
        },
        {
          "output_type": "stream",
          "name": "stderr",
          "text": [
            "val: 100%|██████████| 10/10 [00:10<00:00,  1.06s/it]\n"
          ]
        },
        {
          "output_type": "stream",
          "name": "stdout",
          "text": [
            "val Loss: 7.6680 MAE: 8.1399 RMSE: 10.0750\n",
            "\n",
            "Epoch 100/200\n",
            "----------\n"
          ]
        },
        {
          "output_type": "stream",
          "name": "stderr",
          "text": [
            "train: 100%|██████████| 40/40 [00:53<00:00,  1.34s/it]\n"
          ]
        },
        {
          "output_type": "stream",
          "name": "stdout",
          "text": [
            "train Loss: 7.0886 MAE: 7.5647 RMSE: 9.4089\n"
          ]
        },
        {
          "output_type": "stream",
          "name": "stderr",
          "text": [
            "val: 100%|██████████| 10/10 [00:10<00:00,  1.07s/it]\n"
          ]
        },
        {
          "output_type": "stream",
          "name": "stdout",
          "text": [
            "val Loss: 7.6610 MAE: 8.1394 RMSE: 9.8156\n",
            "Checkpoint saved at epoch 100\n",
            "\n",
            "Epoch 101/200\n",
            "----------\n"
          ]
        },
        {
          "output_type": "stream",
          "name": "stderr",
          "text": [
            "train: 100%|██████████| 40/40 [00:54<00:00,  1.36s/it]\n"
          ]
        },
        {
          "output_type": "stream",
          "name": "stdout",
          "text": [
            "train Loss: 6.8970 MAE: 7.3864 RMSE: 8.6761\n"
          ]
        },
        {
          "output_type": "stream",
          "name": "stderr",
          "text": [
            "val: 100%|██████████| 10/10 [00:10<00:00,  1.03s/it]\n"
          ]
        },
        {
          "output_type": "stream",
          "name": "stdout",
          "text": [
            "val Loss: 7.6831 MAE: 8.1615 RMSE: 10.0997\n",
            "\n",
            "Epoch 102/200\n",
            "----------\n"
          ]
        },
        {
          "output_type": "stream",
          "name": "stderr",
          "text": [
            "train: 100%|██████████| 40/40 [00:53<00:00,  1.34s/it]\n"
          ]
        },
        {
          "output_type": "stream",
          "name": "stdout",
          "text": [
            "train Loss: 7.3089 MAE: 7.7860 RMSE: 9.7381\n"
          ]
        },
        {
          "output_type": "stream",
          "name": "stderr",
          "text": [
            "val: 100%|██████████| 10/10 [00:10<00:00,  1.04s/it]\n"
          ]
        },
        {
          "output_type": "stream",
          "name": "stdout",
          "text": [
            "val Loss: 8.4238 MAE: 8.8887 RMSE: 11.0473\n",
            "\n",
            "Epoch 103/200\n",
            "----------\n"
          ]
        },
        {
          "output_type": "stream",
          "name": "stderr",
          "text": [
            "train: 100%|██████████| 40/40 [00:54<00:00,  1.35s/it]\n"
          ]
        },
        {
          "output_type": "stream",
          "name": "stdout",
          "text": [
            "train Loss: 7.2913 MAE: 7.7784 RMSE: 9.3546\n"
          ]
        },
        {
          "output_type": "stream",
          "name": "stderr",
          "text": [
            "val: 100%|██████████| 10/10 [00:10<00:00,  1.06s/it]\n"
          ]
        },
        {
          "output_type": "stream",
          "name": "stdout",
          "text": [
            "val Loss: 7.9542 MAE: 8.4334 RMSE: 10.6455\n",
            "\n",
            "Epoch 104/200\n",
            "----------\n"
          ]
        },
        {
          "output_type": "stream",
          "name": "stderr",
          "text": [
            "train: 100%|██████████| 40/40 [00:53<00:00,  1.34s/it]\n"
          ]
        },
        {
          "output_type": "stream",
          "name": "stdout",
          "text": [
            "train Loss: 6.7912 MAE: 7.2735 RMSE: 8.9218\n"
          ]
        },
        {
          "output_type": "stream",
          "name": "stderr",
          "text": [
            "val: 100%|██████████| 10/10 [00:09<00:00,  1.03it/s]\n"
          ]
        },
        {
          "output_type": "stream",
          "name": "stdout",
          "text": [
            "val Loss: 7.9796 MAE: 8.4641 RMSE: 10.4022\n",
            "\n",
            "Epoch 105/200\n",
            "----------\n"
          ]
        },
        {
          "output_type": "stream",
          "name": "stderr",
          "text": [
            "train: 100%|██████████| 40/40 [00:53<00:00,  1.35s/it]\n"
          ]
        },
        {
          "output_type": "stream",
          "name": "stdout",
          "text": [
            "train Loss: 6.5789 MAE: 7.0615 RMSE: 8.7406\n"
          ]
        },
        {
          "output_type": "stream",
          "name": "stderr",
          "text": [
            "val: 100%|██████████| 10/10 [00:10<00:00,  1.03s/it]\n"
          ]
        },
        {
          "output_type": "stream",
          "name": "stdout",
          "text": [
            "val Loss: 7.8111 MAE: 8.2962 RMSE: 10.3310\n",
            "\n",
            "Epoch 106/200\n",
            "----------\n"
          ]
        },
        {
          "output_type": "stream",
          "name": "stderr",
          "text": [
            "train: 100%|██████████| 40/40 [00:53<00:00,  1.33s/it]\n"
          ]
        },
        {
          "output_type": "stream",
          "name": "stdout",
          "text": [
            "train Loss: 6.6634 MAE: 7.1533 RMSE: 8.7741\n"
          ]
        },
        {
          "output_type": "stream",
          "name": "stderr",
          "text": [
            "val: 100%|██████████| 10/10 [00:10<00:00,  1.05s/it]\n"
          ]
        },
        {
          "output_type": "stream",
          "name": "stdout",
          "text": [
            "val Loss: 8.7114 MAE: 9.2010 RMSE: 11.2921\n",
            "\n",
            "Epoch 107/200\n",
            "----------\n"
          ]
        },
        {
          "output_type": "stream",
          "name": "stderr",
          "text": [
            "train: 100%|██████████| 40/40 [00:53<00:00,  1.34s/it]\n"
          ]
        },
        {
          "output_type": "stream",
          "name": "stdout",
          "text": [
            "train Loss: 6.2711 MAE: 6.7523 RMSE: 8.3476\n"
          ]
        },
        {
          "output_type": "stream",
          "name": "stderr",
          "text": [
            "val: 100%|██████████| 10/10 [00:08<00:00,  1.14it/s]\n"
          ]
        },
        {
          "output_type": "stream",
          "name": "stdout",
          "text": [
            "val Loss: 7.8875 MAE: 8.3649 RMSE: 10.6613\n",
            "\n",
            "Epoch 108/200\n",
            "----------\n"
          ]
        },
        {
          "output_type": "stream",
          "name": "stderr",
          "text": [
            "train: 100%|██████████| 40/40 [00:53<00:00,  1.34s/it]\n"
          ]
        },
        {
          "output_type": "stream",
          "name": "stdout",
          "text": [
            "train Loss: 5.5764 MAE: 6.0526 RMSE: 7.4754\n"
          ]
        },
        {
          "output_type": "stream",
          "name": "stderr",
          "text": [
            "val: 100%|██████████| 10/10 [00:10<00:00,  1.06s/it]\n"
          ]
        },
        {
          "output_type": "stream",
          "name": "stdout",
          "text": [
            "val Loss: 8.2722 MAE: 8.7578 RMSE: 10.6945\n",
            "\n",
            "Epoch 109/200\n",
            "----------\n"
          ]
        },
        {
          "output_type": "stream",
          "name": "stderr",
          "text": [
            "train: 100%|██████████| 40/40 [00:53<00:00,  1.34s/it]\n"
          ]
        },
        {
          "output_type": "stream",
          "name": "stdout",
          "text": [
            "train Loss: 7.2579 MAE: 7.7356 RMSE: 9.6314\n"
          ]
        },
        {
          "output_type": "stream",
          "name": "stderr",
          "text": [
            "val: 100%|██████████| 10/10 [00:09<00:00,  1.03it/s]\n"
          ]
        },
        {
          "output_type": "stream",
          "name": "stdout",
          "text": [
            "val Loss: 7.6827 MAE: 8.1439 RMSE: 9.9223\n",
            "\n",
            "Epoch 110/200\n",
            "----------\n"
          ]
        },
        {
          "output_type": "stream",
          "name": "stderr",
          "text": [
            "train: 100%|██████████| 40/40 [00:54<00:00,  1.35s/it]\n"
          ]
        },
        {
          "output_type": "stream",
          "name": "stdout",
          "text": [
            "train Loss: 6.7556 MAE: 7.2410 RMSE: 8.6810\n"
          ]
        },
        {
          "output_type": "stream",
          "name": "stderr",
          "text": [
            "val: 100%|██████████| 10/10 [00:10<00:00,  1.06s/it]\n"
          ]
        },
        {
          "output_type": "stream",
          "name": "stdout",
          "text": [
            "val Loss: 9.0603 MAE: 9.5471 RMSE: 11.5559\n",
            "Checkpoint saved at epoch 110\n",
            "\n",
            "Epoch 111/200\n",
            "----------\n"
          ]
        },
        {
          "output_type": "stream",
          "name": "stderr",
          "text": [
            "train: 100%|██████████| 40/40 [00:53<00:00,  1.35s/it]\n"
          ]
        },
        {
          "output_type": "stream",
          "name": "stdout",
          "text": [
            "train Loss: 6.7395 MAE: 7.2265 RMSE: 8.9751\n"
          ]
        },
        {
          "output_type": "stream",
          "name": "stderr",
          "text": [
            "val: 100%|██████████| 10/10 [00:10<00:00,  1.06s/it]\n"
          ]
        },
        {
          "output_type": "stream",
          "name": "stdout",
          "text": [
            "val Loss: 7.5034 MAE: 7.9801 RMSE: 9.7962\n",
            "\n",
            "Epoch 112/200\n",
            "----------\n"
          ]
        },
        {
          "output_type": "stream",
          "name": "stderr",
          "text": [
            "train: 100%|██████████| 40/40 [00:53<00:00,  1.33s/it]\n"
          ]
        },
        {
          "output_type": "stream",
          "name": "stdout",
          "text": [
            "train Loss: 6.5168 MAE: 7.0046 RMSE: 8.5662\n"
          ]
        },
        {
          "output_type": "stream",
          "name": "stderr",
          "text": [
            "val: 100%|██████████| 10/10 [00:09<00:00,  1.06it/s]\n"
          ]
        },
        {
          "output_type": "stream",
          "name": "stdout",
          "text": [
            "val Loss: 8.8974 MAE: 9.3760 RMSE: 11.4205\n",
            "\n",
            "Epoch 113/200\n",
            "----------\n"
          ]
        },
        {
          "output_type": "stream",
          "name": "stderr",
          "text": [
            "train: 100%|██████████| 40/40 [00:54<00:00,  1.36s/it]\n"
          ]
        },
        {
          "output_type": "stream",
          "name": "stdout",
          "text": [
            "train Loss: 7.0783 MAE: 7.5588 RMSE: 9.3474\n"
          ]
        },
        {
          "output_type": "stream",
          "name": "stderr",
          "text": [
            "val: 100%|██████████| 10/10 [00:09<00:00,  1.04it/s]\n"
          ]
        },
        {
          "output_type": "stream",
          "name": "stdout",
          "text": [
            "val Loss: 7.9884 MAE: 8.4707 RMSE: 10.3513\n",
            "\n",
            "Epoch 114/200\n",
            "----------\n"
          ]
        },
        {
          "output_type": "stream",
          "name": "stderr",
          "text": [
            "train: 100%|██████████| 40/40 [00:53<00:00,  1.34s/it]\n"
          ]
        },
        {
          "output_type": "stream",
          "name": "stdout",
          "text": [
            "train Loss: 7.4499 MAE: 7.9272 RMSE: 9.6391\n"
          ]
        },
        {
          "output_type": "stream",
          "name": "stderr",
          "text": [
            "val: 100%|██████████| 10/10 [00:10<00:00,  1.02s/it]\n"
          ]
        },
        {
          "output_type": "stream",
          "name": "stdout",
          "text": [
            "val Loss: 7.8465 MAE: 8.3241 RMSE: 10.3430\n",
            "\n",
            "Epoch 115/200\n",
            "----------\n"
          ]
        },
        {
          "output_type": "stream",
          "name": "stderr",
          "text": [
            "train: 100%|██████████| 40/40 [00:53<00:00,  1.34s/it]\n"
          ]
        },
        {
          "output_type": "stream",
          "name": "stdout",
          "text": [
            "train Loss: 6.7652 MAE: 7.2515 RMSE: 8.8707\n"
          ]
        },
        {
          "output_type": "stream",
          "name": "stderr",
          "text": [
            "val: 100%|██████████| 10/10 [00:10<00:00,  1.02s/it]\n"
          ]
        },
        {
          "output_type": "stream",
          "name": "stdout",
          "text": [
            "val Loss: 8.2196 MAE: 8.6988 RMSE: 10.5128\n",
            "\n",
            "Epoch 116/200\n",
            "----------\n"
          ]
        },
        {
          "output_type": "stream",
          "name": "stderr",
          "text": [
            "train: 100%|██████████| 40/40 [00:53<00:00,  1.35s/it]\n"
          ]
        },
        {
          "output_type": "stream",
          "name": "stdout",
          "text": [
            "train Loss: 7.2019 MAE: 7.6876 RMSE: 9.4732\n"
          ]
        },
        {
          "output_type": "stream",
          "name": "stderr",
          "text": [
            "val: 100%|██████████| 10/10 [00:09<00:00,  1.03it/s]\n"
          ]
        },
        {
          "output_type": "stream",
          "name": "stdout",
          "text": [
            "val Loss: 7.5452 MAE: 8.0113 RMSE: 9.9681\n",
            "\n",
            "Epoch 117/200\n",
            "----------\n"
          ]
        },
        {
          "output_type": "stream",
          "name": "stderr",
          "text": [
            "train: 100%|██████████| 40/40 [00:53<00:00,  1.33s/it]\n"
          ]
        },
        {
          "output_type": "stream",
          "name": "stdout",
          "text": [
            "train Loss: 6.0923 MAE: 6.5652 RMSE: 8.2765\n"
          ]
        },
        {
          "output_type": "stream",
          "name": "stderr",
          "text": [
            "val: 100%|██████████| 10/10 [00:08<00:00,  1.14it/s]\n"
          ]
        },
        {
          "output_type": "stream",
          "name": "stdout",
          "text": [
            "val Loss: 7.4159 MAE: 7.8915 RMSE: 10.0033\n",
            "\n",
            "Epoch 118/200\n",
            "----------\n"
          ]
        },
        {
          "output_type": "stream",
          "name": "stderr",
          "text": [
            "train: 100%|██████████| 40/40 [00:54<00:00,  1.35s/it]\n"
          ]
        },
        {
          "output_type": "stream",
          "name": "stdout",
          "text": [
            "train Loss: 6.5156 MAE: 6.9979 RMSE: 8.4523\n"
          ]
        },
        {
          "output_type": "stream",
          "name": "stderr",
          "text": [
            "val: 100%|██████████| 10/10 [00:09<00:00,  1.03it/s]\n"
          ]
        },
        {
          "output_type": "stream",
          "name": "stdout",
          "text": [
            "val Loss: 8.5142 MAE: 8.9865 RMSE: 11.1502\n",
            "\n",
            "Epoch 119/200\n",
            "----------\n"
          ]
        },
        {
          "output_type": "stream",
          "name": "stderr",
          "text": [
            "train: 100%|██████████| 40/40 [00:53<00:00,  1.34s/it]\n"
          ]
        },
        {
          "output_type": "stream",
          "name": "stdout",
          "text": [
            "train Loss: 7.0142 MAE: 7.5015 RMSE: 9.1284\n"
          ]
        },
        {
          "output_type": "stream",
          "name": "stderr",
          "text": [
            "val: 100%|██████████| 10/10 [00:09<00:00,  1.10it/s]\n"
          ]
        },
        {
          "output_type": "stream",
          "name": "stdout",
          "text": [
            "val Loss: 7.7217 MAE: 8.2014 RMSE: 10.1062\n",
            "\n",
            "Epoch 120/200\n",
            "----------\n"
          ]
        },
        {
          "output_type": "stream",
          "name": "stderr",
          "text": [
            "train: 100%|██████████| 40/40 [00:53<00:00,  1.35s/it]\n"
          ]
        },
        {
          "output_type": "stream",
          "name": "stdout",
          "text": [
            "train Loss: 6.3845 MAE: 6.8697 RMSE: 8.3206\n"
          ]
        },
        {
          "output_type": "stream",
          "name": "stderr",
          "text": [
            "val: 100%|██████████| 10/10 [00:10<00:00,  1.04s/it]\n"
          ]
        },
        {
          "output_type": "stream",
          "name": "stdout",
          "text": [
            "val Loss: 7.0893 MAE: 7.5430 RMSE: 9.9925\n",
            "Checkpoint saved at epoch 120\n",
            "New best model! MAE: 7.5430, RMSE: 9.9925\n",
            "\n",
            "Epoch 121/200\n",
            "----------\n"
          ]
        },
        {
          "output_type": "stream",
          "name": "stderr",
          "text": [
            "train: 100%|██████████| 40/40 [00:54<00:00,  1.36s/it]\n"
          ]
        },
        {
          "output_type": "stream",
          "name": "stdout",
          "text": [
            "train Loss: 6.7641 MAE: 7.2486 RMSE: 8.8120\n"
          ]
        },
        {
          "output_type": "stream",
          "name": "stderr",
          "text": [
            "val: 100%|██████████| 10/10 [00:10<00:00,  1.05s/it]\n"
          ]
        },
        {
          "output_type": "stream",
          "name": "stdout",
          "text": [
            "val Loss: 7.6333 MAE: 8.1109 RMSE: 9.8876\n",
            "\n",
            "Epoch 122/200\n",
            "----------\n"
          ]
        },
        {
          "output_type": "stream",
          "name": "stderr",
          "text": [
            "train: 100%|██████████| 40/40 [00:53<00:00,  1.34s/it]\n"
          ]
        },
        {
          "output_type": "stream",
          "name": "stdout",
          "text": [
            "train Loss: 6.9424 MAE: 7.4271 RMSE: 9.0760\n"
          ]
        },
        {
          "output_type": "stream",
          "name": "stderr",
          "text": [
            "val: 100%|██████████| 10/10 [00:09<00:00,  1.07it/s]\n"
          ]
        },
        {
          "output_type": "stream",
          "name": "stdout",
          "text": [
            "val Loss: 7.9061 MAE: 8.3802 RMSE: 10.1839\n",
            "\n",
            "Epoch 123/200\n",
            "----------\n"
          ]
        },
        {
          "output_type": "stream",
          "name": "stderr",
          "text": [
            "train: 100%|██████████| 40/40 [00:53<00:00,  1.35s/it]\n"
          ]
        },
        {
          "output_type": "stream",
          "name": "stdout",
          "text": [
            "train Loss: 7.4216 MAE: 7.9143 RMSE: 9.4841\n"
          ]
        },
        {
          "output_type": "stream",
          "name": "stderr",
          "text": [
            "val: 100%|██████████| 10/10 [00:10<00:00,  1.06s/it]\n"
          ]
        },
        {
          "output_type": "stream",
          "name": "stdout",
          "text": [
            "val Loss: 8.0254 MAE: 8.4899 RMSE: 10.7804\n",
            "\n",
            "Epoch 124/200\n",
            "----------\n"
          ]
        },
        {
          "output_type": "stream",
          "name": "stderr",
          "text": [
            "train: 100%|██████████| 40/40 [00:53<00:00,  1.34s/it]\n"
          ]
        },
        {
          "output_type": "stream",
          "name": "stdout",
          "text": [
            "train Loss: 7.4680 MAE: 7.9532 RMSE: 9.8405\n"
          ]
        },
        {
          "output_type": "stream",
          "name": "stderr",
          "text": [
            "val: 100%|██████████| 10/10 [00:09<00:00,  1.02it/s]\n"
          ]
        },
        {
          "output_type": "stream",
          "name": "stdout",
          "text": [
            "val Loss: 8.1272 MAE: 8.6115 RMSE: 10.7157\n",
            "\n",
            "Epoch 125/200\n",
            "----------\n"
          ]
        },
        {
          "output_type": "stream",
          "name": "stderr",
          "text": [
            "train: 100%|██████████| 40/40 [00:53<00:00,  1.34s/it]\n"
          ]
        },
        {
          "output_type": "stream",
          "name": "stdout",
          "text": [
            "train Loss: 7.3925 MAE: 7.8712 RMSE: 9.5448\n"
          ]
        },
        {
          "output_type": "stream",
          "name": "stderr",
          "text": [
            "val: 100%|██████████| 10/10 [00:09<00:00,  1.05it/s]\n"
          ]
        },
        {
          "output_type": "stream",
          "name": "stdout",
          "text": [
            "val Loss: 8.6631 MAE: 9.1546 RMSE: 11.3011\n",
            "\n",
            "Epoch 126/200\n",
            "----------\n"
          ]
        },
        {
          "output_type": "stream",
          "name": "stderr",
          "text": [
            "train: 100%|██████████| 40/40 [00:53<00:00,  1.33s/it]\n"
          ]
        },
        {
          "output_type": "stream",
          "name": "stdout",
          "text": [
            "train Loss: 7.0729 MAE: 7.5500 RMSE: 9.1885\n"
          ]
        },
        {
          "output_type": "stream",
          "name": "stderr",
          "text": [
            "val: 100%|██████████| 10/10 [00:10<00:00,  1.03s/it]\n"
          ]
        },
        {
          "output_type": "stream",
          "name": "stdout",
          "text": [
            "val Loss: 8.6321 MAE: 9.1230 RMSE: 11.5268\n",
            "\n",
            "Epoch 127/200\n",
            "----------\n"
          ]
        },
        {
          "output_type": "stream",
          "name": "stderr",
          "text": [
            "train: 100%|██████████| 40/40 [00:53<00:00,  1.33s/it]\n"
          ]
        },
        {
          "output_type": "stream",
          "name": "stdout",
          "text": [
            "train Loss: 6.4795 MAE: 6.9596 RMSE: 8.6350\n"
          ]
        },
        {
          "output_type": "stream",
          "name": "stderr",
          "text": [
            "val: 100%|██████████| 10/10 [00:09<00:00,  1.08it/s]\n"
          ]
        },
        {
          "output_type": "stream",
          "name": "stdout",
          "text": [
            "val Loss: 8.0714 MAE: 8.5503 RMSE: 10.4264\n",
            "\n",
            "Epoch 128/200\n",
            "----------\n"
          ]
        },
        {
          "output_type": "stream",
          "name": "stderr",
          "text": [
            "train: 100%|██████████| 40/40 [00:53<00:00,  1.34s/it]\n"
          ]
        },
        {
          "output_type": "stream",
          "name": "stdout",
          "text": [
            "train Loss: 6.8272 MAE: 7.3170 RMSE: 8.9092\n"
          ]
        },
        {
          "output_type": "stream",
          "name": "stderr",
          "text": [
            "val: 100%|██████████| 10/10 [00:10<00:00,  1.05s/it]\n"
          ]
        },
        {
          "output_type": "stream",
          "name": "stdout",
          "text": [
            "val Loss: 7.9519 MAE: 8.4261 RMSE: 10.3163\n",
            "\n",
            "Epoch 129/200\n",
            "----------\n"
          ]
        },
        {
          "output_type": "stream",
          "name": "stderr",
          "text": [
            "train: 100%|██████████| 40/40 [00:53<00:00,  1.34s/it]\n"
          ]
        },
        {
          "output_type": "stream",
          "name": "stdout",
          "text": [
            "train Loss: 6.4278 MAE: 6.9082 RMSE: 8.5589\n"
          ]
        },
        {
          "output_type": "stream",
          "name": "stderr",
          "text": [
            "val: 100%|██████████| 10/10 [00:08<00:00,  1.18it/s]\n"
          ]
        },
        {
          "output_type": "stream",
          "name": "stdout",
          "text": [
            "val Loss: 8.8038 MAE: 9.2883 RMSE: 11.4415\n",
            "\n",
            "Epoch 130/200\n",
            "----------\n"
          ]
        },
        {
          "output_type": "stream",
          "name": "stderr",
          "text": [
            "train: 100%|██████████| 40/40 [00:53<00:00,  1.35s/it]\n"
          ]
        },
        {
          "output_type": "stream",
          "name": "stdout",
          "text": [
            "train Loss: 6.2953 MAE: 6.7735 RMSE: 8.3575\n"
          ]
        },
        {
          "output_type": "stream",
          "name": "stderr",
          "text": [
            "val: 100%|██████████| 10/10 [00:10<00:00,  1.05s/it]\n"
          ]
        },
        {
          "output_type": "stream",
          "name": "stdout",
          "text": [
            "val Loss: 7.9920 MAE: 8.4503 RMSE: 10.2296\n",
            "Checkpoint saved at epoch 130\n",
            "\n",
            "Epoch 131/200\n",
            "----------\n"
          ]
        },
        {
          "output_type": "stream",
          "name": "stderr",
          "text": [
            "train: 100%|██████████| 40/40 [00:53<00:00,  1.34s/it]\n"
          ]
        },
        {
          "output_type": "stream",
          "name": "stdout",
          "text": [
            "train Loss: 6.2281 MAE: 6.7001 RMSE: 8.2127\n"
          ]
        },
        {
          "output_type": "stream",
          "name": "stderr",
          "text": [
            "val: 100%|██████████| 10/10 [00:09<00:00,  1.02it/s]\n"
          ]
        },
        {
          "output_type": "stream",
          "name": "stdout",
          "text": [
            "val Loss: 8.7028 MAE: 9.1880 RMSE: 11.2721\n",
            "\n",
            "Epoch 132/200\n",
            "----------\n"
          ]
        },
        {
          "output_type": "stream",
          "name": "stderr",
          "text": [
            "train: 100%|██████████| 40/40 [00:53<00:00,  1.33s/it]\n"
          ]
        },
        {
          "output_type": "stream",
          "name": "stdout",
          "text": [
            "train Loss: 6.6331 MAE: 7.1221 RMSE: 8.4528\n"
          ]
        },
        {
          "output_type": "stream",
          "name": "stderr",
          "text": [
            "val: 100%|██████████| 10/10 [00:08<00:00,  1.17it/s]\n"
          ]
        },
        {
          "output_type": "stream",
          "name": "stdout",
          "text": [
            "val Loss: 7.6693 MAE: 8.1580 RMSE: 10.0503\n",
            "\n",
            "Epoch 133/200\n",
            "----------\n"
          ]
        },
        {
          "output_type": "stream",
          "name": "stderr",
          "text": [
            "train: 100%|██████████| 40/40 [00:53<00:00,  1.35s/it]\n"
          ]
        },
        {
          "output_type": "stream",
          "name": "stdout",
          "text": [
            "train Loss: 6.6037 MAE: 7.0821 RMSE: 9.0354\n"
          ]
        },
        {
          "output_type": "stream",
          "name": "stderr",
          "text": [
            "val: 100%|██████████| 10/10 [00:09<00:00,  1.01it/s]\n"
          ]
        },
        {
          "output_type": "stream",
          "name": "stdout",
          "text": [
            "val Loss: 8.1145 MAE: 8.5864 RMSE: 10.5430\n",
            "\n",
            "Epoch 134/200\n",
            "----------\n"
          ]
        },
        {
          "output_type": "stream",
          "name": "stderr",
          "text": [
            "train: 100%|██████████| 40/40 [00:53<00:00,  1.34s/it]\n"
          ]
        },
        {
          "output_type": "stream",
          "name": "stdout",
          "text": [
            "train Loss: 6.2673 MAE: 6.7406 RMSE: 8.2685\n"
          ]
        },
        {
          "output_type": "stream",
          "name": "stderr",
          "text": [
            "val: 100%|██████████| 10/10 [00:09<00:00,  1.05it/s]\n"
          ]
        },
        {
          "output_type": "stream",
          "name": "stdout",
          "text": [
            "val Loss: 7.3459 MAE: 7.8267 RMSE: 9.8750\n",
            "\n",
            "Epoch 135/200\n",
            "----------\n"
          ]
        },
        {
          "output_type": "stream",
          "name": "stderr",
          "text": [
            "train: 100%|██████████| 40/40 [00:53<00:00,  1.35s/it]\n"
          ]
        },
        {
          "output_type": "stream",
          "name": "stdout",
          "text": [
            "train Loss: 6.4243 MAE: 6.9095 RMSE: 8.6019\n"
          ]
        },
        {
          "output_type": "stream",
          "name": "stderr",
          "text": [
            "val: 100%|██████████| 10/10 [00:09<00:00,  1.04it/s]\n"
          ]
        },
        {
          "output_type": "stream",
          "name": "stdout",
          "text": [
            "val Loss: 8.1244 MAE: 8.6134 RMSE: 10.6980\n",
            "\n",
            "Epoch 136/200\n",
            "----------\n"
          ]
        },
        {
          "output_type": "stream",
          "name": "stderr",
          "text": [
            "train: 100%|██████████| 40/40 [00:53<00:00,  1.34s/it]\n"
          ]
        },
        {
          "output_type": "stream",
          "name": "stdout",
          "text": [
            "train Loss: 6.7166 MAE: 7.2005 RMSE: 8.9982\n"
          ]
        },
        {
          "output_type": "stream",
          "name": "stderr",
          "text": [
            "val: 100%|██████████| 10/10 [00:10<00:00,  1.02s/it]\n"
          ]
        },
        {
          "output_type": "stream",
          "name": "stdout",
          "text": [
            "val Loss: 7.6785 MAE: 8.1505 RMSE: 10.2798\n",
            "\n",
            "Epoch 137/200\n",
            "----------\n"
          ]
        },
        {
          "output_type": "stream",
          "name": "stderr",
          "text": [
            "train: 100%|██████████| 40/40 [00:53<00:00,  1.33s/it]\n"
          ]
        },
        {
          "output_type": "stream",
          "name": "stdout",
          "text": [
            "train Loss: 6.1099 MAE: 6.5914 RMSE: 8.2530\n"
          ]
        },
        {
          "output_type": "stream",
          "name": "stderr",
          "text": [
            "val: 100%|██████████| 10/10 [00:09<00:00,  1.05it/s]\n"
          ]
        },
        {
          "output_type": "stream",
          "name": "stdout",
          "text": [
            "val Loss: 8.2291 MAE: 8.7090 RMSE: 10.8396\n",
            "\n",
            "Epoch 138/200\n",
            "----------\n"
          ]
        },
        {
          "output_type": "stream",
          "name": "stderr",
          "text": [
            "train: 100%|██████████| 40/40 [00:53<00:00,  1.33s/it]\n"
          ]
        },
        {
          "output_type": "stream",
          "name": "stdout",
          "text": [
            "train Loss: 6.6361 MAE: 7.1233 RMSE: 8.6760\n"
          ]
        },
        {
          "output_type": "stream",
          "name": "stderr",
          "text": [
            "val: 100%|██████████| 10/10 [00:10<00:00,  1.06s/it]\n"
          ]
        },
        {
          "output_type": "stream",
          "name": "stdout",
          "text": [
            "val Loss: 7.9384 MAE: 8.4258 RMSE: 10.5160\n",
            "\n",
            "Epoch 139/200\n",
            "----------\n"
          ]
        },
        {
          "output_type": "stream",
          "name": "stderr",
          "text": [
            "train: 100%|██████████| 40/40 [00:53<00:00,  1.33s/it]\n"
          ]
        },
        {
          "output_type": "stream",
          "name": "stdout",
          "text": [
            "train Loss: 6.3628 MAE: 6.8477 RMSE: 8.3185\n"
          ]
        },
        {
          "output_type": "stream",
          "name": "stderr",
          "text": [
            "val: 100%|██████████| 10/10 [00:09<00:00,  1.11it/s]\n"
          ]
        },
        {
          "output_type": "stream",
          "name": "stdout",
          "text": [
            "val Loss: 7.6017 MAE: 8.0835 RMSE: 9.9462\n",
            "\n",
            "Epoch 140/200\n",
            "----------\n"
          ]
        },
        {
          "output_type": "stream",
          "name": "stderr",
          "text": [
            "train: 100%|██████████| 40/40 [00:54<00:00,  1.37s/it]\n"
          ]
        },
        {
          "output_type": "stream",
          "name": "stdout",
          "text": [
            "train Loss: 6.3662 MAE: 6.8484 RMSE: 8.3740\n"
          ]
        },
        {
          "output_type": "stream",
          "name": "stderr",
          "text": [
            "val: 100%|██████████| 10/10 [00:10<00:00,  1.07s/it]\n"
          ]
        },
        {
          "output_type": "stream",
          "name": "stdout",
          "text": [
            "val Loss: 8.1198 MAE: 8.5951 RMSE: 10.7774\n",
            "Checkpoint saved at epoch 140\n",
            "\n",
            "Epoch 141/200\n",
            "----------\n"
          ]
        },
        {
          "output_type": "stream",
          "name": "stderr",
          "text": [
            "train: 100%|██████████| 40/40 [00:54<00:00,  1.35s/it]\n"
          ]
        },
        {
          "output_type": "stream",
          "name": "stdout",
          "text": [
            "train Loss: 7.7260 MAE: 8.2124 RMSE: 9.6934\n"
          ]
        },
        {
          "output_type": "stream",
          "name": "stderr",
          "text": [
            "val: 100%|██████████| 10/10 [00:09<00:00,  1.09it/s]\n"
          ]
        },
        {
          "output_type": "stream",
          "name": "stdout",
          "text": [
            "val Loss: 8.5289 MAE: 9.0096 RMSE: 11.0012\n",
            "\n",
            "Epoch 142/200\n",
            "----------\n"
          ]
        },
        {
          "output_type": "stream",
          "name": "stderr",
          "text": [
            "train: 100%|██████████| 40/40 [00:53<00:00,  1.34s/it]\n"
          ]
        },
        {
          "output_type": "stream",
          "name": "stdout",
          "text": [
            "train Loss: 6.9055 MAE: 7.3787 RMSE: 9.0732\n"
          ]
        },
        {
          "output_type": "stream",
          "name": "stderr",
          "text": [
            "val: 100%|██████████| 10/10 [00:09<00:00,  1.03it/s]\n"
          ]
        },
        {
          "output_type": "stream",
          "name": "stdout",
          "text": [
            "val Loss: 8.4967 MAE: 8.9867 RMSE: 10.8645\n",
            "\n",
            "Epoch 143/200\n",
            "----------\n"
          ]
        },
        {
          "output_type": "stream",
          "name": "stderr",
          "text": [
            "train: 100%|██████████| 40/40 [00:53<00:00,  1.34s/it]\n"
          ]
        },
        {
          "output_type": "stream",
          "name": "stdout",
          "text": [
            "train Loss: 6.1949 MAE: 6.6670 RMSE: 8.2768\n"
          ]
        },
        {
          "output_type": "stream",
          "name": "stderr",
          "text": [
            "val: 100%|██████████| 10/10 [00:10<00:00,  1.01s/it]\n"
          ]
        },
        {
          "output_type": "stream",
          "name": "stdout",
          "text": [
            "val Loss: 8.4402 MAE: 8.9246 RMSE: 11.2284\n",
            "\n",
            "Epoch 144/200\n",
            "----------\n"
          ]
        },
        {
          "output_type": "stream",
          "name": "stderr",
          "text": [
            "train: 100%|██████████| 40/40 [00:53<00:00,  1.34s/it]\n"
          ]
        },
        {
          "output_type": "stream",
          "name": "stdout",
          "text": [
            "train Loss: 6.9325 MAE: 7.4121 RMSE: 9.4009\n"
          ]
        },
        {
          "output_type": "stream",
          "name": "stderr",
          "text": [
            "val: 100%|██████████| 10/10 [00:10<00:00,  1.02s/it]\n"
          ]
        },
        {
          "output_type": "stream",
          "name": "stdout",
          "text": [
            "val Loss: 7.7467 MAE: 8.2285 RMSE: 10.2434\n",
            "\n",
            "Epoch 145/200\n",
            "----------\n"
          ]
        },
        {
          "output_type": "stream",
          "name": "stderr",
          "text": [
            "train: 100%|██████████| 40/40 [00:54<00:00,  1.35s/it]\n"
          ]
        },
        {
          "output_type": "stream",
          "name": "stdout",
          "text": [
            "train Loss: 6.8787 MAE: 7.3600 RMSE: 9.1962\n"
          ]
        },
        {
          "output_type": "stream",
          "name": "stderr",
          "text": [
            "val: 100%|██████████| 10/10 [00:09<00:00,  1.03it/s]\n"
          ]
        },
        {
          "output_type": "stream",
          "name": "stdout",
          "text": [
            "val Loss: 8.6947 MAE: 9.1780 RMSE: 11.4047\n",
            "\n",
            "Epoch 146/200\n",
            "----------\n"
          ]
        },
        {
          "output_type": "stream",
          "name": "stderr",
          "text": [
            "train: 100%|██████████| 40/40 [00:53<00:00,  1.33s/it]\n"
          ]
        },
        {
          "output_type": "stream",
          "name": "stdout",
          "text": [
            "train Loss: 6.9880 MAE: 7.4749 RMSE: 9.0018\n"
          ]
        },
        {
          "output_type": "stream",
          "name": "stderr",
          "text": [
            "val: 100%|██████████| 10/10 [00:09<00:00,  1.08it/s]\n"
          ]
        },
        {
          "output_type": "stream",
          "name": "stdout",
          "text": [
            "val Loss: 8.4110 MAE: 8.8895 RMSE: 11.1288\n",
            "\n",
            "Epoch 147/200\n",
            "----------\n"
          ]
        },
        {
          "output_type": "stream",
          "name": "stderr",
          "text": [
            "train: 100%|██████████| 40/40 [00:54<00:00,  1.35s/it]\n"
          ]
        },
        {
          "output_type": "stream",
          "name": "stdout",
          "text": [
            "train Loss: 6.4564 MAE: 6.9439 RMSE: 8.6478\n"
          ]
        },
        {
          "output_type": "stream",
          "name": "stderr",
          "text": [
            "val: 100%|██████████| 10/10 [00:09<00:00,  1.04it/s]\n"
          ]
        },
        {
          "output_type": "stream",
          "name": "stdout",
          "text": [
            "val Loss: 8.4378 MAE: 8.9171 RMSE: 10.8687\n",
            "\n",
            "Epoch 148/200\n",
            "----------\n"
          ]
        },
        {
          "output_type": "stream",
          "name": "stderr",
          "text": [
            "train: 100%|██████████| 40/40 [00:53<00:00,  1.34s/it]\n"
          ]
        },
        {
          "output_type": "stream",
          "name": "stdout",
          "text": [
            "train Loss: 6.4379 MAE: 6.9081 RMSE: 8.7724\n"
          ]
        },
        {
          "output_type": "stream",
          "name": "stderr",
          "text": [
            "val: 100%|██████████| 10/10 [00:08<00:00,  1.15it/s]\n"
          ]
        },
        {
          "output_type": "stream",
          "name": "stdout",
          "text": [
            "val Loss: 7.9740 MAE: 8.4437 RMSE: 10.6537\n",
            "\n",
            "Epoch 149/200\n",
            "----------\n"
          ]
        },
        {
          "output_type": "stream",
          "name": "stderr",
          "text": [
            "train: 100%|██████████| 40/40 [00:53<00:00,  1.34s/it]\n"
          ]
        },
        {
          "output_type": "stream",
          "name": "stdout",
          "text": [
            "train Loss: 6.7403 MAE: 7.2287 RMSE: 8.8154\n"
          ]
        },
        {
          "output_type": "stream",
          "name": "stderr",
          "text": [
            "val: 100%|██████████| 10/10 [00:10<00:00,  1.06s/it]\n"
          ]
        },
        {
          "output_type": "stream",
          "name": "stdout",
          "text": [
            "val Loss: 7.5996 MAE: 8.0732 RMSE: 10.2555\n",
            "\n",
            "Epoch 150/200\n",
            "----------\n"
          ]
        },
        {
          "output_type": "stream",
          "name": "stderr",
          "text": [
            "train: 100%|██████████| 40/40 [00:53<00:00,  1.34s/it]\n"
          ]
        },
        {
          "output_type": "stream",
          "name": "stdout",
          "text": [
            "train Loss: 6.2599 MAE: 6.7412 RMSE: 8.4004\n"
          ]
        },
        {
          "output_type": "stream",
          "name": "stderr",
          "text": [
            "val: 100%|██████████| 10/10 [00:10<00:00,  1.01s/it]\n"
          ]
        },
        {
          "output_type": "stream",
          "name": "stdout",
          "text": [
            "val Loss: 7.4794 MAE: 7.9548 RMSE: 10.2046\n",
            "Checkpoint saved at epoch 150\n",
            "\n",
            "Epoch 151/200\n",
            "----------\n"
          ]
        },
        {
          "output_type": "stream",
          "name": "stderr",
          "text": [
            "train: 100%|██████████| 40/40 [00:53<00:00,  1.34s/it]\n"
          ]
        },
        {
          "output_type": "stream",
          "name": "stdout",
          "text": [
            "train Loss: 6.5317 MAE: 7.0044 RMSE: 8.7907\n"
          ]
        },
        {
          "output_type": "stream",
          "name": "stderr",
          "text": [
            "val: 100%|██████████| 10/10 [00:08<00:00,  1.11it/s]\n"
          ]
        },
        {
          "output_type": "stream",
          "name": "stdout",
          "text": [
            "val Loss: 8.1412 MAE: 8.6293 RMSE: 10.8132\n",
            "\n",
            "Epoch 152/200\n",
            "----------\n"
          ]
        },
        {
          "output_type": "stream",
          "name": "stderr",
          "text": [
            "train: 100%|██████████| 40/40 [00:53<00:00,  1.35s/it]\n"
          ]
        },
        {
          "output_type": "stream",
          "name": "stdout",
          "text": [
            "train Loss: 6.8474 MAE: 7.3339 RMSE: 8.9225\n"
          ]
        },
        {
          "output_type": "stream",
          "name": "stderr",
          "text": [
            "val: 100%|██████████| 10/10 [00:10<00:00,  1.06s/it]\n"
          ]
        },
        {
          "output_type": "stream",
          "name": "stdout",
          "text": [
            "val Loss: 8.1073 MAE: 8.5940 RMSE: 10.7430\n",
            "\n",
            "Epoch 153/200\n",
            "----------\n"
          ]
        },
        {
          "output_type": "stream",
          "name": "stderr",
          "text": [
            "train: 100%|██████████| 40/40 [00:53<00:00,  1.33s/it]\n"
          ]
        },
        {
          "output_type": "stream",
          "name": "stdout",
          "text": [
            "train Loss: 7.3756 MAE: 7.8630 RMSE: 9.9405\n"
          ]
        },
        {
          "output_type": "stream",
          "name": "stderr",
          "text": [
            "val: 100%|██████████| 10/10 [00:09<00:00,  1.04it/s]\n"
          ]
        },
        {
          "output_type": "stream",
          "name": "stdout",
          "text": [
            "val Loss: 8.6218 MAE: 9.1073 RMSE: 11.2728\n",
            "\n",
            "Epoch 154/200\n",
            "----------\n"
          ]
        },
        {
          "output_type": "stream",
          "name": "stderr",
          "text": [
            "train: 100%|██████████| 40/40 [00:54<00:00,  1.37s/it]\n"
          ]
        },
        {
          "output_type": "stream",
          "name": "stdout",
          "text": [
            "train Loss: 7.3513 MAE: 7.8358 RMSE: 9.5226\n"
          ]
        },
        {
          "output_type": "stream",
          "name": "stderr",
          "text": [
            "val: 100%|██████████| 10/10 [00:10<00:00,  1.06s/it]\n"
          ]
        },
        {
          "output_type": "stream",
          "name": "stdout",
          "text": [
            "val Loss: 8.6906 MAE: 9.1781 RMSE: 11.3810\n",
            "\n",
            "Epoch 155/200\n",
            "----------\n"
          ]
        },
        {
          "output_type": "stream",
          "name": "stderr",
          "text": [
            "train: 100%|██████████| 40/40 [00:53<00:00,  1.34s/it]\n"
          ]
        },
        {
          "output_type": "stream",
          "name": "stdout",
          "text": [
            "train Loss: 6.7311 MAE: 7.2191 RMSE: 8.7270\n"
          ]
        },
        {
          "output_type": "stream",
          "name": "stderr",
          "text": [
            "val: 100%|██████████| 10/10 [00:10<00:00,  1.07s/it]\n"
          ]
        },
        {
          "output_type": "stream",
          "name": "stdout",
          "text": [
            "val Loss: 8.8278 MAE: 9.3117 RMSE: 11.6136\n",
            "\n",
            "Epoch 156/200\n",
            "----------\n"
          ]
        },
        {
          "output_type": "stream",
          "name": "stderr",
          "text": [
            "train: 100%|██████████| 40/40 [00:53<00:00,  1.34s/it]\n"
          ]
        },
        {
          "output_type": "stream",
          "name": "stdout",
          "text": [
            "train Loss: 6.4912 MAE: 6.9573 RMSE: 8.7018\n"
          ]
        },
        {
          "output_type": "stream",
          "name": "stderr",
          "text": [
            "val: 100%|██████████| 10/10 [00:09<00:00,  1.03it/s]\n"
          ]
        },
        {
          "output_type": "stream",
          "name": "stdout",
          "text": [
            "val Loss: 8.0928 MAE: 8.5563 RMSE: 10.7985\n",
            "\n",
            "Epoch 157/200\n",
            "----------\n"
          ]
        },
        {
          "output_type": "stream",
          "name": "stderr",
          "text": [
            "train: 100%|██████████| 40/40 [00:54<00:00,  1.36s/it]\n"
          ]
        },
        {
          "output_type": "stream",
          "name": "stdout",
          "text": [
            "train Loss: 7.4732 MAE: 7.9610 RMSE: 9.9071\n"
          ]
        },
        {
          "output_type": "stream",
          "name": "stderr",
          "text": [
            "val: 100%|██████████| 10/10 [00:09<00:00,  1.02it/s]\n"
          ]
        },
        {
          "output_type": "stream",
          "name": "stdout",
          "text": [
            "val Loss: 8.5087 MAE: 8.9963 RMSE: 11.2477\n",
            "\n",
            "Epoch 158/200\n",
            "----------\n"
          ]
        },
        {
          "output_type": "stream",
          "name": "stderr",
          "text": [
            "train: 100%|██████████| 40/40 [00:53<00:00,  1.35s/it]\n"
          ]
        },
        {
          "output_type": "stream",
          "name": "stdout",
          "text": [
            "train Loss: 6.5152 MAE: 6.9994 RMSE: 8.5869\n"
          ]
        },
        {
          "output_type": "stream",
          "name": "stderr",
          "text": [
            "val: 100%|██████████| 10/10 [00:09<00:00,  1.01it/s]\n"
          ]
        },
        {
          "output_type": "stream",
          "name": "stdout",
          "text": [
            "val Loss: 8.3081 MAE: 8.7982 RMSE: 10.7675\n",
            "\n",
            "Epoch 159/200\n",
            "----------\n"
          ]
        },
        {
          "output_type": "stream",
          "name": "stderr",
          "text": [
            "train: 100%|██████████| 40/40 [00:53<00:00,  1.35s/it]\n"
          ]
        },
        {
          "output_type": "stream",
          "name": "stdout",
          "text": [
            "train Loss: 6.4521 MAE: 6.9266 RMSE: 8.4493\n"
          ]
        },
        {
          "output_type": "stream",
          "name": "stderr",
          "text": [
            "val: 100%|██████████| 10/10 [00:10<00:00,  1.03s/it]\n"
          ]
        },
        {
          "output_type": "stream",
          "name": "stdout",
          "text": [
            "val Loss: 7.9102 MAE: 8.3924 RMSE: 10.4422\n",
            "\n",
            "Epoch 160/200\n",
            "----------\n"
          ]
        },
        {
          "output_type": "stream",
          "name": "stderr",
          "text": [
            "train:  30%|███       | 12/40 [00:16<00:36,  1.31s/it]"
          ]
        }
      ]
    },
    {
      "cell_type": "code",
      "source": [
        "import torch\n",
        "from sklearn.metrics import mean_absolute_error, mean_squared_error\n",
        "import numpy as np\n",
        "\n",
        "final_model_path = '/content/drive/MyDrive/visual_stream/model/final_model.pth'\n",
        "model.load_state_dict(torch.load(final_model_path, map_location=device))\n",
        "model.to(device)\n",
        "model.eval()\n",
        "\n",
        "all_preds = []\n",
        "all_labels = []\n",
        "\n",
        "with torch.no_grad():\n",
        "    for inputs, labels in tqdm(test_loader, desc=\"Testing\"):\n",
        "        inputs = inputs.to(device)\n",
        "        labels = labels.to(device)\n",
        "\n",
        "        outputs = model(inputs)\n",
        "        all_preds.extend(outputs.cpu().numpy())\n",
        "        all_labels.extend(labels.cpu().numpy())\n",
        "\n",
        "y_true = np.array(all_labels)\n",
        "y_pred = np.array(all_preds)\n",
        "\n",
        "mae = mean_absolute_error(y_true, y_pred)\n",
        "mse = mean_squared_error(y_true, y_pred)\n",
        "rmse = np.sqrt(mse)\n",
        "\n",
        "print(f\"\\n Test Set Evaluation:\")\n",
        "print(f\"🔹 MAE  = {mae:.4f}\")\n",
        "print(f\"🔹 RMSE = {rmse:.4f}\")\n"
      ],
      "metadata": {
        "colab": {
          "base_uri": "https://localhost:8080/"
        },
        "id": "Sh3iQGBYbfCH",
        "outputId": "06a4e846-4772-4bd4-9a83-27ebb2c43883"
      },
      "execution_count": null,
      "outputs": [
        {
          "output_type": "stream",
          "name": "stderr",
          "text": [
            "Testing: 100%|██████████| 25/25 [00:23<00:00,  1.06it/s]"
          ]
        },
        {
          "output_type": "stream",
          "name": "stdout",
          "text": [
            "\n",
            "📊 Test Set Evaluation:\n",
            "🔹 MAE  = 14.5125\n",
            "🔹 RMSE = 18.5050\n"
          ]
        },
        {
          "output_type": "stream",
          "name": "stderr",
          "text": [
            "\n"
          ]
        }
      ]
    },
    {
      "cell_type": "code",
      "source": [
        "import os\n",
        "os.environ['PYTORCH_CUDA_ALLOC_CONF'] = 'expandable_segments:True'\n",
        "import torch\n",
        "import torch.nn as nn\n",
        "import torch.optim as optim\n",
        "from torch.utils.data import Dataset, DataLoader\n",
        "from torchvision import transforms\n",
        "import numpy as np\n",
        "import pandas as pd\n",
        "from PIL import Image\n",
        "import time\n",
        "import copy\n",
        "import random\n",
        "from tqdm import tqdm\n",
        "import torch.nn.functional as F\n",
        "from torch.cuda.amp import autocast, GradScaler\n",
        "from sklearn.model_selection import train_test_split\n",
        "from torch.amp import autocast\n",
        "\n",
        "SKIP_TRAINING = True\n",
        "\n",
        "import torchvision.models as models\n",
        "from torch.hub import load_state_dict_from_url\n",
        "\n",
        "vggface2_url = 'https://www.robots.ox.ac.uk/~albanie/models/pytorch-mcn/resnet18_ft_dag.py'\n",
        "vggface2_weights = 'https://www.robots.ox.ac.uk/~albanie/models/pytorch-mcn/resnet18_ft_dag.pth'\n",
        "\n",
        "class VGGFace2ResNet18(nn.Module):\n",
        "    def __init__(self):\n",
        "        super().__init__()\n",
        "        self.model = models.resnet18(pretrained=False)\n",
        "        self.model = models.resnet18(weights=models.ResNet18_Weights.IMAGENET1K_V1)\n",
        "        self.features = nn.Sequential(\n",
        "            *list(self.model.children())[:-2],\n",
        "            nn.Dropout2d(0.2)\n",
        "        )\n",
        "\n",
        "    def forward(self, x):\n",
        "        return self.features(x)\n",
        "\n",
        "device = torch.device(\"cuda:0\" if torch.cuda.is_available() else \"cpu\")\n",
        "print(f\"Using device: {device}\")\n",
        "\n",
        "os.makedirs(CHECKPOINT_DIR, exist_ok=True)\n",
        "os.makedirs(MODEL_DIR, exist_ok=True)\n",
        "\n",
        "class AVECDataset(Dataset):\n",
        "    def __init__(self, video_dirs, labels, root_dir, transform=None, sequence_length=64):\n",
        "        self.video_dirs = video_dirs\n",
        "        self.labels = labels\n",
        "        self.root_dir = root_dir\n",
        "        self.transform = transform\n",
        "        self.sequence_length = sequence_length\n",
        "        self.frame_cache = {}\n",
        "\n",
        "        self.video_frame_paths = {}\n",
        "        for video_dir in self.video_dirs:\n",
        "            full_path = os.path.join(self.root_dir, video_dir)\n",
        "            frame_files = sorted([\n",
        "                os.path.join(full_path, f)\n",
        "                for f in os.listdir(full_path)\n",
        "                if f.endswith('.jpg') and f.split('.')[0].isdigit()\n",
        "            ])\n",
        "            self.video_frame_paths[video_dir] = frame_files\n",
        "\n",
        "    def __len__(self):\n",
        "        return len(self.video_dirs)\n",
        "\n",
        "    def __getitem__(self, idx):\n",
        "        video_dir = self.video_dirs[idx]\n",
        "        frame_paths = self.video_frame_paths[video_dir]\n",
        "        label = self.labels[idx]\n",
        "\n",
        "        if video_dir in self.frame_cache:\n",
        "            images = self.frame_cache[video_dir]\n",
        "        else:\n",
        "            if len(frame_paths) > self.sequence_length:\n",
        "                start_idx = random.randint(0, len(frame_paths) - self.sequence_length)\n",
        "                selected_paths = frame_paths[start_idx:start_idx + self.sequence_length]\n",
        "            else:\n",
        "                selected_paths = frame_paths\n",
        "                if len(frame_paths) < self.sequence_length:\n",
        "                    padding = [frame_paths[-1]] * (self.sequence_length - len(frame_paths))\n",
        "                    selected_paths = frame_paths + padding\n",
        "\n",
        "            images = []\n",
        "            for frame_path in selected_paths:\n",
        "                image = Image.open(frame_path)\n",
        "                if self.transform:\n",
        "                    image = self.transform(image)\n",
        "                images.append(image)\n",
        "\n",
        "            images = torch.stack(images)\n",
        "            self.frame_cache[video_dir] = images\n",
        "\n",
        "        return images, torch.tensor(label, dtype=torch.float32)\n",
        "\n",
        "data_transforms = {\n",
        "    'train': transforms.Compose([\n",
        "        transforms.Resize(256),\n",
        "        transforms.RandomResizedCrop(224, scale=(0.8, 1.0)),\n",
        "        transforms.RandomHorizontalFlip(),\n",
        "        transforms.RandomApply([\n",
        "            transforms.ColorJitter(0.4, 0.4, 0.4, 0.1)\n",
        "        ], p=0.8),\n",
        "        transforms.RandomGrayscale(p=0.2),\n",
        "        transforms.RandomRotation(10),\n",
        "        transforms.ToTensor(),\n",
        "        transforms.Normalize(mean=[0.36703529, 0.41083294, 0.50661294],\n",
        "                            std=[0.20352747, 0.18912326, 0.19315913]),\n",
        "        transforms.RandomErasing(p=0.2, scale=(0.02, 0.1))\n",
        "    ]),\n",
        "    'val': transforms.Compose([\n",
        "        transforms.Resize(256),\n",
        "        transforms.CenterCrop(224),\n",
        "        transforms.ToTensor(),\n",
        "        transforms.Normalize(mean=[0.36703529, 0.41083294, 0.50661294],\n",
        "                            std=[0.20352747, 0.18912326, 0.19315913])\n",
        "    ]),\n",
        "}\n",
        "\n",
        "csv_file = '/content/dataset/avec14/labels.csv'\n",
        "root_dir = '/content/dataset/avec14/image/'\n",
        "full_df = pd.read_csv(csv_file)\n",
        "train_val_df = full_df.iloc[:200]\n",
        "test_df = full_df.iloc[-100:]\n",
        "train_df, val_df = train_test_split(train_val_df, test_size=0.2, random_state=42)\n",
        "\n",
        "train_dataset = AVECDataset(\n",
        "    video_dirs=train_df['filename'].tolist(),\n",
        "    labels=train_df['BDI-II'].tolist(),\n",
        "    root_dir=root_dir,\n",
        "    transform=data_transforms['train']\n",
        ")\n",
        "val_dataset = AVECDataset(\n",
        "    video_dirs=val_df['filename'].tolist(),\n",
        "    labels=val_df['BDI-II'].tolist(),\n",
        "    root_dir=root_dir,\n",
        "    transform=data_transforms['val']\n",
        ")\n",
        "test_dataset = AVECDataset(\n",
        "    video_dirs=test_df['filename'].tolist(),\n",
        "    labels=test_df['BDI-II'].tolist(),\n",
        "    root_dir=root_dir,\n",
        "    transform=data_transforms['val']\n",
        ")\n",
        "\n",
        "batch_size = 4\n",
        "train_loader = DataLoader(train_dataset, batch_size=batch_size,\n",
        "                         shuffle=True, num_workers=1, pin_memory=True,\n",
        "                         persistent_workers=False)\n",
        "val_loader = DataLoader(val_dataset, batch_size=batch_size,\n",
        "                       shuffle=False, num_workers=1, pin_memory=True,\n",
        "                       persistent_workers=False)\n",
        "test_loader = DataLoader(test_dataset, batch_size=batch_size,\n",
        "                        shuffle=False, num_workers=1, pin_memory=True, persistent_workers=False)\n",
        "\n",
        "class TemporalAttention(nn.Module):\n",
        "    def __init__(self, dim, num_heads=4):\n",
        "        super().__init__()\n",
        "        self.num_heads = num_heads\n",
        "        self.scale = (dim // num_heads) ** -0.5\n",
        "\n",
        "        self.to_qkv = nn.Linear(dim, dim * 3)\n",
        "        self.to_out = nn.Sequential(\n",
        "            nn.Linear(dim, dim),\n",
        "            nn.Dropout(0.1)\n",
        "        )\n",
        "\n",
        "    def forward(self, x):\n",
        "        b, t, d = x.shape\n",
        "        qkv = self.to_qkv(x).chunk(3, dim=-1)\n",
        "        q, k, v = map(lambda tensor: tensor.view(b, t, self.num_heads, -1).transpose(1, 2), qkv)\n",
        "\n",
        "        dots = torch.matmul(q, k.transpose(-1, -2)) * self.scale\n",
        "        attn = dots.softmax(dim=-1)\n",
        "\n",
        "        out = torch.matmul(attn, v)\n",
        "        out = out.transpose(1, 2).reshape(b, t, -1)\n",
        "        return self.to_out(out)\n",
        "\n",
        "class EfficientVisualStream(nn.Module):\n",
        "    def __init__(self):\n",
        "        super().__init__()\n",
        "\n",
        "        self.backbone = VGGFace2ResNet18()\n",
        "\n",
        "        self.temporal_downsample = nn.Sequential(\n",
        "            nn.Conv1d(512, 256, kernel_size=3, stride=2, padding=1),\n",
        "            nn.BatchNorm1d(256),\n",
        "            nn.GELU(),\n",
        "            nn.Dropout(0.3),\n",
        "\n",
        "            nn.Conv1d(256, 128, kernel_size=3, stride=2, padding=1),\n",
        "            nn.BatchNorm1d(128),\n",
        "            nn.GELU()\n",
        "        )\n",
        "\n",
        "        self.temporal_attention = TemporalAttention(dim=128)\n",
        "\n",
        "        self.head = nn.Sequential(\n",
        "            nn.LayerNorm(128),\n",
        "            nn.Linear(128, 64),\n",
        "            nn.GELU(),\n",
        "            nn.Dropout(0.4),\n",
        "            nn.Linear(64, 1)\n",
        "        )\n",
        "\n",
        "    def forward(self, x):\n",
        "        B, T = x.shape[:2]\n",
        "\n",
        "        features = []\n",
        "        for i in range(0, T, 16):\n",
        "            chunk = x[:, i:i+16].contiguous().view(-1, *x.shape[2:])\n",
        "            with autocast(device_type='cuda'):\n",
        "                feat = self.backbone(chunk)\n",
        "                feat = F.adaptive_avg_pool2d(feat, (1, 1))\n",
        "            features.append(feat.view(B, -1, 512))\n",
        "        x = torch.cat(features, dim=1)\n",
        "\n",
        "        x = x.transpose(1, 2)\n",
        "        x = self.temporal_downsample(x)\n",
        "        x = x.transpose(1, 2)\n",
        "\n",
        "        x = self.temporal_attention(x)\n",
        "\n",
        "        x = x.mean(dim=1)\n",
        "\n",
        "        return self.head(x).squeeze()\n",
        "\n",
        "model = EfficientVisualStream().to(device)\n",
        "\n",
        "criterion = nn.SmoothL1Loss(beta=0.5)\n",
        "optimizer = optim.AdamW(model.parameters(), lr=2e-4, weight_decay=0.05)\n",
        "scaler = GradScaler()\n",
        "\n",
        "scheduler = optim.lr_scheduler.OneCycleLR(\n",
        "    optimizer,\n",
        "    max_lr=1e-3,\n",
        "    steps_per_epoch=len(train_loader),\n",
        "    epochs=100,\n",
        "    pct_start=0.3,\n",
        "    anneal_strategy='cos'\n",
        ")\n",
        "\n",
        "def train_epoch(model, loader, optimizer, scheduler, scaler, accumulation_steps=4):\n",
        "    model.train()\n",
        "    total_loss = 0\n",
        "\n",
        "    for i, (inputs, labels) in enumerate(tqdm(loader, desc=\"Training\")):\n",
        "        inputs = inputs.to(device, non_blocking=True)\n",
        "        labels = labels.to(device, non_blocking=True)\n",
        "\n",
        "        with autocast(device_type='cuda'):\n",
        "            outputs = model(inputs)\n",
        "            loss = criterion(outputs, labels) / accumulation_steps\n",
        "\n",
        "        scaler.scale(loss).backward()\n",
        "\n",
        "        if (i+1) % accumulation_steps == 0 or (i+1) == len(loader):\n",
        "            scaler.step(optimizer)\n",
        "            scaler.update()\n",
        "            optimizer.zero_grad()\n",
        "            scheduler.step()\n",
        "\n",
        "        total_loss += loss.item() * accumulation_steps\n",
        "\n",
        "    return total_loss / len(loader)\n",
        "\n",
        "def validate(model, loader):\n",
        "    model.eval()\n",
        "    preds, truths = [], []\n",
        "\n",
        "    with torch.no_grad():\n",
        "      with autocast(device_type='cuda'):\n",
        "        for inputs, labels in tqdm(loader, desc=\"Validation\"):\n",
        "            inputs = inputs.to(device, non_blocking=True)\n",
        "            outputs = model(inputs)\n",
        "            preds.append(outputs.cpu())\n",
        "            truths.append(labels.cpu())\n",
        "\n",
        "    preds = torch.cat(preds)\n",
        "    truths = torch.cat(truths)\n",
        "    mae = F.l1_loss(preds, truths).item()\n",
        "    rmse = torch.sqrt(F.mse_loss(preds, truths)).item()\n",
        "\n",
        "    return mae, rmse\n",
        "\n",
        "def train_model(model, train_loader, val_loader, optimizer, scheduler, num_epochs=100):\n",
        "    best_mae = float('inf')\n",
        "    scaler = GradScaler()\n",
        "\n",
        "    for epoch in range(num_epochs):\n",
        "        print(f\"\\nEpoch {epoch+1}/{num_epochs}\")\n",
        "\n",
        "        train_loss = train_epoch(model, train_loader, optimizer, scheduler, scaler)\n",
        "\n",
        "        val_mae, val_rmse = validate(model, val_loader)\n",
        "\n",
        "        print(f\"Train Loss: {train_loss:.4f} | Val MAE: {val_mae:.4f} | Val RMSE: {val_rmse:.4f}\")\n",
        "\n",
        "        if val_mae < best_mae:\n",
        "            best_mae = val_mae\n",
        "            torch.save(model.state_dict(), os.path.join(MODEL_DIR, 'best_model.pth'))\n",
        "            print(f\"New best model! MAE: {best_mae:.4f}\")\n",
        "\n",
        "        if (epoch+1) % 10 == 0:\n",
        "            checkpoint_path = os.path.join(CHECKPOINT_DIR, f'epoch_{epoch+1}.pth')\n",
        "            torch.save({\n",
        "                'epoch': epoch,\n",
        "                'model_state_dict': model.state_dict(),\n",
        "                'optimizer_state_dict': optimizer.state_dict(),\n",
        "                'scheduler_state_dict': scheduler.state_dict(),\n",
        "                'best_mae': best_mae,\n",
        "            }, checkpoint_path)\n",
        "\n",
        "if not SKIP_TRAINING:\n",
        "    train_model(model, train_loader, val_loader, optimizer, scheduler, num_epochs=100)\n",
        "else:\n",
        "    print(\"Skipping training — loading saved model...\")\n",
        "    model.load_state_dict(torch.load(os.path.join(MODEL_DIR, 'best_model.pth')))\n",
        "def test_with_tta(model, loader, n_tta=5):\n",
        "    model.eval()\n",
        "    preds, truths = [], []\n",
        "\n",
        "    with torch.no_grad():\n",
        "        for inputs, labels in tqdm(loader, desc=\"Testing\"):\n",
        "            inputs = inputs.to(device)\n",
        "            labels = labels.to(device)\n",
        "            B, T, C, H, W = inputs.shape\n",
        "            batch_preds = []\n",
        "\n",
        "            for _ in range(n_tta):\n",
        "                tta_inputs = []\n",
        "\n",
        "                for b in range(B):\n",
        "                    frames = inputs[b]\n",
        "                    aug_frames = []\n",
        "\n",
        "                    for t in range(T):\n",
        "                        img = (frames[t].cpu().permute(1, 2, 0).numpy() * 255).astype('uint8')\n",
        "                        pil_img = Image.fromarray(img)\n",
        "                        transformed = data_transforms['train'](pil_img)\n",
        "                        aug_frames.append(transformed)\n",
        "\n",
        "                    aug_frames = torch.stack(aug_frames).to(device)\n",
        "                    tta_inputs.append(aug_frames)\n",
        "\n",
        "                tta_inputs = torch.stack(tta_inputs)\n",
        "\n",
        "                with autocast(device_type='cuda'):\n",
        "                    outputs = model(tta_inputs)\n",
        "                    batch_preds.append(outputs.cpu())\n",
        "\n",
        "            preds.append(torch.stack(batch_preds).mean(0))\n",
        "            truths.append(labels.cpu())\n",
        "\n",
        "    preds = torch.cat(preds)\n",
        "    truths = torch.cat(truths)\n",
        "\n",
        "    mae = F.l1_loss(preds, truths).item()\n",
        "    rmse = torch.sqrt(F.mse_loss(preds, truths)).item()\n",
        "\n",
        "    return mae, rmse\n",
        "\n",
        "\n",
        "model.load_state_dict(torch.load(os.path.join(MODEL_DIR, 'best_model.pth')))\n",
        "test_mae, test_rmse = test_with_tta(model, test_loader)\n",
        "print(f\"\\nFinal Test MAE: {test_mae:.4f}, Test RMSE: {test_rmse:.4f}\")"
      ],
      "metadata": {
        "colab": {
          "base_uri": "https://localhost:8080/"
        },
        "id": "ZrjDZYYtQlcd",
        "outputId": "9d6e74e7-f72f-46a2-c80e-a93525adf2cb"
      },
      "execution_count": null,
      "outputs": [
        {
          "output_type": "stream",
          "name": "stdout",
          "text": [
            "Using device: cuda:0\n"
          ]
        },
        {
          "output_type": "stream",
          "name": "stderr",
          "text": [
            "/usr/local/lib/python3.11/dist-packages/torchvision/models/_utils.py:208: UserWarning: The parameter 'pretrained' is deprecated since 0.13 and may be removed in the future, please use 'weights' instead.\n",
            "  warnings.warn(\n",
            "/usr/local/lib/python3.11/dist-packages/torchvision/models/_utils.py:223: UserWarning: Arguments other than a weight enum or `None` for 'weights' are deprecated since 0.13 and may be removed in the future. The current behavior is equivalent to passing `weights=None`.\n",
            "  warnings.warn(msg)\n",
            "/tmp/ipython-input-12-699287594.py:262: FutureWarning: `torch.cuda.amp.GradScaler(args...)` is deprecated. Please use `torch.amp.GradScaler('cuda', args...)` instead.\n",
            "  scaler = GradScaler()\n"
          ]
        },
        {
          "output_type": "stream",
          "name": "stdout",
          "text": [
            "🔁 Skipping training — loading saved model...\n"
          ]
        },
        {
          "output_type": "stream",
          "name": "stderr",
          "text": [
            "Testing: 100%|██████████| 25/25 [05:50<00:00, 14.03s/it]"
          ]
        },
        {
          "output_type": "stream",
          "name": "stdout",
          "text": [
            "\n",
            "Final Test MAE: 9.7549, Test RMSE: 11.5653\n"
          ]
        },
        {
          "output_type": "stream",
          "name": "stderr",
          "text": [
            "\n"
          ]
        }
      ]
    }
  ]
}